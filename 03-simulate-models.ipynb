{
 "cells": [
  {
   "cell_type": "markdown",
   "metadata": {},
   "source": [
    "# Simulate models\n",
    "\n",
    "cameo uses and extends the model data structures defined by [cobrapy](https://opencobra.github.io/cobrapy/), our favorite COnstraints-Based Reconstruction and Analysis tool for Python. cameo is thus 100% compatible with cobrapy. For efficiency reasons, however, cameo implements its own simulation methods that take advantage of a more advanced solver interface."
   ]
  },
  {
   "cell_type": "markdown",
   "metadata": {},
   "source": [
    "## Primer: Constraint-Based Modeling\n",
    "\n",
    "Constraint-based modeling is a powerful modeling framework for analyzing metabolism on the genome scale ([McCloskey et al., 2013](http://www.ncbi.nlm.nih.gov/pubmed/23632383)). For a model that encompasses $n$ reactions that involve $m$ metabolites, $\\mathbf{S}$ is a matrix of dimension $m \\times n$ that encodes the stoichiometry of the metabolic reaction system; it is usually referred to as stoichiometric matrix. Assuming that the system is in a steady state—the concentration of metabolites are constant—the system of flux-balances can be formulated as\n",
    "\n",
    "$$\n",
    "\\begin{align}\n",
    "\\mathbf{S} \\mathbf{v} = 0\\,,\n",
    "\\end{align}\n",
    "$$\n",
    "\n",
    "where $\\mathbf{v}$ is the vector of flux rates. With the addition of a biologically meaningful objective, flux capacity constraints, information about the reversibility of reactions under physiological conditions, an optimization problem can be formulated that can easily be solved using [linear programming](https://en.wikipedia.org/wiki/Linear_programming).\n",
    "\n",
    "\n",
    ", e.g., maximimization of biomass production,Given the maximization of growth rate as one potential biological objective $v_{biomass}$, i.e., the flux of an artificial reaction that consumes biomass components in empirically determined proportions, and assuming that the cell is evolutionary optimized to achieve that objective, and incorporating knowledge about reaction reversibility,  uptake and secretion rates, and maximum flux capacities in the form of lower and uppers bounds ($\\mathbf{v}_{lb}$ and $\\mathbf{v}_{ub}$) on the flux variables $\\mathbf{v}$, one can formulate and solve an optimization problem to identify an optimal set of flux rates using flux balance analysis (FBA):\n",
    "\n",
    "$$\n",
    "\\begin{align}\n",
    " Max ~ & ~ Z_{obj} = \\mathbf{c}^{T} \\mathbf{v}\\\\\n",
    " \\text{s.t.}~ & ~ \\mathbf{S} \\mathbf{v} = 0 \\\\\n",
    " ~ & ~ \\mathbf{v}_{lb} \\leq \\mathbf{v} \\leq \\mathbf{v}_{ub} \\,.\n",
    "\\end{align}\n",
    "$$"
   ]
  },
  {
   "cell_type": "markdown",
   "metadata": {},
   "source": [
    "## Flux Balance Analysis\n",
    "\n",
    "Load a model."
   ]
  },
  {
   "cell_type": "code",
   "execution_count": 5,
   "metadata": {
    "collapsed": true
   },
   "outputs": [],
   "source": [
    "from cameo import load_model\n",
    "model = load_model('iJO1366')"
   ]
  },
  {
   "cell_type": "markdown",
   "metadata": {},
   "source": [
    "In cameo, flux balance analysis can be performed with the function `fba`."
   ]
  },
  {
   "cell_type": "code",
   "execution_count": 7,
   "metadata": {
    "collapsed": false
   },
   "outputs": [
    {
     "name": "stdout",
     "output_type": "stream",
     "text": [
      "CPU times: user 410 ms, sys: 6.43 ms, total: 416 ms\n",
      "Wall time: 421 ms\n"
     ]
    }
   ],
   "source": [
    "from cameo import fba\n",
    "%time fba_result = fba(model)"
   ]
  },
  {
   "cell_type": "markdown",
   "metadata": {},
   "source": [
    "Basically, `fba` calls `model.solve()` and wraps the optimization solution in a `FluxDistributionResult` object. The maximum objective values (corresponding to a maximum growth rate) can obtained throug `result.objective_value`."
   ]
  },
  {
   "cell_type": "code",
   "execution_count": 8,
   "metadata": {
    "collapsed": false
   },
   "outputs": [
    {
     "data": {
      "text/html": [
       "<div>\n",
       "<table border=\"1\" class=\"dataframe\">\n",
       "  <thead>\n",
       "    <tr style=\"text-align: right;\">\n",
       "      <th></th>\n",
       "      <th>flux</th>\n",
       "    </tr>\n",
       "  </thead>\n",
       "  <tbody>\n",
       "    <tr>\n",
       "      <th>DM_4crsol_c</th>\n",
       "      <td>0.000219</td>\n",
       "    </tr>\n",
       "    <tr>\n",
       "      <th>DM_5drib_c</th>\n",
       "      <td>0.000221</td>\n",
       "    </tr>\n",
       "    <tr>\n",
       "      <th>DM_aacald_c</th>\n",
       "      <td>0.000000</td>\n",
       "    </tr>\n",
       "    <tr>\n",
       "      <th>DM_amob_c</th>\n",
       "      <td>0.000002</td>\n",
       "    </tr>\n",
       "    <tr>\n",
       "      <th>...</th>\n",
       "      <td>...</td>\n",
       "    </tr>\n",
       "    <tr>\n",
       "      <th>ZN2t3pp</th>\n",
       "      <td>0.000000</td>\n",
       "    </tr>\n",
       "    <tr>\n",
       "      <th>ZN2tpp</th>\n",
       "      <td>0.000335</td>\n",
       "    </tr>\n",
       "    <tr>\n",
       "      <th>ZNabcpp</th>\n",
       "      <td>0.000000</td>\n",
       "    </tr>\n",
       "    <tr>\n",
       "      <th>Zn2tex</th>\n",
       "      <td>0.000335</td>\n",
       "    </tr>\n",
       "  </tbody>\n",
       "</table>\n",
       "<p>2583 rows × 1 columns</p>\n",
       "</div>"
      ],
      "text/plain": [
       "                 flux\n",
       "DM_4crsol_c  0.000219\n",
       "DM_5drib_c   0.000221\n",
       "DM_aacald_c  0.000000\n",
       "DM_amob_c    0.000002\n",
       "...               ...\n",
       "ZN2t3pp      0.000000\n",
       "ZN2tpp       0.000335\n",
       "ZNabcpp      0.000000\n",
       "Zn2tex       0.000335\n",
       "\n",
       "[2583 rows x 1 columns]"
      ]
     },
     "execution_count": 8,
     "metadata": {},
     "output_type": "execute_result"
    }
   ],
   "source": [
    "fba_result.data_frame"
   ]
  },
  {
   "cell_type": "markdown",
   "metadata": {},
   "source": [
    "## Parsimonious Flux Balance Analysis\n",
    "\n",
    "Parsimonious flux balance analysis ([Lewis et al., 2010](http://www.ncbi.nlm.nih.gov/pubmed/20664636)), a variant of FBA, performs FBA in in a first step to determine the maximum objective value $Z_{obj}$, fixes it in form of an additional model constraint ($\\mathbf{c}^{T} \\mathbf{v} \\ge Z_{obj}$), and then minimizes in a second optimization the $L_1$ norm of $\\mathbf{v}$. The assumption behind pFBA is that cells try to minimize flux magnitude as well in order to keep protein costs low.\n",
    "\n",
    "$$\n",
    "\\begin{align}\n",
    " Max ~ & ~ \\lvert \\mathbf{v} \\rvert\\\\\n",
    " \\text{s.t.}~ & ~ \\mathbf{S} \\mathbf{v} = 0 \\\\\n",
    " & ~ \\mathbf{c}^{T} \\mathbf{v} \\ge Z_{obj} \\\\\n",
    " ~ & ~ \\mathbf{v}_{lb} \\leq \\mathbf{v} \\leq \\mathbf{v}_{ub} \\,.\n",
    "\\end{align}\n",
    "$$\n",
    "\n",
    "In cameo, pFBA can be performed with the function `pfba`."
   ]
  },
  {
   "cell_type": "code",
   "execution_count": 9,
   "metadata": {
    "collapsed": false,
    "scrolled": true
   },
   "outputs": [
    {
     "name": "stdout",
     "output_type": "stream",
     "text": [
      "CPU times: user 429 ms, sys: 19 ms, total: 448 ms\n",
      "Wall time: 460 ms\n"
     ]
    }
   ],
   "source": [
    "from cameo import pfba\n",
    "%time pfba_result = pfba(model)"
   ]
  },
  {
   "cell_type": "markdown",
   "metadata": {},
   "source": [
    "The `objective_function` value is $\\lvert \\mathbf{v} \\rvert$ ..."
   ]
  },
  {
   "cell_type": "code",
   "execution_count": 10,
   "metadata": {
    "collapsed": false
   },
   "outputs": [
    {
     "data": {
      "text/plain": [
       "699.0222751839472"
      ]
     },
     "execution_count": 10,
     "metadata": {},
     "output_type": "execute_result"
    }
   ],
   "source": [
    "pfba_result.objective_value"
   ]
  },
  {
   "cell_type": "markdown",
   "metadata": {},
   "source": [
    "... whis is significantly smaller than flux vector of the original FBA solution."
   ]
  },
  {
   "cell_type": "code",
   "execution_count": 11,
   "metadata": {
    "collapsed": false
   },
   "outputs": [
    {
     "data": {
      "text/plain": [
       "702.81946544045991"
      ]
     },
     "execution_count": 11,
     "metadata": {},
     "output_type": "execute_result"
    }
   ],
   "source": [
    "abs(fba_result.data_frame.flux).sum()"
   ]
  },
  {
   "cell_type": "markdown",
   "metadata": {},
   "source": [
    "Setp 2: Simulate knockouts phenotypes\n",
    "-----------------------------------\n",
    "\n",
    "Although PFBA and FBA can be used to simulate the effect of knockouts, other methods have been proven more valuable for that task: MOMA and ROOM. In *cameo* we implement a linear version of MOMA.\n",
    "\n",
    "*******************************************\n",
    "Simulating knockouts:\n",
    "\n",
    "* Manipulate the bounds of the reaction (or use the shorthand method knock_out)"
   ]
  },
  {
   "cell_type": "code",
   "execution_count": 12,
   "metadata": {
    "collapsed": false
   },
   "outputs": [
    {
     "data": {
      "text/html": [
       "\n",
       "        <table>\n",
       "            <tr>\n",
       "                <td><strong>Id</strong></td><td>PGI</td>\n",
       "            </tr>\n",
       "            <tr>\n",
       "                <td><strong>Name</strong></td><td>Glucose-6-phosphate isomerase</td>\n",
       "            </tr>\n",
       "            <tr>\n",
       "                <td><strong>Stoichiometry</strong></td><td>g6p_c <=> f6p_c</td>\n",
       "            </tr>\n",
       "            <tr>\n",
       "                <td><strong>Lower bound</strong></td><td>-1000.000000</td>\n",
       "            </tr>\n",
       "            <tr>\n",
       "                <td><strong>Upper bound</strong></td><td>1000.000000</td>\n",
       "            </tr>\n",
       "        </table>\n",
       "        "
      ],
      "text/plain": [
       "<Reaction PGI at 0x11a614128>"
      ]
     },
     "execution_count": 12,
     "metadata": {},
     "output_type": "execute_result"
    }
   ],
   "source": [
    "model.reactions.PGI"
   ]
  },
  {
   "cell_type": "code",
   "execution_count": 13,
   "metadata": {
    "collapsed": false
   },
   "outputs": [
    {
     "data": {
      "text/html": [
       "\n",
       "        <table>\n",
       "            <tr>\n",
       "                <td><strong>Id</strong></td><td>PGI</td>\n",
       "            </tr>\n",
       "            <tr>\n",
       "                <td><strong>Name</strong></td><td>Glucose-6-phosphate isomerase</td>\n",
       "            </tr>\n",
       "            <tr>\n",
       "                <td><strong>Stoichiometry</strong></td><td>g6p_c --> f6p_c</td>\n",
       "            </tr>\n",
       "            <tr>\n",
       "                <td><strong>Lower bound</strong></td><td>0.000000</td>\n",
       "            </tr>\n",
       "            <tr>\n",
       "                <td><strong>Upper bound</strong></td><td>0.000000</td>\n",
       "            </tr>\n",
       "        </table>\n",
       "        "
      ],
      "text/plain": [
       "<Reaction PGI at 0x11a614128>"
      ]
     },
     "execution_count": 13,
     "metadata": {},
     "output_type": "execute_result"
    }
   ],
   "source": [
    "model.reactions.PGI.knock_out()\n",
    "model.reactions.PGI"
   ]
  },
  {
   "cell_type": "markdown",
   "metadata": {},
   "source": [
    "* Simulate using different methods:"
   ]
  },
  {
   "cell_type": "code",
   "execution_count": 14,
   "metadata": {
    "collapsed": false
   },
   "outputs": [
    {
     "name": "stdout",
     "output_type": "stream",
     "text": [
      "CPU times: user 266 ms, sys: 4.96 ms, total: 271 ms\n",
      "Wall time: 272 ms\n"
     ]
    },
    {
     "data": {
      "text/plain": [
       "0.9761293262947403"
      ]
     },
     "execution_count": 14,
     "metadata": {},
     "output_type": "execute_result"
    }
   ],
   "source": [
    "%time fba_knockout_result = fba(model)\n",
    "fba_knockout_result[model.reactions.BIOMASS_Ec_iJO1366_core_53p95M]"
   ]
  },
  {
   "cell_type": "code",
   "execution_count": 15,
   "metadata": {
    "collapsed": false
   },
   "outputs": [
    {
     "name": "stdout",
     "output_type": "stream",
     "text": [
      "CPU times: user 374 ms, sys: 3.5 ms, total: 378 ms\n",
      "Wall time: 379 ms\n"
     ]
    },
    {
     "data": {
      "text/plain": [
       "0.9761293262947374"
      ]
     },
     "execution_count": 15,
     "metadata": {},
     "output_type": "execute_result"
    }
   ],
   "source": [
    "%time pfba_knockout_result = pfba(model)\n",
    "pfba_knockout_result[model.reactions.BIOMASS_Ec_iJO1366_core_53p95M]"
   ]
  },
  {
   "cell_type": "markdown",
   "metadata": {},
   "source": [
    "MOMA and ROOM relly on a reference (wild-type) flux distribution and we can use the one previously computed.\n",
    "\n",
    "**Parsimonious FBA references seem to produce better results using this methods**"
   ]
  },
  {
   "cell_type": "code",
   "execution_count": 16,
   "metadata": {
    "collapsed": true
   },
   "outputs": [],
   "source": [
    "from cameo.flux_analysis.simulation import room, lmoma"
   ]
  },
  {
   "cell_type": "code",
   "execution_count": 17,
   "metadata": {
    "collapsed": false
   },
   "outputs": [
    {
     "name": "stdout",
     "output_type": "stream",
     "text": [
      "CPU times: user 16.3 s, sys: 246 ms, total: 16.6 s\n",
      "Wall time: 16.8 s\n"
     ]
    },
    {
     "data": {
      "text/plain": [
       "0.8724093536243601"
      ]
     },
     "execution_count": 17,
     "metadata": {},
     "output_type": "execute_result"
    }
   ],
   "source": [
    "%time lmoma_result = lmoma(model, reference=pfba_result.fluxes)\n",
    "lmoma_result[model.reactions.BIOMASS_Ec_iJO1366_core_53p95M]"
   ]
  },
  {
   "cell_type": "code",
   "execution_count": null,
   "metadata": {
    "collapsed": false
   },
   "outputs": [],
   "source": [
    "%time room_result = room(model, reference=pfba_result.fluxes)\n",
    "room_result[model.reactions.BIOMASS_Ec_iJO1366_core_53p95M]"
   ]
  },
  {
   "cell_type": "code",
   "execution_count": null,
   "metadata": {
    "collapsed": true
   },
   "outputs": [],
   "source": []
  }
 ],
 "metadata": {
  "kernelspec": {
   "display_name": "Python 3",
   "language": "python",
   "name": "python3"
  },
  "language_info": {
   "codemirror_mode": {
    "name": "ipython",
    "version": 3
   },
   "file_extension": ".py",
   "mimetype": "text/x-python",
   "name": "python",
   "nbconvert_exporter": "python",
   "pygments_lexer": "ipython3",
   "version": "3.5.0"
  }
 },
 "nbformat": 4,
 "nbformat_minor": 0
}
