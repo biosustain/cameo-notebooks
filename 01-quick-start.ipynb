{
 "cells": [
  {
   "cell_type": "markdown",
   "metadata": {
    "deletable": true,
    "editable": true
   },
   "source": [
    "# Getting started with cameo "
   ]
  },
  {
   "cell_type": "markdown",
   "metadata": {
    "deletable": true,
    "editable": true
   },
   "source": [
    "**cameo** reuses and extends model data structures defined by [cobrapy](https://opencobra.github.io/cobrapy/) (**CO**nstraints-**B**ased **R**econstruction and **A**nalysis tool for **Py**thon). So, in addition to following this quick start guide and other **cameo** tutorials, we encourage you to explore cobrapy's [documentation](https://cobrapy.readthedocs.org/en/latest/cobra.core.html) as well."
   ]
  },
  {
   "cell_type": "markdown",
   "metadata": {
    "deletable": true,
    "editable": true
   },
   "source": [
    "Step 1: Load a model\n",
    "-------------------\n",
    "\n",
    "Loading a model is easy. Just import the `~cameo.io.load_model` function."
   ]
  },
  {
   "cell_type": "code",
   "execution_count": 1,
   "metadata": {
    "collapsed": false,
    "deletable": true,
    "editable": true
   },
   "outputs": [
    {
     "data": {
      "text/html": []
     },
     "metadata": {},
     "output_type": "display_data"
    },
    {
     "data": {
      "application/javascript": [
       "\n",
       "(function(global) {\n",
       "  function now() {\n",
       "    return new Date();\n",
       "  }\n",
       "\n",
       "  var force = true;\n",
       "\n",
       "  if (typeof (window._bokeh_onload_callbacks) === \"undefined\" || force === true) {\n",
       "    window._bokeh_onload_callbacks = [];\n",
       "    window._bokeh_is_loading = undefined;\n",
       "  }\n",
       "\n",
       "\n",
       "  \n",
       "  if (typeof (window._bokeh_timeout) === \"undefined\" || force === true) {\n",
       "    window._bokeh_timeout = Date.now() + 5000;\n",
       "    window._bokeh_failed_load = false;\n",
       "  }\n",
       "\n",
       "  var NB_LOAD_WARNING = {'data': {'text/html':\n",
       "     \"<div style='background-color: #fdd'>\\n\"+\n",
       "     \"<p>\\n\"+\n",
       "     \"BokehJS does not appear to have successfully loaded. If loading BokehJS from CDN, this \\n\"+\n",
       "     \"may be due to a slow or bad network connection. Possible fixes:\\n\"+\n",
       "     \"</p>\\n\"+\n",
       "     \"<ul>\\n\"+\n",
       "     \"<li>re-rerun `output_notebook()` to attempt to load from CDN again, or</li>\\n\"+\n",
       "     \"<li>use INLINE resources instead, as so:</li>\\n\"+\n",
       "     \"</ul>\\n\"+\n",
       "     \"<code>\\n\"+\n",
       "     \"from bokeh.resources import INLINE\\n\"+\n",
       "     \"output_notebook(resources=INLINE)\\n\"+\n",
       "     \"</code>\\n\"+\n",
       "     \"</div>\"}};\n",
       "\n",
       "  function display_loaded() {\n",
       "    if (window.Bokeh !== undefined) {\n",
       "      document.getElementById(\"\").textContent = \"BokehJS successfully loaded.\";\n",
       "    } else if (Date.now() < window._bokeh_timeout) {\n",
       "      setTimeout(display_loaded, 100)\n",
       "    }\n",
       "  }\n",
       "\n",
       "  function run_callbacks() {\n",
       "    window._bokeh_onload_callbacks.forEach(function(callback) { callback() });\n",
       "    delete window._bokeh_onload_callbacks\n",
       "    console.info(\"Bokeh: all callbacks have finished\");\n",
       "  }\n",
       "\n",
       "  function load_libs(js_urls, callback) {\n",
       "    window._bokeh_onload_callbacks.push(callback);\n",
       "    if (window._bokeh_is_loading > 0) {\n",
       "      console.log(\"Bokeh: BokehJS is being loaded, scheduling callback at\", now());\n",
       "      return null;\n",
       "    }\n",
       "    if (js_urls == null || js_urls.length === 0) {\n",
       "      run_callbacks();\n",
       "      return null;\n",
       "    }\n",
       "    console.log(\"Bokeh: BokehJS not loaded, scheduling load and callback at\", now());\n",
       "    window._bokeh_is_loading = js_urls.length;\n",
       "    for (var i = 0; i < js_urls.length; i++) {\n",
       "      var url = js_urls[i];\n",
       "      var s = document.createElement('script');\n",
       "      s.src = url;\n",
       "      s.async = false;\n",
       "      s.onreadystatechange = s.onload = function() {\n",
       "        window._bokeh_is_loading--;\n",
       "        if (window._bokeh_is_loading === 0) {\n",
       "          console.log(\"Bokeh: all BokehJS libraries loaded\");\n",
       "          run_callbacks()\n",
       "        }\n",
       "      };\n",
       "      s.onerror = function() {\n",
       "        console.warn(\"failed to load library \" + url);\n",
       "      };\n",
       "      console.log(\"Bokeh: injecting script tag for BokehJS library: \", url);\n",
       "      document.getElementsByTagName(\"head\")[0].appendChild(s);\n",
       "    }\n",
       "  };\n",
       "\n",
       "  var js_urls = [\"https://cdn.pydata.org/bokeh/release/bokeh-0.12.2.min.js\", \"https://cdn.pydata.org/bokeh/release/bokeh-widgets-0.12.2.min.js\"];\n",
       "\n",
       "  var inline_js = [\n",
       "    function(Bokeh) {\n",
       "      Bokeh.set_log_level(\"info\");\n",
       "    },\n",
       "    function(Bokeh) {\n",
       "      console.log(\"Bokeh: injecting CSS: https://cdn.pydata.org/bokeh/release/bokeh-0.12.2.min.css\");\n",
       "      Bokeh.embed.inject_css(\"https://cdn.pydata.org/bokeh/release/bokeh-0.12.2.min.css\");\n",
       "      console.log(\"Bokeh: injecting CSS: https://cdn.pydata.org/bokeh/release/bokeh-widgets-0.12.2.min.css\");\n",
       "      Bokeh.embed.inject_css(\"https://cdn.pydata.org/bokeh/release/bokeh-widgets-0.12.2.min.css\");\n",
       "    }\n",
       "  ];\n",
       "\n",
       "  function run_inline_js() {\n",
       "    \n",
       "    if ((window.Bokeh !== undefined) || (force === true)) {\n",
       "      for (var i = 0; i < inline_js.length; i++) {\n",
       "        inline_js[i](window.Bokeh);\n",
       "      }} else if (Date.now() < window._bokeh_timeout) {\n",
       "      setTimeout(run_inline_js, 100);\n",
       "    } else if (!window._bokeh_failed_load) {\n",
       "      console.log(\"Bokeh: BokehJS failed to load within specified timeout.\");\n",
       "      window._bokeh_failed_load = true;\n",
       "    } else if (force !== true) {\n",
       "      var cell = $(document.getElementById(\"\")).parents('.cell').data().cell;\n",
       "      cell.output_area.append_execute_result(NB_LOAD_WARNING)\n",
       "    }\n",
       "\n",
       "  }\n",
       "\n",
       "  if (window._bokeh_is_loading === 0) {\n",
       "    console.log(\"Bokeh: BokehJS loaded, going straight to plotting\");\n",
       "    run_inline_js();\n",
       "  } else {\n",
       "    load_libs(js_urls, function() {\n",
       "      console.log(\"Bokeh: BokehJS plotting callback run at\", now());\n",
       "      run_inline_js();\n",
       "    });\n",
       "  }\n",
       "}(this));"
      ]
     },
     "metadata": {},
     "output_type": "display_data"
    },
    {
     "data": {
      "text/html": []
     },
     "metadata": {},
     "output_type": "display_data"
    },
    {
     "data": {
      "application/javascript": [
       "\n",
       "(function(global) {\n",
       "  function now() {\n",
       "    return new Date();\n",
       "  }\n",
       "\n",
       "  var force = true;\n",
       "\n",
       "  if (typeof (window._bokeh_onload_callbacks) === \"undefined\" || force === true) {\n",
       "    window._bokeh_onload_callbacks = [];\n",
       "    window._bokeh_is_loading = undefined;\n",
       "  }\n",
       "\n",
       "\n",
       "  \n",
       "  if (typeof (window._bokeh_timeout) === \"undefined\" || force === true) {\n",
       "    window._bokeh_timeout = Date.now() + 5000;\n",
       "    window._bokeh_failed_load = false;\n",
       "  }\n",
       "\n",
       "  var NB_LOAD_WARNING = {'data': {'text/html':\n",
       "     \"<div style='background-color: #fdd'>\\n\"+\n",
       "     \"<p>\\n\"+\n",
       "     \"BokehJS does not appear to have successfully loaded. If loading BokehJS from CDN, this \\n\"+\n",
       "     \"may be due to a slow or bad network connection. Possible fixes:\\n\"+\n",
       "     \"</p>\\n\"+\n",
       "     \"<ul>\\n\"+\n",
       "     \"<li>re-rerun `output_notebook()` to attempt to load from CDN again, or</li>\\n\"+\n",
       "     \"<li>use INLINE resources instead, as so:</li>\\n\"+\n",
       "     \"</ul>\\n\"+\n",
       "     \"<code>\\n\"+\n",
       "     \"from bokeh.resources import INLINE\\n\"+\n",
       "     \"output_notebook(resources=INLINE)\\n\"+\n",
       "     \"</code>\\n\"+\n",
       "     \"</div>\"}};\n",
       "\n",
       "  function display_loaded() {\n",
       "    if (window.Bokeh !== undefined) {\n",
       "      document.getElementById(\"\").textContent = \"BokehJS successfully loaded.\";\n",
       "    } else if (Date.now() < window._bokeh_timeout) {\n",
       "      setTimeout(display_loaded, 100)\n",
       "    }\n",
       "  }\n",
       "\n",
       "  function run_callbacks() {\n",
       "    window._bokeh_onload_callbacks.forEach(function(callback) { callback() });\n",
       "    delete window._bokeh_onload_callbacks\n",
       "    console.info(\"Bokeh: all callbacks have finished\");\n",
       "  }\n",
       "\n",
       "  function load_libs(js_urls, callback) {\n",
       "    window._bokeh_onload_callbacks.push(callback);\n",
       "    if (window._bokeh_is_loading > 0) {\n",
       "      console.log(\"Bokeh: BokehJS is being loaded, scheduling callback at\", now());\n",
       "      return null;\n",
       "    }\n",
       "    if (js_urls == null || js_urls.length === 0) {\n",
       "      run_callbacks();\n",
       "      return null;\n",
       "    }\n",
       "    console.log(\"Bokeh: BokehJS not loaded, scheduling load and callback at\", now());\n",
       "    window._bokeh_is_loading = js_urls.length;\n",
       "    for (var i = 0; i < js_urls.length; i++) {\n",
       "      var url = js_urls[i];\n",
       "      var s = document.createElement('script');\n",
       "      s.src = url;\n",
       "      s.async = false;\n",
       "      s.onreadystatechange = s.onload = function() {\n",
       "        window._bokeh_is_loading--;\n",
       "        if (window._bokeh_is_loading === 0) {\n",
       "          console.log(\"Bokeh: all BokehJS libraries loaded\");\n",
       "          run_callbacks()\n",
       "        }\n",
       "      };\n",
       "      s.onerror = function() {\n",
       "        console.warn(\"failed to load library \" + url);\n",
       "      };\n",
       "      console.log(\"Bokeh: injecting script tag for BokehJS library: \", url);\n",
       "      document.getElementsByTagName(\"head\")[0].appendChild(s);\n",
       "    }\n",
       "  };\n",
       "\n",
       "  var js_urls = [\"https://cdn.pydata.org/bokeh/release/bokeh-0.12.2.min.js\", \"https://cdn.pydata.org/bokeh/release/bokeh-widgets-0.12.2.min.js\"];\n",
       "\n",
       "  var inline_js = [\n",
       "    function(Bokeh) {\n",
       "      Bokeh.set_log_level(\"info\");\n",
       "    },\n",
       "    function(Bokeh) {\n",
       "      console.log(\"Bokeh: injecting CSS: https://cdn.pydata.org/bokeh/release/bokeh-0.12.2.min.css\");\n",
       "      Bokeh.embed.inject_css(\"https://cdn.pydata.org/bokeh/release/bokeh-0.12.2.min.css\");\n",
       "      console.log(\"Bokeh: injecting CSS: https://cdn.pydata.org/bokeh/release/bokeh-widgets-0.12.2.min.css\");\n",
       "      Bokeh.embed.inject_css(\"https://cdn.pydata.org/bokeh/release/bokeh-widgets-0.12.2.min.css\");\n",
       "    }\n",
       "  ];\n",
       "\n",
       "  function run_inline_js() {\n",
       "    \n",
       "    if ((window.Bokeh !== undefined) || (force === true)) {\n",
       "      for (var i = 0; i < inline_js.length; i++) {\n",
       "        inline_js[i](window.Bokeh);\n",
       "      }} else if (Date.now() < window._bokeh_timeout) {\n",
       "      setTimeout(run_inline_js, 100);\n",
       "    } else if (!window._bokeh_failed_load) {\n",
       "      console.log(\"Bokeh: BokehJS failed to load within specified timeout.\");\n",
       "      window._bokeh_failed_load = true;\n",
       "    } else if (force !== true) {\n",
       "      var cell = $(document.getElementById(\"\")).parents('.cell').data().cell;\n",
       "      cell.output_area.append_execute_result(NB_LOAD_WARNING)\n",
       "    }\n",
       "\n",
       "  }\n",
       "\n",
       "  if (window._bokeh_is_loading === 0) {\n",
       "    console.log(\"Bokeh: BokehJS loaded, going straight to plotting\");\n",
       "    run_inline_js();\n",
       "  } else {\n",
       "    load_libs(js_urls, function() {\n",
       "      console.log(\"Bokeh: BokehJS plotting callback run at\", now());\n",
       "      run_inline_js();\n",
       "    });\n",
       "  }\n",
       "}(this));"
      ]
     },
     "metadata": {},
     "output_type": "display_data"
    }
   ],
   "source": [
    "from cameo import load_model"
   ]
  },
  {
   "cell_type": "markdown",
   "metadata": {
    "deletable": true,
    "editable": true
   },
   "source": [
    "For example, load the most current genome-scale metabolic reconstruction of _Escherichia coli_."
   ]
  },
  {
   "cell_type": "code",
   "execution_count": 2,
   "metadata": {
    "collapsed": false,
    "deletable": true,
    "editable": true
   },
   "outputs": [],
   "source": [
    "model = load_model(\"iJO1366\")"
   ]
  },
  {
   "cell_type": "markdown",
   "metadata": {
    "deletable": true,
    "editable": true
   },
   "source": [
    "Models, reactions, metabolites, etc., provide return HTML when evaluated in Jupyter notebooks and can thus be easily inspected."
   ]
  },
  {
   "cell_type": "code",
   "execution_count": 3,
   "metadata": {
    "collapsed": false,
    "deletable": true,
    "editable": true
   },
   "outputs": [
    {
     "data": {
      "text/html": [
       "<table>\n",
       "<tr>\n",
       "<td>Name</td>\n",
       "<td>iJO1366</td>\n",
       "</tr>\n",
       "<tr>\n",
       "<td>Number of metabolites</td>\n",
       "<td>1805</td>\n",
       "</tr>\n",
       "<tr>\n",
       "<td>Number of reactions</td>\n",
       "<td>2583</td>\n",
       "</tr>\n",
       "<tr>\n",
       "<td>Reactions</td>\n",
       "<td><div style=\"width:100%; max-height:300px; overflow:auto\">4crsol_c --> <br>5drib_c --> <br>aacald_c --> <br>amob_c --> <br>mththf_c --> <br>oxam_c --> <br>0.000223 10fthf_c + 0.000223 2dmmql8_c + 2.5e-05 2fe2s_c + 0.000248 4fe4s_c + 0.000223 5mthf_c + 0.000279 accoa_c + 0.000223 adocbl_c + 0.499149 ala__L_c + 0.000223 amet_c + 0.28742 arg__L_c + 0.234232 asn__L_c + 0.234232 asp__L_c + 54.119975 atp_c + 0.000116 bmocogdp_c + 2e-06 btn_c + 0.004952 ca2_c + 0.000223 chor_c + 0.004952 cl_c + 0.002944 clpn160_p + 0.00229 clpn161_p + 0.00118 clpn181_p + 0.000168 coa_c + 2.4e-05 cobalt2_c + 0.008151 colipa_e + 0.129799 ctp_c + 0.000674 cu2_c + 0.088988 cys__L_c + 0.024805 datp_c + 0.025612 dctp_c + 0.025612 dgtp_c + 0.024805 dttp_c + 0.000223 enter_c + 0.000223 fad_c + 0.006388 fe2_c + 0.007428 fe3_c + 0.255712 gln__L_c + 0.255712 glu__L_c + 0.595297 gly_c + 0.154187 glycogen_c + 0.000223 gthrd_c + 0.209121 gtp_c + 48.752916 h2o_c + 0.000223 hemeO_c + 0.092056 his__L_c + 0.282306 ile__L_c + 0.18569 k_c + 0.437778 leu__L_c + 3e-06 lipopb_c + 0.333448 lys__L_c + 3.1e-05 malcoa_c + 0.149336 met__L_c + 0.008253 mg2_c + 0.000223 mlthf_c + 0.000658 mn2_c + 7e-06 mobd_c + 7e-06 mococdp_c + 7e-06 mocogdp_c + 0.000223 mql8_c + 0.001345 murein3p3p_p + 0.000605 murein3px4p_p + 0.005381 murein4p4p_p + 0.005448 murein4px4p_p + 0.000673 murein4px4px4p_p + 0.001787 nad_c + 4.5e-05 nadh_c + 0.000112 nadp_c + 0.000335 nadph_c + 0.012379 nh4_c + 0.000307 ni2_c + 0.012366 pe160_c + 0.031798 pe160_p + 0.009618 pe161_c + 0.024732 pe161_p + 0.004957 pe181_c + 0.012747 pe181_p + 0.005707 pg160_c + 0.004892 pg160_p + 0.004439 pg161_c + 0.003805 pg161_p + 0.002288 pg181_c + 0.001961 pg181_p + 0.180021 phe__L_c + 0.000223 pheme_c + 0.214798 pro__L_c + 0.03327 ptrc_c + 0.000223 pydx5p_c + 0.000223 q8h2_c + 0.000223 ribflv_c + 0.209684 ser__L_c + 0.000223 sheme_c + 0.004126 so4_c + 0.006744 spmd_c + 9.8e-05 succoa_c + 0.000223 thf_c + 0.000223 thmpp_c + 0.246506 thr__L_c + 0.055234 trp__L_c + 0.133993 tyr__L_c + 5.5e-05 udcpdp_c + 0.140101 utp_c + 0.411184 val__L_c + 0.000324 zn2_c --> 53.95 adp_c + 53.95 h_c + 53.945874 pi_c + 0.749831 ppi_c<br>0.000223 10fthf_c + 2.6e-05 2fe2s_c + 0.000223 2ohph_c + 0.00026 4fe4s_c + 0.513689 ala__L_c + 0.000223 amet_c + 0.295792 arg__L_c + 0.241055 asn__L_c + 0.241055 asp__L_c + 54.124831 atp_c + 0.000122 bmocogdp_c + 2e-06 btn_c + 0.005205 ca2_c + 0.005205 cl_c + 0.000576 coa_c + 2.5e-05 cobalt2_c + 0.133508 ctp_c + 0.000709 cu2_c + 0.09158 cys__L_c + 0.026166 datp_c + 0.027017 dctp_c + 0.027017 dgtp_c + 0.026166 dttp_c + 0.000223 fad_c + 0.006715 fe2_c + 0.007808 fe3_c + 0.26316 gln__L_c + 0.26316 glu__L_c + 0.612638 gly_c + 0.215096 gtp_c + 48.601527 h2o_c + 0.094738 his__L_c + 0.290529 ile__L_c + 0.195193 k_c + 0.019456 kdo2lipid4_e + 0.450531 leu__L_c + 0.343161 lys__L_c + 0.153686 met__L_c + 0.008675 mg2_c + 0.000223 mlthf_c + 0.000691 mn2_c + 7e-06 mobd_c + 0.013894 murein5px4p_p + 0.001831 nad_c + 0.000447 nadp_c + 0.013013 nh4_c + 0.000323 ni2_c + 0.017868 pe160_c + 0.045946 pe160_p + 0.054154 pe161_c + 0.02106 pe161_p + 0.185265 phe__L_c + 0.000223 pheme_c + 0.221055 pro__L_c + 0.000223 pydx5p_c + 0.000223 ribflv_c + 0.215792 ser__L_c + 0.000223 sheme_c + 0.004338 so4_c + 0.000223 thf_c + 0.000223 thmpp_c + 0.253687 thr__L_c + 0.056843 trp__L_c + 0.137896 tyr__L_c + 5.5e-05 udcpdp_c + 0.144104 utp_c + 0.423162 val__L_c + 0.000341 zn2_c --> 53.95 adp_c + 53.95 h_c + 53.945662 pi_c + 0.773903 ppi_c<br>12ppd__R_e --> <br>12ppd__S_e --> <br>14glucan_e --> <br>15dap_e --> <br>23camp_e --> <br>23ccmp_e --> <br>23cgmp_e --> <br>23cump_e --> <br>23dappa_e --> <br>26dap__M_e --> <br>2ddglcn_e --> <br>34dhpac_e --> <br>3amp_e --> <br>3cmp_e --> <br>3gmp_e --> <br>3hcinnm_e --> <br>3hpp_e --> <br>3hpppn_e --> <br>3ump_e --> <br>4abut_e --> <br>4hoxpacd_e --> <br>5dglcn_e --> <br>5mtr_e --> <br>LalaDglu_e --> <br>LalaDgluMdap_e --> <br>LalaDgluMdapDala_e --> <br>LalaLglu_e --> <br>ac_e --> <br>acac_e --> <br>acald_e --> <br>acgal_e --> <br>acgal1p_e --> <br>acgam_e --> <br>acgam1p_e --> <br>acmana_e --> <br>acmum_e --> <br>acnam_e --> <br>acolipa_e --> <br>acser_e --> <br>ade_e --> <br>adn_e --> <br>adocbl_e --> <br>ag_e --> <br>agm_e --> <br>akg_e --> <br>ala_B_e --> <br>ala__D_e --> <br>ala__L_e --> <br>alaala_e --> <br>all__D_e --> <br>alltn_e --> <br>amp_e --> <br>anhgm_e --> <br>arab__L_e --> <br>arbt_e --> <br>arbtn_e --> <br>arbtn_fe3_e --> <br>arg__L_e --> <br>ascb__L_e --> <br>asn__L_e --> <br>aso3_e --> <br>asp__L_e --> <br>btn_e --> <br>but_e --> <br>butso3_e --> <br>ca2_e <=> <br>cbi_e --> <br>cbl1_e <=> <br>cd2_e --> <br>cgly_e --> <br>chol_e --> <br>chtbs_e --> <br>cit_e --> <br>cl_e <=> <br>cm_e --> <br>cmp_e --> <br>co2_e <=> <br>cobalt2_e <=> <br>colipa_e --> <br>colipap_e --> <br>cpgn_e --> <br>cpgn_un_e --> <br>crn_e --> <br>crn__D_e --> <br>csn_e --> <br>cu_e --> <br>cu2_e <=> <br>cyan_e --> <br>cynt_e --> <br>cys__D_e --> <br>cys__L_e --> <br>cytd_e --> <br>dad_2_e --> <br>damp_e --> <br>dca_e --> <br>dcmp_e --> <br>dcyt_e --> <br>ddca_e --> <br>dgmp_e --> <br>dgsn_e --> <br>dha_e --> <br>dimp_e --> <br>din_e --> <br>dms_e --> <br>dmso_e --> <br>dopa_e --> <br>doxrbcn_e --> <br>dtmp_e --> <br>dump_e --> <br>duri_e --> <br>eca4colipa_e --> <br>enlipa_e --> <br>enter_e --> <br>etha_e --> <br>ethso3_e --> <br>etoh_e --> <br>f6p_e --> <br>fald_e --> <br>fe2_e <=> <br>fe3_e <=> <br>fe3dcit_e --> <br>fe3dhbzs_e --> <br>fe3hox_e --> <br>fe3hox_un_e --> <br>fecrm_e --> <br>fecrm_un_e --> <br>feenter_e --> <br>feoxam_e --> <br>feoxam_un_e --> <br>for_e --> <br>fru_e --> <br>frulys_e --> <br>fruur_e --> <br>fuc__L_e --> <br>fum_e --> <br>fusa_e --> <br>g1p_e --> <br>g3pc_e --> <br>g3pe_e --> <br>g3pg_e --> <br>g3pi_e --> <br>g3ps_e --> <br>g6p_e --> <br>gal_e --> <br>gal_bD_e --> <br>gal1p_e --> <br>galct__D_e --> <br>galctn__D_e --> <br>galctn__L_e --> <br>galt_e --> <br>galur_e --> <br>gam_e --> <br>gam6p_e --> <br>gbbtn_e --> <br>gdp_e --> <br>glc__D_e <=> <br>glcn_e --> <br>glcr_e --> <br>glcur_e --> <br>glcur1p_e --> <br>gln__L_e --> <br>glu__L_e --> <br>gly_e --> <br>glyald_e --> <br>glyb_e --> <br>glyc_e --> <br>glyc__R_e --> <br>glyc2p_e --> <br>glyc3p_e --> <br>glyclt_e --> <br>gmp_e --> <br>gsn_e --> <br>gthox_e --> <br>gthrd_e --> <br>gtp_e --> <br>gua_e --> <br>h_e <=> <br>h2_e --> <br>h2o_e <=> <br>h2o2_e --> <br>h2s_e --> <br>hacolipa_e --> <br>halipa_e --> <br>hdca_e --> <br>hdcea_e --> <br>hg2_e --> <br>his__L_e --> <br>hom__L_e --> <br>hxa_e --> <br>hxan_e --> <br>idon__L_e --> <br>ile__L_e --> <br>imp_e --> <br>indole_e --> <br>inost_e --> <br>ins_e --> <br>isetac_e --> <br>k_e <=> <br>kdo2lipid4_e --> <br>lac__D_e --> <br>lac__L_e --> <br>lcts_e --> <br>leu__L_e --> <br>lipa_e --> <br>lipa_cold_e --> <br>lipoate_e --> <br>lys__L_e --> <br>lyx__L_e --> <br>mal__D_e --> <br>mal__L_e --> <br>malt_e --> <br>malthx_e --> <br>maltpt_e --> <br>malttr_e --> <br>maltttr_e --> <br>man_e --> <br>man6p_e --> <br>manglyc_e --> <br>melib_e --> <br>meoh_e --> <br>met__D_e --> <br>met__L_e --> <br>metsox_R__L_e --> <br>metsox_S__L_e --> <br>mg2_e <=> <br>mincyc_e --> <br>minohp_e --> <br>mmet_e --> <br>mn2_e <=> <br>mnl_e --> <br>mobd_e <=> <br>mso3_e --> <br>n2o_e --> <br>na1_e <=> <br>nac_e --> <br>nh4_e <=> <br>ni2_e <=> <br>nmn_e --> <br>no_e --> <br>no2_e --> <br>no3_e --> <br>novbcn_e --> <br>o16a4colipa_e --> <br>o2_e <=> <br>o2s_e --> <br>ocdca_e --> <br>ocdcea_e --> <br>octa_e --> <br>orn_e --> <br>orot_e --> <br>pacald_e --> <br>peamn_e --> <br>phe__L_e --> <br>pheme_e --> <br>pi_e <=> <br>pnto__R_e --> <br>ppa_e --> <br>ppal_e --> <br>pppn_e --> <br>ppt_e --> <br>pro__L_e --> <br>progly_e --> <br>psclys_e --> <br>pser__L_e --> <br>ptrc_e --> <br>pydam_e --> <br>pydx_e --> <br>pydxn_e --> <br>pyr_e --> <br>quin_e --> <br>r5p_e --> <br>rfamp_e --> <br>rib__D_e --> <br>rmn_e --> <br>sbt__D_e --> <br>sel_e <=> <br>ser__D_e --> <br>ser__L_e --> <br>skm_e --> <br>slnt_e <=> <br>so2_e --> <br>so3_e --> <br>so4_e <=> <br>spmd_e --> <br>succ_e --> <br>sucr_e --> <br>sulfac_e --> <br>tartr__D_e --> <br>tartr__L_e --> <br>taur_e --> <br>tcynt_e --> <br>thm_e --> <br>thr__L_e --> <br>thrp_e --> <br>thym_e --> <br>thymd_e --> <br>tma_e --> <br>tmao_e --> <br>tre_e --> <br>trp__L_e --> <br>tsul_e --> <br>ttdca_e --> <br>ttdcea_e --> <br>ttrcyc_e --> <br>tungs_e <=> <br>tym_e --> <br>tyr__L_e --> <br>tyrp_e --> <br>uacgam_e --> <br>udpacgal_e --> <br>udpg_e --> <br>udpgal_e --> <br>udpglcur_e --> <br>ump_e --> <br>ura_e --> <br>urea_e --> <br>uri_e --> <br>val__L_e --> <br>xan_e --> <br>xmp_e --> <br>xtsn_e --> <br>xyl__D_e --> <br>xylu__L_e --> <br>zn2_e <=> <br>12dgr120_p --> 12dgr120_c<br>12dgr140_p --> 12dgr140_c<br>12dgr141_p --> 12dgr141_c<br>12dgr160_p --> 12dgr160_c<br>12dgr161_p --> 12dgr161_c<br>12dgr180_p --> 12dgr180_c<br>12dgr181_p --> 12dgr181_c<br>12ppd__R_e <=> 12ppd__R_p<br>12ppd__R_p <=> 12ppd__R_c<br>12ppd__S_e <=> 12ppd__S_p<br>12ppd__S_p <=> 12ppd__S_c<br>14glucan_p + atp_c + h2o_c --> 14glucan_c + adp_c + h_c + pi_c<br>14glucan_e --> 14glucan_p<br>23camp_e <=> 23camp_p<br>23ccmp_e <=> 23ccmp_p<br>23cgmp_e <=> 23cgmp_p<br>23cump_e <=> 23cump_p<br>23dappa_p + h_p --> 23dappa_c + h_c<br>23dappa_e <=> 23dappa_p<br>23cump_p + h2o_p --> 3ump_p + h_p<br>23ccmp_p + h2o_p --> 3cmp_p + h_p<br>23camp_p + h2o_p --> 3amp_p + h_p<br>23cgmp_p + h2o_p --> 3gmp_p + h_p<br>26dap__M_e <=> 26dap__M_p<br>2ddecg3p_p --> 2ddecg3p_c<br>2tdecg3p_p --> 2tdecg3p_c<br>2tdec7eg3p_p --> 2tdec7eg3p_c<br>2hdecg3p_p --> 2hdecg3p_c<br>2hdec9eg3p_p --> 2hdec9eg3p_c<br>2odecg3p_p --> 2odecg3p_c<br>2odec11eg3p_p --> 2odec11eg3p_c<br>2agpe120_p --> 2agpe120_c<br>2agpe140_p --> 2agpe140_c<br>2agpe141_p --> 2agpe141_c<br>2agpe160_p --> 2agpe160_c<br>2agpe161_p --> 2agpe161_c<br>2agpe180_p --> 2agpe180_c<br>2agpe181_p --> 2agpe181_c<br>2agpe120_c + atp_c + ddca_c --> amp_c + pe120_c + ppi_c<br>2agpe140_c + atp_c + ttdca_c --> amp_c + pe140_c + ppi_c<br>2agpe141_c + atp_c + ttdcea_c --> amp_c + pe141_c + ppi_c<br>2agpe160_c + atp_c + hdca_c --> amp_c + pe160_c + ppi_c<br>2agpe161_c + atp_c + hdcea_c --> amp_c + pe161_c + ppi_c<br>2agpe180_c + atp_c + ocdca_c --> amp_c + pe180_c + ppi_c<br>2agpe181_c + atp_c + ocdcea_c --> amp_c + pe181_c + ppi_c<br>2agpg120_p --> 2agpg120_c<br>2agpg140_p --> 2agpg140_c<br>2agpg141_p --> 2agpg141_c<br>2agpg160_p --> 2agpg160_c<br>2agpg161_p --> 2agpg161_c<br>2agpg180_p --> 2agpg180_c<br>2agpg181_p --> 2agpg181_c<br>2agpg120_c + atp_c + ddca_c --> amp_c + pg120_c + ppi_c<br>2agpg140_c + atp_c + ttdca_c --> amp_c + pg140_c + ppi_c<br>2agpg141_c + atp_c + ttdcea_c --> amp_c + pg141_c + ppi_c<br>2agpg160_c + atp_c + hdca_c --> amp_c + pg160_c + ppi_c<br>2agpg161_c + atp_c + hdcea_c --> amp_c + pg161_c + ppi_c<br>2agpg180_c + atp_c + ocdca_c --> amp_c + pg180_c + ppi_c<br>2agpg181_c + atp_c + ocdcea_c --> amp_c + pg181_c + ppi_c<br>2dhguln_c + h_c + nadh_c --> glcn_c + nad_c<br>2dhguln_c + h_c + nadph_c --> glcn_c + nadp_c<br>2dhguln_c + h_c + nadh_c --> idon__L_c + nad_c<br>2dhguln_c + h_c + nadph_c --> idon__L_c + nadp_c<br>2mahmp_c + h2o_c --> 4ampm_c + h_c + pi_c<br>34dhpac_e <=> 34dhpac_p<br>3amac_c + h2o_c + h_c --> msa_c + nh4_c<br>3amp_e <=> 3amp_p<br>3cmp_e <=> 3cmp_p<br>3gmp_e <=> 3gmp_p<br>3hdecACP_c --> h2o_c + tdec2eACP_c<br>3hddecACP_c --> h2o_c + tddec2eACP_c<br>3hcddec5eACP_c --> h2o_c + t3c5ddeceACP_c<br>3hmrsACP_c --> h2o_c + tmrs2eACP_c<br>3hcmrs7eACP_c --> h2o_c + t3c7mrseACP_c<br>3hpalmACP_c --> h2o_c + tpalm2eACP_c<br>3hcpalm9eACP_c --> h2o_c + t3c9palmeACP_c<br>3hoctaACP_c --> h2o_c + toctd2eACP_c<br>3hcvac11eACP_c --> h2o_c + t3c11vaceACP_c<br>3haACP_c --> but2eACP_c + h2o_c<br>3hhexACP_c --> h2o_c + thex2eACP_c<br>3hoctACP_c --> h2o_c + toct2eACP_c<br>3hcinnm_c + h_c + nadh_c + o2_c --> dhcinnm_c + h2o_c + nad_c<br>3hpppn_c + h_c + nadh_c + o2_c --> dhpppn_c + h2o_c + nad_c<br>3hpp_e <=> 3hpp_p<br>3hpp_c + h_c --> 3hpp_p + h_p<br>3dhguln_c + atp_c --> 3dhgulnp_c + adp_c + h_c<br>3ump_p + h2o_p --> pi_p + uri_p<br>3cmp_p + h2o_p --> cytd_p + pi_p<br>3amp_p + h2o_p --> adn_p + pi_p<br>3gmp_p + h2o_p --> gsn_p + pi_p<br>3odecACP_c + h_c + nadph_c <=> 3hdecACP_c + nadp_c<br>3oddecACP_c + h_c + nadph_c <=> 3hddecACP_c + nadp_c<br>3ocddec5eACP_c + h_c + nadph_c --> 3hcddec5eACP_c + nadp_c<br>3omrsACP_c + h_c + nadph_c <=> 3hmrsACP_c + nadp_c<br>3ocmrs7eACP_c + h_c + nadph_c --> 3hcmrs7eACP_c + nadp_c<br>3opalmACP_c + h_c + nadph_c <=> 3hpalmACP_c + nadp_c<br>3ocpalm9eACP_c + h_c + nadph_c --> 3hcpalm9eACP_c + nadp_c<br>3ooctdACP_c + h_c + nadph_c <=> 3hoctaACP_c + nadp_c<br>3ocvac11eACP_c + h_c + nadph_c --> 3hcvac11eACP_c + nadp_c<br>actACP_c + h_c + nadph_c <=> 3haACP_c + nadp_c<br>3ohexACP_c + h_c + nadph_c <=> 3hhexACP_c + nadp_c<br>3ooctACP_c + h_c + nadph_c <=> 3hoctACP_c + nadp_c<br>h_c + malACP_c + ocACP_c --> 3odecACP_c + ACP_c + co2_c<br>dcaACP_c + h_c + malACP_c --> 3oddecACP_c + ACP_c + co2_c<br>cdec3eACP_c + h_c + malACP_c --> 3ocddec5eACP_c + ACP_c + co2_c<br>ddcaACP_c + h_c + malACP_c --> 3omrsACP_c + ACP_c + co2_c<br>cddec5eACP_c + h_c + malACP_c --> 3ocmrs7eACP_c + ACP_c + co2_c<br>h_c + malACP_c + myrsACP_c --> 3opalmACP_c + ACP_c + co2_c<br>h_c + malACP_c + tdeACP_c --> 3ocpalm9eACP_c + ACP_c + co2_c<br>h_c + malACP_c + palmACP_c --> 3ooctdACP_c + ACP_c + co2_c<br>h_c + hdeACP_c + malACP_c --> 3ocvac11eACP_c + ACP_c + co2_c<br>butACP_c + h_c + malACP_c --> 3ohexACP_c + ACP_c + co2_c<br>h_c + hexACP_c + malACP_c --> 3ooctACP_c + ACP_c + co2_c<br>coa_c + oxadpcoa_c --> accoa_c + succoa_c<br>LalaDgluMdap_p + atp_c + h2o_c --> LalaDgluMdap_c + adp_c + h_c + pi_c<br>LalaDgluMdap_e <=> LalaDgluMdap_p<br>3ump_e <=> 3ump_p<br>dopa_p + h2o_p + o2_p --> 34dhpac_p + h2o2_p + nh4_p<br>4hoxpacd_e <=> 4hoxpacd_p<br>h2o_c + phthr_c --> 4hthr_c + pi_c<br>LalaDgluMdapDala_c + h2o_c --> LalaDgluMdap_c + ala__D_c<br>LalaDgluMdapDala_p + h2o_p --> LalaDgluMdap_p + ala__D_p<br>LalaDgluMdapDala_p + atp_c + h2o_c --> LalaDgluMdapDala_c + adp_c + h_c + pi_c<br>LalaDgluMdapDala_e <=> LalaDgluMdapDala_p<br>5dglcn_c + h_c + nadph_c <=> glcn_c + nadp_c<br>5dglcn_p + h_p <=> 5dglcn_c + h_c<br>5dglcn_e <=> 5dglcn_p<br>dad_5_c + h2o_c --> 5drib_c + ade_c<br>5mtr_e <=> 5mtr_p<br>5mtr_c + h_c --> 5mtr_p + h_p<br>ru5p__D_c <=> ara5p_c<br>ACP_c + atp_c + ttdca_c --> amp_c + myrsACP_c + ppi_c<br>ACP_c + atp_c + ttdcea_c --> amp_c + ppi_c + tdeACP_c<br>ACP_c + atp_c + hdca_c --> amp_c + palmACP_c + ppi_c<br>ACP_c + atp_c + hdcea_c --> amp_c + hdeACP_c + ppi_c<br>ACP_c + atp_c + ocdcea_c --> amp_c + octeACP_c + ppi_c<br>ACP_c + atp_c + ocdca_c --> amp_c + ocdcaACP_c + ppi_c<br>ACP_c + atp_c + ddca_c --> amp_c + ddcaACP_c + ppi_c<br>ACP_c + atp_c + dca_c --> amp_c + dcaACP_c + ppi_c<br>ACP_c + atp_c + octa_c --> amp_c + ocACP_c + ppi_c<br>aact_c + h2o_c + o2_c --> h2o2_c + mthgxl_c + nh4_c<br>dtdp4aaddg_c + unagamu_c --> dtdp_c + h_c + unagamuf_c<br>14glucan_c --> malthx_c<br>14glucan_p --> malthx_p<br>arbt6p_c + h2o_c --> g6p_c + hqn_c<br>4abut_c + akg_c --> glu__L_c + sucsal_c<br>4abutn_c + h2o_c + nad_c --> 4abut_c + 2.0 h_c + nadh_c<br>4abut_p + h_p --> 4abut_c + h_c<br>4abut_e <=> 4abut_p<br>acac_c + accoa_c --> aacoa_c + ac_c<br>2.0 accoa_c <=> aacoa_c + coa_c<br>accoa_c + btcoa_c <=> 3ohcoa_c + coa_c<br>accoa_c + hxcoa_c <=> 3oocoa_c + coa_c<br>accoa_c + occoa_c <=> 3odcoa_c + coa_c<br>accoa_c + dcacoa_c <=> 3oddcoa_c + coa_c<br>accoa_c + ddcacoa_c <=> 3otdcoa_c + coa_c<br>accoa_c + tdcoa_c <=> 3ohdcoa_c + coa_c<br>3ohodcoa_c + coa_c <=> accoa_c + pmtcoa_c<br>acac_p + h_p <=> acac_c + h_c<br>acac_e <=> acac_p<br>acald_c + coa_c + nad_c <=> accoa_c + h_c + nadh_c<br>acald_e <=> acald_p<br>acald_p <=> acald_c<br>accoa_c + anth_c --> acanth_c + coa_c<br>adocbip_c + gtp_c + h_c --> agdpcbi_c + ppi_c<br>accoa_c + atp_c + hco3_c --> adp_c + h_c + malcoa_c + pi_c<br>atp_c + coa_c + ppa_c --> adp_c + pi_c + ppcoa_c<br>acgal1p_p + h2o_p --> acgal_p + pi_p<br>acgal1p_e <=> acgal1p_p<br>acgal_e <=> acgal_p<br>acgam1p_p + h2o_p --> acgam_p + pi_p<br>acgam1p_e <=> acgam1p_p<br>acgam_c + atp_c --> acgam6p_c + adp_c + h_c<br>uacgam_c + udcpp_c --> ump_c + unaga_c<br>acgam_p + pep_c --> acgam6p_c + pyr_c<br>acgam_e <=> acgam_p<br>acglu_c + atp_c --> acg5p_c + adp_c<br>accoa_c + glu__L_c --> acglu_c + coa_c + h_c<br>2obut_c + h_c + pyr_c --> 2ahbut_c + co2_c<br>ac_c + atp_c <=> actp_c + adp_c<br>h_c + 2.0 pyr_c --> alac__S_c + co2_c<br>acmum6p_c + h2o_c --> acgam6p_c + lac__D_c<br>uacmamu_c + unaga_c --> h_c + udp_c + unagamu_c<br>acmana_p + pep_c --> acmanap_c + pyr_c<br>acmana_e <=> acmana_p<br>acmum_p + pep_c --> acmum6p_c + pyr_c<br>acmum_e --> acmum_p<br>acnam_p + h_p --> acnam_c + h_c<br>acnam_e <=> acnam_p<br>acnam_c --> acmana_c + pyr_c<br>btcoa_c + fad_c <=> b2coa_c + fadh2_c<br>fad_c + hxcoa_c <=> fadh2_c + hx2coa_c<br>fad_c + occoa_c <=> fadh2_c + oc2coa_c<br>dcacoa_c + fad_c <=> dc2coa_c + fadh2_c<br>ddcacoa_c + fad_c <=> dd2coa_c + fadh2_c<br>fad_c + tdcoa_c <=> fadh2_c + td2coa_c<br>fad_c + pmtcoa_c <=> fadh2_c + hdd2coa_c<br>fad_c + stcoa_c <=> fadh2_c + od2coa_c<br>ACP_c + accoa_c <=> acACP_c + coa_c<br>acorn_c + h2o_c --> ac_c + orn_c<br>acolipa_p + atp_c + h2o_c --> acolipa_e + adp_c + h_c + pi_c<br>acon_T_c <=> acon_C_c<br>acon_T_c + amet_c --> aconm_c + ahcys_c<br>cit_c <=> acon_C_c + h2o_c<br>acon_C_c + h2o_c <=> icit_c<br>acorn_c + akg_c <=> acg5sa_c + glu__L_c<br>ddcaACP_c + h_c + pi_c --> ACP_c + ddcap_c<br>h_c + myrsACP_c + pi_c --> ACP_c + ttdcap_c<br>h_c + pi_c + tdeACP_c --> ACP_c + ttdceap_c<br>h_c + palmACP_c + pi_c --> ACP_c + hdcap_c<br>h_c + hdeACP_c + pi_c --> ACP_c + hdceap_c<br>h_c + ocdcaACP_c + pi_c --> ACP_c + ocdcap_c<br>h_c + octeACP_c + pi_c --> ACP_c + ocdceap_c<br>apoACP_c + coa_c --> ACP_c + h_c + pap_c<br>ac_c + atp_c + coa_c --> accoa_c + amp_c + ppi_c<br>acser_e <=> acser_p<br>acser_c --> acser_p<br>ac_p + h_p <=> ac_c + h_c<br>ac_p + na1_p --> ac_c + na1_c<br>ac_e <=> ac_p<br>adn_c + h2o_c + h_c --> ins_c + nh4_c<br>4adcho_c --> 4abz_c + h_c + pyr_c<br>chor_c + gln__L_c --> 4adcho_c + glu__L_c<br>ade_c + h2o_c + h_c --> hxan_c + nh4_c<br>ade_p + h_p <=> ade_c + h_c<br>ade_e <=> ade_p<br>amp_c + atp_c <=> 2.0 adp_c<br>amp_c + gtp_c <=> adp_c + gdp_c<br>amp_c + itp_c <=> adp_c + idp_c<br>amet_c + h_c --> ametam_c + co2_c<br>atp_c --> camp_c + ppi_c<br>adn_c + atp_c --> adp_c + amp_c + h_c<br>adn_c + h2o_c --> ade_c + rib__D_c<br>adn_p + h_p --> adn_c + h_c<br>adn_p + h_p <=> adn_c + h_c<br>adn_e <=> adn_p<br>adocbi_c + atp_c --> adocbip_c + adp_c + h_c<br>agdpcbi_c + rdmbzi_c --> adocbl_c + gmp_c + h_c<br>adocbl_p + atp_c + h2o_c --> adocbl_c + adp_c + h_c + pi_c<br>adocbl_e + h_p --> adocbl_p + h_c<br>adprib_c + h2o_c --> amp_c + 2.0 h_c + r5p_c<br>ade_c + prpp_c --> amp_c + ppi_c<br>aps_c + atp_c --> adp_c + h_c + paps_c<br>dcamp_c <=> amp_c + fum_c<br>25aics_c <=> aicar_c + fum_c<br>asp__L_c + gtp_c + imp_c --> dcamp_c + gdp_c + 2.0 h_c + pi_c<br>acgam6p_c + h2o_c --> ac_c + gam6p_c<br>anhgm3p_c + h2o_c --> LalaDgluMdap_c + anhgm_c<br>anhgm3p_p + h2o_p --> LalaDgluMdap_p + anhgm_p<br>anhgm3p_c + h2o_c --> acgam_c + anhm3p_c<br>anhgm3p_p + h_p --> anhgm3p_c + h_c<br>anhgm4p_c + h2o_c --> LalaDgluMdapDala_c + anhgm_c<br>anhgm4p_p + h2o_p --> LalaDgluMdapDala_p + anhgm_p<br>anhgm4p_c + h2o_c --> ala__D_c + anhgm3p_c<br>anhgm4p_p + h2o_p --> ala__D_p + anhgm3p_p<br>anhgm4p_c + h2o_c --> acgam_c + anhm4p_c<br>anhgm4p_p + h_p --> anhgm4p_c + h_c<br>anhgm_c + h2o_c --> acgam_c + anhm_c<br>adphep_DD_c --> adphep_LD_c<br>agm_c + h2o_c --> ptrc_c + urea_c<br>anhgm_p + h_p --> anhgm_c + h_c<br>agm_e <=> agm_p<br>1ddecg3p_c + ddcaACP_c --> ACP_c + pa120_c<br>1tdecg3p_c + myrsACP_c --> ACP_c + pa140_c<br>1tdec7eg3p_c + tdeACP_c --> ACP_c + pa141_c<br>1hdecg3p_c + palmACP_c --> ACP_c + pa160_c<br>1hdec9eg3p_c + hdeACP_c --> ACP_c + pa161_c<br>1odecg3p_c + ocdcaACP_c --> ACP_c + pa180_c<br>1odec11eg3p_c + octeACP_c --> ACP_c + pa181_c<br>acg5sa_c + nadp_c + pi_c <=> acg5p_c + h_c + nadph_c<br>ag_c + h_e --> ag_e + h_c<br>ahcys_c + h2o_c --> ade_c + rhcys_c<br>10fthf_c + aicar_c <=> fprica_c + thf_c<br>air_c + atp_c + hco3_c --> 5caiz_c + adp_c + h_c + pi_c<br>5aizc_c <=> 5caiz_c<br>akg_c + coa_c + nad_c --> co2_c + nadh_c + succoa_c<br>akg_p + h_p <=> akg_c + h_c<br>akg_e <=> akg_p<br>alaala_c + h2o_c --> 2.0 ala__D_c<br>alaala_p + atp_c + h2o_c --> adp_c + alaala_c + h_c + pi_c<br>2.0 ala__D_c + atp_c <=> adp_c + alaala_c + h_c + pi_c<br>alaala_e <=> alaala_p<br>LalaDglu_c <=> LalaLglu_c<br>ala__L_c <=> ala__D_c<br>ala__D_c + pydx5p_c --> pyam5p_c + pyr_c<br>akg_c + ala__L_c <=> glu__L_c + pyr_c<br>ala__L_c + pydx5p_c --> pyam5p_c + pyr_c<br>ala__L_c + atp_c + trnaala_c --> alatrna_c + amp_c + ppi_c<br>ala__L_p + atp_c + h2o_c --> adp_c + ala__L_c + h_c + pi_c<br>ala__L_p + h_p --> ala__L_c + h_c<br>ala__L_p + h_p <=> ala__L_c + h_c<br>ala__L_p + na1_p --> ala__L_c + na1_c<br>ala__L_e <=> ala__L_p<br>glyald_c + h_c + nadh_c <=> glyc_c + nad_c<br>etoh_c + nad_c <=> acald_c + h_c + nadh_c<br>h2o_c + nad_c + pacald_c <=> 2.0 h_c + nadh_c + pac_c<br>acald_c + h2o_c + nad_c --> ac_c + 2.0 h_c + nadh_c<br>acald_c + h2o_c + nadp_c --> ac_c + 2.0 h_c + nadph_c<br>h2o_c + nadp_c + ppal_c --> 2.0 h_c + nadph_c + ppa_c<br>btal_c + h2o_c + nad_c --> but_c + 2.0 h_c + nadh_c<br>all__D_c + atp_c --> adp_c + all6p_c + h_c<br>all6p_c <=> allul6p_c<br>alltt_c + 2.0 h2o_c + 2.0 h_c --> co2_c + 2.0 nh4_c + urdglyc_c<br>alltn_c + h2o_c --> alltt_c + h_c<br>alltn_p + h_p <=> alltn_c + h_c<br>alltn_e <=> alltn_p<br>allul6p_c <=> f6p_c<br>all__D_p + atp_c + h2o_c --> adp_c + all__D_c + h_c + pi_c<br>all__D_e <=> all__D_p<br>alpp_p + pe160_p --> 2agpe160_p + lpp_p<br>alpp_p + pg160_p --> 2agpg160_p + lpp_p<br>h_c + mthgxl_c + nadph_c --> acetol_c + nadp_c<br>acetol_c + h_c + nadh_c --> 12ppd__R_c + nad_c<br>altrn_c --> 2ddglcn_c + h2o_c<br>anhm3p_c + h2o_c --> LalaDgluMdap_c + anhm_c<br>anhm4p_c + h2o_c --> LalaDgluMdapDala_c + anhm_c<br>anhm4p_c + h2o_c --> ala__D_c + anhm3p_c<br>malt_c + malttr_c --> glc__D_c + maltttr_c<br>malt_c + maltttr_c --> glc__D_c + maltpt_c<br>malt_c + maltpt_c --> glc__D_c + malthx_c<br>malt_c + malthx_c --> glc__D_c + malthp_c<br>acmanap_c <=> acgam6p_c<br>acmana_c + atp_c --> acmanap_c + adp_c + h_c<br>8aonn_c + amet_c <=> amob_c + dann_c<br>2dmmql8_c + amet_c --> ahcys_c + h_c + mql8_c<br>air_c + h2o_c + nad_c --> 4ampm_c + 2.0 for_c + 3.0 h_c + nadh_c<br>amp_c + h2o_c --> ade_c + r5p_c<br>cgly_c + h2o_c --> cys__L_c + gly_c<br>h2o_c + progly_c --> gly_c + pro__L_c<br>amp_e <=> amp_p<br>anhgm_e <=> anhgm_p<br>anhm_c + atp_c + h2o_c --> acmum6p_c + adp_c + h_c<br>anth_c + prpp_c --> ppi_c + pran_c<br>chor_c + gln__L_c --> anth_c + glu__L_c + h_c + pyr_c<br>2aobut_c + h_c --> aact_c + co2_c<br>ala__L_c + pimACP_c --> 8aonn_c + ACP_c + co2_c<br>ap4a_c + h2o_c --> 2.0 adp_c + 2.0 h_c<br>2.0 atp_c + h_c --> ap4a_c + ppi_c<br>ap5a_c + h2o_c --> adp_c + atp_c + 2.0 h_c<br>15dap_c + ametam_c --> 5mta_c + h_c + na15dap_c<br>ddcap_c + glyc3p_c --> 1ddecg3p_c + h_c + pi_c<br>glyc3p_c + ttdcap_c --> 1tdecg3p_c + h_c + pi_c<br>glyc3p_c + ttdceap_c --> 1tdec7eg3p_c + h_c + pi_c<br>glyc3p_c + hdcap_c --> 1hdecg3p_c + h_c + pi_c<br>glyc3p_c + hdceap_c --> 1hdec9eg3p_c + h_c + pi_c<br>glyc3p_c + ocdcap_c --> 1odecg3p_c + h_c + pi_c<br>glyc3p_c + ocdceap_c --> 1odec11eg3p_c + h_c + pi_c<br>ddcap_c + h2o_c --> ddca_c + 2.0 h_c + pi_c<br>h2o_c + ttdcap_c --> 2.0 h_c + pi_c + ttdca_c<br>h2o_c + ttdceap_c --> 2.0 h_c + pi_c + ttdcea_c<br>h2o_c + hdcap_c --> 2.0 h_c + hdca_c + pi_c<br>h2o_c + hdceap_c --> 2.0 h_c + hdcea_c + pi_c<br>h2o_c + ocdcap_c --> 2.0 h_c + ocdca_c + pi_c<br>h2o_c + ocdceap_c --> 2.0 h_c + ocdcea_c + pi_c<br>aact_c + h_c + nadh_c <=> appl_c + nad_c<br>5apru_c + h_c + nadph_c --> 5aprbu_c + nadp_c<br>arab__L_c <=> rbl__L_c<br>2.0 arbtn_fe3_c + fadh2_c --> 2.0 arbtn_c + fad_c + 2.0 fe2_c + 2.0 h_c<br>2.0 arbtn_fe3_c + fmnh2_c --> 2.0 arbtn_c + 2.0 fe2_c + fmn_c + 2.0 h_c<br>2.0 arbtn_fe3_c + rbflvrd_c --> 2.0 arbtn_c + 2.0 fe2_c + 2.0 h_c + ribflv_c<br>arbtn_fe3_p + atp_c + h2o_c --> adp_c + arbtn_fe3_c + h_c + pi_c<br>arbtn_e + fe3_e --> arbtn_fe3_e<br>arbtn_p + h_p --> arbtn_e + h_c<br>arbtn_fe3_e + h_p --> arbtn_fe3_p + h_c<br>arbtn_c + h_p --> arbtn_p + h_c<br>arbt_p + pep_c --> arbt6p_c + pyr_c<br>arbt_e --> arbt_p<br>arab__L_p + atp_c + h2o_c --> adp_c + arab__L_c + h_c + pi_c<br>arab__L_p + h_p <=> arab__L_c + h_c<br>arab__L_c + h_p --> arab__L_p + h_c<br>arab__L_e <=> arab__L_p<br>agm_c + arg__L_p <=> agm_p + arg__L_c<br>arg__L_c + h_c --> agm_c + co2_c<br>arg__L_p + h_p --> agm_p + co2_p<br>arg__L_p + orn_c <=> arg__L_c + orn_p<br>argsuc_c <=> arg__L_c + fum_c<br>asp__L_c + atp_c + citr__L_c --> amp_c + argsuc_c + h_c + ppi_c<br>arg__L_c + atp_c + trnaarg_c --> amp_c + argtrna_c + ppi_c<br>arg__L_p + atp_c + h2o_c --> adp_c + arg__L_c + h_c + pi_c<br>arg__L_c + h_p --> arg__L_p + h_c<br>arg__L_e <=> arg__L_p<br>aspsa_c + nadp_c + pi_c <=> 4pasp_c + h_c + nadph_c<br>ascb6p_c + h2o_c --> 3dhgulnp_c + h_c<br>ascb__L_p + pep_c --> ascb6p_c + pyr_c<br>ascb__L_e <=> ascb__L_p<br>asn__L_c + h2o_c --> asp__L_c + nh4_c<br>asn__L_p + h2o_p --> asp__L_p + nh4_p<br>asp__L_c + atp_c + gln__L_c + h2o_c --> amp_c + asn__L_c + glu__L_c + h_c + ppi_c<br>asp__L_c + atp_c + nh4_c --> amp_c + asn__L_c + h_c + ppi_c<br>asn__L_c + atp_c + trnaasn_c --> amp_c + asntrna_c + ppi_c<br>asn__L_p + atp_c + h2o_c --> adp_c + asn__L_c + h_c + pi_c<br>asn__L_p + h_p <=> asn__L_c + h_c<br>asn__L_e <=> asn__L_p<br>aso3_c + atp_c + h2o_c --> adp_c + aso3_p + h_c + pi_c<br>aso3_e <=> aso3_p<br>asp__L_c + h_c --> ala_B_c + co2_c<br>asp__L_c + cbp_c --> cbasp_c + h_c + pi_c<br>asp__L_c + atp_c <=> 4pasp_c + adp_c<br>asp__L_c + q8_c --> h_c + iasp_c + q8h2_c<br>asp__L_c + mqn8_c --> h_c + iasp_c + mql8_c<br>asp__L_c + fum_c --> h_c + iasp_c + succ_c<br>asp__L_c + o2_c --> h2o2_c + h_c + iasp_c<br>asp__L_c --> fum_c + nh4_c<br>akg_c + asp__L_c <=> glu__L_c + oaa_c<br>asp__L_c + atp_c + trnaasp_c --> amp_c + asptrna_c + ppi_c<br>asp__L_p + atp_c + h2o_c --> adp_c + asp__L_c + h_c + pi_c<br>asp__L_p + 2.0 h_p --> asp__L_c + 2.0 h_c<br>asp__L_p + 3.0 h_p --> asp__L_c + 3.0 h_c<br>asp__L_p + h_p --> asp__L_c + h_c<br>asp__L_p + h_p <=> asp__L_c + h_c<br>asp__L_e <=> asp__L_p<br>aso4_c + 2.0 gthrd_c --> aso3_c + gthox_c + h2o_c<br>arg__L_c + succoa_c --> coa_c + h_c + sucarg_c<br>athr__L_c + nadp_c <=> 2aobut_c + h_c + nadph_c<br>atp_c + h2o_c + h_c --> itp_c + nh4_c<br>atp_c + h2o_c --> adp_c + h_c + pi_c<br>atp_c + prpp_c --> ppi_c + prbatp_c<br>adp_c + 4.0 h_p + pi_c <=> atp_c + h2o_c + 3.0 h_c<br>ala_B_p + h_p --> ala_B_c + h_c<br>ala_B_e <=> ala_B_p<br>betald_c + h2o_c + nad_c --> glyb_c + 2.0 h_c + nadh_c<br>betald_c + h2o_c + nadp_c --> glyb_c + 2.0 h_c + nadph_c<br>moco_c + mptamp_c --> amp_c + bmoco_c + cu2_c<br>bmoco_c + gtp_c + h_c --> bmoco1gdp_c + ppi_c<br>bmoco1gdp_c + gtp_c + h_c --> bmocogdp_c + ppi_c<br>h2o_c + pap_c --> amp_c + pi_c<br>btnso_c + h_c + nadh_c --> btn_c + h2o_c + nad_c<br>btnso_c + h_c + nadph_c --> btn_c + h2o_c + nadp_c<br>btn_p + h_p --> btn_c + h_c<br>btn_e <=> btn_p<br>2fe2s_c + amet_c + dtbt_c --> 2fe1s_c + btn_c + dad_5_c + h_c + met__L_c<br>accoa_c + but_c --> ac_c + btcoa_c<br>atp_c + butso3_p + h2o_c --> adp_c + butso3_c + h_c + pi_c<br>butso3_e <=> butso3_p<br>but_p + h_p <=> but_c + h_c<br>but_e <=> but_p<br>bwco_c + gtp_c + h_c --> bwco1gdp_c + ppi_c<br>bwco1gdp_c + gtp_c + h_c --> bwcogdp_c + ppi_c<br>mptamp_c + wco_c --> amp_c + bwco_c + cu2_c<br>ca2_c + h_p --> ca2_p + h_c<br>ca2_e <=> ca2_p<br>15dap_c + h_p + lys__L_p --> 15dap_p + h_c + lys__L_c<br>2.0 h2o2_c --> 2.0 h2o_c + o2_c<br>ca2_c + na1_p <=> ca2_p + na1_c<br>atp_c + cbi_c + h_c <=> adocbi_c + pppi_c<br>cbi_e + h_p --> cbi_p + h_c<br>atp_c + cbi_p + h2o_c --> adp_c + cbi_c + h_c + pi_c<br>atp_c + cbl1_p + h2o_c --> adp_c + cbl1_c + h_c + pi_c<br>cbl1_e + h_p --> cbl1_p + h_c<br>atp_c + cbl1_c + h_c <=> adocbl_c + pppi_c<br>cbm_c + 2.0 h_c --> co2_c + nh4_c<br>atp_c + co2_c + nh4_c <=> adp_c + cbp_c + 2.0 h_c<br>2.0 atp_c + gln__L_c + h2o_c + hco3_c --> 2.0 adp_c + cbp_c + glu__L_c + 2.0 h_c + pi_c<br>atp_c + cdg_c + nh4_c --> adp_c + h2o_c + h_c + pi_c + preq0_c<br>atp_c + cd2_c + h2o_c --> adp_c + cd2_p + h_c + pi_c<br>cd2_c + h_p --> cd2_p + h_c<br>cd2_e <=> cd2_p<br>cd2_p --> cd2_c<br>cdpdddecg_c + h2o_c --> cmp_c + 2.0 h_c + pa120_c<br>cdpdtdecg_c + h2o_c --> cmp_c + 2.0 h_c + pa140_c<br>cdpdtdec7eg_c + h2o_c --> cmp_c + 2.0 h_c + pa141_c<br>cdpdhdecg_c + h2o_c --> cmp_c + 2.0 h_c + pa160_c<br>cdpdhdec9eg_c + h2o_c --> cmp_c + 2.0 h_c + pa161_c<br>cdpdodecg_c + h2o_c --> cmp_c + 2.0 h_c + pa180_c<br>cdpdodec11eg_c + h2o_c --> cmp_c + 2.0 h_c + pa181_c<br>3.0 h_c + 2.0 nadph_c + preq0_c --> 2.0 nadp_c + preq1_c<br>cph4_c + h_c --> cdg_c + nh4_c<br>4c2me_c + atp_c --> 2p4c2me_c + adp_c + h_c<br>2.0 amet_c + pe161_c --> 2.0 ahcys_c + cpe160_c + 2.0 h_c<br>2.0 amet_c + pg161_c --> 2.0 ahcys_c + cpg160_c + 2.0 h_c<br>2.0 amet_c + pe181_c --> 2.0 ahcys_c + cpe180_c + 2.0 h_c<br>2.0 amet_c + pg181_c --> 2.0 ahcys_c + cpg180_c + 2.0 h_c<br>atp_c + cgly_p + h2o_c --> adp_c + cgly_c + h_c + pi_c<br>cgly_e <=> cgly_p<br>atp_c + chol_p + h2o_c --> adp_c + chol_c + h_c + pi_c<br>chol_p + h_p --> chol_c + h_c<br>chol_e <=> chol_p<br>chol_c + nad_c --> betald_c + h_c + nadh_c<br>chor_c --> pphn_c<br>3psme_c --> chor_c + pi_c<br>chor_c --> 4hbz_c + pyr_c<br>chtbs_p + pep_c --> chtbs6p_c + pyr_c<br>chtbs_e <=> chtbs_p<br>cinnm_c + h_c + nadh_c + o2_c --> cenchddd_c + nad_c<br>cit_c --> ac_c + oaa_c<br>cit_c + h_p --> cit_p + h_c<br>cit_p + succ_c --> cit_c + succ_p<br>cit_e <=> cit_p<br>atp_c + h2o_c + lipa_cold_p --> adp_c + h_c + lipa_cold_e + pi_c<br>clpn120_p + h2o_p --> h_p + pa120_p + pg120_p<br>clpn140_p + h2o_p --> h_p + pa140_p + pg140_p<br>clpn141_p + h2o_p --> h_p + pa141_p + pg141_p<br>clpn160_p + h2o_p --> h_p + pa160_p + pg160_p<br>clpn161_p + h2o_p --> h_p + pa161_p + pg161_p<br>clpn180_p + h2o_p --> h_p + pa180_p + pg180_p<br>clpn181_p + h2o_p --> h_p + pa181_p + pg181_p<br>2.0 pg120_p <=> clpn120_p + glyc_p<br>2.0 pg140_p <=> clpn140_p + glyc_p<br>2.0 pg141_p <=> clpn141_p + glyc_p<br>2.0 pg160_p <=> clpn160_p + glyc_p<br>2.0 pg161_p <=> clpn161_p + glyc_p<br>2.0 pg180_p <=> clpn180_p + glyc_p<br>2.0 pg181_p <=> clpn181_p + glyc_p<br>2.0 cl_p + h_c --> 2.0 cl_c + h_p<br>cl_e <=> cl_p<br>cmp_c + h2o_c --> csn_c + r5p_c<br>cmp_e <=> cmp_p<br>cm_e <=> cm_p<br>cm_p + h_p --> cm_e + h_c<br>co2_e <=> co2_p<br>co2_p <=> co2_c<br>atp_c + cobalt2_c + h2o_c --> adp_c + cobalt2_p + h_c + pi_c<br>cobalt2_c + h_p --> cobalt2_p + h_c<br>cobalt2_e <=> cobalt2_p<br>cobalt2_p --> cobalt2_c<br>colipa_p + udcpdp_p --> colipap_p + udcpp_p<br>atp_c + colipap_p + h2o_c --> adp_c + colipap_e + h_c + pi_c<br>atp_c + colipa_c + h2o_c --> adp_c + colipa_p + h_c + pi_c<br>atp_c + colipa_p + h2o_c --> adp_c + colipa_e + h_c + pi_c<br>2.0 cpgn_c + fadh2_c --> 2.0 cpgn_un_c + fad_c + 2.0 fe2_c + 2.0 h_c<br>2.0 cpgn_c + fmnh2_c --> 2.0 cpgn_un_c + 2.0 fe2_c + fmn_c + 2.0 h_c<br>2.0 cpgn_c + rbflvrd_c --> 2.0 cpgn_un_c + 2.0 fe2_c + 2.0 h_c + ribflv_c<br>cpgn_un_p + h_p --> cpgn_un_e + h_c<br>cpgn_un_c + h_p --> cpgn_un_p + h_c<br>atp_c + cpgn_p + h2o_c --> adp_c + cpgn_c + h_c + pi_c<br>cpgn_un_e + fe3_e --> cpgn_e<br>cpgn_e + h_p --> cpgn_p + h_c<br>ahdt_c + h2o_c --> acald_c + cph4_c + h_c + pppi_c<br>gtp_c + h2o_c --> cpmp_c + ppi_c<br>cpppg3_c + 2.0 h_c + o2_c --> 2.0 co2_c + 2.0 h2o_c + pppg9_c<br>2.0 amet_c + cpppg3_c --> 2.0 co2_c + 2.0 dad_5_c + 2.0 met__L_c + pppg9_c<br>bbtcoa_c + crn_c <=> crncoa_c + gbbtn_c<br>atp_c + coa_c + crn_c --> adp_c + crncoa_c + pi_c<br>crncoa_c <=> crnDcoa_c<br>crn_c + ctbtcoa_c <=> crncoa_c + ctbt_c<br>crncoa_c <=> ctbtcoa_c + h2o_c<br>atp_c + coa_c + crn__D_c --> adp_c + crnDcoa_c + pi_c<br>atp_c + crn__D_p + h2o_c --> adp_c + crn__D_c + h_c + pi_c<br>crn__D_p + h_p <=> crn__D_c + h_c<br>crn__D_e <=> crn__D_p<br>atp_c + crn_p + h2o_c --> adp_c + crn_c + h_c + pi_c<br>crn_p + h_p <=> crn_c + h_c<br>crn_p + gbbtn_c --> crn_c + gbbtn_p<br>crn__D_c + crn_p --> crn__D_p + crn_c<br>crn_e <=> crn_p<br>accoa_c + h2o_c + oaa_c --> cit_c + coa_c + h_c<br>csn_c + h2o_c + h_c --> nh4_c + ura_c<br>csn_p + h_p --> csn_c + h_c<br>csn_e <=> csn_p<br>atp_c + coa_c + ctbt_c --> adp_c + ctbtcoa_c + pi_c<br>atp_c + ctbt_p + h2o_c --> adp_c + ctbt_c + h_c + pi_c<br>ctbt_p + h_p <=> ctbt_c + h_c<br>tdecoa_c <=> td2coa_c<br>hdcoa_c <=> hdd2coa_c<br>odecoa_c <=> od2coa_c<br>atp_c + gln__L_c + h2o_c + utp_c --> adp_c + ctp_c + glu__L_c + 2.0 h_c + pi_c<br>4.0 cu_p + 4.0 h_p + o2_p --> 4.0 cu2_p + 2.0 h2o_p<br>atp_c + cu_c + h2o_c --> adp_c + cu_p + h_c + pi_c<br>atp_c + cu2_c + h2o_c --> adp_c + cu2_p + h_c + pi_c<br>cu2_e <=> cu2_p<br>cu2_p --> cu2_c<br>cu_c + h_e --> cu_e + h_c<br>cu_e <=> cu_p<br>cyan_c + tsul_c --> h_c + so3_c + tcynt_c<br>cyan_p + tsul_p --> h_p + so3_p + tcynt_p<br>cyan_e <=> cyan_p<br>cynt_c + 3.0 h_c + hco3_c --> 2.0 co2_c + nh4_c<br>cynt_p + h_p --> cynt_c + h_c<br>cynt_e <=> cynt_p<br>cys__D_c + h2o_c --> h2s_c + nh4_c + pyr_c<br>cys__L_c + h2o_c --> h2s_c + nh4_c + pyr_c<br>atp_c + cys__D_p + h2o_c --> adp_c + cys__D_c + h_c + pi_c<br>cys__D_e <=> cys__D_p<br>acser_c + h2s_c --> ac_c + cys__L_c + h_c<br>3sala_c + 2.0 h_c --> ala__L_c + so2_c<br>cyst__L_c + h2o_c --> hcys__L_c + nh4_c + pyr_c<br>atp_c + cys__L_c + trnacys_c --> amp_c + cystrna_c + ppi_c<br>atp_c + cys__L_c + h2o_c --> adp_c + cys__L_p + h_c + pi_c<br>atp_c + cys__L_p + h2o_c --> adp_c + cys__L_c + h_c + pi_c<br>cys__L_e <=> cys__L_p<br>cys__L_c --> cys__L_p<br>2.0 h_c + mql8_c + 0.5 o2_c --> h2o_c + 2.0 h_p + mqn8_c<br>2.0 h_c + 0.5 o2_c + q8h2_c --> h2o_c + 2.0 h_p + q8_c<br>4.0 h_c + 0.5 o2_c + q8h2_c --> h2o_c + 4.0 h_p + q8_c<br>cytd_c + h2o_c + h_c --> nh4_c + uri_c<br>cytd_c + h2o_c --> csn_c + rib__D_c<br>cytd_c + gtp_c --> cmp_c + gdp_c + h_c<br>cytd_p + h_p --> cytd_c + h_c<br>cytd_p + h_p <=> cytd_c + h_c<br>cytd_e <=> cytd_p<br>atp_c + cmp_c <=> adp_c + cdp_c<br>atp_c + dcmp_c <=> adp_c + dcdp_c<br>h_p + lac__D_p <=> h_c + lac__D_c<br>lac__D_e <=> lac__D_p<br>ala__D_c + fad_c + h2o_c --> fadh2_c + nh4_c + pyr_c<br>dad_2_c + h2o_c + h_c --> din_c + nh4_c<br>atp_c + damp_c <=> adp_c + dadp_c<br>dad_2_p + h_p --> dad_2_c + h_c<br>dad_2_e <=> dad_2_p<br>12dgr120_c + atp_c --> adp_c + h_c + pa120_c<br>12dgr140_c + atp_c --> adp_c + h_c + pa140_c<br>12dgr141_c + atp_c --> adp_c + h_c + pa141_c<br>12dgr160_c + atp_c --> adp_c + h_c + pa160_c<br>12dgr161_c + atp_c --> adp_c + h_c + pa161_c<br>12dgr180_c + atp_c --> adp_c + h_c + pa180_c<br>12dgr181_c + atp_c --> adp_c + h_c + pa181_c<br>ala__D_p + h_p --> ala__D_c + h_c<br>ala__D_e <=> ala__D_p<br>damp_e <=> damp_p<br>23dappa_c + h2o_c --> 2.0 nh4_c + pyr_c<br>26dap__M_c + h_c --> co2_c + lys__L_c<br>26dap_LL_c <=> 26dap__M_c<br>26dap__M_p + atp_c + h2o_c --> 26dap__M_c + adp_c + h_c + pi_c<br>15dap_e <=> 15dap_p<br>ctp_c + h_c + pa120_c --> cdpdddecg_c + ppi_c<br>ctp_c + h_c + pa140_c --> cdpdtdecg_c + ppi_c<br>ctp_c + h_c + pa141_c --> cdpdtdec7eg_c + ppi_c<br>ctp_c + h_c + pa160_c --> cdpdhdecg_c + ppi_c<br>ctp_c + h_c + pa161_c --> cdpdhdec9eg_c + ppi_c<br>ctp_c + h_c + pa180_c --> cdpdodecg_c + ppi_c<br>ctp_c + h_c + pa181_c --> cdpdodec11eg_c + ppi_c<br>datp_c + h2o_c + h_c --> ditp_c + nh4_c<br>ru5p__D_c --> db4p_c + for_c + h_c<br>atp_c + co2_c + dann_c --> adp_c + dtbt_c + 3.0 h_c + pi_c<br>chtbs6p_c + h2o_c --> acgam6p_c + acgam_c<br>dca_e <=> dca_p<br>dcmp_e <=> dcmp_p<br>dctp_c + h2o_c + h_c --> dutp_c + nh4_c<br>dcyt_c + h2o_c + h_c --> duri_c + nh4_c<br>dcyt_p + h_p --> dcyt_c + h_c<br>dcyt_e <=> dcyt_p<br>ddca_e --> ddca_p<br>2dh3dgal_c + atp_c --> 2dh3dgal6p_c + adp_c + h_c<br>2ddglcn_p + h_p <=> 2ddglcn_c + h_c<br>2ddglcn_e <=> 2ddglcn_p<br>2ddglcn_c + atp_c --> 2ddg6p_c + adp_c + h_c<br>e4p_c + h2o_c + pep_c --> 2dda7p_c + pi_c<br>2dh3dgal6p_c <=> g3p_c + pyr_c<br>atp_c + dgmp_c <=> adp_c + dgdp_c<br>dgmp_e <=> dgmp_p<br>dgsn_p + h_p --> dgsn_c + h_c<br>dgsn_e <=> dgsn_p<br>23dhacoa_c + h2o_c <=> 3hadpcoa_c<br>23dhmb_c --> 3mob_c + h2o_c<br>23dhmp_c --> 3mop_c + h2o_c<br>dha_c + pep_c --> dhap_c + pyr_c<br>dha_e <=> dha_p<br>dha_p <=> dha_c<br>23ddhb_c + nad_c <=> 23dhb_c + h_c + nadh_c<br>23dhb_c + atp_c + h_c --> 23dhba_c + ppi_c<br>23dhbzs_c + h2o_c --> 23dhb_c + ser__L_c<br>cenchddd_c + nad_c --> dhcinnm_c + h_c + nadh_c<br>dhcinnm_c + o2_c --> h_c + hkntd_c<br>23dhdp_c + h_c + nadph_c --> nadp_c + thdp_c<br>aspsa_c + pyr_c --> 23dhdp_c + 2.0 h2o_c + h_c<br>dhf_c + h_c + nadph_c <=> nadp_c + thf_c<br>atp_c + dhpt_c + glu__L_c --> adp_c + dhf_c + h_c + pi_c<br>dhmpt_c + h_c + nadph_c --> nadp_c + thmnp_c<br>dhna_c + h_c + octdp_c --> 2dmmql8_c + co2_c + ppi_c<br>h_c + sbzcoa_c --> 14dhncoa_c + h2o_c<br>14dhncoa_c + h2o_c --> coa_c + dhna_c + h_c<br>dhnpt_c <=> 6hmhpt_c + gcald_c<br>dhnpt_c <=> dhmpt_c<br>dhor__S_c + q8_c --> orot_c + q8h2_c<br>dhor__S_c + mqn8_c --> mql8_c + orot_c<br>dhor__S_c + fum_c --> orot_c + succ_c<br>dhor__S_c + h2o_c <=> cbasp_c + h_c<br>cechddd_c + nad_c --> dhpppn_c + h_c + nadh_c<br>25drapp_c + h2o_c + h_c --> 5apru_c + nh4_c<br>4abz_c + 6hmhptpp_c --> dhpt_c + ppi_c<br>dhptd_c --> mdhdhf_c<br>dhptdn_c + 3.0 h_c + nadph_c --> nadp_c + thptdn_c<br>dhptdn_c + 3.0 h_c + nadh_c --> nad_c + thptdn_c<br>ahdt_c <=> dhmptp_c<br>2dda7p_c --> 3dhq_c + pi_c<br>3dhq_c --> 3dhsk_c + h2o_c<br>dimp_e <=> dimp_p<br>din_p + h_p --> din_c + h_c<br>din_e <=> din_p<br>25dkglcn_c + h_c + nadph_c --> 2dhguln_c + nadp_c<br>25dkglcn_c + h_c + nadh_c --> 5dglcn_c + nad_c<br>25dkglcn_c + h_c + nadph_c --> 5dglcn_c + nadp_c<br>dmpp_c + ipdp_c --> grdp_c + ppi_c<br>h2mb4p_c + h_c + nadh_c --> dmpp_c + h2o_c + nad_c<br>2omhmbl_c + amet_c --> ahcys_c + h_c + q8h2_c<br>dmso_c + mql8_c --> dms_c + h2o_c + mqn8_c<br>dmso_p + mql8_c --> dms_p + h2o_p + mqn8_c<br>2dmmql8_c + dmso_c --> 2dmmq8_c + dms_c + h2o_c<br>2dmmql8_c + dmso_p --> 2dmmq8_c + dms_p + h2o_p<br>dmso_e <=> dmso_p<br>dmso_p <=> dmso_c<br>dms_e <=> dms_p<br>dhpmp_c + h2o_c --> dhnpt_c + pi_c<br>ahdt_c + h2o_c --> dhpmp_c + h_c + ppi_c<br>23doguln_c + h_c + nadh_c --> 3dhguln_c + nad_c<br>dopa_e <=> dopa_p<br>doxrbcn_e <=> doxrbcn_p<br>doxrbcn_p + h_p --> doxrbcn_e + h_c<br>atp_c + dpcoa_c --> adp_c + coa_c + h_c<br>2dhp_c + h_c + nadph_c --> nadp_c + pant__R_c<br>2dr5p_c --> acald_c + g3p_c<br>dsbard_p + q8_c --> dsbaox_p + q8h2_c<br>dsbard_p + mqn8_c --> dsbaox_p + mql8_c<br>dsbcox_p + 2.0 gthrd_p --> dsbcrd_p + gthox_p<br>dsbdox_c + trdrd_c --> dsbdrd_c + trdox_c<br>dsbgox_p + 2.0 gthrd_p --> dsbgrd_p + gthox_p<br>nadp_c + ser__D_c <=> 2amsa_c + h_c + nadph_c<br>h_p + ser__D_p --> h_c + ser__D_c<br>ser__D_e <=> ser__D_p<br>tartr__D_c --> h2o_c + oaa_c<br>atp_c + dtmp_c <=> adp_c + dtdp_c<br>dtmp_e <=> dtmp_p<br>dump_e <=> dump_p<br>56dura_c + nad_c <=> h_c + nadh_c + ura_c<br>atp_c + duri_c --> adp_c + dump_c + h_c<br>duri_c + pi_c <=> 2dr1p_c + ura_c<br>duri_p + h_p --> duri_c + h_c<br>duri_e <=> duri_p<br>dutp_c + h2o_c --> dump_c + h_c + ppi_c<br>dxyl5p_c + h_c + nadph_c --> 2me4p_c + nadp_c<br>g3p_c + h_c + pyr_c --> co2_c + dxyl5p_c<br>atp_c + dxyl_c --> adp_c + dxyl5p_c + h_c<br>e4p_c + h2o_c + nad_c <=> 4per_c + 2.0 h_c + nadh_c<br>h_c + nadh_c + tdec2eACP_c --> dcaACP_c + nad_c<br>h_c + nadph_c + tdec2eACP_c --> dcaACP_c + nadp_c<br>h_c + nadh_c + tddec2eACP_c --> ddcaACP_c + nad_c<br>h_c + nadph_c + tddec2eACP_c --> ddcaACP_c + nadp_c<br>h_c + nadh_c + t3c5ddeceACP_c --> cddec5eACP_c + nad_c<br>h_c + nadph_c + t3c5ddeceACP_c --> cddec5eACP_c + nadp_c<br>h_c + nadh_c + tmrs2eACP_c --> myrsACP_c + nad_c<br>h_c + nadph_c + tmrs2eACP_c --> myrsACP_c + nadp_c<br>h_c + nadh_c + t3c7mrseACP_c --> nad_c + tdeACP_c<br>h_c + nadph_c + t3c7mrseACP_c --> nadp_c + tdeACP_c<br>h_c + nadh_c + tpalm2eACP_c --> nad_c + palmACP_c<br>h_c + nadph_c + tpalm2eACP_c --> nadp_c + palmACP_c<br>h_c + nadh_c + t3c9palmeACP_c --> hdeACP_c + nad_c<br>h_c + nadph_c + t3c9palmeACP_c --> hdeACP_c + nadp_c<br>h_c + nadh_c + toctd2eACP_c --> nad_c + ocdcaACP_c<br>h_c + nadph_c + toctd2eACP_c --> nadp_c + ocdcaACP_c<br>h_c + nadh_c + t3c11vaceACP_c --> nad_c + octeACP_c<br>h_c + nadph_c + t3c11vaceACP_c --> nadp_c + octeACP_c<br>but2eACP_c + h_c + nadh_c --> butACP_c + nad_c<br>but2eACP_c + h_c + nadph_c --> butACP_c + nadp_c<br>h_c + nadh_c + thex2eACP_c --> hexACP_c + nad_c<br>h_c + nadph_c + thex2eACP_c --> hexACP_c + nadp_c<br>h_c + nadh_c + toct2eACP_c --> nad_c + ocACP_c<br>h_c + nadph_c + toct2eACP_c --> nadp_c + ocACP_c<br>atp_c + eca4colipa_p + h2o_c --> adp_c + eca4colipa_e + h_c + pi_c<br>colipa_p + eca4und_p --> eca4colipa_p + h_p + udcpdp_p<br>2.0 unagamuf_p --> eca2und_p + h_p + udcpdp_p<br>eca2und_p + unagamuf_p --> eca3und_p + h_p + udcpdp_p<br>eca3und_p + unagamuf_p --> eca4und_p + h_p + udcpdp_p<br>unagamuf_c --> unagamuf_p<br>3hbcoa_c <=> b2coa_c + h2o_c<br>3hhcoa_c <=> h2o_c + hx2coa_c<br>3hocoa_c <=> h2o_c + oc2coa_c<br>3hdcoa_c <=> dc2coa_c + h2o_c<br>3hddcoa_c <=> dd2coa_c + h2o_c<br>3htdcoa_c <=> h2o_c + td2coa_c<br>3hhdcoa_c <=> h2o_c + hdd2coa_c<br>3hodcoa_c <=> h2o_c + od2coa_c<br>2ddg6p_c --> g3p_c + pyr_c<br>6pgc_c --> 2ddg6p_c + h2o_c<br>ddcaACP_c + kdo2lipid4_c --> ACP_c + kdo2lipid4L_c<br>kdo2lipid4L_c + myrsACP_c --> ACP_c + lipa_c<br>hdeACP_c + kdo2lipid4_c --> ACP_c + kdo2lipid4p_c<br>kdo2lipid4p_c + myrsACP_c --> ACP_c + lipa_cold_c<br>egmeACP_c + h_c + nadph_c --> gmeACP_c + nadp_c<br>atp_c + enlipa_p + h2o_c --> adp_c + enlipa_e + h_c + pi_c<br>2pg_c <=> h2o_c + pep_c<br>3.0 23dhba_c + 3.0 seramp_c --> 6.0 amp_c + enter_c + 9.0 h_c<br>enter_c + 3.0 h2o_c --> 3.0 23dhbzs_c + 3.0 h_c<br>feenter_c + 3.0 h2o_c --> 3.0 23dhbzs_c + fe3_c + 3.0 h_c<br>epmeACP_c + h_c + nadph_c --> nadp_c + pmeACP_c<br>etha_c --> acald_c + nh4_c<br>etha_p + h_p --> etha_c + h_c<br>etha_e <=> etha_p<br>atp_c + ethso3_p + h2o_c --> adp_c + ethso3_c + h_c + pi_c<br>ethso3_e <=> ethso3_p<br>etoh_e <=> etoh_p<br>etoh_p <=> etoh_c<br>f6p_c <=> dha_c + g3p_c<br>f6p_c + h2o_c --> fru_c + pi_c<br>f6p_p + 2.0 pi_c --> f6p_c + 2.0 pi_p<br>f6p_e <=> f6p_p<br>dcaACP_c + h2o_c --> ACP_c + dca_c + h_c<br>ddcaACP_c + h2o_c --> ACP_c + ddca_c + h_c<br>h2o_c + myrsACP_c --> ACP_c + h_c + ttdca_c<br>h2o_c + tdeACP_c --> ACP_c + h_c + ttdcea_c<br>h2o_c + palmACP_c --> ACP_c + h_c + hdca_c<br>h2o_c + hdeACP_c --> ACP_c + h_c + hdcea_c<br>h2o_c + ocACP_c --> ACP_c + h_c + octa_c<br>dcacoa_c + h2o_c --> coa_c + dca_c + h_c<br>ddcacoa_c + h2o_c --> coa_c + ddca_c + h_c<br>h2o_c + tdcoa_c --> coa_c + h_c + ttdca_c<br>h2o_c + tdecoa_c --> coa_c + h_c + ttdcea_c<br>h2o_c + pmtcoa_c --> coa_c + h_c + hdca_c<br>h2o_c + hdcoa_c --> coa_c + h_c + hdcea_c<br>h2o_c + stcoa_c --> coa_c + h_c + ocdca_c<br>h2o_c + odecoa_c --> coa_c + h_c + ocdcea_c<br>h2o_c + hxcoa_c --> coa_c + h_c + hxa_c<br>h2o_c + occoa_c --> coa_c + h_c + octa_c<br>atp_c + coa_c + dca_p + h_p --> amp_c + dcacoa_c + h_c + ppi_c<br>atp_c + coa_c + ddca_p + h_p --> amp_c + ddcacoa_c + h_c + ppi_c<br>atp_c + coa_c + h_p + ttdca_p --> amp_c + h_c + ppi_c + tdcoa_c<br>atp_c + coa_c + h_p + ttdcea_p --> amp_c + h_c + ppi_c + tdecoa_c<br>atp_c + coa_c + h_p + hdca_p --> amp_c + h_c + pmtcoa_c + ppi_c<br>atp_c + coa_c + h_p + hdcea_p --> amp_c + h_c + hdcoa_c + ppi_c<br>atp_c + coa_c + h_p + ocdca_p --> amp_c + h_c + ppi_c + stcoa_c<br>atp_c + coa_c + h_p + ocdcea_p --> amp_c + h_c + odecoa_c + ppi_c<br>atp_c + coa_c + h_p + hxa_p --> amp_c + h_c + hxcoa_c + ppi_c<br>atp_c + coa_c + h_p + octa_p --> amp_c + h_c + occoa_c + ppi_c<br>fad_c + h_c + nadh_c --> fadh2_c + nad_c<br>fad_c + h_c + nadph_c --> fadh2_c + nadp_c<br>hmgth_c + nad_c <=> Sfglutth_c + h_c + nadh_c<br>fald_e <=> fald_p<br>fald_p <=> fald_c<br>fald_c + gthrd_c <=> hmgth_c<br>fdp_c <=> dhap_c + g3p_c<br>s17bp_c <=> dhap_c + e4p_c<br>fdp_c + h2o_c --> f6p_c + pi_c<br>fuc__L_c <=> fcl__L_c<br>atp_c + fcl__L_c --> adp_c + fc1p_c + h_c<br>fc1p_c <=> dhap_c + lald__L_c<br>fe2_c + ppp9_c --> 2.0 h_c + pheme_c<br>for_p + 2.0 h_c + q8_c --> co2_p + h_p + q8h2_c<br>for_p + 2.0 h_c + mqn8_c --> co2_p + h_p + mql8_c<br>fmnh2_c + isetac_c + o2_c --> fmn_c + gcald_c + h2o_c + h_c + so3_c<br>fmnh2_c + mso3_c + o2_c --> fald_c + fmn_c + h2o_c + h_c + so3_c<br>ethso3_c + fmnh2_c + o2_c --> acald_c + fmn_c + h2o_c + h_c + so3_c<br>butso3_c + fmnh2_c + o2_c --> btal_c + fmn_c + h2o_c + h_c + so3_c<br>fmnh2_c + o2_c + sulfac_c --> fmn_c + glx_c + h2o_c + h_c + so3_c<br>atp_c + fe2_p + h2o_c --> adp_c + fe2_c + h_c + pi_c<br>fe2_p + h_p --> fe2_c + h_c<br>fe2_c + h_p --> fe2_p + h_c<br>fe2_e <=> fe2_p<br>fe2_p --> fe2_c<br>atp_c + fe3dcit_p + h2o_c --> adp_c + 2.0 cit_c + fe3_c + h_c + pi_c<br>fe3dcit_e + h_p --> fe3dcit_p + h_c<br>fe3dhbzs_c --> 23dhbzs_c + fe3_c<br>atp_c + fe3dhbzs_p + h2o_c --> adp_c + fe3dhbzs_c + h_c + pi_c<br>fe3dhbzs_e + h_p --> fe3dhbzs_p + h_c<br>fadh2_c + 2.0 fe3hox_c --> fad_c + 2.0 fe2_c + 2.0 fe3hox_un_c + 2.0 h_c<br>2.0 fe3hox_c + fmnh2_c --> 2.0 fe2_c + 2.0 fe3hox_un_c + fmn_c + 2.0 h_c<br>2.0 fe3hox_c + rbflvrd_c --> 2.0 fe2_c + 2.0 fe3hox_un_c + 2.0 h_c + ribflv_c<br>fe3hox_un_c + h_p --> fe3hox_un_p + h_c<br>fe3hox_un_p + h_p --> fe3hox_un_e + h_c<br>atp_c + fe3hox_p + h2o_c --> adp_c + fe3hox_c + h_c + pi_c<br>fe3_e + fe3hox_un_e --> fe3hox_e<br>fe3hox_e + h_p --> fe3hox_p + h_c<br>fadh2_c + 2.0 fe3_c --> fad_c + 2.0 fe2_c + 2.0 h_c<br>atp_c + fe3_p + h2o_c --> adp_c + fe3_c + h_c + pi_c<br>fe3_e <=> fe3_p<br>fadh2_c + 2.0 fecrm_c --> fad_c + 2.0 fe2_c + 2.0 fecrm_un_c + 2.0 h_c<br>2.0 fecrm_c + fmnh2_c --> 2.0 fe2_c + 2.0 fecrm_un_c + fmn_c + 2.0 h_c<br>2.0 fecrm_c + rbflvrd_c --> 2.0 fe2_c + 2.0 fecrm_un_c + 2.0 h_c + ribflv_c<br>fecrm_un_p + h_p --> fecrm_un_e + h_c<br>fecrm_un_c + h_p --> fecrm_un_p + h_c<br>atp_c + fecrm_p + h2o_c --> adp_c + fecrm_c + h_c + pi_c<br>fe3_e + fecrm_un_e --> fecrm_e<br>fecrm_e + h_p --> fecrm_p + h_c<br>fadh2_c + 2.0 feenter_c --> 2.0 enter_c + fad_c + 2.0 fe2_c + 2.0 h_c<br>2.0 feenter_c + fmnh2_c --> 2.0 enter_c + 2.0 fe2_c + fmn_c + 2.0 h_c<br>2.0 feenter_c + rbflvrd_c --> 2.0 enter_c + 2.0 fe2_c + 2.0 h_c + ribflv_c<br>atp_c + feenter_p + h2o_c --> adp_c + feenter_c + h_c + pi_c<br>enter_e + fe3_e --> feenter_e<br>enter_p + h_p --> enter_e + h_c<br>feenter_e + h_p --> feenter_p + h_c<br>enter_c + h_p --> enter_p + h_c<br>fadh2_c + 2.0 feoxam_c --> fad_c + 2.0 fe2_c + 2.0 feoxam_un_c + 2.0 h_c<br>2.0 feoxam_c + fmnh2_c --> 2.0 fe2_c + 2.0 feoxam_un_c + fmn_c + 2.0 h_c<br>2.0 feoxam_c + rbflvrd_c --> 2.0 fe2_c + 2.0 feoxam_un_c + 2.0 h_c + ribflv_c<br>feoxam_un_p + h_p --> feoxam_un_e + h_c<br>feoxam_un_c + h_p --> feoxam_un_p + h_c<br>atp_c + feoxam_p + h2o_c --> adp_c + feoxam_c + h_c + pi_c<br>fe3_e + feoxam_un_e --> feoxam_e<br>feoxam_e + h_p --> feoxam_p + h_c<br>4.0 fe2_p + 4.0 h_p + o2_p --> 4.0 fe3_p + 2.0 h2o_p<br>2.0 4fe4s_c + h2o2_c + 2.0 h_c --> 2.0 3fe4s_c + 2.0 fe3_c + 2.0 h2o_c<br>2.0 4fe4s_c + 2.0 h_c + 2.0 no_c --> 2.0 3fe4s_c + 2.0 fe3_c + h2o_c + n2o_c<br>3fe4s_c + fe2_c --> 4fe4s_c<br>h2o_c + suc6p_c --> fru_c + g6p_c<br>for_c + h_c --> co2_c + h2_c<br>2.0 flxso_c + nadph_c --> 2.0 flxr_c + h_c + nadp_c<br>h_c + nadph_c + ribflv_c --> nadp_c + rbflvrd_c<br>h_c + nadh_c + ribflv_c --> nad_c + rbflvrd_c<br>10fthf_c + mettrna_c --> fmettrna_c + h_c + thf_c<br>atp_c + fmn_c + h_c --> fad_c + ppi_c<br>fmn_c + h_c + nadh_c --> fmnh2_c + nad_c<br>fmn_c + h_c + nadph_c --> fmnh2_c + nadp_c<br>5fthf_c + h_c --> h2o_c + methf_c<br>forcoa_c + oxa_c <=> for_c + oxalcoa_c<br>for_p + h_p --> for_c + h_c<br>for_e <=> for_p<br>for_c --> for_p<br>fum_c + mql8_c --> mqn8_c + succ_c<br>2dmmql8_c + fum_c --> 2dmmq8_c + succ_c<br>atp_c + f1p_c --> adp_c + fdp_c + h_c<br>frulysp_c + h2o_c <=> g6p_c + lys__L_c<br>psclys_c <=> frulys_c<br>atp_c + frulys_c --> adp_c + frulysp_c + h_c<br>frulys_p + h_p --> frulys_c + h_c<br>frulys_e <=> frulys_p<br>fruur_p + h_p <=> fruur_c + h_c<br>fruur_e <=> fruur_p<br>fru_p + pep_c --> f6p_c + pyr_c<br>fru_p + pep_c --> f1p_c + pyr_c<br>fru_e <=> fru_p<br>10fthf_c + h2o_c --> for_c + h_c + thf_c<br>atp_c + for_c + thf_c --> 10fthf_c + adp_c + pi_c<br>fuc__L_e <=> fuc__L_p<br>fuc__L_p + h_p <=> fuc__L_c + h_c<br>fum_c + h2o_c <=> mal__L_c<br>fum_p + 2.0 h_p --> fum_c + 2.0 h_c<br>fum_p + 3.0 h_p --> fum_c + 3.0 h_c<br>fum_e <=> fum_p<br>fusa_e <=> fusa_p<br>fusa_p + h_p --> fusa_e + h_c<br>accoa_c + gam1p_c --> acgam1p_c + coa_c + h_c<br>g1p_p + h2o_p --> glc__D_p + pi_p<br>dttp_c + g1p_c + h_c --> dtdpglu_c + ppi_c<br>g1p_e <=> g1p_p<br>glu1sa_c <=> 5aop_c<br>glyc2p_c + h2o_c --> glyc_c + pi_c<br>glyc2p_p + h2o_p --> glyc_p + pi_p<br>ddcaACP_c + glyc3p_c --> 1ddecg3p_c + ACP_c<br>glyc3p_c + myrsACP_c --> 1tdecg3p_c + ACP_c<br>glyc3p_c + tdeACP_c --> 1tdec7eg3p_c + ACP_c<br>glyc3p_c + palmACP_c --> 1hdecg3p_c + ACP_c<br>glyc3p_c + hdeACP_c --> 1hdec9eg3p_c + ACP_c<br>glyc3p_c + ocdcaACP_c --> 1odecg3p_c + ACP_c<br>glyc3p_c + octeACP_c --> 1odec11eg3p_c + ACP_c<br>atp_c + g3pc_p + h2o_c --> adp_c + g3pc_c + h_c + pi_c<br>g3pc_e <=> g3pc_p<br>glyc3p_c + nadp_c <=> dhap_c + h_c + nadph_c<br>glyc3p_c + q8_c --> dhap_c + q8h2_c<br>glyc3p_c + mqn8_c --> dhap_c + mql8_c<br>2dmmq8_c + glyc3p_c --> 2dmmql8_c + dhap_c<br>atp_c + g3pe_p + h2o_c --> adp_c + g3pe_c + h_c + pi_c<br>g3pe_e <=> g3pe_p<br>atp_c + g3pg_p + h2o_c --> adp_c + g3pg_c + h_c + pi_c<br>g3pg_e <=> g3pg_p<br>atp_c + g3pi_p + h2o_c --> adp_c + g3pi_c + h_c + pi_c<br>g3pi_e <=> g3pi_p<br>atp_c + g3ps_p + h2o_c --> adp_c + g3ps_c + h_c + pi_c<br>g3ps_e <=> g3ps_p<br>glyc3p_c + h2o_c --> glyc_c + pi_c<br>glu5sa_c --> 1pyr5c_c + h2o_c + h_c<br>glu5p_c + h_c + nadph_c --> glu5sa_c + nadp_c + pi_c<br>gam6p_c + h2o_c --> f6p_c + nh4_c<br>g6p_c + nadp_c <=> 6pgl_c + h_c + nadph_c<br>g6p_c + h2o_c --> glc__D_c + pi_c<br>g6p_p + 2.0 pi_c --> g6p_c + 2.0 pi_p<br>g6p_e <=> g6p_p<br>gal1p_p + h2o_p --> gal_p + pi_p<br>gal1p_e <=> gal1p_p<br>gal_bD_e <=> gal_bD_p<br>galct__D_c --> 5dh4dglc_c + h2o_c<br>galctn__L_c + nad_c --> h_c + nadh_c + tagur_c<br>galctn__D_c --> 2dh3dgal_c + h2o_c<br>galctn__L_p + h_p --> galctn__L_c + h_c<br>galctn__L_e <=> galctn__L_p<br>galctn__D_p + h_p --> galctn__D_c + h_c<br>galctn__D_e <=> galctn__D_p<br>galct__D_p + h_p <=> galct__D_c + h_c<br>galct__D_e <=> galct__D_p<br>atp_c + gal_c <=> adp_c + gal1p_c + h_c<br>gal_bD_p --> gal_p<br>h2o_c + melib_c --> gal_c + glc__D_c<br>gicolipa_c + udpg_c --> gagicolipa_c + h_c + udp_c<br>galt_p + pep_c --> galt1p_c + pyr_c<br>galt_e <=> galt_p<br>galur_p + h_p <=> galur_c + h_c<br>galur_e <=> galur_p<br>g1p_c + h_c + utp_c --> ppi_c + udpg_c<br>atp_c + gal_p + h2o_c --> adp_c + gal_c + h_c + pi_c<br>gal_p + h_p --> gal_c + h_c<br>gal_e <=> gal_p<br>gam6p_p + 2.0 pi_c --> gam6p_c + 2.0 pi_p<br>gam6p_e <=> gam6p_p<br>gam_p + pep_c --> gam6p_c + pyr_c<br>gam_e <=> gam_p<br>g3p_c + nad_c + pi_c <=> 13dpg_c + h_c + nadh_c<br>10fthf_c + gar_c <=> fgam_c + h_c + thf_c<br>atp_c + for_c + gar_c --> adp_c + fgam_c + h_c + pi_c<br>gbbtn_e <=> gbbtn_p<br>gcald_c + h2o_c + nad_c --> glyclt_c + 2.0 h_c + nadh_c<br>gdpddman_c --> gdpofuc_c<br>atp_c + gdp_c --> amp_c + h_c + ppgpp_c<br>gdpmann_c + h2o_c --> gdp_c + h_c + man_c<br>gdpmann_c + h2o_c --> gmp_c + 2.0 h_c + man1p_c<br>gdptp_c + h2o_c --> gtp_c + ppi_c<br>gdp_e <=> gdp_p<br>f6p_c + gln__L_c --> gam6p_c + glu__L_c<br>ggbutal_c + h2o_c + nadp_c <=> gg4abut_c + 2.0 h_c + nadph_c<br>gg4abut_c + h2o_c --> 4abut_c + glu__L_c<br>ggptrc_c + h2o_c + o2_c --> ggbutal_c + h2o2_c + nh4_c<br>atp_c + glu__L_c + ptrc_c --> adp_c + ggptrc_c + h_c + pi_c<br>h_c + nadh_c + sucsal_c <=> ghb_c + nad_c<br>ser__L_c + thf_c <=> gly_c + h2o_c + mlthf_c<br>atp_c + gmp_c <=> adp_c + gdp_c<br>glycogen_c --> bglycogen_c<br>accoa_c + glc__D_c <=> acglc__D_c + coa_c<br>glc__D_p + h2o_p + q8_c --> glcn_p + h_p + q8h2_c<br>glcn_p + h_p <=> glcn_c + h_c<br>glcn_e <=> glcn_p<br>glycogen_c + pi_c --> g1p_c<br>bglycogen_c + pi_c --> g1p_c<br>5dh4dglc_c --> 2h3oppan_c + pyr_c<br>glcr_c --> 5dh4dglc_c + h2o_c<br>glcr_p + h_p <=> glcr_c + h_c<br>glcr_e <=> glcr_p<br>adpglc_c --> adp_c + glycogen_c + h_c<br>icolipa_c + udpg_c --> gicolipa_c + h_c + udp_c<br>gagicolipa_c + udpg_c --> ggagicolipa_c + h_c + udp_c<br>ggagicolipa_c + udpg_c --> gggagicolipa_c + h_c + udp_c<br>glcur1p_e <=> glcur1p_p<br>glcur_p + h_p <=> glcur_c + h_c<br>glcur_e <=> glcur_p<br>atp_c + glc__D_p + h2o_c --> adp_c + glc__D_c + h_c + pi_c<br>glc__D_p + pep_c --> g6p_c + pyr_c<br>glc__D_p + h_p --> glc__D_c + h_c<br>glc__D_e <=> glc__D_p<br>glc__D_e --> glc__D_p<br>bglycogen_c --> glycogen_c<br>atp_c + g1p_c + h_c --> adpglc_c + ppi_c<br>atp_c + glu__L_c + nh4_c --> adp_c + gln__L_c + h_c + pi_c<br>atp_c + gln__L_c + trnagln_c --> amp_c + glntrna_c + ppi_c<br>atp_c + gln__L_p + h2o_c --> adp_c + gln__L_c + h_c + pi_c<br>gln__L_e <=> gln__L_p<br>galt1p_c + nad_c <=> h_c + nadh_c + tag6p__D_c<br>atp_c + glu__L_c --> adp_c + glu5p_c<br>4abut_c + glu__L_p <=> 4abut_p + glu__L_c<br>atp_c + cys__L_c + glu__L_c --> adp_c + glucys_c + h_c + pi_c<br>glu__L_c + h_c --> 4abut_c + co2_c<br>glu__L_c + h2o_c + nadp_c <=> akg_c + h_c + nadph_c + nh4_c<br>gln__L_c + h2o_c --> glu__L_c + nh4_c<br>gln__L_p + h2o_p --> glu__L_p + nh4_p<br>gln__L_c + h2o_c + prpp_c --> glu__L_c + ppi_c + pram_c<br>glu__D_c <=> glu__L_c<br>akg_c + gln__L_c + h_c + nadph_c --> 2.0 glu__L_c + nadp_c<br>glutrna_c + h_c + nadph_c --> glu1sa_c + nadp_c + trnaglu_c<br>atp_c + glu__L_c + trnaglu_c --> amp_c + glutrna_c + ppi_c<br>atp_c + glu__L_p + h2o_c --> adp_c + glu__L_c + h_c + pi_c<br>glu__L_p + h_p <=> glu__L_c + h_c<br>glu__L_p + na1_p --> glu__L_c + na1_c<br>glu__L_e <=> glu__L_p<br>2.0 glx_c + h_c --> 2h3oppan_c + co2_c<br>glyald_e <=> glyald_p<br>glyald_p <=> glyald_c<br>accoa_c + gly_c <=> 2aobut_c + coa_c<br>atp_c + glyb_p + h2o_c --> adp_c + glyb_c + h_c + pi_c<br>glyb_p + h_p --> glyb_c + h_c<br>glyb_e <=> glyb_p<br>atp_c + glyc2p_p + h2o_c --> adp_c + glyc2p_c + h_c + pi_c<br>glyc2p_e <=> glyc2p_p<br>atp_c + glyc3p_p + h2o_c --> adp_c + glyc3p_c + h_c + pi_c<br>glyc3p_p + pi_c --> glyc3p_c + pi_p<br>glyc3p_e <=> glyc3p_p<br>glyc__R_p + h_p <=> glyc__R_c + h_c<br>glyc__R_e <=> glyc__R_p<br>glyc_c + nad_c --> dha_c + h_c + nadh_c<br>atp_c + glyc__R_c --> 3pg_c + adp_c + h_c<br>atp_c + glyc__R_c --> 2pg_c + adp_c + h_c<br>gly_c + nad_c + thf_c --> co2_c + mlthf_c + nadh_c + nh4_c<br>glx_c + h_c + nadh_c --> glyclt_c + nad_c<br>glx_c + h_c + nadph_c --> glyclt_c + nadp_c<br>glyclt_p + h_p <=> glyclt_c + h_c<br>glyclt_p + na1_p --> glyclt_c + na1_c<br>glyclt_e <=> glyclt_p<br>glyclt_c + q8_c --> glx_c + q8h2_c<br>glyclt_c + mqn8_c --> glx_c + mql8_c<br>2dmmq8_c + glyclt_c --> 2dmmql8_c + glx_c<br>glyc_e <=> glyc_p<br>glyc_c <=> glyc_p<br>atp_c + glyc_c --> adp_c + glyc3p_c + h_c<br>h2o_c + lgt__S_c --> gthrd_c + h_c + lac__D_c<br>h2o_c + mthgxl_c --> h_c + lac__D_c<br>atp_c + gly_c + trnagly_c --> amp_c + glytrna_c + ppi_c<br>gly_p + h_p --> gly_c + h_c<br>gly_p + h_p <=> gly_c + h_c<br>gly_p + na1_p --> gly_c + na1_c<br>gly_e <=> gly_p<br>gdpmann_c --> gdpddman_c + h2o_c<br>atp_c + gmhep1p_c + h_c --> adphep_DD_c + ppi_c<br>atp_c + gmhep7p_c --> adp_c + gmhep17bp_c + h_c<br>gmhep17bp_c + h2o_c --> gmhep1p_c + pi_c<br>gmp_c + 2.0 h_c + nadph_c --> imp_c + nadp_c + nh4_c<br>atp_c + gln__L_c + h2o_c + xmp_c --> amp_c + glu__L_c + gmp_c + 2.0 h_c + ppi_c<br>gmp_e <=> gmp_p<br>6pgc_c + nadp_c --> co2_c + nadph_c + ru5p__D_c<br>atp_c + glcn_c --> 6pgc_c + adp_c + h_c<br>gdpofuc_c + h_c + nadph_c --> gdpfuc_c + nadp_c<br>gp4g_c + h2o_c --> 2.0 gdp_c + 2.0 h_c<br>g3pc_c + h2o_c --> chol_c + glyc3p_c + h_c<br>g3pc_p + h2o_p --> chol_p + glyc3p_p + h_p<br>g3pe_c + h2o_c --> etha_c + glyc3p_c + h_c<br>g3pe_p + h2o_p --> etha_p + glyc3p_p + h_p<br>g3ps_c + h2o_c --> glyc3p_c + h_c + ser__L_c<br>g3ps_p + h2o_p --> glyc3p_p + h_p + ser__L_p<br>g3pg_c + h2o_c --> glyc3p_c + glyc_c + h_c<br>g3pg_p + h2o_p --> glyc3p_p + glyc_p + h_p<br>g3pi_c + h2o_c --> glyc3p_c + h_c + inost_c<br>g3pi_p + h2o_p --> glyc3p_p + h_p + inost_p<br>grdp_c + ipdp_c --> frdp_c + ppi_c<br>grxox_c + 2.0 gthrd_c --> grxrd_c + gthox_c<br>atp_c + gsn_c --> adp_c + gmp_c + h_c<br>gsn_p + h_p --> gsn_c + h_c<br>gsn_e <=> gsn_p<br>gtspmd_c + h2o_c --> gthrd_c + spmd_c<br>atp_c + gthrd_c + spmd_c --> adp_c + gtspmd_c + h_c + pi_c<br>gthox_e <=> gthox_p<br>gthox_c + h_c + nadph_c <=> 2.0 gthrd_c + nadp_c<br>2.0 gthrd_c + h2o2_c --> gthox_c + 2.0 h2o_c<br>gthrd_p + h2o_p --> cgly_p + glu__L_p<br>atp_c + gthrd_c + h2o_c --> adp_c + gthrd_p + h_c + pi_c<br>atp_c + gthrd_p + h2o_c --> adp_c + gthrd_c + h_c + pi_c<br>gthrd_e <=> gthrd_p<br>atp_c + glucys_c + gly_c --> adp_c + gthrd_c + h_c + pi_c<br>gtp_c + h2o_c --> ahdt_c + for_c + h_c<br>gtp_c + 3.0 h2o_c --> 25drapp_c + for_c + 2.0 h_c + ppi_c<br>gdptp_c + h2o_c --> h_c + pi_c + ppgpp_c<br>atp_c + gtp_c --> amp_c + gdptp_c + h_c<br>gtp_c + h2o_c + h_c --> nh4_c + xtp_c<br>gtp_e <=> gtp_p<br>gtp_c --> 35cgmp_c + ppi_c<br>gua_c + h2o_c + h_c --> nh4_c + xan_c<br>gua_c + prpp_c --> gmp_c + ppi_c<br>gua_p + h_p --> gua_c + h_c<br>gua_e <=> gua_p<br>gua_p <=> gua_c<br>glcur_c <=> fruur_c<br>galur_c <=> tagur_c<br>glcur1p_p + h2o_p --> glcur_p + pi_p<br>h2o2_e <=> h2o2_p<br>h2o_e <=> h2o_p<br>h2o_p <=> h2o_c<br>h2s_c + 2.0 o2_c --> 2.0 h_c + so4_c<br>h2s_c --> h2s_p<br>h2s_e <=> h2s_p<br>h2_e <=> h2_p<br>h2_p <=> h2_c<br>aacoa_c + h_c + nadh_c <=> 3hbcoa_c + nad_c<br>3ohcoa_c + h_c + nadh_c <=> 3hhcoa_c + nad_c<br>3oocoa_c + h_c + nadh_c <=> 3hocoa_c + nad_c<br>3odcoa_c + h_c + nadh_c <=> 3hdcoa_c + nad_c<br>3oddcoa_c + h_c + nadh_c <=> 3hddcoa_c + nad_c<br>3otdcoa_c + h_c + nadh_c <=> 3htdcoa_c + nad_c<br>3ohdcoa_c + h_c + nadh_c <=> 3hhdcoa_c + nad_c<br>3ohodcoa_c + h_c + nadh_c <=> 3hodcoa_c + nad_c<br>3hadpcoa_c + nad_c <=> h_c + nadh_c + oxadpcoa_c<br>4hbz_c + octdp_c --> 3ophb_c + ppi_c<br>3hcinnm_p + h_p <=> 3hcinnm_c + h_c<br>3hcinnm_e <=> 3hcinnm_p<br>co2_c + h2o_c <=> h_c + hco3_c<br>amet_c + hcys__L_c --> ahcys_c + h_c + met__L_c<br>hcys__L_c + mmet_c --> h_c + 2.0 met__L_c<br>hdca_e --> hdca_p<br>hdcea_e --> hdcea_p<br>frdp_c + h2o_c + pheme_c --> hemeO_c + ppi_c<br>atp_c + hhlipa_c --> adp_c + h_c + phhlipa_c<br>atp_c + hphhlipa_c --> adp_c + h_c + phphhlipa_c<br>adphep_LD_c + lipa_c --> adp_c + h_c + hlipa_c<br>adphep_LD_c + hlipa_c --> adp_c + h_c + hhlipa_c<br>adphep_LD_c + phhlipa_c --> adp_c + h_c + hphhlipa_c<br>adphep_LD_c + gggagicolipa_c --> adp_c + colipa_c + h_c<br>4mhetz_c + atp_c --> 4mpetz_c + adp_c + h_c<br>atp_c + glc__D_c --> adp_c + g6p_c + h_c<br>atp_c + man_c --> adp_c + h_c + man6p_c<br>atp_c + fru_c --> adp_c + f6p_c + h_c<br>h_p + hxa_p <=> h_c + hxa_c<br>atp_c + h2o_c + hg2_c --> adp_c + h_c + hg2_p + pi_c<br>h_p + hg2_c --> h_c + hg2_p<br>hg2_e <=> hg2_p<br>h2o_c + histd_c + 2.0 nad_c --> 3.0 h_c + his__L_c + 2.0 nadh_c<br>h2o_c + hisp_c --> histd_c + pi_c<br>atp_c + his__L_c + trnahis_c --> amp_c + histrna_c + ppi_c<br>atp_c + h2o_c + his__L_p --> adp_c + h_c + his__L_c + pi_c<br>h_p + his__L_p <=> h_c + his__L_c<br>his__L_e <=> his__L_p<br>h2o_c + hkndd_c --> h_c + op4en_c + succ_c<br>h2o_c + hkntd_c --> fum_c + h_c + op4en_c<br>h2o_c + 4.0 ppbng_c --> hmbil_c + 4.0 nh4_c<br>4ahmmp_c + atp_c --> 4ampm_c + adp_c + h_c<br>h_p + hom__L_c --> h_c + hom__L_p<br>hom__L_e <=> hom__L_p<br>4h2opntn_c --> acald_c + pyr_c<br>6hmhpt_c + atp_c --> 6hmhptpp_c + amp_c + h_c<br>dhpppn_c + o2_c --> h_c + hkndd_c<br>3hpppn_p + h_p <=> 3hpppn_c + h_c<br>3hpppn_e <=> 3hpppn_p<br>hpyr_c <=> 2h3oppan_c<br>h_c + hpyr_c + nadh_c --> glyc__R_c + nad_c<br>h_c + hpyr_c + nadph_c --> glyc__R_c + nadp_c<br>hom__L_c + nadp_c <=> aspsa_c + h_c + nadph_c<br>atp_c + hom__L_c --> adp_c + h_c + phom_c<br>hom__L_c + succoa_c --> coa_c + suchms_c<br>glu__L_c + imacp_c --> akg_c + hisp_c<br>h2o_c + hxan_c + nad_c --> h_c + nadh_c + xan_c<br>hxa_e <=> hxa_p<br>accoa_c + hxa_c --> ac_c + hxcoa_c<br>hxan_c + prpp_c --> imp_c + ppi_c<br>h2_c + 2.0 h_c + q8_c --> 2.0 h_p + q8h2_c<br>h2_c + 2.0 h_c + mqn8_c --> 2.0 h_p + mql8_c<br>2dmmq8_c + h2_c + 2.0 h_c --> 2dmmql8_c + 2.0 h_p<br>h2o_c + pyam5p_c --> pi_c + pydam_c<br>hxan_e <=> hxan_p<br>hxan_p <=> hxan_c<br>h_e <=> h_p<br>2fe1s_c + iscssh_c + iscu_c --> 4.0 h_c + iscs_c + iscu_2fe2s_c<br>fadh2_c + 2.0 fe2_c + 2.0 iscssh_c + iscu_c --> fad_c + 6.0 h_c + 2.0 iscs_c + iscu_2fe2s_c<br>fadh2_c + 2.0 fe2_c + 2.0 iscssh_c + iscu_2fe2s_c --> fad_c + 6.0 h_c + 2.0 iscs_c + iscu_2fe2s2_c<br>4.0 h_c + iscu_2fe2s_c --> 2fe2s_c + iscu_c<br>fadh2_c + 2.0 h_c + iscu_2fe2s2_c --> fad_c + iscu_4fe4s_c<br>4.0 h_c + iscu_4fe4s_c --> 4fe4s_c + iscu_c<br>icit_c + nadp_c <=> akg_c + co2_c + nadph_c<br>chor_c <=> ichor_c<br>chor_c --> ichor_c<br>h2o_c + ichor_c --> 23ddhb_c + pyr_c<br>icit_c --> glx_c + succ_c<br>cys__L_c + iscs_c --> ala__L_c + iscssh_c<br>5dglcn_c + h_c + nadh_c <=> idon__L_c + nad_c<br>5dglcn_c + h_c + nadph_c --> idon__L_c + nadp_c<br>h_p + idon__L_p <=> h_c + idon__L_c<br>idon__L_e <=> idon__L_p<br>gln__L_c + prlp_c --> aicar_c + eig3p_c + glu__L_c + h_c<br>eig3p_c --> h2o_c + imacp_c<br>2cpr5p_c + h_c --> 3ig3p_c + co2_c + h2o_c<br>akg_c + ile__L_c <=> 3mop_c + glu__L_c<br>atp_c + ile__L_c + trnaile_c --> amp_c + iletrna_c + ppi_c<br>atp_c + h2o_c + ile__L_p --> adp_c + h_c + ile__L_c + pi_c<br>h_p + ile__L_p <=> h_c + ile__L_c<br>ile__L_e <=> ile__L_p<br>h2o_c + imp_c <=> fprica_c<br>h2o_c + imp_c + nad_c --> h_c + nadh_c + xmp_c<br>imp_e <=> imp_p<br>h_c + indole_c --> h_p + indole_p<br>h_p + indole_p <=> h_c + indole_c<br>indole_e <=> indole_p<br>inost_p + na1_p --> inost_c + na1_c<br>h2o_c + ins_c --> hxan_c + rib__D_c<br>atp_c + ins_c --> adp_c + h_c + imp_c<br>inost_e <=> inost_p<br>h_p + ins_p --> h_c + ins_c<br>h_p + ins_p <=> h_c + ins_c<br>ins_e <=> ins_p<br>ipdp_c <=> dmpp_c<br>h2mb4p_c + h_c + nadh_c --> h2o_c + ipdp_c + nad_c<br>3c2hmp_c + nad_c --> 3c4mop_c + h_c + nadh_c<br>3c2hmp_c <=> 2ippm_c + h2o_c<br>2ippm_c + h2o_c <=> 3c3hmp_c<br>3mob_c + accoa_c + h2o_c --> 3c3hmp_c + coa_c + h_c<br>atp_c + h2o_c + isetac_p --> adp_c + h_c + isetac_c + pi_c<br>isetac_e <=> isetac_p<br>atp_c + h2o_c + kdo2lipid4_c --> adp_c + h_c + kdo2lipid4_p + pi_c<br>atp_c + h2o_c + kdo2lipid4_p --> adp_c + h_c + kdo2lipid4_e + pi_c<br>23dhmb_c + nadp_c <=> alac__S_c + h_c + nadph_c<br>2ahbut_c + h_c + nadph_c <=> 23dhmp_c + nadp_c<br>acACP_c + h_c + malACP_c --> ACP_c + actACP_c + co2_c<br>accoa_c + h_c + malACP_c --> actACP_c + co2_c + coa_c<br>ctp_c + kdo_c --> ckdo_c + ppi_c<br>h2o_c + kdo8p_c --> kdo_c + pi_c<br>ara5p_c + h2o_c + pep_c --> kdo8p_c + pi_c<br>3dhgulnp_c + h_c --> co2_c + xu5p__L_c<br>atp_c + h2o_c + k_p --> adp_c + h_c + k_c + pi_c<br>h_p + k_p --> h_c + k_c<br>h_p + k_c --> h_c + k_p<br>k_e <=> k_p<br>lac__L_c + q8_c --> pyr_c + q8h2_c<br>lac__L_c + mqn8_c --> mql8_c + pyr_c<br>h_p + lac__L_p <=> h_c + lac__L_c<br>lac__L_e <=> lac__L_p<br>colipa_p + uLa4n_p --> acolipa_p + udcpp_p<br>h2o_c + lcts_c --> gal_c + glc__D_c<br>h2o_p + lcts_p --> gal_p + glc__D_p<br>LalaDgluMdap_c + h2o_c --> 26dap__M_c + LalaDglu_c<br>LalaDglu_e <=> LalaDglu_p<br>LalaDglu_p + h_p --> LalaDglu_c + h_c<br>LalaLglu_e <=> LalaLglu_p<br>LalaLglu_p + h_p --> LalaLglu_c + h_c<br>h_c + mthgxl_c + nadh_c --> lald__D_c + nad_c<br>h_c + mthgxl_c + nadph_c --> lald__L_c + nadp_c<br>LalaLglu_c + h2o_c --> ala__L_c + glu__L_c<br>h2o_c + lald__L_c + nad_c --> 2.0 h_c + lac__L_c + nadh_c<br>h_c + lald__D_c + nadh_c <=> 12ppd__R_c + nad_c<br>h_c + lald__L_c + nadh_c <=> 12ppd__S_c + nad_c<br>h_p + lcts_c --> h_c + lcts_p<br>lcts_e <=> lcts_p<br>h_p + lcts_p <=> h_c + lcts_c<br>lac__D_c + nad_c <=> h_c + nadh_c + pyr_c<br>lac__D_c + q8_c --> pyr_c + q8h2_c<br>4mop_c + glu__L_c --> akg_c + leu__L_c<br>atp_c + leu__L_c + trnaleu_c --> amp_c + leutrna_c + ppi_c<br>atp_c + h2o_c + leu__L_p --> adp_c + h_c + leu__L_c + pi_c<br>h_p + leu__L_p <=> h_c + leu__L_c<br>leu__L_e <=> leu__L_p<br>gthrd_c + mthgxl_c --> lgt__S_c<br>atp_c + h2o_c + lipa_cold_c --> adp_c + h_c + lipa_cold_p + pi_c<br>colipa_e + h_e + hdca_e --> h2o_e + hacolipa_e<br>h_e + hdca_e + lipa_e --> h2o_e + halipa_e<br>lipoamp_c --> amp_c + lipopb_c<br>atp_c + lipoate_c --> lipoamp_c + ppi_c<br>atp_c + h2o_c + lipa_c --> adp_c + h_c + lipa_p + pi_c<br>atp_c + h2o_c + lipa_p --> adp_c + h_c + lipa_e + pi_c<br>h_c + ocACP_c --> ACP_c + octapb_c<br>4fe4s_c + 2.0 amet_c + h_c + nad_c + octapb_c --> 2fe2s_c + 2.0 dad_5_c + 2.0 fe2_c + lipopb_c + 2.0 met__L_c + nadh_c<br>h_p + lipoate_p --> h_c + lipoate_c<br>lipoate_e <=> lipoate_p<br>lipidX_c + u23ga_c --> h_c + lipidAds_c + udp_c<br>1ddecg3p_p + h2o_p --> ddca_p + glyc3p_p + h_p<br>1tdecg3p_p + h2o_p --> glyc3p_p + h_p + ttdca_p<br>1tdec7eg3p_p + h2o_p --> glyc3p_p + h_p + ttdcea_p<br>1hdecg3p_p + h2o_p --> glyc3p_p + h_p + hdca_p<br>1hdec9eg3p_p + h2o_p --> glyc3p_p + h_p + hdcea_p<br>1odecg3p_p + h2o_p --> glyc3p_p + h_p + ocdca_p<br>1odec11eg3p_p + h2o_p --> glyc3p_p + h_p + ocdcea_p<br>1agpe120_p + h2o_p --> ddca_p + g3pe_p + h_p<br>1agpe140_p + h2o_p --> g3pe_p + h_p + ttdca_p<br>1agpe141_p + h2o_p --> g3pe_p + h_p + ttdcea_p<br>1agpe160_p + h2o_p --> g3pe_p + h_p + hdca_p<br>1agpe161_p + h2o_p --> g3pe_p + h_p + hdcea_p<br>1agpe180_p + h2o_p --> g3pe_p + h_p + ocdca_p<br>1agpe181_p + h2o_p --> g3pe_p + h_p + ocdcea_p<br>1agpg120_p + h2o_p --> ddca_p + g3pg_p + h_p<br>1agpg140_p + h2o_p --> g3pg_p + h_p + ttdca_p<br>1agpg141_p + h2o_p --> g3pg_p + h_p + ttdcea_p<br>1agpg160_p + h2o_p --> g3pg_p + h_p + hdca_p<br>1agpg161_p + h2o_p --> g3pg_p + h_p + hdcea_p<br>1agpg180_p + h2o_p --> g3pg_p + h_p + ocdca_p<br>1agpg181_p + h2o_p --> g3pg_p + h_p + ocdcea_p<br>2ddecg3p_c + h2o_c --> ddca_c + glyc3p_c + 2.0 h_c<br>2tdecg3p_c + h2o_c --> glyc3p_c + 2.0 h_c + ttdca_c<br>2tdec7eg3p_c + h2o_c --> glyc3p_c + 2.0 h_c + ttdcea_c<br>2hdecg3p_c + h2o_c --> glyc3p_c + 2.0 h_c + hdca_c<br>2hdec9eg3p_c + h2o_c --> glyc3p_c + 2.0 h_c + hdcea_c<br>2odecg3p_c + h2o_c --> glyc3p_c + 2.0 h_c + ocdca_c<br>2odec11eg3p_c + h2o_c --> glyc3p_c + 2.0 h_c + ocdcea_c<br>2agpe120_c + pg120_c --> apg120_c + g3pe_c<br>2agpe140_c + pg140_c --> apg140_c + g3pe_c<br>2agpe141_c + pg141_c --> apg141_c + g3pe_c<br>2agpe160_c + pg160_c --> apg160_c + g3pe_c<br>2agpe161_c + pg161_c --> apg161_c + g3pe_c<br>2agpe180_c + pg180_c --> apg180_c + g3pe_c<br>2agpe181_c + pg181_c --> apg181_c + g3pe_c<br>2agpg120_c + pg120_c --> apg120_c + g3pg_c<br>2agpg140_c + pg140_c --> apg140_c + g3pg_c<br>2agpg141_c + pg141_c --> apg141_c + g3pg_c<br>2agpg160_c + pg160_c --> apg160_c + g3pg_c<br>2agpg161_c + pg161_c --> apg161_c + g3pg_c<br>2agpg180_c + pg180_c --> apg180_c + g3pg_c<br>2agpg181_c + pg181_c --> apg181_c + g3pg_c<br>2agpe120_c + h2o_c --> ddca_c + g3pe_c + h_c<br>2agpe140_c + h2o_c --> g3pe_c + h_c + ttdca_c<br>2agpe141_c + h2o_c --> g3pe_c + h_c + ttdcea_c<br>2agpe160_c + h2o_c --> g3pe_c + h_c + hdca_c<br>2agpe161_c + h2o_c --> g3pe_c + h_c + hdcea_c<br>2agpe180_c + h2o_c --> g3pe_c + h_c + ocdca_c<br>2agpe181_c + h2o_c --> g3pe_c + h_c + ocdcea_c<br>2agpg120_c + h2o_c --> ddca_c + g3pg_c + h_c<br>2agpg140_c + h2o_c --> g3pg_c + h_c + ttdca_c<br>2agpg141_c + h2o_c --> g3pg_c + h_c + ttdcea_c<br>2agpg160_c + h2o_c --> g3pg_c + h_c + hdca_c<br>2agpg161_c + h2o_c --> g3pg_c + h_c + hdcea_c<br>2agpg180_c + h2o_c --> g3pg_c + h_c + ocdca_c<br>2agpg181_c + h2o_c --> g3pg_c + h_c + ocdcea_c<br>nadp_c + ser__L_c <=> 2amsa_c + h_c + nadph_c<br>h_c + lys__L_c --> 15dap_c + co2_c<br>atp_c + lys__L_c + trnalys_c --> amp_c + lystrna_c + ppi_c<br>atp_c + h2o_c + lys__L_p --> adp_c + h_c + lys__L_c + pi_c<br>h_p + lys__L_p --> h_c + lys__L_c<br>h_p + lys__L_c --> h_c + lys__L_p<br>lys__L_e <=> lys__L_p<br>lyx__L_c --> xylu__L_c<br>h_p + lyx__L_p --> h_c + lyx__L_c<br>lyx__L_e <=> lyx__L_p<br>mnl1p_c + nad_c <=> f6p_c + h_c + nadh_c<br>h_c + malACP_c --> acACP_c + co2_c<br>amet_c + malcoa_c --> ahcys_c + malcoame_c<br>mal__D_c + nad_c --> co2_c + nadh_c + pyr_c<br>2.0 h_p + mal__D_p --> 2.0 h_c + mal__D_c<br>mal__D_e <=> mal__D_p<br>accoa_c + glx_c + h2o_c --> coa_c + h_c + mal__L_c<br>accoa_c + malt_c <=> acmalt_c + coa_c<br>atp_c + h2o_c + malthx_p --> adp_c + h_c + malthx_c + pi_c<br>malthx_e --> malthx_p<br>atp_c + h2o_c + maltpt_p --> adp_c + h_c + maltpt_c + pi_c<br>maltpt_e --> maltpt_p<br>atp_c + h2o_c + malttr_p --> adp_c + h_c + malttr_c + pi_c<br>malttr_e --> malttr_p<br>atp_c + h2o_c + maltttr_p --> adp_c + h_c + maltttr_c + pi_c<br>maltttr_e --> maltttr_p<br>atp_c + h2o_c + malt_p --> adp_c + h_c + malt_c + pi_c<br>malt_p + pep_c --> malt6p_c + pyr_c<br>malt_e --> malt_p<br>2.0 h_p + mal__L_p --> 2.0 h_c + mal__L_c<br>3.0 h_p + mal__L_p --> 3.0 h_c + mal__L_c<br>h_p + mal__L_c --> h_c + mal__L_p<br>mal__L_e <=> mal__L_p<br>gdp_c + h_c + man1p_c --> gdpmann_c + pi_c<br>man6p_c <=> f6p_c<br>man6p_p + 2.0 pi_c --> man6p_c + 2.0 pi_p<br>man6p_e <=> man6p_p<br>mana_c + nad_c <=> fruur_c + h_c + nadh_c<br>manglyc_p + pep_c --> man6pglyc_c + pyr_c<br>manglyc_e <=> manglyc_p<br>h2o_c + man6pglyc_c --> glyc__R_c + man6p_c<br>man_p + pep_c --> man6p_c + pyr_c<br>man_e <=> man_p<br>2mcit_c --> 2mcacn_c + h2o_c<br>micit_c <=> pyr_c + succ_c<br>h2o_c + oaa_c + ppcoa_c --> 2mcit_c + coa_c + h_c<br>ACP_c + malcoa_c <=> coa_c + malACP_c<br>cyan_c + mercppyr_c --> h_c + pyr_c + tcynt_c<br>murein5p5p_p --> ala__D_p + murein5px4p_p<br>murein5p5p_p --> alaala_p + murein5px3p_p<br>murein5p5p5p_p --> 2.0 ala__D_p + murein5px4px4p_p<br>h2o_p + murein5px4p_p --> ala__D_p + murein4px4p_p<br>h2o_p + murein5px4px4p_p --> ala__D_p + murein4px4px4p_p<br>h2o_p + murein5p5p_p --> ala__D_p + murein5p4p_p<br>h2o_p + murein5p4p_p --> ala__D_p + murein4p4p_p<br>h2o_p + murein5p3p_p --> ala__D_p + murein4p3p_p<br>h2o_p + murein4px4p_p --> murein4p4p_p<br>h2o_p + murein3px4p_p --> murein4p3p_p<br>h2o_p + murein5px4p_p --> murein5p4p_p<br>h2o_p + murein4px4px4p_p --> murein4px4p4p_p<br>mal__L_c + nad_c <=> h_c + nadh_c + oaa_c<br>mal__L_c + q8_c --> oaa_c + q8h2_c<br>mal__L_c + mqn8_c --> mql8_c + oaa_c<br>mal__L_c + nad_c --> co2_c + nadh_c + pyr_c<br>mal__L_c + nadp_c --> co2_c + nadph_c + pyr_c<br>2mecdp_c + 2.0 flxr_c + h_c --> 2.0 flxso_c + h2mb4p_c + h2o_c<br>2p4c2me_c --> 2mecdp_c + cmp_c<br>h_p + melib_p --> h_c + melib_c<br>h_p + melib_c --> h_c + melib_p<br>melib_e <=> melib_p<br>meoh_e <=> meoh_p<br>meoh_p <=> meoh_c<br>2me4p_c + ctp_c + h_c --> 4c2me_c + ppi_c<br>atp_c + h2o_c + met__L_c --> amet_c + pi_c + ppi_c<br>atp_c + h2o_c + met__D_p --> adp_c + h_c + met__D_c + pi_c<br>met__D_e <=> met__D_p<br>h2o2_c + met__L_c --> h2o_c + metsox_S__L_c<br>h2o2_c + met__L_c --> h2o_c + metsox_R__L_c<br>5mthf_c + hcys__L_c --> h_c + met__L_c + thf_c<br>atp_c + h2o_c + metsox_S__L_p --> adp_c + h_c + metsox_S__L_c + pi_c<br>metsox_S__L_e <=> metsox_S__L_p<br>atp_c + h2o_c + metsox_R__L_p --> adp_c + h_c + metsox_R__L_c + pi_c<br>metsox_R__L_e <=> metsox_R__L_p<br>metsox_S__L_c + trdrd_c --> h2o_c + met__L_c + trdox_c<br>metsox_R__L_c + trdrd_c --> h2o_c + met__L_c + trdox_c<br>atp_c + met__L_c + trnamet_c --> amp_c + mettrna_c + ppi_c<br>atp_c + h2o_c + met__L_p --> adp_c + h_c + met__L_c + pi_c<br>met__L_e <=> met__L_p<br>2.0 h_c + mg2_p <=> 2.0 h_p + mg2_c<br>mg2_e <=> mg2_p<br>mg2_p --> mg2_c<br>atp_c + h2o_c + mg2_p --> adp_c + h_c + mg2_c + pi_c<br>dhap_c --> mthgxl_c + pi_c<br>h2o_c + mi1p__D_c --> inost_c + pi_c<br>2mcacn_c + h2o_c <=> micit_c<br>mincyc_e <=> mincyc_p<br>h_p + mincyc_p --> h_c + mincyc_e<br>minohp_e --> minohp_p<br>h2o_p + murein5px4p_p --> alaala_p + murein3px4p_p<br>h2o_p + murein4p4p_p --> ala__D_p + murein4p3p_p<br>h2o_p + murein5p5p_p --> alaala_p + murein5p3p_p<br>h2o_p + murein4p3p_p --> ala__D_p + murein3p3p_p<br>h2o_p + murein5px3p_p --> alaala_p + murein3px3p_p<br>h2o_p + murein3px3p_p --> murein3p3p_p<br>h2o_p + murein5px3p_p --> murein5p3p_p<br>h2o_c + malttr_c --> glc__D_c + malt_c<br>h2o_c + maltttr_c --> glc__D_c + malttr_c<br>h2o_c + maltpt_c --> glc__D_c + maltttr_c<br>h2o_c + malthx_c --> glc__D_c + maltpt_c<br>h2o_c + malthp_c --> glc__D_c + malthx_c<br>murein4p4p_p --> 2.0 anhgm4p_p<br>murein4p3p_p --> anhgm3p_p + anhgm4p_p<br>murein3p3p_p --> 2.0 anhgm3p_p<br>murein4px4p4p_p --> anhgm4p_p + murein4px4p_p<br>maltpt_c + pi_c <=> g1p_c + maltttr_c<br>malthx_c + pi_c <=> g1p_c + maltpt_c<br>malthp_c + pi_c <=> g1p_c + malthx_c<br>h_c + mmcoa__S_c --> co2_c + ppcoa_c<br>h_p + mmet_p --> h_c + mmet_c<br>mmet_e <=> mmet_p<br>succoa_c --> mmcoa__S_c<br>h_p + mn2_c --> h_c + mn2_p<br>mn2_p --> mn2_c<br>h2o_c + man6p_c --> man_c + pi_c<br>mnl_p + pep_c --> mnl1p_c + pyr_c<br>mnl_e <=> mnl_p<br>mana_c --> 2ddglcn_c + h2o_c<br>h_p + mn2_p --> h_c + mn2_c<br>mn2_e <=> mn2_p<br>iscssh_c + moadamp_c + nadh_c --> amp_c + iscs_c + moadcosh_c + nad_c<br>ckdo_c + lipidA_c --> cmp_c + h_c + kdolipid4_c<br>ckdo_c + kdolipid4_c --> cmp_c + h_c + kdo2lipid4_c<br>ckdo_c + phphhlipa_c --> cmp_c + h_c + kphphhlipa_c<br>atp_c + h2o_c + mobd_p --> adp_c + h_c + mobd_c + pi_c<br>mobd_e <=> mobd_p<br>ctp_c + h_c + moco_c --> mococdp_c + ppi_c<br>2.0 h_c + mobd_c + mptamp_c --> amp_c + cu2_c + h2o_c + moco_c<br>gtp_c + h_c + moco_c --> mocogdp_c + ppi_c<br>3mob_c + h2o_c + mlthf_c --> 2dhp_c + thf_c<br>mal__L_c + o2_c <=> h2o2_c + oaa_c<br>atp_c + h_c + mpt_c --> mptamp_c + ppi_c<br>2.0 uaagmda_c --> 2.0 h_c + murein5p5p_p + 2.0 udcpdp_c<br>murein5p5p_p + uaagmda_c --> h_c + murein5p5p5p_p + udcpdp_c<br>cpmp_c + cu2_c + 2.0 moadcosh_c --> 5.0 h_c + 2.0 moadcoo_c + mpt_c<br>atp_c + h_c + moadcoo_c --> moadamp_c + ppi_c<br>h_c + msa_c + nadph_c --> 3hpp_c + nadp_c<br>atp_c + h2o_c + mso3_p --> adp_c + h_c + mso3_c + pi_c<br>mso3_e <=> mso3_p<br>5mta_c + h2o_c --> 5mtr_c + ade_c<br>h2o_c + methf_c <=> 10fthf_c + h_c<br>mlthf_c + nadp_c <=> methf_c + nadph_c<br>2.0 h_c + mlthf_c + nadh_c --> 5mthf_c + nad_c<br>h2o_c + mdhdhf_c --> mththf_c<br>Nmtrp_c + h2o_c + o2_c --> fald_c + h2o2_c + trp__L_c<br>n2o_e <=> n2o_p<br>n2o_p <=> n2o_c<br>acg5sa_c + h2o_c --> ac_c + glu5sa_c<br>nac_e <=> nac_p<br>nac_p --> nac_c<br>h2o_c + nad_c --> amp_c + 2.0 h_c + nmn_c<br>h_c + mqn8_c + nadh_c --> mql8_c + nad_c<br>4.0 h_c + nadh_c + q8_c --> 3.0 h_p + nad_c + q8h2_c<br>4.0 h_c + mqn8_c + nadh_c --> 3.0 h_p + mql8_c + nad_c<br>2dmmq8_c + 4.0 h_c + nadh_c --> 2dmmql8_c + 3.0 h_p + nad_c<br>h_c + nadh_c + q8_c --> nad_c + q8h2_c<br>2dmmq8_c + h_c + nadh_c --> 2dmmql8_c + nad_c<br>atp_c + nad_c --> adp_c + h_c + nadp_c<br>h2o_c + nad_c --> adprib_c + h_c + ncam_c<br>h_c + nadph_c + q8_c --> nadp_c + q8h2_c<br>h_c + mqn8_c + nadph_c --> mql8_c + nadp_c<br>2dmmq8_c + h_c + nadph_c --> 2dmmql8_c + nadp_c<br>h2o_c + nadp_c --> nad_c + pi_c<br>atp_c + dnad_c + nh4_c --> amp_c + h_c + nad_c + ppi_c<br>nad_c + nadph_c --> nadh_c + nadp_c<br>atp_c + h2o_c + nac_c + prpp_c --> adp_c + nicrnt_c + pi_c + ppi_c<br>3.0 h_p + 2.0 na1_c --> 3.0 h_c + 2.0 na1_p<br>2.0 h_p + na1_c --> 2.0 h_c + na1_p<br>h_p + na1_c --> h_c + na1_p<br>na1_e <=> na1_p<br>atp_c + gdp_c <=> adp_c + gtp_c<br>atp_c + udp_c <=> adp_c + utp_c<br>atp_c + cdp_c <=> adp_c + ctp_c<br>atp_c + dtdp_c <=> adp_c + dttp_c<br>atp_c + dgdp_c <=> adp_c + dgtp_c<br>atp_c + dudp_c <=> adp_c + dutp_c<br>atp_c + dcdp_c <=> adp_c + dctp_c<br>atp_c + dadp_c <=> adp_c + datp_c<br>nh4_e <=> nh4_p<br>nh4_p <=> nh4_c<br>h_c + nadh_c + 2.0 no_c --> h2o_c + n2o_c + nad_c<br>atp_c + h2o_c + ni2_c --> adp_c + h_c + ni2_p + pi_c<br>h_p + ni2_c --> h_c + ni2_p<br>ni2_e <=> ni2_p<br>ni2_p --> ni2_c<br>atp_c + h2o_c + ni2_p --> adp_c + h_c + ni2_c + pi_c<br>atp_c + h_c + nmn_c --> nad_c + ppi_c<br>h2o_c + nmn_c --> nh4_c + nicrnt_c<br>h2o_c + nmn_c --> h_c + ncam_c + r5p_c<br>nmn_p --> nmn_c<br>h2o_c + nmn_p --> h_c + ncam_c + r5p_c<br>nmn_e <=> nmn_p<br>h2o_c + ncam_c --> nac_c + nh4_c<br>atp_c + h_c + nicrnt_c <=> dnad_c + ppi_c<br>dmbzid_c + nicrnt_c --> 5prdmbz_c + h_c + nac_c<br>2.0 h_c + prpp_c + quln_c --> co2_c + nicrnt_c + ppi_c<br>h_p + no2_p <=> h_c + no2_c<br>no2_e <=> no2_p<br>no3_p + q8h2_c --> h2o_p + no2_p + q8_c<br>2.0 h_c + no3_c + q8h2_c --> h2o_c + 2.0 h_p + no2_c + q8_c<br>mql8_c + no3_p --> h2o_p + mqn8_c + no2_p<br>2.0 h_c + mql8_c + no3_c --> h2o_c + 2.0 h_p + mqn8_c + no2_c<br>no2_c + no3_p --> no2_p + no3_c<br>no3_e <=> no3_p<br>nadh_c + 2.0 no_c + 2.0 o2_c --> h_c + nad_c + 2.0 no3_c<br>nadph_c + 2.0 no_c + 2.0 o2_c --> h_c + nadp_c + 2.0 no3_c<br>novbcn_e <=> novbcn_p<br>h_p + novbcn_p --> h_c + novbcn_e<br>no_e <=> no_p<br>no_p <=> no_c<br>dump_c + h2o_c --> duri_c + pi_c<br>h2o_c + xmp_c --> pi_c + xtsn_c<br>h2o_p + xmp_p --> pi_p + xtsn_p<br>h2o_c + imp_c --> ins_c + pi_c<br>h2o_p + imp_p --> ins_p + pi_p<br>dimp_c + h2o_c --> din_c + pi_c<br>dimp_p + h2o_p --> din_p + pi_p<br>dump_p + h2o_p --> duri_p + pi_p<br>h2o_c + ump_c --> pi_c + uri_c<br>h2o_p + ump_p --> pi_p + uri_p<br>dcmp_c + h2o_c --> dcyt_c + pi_c<br>dcmp_p + h2o_p --> dcyt_p + pi_p<br>cmp_c + h2o_c --> cytd_c + pi_c<br>cmp_p + h2o_p --> cytd_p + pi_p<br>dtmp_c + h2o_c --> pi_c + thymd_c<br>dtmp_p + h2o_p --> pi_p + thymd_p<br>damp_c + h2o_c --> dad_2_c + pi_c<br>damp_p + h2o_p --> dad_2_p + pi_p<br>amp_c + h2o_c --> adn_c + pi_c<br>amp_p + h2o_p --> adn_p + pi_p<br>dgmp_c + h2o_c --> dgsn_c + pi_c<br>dgmp_p + h2o_p --> dgsn_p + pi_p<br>gmp_c + h2o_c --> gsn_c + pi_c<br>gmp_p + h2o_p --> gsn_p + pi_p<br>atp_c + h2o_c --> adp_c + h_c + pi_c<br>h2o_c + itp_c --> h_c + idp_c + pi_c<br>ditp_c + h2o_c --> didp_c + h_c + pi_c<br>h2o_c + xtp_c --> h_c + pi_c + xdp_c<br>gtp_c + h2o_c --> gdp_c + h_c + pi_c<br>gtp_p + h2o_p --> gdp_p + h_p + pi_p<br>ctp_c + h2o_c --> cdp_c + h_c + pi_c<br>dgtp_c + h2o_c --> dgmp_c + h_c + ppi_c<br>ditp_c + h2o_c --> dimp_c + h_c + ppi_c<br>h2o_c + xtp_c --> h_c + ppi_c + xmp_c<br>gtp_c + h2o_c --> gmp_c + h_c + ppi_c<br>dctp_c + h2o_c --> dcmp_c + h_c + ppi_c<br>ctp_c + h2o_c --> cmp_c + h_c + ppi_c<br>datp_c + h2o_c --> damp_c + h_c + ppi_c<br>atp_c + h2o_c --> amp_c + h_c + ppi_c<br>dttp_c + h2o_c --> dtmp_c + h_c + ppi_c<br>h2o_c + utp_c --> h_c + ppi_c + ump_c<br>h2o_c + itp_c --> h_c + imp_c + ppi_c<br>dgtp_c + h2o_c --> dgsn_c + pppi_c<br>gtp_c + h2o_c --> gsn_c + pppi_c<br>5.0 h_c + 3.0 nadh_c + no2_c --> 2.0 h2o_c + 3.0 nad_c + nh4_c<br>2.0 h_p + no2_p + 3.0 q8h2_c --> 2.0 h2o_p + nh4_p + 3.0 q8_c<br>2.0 h_p + 3.0 mql8_c + no2_p --> 2.0 h2o_p + 3.0 mqn8_c + nh4_p<br>atp_c + h2o_c + o16a4colipa_p --> adp_c + h_c + o16a4colipa_e + pi_c<br>colipa_p + o16a4und_p --> h_p + o16a4colipa_p + udcpdp_p<br>2.0 o16aund_p --> h_p + o16a2und_p + udcpdp_p<br>o16a2und_p + o16aund_p --> h_p + o16a3und_p + udcpdp_p<br>o16a3und_p + o16aund_p --> h_p + o16a4und_p + udcpdp_p<br>accoa_c + ragund_c --> aragund_c + coa_c<br>o16aund_c --> o16aund_p<br>garagund_c + udpgalfur_c --> gfgaragund_c + h_c + udp_c<br>aragund_c + udpg_c --> garagund_c + h_c + udp_c<br>gfgaragund_c + udpg_c --> h_c + o16aund_c + udp_c<br>o2s_e <=> o2s_p<br>o2_e <=> o2_p<br>o2_p <=> o2_c<br>h_c + oaa_c --> co2_c + pyr_c<br>2obut_c + coa_c --> for_c + ppcoa_c<br>cbp_c + orn_c <=> citr__L_c + h_c + pi_c<br>ocdca_e --> ocdca_p<br>ocdcea_e --> ocdcea_p<br>octa_e <=> octa_p<br>frdp_c + 5.0 ipdp_c --> octdp_c + 5.0 ppi_c<br>atp_c + h_c + octa_c --> amp_c + octapb_c + ppi_c<br>hgmeACP_c --> egmeACP_c + h2o_c<br>h_c + nadph_c + ogmeACP_c --> hgmeACP_c + nadp_c<br>h_c + malACP_c + malcoame_c --> co2_c + coa_c + ogmeACP_c<br>glu__L_c + ohpb_c <=> akg_c + phthr_c<br>2ohph_c + amet_c --> 2omph_c + ahcys_c + h_c<br>2ombzl_c + amet_c --> 2ommbl_c + ahcys_c + h_c<br>3c4mop_c + h_c --> 4mop_c + co2_c<br>2ommbl_c + 0.5 o2_c --> 2omhmbl_c<br>2ommbl_c + 2.0 atp_c + 3.0 h2o_c + nad_c --> 2omhmbl_c + 2.0 adp_c + 3.0 h_c + nadh_c + 2.0 pi_c<br>h_c + orot5p_c --> co2_c + ump_c<br>2omph_c + 0.5 o2_c --> 2ombzl_c<br>2omph_c + 2.0 atp_c + 3.0 h2o_c + nad_c --> 2ombzl_c + 2.0 adp_c + 3.0 h_c + nadh_c + 2.0 pi_c<br>h2o_c + op4en_c --> 4h2opntn_c<br>3ophb_c + h_c --> 2oph_c + co2_c<br>2oph_c + 0.5 o2_c --> 2ohph_c<br>2oph_c + 2.0 atp_c + 3.0 h2o_c + nad_c --> 2ohph_c + 2.0 adp_c + 3.0 h_c + nadh_c + 2.0 pi_c<br>hpmeACP_c --> epmeACP_c + h2o_c<br>h_c + nadph_c + opmeACP_c --> hpmeACP_c + nadp_c<br>gmeACP_c + h_c + malACP_c --> ACP_c + co2_c + opmeACP_c<br>h_c + orn_c --> co2_c + ptrc_c<br>atp_c + h2o_c + orn_p --> adp_c + h_c + orn_c + pi_c<br>orn_e <=> orn_p<br>2.0 h_p + orot_p --> 2.0 h_c + orot_c<br>orot_e <=> orot_p<br>orot5p_c + ppi_c <=> orot_c + prpp_c<br>oxur_c + pi_c --> cbp_c + oxam_c<br>h_c + oxalcoa_c --> co2_c + forcoa_c<br>2oxpaccoa_c + 2.0 h2o_c + nadp_c --> 3oxdhscoa_c + 2.0 h_c + nadph_c<br>3oxdhscoa_c + coa_c --> 23dhacoa_c + accoa_c<br>1pyr5c_c + 2.0 h2o_c + nad_c --> glu__L_c + h_c + nadh_c<br>1pyr5c_c + 2.0 h_c + nadph_c --> nadp_c + pro__L_c<br>atp_c + h2o_c + pa120_c --> adp_c + h_c + pa120_p + pi_c<br>atp_c + h2o_c + pa140_c --> adp_c + h_c + pa140_p + pi_c<br>atp_c + h2o_c + pa141_c --> adp_c + h_c + pa141_p + pi_c<br>atp_c + h2o_c + pa160_c --> adp_c + h_c + pa160_p + pi_c<br>atp_c + h2o_c + pa161_c --> adp_c + h_c + pa161_p + pi_c<br>atp_c + h2o_c + pa180_c --> adp_c + h_c + pa180_p + pi_c<br>atp_c + h2o_c + pa181_c --> adp_c + h_c + pa181_p + pi_c<br>h_p + pacald_p <=> h_c + pacald_c<br>pacald_e <=> pacald_p<br>h_c + nadph_c + o2_c + phaccoa_c --> h2o_c + nadp_c + rephaccoa_c<br>atp_c + coa_c + pac_c --> amp_c + phaccoa_c + ppi_c<br>ala_B_c + atp_c + pant__R_c --> amp_c + h_c + pnto__R_c + ppi_c<br>h2o_c + pa120_c --> 12dgr120_c + pi_c<br>h2o_p + pa120_p --> 12dgr120_p + pi_p<br>h2o_c + pa140_c --> 12dgr140_c + pi_c<br>h2o_p + pa140_p --> 12dgr140_p + pi_p<br>h2o_c + pa141_c --> 12dgr141_c + pi_c<br>h2o_p + pa141_p --> 12dgr141_p + pi_p<br>h2o_c + pa160_c --> 12dgr160_c + pi_c<br>h2o_p + pa160_p --> 12dgr160_p + pi_p<br>h2o_c + pa161_c --> 12dgr161_c + pi_c<br>h2o_p + pa161_p --> 12dgr161_p + pi_p<br>h2o_c + pa180_c --> 12dgr180_c + pi_c<br>h2o_p + pa180_p --> 12dgr180_p + pi_p<br>h2o_c + pa181_c --> 12dgr181_c + pi_c<br>h2o_p + pa181_p --> 12dgr181_p + pi_p<br>udcpp_c + ugmda_c --> uagmda_c + ump_c<br>paps_c + trdrd_c --> 2.0 h_c + pap_c + so3_c + trdox_c<br>grxrd_c + paps_c --> grxox_c + 2.0 h_c + pap_c + so3_c<br>camp_c + h2o_c --> amp_c + h_c<br>35cgmp_c + h2o_c --> gmp_c + h_c<br>coa_c + nad_c + pyr_c --> accoa_c + co2_c + nadh_c<br>nad_c + pdx5p_c --> h_c + nadh_c + pydx5p_c<br>o2_c + pdx5p_c --> h2o2_c + pydx5p_c<br>dxyl5p_c + nad_c + phthr_c --> co2_c + 2.0 h2o_c + h_c + nadh_c + pdx5p_c + pi_c<br>h2o_c + pdx5p_c --> pi_c + pydxn_c<br>atp_c + h2o_c + pe120_c --> adp_c + h_c + pe120_p + pi_c<br>atp_c + h2o_c + pe140_c --> adp_c + h_c + pe140_p + pi_c<br>atp_c + h2o_c + pe141_c --> adp_c + h_c + pe141_p + pi_c<br>atp_c + h2o_c + pe160_c --> adp_c + h_c + pe160_p + pi_c<br>atp_c + h2o_c + pe161_c --> adp_c + h_c + pe161_p + pi_c<br>atp_c + h2o_c + pe180_c --> adp_c + h_c + pe180_p + pi_c<br>atp_c + h2o_c + pe181_c --> adp_c + h_c + pe181_p + pi_c<br>h2o_p + o2_p + peamn_p --> h2o2_p + nh4_p + pacald_p<br>peamn_e <=> peamn_p<br>4per_c + nad_c <=> h_c + nadh_c + ohpb_c<br>lipa_p + pe161_p --> 12dgr161_p + enlipa_p<br>lipa_p + pe181_p --> 12dgr181_p + enlipa_p<br>atp_c + f6p_c --> adp_c + fdp_c + h_c<br>atp_c + tag6p__D_c --> adp_c + h_c + tagdp__D_c<br>atp_c + s7p_c --> adp_c + h_c + s17bp_c<br>coa_c + pyr_c --> accoa_c + for_c<br>atp_c + h2o_c + pg120_c --> adp_c + h_c + pg120_p + pi_c<br>atp_c + h2o_c + pg140_c --> adp_c + h_c + pg140_p + pi_c<br>atp_c + h2o_c + pg141_c --> adp_c + h_c + pg141_p + pi_c<br>atp_c + h2o_c + pg160_c --> adp_c + h_c + pg160_p + pi_c<br>atp_c + h2o_c + pg161_c --> adp_c + h_c + pg161_p + pi_c<br>atp_c + h2o_c + pg180_c --> adp_c + h_c + pg180_p + pi_c<br>atp_c + h2o_c + pg181_c --> adp_c + h_c + pg181_p + pi_c<br>gam1p_c <=> gam6p_c<br>3pg_c + nad_c --> 3php_c + h_c + nadh_c<br>g6p_c <=> f6p_c<br>3pg_c + atp_c <=> 13dpg_c + adp_c<br>6pgl_c + h2o_c --> 6pgc_c + h_c<br>2pglyc_c + h2o_c --> glyclt_c + pi_c<br>2pg_c <=> 3pg_c<br>g1p_c <=> g6p_c<br>atp_c + h2o_c + pgp120_c --> adp_c + h_c + pgp120_p + pi_c<br>atp_c + h2o_c + pgp140_c --> adp_c + h_c + pgp140_p + pi_c<br>atp_c + h2o_c + pgp141_c --> adp_c + h_c + pgp141_p + pi_c<br>atp_c + h2o_c + pgp160_c --> adp_c + h_c + pgp160_p + pi_c<br>atp_c + h2o_c + pgp161_c --> adp_c + h_c + pgp161_p + pi_c<br>atp_c + h2o_c + pgp180_c --> adp_c + h_c + pgp180_p + pi_c<br>atp_c + h2o_c + pgp181_c --> adp_c + h_c + pgp181_p + pi_c<br>h2o_c + pgp120_c --> pg120_c + pi_c<br>h2o_p + pgp120_p --> pg120_p + pi_p<br>h2o_c + pgp140_c --> pg140_c + pi_c<br>h2o_p + pgp140_p --> pg140_p + pi_p<br>h2o_c + pgp141_c --> pg141_c + pi_c<br>h2o_p + pgp141_p --> pg141_p + pi_p<br>h2o_c + pgp160_c --> pg160_c + pi_c<br>h2o_p + pgp160_p --> pg160_p + pi_p<br>h2o_c + pgp161_c --> pg161_c + pi_c<br>h2o_p + pgp161_p --> pg161_p + pi_p<br>h2o_c + pgp180_c --> pg180_c + pi_c<br>h2o_p + pgp180_p --> pg180_p + pi_p<br>h2o_c + pgp181_c --> pg181_c + pi_c<br>h2o_p + pgp181_p --> pg181_p + pi_p<br>cdpdddecg_c + glyc3p_c --> cmp_c + h_c + pgp120_c<br>cdpdtdecg_c + glyc3p_c --> cmp_c + h_c + pgp140_c<br>cdpdtdec7eg_c + glyc3p_c --> cmp_c + h_c + pgp141_c<br>cdpdhdecg_c + glyc3p_c --> cmp_c + h_c + pgp160_c<br>cdpdhdec9eg_c + glyc3p_c --> cmp_c + h_c + pgp161_c<br>cdpdodecg_c + glyc3p_c --> cmp_c + h_c + pgp180_c<br>cdpdodec11eg_c + glyc3p_c --> cmp_c + h_c + pgp181_c<br>atp_c + h2o_c + pheme_c --> adp_c + h_c + pheme_p + pi_c<br>pheme_p --> pheme_e<br>akg_c + phe__L_c <=> glu__L_c + phpyr_c<br>atp_c + phe__L_c + trnaphe_c --> amp_c + phetrna_c + ppi_c<br>h_p + phe__L_p <=> h_c + phe__L_c<br>phe__L_e <=> phe__L_p<br>6.0 h2o_p + minohp_p --> inost_p + 6.0 pi_p<br>h_p + pi_p <=> h_c + pi_c<br>pi_e <=> pi_p<br>atp_c + h2o_c + pi_p --> adp_c + h_c + 2.0 pi_c<br>h2o_p + pa120_p --> 2ddecg3p_p + ddca_p<br>h2o_p + pa140_p --> 2tdecg3p_p + ttdca_p<br>h2o_p + pa141_p --> 2tdec7eg3p_p + ttdcea_p<br>h2o_p + pa160_p --> 2hdecg3p_p + hdca_p<br>h2o_p + pa161_p --> 2hdec9eg3p_p + hdcea_p<br>h2o_p + pa180_p --> 2odecg3p_p + ocdca_p<br>h2o_p + pa181_p --> 2odec11eg3p_p + ocdcea_p<br>h2o_p + pe120_p --> 2agpe120_p + ddca_p + h_p<br>h2o_p + pe140_p --> 2agpe140_p + h_p + ttdca_p<br>h2o_p + pe141_p --> 2agpe141_p + h_p + ttdcea_p<br>h2o_p + pe160_p --> 2agpe160_p + h_p + hdca_p<br>h2o_p + pe161_p --> 2agpe161_p + h_p + hdcea_p<br>h2o_p + pe180_p --> 2agpe180_p + h_p + ocdca_p<br>h2o_p + pe181_p --> 2agpe181_p + h_p + ocdcea_p<br>h2o_p + pg120_p --> 2agpg120_p + ddca_p + h_p<br>h2o_p + pg140_p --> 2agpg140_p + h_p + ttdca_p<br>h2o_p + pg141_p --> 2agpg141_p + h_p + ttdcea_p<br>h2o_p + pg160_p --> 2agpg160_p + h_p + hdca_p<br>h2o_p + pg161_p --> 2agpg161_p + h_p + hdcea_p<br>h2o_p + pg180_p --> 2agpg180_p + h_p + ocdca_p<br>h2o_p + pg181_p --> 2agpg181_p + h_p + ocdcea_p<br>h2o_p + pa120_p --> 1ddecg3p_p + ddca_p + h_p<br>h2o_p + pa140_p --> 1tdecg3p_p + h_p + ttdca_p<br>h2o_p + pa141_p --> 1tdec7eg3p_p + h_p + ttdcea_p<br>h2o_p + pa160_p --> 1hdecg3p_p + h_p + hdca_p<br>h2o_p + pa161_p --> 1hdec9eg3p_p + h_p + hdcea_p<br>h2o_p + pa180_p --> 1odecg3p_p + h_p + ocdca_p<br>h2o_p + pa181_p --> 1odec11eg3p_p + h_p + ocdcea_p<br>h2o_p + pe120_p --> 1agpe120_p + ddca_p + h_p<br>h2o_p + pe140_p --> 1agpe140_p + h_p + ttdca_p<br>h2o_p + pe141_p --> 1agpe141_p + h_p + ttdcea_p<br>h2o_p + pe160_p --> 1agpe160_p + h_p + hdca_p<br>h2o_p + pe161_p --> 1agpe161_p + h_p + hdcea_p<br>h2o_p + pe180_p --> 1agpe180_p + h_p + ocdca_p<br>h2o_p + pe181_p --> 1agpe181_p + h_p + ocdcea_p<br>h2o_p + pg120_p --> 1agpg120_p + ddca_p + h_p<br>h2o_p + pg140_p --> 1agpg140_p + h_p + ttdca_p<br>h2o_p + pg141_p --> 1agpg141_p + h_p + ttdcea_p<br>h2o_p + pg160_p --> 1agpg160_p + h_p + hdca_p<br>h2o_p + pg161_p --> 1agpg161_p + h_p + hdcea_p<br>h2o_p + pg180_p --> 1agpg180_p + h_p + ocdca_p<br>h2o_p + pg181_p --> 1agpg181_p + h_p + ocdcea_p<br>man1p_c <=> man6p_c<br>5aprbu_c + h2o_c --> 4r5au_c + pi_c<br>h2o_c + pmeACP_c --> meoh_c + pimACP_c<br>4ampm_c + atp_c --> 2mahmp_c + adp_c<br>atp_c + pnto__R_c --> 4ppan_c + adp_c + h_c<br>na1_p + pnto__R_p --> na1_c + pnto__R_c<br>pnto__R_e <=> pnto__R_p<br>nadh_c + poaac_c --> 3amac_c + h2o_c + nad_c<br>coa_c + 2.0 flxso_c + pyr_c <=> accoa_c + co2_c + 2.0 flxr_c + h_c<br>h2o_c + pyr_c + q8_c --> ac_c + co2_c + q8h2_c<br>h2o_c + ppi_c --> h_c + 2.0 pi_c<br>h2o_c + pppi_c --> h_c + pi_c + ppi_c<br>adp_c + ppap_c <=> atp_c + ppa_c<br>ppal_e <=> ppal_p<br>ppal_c <=> ppal_p<br>na1_p + ppa_p --> na1_c + ppa_c<br>ppa_e <=> ppa_p<br>2.0 5aop_c --> 2.0 h2o_c + h_c + ppbng_c<br>co2_c + h2o_c + pep_c --> h_c + oaa_c + pi_c<br>4ppcys_c + h_c --> co2_c + pan4p_c<br>atp_c + oaa_c --> adp_c + co2_c + pep_c<br>ppcoa_c + succ_c --> ppa_c + succoa_c<br>h2o_c + ppgpp_c --> gdp_c + ppi_c<br>atp_c + ppi_c <=> adp_c + pppi_c<br>atp_c + pi_c <=> adp_c + ppi_c<br>r1p_c <=> r5p_c<br>2dr1p_c <=> 2dr5p_c<br>4ppan_c + ctp_c + cys__L_c --> 4ppcys_c + cmp_c + h_c + ppi_c<br>nad_c + pphn_c --> 34hpp_c + co2_c + nadh_c<br>h_c + pphn_c --> co2_c + h2o_c + phpyr_c<br>1.5 o2_c + pppg9_c --> 3.0 h2o_c + ppp9_c<br>3.0 fum_c + pppg9_c --> ppp9_c + 3.0 succ_c<br>h_c + nadh_c + o2_c + pppn_c --> cechddd_c + nad_c<br>h_p + pppn_p <=> h_c + pppn_c<br>pppn_e <=> pppn_p<br>atp_c + h2o_c + pyr_c --> amp_c + 2.0 h_c + pep_c + pi_c<br>h2o_p + ppt_p --> h2_p + pi_p<br>ppt_e <=> ppt_p<br>atp_c + gly_c + pram_c <=> adp_c + gar_c + h_c + pi_c<br>atp_c + fpram_c --> adp_c + air_c + 2.0 h_c + pi_c<br>pran_c --> 2cpr5p_c<br>h2o_c + prbamp_c --> prfp_c<br>5aizc_c + asp__L_c + atp_c --> 25aics_c + adp_c + h_c + pi_c<br>h2o_c + prbatp_c --> h_c + ppi_c + prbamp_c<br>atp_c + fgam_c + gln__L_c + h2o_c --> adp_c + fpram_c + glu__L_c + h_c + pi_c<br>prfp_c <=> prlp_c<br>fad_c + pro__L_c --> 1pyr5c_c + fadh2_c + h_c<br>atp_c + h2o_c + progly_p --> adp_c + h_c + pi_c + progly_c<br>progly_e <=> progly_p<br>atp_c + pro__L_c + trnapro_c --> amp_c + ppi_c + protrna_c<br>atp_c + h2o_c + pro__L_p --> adp_c + h_c + pi_c + pro__L_c<br>h_p + pro__L_p <=> h_c + pro__L_c<br>na1_p + pro__L_p --> na1_c + pro__L_c<br>pro__L_e <=> pro__L_p<br>atp_c + r5p_c <=> amp_c + h_c + prpp_c<br>h_p + psclys_p --> h_c + psclys_c<br>psclys_e <=> psclys_p<br>pep_c + skm5p_c <=> 3psme_c + pi_c<br>h_c + ps120_c --> co2_c + pe120_c<br>h_c + ps140_c --> co2_c + pe140_c<br>h_c + ps141_c --> co2_c + pe141_c<br>h_c + ps160_c --> co2_c + pe160_c<br>h_c + ps161_c --> co2_c + pe161_c<br>h_c + ps180_c --> co2_c + pe180_c<br>h_c + ps181_c --> co2_c + pe181_c<br>3php_c + glu__L_c --> akg_c + pser__L_c<br>pser__L_e <=> pser__L_p<br>h2o_c + pser__L_c --> pi_c + ser__L_c<br>h2o_p + pser__L_p --> pi_p + ser__L_p<br>cdpdddecg_c + ser__L_c --> cmp_c + h_c + ps120_c<br>cdpdtdecg_c + ser__L_c --> cmp_c + h_c + ps140_c<br>cdpdtdec7eg_c + ser__L_c --> cmp_c + h_c + ps141_c<br>cdpdhdecg_c + ser__L_c --> cmp_c + h_c + ps160_c<br>cdpdhdec9eg_c + ser__L_c --> cmp_c + h_c + ps161_c<br>cdpdodecg_c + ser__L_c --> cmp_c + h_c + ps180_c<br>cdpdodec11eg_c + ser__L_c --> cmp_c + h_c + ps181_c<br>pi_c + ppcoa_c --> coa_c + ppap_c<br>accoa_c + pi_c <=> actp_c + coa_c<br>h2o_p + thrp_p --> pi_p + thr__L_p<br>atp_c + h_c + pan4p_c --> dpcoa_c + ppi_c<br>orn_c + ptrc_p <=> orn_p + ptrc_c<br>akg_c + ptrc_c --> 4abutn_c + glu__L_c<br>atp_c + h2o_c + ptrc_p --> adp_c + h_c + pi_c + ptrc_c<br>h_p + ptrc_p --> h_c + ptrc_c<br>ptrc_e <=> ptrc_p<br>adn_c + pi_c <=> ade_c + r1p_c<br>dad_2_c + pi_c <=> 2dr1p_c + ade_c<br>gsn_c + pi_c <=> gua_c + r1p_c<br>dgsn_c + pi_c <=> 2dr1p_c + gua_c<br>ins_c + pi_c <=> hxan_c + r1p_c<br>din_c + pi_c <=> 2dr1p_c + hxan_c<br>pi_c + xtsn_c <=> r1p_c + xan_c<br>h2o_c + o2_c + pyam5p_c --> h2o2_c + nh4_c + pydx5p_c<br>atp_c + pydam_c --> adp_c + h_c + pyam5p_c<br>pydam_e <=> pydam_p<br>pydam_p --> pydam_c<br>atp_c + pydx_c --> adp_c + h_c + pydx5p_c<br>atp_c + pydxn_c --> adp_c + h_c + pdx5p_c<br>pydxn_e <=> pydxn_p<br>pydxn_p --> pydxn_c<br>h2o_c + pydx5p_c --> pi_c + pydx_c<br>pydx_e <=> pydx_p<br>pydx_p --> pydx_c<br>adp_c + h_c + pep_c --> atp_c + pyr_c<br>pi_c + uri_c <=> r1p_c + ura_c<br>h_c + nadh_c + o2_c + ura_c --> nad_c + uracp_c<br>h_p + pyr_p <=> h_c + pyr_c<br>pyr_e <=> pyr_p<br>2.0 o2_c + q8h2_c --> 2.0 h_c + 2.0 o2s_c + q8_c<br>mql8_c + 2.0 o2_c --> 2.0 h_c + mqn8_c + 2.0 o2s_c<br>quin_e <=> quin_p<br>quin_p <=> quin_c<br>nad_c + quin_c <=> 3dhq_c + 2.0 h_c + nadh_c<br>dhap_c + iasp_c --> 2.0 h2o_c + pi_c + quln_c<br>atp_c + r15bp_c --> adp_c + prpp_c<br>atp_c + r1p_c --> adp_c + h_c + r15bp_c<br>h2o_c + r5p_c --> pi_c + rib__D_c<br>h2o_p + r5p_p --> pi_p + rib__D_p<br>r5p_e <=> r5p_p<br>atp_c + ribflv_c --> adp_c + fmn_c + h_c<br>4r5au_c + db4p_c --> dmlz_c + 2.0 h2o_c + pi_c<br>2.0 dmlz_c --> 4r5au_c + ribflv_c<br>atp_c + rib__D_c --> adp_c + h_c + r5p_c<br>atp_c + rbl__L_c --> adp_c + h_c + ru5p__L_c<br>ru5p__L_c <=> xu5p__D_c<br>rephaccoa_c <=> 2oxpaccoa_c<br>rfamp_e <=> rfamp_p<br>h_p + rfamp_p --> h_c + rfamp_e<br>dtdprmn_c + kphphhlipa_c --> dtdp_c + h_c + icolipa_c<br>rhcys_c --> dhptd_c + hcys__L_c<br>atp_c + h2o_c + rib__D_p --> adp_c + h_c + pi_c + rib__D_c<br>rib__D_e <=> rib__D_p<br>rmn_c <=> rml_c<br>atp_c + rml_c --> adp_c + h_c + rml1p_c<br>rmn_e <=> rmn_p<br>h_p + rmn_p --> h_c + rmn_c<br>rml1p_c <=> dhap_c + lald__L_c<br>adp_c + trdrd_c --> dadp_c + h2o_c + trdox_c<br>adp_c + grxrd_c --> dadp_c + grxox_c + h2o_c<br>gdp_c + trdrd_c --> dgdp_c + h2o_c + trdox_c<br>gdp_c + grxrd_c --> dgdp_c + grxox_c + h2o_c<br>cdp_c + trdrd_c --> dcdp_c + h2o_c + trdox_c<br>cdp_c + grxrd_c --> dcdp_c + grxox_c + h2o_c<br>trdrd_c + udp_c --> dudp_c + h2o_c + trdox_c<br>grxrd_c + udp_c --> dudp_c + grxox_c + h2o_c<br>atp_c + 2.0 flxr_c + 2.0 h_c --> datp_c + 2.0 flxso_c + h2o_c<br>2.0 flxr_c + gtp_c + 2.0 h_c --> dgtp_c + 2.0 flxso_c + h2o_c<br>ctp_c + 2.0 flxr_c + 2.0 h_c --> dctp_c + 2.0 flxso_c + h2o_c<br>2.0 flxr_c + 2.0 h_c + utp_c --> dutp_c + 2.0 flxso_c + h2o_c<br>ru5p__D_c <=> xu5p__D_c<br>r5p_c <=> ru5p__D_c<br>5prdmbz_c + h2o_c --> pi_c + rdmbzi_c<br>2fe1s_c + atp_c + h2o_c + sufbcd_c + sufsesh_c --> adp_c + 5.0 h_c + pi_c + sufbcd_2fe2s_c + sufse_c<br>atp_c + fadh2_c + 2.0 fe2_c + h2o_c + sufbcd_c + 2.0 sufsesh_c --> adp_c + fad_c + 7.0 h_c + pi_c + sufbcd_2fe2s_c + 2.0 sufse_c<br>atp_c + fadh2_c + 2.0 fe2_c + h2o_c + sufbcd_2fe2s_c + 2.0 sufsesh_c --> adp_c + fad_c + 7.0 h_c + pi_c + sufbcd_2fe2s2_c + 2.0 sufse_c<br>4.0 h_c + sufbcd_2fe2s_c --> 2fe2s_c + sufbcd_c<br>fadh2_c + 2.0 h_c + sufbcd_2fe2s2_c --> fad_c + sufbcd_4fe4s_c<br>4.0 h_c + sufbcd_4fe4s_c --> 4fe4s_c + sufbcd_c<br>s7p_c --> gmhep7p_c<br>2.0 h2o_c + 2.0 h_c + sucarg_c --> co2_c + 2.0 nh4_c + sucorn_c<br>atp_c + gtp_c + h2o_c + so4_c --> aps_c + gdp_c + pi_c + ppi_c<br>h2o_c + o2_c + sarcs_c --> fald_c + gly_c + h2o2_c<br>nad_c + sbt6p_c <=> f6p_c + h_c + nadh_c<br>pep_c + sbt__D_p --> pyr_c + sbt6p_c<br>sbt__D_e <=> sbt__D_p<br>cys__L_c + sufse_c --> ala__L_c + sufsesh_c<br>h2o_c + sl26da_c --> 26dap_LL_c + succ_c<br>akg_c + sl26da_c <=> glu__L_c + sl2a6o_c<br>selnp_c + sertrna_sec_c --> h_c + pi_c + sectrna_c<br>4.0 gthrd_c + 2.0 h_c + slnt_c --> dgslnt_c + gthox_c + 3.0 h2o_c<br>dgslnt_c + h_c + nadph_c --> gslnt_c + gthrd_c + nadp_c<br>gslnt_c + nadph_c --> gthrd_c + nadp_c + seln_c<br>atp_c + h2o_c + seln_c --> amp_c + pi_c + selnp_c<br>mql8_c + sel_c --> h2o_c + mqn8_c + slnt_c<br>sel_e <=> sel_p<br>2.0 h_p + sel_p --> 2.0 h_c + sel_c<br>akg_c + h_c + ichor_c --> 2sephchc_c + co2_c<br>atp_c + h_c + ser__L_c <=> ppi_c + seramp_c<br>accoa_c + ser__L_c <=> acser_c + coa_c<br>ser__D_c --> nh4_c + pyr_c<br>ser__L_c --> nh4_c + pyr_c<br>atp_c + ser__L_c + trnaser_c --> amp_c + ppi_c + sertrna_c<br>atp_c + ser__L_c + trnasecys_c --> amp_c + ppi_c + sertrna_sec_c<br>h_p + ser__L_p <=> h_c + ser__L_c<br>na1_p + ser__L_p --> na1_c + ser__L_c<br>ser__L_e <=> ser__L_p<br>Sfglutth_c + h2o_c --> for_c + gthrd_c + h_c<br>h2o_c + sucglu_c --> glu__L_c + succ_c<br>h2o_c + nad_c + sucgsa_c --> 2.0 h_c + nadh_c + sucglu_c<br>2sephchc_c --> 2shchc_c + pyr_c<br>dscl_c + nad_c --> h_c + nadh_c + scl_c<br>fe2_c + scl_c --> 3.0 h_c + sheme_c<br>3dhsk_c + h_c + nadph_c <=> nadp_c + skm_c<br>atp_c + skm_c --> adp_c + h_c + skm5p_c<br>cys__L_c + suchms_c --> cyst__L_c + h_c + succ_c<br>h_p + skm_p --> h_c + skm_c<br>skm_e <=> skm_p<br>slnt_e <=> slnt_p<br>h_p + slnt_p --> h_c + slnt_c<br>so2_e <=> so2_p<br>so2_p <=> so2_c<br>so3_e <=> so3_p<br>h_p + so4_p --> h_c + so4_c<br>so4_e <=> so4_p<br>akg_c + sucorn_c --> glu__L_c + sucgsa_c<br>accoa_c + spmd_c --> N1aspmd_c + coa_c + h_c<br>accoa_c + spmd_c --> coa_c + h_c + n8aspmd_c<br>atp_c + h2o_c + spmd_p --> adp_c + h_c + pi_c + spmd_c<br>h_p + spmd_c --> h_c + spmd_p<br>spmd_e <=> spmd_p<br>ametam_c + ptrc_c --> 5mta_c + h_c + spmd_c<br>2.0 h_c + 2.0 o2s_c --> h2o2_c + o2_c<br>2.0 h_p + 2.0 o2s_p --> h2o2_p + o2_p<br>h2o_c + nad_c + sucsal_c --> 2.0 h_c + nadh_c + succ_c<br>h2o_c + nadp_c + sucsal_c --> 2.0 h_c + nadph_c + succ_c<br>asp__L_p + succ_c --> asp__L_c + succ_p<br>atp_c + coa_c + sucbz_c --> amp_c + ppi_c + sbzcoa_c<br>2shchc_c --> h2o_c + sucbz_c<br>2.0 h_p + succ_p --> 2.0 h_c + succ_c<br>3.0 h_p + succ_p --> 3.0 h_c + succ_c<br>h_p + succ_c --> h_c + succ_p<br>succ_e <=> succ_p<br>q8_c + succ_c --> fum_c + q8h2_c<br>fum_p + succ_c --> fum_c + succ_p<br>mal__L_p + succ_c --> mal__L_c + succ_p<br>atp_c + coa_c + succ_c <=> adp_c + pi_c + succoa_c<br>sucr_e <=> sucr_p<br>succ_c + tartr__D_p --> succ_p + tartr__D_c<br>pep_c + sucr_p --> pyr_c + suc6p_c<br>atp_c + h2o_c + sulfac_p --> adp_c + h_c + pi_c + sulfac_c<br>sulfac_e <=> sulfac_p<br>5.0 h_c + 3.0 nadph_c + so3_c --> 3.0 h2o_c + h2s_c + 3.0 nadp_c<br>atp_c + h2o_c + so4_p --> adp_c + h_c + pi_c + so4_c<br>tdec2eACP_c <=> cdec3eACP_c<br>altrn_c + nad_c <=> h_c + nadh_c + tagur_c<br>g3p_c + s7p_c <=> e4p_c + f6p_c<br>tartr__L_c --> h2o_c + oaa_c<br>tartr__D_e <=> tartr__D_p<br>succ_c + tartr__L_p <=> succ_p + tartr__L_c<br>tartr__L_e <=> tartr__L_p<br>3.0 h_p + tartr__D_p --> 3.0 h_c + tartr__D_c<br>akg_c + o2_c + taur_c --> aacald_c + co2_c + h_c + so3_c + succ_c<br>atp_c + h2o_c + taur_p --> adp_c + h_c + pi_c + taur_c<br>taur_e <=> taur_p<br>tcynt_e <=> tcynt_p<br>h2o_c + thmpp_c --> h_c + pi_c + thmmp_c<br>accoa_c + dtdp4addg_c --> coa_c + dtdp4aaddg_c + h_c<br>dtdp4d6dg_c + glu__L_c --> akg_c + dtdp4addg_c<br>dtdp4d6dg_c --> dtdp4d6dm_c<br>dtdp4d6dm_c + h_c + nadph_c --> dtdprmn_c + nadp_c<br>dtdpglu_c --> dtdp4d6dg_c + h2o_c<br>atp_c + lipidAds_c --> adp_c + h_c + lipidA_c<br>dsbcox_p + dsbdrd_c --> dsbcrd_p + dsbdox_c<br>dsbdrd_c + dsbgox_p --> dsbdox_c + dsbgrd_p<br>tagdp__D_c <=> dhap_c + g3p_c<br>2.0 h_p + nadh_c + nadp_c --> 2.0 h_c + nad_c + nadph_c<br>h2o_c + succoa_c + thdp_c --> coa_c + sl2a6o_c<br>h2o_c + methf_c --> 5fthf_c + h_c<br>h2o2_c + trdrd_c --> 2.0 h2o_c + trdox_c<br>h_p + thymd_p --> h_c + thymd_c<br>h_p + thymd_p <=> h_c + thymd_c<br>thymd_e <=> thymd_p<br>atp_c + h2o_c + thm_p --> adp_c + h_c + pi_c + thm_c<br>thm_e <=> thm_p<br>athr__L_c --> acald_c + gly_c<br>thr__L_c --> acald_c + gly_c<br>nad_c + thr__L_c --> 2aobut_c + h_c + nadh_c<br>thr__L_c --> 2obut_c + nh4_c<br>thrp_e <=> thrp_p<br>h2o_c + phom_c --> pi_c + thr__L_c<br>atp_c + thr__L_c + trnathr_c --> amp_c + ppi_c + thrtrna_c<br>atp_c + h2o_c + thr__L_p --> adp_c + h_c + pi_c + thr__L_c<br>h_p + thr__L_c --> h_c + thr__L_p<br>h_p + thr__L_p <=> h_c + thr__L_c<br>na1_p + thr__L_p --> na1_c + thr__L_c<br>thr__L_e <=> thr__L_p<br>h_p + thym_c --> h_c + thym_p<br>thym_e <=> thym_p<br>atp_c + dhgly_c + dxyl5p_c + h_c + iscssh_c + nadph_c --> 4mpetz_c + amp_c + co2_c + 2.0 h2o_c + iscs_c + nadp_c + ppi_c<br>r5p_c + xu5p__D_c <=> g3p_c + s7p_c<br>e4p_c + xu5p__D_c <=> f6p_c + g3p_c<br>h_c + mql8_c + tmao_c --> h2o_c + mqn8_c + tma_c<br>h_p + mql8_c + tmao_p --> h2o_p + mqn8_c + tma_p<br>2dmmql8_c + h_c + tmao_c --> 2dmmq8_c + h2o_c + tma_c<br>2dmmql8_c + h_p + tmao_p --> 2dmmq8_c + h2o_p + tma_p<br>tmao_e <=> tmao_p<br>tma_e <=> tma_p<br>atp_c + thymd_c --> adp_c + dtmp_c + h_c<br>pi_c + thymd_c <=> 2dr1p_c + thym_c<br>dump_c + mlthf_c --> dhf_c + dtmp_c<br>atp_c + thm_c --> adp_c + h_c + thmmp_c<br>atp_c + thmmp_c --> adp_c + thmpp_c<br>2mahmp_c + 4mpetz_c + h_c --> ppi_c + thmmp_c<br>dhap_c <=> g3p_c<br>atp_c + dpcoa_c --> 2tpr3dpcoa_c + ade_c<br>h_c + nadph_c + trdox_c --> nadp_c + trdrd_c<br>h2o_c + tre6p_c --> g6p_c + glc__D_c<br>h2o_c + tre6p_c --> pi_c + tre_c<br>g6p_c + udpg_c --> h_c + tre6p_c + udp_c<br>h2o_c + tre_c --> 2.0 glc__D_c<br>h2o_p + tre_p --> 2.0 glc__D_p<br>pep_c + tre_p --> pyr_c + tre6p_c<br>tre_e <=> tre_p<br>h2o_c + trp__L_c <=> indole_c + nh4_c + pyr_c<br>3ig3p_c + ser__L_c --> g3p_c + h2o_c + trp__L_c<br>indole_c + ser__L_c --> h2o_c + trp__L_c<br>3ig3p_c --> g3p_c + indole_c<br>atp_c + trnatrp_c + trp__L_c --> amp_c + ppi_c + trptrna_c<br>h_p + trp__L_p <=> h_c + trp__L_c<br>trp__L_e <=> trp__L_p<br>2h3oppan_c + h_c + nadh_c <=> glyc__R_c + nad_c<br>atp_c + h2o_c + tsul_p --> adp_c + h_c + pi_c + tsul_c<br>tsul_e <=> tsul_p<br>ttdca_e --> ttdca_p<br>ttdcea_e --> ttdcea_p<br>ttrcyc_e <=> ttrcyc_p<br>h_p + ttrcyc_p --> h_c + ttrcyc_e<br>atp_c + h2o_c + tungs_p --> adp_c + h_c + pi_c + tungs_c<br>tungs_e <=> tungs_p<br>tym_e <=> tym_p<br>amet_c + nadph_c + tyr__L_c --> 4crsol_c + dad_5_c + dhgly_c + h_c + met__L_c + nadp_c<br>h2o_p + o2_p + tym_p --> 4hoxpacd_p + h2o2_p + nh4_p<br>h2o_p + tyrp_p --> pi_p + tyr__L_p<br>tyrp_e <=> tyrp_p<br>akg_c + tyr__L_c <=> 34hpp_c + glu__L_c<br>atp_c + trnatyr_c + tyr__L_c --> amp_c + ppi_c + tyrtrna_c<br>h_p + tyr__L_p <=> h_c + tyr__L_c<br>tyr__L_e <=> tyr__L_p<br>adp_c + h_c + thmpp_c --> athtp_c + pi_c<br>3hmrsACP_c + u3hga_c --> ACP_c + h_c + u23ga_c<br>26dap__M_c + atp_c + uamag_c --> adp_c + h_c + pi_c + ugmd_c<br>h2o_p + udpacgal_p --> acgal1p_p + 2.0 h_p + ump_p<br>h2o_p + uacgam_p --> acgam1p_p + 2.0 h_p + ump_p<br>uacgam_e <=> uacgam_p<br>h2o_c + 2.0 nad_c + uacmam_c --> 3.0 h_c + 2.0 nadh_c + uacmamu_c<br>uacgam_c <=> uacmam_c<br>3hmrsACP_c + uacgam_c <=> ACP_c + u3aga_c<br>pep_c + uacgam_c --> pi_c + uaccg_c<br>acgam1p_c + h_c + utp_c --> ppi_c + uacgam_c<br>uacgam_c + uagmda_c --> h_c + uaagmda_c + udp_c<br>atp_c + glu__D_c + uama_c --> adp_c + h_c + pi_c + uamag_c<br>ala__L_c + atp_c + uamr_c --> adp_c + h_c + pi_c + uama_c<br>h_c + nadph_c + uaccg_c --> nadp_c + uamr_c<br>h2o_c + udcpdp_c --> h_c + pi_c + udcpp_c<br>frdp_c + 8.0 ipdp_c --> 8.0 ppi_c + udcpdp_c<br>h2o_p + udcpdp_p --> h_p + pi_p + udcpp_p<br>udcpp_p --> udcpp_c<br>udpacgal_e <=> udpacgal_p<br>udpg_c <=> udpgal_c<br>udpgal_c --> udpgalfur_c<br>h2o_p + udpgal_p --> gal1p_p + 2.0 h_p + ump_p<br>udpgal_e <=> udpgal_p<br>h2o_c + 2.0 nad_c + udpg_c --> 3.0 h_c + 2.0 nadh_c + udpglcur_c<br>nad_c + udpglcur_c --> co2_c + nadh_c + udpLa4o_c<br>udpglcur_e <=> udpglcur_p<br>h2o_p + udpg_p --> g1p_p + 2.0 h_p + ump_p<br>udpg_e <=> udpg_p<br>glu__L_c + udpLa4o_c <=> akg_c + udpLa4n_c<br>h2o_p + udpglcur_p --> glcur1p_p + 2.0 h_p + ump_p<br>gal1p_c + udpg_c <=> g1p_c + udpgal_c<br>h2o_c + 2.0 h_c + urdglyc_c --> co2_c + glx_c + 2.0 nh4_c<br>alaala_c + atp_c + ugmd_c --> adp_c + h_c + pi_c + ugmda_c<br>h2o_c + u3aga_c --> ac_c + u3hga_c<br>10fthf_c + udpLa4n_c --> h_c + thf_c + udpLa4fn_c<br>uLa4n_c --> uLa4n_p<br>LalaDgluMdap_c + atp_c + uamr_c --> adp_c + h_c + pi_c + ugmd_c<br>h2o_c + um4p_c --> ala__D_c + ugmd_c<br>LalaDgluMdapDala_c + atp_c + uamr_c --> adp_c + h_c + pi_c + um4p_c<br>atp_c + ump_c <=> adp_c + udp_c<br>ump_e <=> ump_p<br>h2o_c + uLa4fn_c --> for_c + uLa4n_c<br>udcpp_c + udpLa4fn_c --> uLa4fn_c + udp_c<br>2.0 amet_c + uppg3_c --> 2.0 ahcys_c + dscl_c + h_c<br>hmbil_c --> h2o_c + uppg3_c<br>4.0 h_c + uppg3_c --> 4.0 co2_c + cpppg3_c<br>prpp_c + ura_c --> ppi_c + ump_c<br>h2o_c + uracp_c --> cbm_c + h_c + poaac_c<br>h_p + ura_p --> h_c + ura_c<br>h_p + ura_p <=> h_c + ura_c<br>ura_e <=> ura_p<br>nad_c + urdglyc_c --> h_c + nadh_c + oxur_c<br>urea_e <=> urea_p<br>urea_p <=> urea_c<br>2.0 h2o_c + o2_c + urate_c --> alltn_c + co2_c + h2o2_c<br>h2o_c + uri_c --> rib__D_c + ura_c<br>gtp_c + uri_c --> gdp_c + h_c + ump_c<br>h_p + uri_p --> h_c + uri_c<br>h_p + uri_p <=> h_c + uri_c<br>uri_e <=> uri_p<br>h2o_c + u23ga_c --> 2.0 h_c + lipidX_c + ump_c<br>akg_c + val__L_c <=> 3mob_c + glu__L_c<br>atp_c + trnaval_c + val__L_c --> amp_c + ppi_c + valtrna_c<br>atp_c + h2o_c + val__L_p --> adp_c + h_c + pi_c + val__L_c<br>h_p + val__L_p <=> h_c + val__L_c<br>val__L_e <=> val__L_p<br>3mob_c + ala__L_c <=> pyr_c + val__L_c<br>2.0 h_c + mptamp_c + tungs_c --> amp_c + cu2_c + h2o_c + wco_c<br>xu5p__L_c --> ru5p__L_c<br>h2o_c + nad_c + xan_c --> h_c + nadh_c + urate_c<br>h_p + xan_p --> h_c + xan_c<br>xan_e <=> xan_p<br>xan_p <=> xan_c<br>xmp_e <=> xmp_p<br>prpp_c + xan_c --> ppi_c + xmp_c<br>h2o_c + xtsn_c --> rib__D_c + xan_c<br>h_p + xtsn_p <=> h_c + xtsn_c<br>xtsn_e <=> xtsn_p<br>xyl__D_c <=> xylu__D_c<br>glc__D_c <=> fru_c<br>atp_c + xylu__D_c --> adp_c + h_c + xu5p__D_c<br>atp_c + xylu__L_c --> adp_c + h_c + xu5p__L_c<br>h_p + xylu__L_p --> h_c + xylu__L_c<br>xylu__L_e <=> xylu__L_p<br>atp_c + h2o_c + xyl__D_p --> adp_c + h_c + pi_c + xyl__D_c<br>h_p + xyl__D_p --> h_c + xyl__D_c<br>xyl__D_e <=> xyl__D_p<br>atp_c + h2o_c + zn2_c --> adp_c + h_c + pi_c + zn2_p<br>h_p + zn2_c --> h_c + zn2_p<br>zn2_p --> zn2_c<br>atp_c + h2o_c + zn2_p --> adp_c + h_c + pi_c + zn2_c<br>zn2_e <=> zn2_p</div></td>\n",
       "</tr>\n",
       "</table>"
      ],
      "text/plain": [
       "<SolverBasedModel iJO1366 at 0x101a0cfd0>"
      ]
     },
     "execution_count": 3,
     "metadata": {},
     "output_type": "execute_result"
    }
   ],
   "source": [
    "model"
   ]
  },
  {
   "cell_type": "markdown",
   "metadata": {
    "deletable": true,
    "editable": true
   },
   "source": [
    "## Step 2: Simulate a model\n",
    "\n",
    "The model can be simulated by executing `~cameo.core.solver_based_model.SolverBasedModel.solve`."
   ]
  },
  {
   "cell_type": "code",
   "execution_count": 4,
   "metadata": {
    "collapsed": false,
    "deletable": true,
    "editable": true
   },
   "outputs": [],
   "source": [
    "solution = model.solve()"
   ]
  },
  {
   "cell_type": "markdown",
   "metadata": {
    "deletable": true,
    "editable": true
   },
   "source": [
    "A quick overview of the solution can be obtained in form of a pandas [DataFrame](http://pandas.pydata.org/pandas-docs/stable/generated/pandas.DataFrame.html) (all solution objects in cameo provide access to data frames through a `data_frame` attribute)."
   ]
  },
  {
   "cell_type": "code",
   "execution_count": 5,
   "metadata": {
    "collapsed": false,
    "deletable": true,
    "editable": true
   },
   "outputs": [
    {
     "data": {
      "text/html": [
       "<div>\n",
       "<table border=\"1\" class=\"dataframe\">\n",
       "  <thead>\n",
       "    <tr style=\"text-align: right;\">\n",
       "      <th></th>\n",
       "      <th>fluxes</th>\n",
       "      <th>reduced_costs</th>\n",
       "    </tr>\n",
       "  </thead>\n",
       "  <tbody>\n",
       "    <tr>\n",
       "      <th>DM_4crsol_c</th>\n",
       "      <td>0.000219</td>\n",
       "      <td>0.000000</td>\n",
       "    </tr>\n",
       "    <tr>\n",
       "      <th>DM_5drib_c</th>\n",
       "      <td>0.000221</td>\n",
       "      <td>0.000000</td>\n",
       "    </tr>\n",
       "    <tr>\n",
       "      <th>DM_aacald_c</th>\n",
       "      <td>-0.000000</td>\n",
       "      <td>0.000000</td>\n",
       "    </tr>\n",
       "    <tr>\n",
       "      <th>DM_amob_c</th>\n",
       "      <td>0.000002</td>\n",
       "      <td>0.000000</td>\n",
       "    </tr>\n",
       "    <tr>\n",
       "      <th>...</th>\n",
       "      <td>...</td>\n",
       "      <td>...</td>\n",
       "    </tr>\n",
       "    <tr>\n",
       "      <th>ZN2t3pp</th>\n",
       "      <td>0.000000</td>\n",
       "      <td>-0.002074</td>\n",
       "    </tr>\n",
       "    <tr>\n",
       "      <th>ZN2tpp</th>\n",
       "      <td>0.000335</td>\n",
       "      <td>0.000000</td>\n",
       "    </tr>\n",
       "    <tr>\n",
       "      <th>ZNabcpp</th>\n",
       "      <td>0.000000</td>\n",
       "      <td>-0.008295</td>\n",
       "    </tr>\n",
       "    <tr>\n",
       "      <th>Zn2tex</th>\n",
       "      <td>0.000335</td>\n",
       "      <td>-0.000000</td>\n",
       "    </tr>\n",
       "  </tbody>\n",
       "</table>\n",
       "<p>2583 rows × 2 columns</p>\n",
       "</div>"
      ],
      "text/plain": [
       "<cameo.core.solution.LazySolution at 0x114c36940>"
      ]
     },
     "execution_count": 5,
     "metadata": {},
     "output_type": "execute_result"
    }
   ],
   "source": [
    "solution"
   ]
  },
  {
   "cell_type": "markdown",
   "metadata": {
    "deletable": true,
    "editable": true
   },
   "source": [
    "The data frame is accessible through `solution.data_frame`."
   ]
  },
  {
   "cell_type": "code",
   "execution_count": 6,
   "metadata": {
    "collapsed": false,
    "deletable": true,
    "editable": true
   },
   "outputs": [
    {
     "data": {
      "text/html": [
       "<div>\n",
       "<table border=\"1\" class=\"dataframe\">\n",
       "  <thead>\n",
       "    <tr style=\"text-align: right;\">\n",
       "      <th></th>\n",
       "      <th>fluxes</th>\n",
       "      <th>reduced_costs</th>\n",
       "    </tr>\n",
       "  </thead>\n",
       "  <tbody>\n",
       "    <tr>\n",
       "      <th>DM_4crsol_c</th>\n",
       "      <td>0.000219</td>\n",
       "      <td>0.000000</td>\n",
       "    </tr>\n",
       "    <tr>\n",
       "      <th>DM_5drib_c</th>\n",
       "      <td>0.000221</td>\n",
       "      <td>0.000000</td>\n",
       "    </tr>\n",
       "    <tr>\n",
       "      <th>DM_aacald_c</th>\n",
       "      <td>-0.000000</td>\n",
       "      <td>0.000000</td>\n",
       "    </tr>\n",
       "    <tr>\n",
       "      <th>DM_amob_c</th>\n",
       "      <td>0.000002</td>\n",
       "      <td>0.000000</td>\n",
       "    </tr>\n",
       "    <tr>\n",
       "      <th>...</th>\n",
       "      <td>...</td>\n",
       "      <td>...</td>\n",
       "    </tr>\n",
       "    <tr>\n",
       "      <th>ZN2t3pp</th>\n",
       "      <td>0.000000</td>\n",
       "      <td>-0.002074</td>\n",
       "    </tr>\n",
       "    <tr>\n",
       "      <th>ZN2tpp</th>\n",
       "      <td>0.000335</td>\n",
       "      <td>0.000000</td>\n",
       "    </tr>\n",
       "    <tr>\n",
       "      <th>ZNabcpp</th>\n",
       "      <td>0.000000</td>\n",
       "      <td>-0.008295</td>\n",
       "    </tr>\n",
       "    <tr>\n",
       "      <th>Zn2tex</th>\n",
       "      <td>0.000335</td>\n",
       "      <td>-0.000000</td>\n",
       "    </tr>\n",
       "  </tbody>\n",
       "</table>\n",
       "<p>2583 rows × 2 columns</p>\n",
       "</div>"
      ],
      "text/plain": [
       "               fluxes  reduced_costs\n",
       "DM_4crsol_c  0.000219       0.000000\n",
       "DM_5drib_c   0.000221       0.000000\n",
       "DM_aacald_c -0.000000       0.000000\n",
       "DM_amob_c    0.000002       0.000000\n",
       "...               ...            ...\n",
       "ZN2t3pp      0.000000      -0.002074\n",
       "ZN2tpp       0.000335       0.000000\n",
       "ZNabcpp      0.000000      -0.008295\n",
       "Zn2tex       0.000335      -0.000000\n",
       "\n",
       "[2583 rows x 2 columns]"
      ]
     },
     "execution_count": 6,
     "metadata": {},
     "output_type": "execute_result"
    }
   ],
   "source": [
    "solution.data_frame"
   ]
  },
  {
   "cell_type": "markdown",
   "metadata": {
    "deletable": true,
    "editable": true
   },
   "source": [
    "Data frames make it very easy to process results. For example, let's take a look at reactions with flux != 0"
   ]
  },
  {
   "cell_type": "code",
   "execution_count": 7,
   "metadata": {
    "collapsed": false,
    "deletable": true,
    "editable": true
   },
   "outputs": [
    {
     "data": {
      "text/html": [
       "<div>\n",
       "<table border=\"1\" class=\"dataframe\">\n",
       "  <thead>\n",
       "    <tr style=\"text-align: right;\">\n",
       "      <th></th>\n",
       "      <th>fluxes</th>\n",
       "      <th>reduced_costs</th>\n",
       "    </tr>\n",
       "  </thead>\n",
       "  <tbody>\n",
       "    <tr>\n",
       "      <th>DM_4crsol_c</th>\n",
       "      <td>0.000219</td>\n",
       "      <td>0.0</td>\n",
       "    </tr>\n",
       "    <tr>\n",
       "      <th>DM_5drib_c</th>\n",
       "      <td>0.000221</td>\n",
       "      <td>0.0</td>\n",
       "    </tr>\n",
       "    <tr>\n",
       "      <th>DM_amob_c</th>\n",
       "      <td>0.000002</td>\n",
       "      <td>0.0</td>\n",
       "    </tr>\n",
       "    <tr>\n",
       "      <th>DM_mththf_c</th>\n",
       "      <td>0.000440</td>\n",
       "      <td>0.0</td>\n",
       "    </tr>\n",
       "    <tr>\n",
       "      <th>...</th>\n",
       "      <td>...</td>\n",
       "      <td>...</td>\n",
       "    </tr>\n",
       "    <tr>\n",
       "      <th>USHD</th>\n",
       "      <td>0.019113</td>\n",
       "      <td>0.0</td>\n",
       "    </tr>\n",
       "    <tr>\n",
       "      <th>VALTA</th>\n",
       "      <td>-0.415702</td>\n",
       "      <td>0.0</td>\n",
       "    </tr>\n",
       "    <tr>\n",
       "      <th>ZN2tpp</th>\n",
       "      <td>0.000335</td>\n",
       "      <td>0.0</td>\n",
       "    </tr>\n",
       "    <tr>\n",
       "      <th>Zn2tex</th>\n",
       "      <td>0.000335</td>\n",
       "      <td>-0.0</td>\n",
       "    </tr>\n",
       "  </tbody>\n",
       "</table>\n",
       "<p>438 rows × 2 columns</p>\n",
       "</div>"
      ],
      "text/plain": [
       "               fluxes  reduced_costs\n",
       "DM_4crsol_c  0.000219            0.0\n",
       "DM_5drib_c   0.000221            0.0\n",
       "DM_amob_c    0.000002            0.0\n",
       "DM_mththf_c  0.000440            0.0\n",
       "...               ...            ...\n",
       "USHD         0.019113            0.0\n",
       "VALTA       -0.415702            0.0\n",
       "ZN2tpp       0.000335            0.0\n",
       "Zn2tex       0.000335           -0.0\n",
       "\n",
       "[438 rows x 2 columns]"
      ]
     },
     "execution_count": 7,
     "metadata": {},
     "output_type": "execute_result"
    }
   ],
   "source": [
    "solution.data_frame.query('fluxes != 0')"
   ]
  },
  {
   "cell_type": "markdown",
   "metadata": {
    "deletable": true,
    "editable": true
   },
   "source": [
    "## Step 3: Exploring a model\n",
    "\n",
    "Objects—models, reactions, metabolites, genes—can easily be explored in the Jupyter notebook, taking advantage of tab completion. For example, place your cursor after the period in `model.reactions.` and press the TAB key. A dialog will appear that allows you to navigate the list of reactions encoded in the model. "
   ]
  },
  {
   "cell_type": "code",
   "execution_count": 8,
   "metadata": {
    "collapsed": false,
    "deletable": true,
    "editable": true
   },
   "outputs": [
    {
     "data": {
      "text/html": [
       "\n",
       "        <table>\n",
       "            <tr>\n",
       "                <td><strong>Id</strong></td><td>PGK</td>\n",
       "            </tr>\n",
       "            <tr>\n",
       "                <td><strong>Name</strong></td><td>Phosphoglycerate kinase</td>\n",
       "            </tr>\n",
       "            <tr>\n",
       "                <td><strong>Stoichiometry</strong></td><td>3pg_c + atp_c <=> 13dpg_c + adp_c</td>\n",
       "            </tr>\n",
       "            <tr>\n",
       "                <td><strong>GPR</strong></td><td>b2926</td>\n",
       "            </tr>\n",
       "            <tr>\n",
       "                <td><strong>Lower bound</strong></td><td>-1000.000000</td>\n",
       "            </tr>\n",
       "            <tr>\n",
       "                <td><strong>Upper bound</strong></td><td>1000.000000</td>\n",
       "            </tr>\n",
       "        </table>\n",
       "        "
      ],
      "text/plain": [
       "<Reaction PGK at 0x115414f28>"
      ]
     },
     "execution_count": 8,
     "metadata": {},
     "output_type": "execute_result"
    }
   ],
   "source": [
    "model.reactions.PGK # delete PGK, place your cursor after the period and press the TAB key."
   ]
  },
  {
   "cell_type": "markdown",
   "metadata": {
    "deletable": true,
    "editable": true
   },
   "source": [
    "For example, you can access the E4PD (_Erythrose 4-phosphate dehydrogenase_) reaction in the model."
   ]
  },
  {
   "cell_type": "code",
   "execution_count": 9,
   "metadata": {
    "collapsed": false,
    "deletable": true,
    "editable": true
   },
   "outputs": [
    {
     "data": {
      "text/html": [
       "\n",
       "        <table>\n",
       "            <tr>\n",
       "                <td><strong>Id</strong></td><td>E4PD</td>\n",
       "            </tr>\n",
       "            <tr>\n",
       "                <td><strong>Name</strong></td><td>Erythrose 4-phosphate dehydrogenase</td>\n",
       "            </tr>\n",
       "            <tr>\n",
       "                <td><strong>Stoichiometry</strong></td><td>e4p_c + h2o_c + nad_c <=> 4per_c + 2.0 h_c + nadh_c</td>\n",
       "            </tr>\n",
       "            <tr>\n",
       "                <td><strong>GPR</strong></td><td>b2927 or b1779</td>\n",
       "            </tr>\n",
       "            <tr>\n",
       "                <td><strong>Lower bound</strong></td><td>-1000.000000</td>\n",
       "            </tr>\n",
       "            <tr>\n",
       "                <td><strong>Upper bound</strong></td><td>1000.000000</td>\n",
       "            </tr>\n",
       "        </table>\n",
       "        "
      ],
      "text/plain": [
       "<Reaction E4PD at 0x114be76a0>"
      ]
     },
     "execution_count": 9,
     "metadata": {},
     "output_type": "execute_result"
    }
   ],
   "source": [
    "model.reactions.E4PD"
   ]
  },
  {
   "cell_type": "markdown",
   "metadata": {
    "deletable": true,
    "editable": true
   },
   "source": [
    "Be aware though that due variable naming restrictions in Python dot notation access to reactions (and other objects) might not work in some cases."
   ]
  },
  {
   "cell_type": "code",
   "execution_count": 10,
   "metadata": {
    "collapsed": false,
    "deletable": true,
    "editable": true
   },
   "outputs": [],
   "source": [
    "# model.reactions.12DGR120tipp  # uncommenting and running this cell will produce a syntax error"
   ]
  },
  {
   "cell_type": "markdown",
   "metadata": {
    "deletable": true,
    "editable": true
   },
   "source": [
    "In these cases you need to use the `model.reactions.get_by_id`."
   ]
  },
  {
   "cell_type": "code",
   "execution_count": 11,
   "metadata": {
    "collapsed": false,
    "deletable": true,
    "editable": true
   },
   "outputs": [
    {
     "data": {
      "text/html": [
       "\n",
       "        <table>\n",
       "            <tr>\n",
       "                <td><strong>Id</strong></td><td>12DGR120tipp</td>\n",
       "            </tr>\n",
       "            <tr>\n",
       "                <td><strong>Name</strong></td><td>1,2 diacylglycerol transport via flipping (periplasm to cytoplasm, n-C12:0)</td>\n",
       "            </tr>\n",
       "            <tr>\n",
       "                <td><strong>Stoichiometry</strong></td><td>12dgr120_p --> 12dgr120_c</td>\n",
       "            </tr>\n",
       "            <tr>\n",
       "                <td><strong>GPR</strong></td><td></td>\n",
       "            </tr>\n",
       "            <tr>\n",
       "                <td><strong>Lower bound</strong></td><td>0.000000</td>\n",
       "            </tr>\n",
       "            <tr>\n",
       "                <td><strong>Upper bound</strong></td><td>1000.000000</td>\n",
       "            </tr>\n",
       "        </table>\n",
       "        "
      ],
      "text/plain": [
       "<Reaction 12DGR120tipp at 0x11451f9b0>"
      ]
     },
     "execution_count": 11,
     "metadata": {},
     "output_type": "execute_result"
    }
   ],
   "source": [
    "model.reactions.get_by_id('12DGR120tipp')"
   ]
  },
  {
   "cell_type": "markdown",
   "metadata": {
    "deletable": true,
    "editable": true
   },
   "source": [
    "Metabolites are accessible through `model.metabolites`. For example, D-glucose in the cytosolic compartment."
   ]
  },
  {
   "cell_type": "code",
   "execution_count": 12,
   "metadata": {
    "collapsed": false,
    "deletable": true,
    "editable": true
   },
   "outputs": [
    {
     "data": {
      "text/html": [
       "\n",
       "        <table>\n",
       "            <tr>\n",
       "                <td><strong>Id</strong></td><td>glc__D_c</td>\n",
       "            </tr>\n",
       "            <tr>\n",
       "                <td><strong>Name</strong></td><td>D-Glucose</td>\n",
       "            </tr>\n",
       "            <tr>\n",
       "                <td><strong>Formula</strong></td><td>C6H12O6</td>\n",
       "            </tr>\n",
       "        </table>"
      ],
      "text/plain": [
       "<Metabolite glc__D_c at 0x1154499b0>"
      ]
     },
     "execution_count": 12,
     "metadata": {},
     "output_type": "execute_result"
    }
   ],
   "source": [
    "model.metabolites.glc__D_c"
   ]
  },
  {
   "cell_type": "markdown",
   "metadata": {
    "deletable": true,
    "editable": true
   },
   "source": [
    "And it is easy to find the associated reactions"
   ]
  },
  {
   "cell_type": "code",
   "execution_count": 13,
   "metadata": {
    "collapsed": false,
    "deletable": true,
    "editable": true
   },
   "outputs": [
    {
     "data": {
      "text/plain": [
       "frozenset({<Reaction TRE6PH at 0x11543ec50>,\n",
       "           <Reaction AMALT2 at 0x115069860>,\n",
       "           <Reaction HEX1 at 0x1152d6860>,\n",
       "           <Reaction GLCATr at 0x1152c44a8>,\n",
       "           <Reaction TREH at 0x11543f0b8>,\n",
       "           <Reaction XYLI2 at 0x115449908>,\n",
       "           <Reaction MLTG4 at 0x1152f6d30>,\n",
       "           <Reaction MLTG1 at 0x1152f6940>,\n",
       "           <Reaction AMALT3 at 0x115069978>,\n",
       "           <Reaction AMALT1 at 0x115071198>,\n",
       "           <Reaction GALS3 at 0x1152c0da0>,\n",
       "           <Reaction G6PP at 0x1152bf5c0>,\n",
       "           <Reaction AMALT4 at 0x115069dd8>,\n",
       "           <Reaction GLCabcpp at 0x1152c6e48>,\n",
       "           <Reaction MLTG5 at 0x1152f6e80>,\n",
       "           <Reaction MLTG2 at 0x1152f6a90>,\n",
       "           <Reaction LACZ at 0x1152e2710>,\n",
       "           <Reaction GLCt2pp at 0x1152c73c8>,\n",
       "           <Reaction MLTG3 at 0x1152f6be0>})"
      ]
     },
     "execution_count": 13,
     "metadata": {},
     "output_type": "execute_result"
    }
   ],
   "source": [
    "model.metabolites.glc__D_c.reactions"
   ]
  },
  {
   "cell_type": "markdown",
   "metadata": {
    "deletable": true,
    "editable": true
   },
   "source": [
    "A list of the genes encoded in the model can be accessed via `model.genes`."
   ]
  },
  {
   "cell_type": "code",
   "execution_count": 14,
   "metadata": {
    "collapsed": false,
    "deletable": true,
    "editable": true,
    "scrolled": true
   },
   "outputs": [
    {
     "data": {
      "text/plain": [
       "[<Gene b2215 at 0x11544ad30>,\n",
       " <Gene b1377 at 0x11544ad68>,\n",
       " <Gene b0241 at 0x11544ada0>,\n",
       " <Gene b0929 at 0x11544add8>,\n",
       " <Gene b4035 at 0x1152ef080>,\n",
       " <Gene b4033 at 0x1152ef0b8>,\n",
       " <Gene b4034 at 0x1152ef0f0>,\n",
       " <Gene b4032 at 0x1152ef128>,\n",
       " <Gene b4036 at 0x1152ef518>,\n",
       " <Gene b4213 at 0x1152507f0>]"
      ]
     },
     "execution_count": 14,
     "metadata": {},
     "output_type": "execute_result"
    }
   ],
   "source": [
    "model.genes[0:10]"
   ]
  },
  {
   "cell_type": "markdown",
   "metadata": {
    "deletable": true,
    "editable": true
   },
   "source": [
    "A few additional attributes have been added that are not available in a [cobrapy](https://opencobra.github.io/cobrapy/) model. For example, exchange reactions that allow certain metabolites to enter or leave the model can be accessed through `model.exchanges`."
   ]
  },
  {
   "cell_type": "code",
   "execution_count": 15,
   "metadata": {
    "collapsed": false,
    "deletable": true,
    "editable": true
   },
   "outputs": [
    {
     "data": {
      "text/plain": [
       "[<Reaction DM_4crsol_c at 0x10cc53828>,\n",
       " <Reaction DM_5drib_c at 0x1118211d0>,\n",
       " <Reaction DM_aacald_c at 0x111821b00>,\n",
       " <Reaction DM_amob_c at 0x111821128>,\n",
       " <Reaction DM_mththf_c at 0x111821ac8>,\n",
       " <Reaction DM_oxam_c at 0x111821f28>,\n",
       " <Reaction EX_12ppd__R_e at 0x11413d6d8>,\n",
       " <Reaction EX_12ppd__S_e at 0x11413d8d0>,\n",
       " <Reaction EX_14glucan_e at 0x11413da20>,\n",
       " <Reaction EX_15dap_e at 0x11413dda0>]"
      ]
     },
     "execution_count": 15,
     "metadata": {},
     "output_type": "execute_result"
    }
   ],
   "source": [
    "model.exchanges[0:10]"
   ]
  },
  {
   "cell_type": "markdown",
   "metadata": {
    "deletable": true,
    "editable": true
   },
   "source": [
    "Or, the current medium can be accessed through `model.medium`."
   ]
  },
  {
   "cell_type": "code",
   "execution_count": 16,
   "metadata": {
    "collapsed": false,
    "deletable": true,
    "editable": true
   },
   "outputs": [
    {
     "data": {
      "text/html": [
       "<div>\n",
       "<table border=\"1\" class=\"dataframe\">\n",
       "  <thead>\n",
       "    <tr style=\"text-align: right;\">\n",
       "      <th></th>\n",
       "      <th>reaction_id</th>\n",
       "      <th>reaction_name</th>\n",
       "      <th>lower_bound</th>\n",
       "      <th>upper_bound</th>\n",
       "    </tr>\n",
       "  </thead>\n",
       "  <tbody>\n",
       "    <tr>\n",
       "      <th>0</th>\n",
       "      <td>EX_ca2_e</td>\n",
       "      <td>Calcium exchange</td>\n",
       "      <td>-1000.00</td>\n",
       "      <td>1000.0</td>\n",
       "    </tr>\n",
       "    <tr>\n",
       "      <th>1</th>\n",
       "      <td>EX_cbl1_e</td>\n",
       "      <td>Cob(I)alamin exchange</td>\n",
       "      <td>-0.01</td>\n",
       "      <td>1000.0</td>\n",
       "    </tr>\n",
       "    <tr>\n",
       "      <th>2</th>\n",
       "      <td>EX_cl_e</td>\n",
       "      <td>Chloride exchange</td>\n",
       "      <td>-1000.00</td>\n",
       "      <td>1000.0</td>\n",
       "    </tr>\n",
       "    <tr>\n",
       "      <th>3</th>\n",
       "      <td>EX_co2_e</td>\n",
       "      <td>CO2 exchange</td>\n",
       "      <td>-1000.00</td>\n",
       "      <td>1000.0</td>\n",
       "    </tr>\n",
       "    <tr>\n",
       "      <th>...</th>\n",
       "      <td>...</td>\n",
       "      <td>...</td>\n",
       "      <td>...</td>\n",
       "      <td>...</td>\n",
       "    </tr>\n",
       "    <tr>\n",
       "      <th>21</th>\n",
       "      <td>EX_slnt_e</td>\n",
       "      <td>Selenite exchange</td>\n",
       "      <td>-1000.00</td>\n",
       "      <td>1000.0</td>\n",
       "    </tr>\n",
       "    <tr>\n",
       "      <th>22</th>\n",
       "      <td>EX_so4_e</td>\n",
       "      <td>Sulfate exchange</td>\n",
       "      <td>-1000.00</td>\n",
       "      <td>1000.0</td>\n",
       "    </tr>\n",
       "    <tr>\n",
       "      <th>23</th>\n",
       "      <td>EX_tungs_e</td>\n",
       "      <td>Tungstate exchange</td>\n",
       "      <td>-1000.00</td>\n",
       "      <td>1000.0</td>\n",
       "    </tr>\n",
       "    <tr>\n",
       "      <th>24</th>\n",
       "      <td>EX_zn2_e</td>\n",
       "      <td>Zinc exchange</td>\n",
       "      <td>-1000.00</td>\n",
       "      <td>1000.0</td>\n",
       "    </tr>\n",
       "  </tbody>\n",
       "</table>\n",
       "<p>25 rows × 4 columns</p>\n",
       "</div>"
      ],
      "text/plain": [
       "   reaction_id          reaction_name  lower_bound  upper_bound\n",
       "0     EX_ca2_e       Calcium exchange     -1000.00       1000.0\n",
       "1    EX_cbl1_e  Cob(I)alamin exchange        -0.01       1000.0\n",
       "2      EX_cl_e      Chloride exchange     -1000.00       1000.0\n",
       "3     EX_co2_e           CO2 exchange     -1000.00       1000.0\n",
       "..         ...                    ...          ...          ...\n",
       "21   EX_slnt_e      Selenite exchange     -1000.00       1000.0\n",
       "22    EX_so4_e       Sulfate exchange     -1000.00       1000.0\n",
       "23  EX_tungs_e     Tungstate exchange     -1000.00       1000.0\n",
       "24    EX_zn2_e          Zinc exchange     -1000.00       1000.0\n",
       "\n",
       "[25 rows x 4 columns]"
      ]
     },
     "execution_count": 16,
     "metadata": {},
     "output_type": "execute_result"
    }
   ],
   "source": [
    "model.medium"
   ]
  },
  {
   "cell_type": "markdown",
   "metadata": {
    "deletable": true,
    "editable": true
   },
   "source": [
    "It is also possible to get a list of essential reactions ..."
   ]
  },
  {
   "cell_type": "code",
   "execution_count": 17,
   "metadata": {
    "collapsed": false,
    "deletable": true,
    "editable": true
   },
   "outputs": [
    {
     "data": {
      "text/plain": [
       "[<Reaction DM_4crsol_c at 0x10cc53828>,\n",
       " <Reaction DM_5drib_c at 0x1118211d0>,\n",
       " <Reaction DM_amob_c at 0x111821128>,\n",
       " <Reaction DM_mththf_c at 0x111821ac8>,\n",
       " <Reaction BIOMASS_Ec_iJO1366_core_53p95M at 0x11185f160>,\n",
       " <Reaction EX_ca2_e at 0x11417a1d0>,\n",
       " <Reaction EX_cl_e at 0x11417f550>,\n",
       " <Reaction EX_cobalt2_e at 0x11417fc88>,\n",
       " <Reaction EX_cu2_e at 0x1141877f0>,\n",
       " <Reaction EX_glc__D_e at 0x1141cc048>]"
      ]
     },
     "execution_count": 17,
     "metadata": {},
     "output_type": "execute_result"
    }
   ],
   "source": [
    "model.essential_reactions()[0:10]"
   ]
  },
  {
   "cell_type": "markdown",
   "metadata": {
    "deletable": true,
    "editable": true
   },
   "source": [
    "... and essential genes."
   ]
  },
  {
   "cell_type": "code",
   "execution_count": 18,
   "metadata": {
    "collapsed": false,
    "deletable": true,
    "editable": true
   },
   "outputs": [
    {
     "data": {
      "text/plain": [
       "[<Gene b3730 at 0x115444080>,\n",
       " <Gene b3805 at 0x1152d80f0>,\n",
       " <Gene b0090 at 0x115444208>,\n",
       " <Gene b3939 at 0x115434240>,\n",
       " <Gene b3648 at 0x1152c42b0>,\n",
       " <Gene b3058 at 0x114c14320>,\n",
       " <Gene b0088 at 0x115444320>,\n",
       " <Gene b1281 at 0x11540c358>,\n",
       " <Gene b0131 at 0x1150203c8>,\n",
       " <Gene b0154 at 0x1152bc400>]"
      ]
     },
     "execution_count": 18,
     "metadata": {},
     "output_type": "execute_result"
    }
   ],
   "source": [
    "model.essential_genes()[0:10]"
   ]
  }
 ],
 "metadata": {
  "anaconda-cloud": {},
  "kernelspec": {
   "display_name": "Python 3",
   "language": "python",
   "name": "python3"
  },
  "language_info": {
   "codemirror_mode": {
    "name": "ipython",
    "version": 3
   },
   "file_extension": ".py",
   "mimetype": "text/x-python",
   "name": "python",
   "nbconvert_exporter": "python",
   "pygments_lexer": "ipython3",
   "version": "3.5.0"
  }
 },
 "nbformat": 4,
 "nbformat_minor": 0
}
