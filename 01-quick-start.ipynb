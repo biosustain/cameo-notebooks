{
 "cells": [
  {
   "cell_type": "markdown",
   "metadata": {},
   "source": [
    "# Getting started with cameo "
   ]
  },
  {
   "cell_type": "markdown",
   "metadata": {},
   "source": [
    "**cameo** reuses and extends model data structures defined by [cobrapy](https://opencobra.github.io/cobrapy/) (**CO**nstraints-**B**ased **R**econstruction and **A**nalysis tool for **Py**thon). So, in addition to following this quick start guide and other **cameo** tutorials, we encourage you to explore cobrapy's [documentation](https://cobrapy.readthedocs.org/en/latest/cobra.core.html) as well."
   ]
  },
  {
   "cell_type": "markdown",
   "metadata": {},
   "source": [
    "Step 1: Load a model\n",
    "-------------------\n",
    "\n",
    "Loading a model is easy. Just import the `~cameo.io.load_model` function."
   ]
  },
  {
   "cell_type": "code",
   "execution_count": 1,
   "metadata": {},
   "outputs": [],
   "source": [
    "from cameo import load_model"
   ]
  },
  {
   "cell_type": "markdown",
   "metadata": {},
   "source": [
    "For example, load the most current genome-scale metabolic reconstruction of _Escherichia coli_."
   ]
  },
  {
   "cell_type": "code",
   "execution_count": 2,
   "metadata": {},
   "outputs": [],
   "source": [
    "model = load_model(\"iJO1366\")"
   ]
  },
  {
   "cell_type": "markdown",
   "metadata": {},
   "source": [
    "Models, reactions, metabolites, etc., provide return HTML when evaluated in Jupyter notebooks and can thus be easily inspected."
   ]
  },
  {
   "cell_type": "code",
   "execution_count": 3,
   "metadata": {},
   "outputs": [
    {
     "data": {
      "text/html": [
       "\n",
       "        <table>\n",
       "            <tr>\n",
       "                <td><strong>Name</strong></td>\n",
       "                <td>iJO1366</td>\n",
       "            </tr><tr>\n",
       "                <td><strong>Memory address</strong></td>\n",
       "                <td>0x0115c8ceb8</td>\n",
       "            </tr><tr>\n",
       "                <td><strong>Number of metabolites</strong></td>\n",
       "                <td>1805</td>\n",
       "            </tr><tr>\n",
       "                <td><strong>Number of reactions</strong></td>\n",
       "                <td>2583</td>\n",
       "            </tr><tr>\n",
       "                <td><strong>Objective expression</strong></td>\n",
       "                <td>-1.0*BIOMASS_Ec_iJO1366_core_53p95M_reverse_5c8b1 + 1.0*BIOMASS_Ec_iJO1366_core_53p95M</td>\n",
       "            </tr><tr>\n",
       "                <td><strong>Compartments</strong></td>\n",
       "                <td>periplasm, cytosol, extracellular space</td>\n",
       "            </tr>\n",
       "          </table>"
      ],
      "text/plain": [
       "<Model iJO1366 at 0x115c8ceb8>"
      ]
     },
     "execution_count": 3,
     "metadata": {},
     "output_type": "execute_result"
    }
   ],
   "source": [
    "model"
   ]
  },
  {
   "cell_type": "markdown",
   "metadata": {},
   "source": [
    "## Step 2: Simulate a model\n",
    "\n",
    "The model can be simulated by executing `~cameo.core.solver_based_model.SolverBasedModel.solve`."
   ]
  },
  {
   "cell_type": "code",
   "execution_count": 4,
   "metadata": {},
   "outputs": [],
   "source": [
    "solution = model.optimize()"
   ]
  },
  {
   "cell_type": "markdown",
   "metadata": {},
   "source": [
    "A quick overview of the solution can be obtained in form of a pandas [DataFrame](http://pandas.pydata.org/pandas-docs/stable/generated/pandas.DataFrame.html) (all solution objects in cameo provide access to data frames through a `data_frame` attribute)."
   ]
  },
  {
   "cell_type": "code",
   "execution_count": 5,
   "metadata": {},
   "outputs": [
    {
     "data": {
      "text/html": [
       "<h3>Optimal solution with objective value 0.982</h3><br><div>\n",
       "<style>\n",
       "    .dataframe thead tr:only-child th {\n",
       "        text-align: right;\n",
       "    }\n",
       "\n",
       "    .dataframe thead th {\n",
       "        text-align: left;\n",
       "    }\n",
       "\n",
       "    .dataframe tbody tr th {\n",
       "        vertical-align: top;\n",
       "    }\n",
       "</style>\n",
       "<table border=\"1\" class=\"dataframe\">\n",
       "  <thead>\n",
       "    <tr style=\"text-align: right;\">\n",
       "      <th></th>\n",
       "      <th>fluxes</th>\n",
       "      <th>reduced_costs</th>\n",
       "    </tr>\n",
       "  </thead>\n",
       "  <tbody>\n",
       "    <tr>\n",
       "      <th>DM_4crsol_c</th>\n",
       "      <td>2.1907e-04</td>\n",
       "      <td>0.0000</td>\n",
       "    </tr>\n",
       "    <tr>\n",
       "      <th>DM_5drib_c</th>\n",
       "      <td>2.2103e-04</td>\n",
       "      <td>0.0000</td>\n",
       "    </tr>\n",
       "    <tr>\n",
       "      <th>DM_aacald_c</th>\n",
       "      <td>-0.0000e+00</td>\n",
       "      <td>0.0000</td>\n",
       "    </tr>\n",
       "    <tr>\n",
       "      <th>DM_amob_c</th>\n",
       "      <td>1.9647e-06</td>\n",
       "      <td>0.0000</td>\n",
       "    </tr>\n",
       "    <tr>\n",
       "      <th>DM_mththf_c</th>\n",
       "      <td>4.4010e-04</td>\n",
       "      <td>0.0000</td>\n",
       "    </tr>\n",
       "    <tr>\n",
       "      <th>...</th>\n",
       "      <td>...</td>\n",
       "      <td>...</td>\n",
       "    </tr>\n",
       "    <tr>\n",
       "      <th>ZN2abcpp</th>\n",
       "      <td>0.0000e+00</td>\n",
       "      <td>-0.0083</td>\n",
       "    </tr>\n",
       "    <tr>\n",
       "      <th>ZN2t3pp</th>\n",
       "      <td>0.0000e+00</td>\n",
       "      <td>-0.0021</td>\n",
       "    </tr>\n",
       "    <tr>\n",
       "      <th>ZN2tpp</th>\n",
       "      <td>3.3499e-04</td>\n",
       "      <td>0.0000</td>\n",
       "    </tr>\n",
       "    <tr>\n",
       "      <th>ZNabcpp</th>\n",
       "      <td>0.0000e+00</td>\n",
       "      <td>-0.0083</td>\n",
       "    </tr>\n",
       "    <tr>\n",
       "      <th>Zn2tex</th>\n",
       "      <td>3.3499e-04</td>\n",
       "      <td>-0.0000</td>\n",
       "    </tr>\n",
       "  </tbody>\n",
       "</table>\n",
       "<p>2583 rows × 2 columns</p>\n",
       "</div>"
      ],
      "text/plain": [
       "<Solution 0.982 at 0x11555b160>"
      ]
     },
     "execution_count": 5,
     "metadata": {},
     "output_type": "execute_result"
    }
   ],
   "source": [
    "solution"
   ]
  },
  {
   "cell_type": "markdown",
   "metadata": {},
   "source": [
    "A data frame representation of the solution is accessible via `solution.to_frame()`."
   ]
  },
  {
   "cell_type": "code",
   "execution_count": 6,
   "metadata": {},
   "outputs": [
    {
     "data": {
      "text/html": [
       "<div>\n",
       "<style>\n",
       "    .dataframe thead tr:only-child th {\n",
       "        text-align: right;\n",
       "    }\n",
       "\n",
       "    .dataframe thead th {\n",
       "        text-align: left;\n",
       "    }\n",
       "\n",
       "    .dataframe tbody tr th {\n",
       "        vertical-align: top;\n",
       "    }\n",
       "</style>\n",
       "<table border=\"1\" class=\"dataframe\">\n",
       "  <thead>\n",
       "    <tr style=\"text-align: right;\">\n",
       "      <th></th>\n",
       "      <th>fluxes</th>\n",
       "      <th>reduced_costs</th>\n",
       "    </tr>\n",
       "  </thead>\n",
       "  <tbody>\n",
       "    <tr>\n",
       "      <th>DM_4crsol_c</th>\n",
       "      <td>2.1907e-04</td>\n",
       "      <td>0.0000</td>\n",
       "    </tr>\n",
       "    <tr>\n",
       "      <th>DM_5drib_c</th>\n",
       "      <td>2.2103e-04</td>\n",
       "      <td>0.0000</td>\n",
       "    </tr>\n",
       "    <tr>\n",
       "      <th>DM_aacald_c</th>\n",
       "      <td>-0.0000e+00</td>\n",
       "      <td>0.0000</td>\n",
       "    </tr>\n",
       "    <tr>\n",
       "      <th>DM_amob_c</th>\n",
       "      <td>1.9647e-06</td>\n",
       "      <td>0.0000</td>\n",
       "    </tr>\n",
       "    <tr>\n",
       "      <th>DM_mththf_c</th>\n",
       "      <td>4.4010e-04</td>\n",
       "      <td>0.0000</td>\n",
       "    </tr>\n",
       "    <tr>\n",
       "      <th>...</th>\n",
       "      <td>...</td>\n",
       "      <td>...</td>\n",
       "    </tr>\n",
       "    <tr>\n",
       "      <th>ZN2abcpp</th>\n",
       "      <td>0.0000e+00</td>\n",
       "      <td>-0.0083</td>\n",
       "    </tr>\n",
       "    <tr>\n",
       "      <th>ZN2t3pp</th>\n",
       "      <td>0.0000e+00</td>\n",
       "      <td>-0.0021</td>\n",
       "    </tr>\n",
       "    <tr>\n",
       "      <th>ZN2tpp</th>\n",
       "      <td>3.3499e-04</td>\n",
       "      <td>0.0000</td>\n",
       "    </tr>\n",
       "    <tr>\n",
       "      <th>ZNabcpp</th>\n",
       "      <td>0.0000e+00</td>\n",
       "      <td>-0.0083</td>\n",
       "    </tr>\n",
       "    <tr>\n",
       "      <th>Zn2tex</th>\n",
       "      <td>3.3499e-04</td>\n",
       "      <td>-0.0000</td>\n",
       "    </tr>\n",
       "  </tbody>\n",
       "</table>\n",
       "<p>2583 rows × 2 columns</p>\n",
       "</div>"
      ],
      "text/plain": [
       "                 fluxes  reduced_costs\n",
       "DM_4crsol_c  2.1907e-04         0.0000\n",
       "DM_5drib_c   2.2103e-04         0.0000\n",
       "DM_aacald_c -0.0000e+00         0.0000\n",
       "DM_amob_c    1.9647e-06         0.0000\n",
       "DM_mththf_c  4.4010e-04         0.0000\n",
       "...                 ...            ...\n",
       "ZN2abcpp     0.0000e+00        -0.0083\n",
       "ZN2t3pp      0.0000e+00        -0.0021\n",
       "ZN2tpp       3.3499e-04         0.0000\n",
       "ZNabcpp      0.0000e+00        -0.0083\n",
       "Zn2tex       3.3499e-04        -0.0000\n",
       "\n",
       "[2583 rows x 2 columns]"
      ]
     },
     "execution_count": 6,
     "metadata": {},
     "output_type": "execute_result"
    }
   ],
   "source": [
    "solution.to_frame()"
   ]
  },
  {
   "cell_type": "markdown",
   "metadata": {},
   "source": [
    "Data frames make it very easy to process results. For example, let's take a look at reactions with flux != 0"
   ]
  },
  {
   "cell_type": "code",
   "execution_count": 7,
   "metadata": {},
   "outputs": [
    {
     "data": {
      "text/html": [
       "<div>\n",
       "<style>\n",
       "    .dataframe thead tr:only-child th {\n",
       "        text-align: right;\n",
       "    }\n",
       "\n",
       "    .dataframe thead th {\n",
       "        text-align: left;\n",
       "    }\n",
       "\n",
       "    .dataframe tbody tr th {\n",
       "        vertical-align: top;\n",
       "    }\n",
       "</style>\n",
       "<table border=\"1\" class=\"dataframe\">\n",
       "  <thead>\n",
       "    <tr style=\"text-align: right;\">\n",
       "      <th></th>\n",
       "      <th>fluxes</th>\n",
       "      <th>reduced_costs</th>\n",
       "    </tr>\n",
       "  </thead>\n",
       "  <tbody>\n",
       "    <tr>\n",
       "      <th>DM_4crsol_c</th>\n",
       "      <td>2.1907e-04</td>\n",
       "      <td>0.0000e+00</td>\n",
       "    </tr>\n",
       "    <tr>\n",
       "      <th>DM_5drib_c</th>\n",
       "      <td>2.2103e-04</td>\n",
       "      <td>0.0000e+00</td>\n",
       "    </tr>\n",
       "    <tr>\n",
       "      <th>DM_amob_c</th>\n",
       "      <td>1.9647e-06</td>\n",
       "      <td>0.0000e+00</td>\n",
       "    </tr>\n",
       "    <tr>\n",
       "      <th>DM_mththf_c</th>\n",
       "      <td>4.4010e-04</td>\n",
       "      <td>0.0000e+00</td>\n",
       "    </tr>\n",
       "    <tr>\n",
       "      <th>BIOMASS_Ec_iJO1366_core_53p95M</th>\n",
       "      <td>9.8237e-01</td>\n",
       "      <td>1.8492e-15</td>\n",
       "    </tr>\n",
       "    <tr>\n",
       "      <th>...</th>\n",
       "      <td>...</td>\n",
       "      <td>...</td>\n",
       "    </tr>\n",
       "    <tr>\n",
       "      <th>UPPDC1</th>\n",
       "      <td>2.1907e-04</td>\n",
       "      <td>0.0000e+00</td>\n",
       "    </tr>\n",
       "    <tr>\n",
       "      <th>USHD</th>\n",
       "      <td>1.9113e-02</td>\n",
       "      <td>0.0000e+00</td>\n",
       "    </tr>\n",
       "    <tr>\n",
       "      <th>VALTA</th>\n",
       "      <td>-4.1570e-01</td>\n",
       "      <td>0.0000e+00</td>\n",
       "    </tr>\n",
       "    <tr>\n",
       "      <th>ZN2tpp</th>\n",
       "      <td>3.3499e-04</td>\n",
       "      <td>0.0000e+00</td>\n",
       "    </tr>\n",
       "    <tr>\n",
       "      <th>Zn2tex</th>\n",
       "      <td>3.3499e-04</td>\n",
       "      <td>-0.0000e+00</td>\n",
       "    </tr>\n",
       "  </tbody>\n",
       "</table>\n",
       "<p>437 rows × 2 columns</p>\n",
       "</div>"
      ],
      "text/plain": [
       "                                    fluxes  reduced_costs\n",
       "DM_4crsol_c                     2.1907e-04     0.0000e+00\n",
       "DM_5drib_c                      2.2103e-04     0.0000e+00\n",
       "DM_amob_c                       1.9647e-06     0.0000e+00\n",
       "DM_mththf_c                     4.4010e-04     0.0000e+00\n",
       "BIOMASS_Ec_iJO1366_core_53p95M  9.8237e-01     1.8492e-15\n",
       "...                                    ...            ...\n",
       "UPPDC1                          2.1907e-04     0.0000e+00\n",
       "USHD                            1.9113e-02     0.0000e+00\n",
       "VALTA                          -4.1570e-01     0.0000e+00\n",
       "ZN2tpp                          3.3499e-04     0.0000e+00\n",
       "Zn2tex                          3.3499e-04    -0.0000e+00\n",
       "\n",
       "[437 rows x 2 columns]"
      ]
     },
     "execution_count": 7,
     "metadata": {},
     "output_type": "execute_result"
    }
   ],
   "source": [
    "solution.to_frame().query('fluxes != 0')"
   ]
  },
  {
   "cell_type": "markdown",
   "metadata": {},
   "source": [
    "## Step 3: Exploring a model\n",
    "\n",
    "Objects—models, reactions, metabolites, genes—can easily be explored in the Jupyter notebook, taking advantage of tab completion. For example, place your cursor after the period in `model.reactions.` and press the TAB key. A dialog will appear that allows you to navigate the list of reactions encoded in the model. "
   ]
  },
  {
   "cell_type": "code",
   "execution_count": 8,
   "metadata": {},
   "outputs": [
    {
     "data": {
      "text/html": [
       "\n",
       "        <table>\n",
       "            <tr>\n",
       "                <td><strong>Reaction identifier</strong></td><td>PGK</td>\n",
       "            </tr><tr>\n",
       "                <td><strong>Name</strong></td><td>Phosphoglycerate kinase</td>\n",
       "            </tr><tr>\n",
       "                <td><strong>Stoichiometry</strong></td>\n",
       "                <td>\n",
       "                    <p style='text-align:right'>3pg_c + atp_c <=> 13dpg_c + adp_c</p>\n",
       "                    <p style='text-align:right'>3-Phospho-D-glycerate + ATP <=> 3-Phospho-D-glyceroyl phosphate + ADP</p>\n",
       "                </td>\n",
       "            </tr><tr>\n",
       "                <td><strong>GPR</strong></td><td>b2926</td>\n",
       "            </tr><tr>\n",
       "                <td><strong>Lower bound</strong></td><td>-1000.0</td>\n",
       "            </tr><tr>\n",
       "                <td><strong>Upper bound</strong></td><td>1000.0</td>\n",
       "            </tr>\n",
       "        </table>\n",
       "        "
      ],
      "text/plain": [
       "<Reaction PGK at 0x11643af98>"
      ]
     },
     "execution_count": 8,
     "metadata": {},
     "output_type": "execute_result"
    }
   ],
   "source": [
    "model.reactions.PGK # delete PGK, place your cursor after the period and press the TAB key."
   ]
  },
  {
   "cell_type": "markdown",
   "metadata": {},
   "source": [
    "For example, you can access the E4PD (_Erythrose 4-phosphate dehydrogenase_) reaction in the model."
   ]
  },
  {
   "cell_type": "code",
   "execution_count": 9,
   "metadata": {},
   "outputs": [
    {
     "data": {
      "text/html": [
       "\n",
       "        <table>\n",
       "            <tr>\n",
       "                <td><strong>Reaction identifier</strong></td><td>E4PD</td>\n",
       "            </tr><tr>\n",
       "                <td><strong>Name</strong></td><td>Erythrose 4-phosphate dehydrogenase</td>\n",
       "            </tr><tr>\n",
       "                <td><strong>Stoichiometry</strong></td>\n",
       "                <td>\n",
       "                    <p style='text-align:right'>e4p_c + h2o_c + nad_c <=> 4per_c + 2.0 h_c + nadh_c</p>\n",
       "                    <p style='text-align:right'>D-Erythrose 4-phosphate + H2O + Nicotinamide adenine dinucleotide <=> 4-Phospho-D-erythronate + 2.0 H+ + Nicotinamide adenine dinucleotide - reduced</p>\n",
       "                </td>\n",
       "            </tr><tr>\n",
       "                <td><strong>GPR</strong></td><td>b2927 or b1779</td>\n",
       "            </tr><tr>\n",
       "                <td><strong>Lower bound</strong></td><td>-1000.0</td>\n",
       "            </tr><tr>\n",
       "                <td><strong>Upper bound</strong></td><td>1000.0</td>\n",
       "            </tr>\n",
       "        </table>\n",
       "        "
      ],
      "text/plain": [
       "<Reaction E4PD at 0x116162c18>"
      ]
     },
     "execution_count": 9,
     "metadata": {},
     "output_type": "execute_result"
    }
   ],
   "source": [
    "model.reactions.E4PD"
   ]
  },
  {
   "cell_type": "markdown",
   "metadata": {},
   "source": [
    "Be aware though that due variable naming restrictions in Python dot notation access to reactions (and other objects) might not work in some cases."
   ]
  },
  {
   "cell_type": "code",
   "execution_count": 10,
   "metadata": {},
   "outputs": [],
   "source": [
    "# model.reactions.12DGR120tipp  # uncommenting and running this cell will produce a syntax error"
   ]
  },
  {
   "cell_type": "markdown",
   "metadata": {},
   "source": [
    "In these cases you need to use the `model.reactions.get_by_id`."
   ]
  },
  {
   "cell_type": "code",
   "execution_count": 11,
   "metadata": {},
   "outputs": [
    {
     "data": {
      "text/html": [
       "\n",
       "        <table>\n",
       "            <tr>\n",
       "                <td><strong>Reaction identifier</strong></td><td>12DGR120tipp</td>\n",
       "            </tr><tr>\n",
       "                <td><strong>Name</strong></td><td>1,2 diacylglycerol transport via flipping (periplasm to cytoplasm, n-C12:0)</td>\n",
       "            </tr><tr>\n",
       "                <td><strong>Stoichiometry</strong></td>\n",
       "                <td>\n",
       "                    <p style='text-align:right'>12dgr120_p --> 12dgr120_c</p>\n",
       "                    <p style='text-align:right'>1,2-Diacyl-sn-glycerol (didodecanoyl, n-C12:0) --> 1,2-Diacyl-sn-glycerol (didodecanoyl, n-C12:0)</p>\n",
       "                </td>\n",
       "            </tr><tr>\n",
       "                <td><strong>GPR</strong></td><td></td>\n",
       "            </tr><tr>\n",
       "                <td><strong>Lower bound</strong></td><td>0.0</td>\n",
       "            </tr><tr>\n",
       "                <td><strong>Upper bound</strong></td><td>1000.0</td>\n",
       "            </tr>\n",
       "        </table>\n",
       "        "
      ],
      "text/plain": [
       "<Reaction 12DGR120tipp at 0x115f85d30>"
      ]
     },
     "execution_count": 11,
     "metadata": {},
     "output_type": "execute_result"
    }
   ],
   "source": [
    "model.reactions.get_by_id('12DGR120tipp')"
   ]
  },
  {
   "cell_type": "markdown",
   "metadata": {},
   "source": [
    "Metabolites are accessible through `model.metabolites`. For example, D-glucose in the cytosolic compartment."
   ]
  },
  {
   "cell_type": "code",
   "execution_count": 12,
   "metadata": {},
   "outputs": [
    {
     "data": {
      "text/html": [
       "\n",
       "        <table>\n",
       "            <tr>\n",
       "                <td><strong>Metabolite identifier</strong></td><td>glc__D_c</td>\n",
       "            </tr>\n",
       "            <tr>\n",
       "                <td><strong>Name</strong></td><td>D-Glucose</td>\n",
       "            </tr>\n",
       "            <tr>\n",
       "                <td><strong>Formula</strong></td><td>C6H12O6</td>\n",
       "            </tr>\n",
       "        </table>"
      ],
      "text/plain": [
       "<Metabolite glc__D_c at 0x115cfb898>"
      ]
     },
     "execution_count": 12,
     "metadata": {},
     "output_type": "execute_result"
    }
   ],
   "source": [
    "model.metabolites.glc__D_c"
   ]
  },
  {
   "cell_type": "markdown",
   "metadata": {},
   "source": [
    "And it is easy to find the associated reactions"
   ]
  },
  {
   "cell_type": "code",
   "execution_count": 13,
   "metadata": {},
   "outputs": [
    {
     "data": {
      "text/plain": [
       "frozenset({<Reaction MLTG1 at 0x1163779b0>,\n",
       "           <Reaction MLTG2 at 0x1163779e8>,\n",
       "           <Reaction TRE6PH at 0x116557ac8>,\n",
       "           <Reaction G6PP at 0x116206b00>,\n",
       "           <Reaction MLTG3 at 0x116377ba8>,\n",
       "           <Reaction GLCabcpp at 0x11623f3c8>,\n",
       "           <Reaction MLTG4 at 0x116377c18>,\n",
       "           <Reaction AMALT2 at 0x11605b438>,\n",
       "           <Reaction GLCt2pp at 0x11623f470>,\n",
       "           <Reaction MLTG5 at 0x116377c88>,\n",
       "           <Reaction TREH at 0x116557d30>,\n",
       "           <Reaction AMALT1 at 0x11605b588>,\n",
       "           <Reaction AMALT3 at 0x11605b6a0>,\n",
       "           <Reaction GLCATr at 0x1162336a0>,\n",
       "           <Reaction AMALT4 at 0x11605b710>,\n",
       "           <Reaction XYLI2 at 0x1165a1f28>,\n",
       "           <Reaction HEX1 at 0x1162a7748>,\n",
       "           <Reaction LACZ at 0x1162f0f98>,\n",
       "           <Reaction GALS3 at 0x1162157f0>})"
      ]
     },
     "execution_count": 13,
     "metadata": {},
     "output_type": "execute_result"
    }
   ],
   "source": [
    "model.metabolites.glc__D_c.reactions"
   ]
  },
  {
   "cell_type": "markdown",
   "metadata": {},
   "source": [
    "A list of the genes encoded in the model can be accessed via `model.genes`."
   ]
  },
  {
   "cell_type": "code",
   "execution_count": 14,
   "metadata": {
    "scrolled": true
   },
   "outputs": [
    {
     "data": {
      "text/plain": [
       "[<Gene b2215 at 0x10c6f3780>,\n",
       " <Gene b1377 at 0x10950b4e0>,\n",
       " <Gene b0241 at 0x109351be0>,\n",
       " <Gene b0929 at 0x109351048>,\n",
       " <Gene b4035 at 0x109351d68>,\n",
       " <Gene b4033 at 0x109344b38>,\n",
       " <Gene b4034 at 0x115e60518>,\n",
       " <Gene b4032 at 0x115e60550>,\n",
       " <Gene b4036 at 0x115e60588>,\n",
       " <Gene b4213 at 0x115e605c0>]"
      ]
     },
     "execution_count": 14,
     "metadata": {},
     "output_type": "execute_result"
    }
   ],
   "source": [
    "model.genes[0:10]"
   ]
  },
  {
   "cell_type": "markdown",
   "metadata": {},
   "source": [
    "A few additional attributes have been added that are not available in a [cobrapy](https://opencobra.github.io/cobrapy/) model. For example, exchange reactions that allow certain metabolites to enter or leave the model can be accessed through `model.exchanges`."
   ]
  },
  {
   "cell_type": "code",
   "execution_count": 15,
   "metadata": {},
   "outputs": [
    {
     "data": {
      "text/plain": [
       "[<Reaction DM_4crsol_c at 0x115f44390>,\n",
       " <Reaction DM_5drib_c at 0x115f443c8>,\n",
       " <Reaction DM_aacald_c at 0x115f44400>,\n",
       " <Reaction DM_amob_c at 0x115f44438>,\n",
       " <Reaction DM_mththf_c at 0x115f44470>,\n",
       " <Reaction DM_oxam_c at 0x115f444a8>,\n",
       " <Reaction EX_12ppd__R_e at 0x115f44550>,\n",
       " <Reaction EX_12ppd__S_e at 0x115f44588>,\n",
       " <Reaction EX_14glucan_e at 0x115f445c0>,\n",
       " <Reaction EX_15dap_e at 0x115f445f8>]"
      ]
     },
     "execution_count": 15,
     "metadata": {},
     "output_type": "execute_result"
    }
   ],
   "source": [
    "model.exchanges[0:10]"
   ]
  },
  {
   "cell_type": "markdown",
   "metadata": {},
   "source": [
    "Or, the current medium can be accessed through `model.medium`."
   ]
  },
  {
   "cell_type": "code",
   "execution_count": 16,
   "metadata": {},
   "outputs": [
    {
     "data": {
      "text/html": [
       "<div>\n",
       "<style>\n",
       "    .dataframe thead tr:only-child th {\n",
       "        text-align: right;\n",
       "    }\n",
       "\n",
       "    .dataframe thead th {\n",
       "        text-align: left;\n",
       "    }\n",
       "\n",
       "    .dataframe tbody tr th {\n",
       "        vertical-align: top;\n",
       "    }\n",
       "</style>\n",
       "<table border=\"1\" class=\"dataframe\">\n",
       "  <thead>\n",
       "    <tr style=\"text-align: right;\">\n",
       "      <th></th>\n",
       "      <th>bound</th>\n",
       "    </tr>\n",
       "  </thead>\n",
       "  <tbody>\n",
       "    <tr>\n",
       "      <th>EX_ca2_e</th>\n",
       "      <td>1000.00</td>\n",
       "    </tr>\n",
       "    <tr>\n",
       "      <th>EX_cbl1_e</th>\n",
       "      <td>0.01</td>\n",
       "    </tr>\n",
       "    <tr>\n",
       "      <th>EX_cl_e</th>\n",
       "      <td>1000.00</td>\n",
       "    </tr>\n",
       "    <tr>\n",
       "      <th>EX_co2_e</th>\n",
       "      <td>1000.00</td>\n",
       "    </tr>\n",
       "    <tr>\n",
       "      <th>EX_cobalt2_e</th>\n",
       "      <td>1000.00</td>\n",
       "    </tr>\n",
       "    <tr>\n",
       "      <th>...</th>\n",
       "      <td>...</td>\n",
       "    </tr>\n",
       "    <tr>\n",
       "      <th>EX_sel_e</th>\n",
       "      <td>1000.00</td>\n",
       "    </tr>\n",
       "    <tr>\n",
       "      <th>EX_slnt_e</th>\n",
       "      <td>1000.00</td>\n",
       "    </tr>\n",
       "    <tr>\n",
       "      <th>EX_so4_e</th>\n",
       "      <td>1000.00</td>\n",
       "    </tr>\n",
       "    <tr>\n",
       "      <th>EX_tungs_e</th>\n",
       "      <td>1000.00</td>\n",
       "    </tr>\n",
       "    <tr>\n",
       "      <th>EX_zn2_e</th>\n",
       "      <td>1000.00</td>\n",
       "    </tr>\n",
       "  </tbody>\n",
       "</table>\n",
       "<p>25 rows × 1 columns</p>\n",
       "</div>"
      ],
      "text/plain": [
       "                bound\n",
       "EX_ca2_e      1000.00\n",
       "EX_cbl1_e        0.01\n",
       "EX_cl_e       1000.00\n",
       "EX_co2_e      1000.00\n",
       "EX_cobalt2_e  1000.00\n",
       "...               ...\n",
       "EX_sel_e      1000.00\n",
       "EX_slnt_e     1000.00\n",
       "EX_so4_e      1000.00\n",
       "EX_tungs_e    1000.00\n",
       "EX_zn2_e      1000.00\n",
       "\n",
       "[25 rows x 1 columns]"
      ]
     },
     "execution_count": 16,
     "metadata": {},
     "output_type": "execute_result"
    }
   ],
   "source": [
    "model.medium"
   ]
  },
  {
   "cell_type": "markdown",
   "metadata": {},
   "source": [
    "It is also possible to get a list of essential reactions ..."
   ]
  },
  {
   "cell_type": "code",
   "execution_count": 17,
   "metadata": {},
   "outputs": [
    {
     "data": {
      "text/plain": [
       "[<Reaction DM_4crsol_c at 0x115f44390>,\n",
       " <Reaction DM_5drib_c at 0x115f443c8>,\n",
       " <Reaction DM_amob_c at 0x115f44438>,\n",
       " <Reaction DM_mththf_c at 0x115f44470>,\n",
       " <Reaction BIOMASS_Ec_iJO1366_core_53p95M at 0x115f44518>,\n",
       " <Reaction EX_ca2_e at 0x115f5c3c8>,\n",
       " <Reaction EX_cl_e at 0x115f5c588>,\n",
       " <Reaction EX_cobalt2_e at 0x115f5c668>,\n",
       " <Reaction EX_cu2_e at 0x115f5c860>,\n",
       " <Reaction EX_glc__D_e at 0x115f697b8>]"
      ]
     },
     "execution_count": 17,
     "metadata": {},
     "output_type": "execute_result"
    }
   ],
   "source": [
    "from cameo.flux_analysis.analysis import find_essential_reactions\n",
    "find_essential_reactions(model)[0:10]"
   ]
  },
  {
   "cell_type": "markdown",
   "metadata": {},
   "source": [
    "... and essential genes."
   ]
  },
  {
   "cell_type": "code",
   "execution_count": 18,
   "metadata": {},
   "outputs": [
    {
     "data": {
      "text/plain": [
       "[<Gene b4245 at 0x115e90048>,\n",
       " <Gene b0109 at 0x115f08080>,\n",
       " <Gene b2838 at 0x115ea80f0>,\n",
       " <Gene b0423 at 0x115f380f0>,\n",
       " <Gene b2574 at 0x115e90128>,\n",
       " <Gene b3809 at 0x115ea8128>,\n",
       " <Gene b4407 at 0x115f38128>,\n",
       " <Gene b0175 at 0x115ea8160>,\n",
       " <Gene b3992 at 0x115f38160>,\n",
       " <Gene b0928 at 0x115e90198>]"
      ]
     },
     "execution_count": 18,
     "metadata": {},
     "output_type": "execute_result"
    }
   ],
   "source": [
    "from cameo.flux_analysis.analysis import find_essential_genes\n",
    "find_essential_genes(model)[0:10]"
   ]
  }
 ],
 "metadata": {
  "anaconda-cloud": {},
  "kernelspec": {
   "display_name": "Python 3",
   "language": "python",
   "name": "python3"
  },
  "language_info": {
   "codemirror_mode": {
    "name": "ipython",
    "version": 3
   },
   "file_extension": ".py",
   "mimetype": "text/x-python",
   "name": "python",
   "nbconvert_exporter": "python",
   "pygments_lexer": "ipython3",
   "version": "3.6.0"
  }
 },
 "nbformat": 4,
 "nbformat_minor": 1
}
