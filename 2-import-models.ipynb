{
 "cells": [
  {
   "cell_type": "code",
   "execution_count": 1,
   "metadata": {
    "collapsed": true
   },
   "outputs": [],
   "source": [
    "from pandas import options\n",
    "options.display.max_rows = 8"
   ]
  },
  {
   "cell_type": "markdown",
   "metadata": {},
   "source": [
    "# Import models"
   ]
  },
  {
   "cell_type": "markdown",
   "metadata": {},
   "source": [
    "## Import models from files"
   ]
  },
  {
   "cell_type": "markdown",
   "metadata": {},
   "source": [
    "The function `~cameo.io.load_model` accepts a number of different file formats like [SBML](http://sbml.org/) (Systems Biology Markup Language) for example."
   ]
  },
  {
   "cell_type": "code",
   "execution_count": 14,
   "metadata": {
    "collapsed": false
   },
   "outputs": [],
   "source": [
    "less data/e_coli_core.xml"
   ]
  },
  {
   "cell_type": "code",
   "execution_count": 3,
   "metadata": {
    "collapsed": false
   },
   "outputs": [],
   "source": [
    "from cameo import load_model\n",
    "model = load_model('data/e_coli_core.xml')"
   ]
  },
  {
   "cell_type": "code",
   "execution_count": 7,
   "metadata": {
    "collapsed": false
   },
   "outputs": [
    {
     "data": {
      "text/plain": [
       "0.8739215069684304"
      ]
     },
     "execution_count": 7,
     "metadata": {},
     "output_type": "execute_result"
    }
   ],
   "source": [
    "model.solve().objective_value"
   ]
  },
  {
   "cell_type": "markdown",
   "metadata": {},
   "source": [
    "Other accepted formats include pickle (simply pickle models) and [json]()."
   ]
  },
  {
   "cell_type": "markdown",
   "metadata": {},
   "source": [
    "## Import models from the internet"
   ]
  },
  {
   "cell_type": "markdown",
   "metadata": {},
   "source": [
    "In the previous quick start [chapter](1-quick-start.ipynb) we demonstrated how to use `~cameo.io.load_model` to import a model by ID. But where did the model come from? Cameo has currently access to two model repositories on the internet, http://bigg.ucsd.edu and http://darwin.di.uminho.pt/models. "
   ]
  },
  {
   "cell_type": "code",
   "execution_count": 15,
   "metadata": {
    "collapsed": false
   },
   "outputs": [],
   "source": [
    "from cameo import models"
   ]
  },
  {
   "cell_type": "code",
   "execution_count": 4,
   "metadata": {
    "collapsed": false
   },
   "outputs": [
    {
     "data": {
      "text/html": [
       "<div>\n",
       "<table border=\"1\" class=\"dataframe\">\n",
       "  <thead>\n",
       "    <tr style=\"text-align: right;\">\n",
       "      <th></th>\n",
       "      <th>bigg_id</th>\n",
       "      <th>gene_count</th>\n",
       "      <th>metabolite_count</th>\n",
       "      <th>organism</th>\n",
       "      <th>reaction_count</th>\n",
       "    </tr>\n",
       "  </thead>\n",
       "  <tbody>\n",
       "    <tr>\n",
       "      <th>0</th>\n",
       "      <td>e_coli_core</td>\n",
       "      <td>137</td>\n",
       "      <td>72</td>\n",
       "      <td>Escherichia coli str. K-12 substr. MG1655</td>\n",
       "      <td>95</td>\n",
       "    </tr>\n",
       "    <tr>\n",
       "      <th>1</th>\n",
       "      <td>iAB_RBC_283</td>\n",
       "      <td>346</td>\n",
       "      <td>342</td>\n",
       "      <td>Homo sapiens</td>\n",
       "      <td>469</td>\n",
       "    </tr>\n",
       "    <tr>\n",
       "      <th>2</th>\n",
       "      <td>iAF1260</td>\n",
       "      <td>1261</td>\n",
       "      <td>1668</td>\n",
       "      <td>Escherichia coli str. K-12 substr. MG1655</td>\n",
       "      <td>2382</td>\n",
       "    </tr>\n",
       "    <tr>\n",
       "      <th>3</th>\n",
       "      <td>iAF692</td>\n",
       "      <td>692</td>\n",
       "      <td>628</td>\n",
       "      <td>Methanosarcina barkeri str. Fusaro</td>\n",
       "      <td>690</td>\n",
       "    </tr>\n",
       "    <tr>\n",
       "      <th>...</th>\n",
       "      <td>...</td>\n",
       "      <td>...</td>\n",
       "      <td>...</td>\n",
       "      <td>...</td>\n",
       "      <td>...</td>\n",
       "    </tr>\n",
       "    <tr>\n",
       "      <th>73</th>\n",
       "      <td>iYL1228</td>\n",
       "      <td>1229</td>\n",
       "      <td>1658</td>\n",
       "      <td>Klebsiella pneumoniae subsp. pneumoniae MGH 78578</td>\n",
       "      <td>2262</td>\n",
       "    </tr>\n",
       "    <tr>\n",
       "      <th>74</th>\n",
       "      <td>iZ_1308</td>\n",
       "      <td>1308</td>\n",
       "      <td>1923</td>\n",
       "      <td>Escherichia coli O157:H7 str. EDL933</td>\n",
       "      <td>2720</td>\n",
       "    </tr>\n",
       "    <tr>\n",
       "      <th>75</th>\n",
       "      <td>RECON1</td>\n",
       "      <td>1905</td>\n",
       "      <td>2766</td>\n",
       "      <td>Homo sapiens</td>\n",
       "      <td>3741</td>\n",
       "    </tr>\n",
       "    <tr>\n",
       "      <th>76</th>\n",
       "      <td>STM_v1_0</td>\n",
       "      <td>1271</td>\n",
       "      <td>1802</td>\n",
       "      <td>Salmonella enterica subsp. enterica serovar Ty...</td>\n",
       "      <td>2545</td>\n",
       "    </tr>\n",
       "  </tbody>\n",
       "</table>\n",
       "<p>77 rows × 5 columns</p>\n",
       "</div>"
      ],
      "text/plain": [
       "        bigg_id  gene_count  metabolite_count  \\\n",
       "0   e_coli_core         137                72   \n",
       "1   iAB_RBC_283         346               342   \n",
       "2       iAF1260        1261              1668   \n",
       "3        iAF692         692               628   \n",
       "..          ...         ...               ...   \n",
       "73      iYL1228        1229              1658   \n",
       "74      iZ_1308        1308              1923   \n",
       "75       RECON1        1905              2766   \n",
       "76     STM_v1_0        1271              1802   \n",
       "\n",
       "                                             organism  reaction_count  \n",
       "0           Escherichia coli str. K-12 substr. MG1655              95  \n",
       "1                                        Homo sapiens             469  \n",
       "2           Escherichia coli str. K-12 substr. MG1655            2382  \n",
       "3                  Methanosarcina barkeri str. Fusaro             690  \n",
       "..                                                ...             ...  \n",
       "73  Klebsiella pneumoniae subsp. pneumoniae MGH 78578            2262  \n",
       "74               Escherichia coli O157:H7 str. EDL933            2720  \n",
       "75                                       Homo sapiens            3741  \n",
       "76  Salmonella enterica subsp. enterica serovar Ty...            2545  \n",
       "\n",
       "[77 rows x 5 columns]"
      ]
     },
     "execution_count": 4,
     "metadata": {},
     "output_type": "execute_result"
    }
   ],
   "source": [
    "models.index_models_bigg()"
   ]
  },
  {
   "cell_type": "code",
   "execution_count": 5,
   "metadata": {
    "collapsed": false
   },
   "outputs": [
    {
     "data": {
      "text/html": [
       "<div>\n",
       "<table border=\"1\" class=\"dataframe\">\n",
       "  <thead>\n",
       "    <tr style=\"text-align: right;\">\n",
       "      <th></th>\n",
       "      <th>id</th>\n",
       "      <th>name</th>\n",
       "      <th>doi</th>\n",
       "      <th>author</th>\n",
       "      <th>year</th>\n",
       "      <th>formats</th>\n",
       "      <th>organism</th>\n",
       "      <th>taxonomy</th>\n",
       "    </tr>\n",
       "  </thead>\n",
       "  <tbody>\n",
       "    <tr>\n",
       "      <th>0</th>\n",
       "      <td>1</td>\n",
       "      <td>iJR904</td>\n",
       "      <td>10.1186/gb-2003-4-9-r54</td>\n",
       "      <td>Reed</td>\n",
       "      <td>2003</td>\n",
       "      <td>[sbml]</td>\n",
       "      <td>Escherichia coli str. K12 substr. MG1655</td>\n",
       "      <td>Bacteria; Proteobacteria; Gammaproteobacteria;...</td>\n",
       "    </tr>\n",
       "    <tr>\n",
       "      <th>1</th>\n",
       "      <td>2</td>\n",
       "      <td>iAF1260</td>\n",
       "      <td>10.1038/msb4100155</td>\n",
       "      <td>Feist</td>\n",
       "      <td>2007</td>\n",
       "      <td>[sbml]</td>\n",
       "      <td>Escherichia coli str. K12 substr. MG1655</td>\n",
       "      <td>Bacteria; Proteobacteria; Gammaproteobacteria;...</td>\n",
       "    </tr>\n",
       "    <tr>\n",
       "      <th>2</th>\n",
       "      <td>3</td>\n",
       "      <td>iMM904</td>\n",
       "      <td>10.1186/1752-0509-3-37</td>\n",
       "      <td>Mo</td>\n",
       "      <td>2007</td>\n",
       "      <td>[sbml]</td>\n",
       "      <td>Saccharomyces cerevisiae</td>\n",
       "      <td>Eukaryota; Opisthokonta; Fungi; Dikarya; Ascom...</td>\n",
       "    </tr>\n",
       "    <tr>\n",
       "      <th>3</th>\n",
       "      <td>4</td>\n",
       "      <td>iJP815</td>\n",
       "      <td>10.1371/journal.pcbi.1000210</td>\n",
       "      <td>Puchalka</td>\n",
       "      <td>2008</td>\n",
       "      <td>[sbml]</td>\n",
       "      <td>Pseudomonas putida str. KT2440</td>\n",
       "      <td>Bacteria; Proteobacteria; Gammaproteobacteria;...</td>\n",
       "    </tr>\n",
       "    <tr>\n",
       "      <th>...</th>\n",
       "      <td>...</td>\n",
       "      <td>...</td>\n",
       "      <td>...</td>\n",
       "      <td>...</td>\n",
       "      <td>...</td>\n",
       "      <td>...</td>\n",
       "      <td>...</td>\n",
       "      <td>...</td>\n",
       "    </tr>\n",
       "    <tr>\n",
       "      <th>137</th>\n",
       "      <td>142</td>\n",
       "      <td>iPC1209</td>\n",
       "      <td>10.1016/j.febslet.2014.12.010</td>\n",
       "      <td>Cheng Wang</td>\n",
       "      <td>2015</td>\n",
       "      <td>[]</td>\n",
       "      <td>Pectobacterium carotovorum subsp. carotovorum PC1</td>\n",
       "      <td>Bacteria; Proteobacteria; Gammaproteobacteria;...</td>\n",
       "    </tr>\n",
       "    <tr>\n",
       "      <th>138</th>\n",
       "      <td>143</td>\n",
       "      <td>iNV706</td>\n",
       "      <td>10.1128/AEM.03279-14</td>\n",
       "      <td>N. Veith</td>\n",
       "      <td>2014</td>\n",
       "      <td>[]</td>\n",
       "      <td>Enterococcus faecalis V583</td>\n",
       "      <td>Bacteria; Firmicutes; Bacilli; Lactobacillales...</td>\n",
       "    </tr>\n",
       "    <tr>\n",
       "      <th>139</th>\n",
       "      <td>144</td>\n",
       "      <td>KoxGSC1457</td>\n",
       "      <td>10.1186/1475-2859-12-20</td>\n",
       "      <td>J. Park</td>\n",
       "      <td>2013</td>\n",
       "      <td>[]</td>\n",
       "      <td>Klebsiella oxytoca</td>\n",
       "      <td>Bacteria; Proteobacteria; Gammaproteobacteria;...</td>\n",
       "    </tr>\n",
       "    <tr>\n",
       "      <th>140</th>\n",
       "      <td>145</td>\n",
       "      <td>iJL846</td>\n",
       "      <td>10.1016/j.gene.2014.10.034</td>\n",
       "      <td>Jie Liu</td>\n",
       "      <td>2015</td>\n",
       "      <td>[]</td>\n",
       "      <td>Lactobacillus casei LC2W</td>\n",
       "      <td>Bacteria; Firmicutes; Bacilli; Lactobacillales...</td>\n",
       "    </tr>\n",
       "  </tbody>\n",
       "</table>\n",
       "<p>141 rows × 8 columns</p>\n",
       "</div>"
      ],
      "text/plain": [
       "      id        name                            doi      author  year formats  \\\n",
       "0      1      iJR904        10.1186/gb-2003-4-9-r54        Reed  2003  [sbml]   \n",
       "1      2     iAF1260             10.1038/msb4100155       Feist  2007  [sbml]   \n",
       "2      3      iMM904         10.1186/1752-0509-3-37          Mo  2007  [sbml]   \n",
       "3      4      iJP815   10.1371/journal.pcbi.1000210    Puchalka  2008  [sbml]   \n",
       "..   ...         ...                            ...         ...   ...     ...   \n",
       "137  142     iPC1209  10.1016/j.febslet.2014.12.010  Cheng Wang  2015      []   \n",
       "138  143      iNV706           10.1128/AEM.03279-14    N. Veith  2014      []   \n",
       "139  144  KoxGSC1457        10.1186/1475-2859-12-20     J. Park  2013      []   \n",
       "140  145      iJL846     10.1016/j.gene.2014.10.034     Jie Liu  2015      []   \n",
       "\n",
       "                                              organism  \\\n",
       "0             Escherichia coli str. K12 substr. MG1655   \n",
       "1             Escherichia coli str. K12 substr. MG1655   \n",
       "2                             Saccharomyces cerevisiae   \n",
       "3                       Pseudomonas putida str. KT2440   \n",
       "..                                                 ...   \n",
       "137  Pectobacterium carotovorum subsp. carotovorum PC1   \n",
       "138                         Enterococcus faecalis V583   \n",
       "139                                 Klebsiella oxytoca   \n",
       "140                           Lactobacillus casei LC2W   \n",
       "\n",
       "                                              taxonomy  \n",
       "0    Bacteria; Proteobacteria; Gammaproteobacteria;...  \n",
       "1    Bacteria; Proteobacteria; Gammaproteobacteria;...  \n",
       "2    Eukaryota; Opisthokonta; Fungi; Dikarya; Ascom...  \n",
       "3    Bacteria; Proteobacteria; Gammaproteobacteria;...  \n",
       "..                                                 ...  \n",
       "137  Bacteria; Proteobacteria; Gammaproteobacteria;...  \n",
       "138  Bacteria; Firmicutes; Bacilli; Lactobacillales...  \n",
       "139  Bacteria; Proteobacteria; Gammaproteobacteria;...  \n",
       "140  Bacteria; Firmicutes; Bacilli; Lactobacillales...  \n",
       "\n",
       "[141 rows x 8 columns]"
      ]
     },
     "execution_count": 5,
     "metadata": {},
     "output_type": "execute_result"
    }
   ],
   "source": [
    "models.index_models_minho()"
   ]
  },
  {
   "cell_type": "markdown",
   "metadata": {
    "collapsed": true
   },
   "source": [
    "Models from [BiGG](http://bigg.ucsd.edu) and the [University of Minho](http://darwin.di.uminho.pt/models) can conveniently be accessd via `~cameo.models.bigg` and `~cameo.models.minho` respectively."
   ]
  },
  {
   "cell_type": "code",
   "execution_count": 18,
   "metadata": {
    "collapsed": false
   },
   "outputs": [
    {
     "data": {
      "text/html": [
       "<table>\n",
       "<tr>\n",
       "<td>Name</td>\n",
       "<td>e_coli_core</td>\n",
       "</tr>\n",
       "<tr>\n",
       "<td>Number of metabolites</td>\n",
       "<td>72</td>\n",
       "</tr>\n",
       "<tr>\n",
       "<td>Number of reactions</td>\n",
       "<td>95</td>\n",
       "</tr>\n",
       "<tr>\n",
       "<td>Reactions</td>\n",
       "<td><div style=\"width:100%; max-height:300px; overflow:auto\">1.496 3pg_c + 0.5191 pep_c + 13.0279 nadph_c + 3.7478 accoa_c + 0.2557 gln__L_c + 59.81 atp_c + 0.205 g6p_c + 0.129 g3p_c + 3.547 nad_c + 0.8977 r5p_c + 0.0709 f6p_c + 4.9414 glu__L_c + 59.81 h2o_c + 1.7867 oaa_c + 2.8328 pyr_c + 0.361 e4p_c --> 4.1182 akg_c + 59.81 adp_c + 3.7478 coa_c + 13.0279 nadp_c + 3.547 nadh_c + 59.81 pi_c + 59.81 h_c<br>co2_e <=> co2_c<br>h2o_c + oaa_c + accoa_c --> coa_c + h_c + cit_c<br>q8h2_c + 2.0 h_c + 0.5 o2_c --> h2o_c + q8_c + 2.0 h_e<br>coa_c + acald_c + nad_c <=> nadh_c + h_c + accoa_c<br>acald_e <=> acald_c<br>atp_c + ac_c <=> adp_c + actp_c<br>cit_c <=> h2o_c + acon_C_c<br>h2o_c + acon_C_c <=> icit_c<br>ac_e + h_e <=> h_c + ac_c<br>atp_c + amp_c <=> 2.0 adp_c<br>coa_c + akg_c + nad_c --> nadh_c + succoa_c + co2_c<br>h_e + akg_e <=> h_c + akg_c<br>etoh_c + nad_c <=> h_c + acald_c + nadh_c<br>atp_c + h2o_c --> h_c + adp_c + pi_c<br>pi_c + adp_c + 4.0 h_e <=> atp_c + 3.0 h_c + h2o_c<br>gln__L_e --> <br>lac__D_e --> <br>for_c --> for_e<br>nadh_c + q8_c + 4.0 h_c --> 3.0 h_e + nad_c + q8h2_c<br>nadph_c + nad_c --> nadp_c + nadh_c<br>nh4_e <=> nh4_c<br>o2_e <=> o2_c<br>coa_c + nad_c + pyr_c --> co2_c + nadh_c + accoa_c<br>f6p_c + atp_c --> h_c + fdp_c + adp_c<br>coa_c + pyr_c --> accoa_c + for_c<br>g6p_c <=> f6p_c<br>3pg_c + atp_c <=> adp_c + 13dpg_c<br>6pgl_c + h2o_c --> h_c + 6pgc_c<br>2pg_c <=> 3pg_c<br>h_e + pi_e <=> h_c + pi_c<br>pep_c + co2_c + h2o_c --> pi_c + oaa_c + h_c<br>atp_c + oaa_c --> adp_c + co2_c + pep_c<br>atp_c + pyr_c + h2o_c --> amp_c + pi_c + 2.0 h_c + pep_c<br>accoa_c + pi_c <=> coa_c + actp_c<br>h_c + pep_c + adp_c --> pyr_c + atp_c<br>pyr_e + h_e <=> pyr_c + h_c<br>ru5p__D_c <=> xu5p__D_c<br>r5p_c <=> ru5p__D_c<br>succ_e + 2.0 h_e --> 2.0 h_c + succ_c<br>h_e + lac__D_e <=> h_c + lac__D_c<br>2pg_c <=> pep_c + h2o_c<br>etoh_e + h_e <=> h_c + etoh_c<br>ac_e --> <br>acald_e --> <br>akg_e --> <br>co2_e <=> <br>etoh_e --> <br>for_e --> <br>fru_e --> <br>fum_e --> <br>glc__D_e <=> <br>glu__L_e --> <br>h_e <=> <br>h2o_e <=> <br>mal__L_e --> <br>nh4_e <=> <br>o2_e <=> <br>pi_e <=> <br>pyr_e --> <br>succ_e --> <br>fdp_c <=> dhap_c + g3p_c<br>fdp_c + h2o_c --> f6p_c + pi_c<br>h_e + for_e --> h_c + for_c<br>fum_c + q8h2_c --> succ_c + q8_c<br>fru_e + pep_c --> f6p_c + pyr_c<br>fum_c + h2o_c <=> mal__L_c<br>fum_e + 2.0 h_e --> 2.0 h_c + fum_c<br>nadp_c + g6p_c <=> 6pgl_c + h_c + nadph_c<br>pi_c + g3p_c + nad_c <=> nadh_c + h_c + 13dpg_c<br>pep_c + glc__D_e --> pyr_c + g6p_c<br>atp_c + glu__L_c + nh4_c --> pi_c + h_c + adp_c + gln__L_c<br>atp_c + h2o_c + gln__L_e --> h_c + adp_c + gln__L_c + pi_c<br>nadp_c + h2o_c + glu__L_c <=> akg_c + h_c + nadph_c + nh4_c<br>gln__L_c + h2o_c --> glu__L_c + nh4_c<br>akg_c + h_c + nadph_c + gln__L_c --> nadp_c + 2.0 glu__L_c<br>h_e + glu__L_e <=> h_c + glu__L_c<br>nadp_c + 6pgc_c --> nadph_c + co2_c + ru5p__D_c<br>h2o_e <=> h2o_c<br>nadp_c + icit_c <=> nadph_c + co2_c + akg_c<br>icit_c --> glx_c + succ_c<br>nad_c + lac__D_c <=> h_c + pyr_c + nadh_c<br>h2o_c + glx_c + accoa_c --> coa_c + h_c + mal__L_c<br>mal__L_e + 2.0 h_e --> 2.0 h_c + mal__L_c<br>mal__L_c + nad_c <=> h_c + nadh_c + oaa_c<br>mal__L_c + nad_c --> pyr_c + co2_c + nadh_c<br>nadp_c + mal__L_c --> pyr_c + co2_c + nadph_c<br>h_e + succ_c --> h_c + succ_e<br>succ_c + q8_c --> fum_c + q8h2_c<br>coa_c + atp_c + succ_c <=> pi_c + succoa_c + adp_c<br>g3p_c + s7p_c <=> e4p_c + f6p_c<br>nadp_c + nadh_c + 2.0 h_e --> nad_c + 2.0 h_c + nadph_c<br>r5p_c + xu5p__D_c <=> s7p_c + g3p_c<br>e4p_c + xu5p__D_c <=> f6p_c + g3p_c<br>dhap_c <=> g3p_c</div></td>\n",
       "</tr>\n",
       "</table>"
      ],
      "text/plain": [
       "<Proxy at 0x11a286f48 wrapping <SolverBasedModel e_coli_core at 0x11ac33fd0> at 0x11ac33fd0 with factory functools.partial(<function get_model_from_bigg at 0x11a2886a8>, 'e_coli_core')>"
      ]
     },
     "execution_count": 18,
     "metadata": {},
     "output_type": "execute_result"
    }
   ],
   "source": [
    "models.bigg.e_coli_core"
   ]
  },
  {
   "cell_type": "code",
   "execution_count": 20,
   "metadata": {
    "collapsed": false
   },
   "outputs": [
    {
     "data": {
      "text/html": [
       "<table>\n",
       "<tr>\n",
       "<td>Name</td>\n",
       "<td>iMM904</td>\n",
       "</tr>\n",
       "<tr>\n",
       "<td>Number of metabolites</td>\n",
       "<td>1228</td>\n",
       "</tr>\n",
       "<tr>\n",
       "<td>Number of reactions</td>\n",
       "<td>1577</td>\n",
       "</tr>\n",
       "<tr>\n",
       "<td>Reactions</td>\n",
       "<td><div style=\"width:100%; max-height:300px; overflow:auto\">13BDglcn_c + h2o_c --> glc_D_c<br>13BDglcn_e + h2o_e --> glc_D_e<br>udpg_c --> 13BDglcn_c + udp_c + h_c<br>udpg_c --> 16BDglcn_c + udp_c + h_c<br>23camp_c + h_c + h2o_c --> amp2p_c<br>2dda7p_c <=> 2dda7p_m<br>2dhp_c <=> 2dhp_m<br>2doxg6p_c + h2o_c --> pi_c + 2dglc_c<br>nad_c + 2hb_c <=> 2obut_c + nadh_c + h_c<br>2hb_e + h_e <=> 2hb_c + h_c<br>2hpmhmbq_m + amet_m --> q6_m + h_m + ahcys_m<br>o2_m + 2hp6mp_m --> 2hp6mbq_m + h2o_m<br>2hp6mbq_m + amet_m --> 2hpmmbq_m + ahcys_m + h_m<br>0.5 o2_m + 2hpmmbq_m --> 2hpmhmbq_m<br>2mbac_c --> 2mbac_e<br>2mbald_c <=> 2mbald_e<br>2mbald_c <=> 2mbald_m<br>2mbtoh_c <=> 2mbtoh_e<br>2mbtoh_c <=> 2mbtoh_m<br>2mppal_c <=> 2mppal_e<br>2mppal_c <=> 2mppal_m<br>2obut_c <=> 2obut_m<br>2oxoadp_m --> 2oxoadp_c<br>2phetoh_e <=> 2phetoh_c<br>2phetoh_m <=> 2phetoh_c<br>34hpp_m + nadh_m + h_m --> 34hpl_m + nad_m<br>34hpp_c + o2_c --> co2_c + hgentis_c<br>34hpp_c + h_c <=> 34hpp_m + h_m<br>34hpp_c + h_c <=> h_x + 34hpp_x<br>3c3hmp_c <=> 3c3hmp_e<br>3c3hmp_c <=> 3c3hmp_m<br>3c4mop_c <=> 3c4mop_m<br>3dh5hpb_m + amet_m --> 3hph5mb_m + ahcys_m + h_m<br>3dh5hpb_c <=> 3dh5hpb_m<br>3dsphgn_c + h_c + nadph_c --> nadp_c + sphgn_c<br>o2_c + 3hanthrn_c --> cmusa_c + h_c<br>3hph5mb_m --> 2hp6mp_m + co2_m<br>amet_c + 3c2hmp_c --> ahcys_c + 3ipmmest_c<br>3mbald_c <=> 3mbald_e<br>3mbald_c <=> 3mbald_m<br>3mob_c + h_c --> co2_c + 2mppal_c<br>3mob_c <=> 3mob_m<br>3mop_c + h_c --> 2mbald_c + co2_c<br>3mop_e <=> 3mop_c<br>3mop_c <=> 3mop_m<br>0.5 o2_c + 3ophb_5_c --> 3dh5hpb_c<br>3ophb_5_c <=> 3ophb_5_m<br>4abutn_c <=> 4abutn_m<br>4abut_c <=> 4abut_m<br>4abz_c <=> 4abz_e<br>4abz_c <=> 4abz_m<br>4h2oglt_c <=> 4h2oglt_m<br>4h2oglt_c <=> 4h2oglt_x<br>coa_m + coucoa_m + nad_m + h2o_m --> nadh_m + 4hbzcoa_m + accoa_m + h_m<br>h2o_m + 4hbzcoa_m --> coa_m + 4hbz_m + h_m<br>4hbz_c <=> 4hbz_m<br>nad_m + h2o_m + 4hglusa_m <=> nadh_m + e4hglu_m + 2.0 h_m<br>4hpro_LT_c <=> 4hpro_LT_m<br>phthr_c + h2o_c --> 4hthr_c + pi_c<br>4mop_c + h_c --> 3mbald_c + co2_c<br>5aop_e + h_e --> h_c + 5aop_c<br>5aop_c <=> 5aop_m<br>6pgl_c <=> 6pgl_r<br>8aonn_e + h_e <=> 8aonn_c + h_c<br>4aabutn_c + h2o_c --> 4abut_c + ac_c<br>o2_c + aact_c + h2o_c --> nh4_c + mthgxl_c + h2o2_c<br>h_c + atp_c + L2aadp_c + nadph_c --> amp_c + ppi_c + L2aadp6sa_c + nadp_c<br>h_c + nadh_c + atp_c + L2aadp_c --> amp_c + ppi_c + nad_c + L2aadp6sa_c<br>glu_L_c + 2oxoadp_c <=> akg_c + L2aadp_c<br>4abut_c + akg_c --> glu_L_c + sucsal_c<br>abt_e <=> abt_c<br>nad_m + h2o_m + 4abutn_m --> nadh_m + 4abut_m + 2.0 h_m<br>h_e + 4abut_e <=> 4abut_c + h_c<br>2.0 accoa_c --> aacoa_c + coa_c<br>2.0 accoa_m --> aacoa_m + coa_m<br>3odcoa_x + coa_x --> accoa_x + occoa_x<br>coa_x + 3oddcoa_x --> accoa_x + dcacoa_x<br>3otdcoa_x + coa_x --> ddcacoa_x + accoa_x<br>coa_x + 3ohdcoa_x --> accoa_x + tdcoa_x<br>coa_x + 3ohodcoa_x --> accoa_x + pmtcoa_x<br>coa_x + 3ohxccoa_x --> accoa_x + ttccoa_x<br>2.0 acald_c --> actn_R_c<br>acald_e <=> acald_c<br>acald_m <=> acald_c<br>atp_c + hco3_c + accoa_c <=> pi_c + h_c + adp_c + malcoa_c<br>accoa_m + hco3_m + atp_m <=> adp_m + pi_m + malcoa_m + h_m<br>accoa_c <=> accoa_n<br>aces_c --> aces_e<br>accoa_c + gam6p_c <=> acgam6p_c + h_c + coa_c<br>acgam6p_c <=> acgam1p_c<br>acglu_m + atp_m --> acg5p_m + adp_m<br>accoa_m + glu_L_m --> acglu_m + coa_m + h_m<br>2obut_m + h_m + pyr_m --> 2ahbut_m + co2_m<br>h2o_c + iamac_c --> h_c + iamoh_c + ac_c<br>h2o_c + ibutac_c --> h_c + ibutoh_c + ac_c<br>h2o_c + aces_c --> ac_c + h_c + etoh_c<br>h_m + 2.0 pyr_m --> alac_S_m + co2_m<br>h2o_m + accoa_m --> coa_m + ac_m + h_m<br>o2_x + dcacoa_x --> dc2coa_x + h2o2_x<br>o2_x + ddcacoa_x --> dd2coa_x + h2o2_x<br>o2_x + tdcoa_x --> h2o2_x + td2coa_x<br>o2_x + pmtcoa_x --> h2o2_x + hdd2coa_x<br>o2_x + stcoa_x --> od2coa_x + h2o2_x<br>o2_x + hexccoa_x --> hxc2coa_x + h2o2_x<br>accoa_c + ACP_c <=> acACP_c + coa_c<br>ACP_m + accoa_m <=> acACP_m + coa_m<br>acon_T_c + amet_c --> acon5m_c + ahcys_c<br>cit_c <=> icit_c<br>2mcit_m <=> micit_m<br>cit_m <=> icit_m<br>glu_L_m + acg5sa_m --> acorn_m + akg_m<br>fmn_e + h2o_e --> ribflv_e + pi_e<br>coa_m + h2o_m --> pan4p_m + 2.0 h_m + pap_m<br>acrn_c --> acrn_m<br>acrn_x --> acrn_c<br>coa_c + atp_c + ac_c --> amp_c + ppi_c + accoa_c<br>coa_m + ac_m + atp_m --> accoa_m + amp_m + ppi_m<br>atp_x + coa_x + ac_x --> amp_x + ppi_x + accoa_x<br>ac_e + h_e <=> h_c + ac_c<br>ac_c <=> ac_m<br>ac_c <=> ac_x<br>ac_e <=> ac_c<br>adn_c + h_c + h2o_c --> nh4_c + ins_c<br>4adcho_c --> 4abz_c + h_c + pyr_c<br>chor_c + gln_L_c --> glu_L_c + 4adcho_c<br>ade_c + h_c + h2o_c --> nh4_c + hxan_c<br>h_e + ade_e --> ade_c + h_c<br>ade_c <=> ade_m<br>h_c + 0.01 1agly3p_SC_c + nadph_c --> nadp_c + 0.01 1ag3p_SC_c<br>amp_c + atp_c <=> 2.0 adp_c<br>amp_m + atp_m <=> 2.0 adp_m<br>amp_c + gtp_c <=> gdp_c + adp_c<br>amp_m + gtp_m <=> adp_m + gdp_m<br>amp_c + itp_c <=> adp_c + idp_c<br>amp_m + itp_m <=> adp_m + idp_m<br>amet_c + h_c --> ametam_c + co2_c<br>atp_c --> ppi_c + camp_c<br>atp_c + adn_c --> amp_c + adp_c + h_c<br>adn_c + h2o_c --> ade_c + rib_D_c<br>adn_e + h_e --> h_c + adn_c<br>ade_c + prpp_c --> amp_c + ppi_c<br>atp_c + aps_c --> adp_c + paps_c + h_c<br>dcamp_c <=> amp_c + fum_c<br>25aics_c <=> fum_c + aicar_c<br>imp_c + asp_L_c + gtp_c --> gdp_c + dcamp_c + pi_c + 2.0 h_c<br>0.02 dcacoa_c + 0.1 tdcoa_c + 0.06 ddcacoa_c + 0.17 hdcoa_c + 0.01 1ag3p_SC_c + 0.27 pmtcoa_c + 0.24 odecoa_c + 0.09 ocdycacoa_c + 0.05 stcoa_c --> 0.01 pa_SC_c + coa_c<br>nadph_m + acg5p_m + h_m --> pi_m + nadp_m + acg5sa_m<br>ala_L_c + glx_c --> gly_c + pyr_c<br>ahcys_c <=> ahcys_m<br>h2o_c + ahcys_c --> adn_c + hcys_L_c<br>air_c + 2.0 h_c --> pi_c + 4ahmmp_c + gcald_c<br>achms_c + ch4s_c --> met_L_c + h_c + ac_c<br>achms_c + h2s_c --> ac_c + h_c + hcys_L_c<br>10fthf_c + aicar_c <=> thf_c + fprica_c<br>air_c + co2_c <=> 5aizc_c + h_c<br>lpam_m + h_m + akg_m <=> sdhlam_m + co2_m<br>coa_m + sdhlam_m --> succoa_m + dhlam_m<br>akg_c + mal_L_e <=> mal_L_c + akg_e<br>akg_c + h_c <=> akg_n + h_n<br>akg_e + h_e <=> akg_c + h_c<br>akg_c <=> akg_x<br>ahdt_c + 3.0 h2o_c --> dhnpt_c + 3.0 pi_c + 2.0 h_c<br>succoa_m + gly_m + h_m --> coa_m + 5aop_m + co2_m<br>akg_c + ala_L_c <=> glu_L_c + pyr_c<br>ala_L_m + akg_m <=> pyr_m + glu_L_m<br>trnaala_c + atp_c + ala_L_c --> alatrna_c + amp_c + ppi_c<br>ala_L_e + h_e <=> ala_L_c + h_c<br>ala_L_m --> ala_L_c<br>nadph_c + h_c + glyald_c --> nadp_c + glyc_c<br>2mbald_c + h_c + nadh_c --> 2mbtoh_c + nad_c<br>nadh_m + 2mbald_m + h_m --> nad_m + 2mbtoh_m<br>2mbald_c + nadph_c + h_c --> 2mbtoh_c + nadp_c<br>nadh_c + h_c + 2mppal_c --> ibutoh_c + nad_c<br>nadh_m + 2mppal_m + h_m --> ibutoh_m + nad_m<br>2mppal_c + h_c + nadph_c --> nadp_c + ibutoh_c<br>3mbald_c + h_c + nadh_c --> nad_c + iamoh_c<br>nadh_m + h_m + 3mbald_m --> nad_m + iamoh_m<br>3mbald_c + h_c + nadph_c --> nadp_c + iamoh_c<br>h_c + pacald_c + nadh_c --> nad_c + 2phetoh_c<br>nadh_m + pacald_m + h_m --> 2phetoh_m + nad_m<br>pacald_c + h_c + nadph_c --> nadp_c + 2phetoh_c<br>id3acald_c + h_c + nadh_c --> ind3eth_c + nad_c<br>nadh_m + id3acald_m + h_m --> ind3eth_m + nad_m<br>nad_c + etoh_c --> acald_c + h_c + nadh_c<br>h_c + acald_c + nadh_c --> nad_c + etoh_c<br>acald_m + nadh_m + h_m --> etoh_m + nad_m<br>nad_c + etoh_c <=> acald_c + h_c + nadh_c<br>pacald_c + nad_c + h2o_c --> 2.0 h_c + nadh_c + pac_c<br>nad_m + h2o_m + id3acald_m --> nadh_m + ind3ac_m + 2.0 h_m<br>id3acald_c + h2o_c + nadp_c --> 2.0 h_c + ind3ac_c + nadph_c<br>h2o_m + nadp_m + id3acald_m --> nadph_m + ind3ac_m + 2.0 h_m<br>nad_c + aproa_c + h2o_c --> ala_B_c + 2.0 h_c + nadh_c<br>nad_m + h2o_m + acald_m --> nadh_m + ac_m + 2.0 h_m<br>acald_c + nadp_c + h2o_c --> ac_c + 2.0 h_c + nadph_c<br>h2o_m + acald_m + nadp_m --> ac_m + nadph_m + 2.0 h_m<br>alltt_c + h2o_c <=> urea_c + urdglyc_c<br>alltn_c + h2o_c <=> alltt_c + h_c<br>alltn_e --> alltn_c<br>alltt_e --> alltt_c<br>allphn_c + 3.0 h_c + h2o_c --> 2.0 nh4_c + 2.0 co2_c<br>8aonn_c + amet_c <=> dann_c + amob_c<br>amet_e + h_e --> amet_c + h_c<br>amet_c <=> amet_m<br>4gudbd_c + h2o_c --> nh4_c + 4gudbutn_c<br>pad_c + h2o_c --> nh4_c + pac_c<br>iad_c + h2o_c --> nh4_c + ind3ac_c<br>amp_c + h_c + h2o_c --> imp_c + nh4_c<br>amp_c + h2o_c --> ade_c + r5p_c<br>amp_n <=> amp_c<br>anth_c + prpp_c --> ppi_c + pran_c<br>chor_c + gln_L_c --> anth_c + h_c + glu_L_c + pyr_c<br>2aobut_c + h_c --> aact_c + co2_c<br>ap4a_c + h2o_c <=> 2.0 adp_c + 2.0 h_c<br>aprut_c + o2_c + h2o_c --> nh4_c + h2o2_c + n4abutn_c<br>Dara14lac_c + o2_c <=> ertascb_D_c + h2o2_c<br>nadp_c + arab_D_c --> Dara14lac_c + h_c + nadph_c<br>arab_L_c + nadph_c + h_c --> abt_c + nadp_c<br>arab_D_e <=> arab_D_c<br>arab_L_e <=> arab_L_c<br>arg_L_c + h2o_c --> orn_c + urea_c<br>argsuc_c <=> fum_c + arg_L_c<br>atp_c + asp_L_c + citr_L_c <=> amp_c + argsuc_c + ppi_c + h_c<br>arg_L_c + atp_c + trnaarg_c --> amp_c + ppi_c + argtrna_c<br>arg_L_m + trnaarg_m + atp_m --> argtrna_m + amp_m + ppi_m<br>arg_L_c + h_c <=> arg_L_m + h_m<br>arg_L_e + h_e <=> h_c + arg_L_c<br>h_v + arg_L_c --> arg_L_v + h_c<br>his_L_c + amet_c --> NPmehis_c + h_c + ahcys_c<br>h_c + nadph_c + 4pasp_c --> pi_c + nadp_c + aspsa_c<br>asn_L_c + h2o_c --> nh4_c + asp_L_c<br>h2o_e + asn_L_e --> asp_L_e + nh4_e<br>atp_c + asp_L_c + gln_L_c + h2o_c --> amp_c + ppi_c + h_c + asn_L_c + glu_L_c<br>asn_L_c + atp_c + trnaasn_c --> amp_c + ppi_c + asntrna_c<br>asn_L_m + trnaasn_m + atp_m --> asntrna_m + amp_m + ppi_m<br>asn_L_c + h_c <=> asn_L_m + h_m<br>asn_L_e + h_e <=> asn_L_c + h_c<br>asn_L_c + h_v --> asn_L_v + h_c<br>asn_L_v + h_v --> asn_L_c + h_c<br>cbp_c + asp_L_c --> cbasp_c + pi_c + h_c<br>glu_L_c + asp_L_m --> asp_L_c + glu_L_m<br>glu_L_x + asp_L_c <=> glu_L_c + asp_L_x<br>atp_c + asp_L_c --> adp_c + 4pasp_c<br>asp_L_c + fad_m --> h_c + fadh2_m + iasp_c<br>asp_L_c + akg_c <=> glu_L_c + oaa_c<br>asp_L_m + akg_m <=> oaa_m + glu_L_m<br>akg_x + asp_L_x <=> oaa_x + glu_L_x<br>trnaasp_c + atp_c + asp_L_c --> amp_c + asptrna_c + ppi_c<br>asp_L_m + trnaasp_m + atp_m --> amp_m + ppi_m + asptrna_m<br>asp_L_c + h_c <=> asp_L_m + h_m<br>asp_L_c + h_c <=> asp_L_n + h_n<br>asp_L_e + h_e <=> asp_L_c + h_c<br>asp_L_n <=> asp_L_c<br>h_v + asp_L_v --> asp_L_c + h_c<br>nadp_c + athr_L_c <=> 2aobut_c + h_c + nadph_c<br>atp_c + amp_x + h_x --> amp_c + h_c + atp_x<br>atp_c + adp_c + h_c --> ap4a_c + pi_c<br>adp_c + h_c + gtp_c --> pi_c + ap4g_c<br>gdp_c + gtp_c + h_c --> pi_c + gp4g_c<br>atp_c + 2.0 h2o_c --> amp_c + 2.0 pi_c + 2.0 h_c<br>atp_c + h2o_c --> adp_c + pi_c + h_c<br>atp_c + prpp_c --> ppi_c + prbatp_c<br>atp_c + h2o_c --> adp_c + pi_c + h_e<br>adp_g + 3.0 h_c + pi_g --> h2o_g + 2.0 h_g + atp_g<br>adp_m + 3.0 h_c + pi_m --> h2o_m + 2.0 h_m + atp_m<br>3.0 h_c + adp_v + pi_v --> atp_v + h2o_v + 2.0 h_v<br>h_c + adp_c + atp_m --> adp_m + atp_c + h_m<br>atp_c + adp_x + h_x --> atp_x + h_c + adp_c<br>atp_c + btn_c + h_c --> btamp_c + ppi_c<br>pap_c + h2o_c --> amp_c + pi_c<br>nad_c + btd_RR_c <=> actn_R_c + nadh_c + h_c<br>btd_RR_c <=> btd_RR_e<br>btn_e + h_e --> h_c + btn_c<br>s_c + dtbt_c <=> btn_c + 2.0 h_c<br>44mctr_c + h_c + nadph_c --> nadp_c + 44mzym_c<br>ergtrol_c + h_c + nadph_c + o2_c --> ergtetrol_c + nadp_c + 2.0 h2o_c<br>h_c + o2_c + nadh_c + ergtrol_c --> ergtetrol_c + nad_c + 2.0 h2o_c<br>h_r + nadph_r + ergtetrol_r --> nadp_r + ergst_r<br>nad_c + 4mzym_int1_c --> co2_c + h_c + nadh_c + 4mzym_int2_c<br>zym_int1_c + nad_c --> h_c + nadh_c + zym_int2_c + co2_c<br>4mzym_int2_c + nadph_c + h_c --> nadp_c + 4mzym_c<br>zym_int2_c + nadph_c + h_c --> nadp_c + zymst_c<br>3.0 o2_c + 3.0 h_c + 44mzym_c + 3.0 nadph_c --> 3.0 nadp_c + 4mzym_int1_c + 4.0 h2o_c<br>3.0 o2_c + 3.0 h_c + 4mzym_c + 3.0 nadph_c --> zym_int1_c + 3.0 nadp_c + 4.0 h2o_c<br>o2_c + h_c + nadph_c + epist_c --> ergtrol_c + nadp_c + 2.0 h2o_c<br>fecost_c --> epist_c<br>2.0 h2o2_c --> o2_c + 2.0 h2o_c<br>2.0 h2o2_x --> 2.0 h2o_x + o2_x<br>cbasp_n <=> cbasp_c<br>2.0 atp_c + hco3_c + gln_L_c + h2o_c --> pi_c + 2.0 h_c + cbp_c + glu_L_c + 2.0 adp_c<br>cbp_c <=> cbp_n<br>h2o2_m + 2.0 focytc_m --> 2.0 h2o_m + 2.0 ficytc_m<br>0.01 cdpdag_SC_m + glyc3p_m <=> cmp_m + h_m + 0.01 pgp_SC_m<br>cdp_c <=> cdp_n<br>cer1_24_c <=> cer1_24_r<br>cer1_26_c <=> cer1_26_r<br>cer2_24_c <=> cer2_24_r<br>cer2_26_c <=> cer2_26_r<br>cer1_24_r + h_r + coa_r --> sphgn_r + ttccoa_r<br>h_r + cer1_26_r + coa_r --> hexccoa_r + sphgn_r<br>h_r + coa_r + cer2_24_r --> psphings_r + ttccoa_r<br>h_r + coa_r + cer2_26_r --> hexccoa_r + psphings_r<br>o2_c + h_c + nadph_c + cer1_24_c --> cer2_24_c + nadp_c + h2o_c<br>o2_c + nadph_c + h_c + cer1_26_c --> nadp_c + cer2_26_c + h2o_c<br>ttccoa_c + sphgn_c --> cer1_24_c + h_c + coa_c<br>ttccoa_r + sphgn_r --> cer1_24_r + coa_r + h_r<br>hexccoa_c + sphgn_c --> cer1_26_c + h_c + coa_c<br>hexccoa_r + sphgn_r --> h_r + cer1_26_r + coa_r<br>ttccoa_c + psphings_c --> cer2_24_c + h_c + coa_c<br>ttccoa_r + psphings_r --> coa_r + h_r + cer2_24_r<br>hexccoa_c + psphings_c --> cer2_26_c + h_c + coa_c<br>psphings_r + hexccoa_r --> h_r + coa_r + cer2_26_r<br>o2_c + h_c + nadph_c + cer1_24_c --> nadp_c + cer2__24_c + h2o_c<br>o2_c + h_c + nadph_c + cer1_26_c --> cer2__26_c + nadp_c + h2o_c<br>o2_c + h_c + cer2_24_c + nadph_c --> cer3_24_c + nadp_c + h2o_c<br>cer2_26_c + h_c + nadph_c + o2_c --> cer3_26_c + nadp_c + h2o_c<br>cholp_c + h_c + ctp_c --> ppi_c + cdpchol_c<br>zymst_c + o2_c + amet_c --> h_c + ergtetrol_c + ahcys_c + 2.0 h2o_c<br>chol_e + h_e --> chol_c + h_c<br>atp_c + chol_c --> cholp_c + adp_c + h_c<br>chor_c --> pphn_c<br>3psme_c --> chor_c + pi_c<br>chor_c --> 4hbz_c + pyr_c<br>chitin_c + h2o_c --> chitos_c + h_c + ac_c<br>udpacgal_c --> chitin_c + udp_c + h_c<br>cit_e + h_e <=> h_c + cit_c<br>mal_L_m + cit_c <=> mal_L_c + cit_m<br>mal_L_c + cit_x <=> cit_c + mal_L_x<br>pep_m + cit_c <=> cit_m + pep_c<br>icit_m + cit_c <=> cit_m + icit_c<br>icit_x + cit_c <=> icit_c + cit_x<br>0.01 cdpdag_SC_m + 0.01 pg_SC_m --> 0.01 clpn_SC_m + cmp_m + h_m<br>h2o_c + cmp_c --> csn_c + r5p_c<br>co2_e <=> co2_c<br>co2_c <=> co2_g<br>co2_c <=> co2_m<br>co2_n <=> co2_c<br>co2_c <=> co2_x<br>co2_c <=> co2_v<br>coa_x + h2o_x --> pan4p_x + 2.0 h_x + pap_x<br>coa_c --> coa_m<br>coa_c <=> coa_n<br>coa_m + T4hcinnm_m + atp_m --> amp_m + coucoa_m + ppi_m<br>o2_c + 2.0 h_c + cpppg3_c --> 2.0 co2_c + 2.0 h2o_c + pppg9_c<br>crn_m + acrn_c --> crn_c + acrn_m<br>acrn_x + crn_c --> crn_x + acrn_c<br>crn_e <=> crn_c<br>crn_m --> crn_c<br>crn_c --> crn_x<br>coa_m + acrn_m <=> accoa_m + crn_m<br>accoa_x + crn_x <=> acrn_x + coa_x<br>crn_c + accoa_c <=> coa_c + acrn_c<br>csn_c + h_c + h2o_c --> nh4_c + ura_c<br>csn_e + h_e --> csn_c + h_c<br>h2o_m + accoa_m + oaa_m --> coa_m + cit_m + h_m<br>h2o_x + accoa_x + oaa_x --> cit_x + coa_x + h_x<br>nh4_c + atp_c + utp_c --> pi_c + 2.0 h_c + ctp_c + adp_c<br>atp_c + utp_c + gln_L_c + h2o_c --> pi_c + 2.0 h_c + ctp_c + glu_L_c + adp_c<br>2.0 h_c + ctp_c + cmp_m --> ctp_m + cmp_c + 2.0 h_m<br>o2_m + 4.0 focytc_m + 6.0 h_m --> 2.0 h2o_m + 6.0 h_c + 4.0 ficytc_m<br>q6h2_m + 2.0 ficytc_m + 1.5 h_m --> 2.0 focytc_m + 1.5 h_c + q6_m<br>acser_c + h2s_c --> ac_c + h_c + cys_L_c<br>h2o_c + cyst_L_c --> nh4_c + 2obut_c + cys_L_c<br>h2o_c + cyst_L_c --> nh4_c + pyr_c + hcys_L_c<br>h2o_x + cyst_L_x --> hcys_L_x + nh4_x + pyr_x<br>trnacys_c + atp_c + cys_L_c --> amp_c + cystrna_c + ppi_c<br>ser_L_c + hcys_L_c --> cyst_L_c + h2o_c<br>cyst_L_c <=> cyst_L_x<br>cys_L_e + h_e <=> h_c + cys_L_c<br>cytd_c + h_c + h2o_c --> nh4_c + uri_c<br>cytd_c + gtp_c --> gdp_c + cmp_c + h_c<br>cytd_e + h_e --> cytd_c + h_c<br>atp_c + cmp_c <=> adp_c + cdp_c<br>atp_c + dcmp_c <=> adp_c + dcdp_c<br>dad_2_c + h_c + h2o_c --> nh4_c + din_c<br>atp_c + damp_c <=> dadp_c + adp_c<br>dad_2_e + h_e --> h_c + dad_2_c<br>dadp_c <=> dadp_n<br>cdpchol_c + 0.01 12dgr_SC_c --> cmp_c + h_c + 0.01 pc_SC_c<br>0.01 pa_SC_c + h2o_c --> pi_c + 0.01 12dgr_SC_c<br>dann_e + h_e <=> dann_c + h_c<br>0.01 pa_SC_c + h_c + ctp_c <=> 0.01 cdpdag_SC_c + ppi_c<br>ctp_m + 0.01 pa_SC_m + h_m <=> 0.01 cdpdag_SC_m + ppi_m<br>ru5p_D_c --> db4p_c + for_c + h_c<br>co2_c + atp_c + dann_c <=> pi_c + 3.0 h_c + adp_c + dtbt_c<br>dcdp_c <=> dcdp_n<br>dcmp_c + h_c + h2o_c <=> nh4_c + dump_c<br>dctp_c + h_c + h2o_c --> nh4_c + dutp_c<br>dcyt_c + h_c + h2o_c --> nh4_c + duri_c<br>dcyt_e + h_e --> h_c + dcyt_c<br>pep_c + h2o_c + e4p_c --> pi_c + 2dda7p_c<br>e4p_m + pep_m + h2o_m --> 2dda7p_m + pi_m<br>tdcoa_c + o2_c + h_c + nadph_c --> nadp_c + 2.0 h2o_c + tdecoa_c<br>pmtcoa_c + o2_c + h_c + nadph_c --> nadp_c + 2.0 h2o_c + hdcoa_c<br>o2_c + h_c + stcoa_c + nadph_c --> 2.0 h2o_c + nadp_c + odecoa_c<br>o2_c + h_c + odecoa_c + nadph_c --> 2.0 h2o_c + nadp_c + ocdycacoa_c<br>dgdp_c <=> dgdp_n<br>6dg_c + h2o_c --> gal_c + glc_D_c<br>atp_c + dgmp_c <=> dgdp_c + adp_c<br>dgsn_e + h_e --> dgsn_c + h_c<br>23dhmb_m --> h2o_m + 3mob_m<br>23dhmp_m --> 3mop_m + h2o_m<br>atp_c + dha_c --> dhap_c + adp_c + h_c<br>dhap_m --> dhap_c<br>dhf_c + h_c + nadph_c --> nadp_c + thf_c<br>dhf_m + h_m + nadph_m --> nadp_m + thf_m<br>dhpt_c + atp_c + glu_L_c --> dhf_c + h_c + adp_c + pi_c<br>dhf_c <=> dhf_m<br>dhnpt_m --> gcald_m + h_m + 2ahhmp_m<br>dhnpt_c <=> dhnpt_m<br>dhor_S_c + q6_m --> q6h2_m + orot_c<br>fum_c + dhor_S_c --> succ_c + orot_c<br>dhor_S_c + o2_c --> h2o2_c + orot_c<br>dhor_S_c + h2o_c <=> cbasp_c + h_c<br>4abz_m + 2ahhmp_m --> dhpt_m + h2o_m<br>dhpt_c <=> dhpt_m<br>2dda7p_c --> pi_c + 3dhq_c<br>3dhq_c --> 3dhsk_c + h2o_c<br>accoa_c + sprm_c --> N1sprm_c + coa_c + h_c<br>din_e + h_e --> din_c + h_c<br>caphis_c + amet_c --> cmaphis_c + h_c + ahcys_c<br>dkmpp_c + 3.0 h2o_c --> for_c + 2kmb_c + pi_c + 6.0 h_c<br>ipdp_c + dmpp_c --> ppi_c + grdp_c<br>dhpmp_c + h2o_c --> dhnpt_c + pi_c<br>ahdt_c + h2o_c --> dhpmp_c + ppi_c + h_c<br>dolichol_c + ctp_c --> cdp_c + dolp_c + h_c<br>dolmanp_r --> dolp_r + h_r + mannan_r<br>gdpmann_c + dolp_c --> gdp_c + dolmanp_r<br>dolp_c + h_c <=> dolp_r + h_r<br>atp_c + dpcoa_c --> adp_c + h_c + coa_c<br>dpcoa_m + atp_m --> coa_m + adp_m + h_m<br>13dpg_c <=> 23dpg_c + h_c<br>atp_c + 5dpmev_c --> co2_c + pi_c + adp_c + ipdp_c<br>2dhp_c + nadph_c + h_c --> pant_R_c + nadp_c<br>2dhp_m + h_m + nadph_m --> pant_R_m + nadp_m<br>atp_c + drib_c --> adp_c + 2dr5p_c + h_c<br>25dhpp_c + h_c + nadph_c --> nadp_c + 25dthpp_c<br>h2o_c + h_c + 25dthpp_c --> nh4_c + 5aprbu_c<br>atp_c + dtmp_c <=> adp_c + dtdp_c<br>dttp_e <=> dttp_c<br>dump_c <=> dump_n<br>atp_c + duri_c --> dump_c + adp_c + h_c<br>pi_c + duri_c <=> 2dr1p_c + ura_c<br>duri_e + h_e --> duri_c + h_c<br>dutp_c + h2o_c --> dump_c + ppi_c + h_c<br>q6_m + spmd_c + h2o_c --> 4abutn_c + q6h2_m + 13dampp_c<br>lac_D_c + 2.0 ficytc_m --> pyr_c + 2.0 focytc_m<br>lac_D_m + 2.0 ficytc_m --> 2.0 focytc_m + pyr_m<br>h_e + lac_D_e <=> lac_D_c + h_c<br>lac_D_c + pyr_m <=> lac_D_m + pyr_c<br>lac_D_c + h_c <=> lac_D_m + h_m<br>e4hglu_c <=> e4hglu_m<br>e4hglu_c <=> e4hglu_x<br>e4p_c <=> e4p_m<br>h2o_x + hxc2coa_x <=> 3hxccoa_x<br>3hdcoa_x <=> h2o_x + dc2coa_x<br>3hddcoa_x <=> h2o_x + dd2coa_x<br>3htdcoa_x <=> h2o_x + td2coa_x<br>3hhdcoa_x <=> h2o_x + hdd2coa_x<br>3hodcoa_x <=> h2o_x + od2coa_x<br>e4hglu_c + akg_c --> glu_L_c + 4h2oglt_c<br>e4hglu_m + akg_m --> 4h2oglt_m + glu_L_m<br>e4hglu_x + akg_x --> 4h2oglt_x + glu_L_x<br>2pg_c <=> pep_c + h2o_c<br>pectin_e + h2o_e --> galur_e<br>0.015 tdcoa_c + 0.02 pmtcoa_c + 0.01 hexccoa_c + 0.655 hdcoa_c + 0.27 odecoa_c + 0.01 epist_c + 0.03 stcoa_c --> 0.01 epistest_SC_c + coa_c<br>0.01 epistest_SC_c + h2o_c --> 0.02 hdca_c + 0.01 epist_c + 0.015 ttdca_c + 0.655 hdcea_c + h_c + 0.27 ocdcea_c + 0.01 hexc_c + 0.03 ocdca_c<br>h2o_e + 0.01 epistest_SC_e --> 0.27 ocdcea_e + 0.01 hexc_e + 0.02 hdca_e + 0.01 epist_e + 0.03 ocdca_e + 0.015 ttdca_e + 0.655 hdcea_e + h_e<br>epist_e <=> epist_c<br>epm_c + h2o_c <=> gal_c + man_c<br>0.015 tdcoa_c + 0.02 pmtcoa_c + 0.01 hexccoa_c + 0.655 hdcoa_c + 0.27 odecoa_c + 0.03 stcoa_c + 0.01 ergst_c --> coa_c + 0.01 ergstest_SC_c<br>h2o_c + 0.01 ergstest_SC_c --> 0.02 hdca_c + 0.015 ttdca_c + 0.03 ocdca_c + h_c + 0.27 ocdcea_c + 0.01 hexc_c + 0.01 ergst_c + 0.655 hdcea_c<br>h2o_e + 0.01 ergstest_SC_e --> 0.27 ocdcea_e + 0.01 hexc_e + 0.02 hdca_e + 0.01 ergst_e + 0.015 ttdca_e + 0.03 ocdca_e + 0.655 hdcea_e + h_e<br>udpg_c + ergst_c --> ergst3glc_c + udp_c + h_c<br>ergst_e <=> ergst_c<br>ergst_r <=> ergst_c<br>ergtetrol_c <=> ergtetrol_r<br>atp_c + etha_c --> ethamp_c + adp_c + h_c<br>cdpea_c + 0.01 12dgr_SC_c <=> 0.01 pe_SC_c + cmp_c + h_c<br>etha_e <=> etha_c<br>etoh_e <=> etoh_c<br>etoh_c <=> etoh_m<br>13BDglcn_e --> <br>2hb_e --> <br>2mbac_e --> <br>2mbald_e --> <br>2mbtoh_e --> <br>2mppal_e --> <br>2phetoh_e --> <br>3c3hmp_e --> <br>3mbald_e --> <br>3mop_e --> <br>4abut_e --> <br>4abz_e --> <br>5aop_e --> <br>8aonn_e --> <br>Nbfortyr_e --> <br>abt_e --> <br>ac_e --> <br>acald_e --> <br>aces_e --> <br>ade_e --> <br>adn_e --> <br>akg_e --> <br>ala_L_e --> <br>alltn_e --> <br>alltt_e --> <br>amet_e --> <br>arab_D_e --> <br>arab_L_e --> <br>arg_L_e --> <br>asn_L_e --> <br>asp_L_e --> <br>btd_RR_e --> <br>btn_e --> <br>chol_e --> <br>cit_e --> <br>co2_e --> <br>crn_e --> <br>csn_e --> <br>cys_L_e --> <br>cytd_e --> <br>dad_2_e --> <br>dann_e --> <br>dca_e --> <br>dcyt_e --> <br>ddca_e --> <br>dgsn_e --> <br>din_e --> <br>dttp_e --> <br>duri_e --> <br>epist_e --> <br>epistest_SC_e --> <br>ergst_e --> <br>ergstest_SC_e --> <br>etha_e --> <br>etoh_e --> <br>fe2_e <=> <br>fecost_e --> <br>fecostest_SC_e --> <br>fmn_e --> <br>for_e --> <br>fru_e --> <br>fum_e --> <br>g3pc_e --> <br>g3pi_e --> <br>gal_e --> <br>galur_e --> <br>gam6p_e --> <br>gcald_e --> <br>glc_D_e <=> <br>gln_L_e --> <br>glu_L_e --> <br>glx_e --> <br>gly_e --> <br>glyc_e --> <br>gsn_e --> <br>gthox_e --> <br>gthrd_e --> <br>gua_e --> <br>h2o_e <=> <br>h_e <=> <br>hdca_e --> <br>hdcea_e --> <br>hexc_e --> <br>his_L_e --> <br>hxan_e --> <br>iamac_e --> <br>iamoh_e --> <br>ibutac_e --> <br>ibutoh_e --> <br>id3acald_e --> <br>ile_L_e --> <br>ind3eth_e --> <br>inost_e --> <br>ins_e --> <br>k_e <=> <br>lac_D_e --> <br>lac_L_e --> <br>lanost_e --> <br>lanostest_SC_e --> <br>leu_L_e --> <br>lys_L_e --> <br>mal_L_e --> <br>malt_e --> <br>man_e --> <br>melib_e --> <br>met_L_e --> <br>mmet_e --> <br>na1_e <=> <br>nac_e --> <br>nadp_e --> <br>nh4_e <=> <br>nmn_e --> <br>o2_e <=> <br>oaa_e --> <br>ocdca_e --> <br>ocdcea_e --> <br>ocdcya_e --> <br>orn_e --> <br>pacald_e --> <br>pap_e --> <br>pc_SC_e --> <br>pectin_e --> <br>pepd_e --> <br>phe_L_e --> <br>pheac_e --> <br>pi_e <=> <br>pnto_R_e --> <br>pro_L_e --> <br>ptd1ino_SC_e --> <br>ptrc_e --> <br>pyr_e --> <br>rib_D_e --> <br>ribflv_e --> <br>sbt_D_e --> <br>sbt_L_e --> <br>ser_L_e --> <br>so3_e --> <br>so4_e <=> <br>spmd_e --> <br>sprm_e --> <br>srb_L_e --> <br>succ_e --> <br>sucr_e --> <br>taur_e --> <br>thm_e --> <br>thmmp_e --> <br>thmpp_e --> <br>thr_L_e --> <br>thym_e --> <br>thymd_e --> <br>tre_e --> <br>trp_L_e --> <br>ttdca_e --> <br>tyr_L_e --> <br>ura_e --> <br>urea_e --> <br>uri_e --> <br>val_L_e --> <br>xan_e --> <br>xtsn_e --> <br>xyl_D_e --> <br>xylt_e --> <br>zymst_e --> <br>zymstest_SC_e --> <br>dca_c --> dca_x<br>h2o_c + ddcaACP_c <=> ACP_c + h_c + ddca_c<br>ddcaACP_m --> ddcaACP_c<br>ddca_c --> ddca_x<br>h2o_c + myrsACP_c <=> ttdca_c + ACP_c + h_c<br>myrsACP_m --> myrsACP_c<br>tdcoa_c + atp_x + h2o_x --> tdcoa_x + pi_x + adp_x + h_x<br>ttdca_c --> ttdca_x<br>h2o_c + tdeACP_c <=> ttdcea_c + ACP_c + h_c<br>tdeACP_m --> tdeACP_c<br>atp_x + h2o_x + tdecoa_c --> pi_x + adp_x + h_x + tdecoa_x<br>ttdcea_c --> ttdcea_x<br>palmACP_c + h2o_c <=> hdca_c + ACP_c + h_c<br>palmACP_m --> palmACP_c<br>atp_x + h2o_x + pmtcoa_c --> pi_x + adp_x + h_x + pmtcoa_x<br>hdca_c --> hdca_x<br>h2o_c + hdeACP_c <=> hdcea_c + h_c + ACP_c<br>hdeACP_m --> hdeACP_c<br>atp_x + h2o_x + hdcoa_c --> hdcoa_x + adp_x + h_x + pi_x<br>hdcea_c --> hdcea_x<br>h2o_c + ocdcaACP_c <=> ACP_c + ocdca_c + h_c<br>ocdcaACP_m --> ocdcaACP_c<br>atp_x + h2o_x + stcoa_c --> pi_x + adp_x + h_x + stcoa_x<br>octeACP_c + h2o_c <=> ocdcea_c + ACP_c + h_c<br>octeACP_m --> octeACP_c<br>atp_x + h2o_x + odecoa_c --> pi_x + adp_x + h_x + odecoa_x<br>ocdcyaACP_c + h2o_c <=> ocdcya_c + ACP_c + h_c<br>ocdcyaACP_m --> ocdcyaACP_c<br>atp_x + h2o_x + ocdycacoa_c --> pi_x + adp_x + ocdycacoa_x + h_x<br>ttc_c --> ttc_x<br>hexc_c --> hexc_x<br>octa_c --> octa_x<br>atp_x + dca_x + coa_x <=> amp_x + ppi_x + dcacoa_x<br>atp_x + ddca_x + coa_x <=> ddcacoa_x + amp_x + ppi_x<br>coa_c + atp_c + ttdca_c <=> amp_c + tdcoa_c + ppi_c<br>atp_x + ttdca_x + coa_x <=> amp_x + tdcoa_x + ppi_x<br>coa_c + atp_c + ttdcea_c <=> amp_c + ppi_c + tdecoa_c<br>atp_x + ttdcea_x + coa_x <=> amp_x + ppi_x + tdecoa_x<br>hdca_c + coa_c + atp_c <=> amp_c + pmtcoa_c + ppi_c<br>atp_x + coa_x + hdca_x <=> amp_x + ppi_x + pmtcoa_x<br>hdcea_c + coa_c + atp_c <=> amp_c + ppi_c + hdcoa_c<br>atp_x + hdcea_x + coa_x <=> amp_x + hdcoa_x + ppi_x<br>ocdca_c + coa_c + atp_c <=> amp_c + ppi_c + stcoa_c<br>coa_c + atp_c + ocdcea_c <=> amp_c + ppi_c + odecoa_c<br>ocdcya_c + coa_c + atp_c <=> amp_c + ppi_c + ocdycacoa_c<br>atp_x + coa_x + ttc_x <=> ttccoa_x + amp_x + ppi_x<br>atp_x + coa_x + hexc_x <=> hexccoa_x + amp_x + ppi_x<br>atp_x + coa_x + octa_x <=> amp_x + ppi_x + occoa_x<br>fad_c + fmn_m --> fmn_c + fad_m<br>fald_c + nad_c + gthrd_c <=> h_c + nadh_c + Sfglutth_c<br>6.0 h2o_x + 6.0 nad_x + 6.0 coa_x + nadph_x + 6.0 o2_x + tdecoa_x --> 5.0 h_x + 6.0 nadh_x + 6.0 h2o2_x + 7.0 accoa_x + nadp_x<br>6.0 h2o_x + 6.0 coa_x + 6.0 nad_x + 5.0 o2_x + tdecoa_x --> 6.0 h_x + 6.0 nadh_x + 5.0 h2o2_x + 7.0 accoa_x<br>7.0 h2o_x + 7.0 nad_x + hdcoa_x + 7.0 coa_x + nadph_x + 7.0 o2_x --> 6.0 h_x + 7.0 nadh_x + 7.0 h2o2_x + nadp_x + 8.0 accoa_x<br>7.0 h2o_x + hdcoa_x + 7.0 coa_x + 7.0 nad_x + 6.0 o2_x --> 7.0 h_x + 7.0 nadh_x + 6.0 h2o2_x + 8.0 accoa_x<br>8.0 h2o_x + 8.0 nad_x + 8.0 coa_x + nadph_x + 8.0 o2_x + odecoa_x --> 7.0 h_x + 8.0 nadh_x + 8.0 h2o2_x + 9.0 accoa_x + nadp_x<br>8.0 h2o_x + 8.0 coa_x + 8.0 nad_x + 7.0 o2_x + odecoa_x --> 8.0 h_x + 8.0 nadh_x + 7.0 h2o2_x + 9.0 accoa_x<br>8.0 h2o_x + 8.0 nad_x + 8.0 coa_x + ocdycacoa_x + 2.0 nadph_x + 8.0 o2_x --> 6.0 h_x + 8.0 nadh_x + 8.0 h2o2_x + 9.0 accoa_x + 2.0 nadp_x<br>8.0 h2o_x + 8.0 nad_x + 8.0 coa_x + ocdycacoa_x + nadph_x + 7.0 o2_x --> 7.0 h_x + 8.0 nadh_x + 7.0 h2o2_x + 9.0 accoa_x + nadp_x<br>8.0 h2o_x + ocdycacoa_x + 8.0 coa_x + 8.0 nad_x + 6.0 o2_x --> 8.0 nadh_x + 6.0 h2o2_x + 9.0 accoa_x + 8.0 h_x<br>3.0 h2o_x + ttccoa_x + 3.0 coa_x + 3.0 nad_x + 3.0 o2_x --> 3.0 nadh_x + 3.0 h2o2_x + 3.0 accoa_x + 3.0 h_x + stcoa_x<br>3.0 h2o_x + 3.0 coa_x + 3.0 nad_x + 3.0 o2_x + occoa_x --> 3.0 h_x + 3.0 nadh_x + 3.0 h2o2_x + 4.0 accoa_x<br>3.0 h_c + octa_c + 2.0 nadph_c + malcoa_c --> co2_c + dca_c + coa_c + 2.0 nadp_c + h2o_c<br>2.0 nadph_m + malACP_m + ocACP_m + 3.0 h_m --> h2o_m + dcaACP_m + co2_m + ACP_m + 2.0 nadp_m<br>3.0 h_c + occoa_c + 2.0 nadph_c + malcoa_c --> dcacoa_c + co2_c + coa_c + 2.0 nadp_c + h2o_c<br>dca_c + 3.0 h_c + 2.0 nadph_c + malcoa_c --> co2_c + ddca_c + coa_c + 2.0 nadp_c + h2o_c<br>dcaACP_m + 2.0 nadph_m + 3.0 h_m + malACP_m --> h2o_m + co2_m + ACP_m + 2.0 nadp_m + ddcaACP_m<br>dcacoa_c + 3.0 h_c + 2.0 nadph_c + malcoa_c --> co2_c + coa_c + 2.0 nadp_c + ddcacoa_c + h2o_c<br>ddca_c + 3.0 h_c + 2.0 nadph_c + malcoa_c --> co2_c + ttdca_c + coa_c + 2.0 nadp_c + h2o_c<br>2.0 nadph_m + ddcaACP_m + malACP_m + 3.0 h_m --> h2o_m + myrsACP_m + co2_m + 2.0 nadp_m + ACP_m<br>3.0 h_c + 2.0 nadph_c + ddcacoa_c + malcoa_c --> tdcoa_c + co2_c + coa_c + 2.0 nadp_c + h2o_c<br>o2_c + ddca_c + 4.0 h_c + 3.0 nadph_c + malcoa_c --> co2_c + coa_c + 3.0 nadp_c + ttdcea_c + 3.0 h2o_c<br>o2_m + 3.0 nadph_m + 4.0 h_m + ddcaACP_m + malACP_m --> 3.0 h2o_m + co2_m + 3.0 nadp_m + ACP_m + tdeACP_m<br>ttdca_c + 3.0 h_c + 2.0 nadph_c + malcoa_c --> hdca_c + co2_c + coa_c + 2.0 nadp_c + h2o_c<br>myrsACP_m + 2.0 nadph_m + malACP_m + 3.0 h_m --> h2o_m + co2_m + 2.0 nadp_m + ACP_m + palmACP_m<br>tdcoa_c + 3.0 h_c + 2.0 nadph_c + malcoa_c --> pmtcoa_c + coa_c + 2.0 nadp_c + co2_c + h2o_c<br>ttdca_c + 4.0 h_c + o2_c + 3.0 nadph_c + malcoa_c --> co2_c + hdcea_c + coa_c + 3.0 nadp_c + 3.0 h2o_c<br>o2_m + myrsACP_m + 3.0 nadph_m + malACP_m + 4.0 h_m --> 3.0 h2o_m + co2_m + hdeACP_m + ACP_m + 3.0 nadp_m<br>hdca_c + 3.0 h_c + 2.0 nadph_c + malcoa_c --> co2_c + ocdca_c + coa_c + 2.0 nadp_c + h2o_c<br>palmACP_m + 2.0 nadph_m + malACP_m + 3.0 h_m --> h2o_m + co2_m + ACP_m + 2.0 nadp_m + ocdcaACP_m<br>pmtcoa_c + 3.0 h_c + 2.0 nadph_c + malcoa_c --> coa_c + 2.0 nadp_c + co2_c + stcoa_c + h2o_c<br>hdca_c + o2_c + 4.0 h_c + 3.0 nadph_c + malcoa_c --> co2_c + coa_c + 3.0 nadp_c + ocdcea_c + 3.0 h2o_c<br>o2_m + 3.0 nadph_m + malACP_m + palmACP_m + 4.0 h_m --> 3.0 h2o_m + octeACP_m + co2_m + 3.0 nadp_m + ACP_m<br>2.0 o2_m + 4.0 nadph_m + malACP_m + palmACP_m + 5.0 h_m --> 5.0 h2o_m + co2_m + ACP_m + 4.0 nadp_m + ocdcyaACP_m<br>ocdca_c + 9.0 h_c + 6.0 nadph_c + 3.0 malcoa_c --> 3.0 co2_c + 3.0 coa_c + 6.0 nadp_c + ttc_c + 3.0 h2o_c<br>3.0 h_c + ttc_c + 2.0 nadph_c + malcoa_c --> co2_c + 2.0 nadp_c + coa_c + hexc_c + h2o_c<br>acACP_m + 6.0 nadph_m + 3.0 malACP_m + 9.0 h_m --> 3.0 h2o_m + 3.0 co2_m + 6.0 nadp_m + ocACP_m + 3.0 ACP_m<br>9.0 h_c + 6.0 nadph_c + accoa_c + 3.0 malcoa_c --> 3.0 co2_c + occoa_c + 3.0 coa_c + 6.0 nadp_c + 3.0 h2o_c<br>8.0 h_c + 6.0 nadph_c + accoa_c + 3.0 malcoa_c --> 3.0 co2_c + 4.0 coa_c + octa_c + 6.0 nadp_c + 2.0 h2o_c<br>fdp_c <=> dhap_c + g3p_c<br>f1p_c <=> dhap_c + glyald_c<br>s17bp_c <=> dhap_c + e4p_c<br>h2o_c + fdp_c --> pi_c + f6p_c<br>f26bp_c + h2o_c --> pi_c + f6p_c<br>ppp9_m + fe2_m --> 2.0 h_m + pheme_m<br>for_c + nad_c --> co2_c + nadh_c<br>for_c + q6_m + h_c --> co2_c + q6h2_m<br>fe2_e --> fe2_c<br>fe2_c --> fe2_m<br>0.015 tdcoa_c + 0.02 pmtcoa_c + 0.01 hexccoa_c + 0.03 stcoa_c + 0.27 odecoa_c + 0.655 hdcoa_c + 0.01 fecost_c --> coa_c + 0.01 fecostest_SC_c<br>0.01 fecostest_SC_c + h2o_c --> 0.02 hdca_c + 0.015 ttdca_c + 0.03 ocdca_c + h_c + 0.27 ocdcea_c + 0.01 hexc_c + 0.01 fecost_c + 0.655 hdcea_c<br>0.01 fecostest_SC_e + h2o_e --> 0.27 ocdcea_e + 0.01 hexc_e + 0.02 hdca_e + 0.015 ttdca_e + 0.01 fecost_e + 0.03 ocdca_e + 0.655 hdcea_e + h_e<br>fecost_e <=> fecost_c<br>fe2_m --> fe2_c<br>Lfmkynr_c + h2o_c --> Lkynr_c + h_c + for_c<br>mettrna_m + 10fthf_m --> fmettrna_m + thf_m + h_m<br>atp_c + fmn_c + h_c --> ppi_c + fad_c<br>fmn_m + h_m + atp_m --> fad_m + ppi_m<br>h_c + nadh_c + fmn_c --> fmnh2_c + nad_c<br>nadph_c + h_c + fmn_c --> nadp_c + fmnh2_c<br>4abz_m + 2ahhmd_m --> dhpt_m + ppi_m<br>for_e <=> for_c<br>for_m --> for_c<br>frdp_c <=> frdp_m<br>fum_c + fadh2_m --> succ_c + fad_m<br>fum_m + fadh2_m --> succ_m + fad_m<br>frdp_c + ipdp_c --> ggdp_c + ppi_c<br>atp_c + f1p_c --> adp_c + fdp_c + h_c<br>fru_e + h_e --> fru_c + h_c<br>atp_c + 5fthf_c --> adp_c + pi_c + methf_c<br>5fthf_m + atp_m --> adp_m + methf_m + pi_m<br>atp_c + 5fthf_c + h2o_c --> pi_c + h_c + 10fthf_c + adp_c<br>for_c + atp_c + thf_c --> pi_c + 10fthf_c + adp_c<br>for_m + thf_m + atp_m --> 10fthf_m + adp_m + pi_m<br>fum_c + h2o_c <=> mal_L_c<br>4fumacac_c + h2o_c --> fum_c + acac_c + h_c<br>fum_m + h2o_m <=> mal_L_m<br>fum_e + h_e <=> fum_c + h_c<br>m2macchitppdol_g + gdpmann_g --> gdp_g + m3macchitppdol_g + h_g<br>gdpmann_g + m3macchitppdol_g --> gdp_g + h_g + m4macchitppdol_g<br>gdpmann_g + macchitppdol_g --> gdp_g + m1macchitppdol_g + h_g<br>gdpmann_g + m1macchitppdol_g --> gdp_g + m2macchitppdol_g + h_g<br>g3pc_e <=> g3pc_c<br>dhap_c + h_c + nadh_c --> nad_c + glyc3p_c<br>nadh_m + h_m + dhap_m --> nad_m + glyc3p_m<br>glyc3p_m + fad_m --> fadh2_m + dhap_m<br>g3pi_e <=> g3pi_c<br>glyc3p_c + h2o_c --> pi_c + glyc_c<br>glu5sa_c <=> 1pyr5c_c + h_c + h2o_c<br>glu5sa_m <=> h2o_m + 1pyr5c_m + h_m<br>h_c + glu5p_c + nadph_c --> pi_c + nadp_c + glu5sa_c<br>h_c + nadh_c + glu5p_c --> pi_c + nad_c + glu5sa_c<br>h2o_c + gam6p_c --> nh4_c + f6p_c<br>nadp_c + g6p_c --> 6pgl_c + h_c + nadph_c<br>g6p_r + nadp_r --> h_r + 6pgl_r + nadph_r<br>g6p_c <=> g6p_B_c<br>g6p_B_c <=> f6p_c<br>g6p_c <=> g6p_r<br>1Dgali_c + h2o_c <=> inost_c + gal_c<br>atp_c + gal_c --> adp_c + gal1p_c + h_c<br>melib_c + h2o_c --> gal_c + glc_D_c<br>utp_c + gal1p_c + h_c <=> udpgal_c + ppi_c<br>utp_c + g1p_c + h_c <=> ppi_c + udpg_c<br>gal_e + h_e --> gal_c + h_c<br>gam6p_e <=> gam6p_c<br>pi_c + g3p_c + nad_c <=> 13dpg_c + nadh_c + h_c<br>10fthf_c + gar_c --> fgam_c + thf_c + h_c<br>0.02 dcacoa_c + 0.1 tdcoa_c + 0.27 pmtcoa_c + 0.06 ddcacoa_c + 0.17 hdcoa_c + 0.24 odecoa_c + 0.09 ocdycacoa_c + 0.05 stcoa_c + glyc3p_c --> 0.01 1ag3p_SC_c + coa_c<br>0.02 dcacoa_c + 0.1 tdcoa_c + 0.27 pmtcoa_c + 0.06 ddcacoa_c + 0.17 hdcoa_c + dhap_c + 0.24 odecoa_c + 0.09 ocdycacoa_c + 0.05 stcoa_c --> coa_c + 0.01 1agly3p_SC_c<br>14glun_c --> glycogen_c + h2o_c<br>gcald_e <=> gcald_c<br>gcald_c <=> gcald_m<br>gly_m + h_m + lpam_m <=> alpam_m + co2_m<br>thf_m + alpam_m --> dhlam_m + mlthf_m + nh4_m<br>dhlam_m + nad_m <=> nadh_m + h_m + lpam_m<br>gly_m + h_m + lpro_m <=> alpro_m + co2_m<br>alpro_m + thf_m --> mlthf_m + nh4_m + dhlpro_m<br>nad_m + dhlpro_m <=> nadh_m + h_m + lpro_m<br>gmp_g + gdpmann_c --> gdpmann_g + gmp_c<br>gdp_g + h_c <=> gdp_c + h_g<br>gdp_c <=> gdp_n<br>gln_L_c + f6p_c --> glu_L_c + gam6p_c<br>h2o_c + ggl_c <=> gal_c + glyc_c<br>ggdp_c + ipdp_c --> ppi_c + pendp_c<br>ser_L_c + thf_c <=> mlthf_c + gly_c + h2o_c<br>ser_L_m + thf_m <=> gly_m + h2o_m + mlthf_m<br>atp_c + gmp_c <=> gdp_c + adp_c<br>gmp_c + datp_c <=> gdp_c + dadp_c<br>glycogen_c + h2o_c --> glc_D_c<br>glycogen_v + h2o_v --> glc_D_v<br>glycogen_c --> glycogen_v<br>pi_c + glycogen_c --> g1p_c<br>udpg_c --> udp_c + h_c + glycogen_c<br>glc_D_e --> glc_D_c<br>glc_D_c <=> glc_D_v<br>nh4_c + atp_c + glu_L_c --> pi_c + h_c + adp_c + gln_L_c<br>atp_c + trnagln_c + gln_L_c --> amp_c + ppi_c + glntrna_c<br>gln_L_c + h_c <=> gln_L_n + h_n<br>gln_L_e + h_e <=> h_c + gln_L_c<br>h_v + gln_L_c --> gln_L_v + h_c<br>gln_L_v + h_v --> gln_L_c + h_c<br>tdcoa_c + glp_c --> tglp_c + coa_c<br>atp_c + glu_L_c --> adp_c + glu5p_c<br>atp_c + glu_L_c + cys_L_c --> glucys_c + pi_c + h_c + adp_c<br>glu_L_c + h_c --> 4abut_c + co2_c<br>nad_c + glu_L_c + h2o_c --> nh4_c + akg_c + h_c + nadh_c<br>nh4_c + akg_c + h_c + nadph_c --> glu_L_c + nadp_c + h2o_c<br>atp_c + glc_D_c --> adp_c + g6p_B_c + h_c<br>gln_L_c + h2o_c --> nh4_c + glu_L_c<br>prpp_c + h2o_c + gln_L_c --> ppi_c + glu_L_c + pram_c<br>h_c + akg_c + nadh_c + gln_L_c --> nad_c + 2.0 glu_L_c<br>atp_c + glu_L_c + trnaglu_c --> amp_c + ppi_c + glutrna_c<br>trnaglu_m + glu_L_m + atp_m --> amp_m + ppi_m + glutrna_m<br>glu_L_c + h_c <=> h_n + glu_L_n<br>glu_L_e + h_e <=> glu_L_c + h_c<br>glu_L_c + oh1_m --> oh1_c + glu_L_m<br>h_v + glu_L_v --> glu_L_c + h_c<br>glu_L_c --> glu_L_m<br>glx_c <=> glx_e<br>glx_c <=> glx_x<br>coa_c + 2aobut_c --> gly_c + accoa_c<br>glyc3p_c --> glyc3p_m<br>nadp_c + glyc_c --> dha_c + h_c + nadph_c<br>nad_m + thf_m + gly_m --> nadh_m + nh4_m + co2_m + mlthf_m<br>glyc_c <=> glyc_e<br>glyc_e + h_e --> h_c + glyc_c<br>udpg_c + h2o_c --> 14glun_c + udp_c + h_c<br>atp_c + glyc_c --> adp_c + h_c + glyc3p_c<br>lgt_S_c + h2o_c --> lac_D_c + gthrd_c + h_c<br>h2o_m + lgt_S_m --> lac_D_m + h_m + gthrd_m<br>atp_c + gly_c + trnagly_c --> amp_c + ppi_c + glytrna_c<br>gly_c + h_c <=> gly_m + h_m<br>gly_e + h_e <=> gly_c + h_c<br>atp_c + xmp_c + gln_L_c + h2o_c --> amp_c + gmp_c + 2.0 h_c + glu_L_c + ppi_c<br>6pgc_c + nadp_c --> co2_c + ru5p_D_c + nadph_c<br>gsn_c + h2o_c --> rib_D_c + gua_c<br>h2o_c + g3pc_c --> chol_c + h_c + glyc3p_c<br>ipdp_c + grdp_c --> ppi_c + frdp_c<br>atp_c + gsn_c --> adp_c + gmp_c + h_c<br>gsn_e + h_e --> gsn_c + h_c<br>gsn_c + h_c <=> h_m + gsn_m<br>gthox_c + nadph_c + h_c --> 2.0 gthrd_c + nadp_c<br>gthox_e --> gthox_c<br>gthox_m + h_m + nadph_m --> nadp_m + 2.0 gthrd_m<br>h2o2_c + 2.0 gthrd_c <=> gthox_c + 2.0 h2o_c<br>h2o2_m + 2.0 gthrd_m <=> 2.0 h2o_m + gthox_m<br>atp_v + h2o_v + gthrd_c --> gthrd_v + adp_v + pi_v + h_v<br>gthrd_e --> gthrd_c<br>glucys_c + gly_c + atp_c --> pi_c + h_c + adp_c + gthrd_c<br>gthrd_c + ala_L_c --> gluala_c + cgly_c<br>h2o_c + gtp_c --> for_c + h_c + ahdt_c<br>gtp_c + 3.0 h2o_c --> for_c + ppi_c + 25dhpp_c + 2.0 h_c<br>gtp_c + 2.0 h2o_c --> gmp_c + 2.0 pi_c + 2.0 h_c<br>h_c + gdp_m + gtp_c --> gdp_c + gtp_m + h_m<br>h2o_c + h_c + gua_c --> nh4_c + xan_c<br>prpp_c + gua_c --> gmp_c + ppi_c<br>gua_e + h_e <=> h_c + gua_c<br>gua_c <=> gua_m<br>h2o2_c <=> h2o2_n<br>h2o_e <=> h2o_c<br>h2o_c <=> h2o_r<br>h2o_c <=> h2o_m<br>h2o_n <=> h2o_c<br>h2o_c <=> h2o_x<br>h2o_c <=> h2o_v<br>nad_x + 3hxccoa_x <=> h_x + 3ohxccoa_x + nadh_x<br>3odcoa_x + h_x + nadh_x <=> nad_x + 3hdcoa_x<br>h_x + nadh_x + 3oddcoa_x <=> nad_x + 3hddcoa_x<br>3otdcoa_x + h_x + nadh_x <=> 3htdcoa_x + nad_x<br>h_x + nadh_x + 3ohdcoa_x <=> 3hhdcoa_x + nad_x<br>h_x + nadh_x + 3ohodcoa_x <=> nad_x + 3hodcoa_x<br>h2o_m + b124tc_m <=> hicit_m<br>hexdp_m + 4hbz_m --> ppi_m + 3ophb_5_m<br>h2o_m + accoa_m + akg_m --> coa_m + hcit_m + h_m<br>accoa_n + akg_n + h2o_n --> hcit_n + h_n + coa_n<br>h2o_c + co2_c <=> h_c + hco3_c<br>h2o_m + co2_m <=> hco3_m + h_m<br>co2_n + h2o_n <=> hco3_n + h_n<br>hco3_c <=> hco3_n<br>hcys_L_c + amet_c --> ahcys_c + h_c + met_L_c<br>h_c + hcys_L_c <=> h_x + hcys_L_x<br>hdca_e --> hdca_c<br>hdcea_e --> hdcea_c<br>nadh_m + o2_m + hemeO_m --> h2o_m + nad_m + hemeA_m<br>frdp_m + h2o_m + pheme_m --> hemeO_m + ppi_m<br>atp_c + 4mhetz_c --> 4mpetz_c + adp_c + h_c<br>atp_c + glc_D_c --> adp_c + g6p_c + h_c<br>atp_c + man_c --> adp_c + h_c + man6p_c<br>atp_c + fru_c --> adp_c + f6p_c + h_c<br>hexccoa_c <=> hexccoa_x<br>hexdp_c <=> hexdp_m<br>hgentis_c + o2_c --> h_c + 4mlacac_c<br>nad_m + hicit_m <=> nadh_m + h_m + oxag_m<br>2.0 nad_c + histd_c + h2o_c --> his_L_c + 3.0 h_c + 2.0 nadh_c<br>hisp_c + h2o_c --> histd_c + pi_c<br>his_L_c + atp_c + trnahis_c --> amp_c + ppi_c + histrna_c<br>his_L_m + trnahis_m + atp_m --> histrna_m + amp_m + ppi_m<br>his_L_m + h_m <=> his_L_c + h_c<br>his_L_e + h_e <=> his_L_c + h_c<br>his_L_c + h_v --> his_L_v + h_c<br>hLkynr_c + h2o_c --> ala_L_c + 3hanthrn_c<br>h2o_c + 4.0 ppbng_c --> 4.0 nh4_c + hmbil_c<br>coa_c + 2.0 nadp_c + mev_R_c <=> hmgcoa_c + 2.0 h_c + 2.0 nadph_c<br>h_c + coa_c + hmgcoa_c <=> accoa_c + aacoa_c + h2o_c<br>coa_m + hmgcoa_m + h_m <=> aacoa_m + h2o_m + accoa_m<br>hmgcoa_c <=> hmgcoa_m<br>atp_c + 4ahmmp_c --> adp_c + 4ampm_c + h_c<br>2ahhmp_m + atp_m --> amp_m + h_m + 2ahhmd_m<br>1p3h5c_c + 2.0 h_c + nadh_c --> nad_c + 4hpro_LT_c<br>1p3h5c_c + nadph_c + 2.0 h_c --> nadp_c + 4hpro_LT_c<br>nad_m + 4hpro_LT_m --> nadh_m + 2.0 h_m + 1p3h5c_m<br>4hpro_LT_m + nadp_m --> 1p3h5c_m + nadph_m + 2.0 h_m<br>h_c + aspsa_c + nadh_c --> hom_L_c + nad_c<br>aspsa_c + h_c + nadph_c --> hom_L_c + nadp_c<br>hom_L_c + accoa_c <=> coa_c + achms_c<br>atp_c + hom_L_c --> adp_c + phom_c + h_c<br>glu_L_c + imacp_c --> akg_c + hisp_c<br>hxan_e + h_e <=> h_c + hxan_c<br>prpp_c + hxan_c --> imp_c + ppi_c<br>pyam5p_c + h2o_c --> pydam_c + pi_c<br>iamac_c --> iamac_e<br>iamoh_c <=> iamoh_e<br>iamoh_c <=> iamoh_m<br>ibutac_c --> ibutac_e<br>ibutoh_c <=> ibutoh_e<br>ibutoh_c <=> ibutoh_m<br>icit_m + nad_m --> akg_m + co2_m + nadh_m<br>nadp_c + icit_c --> akg_c + co2_c + nadph_c<br>icit_m + nadp_m --> co2_m + nadph_m + akg_m<br>nadp_x + icit_x --> co2_x + akg_x + nadph_x<br>icit_c --> succ_c + glx_c<br>id3acald_c <=> id3acald_e<br>id3acald_c <=> id3acald_m<br>gln_L_c + prlp_c --> eig3p_c + h_c + glu_L_c + aicar_c<br>eig3p_c --> imacp_c + h2o_c<br>2cpr5p_c + h_c --> 3ig3p_c + co2_c + h2o_c<br>akg_c + ile_L_c <=> 3mop_c + glu_L_c<br>akg_m + ile_L_m <=> 3mop_m + glu_L_m<br>atp_c + ile_L_c + trnaile_c --> amp_c + ppi_c + iletrna_c<br>ile_L_m + atp_m + trnaile_m --> iletrna_m + amp_m + ppi_m<br>h_e + ile_L_e <=> ile_L_c + h_c<br>ile_L_c + h_v --> ile_L_v + h_c<br>ile_L_v + h_v --> ile_L_c + h_c<br>ile_L_m --> ile_L_c<br>imp_c + h2o_c <=> fprica_c<br>imp_c + nad_c + h2o_c --> h_c + nadh_c + xmp_c<br>ind3ac_c <=> ind3ac_m<br>ind3eth_c <=> ind3eth_e<br>ind3eth_c <=> ind3eth_m<br>indpyr_c + h_c <=> id3acald_c + co2_c<br>atp_c + ins_c --> imp_c + adp_c + h_c<br>h_e + inost_e --> inost_c + h_c<br>ins_e + h_e --> ins_c + h_c<br>h2o_c + 0.01 ipc124_SC_c --> cer1_24_c + h_c + mi1p_D_c<br>h2o_c + 0.01 ipc126_SC_c --> cer1_26_c + h_c + mi1p_D_c<br>0.01 ipc224_SC_c + h2o_c --> cer2_24_c + h_c + mi1p_D_c<br>h2o_c + 0.01 ipc226_SC_c --> cer2_26_c + h_c + mi1p_D_c<br>h2o_c + 0.01 ipc324_SC_c --> cer3_24_c + h_c + mi1p_D_c<br>h2o_c + 0.01 ipc326_SC_c --> cer3_26_c + h_c + mi1p_D_c<br>0.01 ptd1ino_SC_c + cer1_24_c --> 0.01 12dgr_SC_c + 0.01 ipc124_SC_c<br>0.01 ptd1ino_SC_c + cer1_26_c --> 0.01 ipc126_SC_c + 0.01 12dgr_SC_c<br>cer2_24_c + 0.01 ptd1ino_SC_c --> 0.01 ipc224_SC_c + 0.01 12dgr_SC_c<br>0.01 ptd1ino_SC_c + cer2_26_c --> 0.01 12dgr_SC_c + 0.01 ipc226_SC_c<br>cer3_24_c + 0.01 ptd1ino_SC_c --> 0.01 12dgr_SC_c + 0.01 ipc324_SC_c<br>cer3_26_c + 0.01 ptd1ino_SC_c --> 0.01 12dgr_SC_c + 0.01 ipc326_SC_c<br>ipdp_c <=> dmpp_c<br>ipdp_c <=> ipdp_m<br>nad_c + 3c2hmp_c --> nadh_c + h_c + 3c4mop_c<br>3c2hmp_c <=> 2ippm_c + h2o_c<br>2ippm_c + h2o_c <=> 3c3hmp_c<br>3mob_c + h2o_c + accoa_c --> 3c3hmp_c + h_c + coa_c<br>accoa_m + 3mob_m + h2o_m --> coa_m + 3c3hmp_m + h_m<br>coa_m + itacon_m + atp_m <=> adp_m + pi_m + itaccoa_m<br>alac_S_m + nadph_m + h_m --> nadp_m + 23dhmb_m<br>2ahbut_m + h_m + nadph_m --> nadp_m + 23dhmp_m<br>Lkynr_c + h2o_c --> anth_c + ala_L_c + h_c<br>Lkynr_c + o2_c + h_c + nadph_c --> hLkynr_c + nadp_c + h2o_c<br>k_e + h_e <=> k_c + h_c<br>h_c + mthgxl_c + nadph_c --> nadp_c + lald_L_c<br>0.015 tdcoa_c + 0.01 lanost_c + 0.02 pmtcoa_c + 0.01 hexccoa_c + 0.655 hdcoa_c + 0.27 odecoa_c + 0.03 stcoa_c --> 0.01 lanostest_SC_c + coa_c<br>0.01 lanostest_SC_c + h2o_c --> 0.02 hdca_c + 0.01 lanost_c + 0.015 ttdca_c + 0.655 hdcea_c + h_c + 0.27 ocdcea_c + 0.01 hexc_c + 0.03 ocdca_c<br>0.01 lanostest_SC_e + h2o_e --> 0.27 ocdcea_e + 0.01 hexc_e + 0.02 hdca_e + 0.01 lanost_e + 0.03 ocdca_e + 0.015 ttdca_e + 0.655 hdcea_e + h_e<br>lanost_e <=> lanost_c<br>nad_c + lald_L_c + h2o_c --> lac_L_c + 2.0 h_c + nadh_c<br>Lcystin_v + h_v --> Lcystin_c + h_c<br>leu_L_c + akg_c <=> glu_L_c + 4mop_c<br>leu_L_m + akg_m <=> 4mop_m + glu_L_m<br>atp_c + trnaleu_c + leu_L_c --> amp_c + ppi_c + leutrna_c<br>leu_L_m + trnaleu_m + atp_m --> leutrna_m + amp_m + ppi_m<br>leu_L_e + h_e <=> leu_L_c + h_c<br>leu_L_c + h_v --> h_c + leu_L_v<br>h_v + leu_L_v --> leu_L_c + h_c<br>gthrd_c + mthgxl_c --> lgt_S_c<br>lanost_c + 3.0 o2_c + 2.0 h_c + 3.0 nadph_c --> for_c + 3.0 nadp_c + 44mctr_c + 4.0 h2o_c<br>lanost_c + 3.0 o2_c + 2.0 h_c + 3.0 nadh_c --> for_c + 3.0 nad_c + 44mctr_c + 4.0 h2o_c<br>Ssq23epx_c --> lanost_c<br>0.02 dcacoa_c + 0.1 tdcoa_c + 0.27 pmtcoa_c + 0.01 1agpc_SC_c + 0.06 ddcacoa_c + 0.24 odecoa_c + 0.17 hdcoa_c + 0.09 ocdycacoa_c + 0.05 stcoa_c --> coa_c + 0.01 pc_SC_c<br>0.01 dagpy_SC_c + h2o_c --> 0.01 pa_SC_c + pi_c + h_c<br>nadp_c + ser_L_c <=> 2amsa_c + h_c + nadph_c<br>atp_c + lys_L_c + trnalys_c --> amp_c + lystrna_c + ppi_c<br>trnalys_m + lys_L_m + atp_m --> amp_m + lystrna_m + ppi_m<br>lys_L_c + h_c <=> h_m + lys_L_m<br>lys_L_e + h_e <=> lys_L_c + h_c<br>lys_L_c + h_v --> lys_L_v + h_c<br>lac_L_c + 2.0 ficytc_m --> pyr_c + 2.0 focytc_m<br>lac_L_e + h_e <=> lac_L_c + h_c<br>lac_L_c + h_c <=> lac_L_m + h_m<br>4mlacac_c --> 4fumacac_c<br>oaa_c + mal_L_x <=> mal_L_c + oaa_x<br>glx_c + h2o_c + accoa_c --> mal_L_c + h_c + coa_c<br>h2o_x + accoa_x + glx_x --> coa_x + mal_L_x + h_x<br>h2o_c + malt_c --> 2.0 glc_D_c<br>malt_e + h_e --> h_c + malt_c<br>mal_L_e + h_e <=> mal_L_c + h_c<br>mal_L_c + pi_m <=> pi_c + mal_L_m<br>gtp_c + h_c + man1p_c --> gdpmann_c + ppi_c<br>man6p_c <=> f6p_c<br>mannan_c <=> mannan_r<br>man_e + h_e --> h_c + man_c<br>hcit_m <=> h2o_m + b124tc_m<br>micit_m --> succ_m + pyr_m<br>h2o_m + oaa_m + ppcoa_m --> coa_m + 2mcit_m + h_m<br>malcoa_c + ACP_c <=> malACP_c + coa_c<br>malcoa_m + ACP_m <=> coa_m + malACP_m<br>nad_c + mal_L_c <=> oaa_c + h_c + nadh_c<br>nad_m + mal_L_m <=> nadh_m + h_m + oaa_m<br>nad_x + mal_L_x <=> h_x + oaa_x + nadh_x<br>5mdru1p_c --> dkmpp_c + h2o_c<br>nad_m + mal_L_m --> nadh_m + co2_m + pyr_m<br>nadp_m + mal_L_m --> co2_m + nadph_m + pyr_m<br>melib_e + h_e --> h_c + melib_c<br>melt_c + h2o_c <=> sbt_D_c + gal_c<br>met_L_c + atp_c + h2o_c --> ppi_c + pi_c + amet_c<br>achms_c + cys_L_c --> ac_c + cyst_L_c + h_c<br>5mthf_c + hcys_L_c --> thf_c + met_L_c + h_c<br>trnamet_c + atp_c + met_L_c --> amp_c + ppi_c + mettrna_c<br>met_L_m + atp_m + trnamet_m --> mettrna_m + amp_m + ppi_m<br>met_L_m + h_m <=> met_L_c + h_c<br>h_e + met_L_e <=> met_L_c + h_c<br>atp_c + mev_R_c --> adp_c + 5pmev_c + h_c<br>ctp_c + mev_R_c --> cdp_c + 5pmev_c + h_c<br>gtp_c + mev_R_c --> gdp_c + 5pmev_c + h_c<br>utp_c + mev_R_c --> udp_c + 5pmev_c + h_c<br>0.01 ptdmeeta_SC_c + amet_c --> ahcys_c + 0.01 ptd2meeta_SC_c + h_c<br>dhap_c --> pi_c + mthgxl_c<br>mhpglu_c + hcys_L_c --> met_L_c + hpglu_c<br>mi13456p_n + atp_n --> minohp_n + h_n + adp_n<br>atp_n + mi1345p_n --> mi13456p_n + h_n + adp_n<br>mi1456p_n + atp_n --> h_n + mi13456p_n + adp_n<br>mi145p_n + atp_n --> mi1456p_n + h_n + adp_n<br>mi145p_n + atp_n --> h_n + adp_n + mi1345p_n<br>mi145p_c <=> mi145p_n<br>h2o_c + mi1p_D_c --> inost_c + pi_c<br>g6p_c --> mi1p_D_c<br>minohp_c <=> minohp_n<br>h2o_c + 0.01 mip2c124_SC_c --> man2mi1p_D_c + cer1_24_c + h_c<br>h2o_c + 0.01 mip2c126_SC_c --> man2mi1p_D_c + h_c + cer1_26_c<br>0.01 mip2c224_SC_c + h2o_c --> cer2_24_c + man2mi1p_D_c + h_c<br>h2o_c + 0.01 mip2c226_SC_c --> man2mi1p_D_c + cer2_26_c + h_c<br>0.01 mip2c324_SC_c + h2o_c --> cer3_24_c + man2mi1p_D_c + h_c<br>0.01 mip2c326_SC_c + h2o_c --> cer3_26_c + man2mi1p_D_c + h_c<br>0.01 mipc124_SC_c + 0.01 ptd1ino_SC_c --> 0.01 12dgr_SC_c + 0.01 mip2c124_SC_c<br>0.01 mipc126_SC_c + 0.01 ptd1ino_SC_c --> 0.01 12dgr_SC_c + 0.01 mip2c126_SC_c<br>0.01 ptd1ino_SC_c + 0.01 mipc224_SC_c --> 0.01 mip2c224_SC_c + 0.01 12dgr_SC_c<br>0.01 ptd1ino_SC_c + 0.01 mipc226_SC_c --> 0.01 mip2c226_SC_c + 0.01 12dgr_SC_c<br>0.01 ptd1ino_SC_c + 0.01 mipc324_SC_c --> 0.01 mip2c324_SC_c + 0.01 12dgr_SC_c<br>0.01 ptd1ino_SC_c + 0.01 mipc326_SC_c --> 0.01 mip2c326_SC_c + 0.01 12dgr_SC_c<br>0.01 mipc124_SC_c + h2o_c --> h_c + cer1_24_c + manmi1p_D_c<br>0.01 mipc126_SC_c + h2o_c --> h_c + manmi1p_D_c + cer1_26_c<br>h2o_c + 0.01 mipc224_SC_c --> cer2_24_c + h_c + manmi1p_D_c<br>0.01 mipc226_SC_c + h2o_c --> cer2_26_c + h_c + manmi1p_D_c<br>0.01 mipc324_SC_c + h2o_c --> cer3_24_c + h_c + manmi1p_D_c<br>0.01 mipc326_SC_c + h2o_c --> cer3_26_c + h_c + manmi1p_D_c<br>gdpmann_c + 0.01 ipc124_SC_c --> gdp_c + h_c + 0.01 mipc124_SC_c<br>0.01 ipc126_SC_c + gdpmann_c --> 0.01 mipc126_SC_c + h_c + gdp_c<br>0.01 ipc224_SC_c + gdpmann_c --> gdp_c + h_c + 0.01 mipc224_SC_c<br>gdpmann_c + 0.01 ipc226_SC_c --> gdp_c + h_c + 0.01 mipc226_SC_c<br>gdpmann_c + 0.01 ipc324_SC_c --> gdp_c + h_c + 0.01 mipc324_SC_c<br>gdpmann_c + 0.01 ipc326_SC_c --> gdp_c + 0.01 mipc326_SC_c + h_c<br>mmet_e + h_e --> mmet_c + h_c<br>3mob_c + mlthf_c + h2o_c --> 2dhp_c + thf_c<br>pi_c + 5mta_c --> ade_c + 5mdr1p_c<br>h2o_c + methf_c <=> 10fthf_c + h_c<br>h2o_m + methf_m <=> 10fthf_m + h_m<br>nadp_c + mlthf_c <=> methf_c + nadph_c<br>mlthf_c + nad_c --> nadh_c + methf_c<br>mlthf_m + nadp_m <=> nadph_m + methf_m<br>nadph_c + mlthf_c + 2.0 h_c --> 5mthf_c + nadp_c<br>5mdr1p_c <=> 5mdru1p_c<br>nad_c + n4abutn_c + h2o_c --> 4aabutn_c + 2.0 h_c + nadh_c<br>nac_e <=> nac_c<br>h2o_x + nad_x --> 2.0 h_x + amp_x + nmn_x<br>nadh_c + h_c + q6_m --> q6h2_m + nad_c<br>nadh_m + q6_m + h_m --> nad_m + q6h2_m<br>atp_c + nad_c --> nadp_c + adp_c + h_c<br>nad_m + atp_m --> nadp_m + adp_m + h_m<br>h2o_c + nad_c --> adprib_c + h_c + ncam_c<br>nad_m + h2o_m --> adprib_m + ncam_m + h_m<br>nadp_c + h2o_c --> pi_c + nad_c<br>h2o_m + nadp_m --> nad_m + pi_m<br>nadp_c <=> nadp_e<br>dnad_c + nh4_c + atp_c --> ppi_c + nad_c + h_c + amp_c<br>nh4_n + dnad_n + atp_n --> amp_n + h_n + ppi_n + nad_n<br>nad_n <=> nad_c<br>prpp_c + nac_c + h_c --> nicrnt_c + ppi_c<br>prpp_m + nac_m + h_m --> nicrnt_m + ppi_m<br>na1_c + h_e <=> h_c + na1_e<br>adp_c + h2o_c --> amp_c + pi_c + h_c<br>gdp_c + h2o_c --> gmp_c + h_c + pi_c<br>gdp_g + h2o_g --> gmp_g + pi_g + h_g<br>dgdp_c + h2o_c --> pi_c + h_c + dgmp_c<br>udp_c + h2o_c --> pi_c + ump_c + h_c<br>atp_c + gdp_c <=> adp_c + gtp_c<br>atp_c + udp_c <=> adp_c + utp_c<br>atp_c + cdp_c <=> adp_c + ctp_c<br>atp_c + dtdp_c <=> adp_c + dttp_c<br>atp_c + dgdp_c <=> adp_c + dgtp_c<br>atp_c + dudp_c <=> adp_c + dutp_c<br>atp_c + dcdp_c <=> adp_c + dctp_c<br>atp_c + dadp_c <=> adp_c + datp_c<br>atp_c + idp_c <=> itp_c + adp_c<br>Nbfortyr_c --> Nbfortyr_e<br>2.0 Nfortyr_c + nadph_c + h_c --> Nbfortyr_c + nadp_c<br>nh4_e <=> nh4_c<br>nh4_c --> nh4_e<br>nh4_c <=> nh4_m<br>nh4_c <=> nh4_n<br>nh4_c <=> nh4_x<br>atp_c + nmn_c + h_c --> ppi_c + nad_c<br>nmn_m + atp_m + h_m --> nad_m + ppi_m<br>h_e + nmn_e --> nmn_c + h_c<br>nmn_c + h_c <=> nmn_m + h_m<br>nmn_c + h_c <=> h_x + nmn_x<br>h2o_c + ncam_c <=> nh4_c + nac_c<br>h2o_m + ncam_m <=> nac_m + nh4_m<br>atp_c + nicrnt_c + h_c --> dnad_c + ppi_c<br>nicrnt_m + atp_m + h_m --> dnad_m + ppi_m<br>quln_c + 2.0 h_c + prpp_c --> co2_c + ppi_c + nicrnt_c<br>prpp_m + quln_m + 2.0 h_m --> nicrnt_m + co2_m + ppi_m<br>ncam_c + amet_c --> ahcys_c + 1mncam_c<br>dump_c + h2o_c --> pi_c + duri_c<br>h2o_c + xmp_c --> xtsn_c + pi_c<br>imp_c + h2o_c --> ins_c + pi_c<br>ump_c + h2o_c --> pi_c + uri_c<br>dcmp_c + h2o_c --> pi_c + dcyt_c<br>cmp_c + h2o_c --> pi_c + cytd_c<br>dtmp_c + h2o_c --> thymd_c + pi_c<br>h2o_c + damp_c --> pi_c + dad_2_c<br>amp_c + h2o_c --> pi_c + adn_c<br>dgmp_c + h2o_c --> dgsn_c + pi_c<br>gmp_c + h2o_c --> pi_c + gsn_c<br>gtp_c + h2o_c --> gdp_c + pi_c + h_c<br>dgtp_c + h2o_c --> dgdp_c + pi_c + h_c<br>ind3acnl_c + 2.0 h2o_c --> nh4_c + ind3ac_c<br>aprop_c + 2.0 h2o_c --> nh4_c + ala_L_c<br>acybut_c + 2.0 h2o_c --> nh4_c + glu_L_c<br>o2_e <=> o2_c<br>o2_c <=> o2_r<br>o2_c <=> o2_m<br>oaa_c <=> oaa_e<br>oaa_c + h_c <=> h_m + oaa_m<br>2obut_m + coa_m + nad_m --> nadh_m + co2_m + ppcoa_m<br>cbp_c + orn_c --> pi_c + citr_L_c + h_c<br>ocdca_e --> ocdca_c<br>ocdcea_e --> ocdcea_c<br>ocdcya_e --> ocdcya_c<br>accoa_c + etoh_c --> aces_c + coa_c<br>accoa_c + iamoh_c --> iamac_c + coa_c<br>2mbtoh_c + accoa_c --> coa_c + 2mbac_c<br>accoa_c + ibutoh_c --> ibutac_c + coa_c<br>accoa_c + 2phetoh_c --> pheac_c + coa_c<br>glu_L_c + ohpb_c <=> akg_c + phthr_c<br>3c4mop_c + h_c --> co2_c + 4mop_c<br>3c4mop_m + h_m --> co2_m + 4mop_m<br>h_c + orot5p_c --> co2_c + ump_c<br>orn_c + h_c --> co2_c + ptrc_c<br>orn_c + akg_c --> glu_L_c + glu5sa_c<br>acorn_m + glu_L_m --> acglu_m + orn_m<br>orn_e + h_e <=> orn_c + h_c<br>orn_m + h_c <=> orn_c + h_m<br>ppi_c + orot5p_c <=> prpp_c + orot_c<br>oxag_m + h_m <=> 2oxoadp_m + co2_m<br>oxag_c + akg_m <=> oxag_m + akg_c<br>nad_m + 2.0 h2o_m + 1pyr5c_m --> nadh_m + glu_L_m + h_m<br>1pyr5c_c + nadph_c + 2.0 h_c --> nadp_c + pro_L_c<br>pacald_c <=> pacald_e<br>pacald_c <=> pacald_m<br>atp_c + 0.01 pa_SC_c --> adp_c + 0.01 dagpy_SC_c<br>pan4p_c <=> pan4p_m<br>ala_B_c + atp_c + pant_R_c --> amp_c + pnto_R_c + h_c + ppi_c<br>pant_R_c <=> pant_R_m<br>paps_c + trdrd_c --> trdox_c + 2.0 h_c + pap_c + so3_c<br>pap_e <=> pap_c<br>pap_c <=> pap_m<br>pa_SC_c <=> pa_SC_m<br>atp_c + pyr_c + hco3_c --> pi_c + h_c + adp_c + oaa_c<br>12dgr_SC_c + pc_SC_c --> triglyc_SC_c + 1agpc_SC_c<br>camp_c + h2o_c --> amp_c + h_c<br>35cdamp_c + h2o_c --> damp_c + h_c<br>35cimp_c + h2o_c --> imp_c + h_c<br>35cgmp_c + h2o_c --> gmp_c + h_c<br>35ccmp_c + h2o_c --> cmp_c + h_c<br>dhlam_m + nad_m --> nadh_m + h_m + lpam_m<br>coa_m + nad_m + pyr_m --> nadh_m + accoa_m + co2_m<br>pdx5p_c + o2_c <=> h2o2_c + pydx5p_c<br>pendp_c <=> pendp_m<br>pepd_c + accoa_c --> apep_c + h_c + coa_c<br>pepd_e + h_e --> pepd_c + h_c<br>ethamp_c + h_c + ctp_c --> cdpea_c + ppi_c<br>0.01 pe_SC_c + amet_c --> 0.01 ptdmeeta_SC_c + h_c + ahcys_c<br>pe_SC_c <=> pe_SC_g<br>pe_SC_c <=> pe_SC_m<br>pe_SC_c <=> pe_SC_v<br>atp_c + f6p_c --> adp_c + h_c + fdp_c<br>atp_c + f6p_c --> adp_c + h_c + f26bp_c<br>atp_c + tag6p_D_c --> adp_c + tagdp_D_c + h_c<br>atp_c + s7p_c --> adp_c + h_c + s17bp_c<br>gam1p_c <=> gam6p_c<br>nad_c + 3pg_c --> h_c + nadh_c + 3php_c<br>g6p_c <=> f6p_c<br>atp_c + 3pg_c <=> 13dpg_c + adp_c<br>6pgl_c + h2o_c --> 6pgc_c + h_c<br>2pg_c <=> 3pg_c<br>g1p_c <=> g6p_c<br>h2o_m + 0.01 pgp_SC_m --> 0.01 pg_SC_m + pi_m<br>nad_m + 2.0 h2o_m + 1p3h5c_m --> nadh_m + e4hglu_m + h_m<br>1p3h5c_m + h2o_m + h_m <=> 4hglusa_m<br>pheac_c --> pheac_e<br>akg_c + phe_L_c <=> glu_L_c + phpyr_c<br>atp_c + trnaphe_c + phe_L_c --> amp_c + ppi_c + phetrna_c<br>trnaphe_m + phe_L_m + atp_m --> phetrna_m + amp_m + ppi_m<br>phe_L_m + h_m <=> phe_L_c + h_c<br>phe_L_e + h_e <=> phe_L_c + h_c<br>0.01 ptd135bp_SC_c + h2o_c --> 0.01 ptd3ino_SC_c + pi_c<br>atp_c + 0.01 ptd3ino_SC_c --> 0.01 ptd134bp_SC_c + adp_c + h_c<br>atp_c + 0.01 ptd3ino_SC_c --> adp_c + 0.01 ptd135bp_SC_c + h_c<br>0.01 ptd145bp_SC_c + h2o_c --> 0.01 ptd4ino_SC_c + pi_c<br>0.01 ptd145bp_SC_c + h2o_c --> mi145p_c + 0.01 12dgr_SC_c + h_c<br>atp_c + 0.01 ptd4ino_SC_c --> 0.01 ptd145bp_SC_c + adp_c + h_c<br>atp_c + 0.01 ptd1ino_SC_c --> 0.01 ptd3ino_SC_c + adp_c + h_c<br>atp_c + 0.01 ptd1ino_SC_c --> 0.01 ptd4ino_SC_c + h_c + adp_c<br>0.01 ptd1ino_SC_n + atp_n --> 0.01 ptd4ino_SC_n + h_n + adp_n<br>inost_c + 0.01 cdpdag_SC_c --> 0.01 ptd1ino_SC_c + cmp_c + h_c<br>pi_c + h_c <=> h_m + pi_m<br>pi_c + h_c <=> pi_n + h_n<br>pi_c + h_c <=> h_x + pi_x<br>h_e + pi_e <=> pi_c + h_c<br>pi_c + h_c <=> h_v + pi_v<br>oh1_m + pi_c <=> oh1_c + pi_m<br>0.005 ptd1ino_SC_e + h2o_e --> 0.27 hdca_e + 0.24 ocdcea_e + 0.02 dca_e + 0.05 ocdca_e + 0.1 ttdca_e + h_e + 0.5 g3pi_e + 0.09 ocdcya_e + 0.06 ddca_e + 0.17 hdcea_e<br>h2o_c + 0.005 pc_SC_c --> 0.27 hdca_c + 0.02 dca_c + 0.5 g3pc_c + h_c + 0.09 ocdcya_c + 0.17 hdcea_c + 0.1 ttdca_c + 0.24 ocdcea_c + 0.06 ddca_c + 0.05 ocdca_c<br>h2o_e + 0.005 pc_SC_e --> 0.5 g3pc_e + 0.27 hdca_e + 0.02 dca_e + 0.05 ocdca_e + 0.24 ocdcea_e + 0.1 ttdca_e + h_e + 0.09 ocdcya_e + 0.06 ddca_e + 0.17 hdcea_e<br>0.01 pc_SC_c + h2o_c --> chol_c + 0.01 pa_SC_c + h_c<br>man1p_c <=> man6p_c<br>5aprbu_c + h2o_c --> 4r5au_c + pi_c<br>amet_c + 0.01 ptd2meeta_SC_c --> ahcys_c + 0.01 pc_SC_c + h_c<br>atp_c + 5pmev_c --> adp_c + 5dpmev_c<br>h2o_c + ppmi12346p_c --> pi_c + minohp_c + h_c<br>atp_c + minohp_c --> adp_c + ppmi12346p_c<br>h2o_c + ppmi1346p_c --> pi_c + mi13456p_c + h_c<br>atp_c + mi13456p_c --> adp_c + ppmi1346p_c<br>atp_c + 4ampm_c --> adp_c + 2mahmp_c<br>rnam_c + pi_c <=> r1p_c + h_c + ncam_c<br>atp_c + pnto_R_c --> adp_c + 4ppan_c + h_c<br>pnto_R_e + h_e <=> pnto_R_c + h_c<br>o2_c + h2o_c + N1aspmd_c --> aprut_c + h2o2_c + aproa_c<br>o2_c + N1sprm_c + h2o_c --> N1aspmd_c + h2o2_c + aproa_c<br>o2_c + sprm_c + h2o_c --> h2o2_c + aproa_c + spmd_c<br>ppi_c + h2o_c --> 2.0 pi_c + h_c<br>h2o_m + ppi_m --> h_m + 2.0 pi_m<br>2.0 5aop_c --> 2.0 h2o_c + h_c + ppbng_c<br>4ppcys_c + h_c --> co2_c + pan4p_c<br>atp_c + oaa_c --> co2_c + pep_c + adp_c<br>r1p_c <=> r5p_c<br>4ppan_c + ctp_c + cys_L_c --> 4ppcys_c + cmp_c + ppi_c + h_c<br>nad_c + pphn_c --> 34hpp_c + co2_c + nadh_c<br>nadp_c + pphn_c --> co2_c + 34hpp_c + nadph_c<br>pphn_c + h_c --> phpyr_c + co2_c + h2o_c<br>pppg9_c <=> pppg9_m<br>3.0 o2_m + 2.0 pppg9_m --> 6.0 h2o_m + 2.0 ppp9_m<br>pendp_m + ipdp_m --> hexdp_m + ppi_m<br>phpyr_c + h_c --> pacald_c + co2_c<br>gly_c + atp_c + pram_c <=> pi_c + h_c + gar_c + adp_c<br>atp_c + fpram_c --> pi_c + 2.0 h_c + air_c + adp_c<br>pran_c --> 2cpr5p_c<br>prbamp_c + h2o_c --> prfp_c<br>5aizc_c + atp_c + asp_L_c <=> pi_c + h_c + adp_c + 25aics_c<br>h2o_c + prbatp_c --> ppi_c + prbamp_c + h_c<br>gln_L_c + atp_c + fgam_c + h2o_c --> pi_c + h_c + glu_L_c + fpram_c + adp_c<br>prfp_c --> prlp_c<br>nad_m + pro_L_m --> nadh_m + 1pyr5c_m + 2.0 h_m<br>pro_L_c + atp_c + trnapro_c --> amp_c + protrna_c + ppi_c<br>pro_L_e + h_e <=> h_c + pro_L_c<br>pro_L_c <=> pro_L_m<br>atp_c + r5p_c <=> amp_c + prpp_c + h_c<br>prpp_c <=> prpp_m<br>pep_c + skm5p_c --> pi_c + 3psme_c<br>0.01 ps_SC_g + h_g --> 0.01 pe_SC_g + co2_g<br>h_m + 0.01 ps_SC_m --> co2_m + 0.01 pe_SC_m<br>h_v + 0.01 ps_SC_v --> co2_v + 0.01 pe_SC_v<br>0.01 cdpdag_SC_c + ser_L_c <=> cmp_c + 0.01 ps_SC_c + h_c<br>ser_L_m + 0.01 cdpdag_SC_m <=> cmp_m + h_m + 0.01 ps_SC_m<br>glu_L_c + 3php_c --> akg_c + pser_L_c<br>psph1p_c --> psph1p_r<br>psph1p_c --> ethamp_c + 2hhxdal_c<br>o2_c + h_c + sphgn_c + nadph_c --> nadp_c + h2o_c + psphings_c<br>pser_L_c + h2o_c --> ser_L_c + pi_c<br>ps_SC_c <=> ps_SC_g<br>ps_SC_c <=> ps_SC_m<br>ps_SC_c <=> ps_SC_v<br>ptd1ino_SC_c <=> ptd1ino_SC_n<br>ptd4ino_SC_c <=> ptd4ino_SC_n<br>h2o_x + dcacoa_x --> coa_x + h_x + dca_x<br>h2o_x + ddcacoa_x --> coa_x + ddca_x + h_x<br>h2o_x + ttccoa_x --> h_x + coa_x + ttc_x<br>h2o_x + pmtcoa_x --> coa_x + h_x + hdca_x<br>h2o_x + tdcoa_x --> coa_x + ttdca_x + h_x<br>h2o_x + stcoa_x --> coa_x + ocdca_x + h_x<br>h2o_x + occoa_x --> coa_x + octa_x + h_x<br>atp_c + pan4p_c + h_c --> dpcoa_c + ppi_c<br>pan4p_m + atp_m + h_m --> dpcoa_m + ppi_m<br>h_c + ptrc_e --> h_e + ptrc_c<br>ptrc_c --> ptrc_e<br>pi_c + adn_c <=> ade_c + r1p_c<br>adn_m + pi_m <=> r1p_m + ade_m<br>pi_c + dad_2_c <=> ade_c + 2dr1p_c<br>pi_c + gsn_c <=> r1p_c + gua_c<br>gsn_m + pi_m <=> r1p_m + gua_m<br>dgsn_c + pi_c <=> 2dr1p_c + gua_c<br>ins_c + pi_c <=> r1p_c + hxan_c<br>din_c + pi_c <=> 2dr1p_c + hxan_c<br>xtsn_c + pi_c <=> r1p_c + xan_c<br>pyam5p_c + o2_c + h2o_c --> nh4_c + pydx5p_c + h2o2_c<br>atp_c + pydam_c --> adp_c + pyam5p_c + h_c<br>atp_c + pydx_c --> adp_c + pydx5p_c + h_c<br>atp_c + pydxn_c --> adp_c + pdx5p_c + h_c<br>o2_c + pydxn_c <=> h2o2_c + pydx_c<br>nh4_c + 0.5 o2_c + pydx_c + 2.0 h2o_c <=> 2.0 h2o2_c + pydam_c<br>adp_c + pep_c + h_c --> atp_c + pyr_c<br>pi_c + uri_c <=> r1p_c + ura_c<br>glu5sa_m + nadp_m + h2o_m --> nadph_m + glu_L_m + 2.0 h_m<br>h_c + pyr_c --> acald_c + co2_c<br>h_c + acald_c + pyr_c --> co2_c + actn_R_c<br>pyr_c --> pyr_e<br>pyr_e + h_e --> h_c + pyr_c<br>h_c + pyr_c <=> h_m + pyr_m<br>h_c + pyr_c <=> h_x + pyr_x<br>cmusa_c --> quln_c + h_c + h2o_c<br>dhap_c + iasp_c --> quln_c + pi_c + 2.0 h2o_c<br>quln_c <=> quln_m<br>raffin_c + h2o_c --> gal_c + sucr_c<br>atp_c + ribflv_c --> adp_c + fmn_c + h_c<br>atp_m + ribflv_m --> adp_m + h_m + fmn_m<br>db4p_c + 4r5au_c --> dmlz_c + pi_c + 2.0 h2o_c<br>2.0 dmlz_c --> ribflv_c + 4r5au_c<br>atp_c + rib_D_c --> adp_c + h_c + r5p_c<br>ribflv_e + h_e --> ribflv_c + h_c<br>ribflv_c <=> ribflv_m<br>h_e + rib_D_e --> rib_D_c + h_c<br>adp_c + trdrd_c --> dadp_c + trdox_c + h2o_c<br>trdrd_n + adp_n --> dadp_n + h2o_n + trdox_n<br>gdp_c + trdrd_c --> trdox_c + dgdp_c + h2o_c<br>gdp_n + trdrd_n --> dgdp_n + h2o_n + trdox_n<br>cdp_c + trdrd_c --> trdox_c + dcdp_c + h2o_c<br>cdp_n + trdrd_n --> dcdp_n + h2o_n + trdox_n<br>udp_c + trdrd_c --> dudp_c + trdox_c + h2o_c<br>trdrd_n + udp_n --> trdox_n + dudp_n + h2o_n<br>atp_c + rnam_c --> adp_c + nmn_c + h_c<br>atp_c + trdrd_c --> datp_c + trdox_c + h2o_c<br>trdrd_c + gtp_c --> trdox_c + dgtp_c + h2o_c<br>ctp_c + trdrd_c --> trdox_c + dctp_c + h2o_c<br>utp_c + trdrd_c --> dutp_c + trdox_c + h2o_c<br>ru5p_D_c <=> xu5p_D_c<br>r5p_c <=> ru5p_D_c<br>L2aadp6sa_c + h_c + glu_L_c + nadph_c <=> saccrp_L_c + nadp_c + h2o_c<br>nad_c + saccrp_L_c + h2o_c <=> akg_c + lys_L_c + h_c + nadh_c<br>atp_c + h_c + so4_c --> aps_c + ppi_c<br>zymst_c + amet_c --> fecost_c + h_c + ahcys_c<br>sph1p_r + h2o_r --> sphgn_r + pi_r<br>h2o_r + psph1p_r --> psphings_r + pi_r<br>nad_c + sbt_D_c --> fru_c + h_c + nadh_c<br>nad_c + sbt_L_c --> srb_L_c + h_c + nadh_c<br>glc_D_c + h_c + nadph_c --> nadp_c + sbt_D_c<br>sbt_D_e <=> sbt_D_c<br>sbt_L_e <=> sbt_L_c<br>ser_L_c + accoa_c --> coa_c + acser_c<br>ser_L_c --> nh4_c + pyr_c<br>pmtcoa_c + h_c + ser_L_c --> coa_c + co2_c + 3dsphgn_c<br>trnaser_c + atp_c + ser_L_c --> amp_c + ppi_c + sertrna_c<br>ser_L_c + h_c <=> ser_L_m + h_m<br>ser_L_e + h_e <=> ser_L_c + h_c<br>h2o_c + Sfglutth_c <=> for_c + gthrd_c + h_c<br>nadp_c + dscl_c --> scl_c + h_c + nadph_c<br>scl_c + fe2_c --> 3.0 h_c + sheme_c<br>3dhsk_c + h_c + nadph_c --> skm_c + nadp_c<br>atp_c + skm_c --> adp_c + skm5p_c + h_c<br>cys_L_c + suchms_c --> succ_c + cyst_L_c + h_c<br>suchms_c + h2o_c <=> nh4_c + succ_c + h_c + 2obut_c<br>atp_c + sphgn_c --> adp_c + h_c + sph1p_c<br>atp_c + psphings_c --> psph1p_c + adp_c + h_c<br>adp_c + h_c + so4_c <=> aps_c + pi_c<br>so3_c --> so3_e<br>so4_e --> so4_c<br>sph1p_c --> sph1p_r<br>sph1p_c --> ethamp_c + hxdcal_c<br>accoa_c + spmd_c --> coa_c + h_c + N1aspmd_c<br>spmd_e + h_c --> spmd_c + h_e<br>spmd_c --> spmd_e<br>ametam_c + ptrc_c --> 5mta_c + spmd_c + h_c<br>ametam_c + spmd_c --> 5mta_c + h_c + sprm_c<br>h_c + sprm_e --> h_e + sprm_c<br>Ssq23epx_r <=> Ssq23epx_c<br>nadph_r + h_r + sql_r + o2_r --> Ssq23epx_r + nadp_r + h2o_r<br>sql_r + nadh_r + h_r + o2_r --> h2o_r + nad_r + Ssq23epx_r<br>2.0 frdp_c + h_c + nadph_c --> sql_c + nadp_c + 2.0 ppi_c<br>sql_c <=> sql_r<br>srb_L_e <=> srb_L_c<br>sucsal_c + nadp_c + h2o_c --> succ_c + 2.0 h_c + nadph_c<br>h_e + succ_e <=> succ_c + h_c<br>succ_c + pi_m --> succ_m + pi_c<br>succ_m + fad_m <=> fum_m + fadh2_m<br>succ_m + q6_m <=> fum_m + q6h2_m<br>fadh2_m + q6_m <=> fad_m + q6h2_m<br>succ_c + fum_m --> fum_c + succ_m<br>coa_m + succ_m + atp_m <=> adp_m + pi_m + succoa_m<br>sucr_e + h2o_e --> glc_D_e + fru_e<br>sucr_e + h_e --> sucr_c + h_c<br>3.0 nadp_c + h2s_c + 3.0 h2o_c <=> so3_c + 5.0 h_c + 3.0 nadph_c<br>34hpl_m --> T4hcinnm_m + h2o_m<br>0.01 triglyc_SC_c + h2o_c --> 0.27 hdca_c + 0.02 dca_c + 0.05 ocdca_c + h_c + 0.09 ocdcya_c + 0.17 hdcea_c + 0.1 ttdca_c + 0.24 ocdcea_c + 0.01 12dgr_SC_c + 0.06 ddca_c<br>s7p_c + g3p_c <=> e4p_c + f6p_c<br>akg_c + o2_c + taur_c --> succ_c + so3_c + aacald_c + h_c + co2_c<br>taur_c <=> taur_e<br>atp_v + h2o_v + tchola_c --> pi_v + adp_v + h_v + tchola_v<br>h2o_m + methf_m --> 5fthf_m + h_m<br>atp_c + glu_L_c + thf_c <=> thfglu_c + pi_c + h_c + adp_c<br>h2o2_c + trdrd_c --> trdox_c + 2.0 h2o_c<br>h2o2_m + trdrd_m <=> 2.0 h2o_m + trdox_m<br>trdrd_n + h2o2_n --> 2.0 h2o_n + trdox_n<br>h2o2_x + trdrd_x <=> 2.0 h2o_x + trdox_x<br>thmpp_e + 2.0 h2o_e --> thm_e + h_e + 2.0 pi_e<br>thymd_e + h_e --> thymd_c + h_c<br>thmmp_c + h2o_c --> pi_c + thm_c<br>thmpp_c --> thmpp_m<br>thmmp_e + h2o_e --> thm_e + pi_e<br>thm_e + h_e --> h_c + thm_c<br>athr_L_c --> gly_c + acald_c<br>thr_L_c --> acald_c + gly_c<br>thr_L_c --> nh4_c + 2obut_c<br>thr_L_m --> 2obut_m + nh4_m<br>phom_c + h2o_c --> thr_L_c + pi_c<br>atp_c + trnathr_c + thr_L_c --> amp_c + ppi_c + thrtrna_c<br>trnathr_m + thr_L_m + atp_m --> amp_m + thrtrna_m + ppi_m<br>thr_L_c + h_c <=> h_m + thr_L_m<br>h_e + thr_L_e <=> thr_L_c + h_c<br>thym_c + h_e <=> thym_e + h_c<br>gly_c + h_c + achms_c + xu5p_D_c + cys_L_c --> 4mpetz_c + co2_c + 4abut_c + pyr_c + 3.0 h2o_c + nh4_c + ac_c<br>gly_c + h_c + achms_c + r5p_c + cys_L_c --> 4mpetz_c + co2_c + 4abut_c + pyr_c + 3.0 h2o_c + nh4_c + ac_c<br>xu5p_D_c + r5p_c <=> s7p_c + g3p_c<br>xu5p_D_c + e4p_c <=> g3p_c + f6p_c<br>atp_c + thymd_c --> dtmp_c + adp_c + h_c<br>atp_c + thm_c --> amp_c + thmpp_c + h_c<br>pi_c + thymd_c <=> thym_c + 2dr1p_c<br>atp_c + thmpp_c --> adp_c + thmtp_c<br>dump_c + mlthf_c --> dtmp_c + dhf_c<br>h2o_c + thm_c --> 4ahmmp_c + 4mhetz_c + h_c<br>atp_c + thmmp_c <=> adp_c + thmpp_c<br>4mpetz_c + h_c + 2mahmp_c --> ppi_c + thmmp_c<br>dhap_c <=> g3p_c<br>trdox_c <=> trdox_x<br>nadph_c + trdox_c + h_c --> nadp_c + trdrd_c<br>trdrd_c <=> trdrd_x<br>trdox_m + h_m + nadph_m --> nadp_m + trdrd_m<br>tre6p_c + h2o_c --> tre_c + pi_c<br>udpg_c + g6p_c --> tre6p_c + udp_c + h_c<br>tre_c + h2o_c --> 2.0 glc_D_c<br>tre_v + h2o_v --> 2.0 glc_D_v<br>tre_e + h_e --> tre_c + h_c<br>tre_c + h_c <=> h_v + tre_v<br>0.02 dcacoa_c + 0.1 tdcoa_c + 0.27 pmtcoa_c + 0.06 ddcacoa_c + 0.17 hdcoa_c + 0.24 odecoa_c + 0.01 12dgr_SC_c + 0.05 stcoa_c + 0.09 ocdycacoa_c --> coa_c + 0.01 triglyc_SC_c<br>o2_c + trp_L_c --> Lfmkynr_c<br>3ig3p_c + ser_L_c --> g3p_c + trp_L_c + h2o_c<br>akg_c + trp_L_c <=> glu_L_c + indpyr_c<br>trp_L_c + trnatrp_c + atp_c --> amp_c + ppi_c + trptrna_c<br>trp_L_m + trnatrp_m + atp_m --> trptrna_m + amp_m + ppi_m<br>h_c + trp_L_c <=> trp_L_m + h_m<br>trp_L_e + h_e <=> h_c + trp_L_c<br>ttccoa_c <=> ttccoa_x<br>ttdca_e <=> ttdca_c<br>10fthf_c + tyr_L_c --> Nfortyr_c + thf_c + h_c<br>34hpp_c + glu_L_c --> akg_c + tyr_L_c<br>34hpp_m + glu_L_m --> tyr_L_m + akg_m<br>34hpp_x + glu_L_x --> tyr_L_x + akg_x<br>trnatyr_c + tyr_L_c + atp_c --> amp_c + ppi_c + tyrtrna_c<br>tyr_L_m + atp_m + trnatyr_m --> tyrtrna_m + amp_m + ppi_m<br>tyr_L_c + h_c <=> tyr_L_m + h_m<br>h_c + tyr_L_c <=> h_x + tyr_L_x<br>tyr_L_e + h_e <=> h_c + tyr_L_c<br>h_v + tyr_L_c --> tyr_L_v + h_c<br>h_v + tyr_L_v --> h_c + tyr_L_c<br>utp_c + acgam1p_c + h_c <=> ppi_c + udpacgal_c<br>udpg_c <=> udpgal_c<br>udpgal_c --> udpgal_g<br>udpg_c + gal1p_c <=> udpgal_c + g1p_c<br>2.0 h_c + urdglyc_c + h2o_c <=> 2.0 nh4_c + co2_c + glx_c<br>atp_c + ump_c <=> adp_c + udp_c<br>ump_n + atp_n <=> adp_n + udp_n<br>ump_c <=> ump_n<br>glu_L_c + 2kmb_c --> akg_c + met_L_c<br>2.0 amet_c + uppg3_c --> 2.0 ahcys_c + dscl_c + h_c<br>hmbil_c --> h2o_c + uppg3_c<br>4.0 h_c + uppg3_c --> 4.0 co2_c + cpppg3_c<br>prpp_c + ura_c --> ump_c + ppi_c<br>ura_e + h_e --> h_c + ura_c<br>urea_e + 2.0 h_e <=> urea_c + 2.0 h_c<br>atp_c + urea_c + hco3_c <=> allphn_c + pi_c + h_c + adp_c<br>atp_c + dump_c <=> adp_c + dudp_c<br>dump_n + atp_n <=> adp_n + dudp_n<br>atp_c + uri_c --> adp_c + ump_c + h_c<br>uri_c + gtp_c --> gdp_c + ump_c + h_c<br>h_e + uri_e --> h_c + uri_c<br>utp_c + 2.0 h2o_c --> 2.0 pi_c + ump_c + 2.0 h_c<br>2.0 h_c + ump_m + utp_c --> ump_c + utp_m + 2.0 h_m<br>akg_c + val_L_c <=> glu_L_c + 3mob_c<br>val_L_m + akg_m --> 3mob_m + glu_L_m<br>val_L_c + atp_c + trnaval_c --> amp_c + ppi_c + valtrna_c<br>val_L_m + atp_m + trnaval_m --> valtrna_m + amp_m + ppi_m<br>val_L_c + h_c <=> val_L_m + h_m<br>val_L_e + h_e <=> val_L_c + h_c<br>xan_e <=> xan_c<br>prpp_c + xan_c --> ppi_c + xmp_c<br>h_e + xtsn_e --> xtsn_c + h_c<br>atp_c + xylu_D_c --> adp_c + xu5p_D_c + h_c<br>xyl_D_c + nadph_c + h_c --> xylt_c + nadp_c<br>nad_c + xylt_c --> xylu_D_c + h_c + nadh_c<br>xylt_e <=> xylt_c<br>xyl_D_e <=> xyl_D_c<br>r5p_c + ura_c <=> psd5p_c + h2o_c<br>0.015 tdcoa_c + 0.01 zymst_c + 0.02 pmtcoa_c + 0.01 hexccoa_c + 0.03 stcoa_c + 0.27 odecoa_c + 0.655 hdcoa_c --> 0.01 zymstest_SC_c + coa_c<br>0.01 zymstest_SC_c + h2o_c --> 0.02 hdca_c + 0.01 zymst_c + 0.015 ttdca_c + 0.03 ocdca_c + h_c + 0.27 ocdcea_c + 0.01 hexc_c + 0.655 hdcea_c<br>h2o_e + 0.01 zymstest_SC_e --> 0.27 ocdcea_e + 0.01 hexc_e + 0.02 hdca_e + 0.01 zymst_e + 0.03 ocdca_e + 0.015 ttdca_e + 0.655 hdcea_e + h_e<br>zymst_e <=> zymst_c<br>0.046 gmp_c + 0.0663 his_L_c + 0.0036 dtmp_c + 0.1914 thr_L_c + 0.4588 ala_L_c + 0.2646 val_L_c + 0.2862 lys_L_c + 6e-05 pc_SC_c + 0.02 so4_c + 0.0036 damp_c + 0.046 amp_c + 0.2904 gly_c + 0.1647 pro_L_c + 0.2975 asp_L_c + 0.1339 phe_L_c + 6.6e-05 triglyc_SC_c + 0.0599 ump_c + 0.0024 dgmp_c + 0.3018 glu_L_c + 0.0024 dcmp_c + 0.00099 ribflv_c + 0.0447 cmp_c + 0.1607 arg_L_c + 0.102 tyr_L_c + 0.1854 ser_L_c + 0.0015 zymst_c + 0.0007 ergst_c + 0.0284 trp_L_c + 4.5e-05 pe_SC_c + 0.8079 mannan_c + 1.7e-05 ps_SC_c + 0.1054 gln_L_c + 0.0066 cys_L_c + 1.1348 13BDglcn_c + 0.0234 tre_c + 0.0507 met_L_c + 0.1927 ile_L_c + 0.5185 glycogen_c + 59.276 h2o_c + 0.2964 leu_L_c + 59.276 atp_c + 0.1017 asn_L_c + 6e-06 pa_SC_c + 5.3e-05 ptd1ino_SC_c --> 59.305 pi_c + 59.276 adp_c + 58.70001 h_c</div></td>\n",
       "</tr>\n",
       "</table>"
      ],
      "text/plain": [
       "<Proxy at 0x11a2b9188 wrapping <SolverBasedModel iMM904 at 0x11b81cf98> at 0x11b81cf98 with factory functools.partial(<function get_model_from_uminho at 0x11a288510>, 3)>"
      ]
     },
     "execution_count": 20,
     "metadata": {},
     "output_type": "execute_result"
    }
   ],
   "source": [
    "models.minho.iMM904"
   ]
  },
  {
   "cell_type": "code",
   "execution_count": null,
   "metadata": {
    "collapsed": true
   },
   "outputs": [],
   "source": []
  }
 ],
 "metadata": {
  "kernelspec": {
   "display_name": "Python 3",
   "language": "python",
   "name": "python3"
  },
  "language_info": {
   "codemirror_mode": {
    "name": "ipython",
    "version": 3
   },
   "file_extension": ".py",
   "mimetype": "text/x-python",
   "name": "python",
   "nbconvert_exporter": "python",
   "pygments_lexer": "ipython3",
   "version": "3.4.3"
  }
 },
 "nbformat": 4,
 "nbformat_minor": 0
}
