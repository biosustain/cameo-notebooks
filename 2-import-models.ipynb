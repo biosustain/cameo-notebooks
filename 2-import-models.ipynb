{
 "cells": [
  {
   "cell_type": "code",
   "execution_count": 22,
   "metadata": {
    "collapsed": false
   },
   "outputs": [],
   "source": [
    "from pandas import options\n",
    "options.display.max_rows = 8"
   ]
  },
  {
   "cell_type": "markdown",
   "metadata": {},
   "source": [
    "# Import models"
   ]
  },
  {
   "cell_type": "markdown",
   "metadata": {},
   "source": [
    "## Import models from files"
   ]
  },
  {
   "cell_type": "markdown",
   "metadata": {},
   "source": [
    "The function `~cameo.io.load_model` accepts a number of different file formats like [SBML](http://sbml.org/) (Systems Biology Markup Language) for example."
   ]
  },
  {
   "cell_type": "code",
   "execution_count": 23,
   "metadata": {
    "collapsed": false
   },
   "outputs": [],
   "source": [
    "less data/e_coli_core.xml"
   ]
  },
  {
   "cell_type": "code",
   "execution_count": 24,
   "metadata": {
    "collapsed": false
   },
   "outputs": [],
   "source": [
    "from cameo import load_model\n",
    "model = load_model('data/e_coli_core.xml')"
   ]
  },
  {
   "cell_type": "code",
   "execution_count": 25,
   "metadata": {
    "collapsed": false
   },
   "outputs": [
    {
     "data": {
      "text/html": [
       "<table>\n",
       "<tr>\n",
       "<td>Name</td>\n",
       "<td>e_coli_core</td>\n",
       "</tr>\n",
       "<tr>\n",
       "<td>Number of metabolites</td>\n",
       "<td>72</td>\n",
       "</tr>\n",
       "<tr>\n",
       "<td>Number of reactions</td>\n",
       "<td>95</td>\n",
       "</tr>\n",
       "<tr>\n",
       "<td>Reactions</td>\n",
       "<td><div style=\"width:100%; max-height:300px; overflow:auto\">acald_c + coa_c + nad_c <=> h_c + accoa_c + nadh_c<br>acald_e <=> acald_c<br>ac_c + atp_c <=> actp_c + adp_c<br>cit_c <=> h2o_c + acon_C_c<br>acon_C_c + h2o_c <=> icit_c<br>h_e + ac_e <=> h_c + ac_c<br>amp_c + atp_c <=> 2.0 adp_c<br>coa_c + nad_c + akg_c --> co2_c + succoa_c + nadh_c<br>akg_e + h_e <=> akg_c + h_c<br>etoh_c + nad_c <=> acald_c + h_c + nadh_c<br>atp_c + h2o_c --> adp_c + h_c + pi_c<br>pi_c + adp_c + 4.0 h_e <=> atp_c + 3.0 h_c + h2o_c<br>0.361 e4p_c + 13.0279 nadph_c + 4.9414 glu__L_c + 3.7478 accoa_c + 59.81 h2o_c + 0.0709 f6p_c + 1.7867 oaa_c + 0.5191 pep_c + 0.8977 r5p_c + 0.2557 gln__L_c + 59.81 atp_c + 2.8328 pyr_c + 0.129 g3p_c + 1.496 3pg_c + 0.205 g6p_c + 3.547 nad_c --> 13.0279 nadp_c + 59.81 h_c + 59.81 adp_c + 4.1182 akg_c + 59.81 pi_c + 3.7478 coa_c + 3.547 nadh_c<br>co2_e <=> co2_c<br>h2o_c + oaa_c + accoa_c --> h_c + coa_c + cit_c<br>0.5 o2_c + 2.0 h_c + q8h2_c --> q8_c + 2.0 h_e + h2o_c<br>lac__D_e + h_e <=> h_c + lac__D_c<br>2pg_c <=> h2o_c + pep_c<br>etoh_e + h_e <=> etoh_c + h_c<br>ac_e --> <br>acald_e --> <br>akg_e --> <br>co2_e <=> <br>etoh_e --> <br>for_e --> <br>fru_e --> <br>fum_e --> <br>glc__D_e <=> <br>gln__L_e --> <br>glu__L_e --> <br>h2o_e <=> <br>h_e <=> <br>lac__D_e --> <br>mal__L_e --> <br>nh4_e <=> <br>o2_e <=> <br>pi_e <=> <br>pyr_e --> <br>succ_e --> <br>fdp_c <=> dhap_c + g3p_c<br>fdp_c + h2o_c --> f6p_c + pi_c<br>for_e + h_e --> for_c + h_c<br>for_c --> for_e<br>fum_c + q8h2_c --> q8_c + succ_c<br>fru_e + pep_c --> f6p_c + pyr_c<br>fum_c + h2o_c <=> mal__L_c<br>fum_e + 2.0 h_e --> fum_c + 2.0 h_c<br>nadp_c + g6p_c <=> 6pgl_c + nadph_c + h_c<br>g3p_c + pi_c + nad_c <=> 13dpg_c + h_c + nadh_c<br>pep_c + glc__D_e --> g6p_c + pyr_c<br>atp_c + glu__L_c + nh4_c --> pi_c + gln__L_c + h_c + adp_c<br>atp_c + h2o_c + gln__L_e --> pi_c + gln__L_c + h_c + adp_c<br>nadp_c + glu__L_c + h2o_c <=> nadph_c + h_c + akg_c + nh4_c<br>gln__L_c + h2o_c --> nh4_c + glu__L_c<br>nadph_c + h_c + gln__L_c + akg_c --> nadp_c + 2.0 glu__L_c<br>h_e + glu__L_e <=> h_c + glu__L_c<br>nadp_c + 6pgc_c --> co2_c + nadph_c + ru5p__D_c<br>h2o_e <=> h2o_c<br>nadp_c + icit_c <=> akg_c + nadph_c + co2_c<br>icit_c --> succ_c + glx_c<br>nad_c + lac__D_c <=> nadh_c + h_c + pyr_c<br>glx_c + h2o_c + accoa_c --> h_c + coa_c + mal__L_c<br>2.0 h_e + mal__L_e --> 2.0 h_c + mal__L_c<br>mal__L_c + nad_c <=> nadh_c + oaa_c + h_c<br>nad_c + mal__L_c --> co2_c + pyr_c + nadh_c<br>nadp_c + mal__L_c --> co2_c + nadph_c + pyr_c<br>q8_c + 4.0 h_c + nadh_c --> q8h2_c + nad_c + 3.0 h_e<br>nadph_c + nad_c --> nadp_c + nadh_c<br>nh4_e <=> nh4_c<br>o2_e <=> o2_c<br>coa_c + pyr_c + nad_c --> co2_c + accoa_c + nadh_c<br>atp_c + f6p_c --> adp_c + h_c + fdp_c<br>coa_c + pyr_c --> accoa_c + for_c<br>g6p_c <=> f6p_c<br>3pg_c + atp_c <=> adp_c + 13dpg_c<br>6pgl_c + h2o_c --> 6pgc_c + h_c<br>2pg_c <=> 3pg_c<br>h_e + pi_e <=> h_c + pi_c<br>co2_c + h2o_c + pep_c --> h_c + oaa_c + pi_c<br>atp_c + oaa_c --> adp_c + pep_c + co2_c<br>h2o_c + atp_c + pyr_c --> amp_c + 2.0 h_c + pep_c + pi_c<br>accoa_c + pi_c <=> actp_c + coa_c<br>adp_c + pep_c + h_c --> pyr_c + atp_c<br>h_e + pyr_e <=> h_c + pyr_c<br>ru5p__D_c <=> xu5p__D_c<br>r5p_c <=> ru5p__D_c<br>succ_e + 2.0 h_e --> succ_c + 2.0 h_c<br>succ_c + h_e --> h_c + succ_e<br>succ_c + q8_c --> fum_c + q8h2_c<br>atp_c + coa_c + succ_c <=> pi_c + succoa_c + adp_c<br>g3p_c + s7p_c <=> e4p_c + f6p_c<br>nadp_c + nadh_c + 2.0 h_e --> 2.0 h_c + nadph_c + nad_c<br>xu5p__D_c + r5p_c <=> g3p_c + s7p_c<br>e4p_c + xu5p__D_c <=> f6p_c + g3p_c<br>dhap_c <=> g3p_c</div></td>\n",
       "</tr>\n",
       "</table>"
      ],
      "text/plain": [
       "<SolverBasedModel e_coli_core at 0x107d48c10>"
      ]
     },
     "execution_count": 25,
     "metadata": {},
     "output_type": "execute_result"
    }
   ],
   "source": [
    "model"
   ]
  },
  {
   "cell_type": "markdown",
   "metadata": {},
   "source": [
    "Other accepted formats include pickle (simply pickled models) and [json](https://github.com/zakandrewking/escher/blob/master/escher/jsonschema/1-0-0)."
   ]
  },
  {
   "cell_type": "markdown",
   "metadata": {},
   "source": [
    "## Import models from the internet"
   ]
  },
  {
   "cell_type": "markdown",
   "metadata": {},
   "source": [
    "In the previous quick start [chapter](1-quick-start.ipynb) we demonstrated how to use `~cameo.io.load_model` to import a model by ID. But where did the model come from? Cameo has currently access to two model repositories on the internet, http://bigg.ucsd.edu and http://darwin.di.uminho.pt/models. "
   ]
  },
  {
   "cell_type": "code",
   "execution_count": 26,
   "metadata": {
    "collapsed": false
   },
   "outputs": [],
   "source": [
    "from cameo import models"
   ]
  },
  {
   "cell_type": "code",
   "execution_count": 27,
   "metadata": {
    "collapsed": false
   },
   "outputs": [
    {
     "data": {
      "text/html": [
       "<div>\n",
       "<table border=\"1\" class=\"dataframe\">\n",
       "  <thead>\n",
       "    <tr style=\"text-align: right;\">\n",
       "      <th></th>\n",
       "      <th>bigg_id</th>\n",
       "      <th>gene_count</th>\n",
       "      <th>metabolite_count</th>\n",
       "      <th>organism</th>\n",
       "      <th>reaction_count</th>\n",
       "    </tr>\n",
       "  </thead>\n",
       "  <tbody>\n",
       "    <tr>\n",
       "      <th>0</th>\n",
       "      <td>e_coli_core</td>\n",
       "      <td>137</td>\n",
       "      <td>72</td>\n",
       "      <td>Escherichia coli str. K-12 substr. MG1655</td>\n",
       "      <td>95</td>\n",
       "    </tr>\n",
       "    <tr>\n",
       "      <th>1</th>\n",
       "      <td>iAB_RBC_283</td>\n",
       "      <td>346</td>\n",
       "      <td>342</td>\n",
       "      <td>Homo sapiens</td>\n",
       "      <td>469</td>\n",
       "    </tr>\n",
       "    <tr>\n",
       "      <th>2</th>\n",
       "      <td>iAF1260</td>\n",
       "      <td>1261</td>\n",
       "      <td>1668</td>\n",
       "      <td>Escherichia coli str. K-12 substr. MG1655</td>\n",
       "      <td>2382</td>\n",
       "    </tr>\n",
       "    <tr>\n",
       "      <th>3</th>\n",
       "      <td>iAF692</td>\n",
       "      <td>692</td>\n",
       "      <td>628</td>\n",
       "      <td>Methanosarcina barkeri str. Fusaro</td>\n",
       "      <td>690</td>\n",
       "    </tr>\n",
       "    <tr>\n",
       "      <th>...</th>\n",
       "      <td>...</td>\n",
       "      <td>...</td>\n",
       "      <td>...</td>\n",
       "      <td>...</td>\n",
       "      <td>...</td>\n",
       "    </tr>\n",
       "    <tr>\n",
       "      <th>73</th>\n",
       "      <td>iYL1228</td>\n",
       "      <td>1229</td>\n",
       "      <td>1658</td>\n",
       "      <td>Klebsiella pneumoniae subsp. pneumoniae MGH 78578</td>\n",
       "      <td>2262</td>\n",
       "    </tr>\n",
       "    <tr>\n",
       "      <th>74</th>\n",
       "      <td>iZ_1308</td>\n",
       "      <td>1308</td>\n",
       "      <td>1923</td>\n",
       "      <td>Escherichia coli O157:H7 str. EDL933</td>\n",
       "      <td>2720</td>\n",
       "    </tr>\n",
       "    <tr>\n",
       "      <th>75</th>\n",
       "      <td>RECON1</td>\n",
       "      <td>1905</td>\n",
       "      <td>2766</td>\n",
       "      <td>Homo sapiens</td>\n",
       "      <td>3741</td>\n",
       "    </tr>\n",
       "    <tr>\n",
       "      <th>76</th>\n",
       "      <td>STM_v1_0</td>\n",
       "      <td>1271</td>\n",
       "      <td>1802</td>\n",
       "      <td>Salmonella enterica subsp. enterica serovar Ty...</td>\n",
       "      <td>2545</td>\n",
       "    </tr>\n",
       "  </tbody>\n",
       "</table>\n",
       "<p>77 rows × 5 columns</p>\n",
       "</div>"
      ],
      "text/plain": [
       "        bigg_id  gene_count  metabolite_count  \\\n",
       "0   e_coli_core         137                72   \n",
       "1   iAB_RBC_283         346               342   \n",
       "2       iAF1260        1261              1668   \n",
       "3        iAF692         692               628   \n",
       "..          ...         ...               ...   \n",
       "73      iYL1228        1229              1658   \n",
       "74      iZ_1308        1308              1923   \n",
       "75       RECON1        1905              2766   \n",
       "76     STM_v1_0        1271              1802   \n",
       "\n",
       "                                             organism  reaction_count  \n",
       "0           Escherichia coli str. K-12 substr. MG1655              95  \n",
       "1                                        Homo sapiens             469  \n",
       "2           Escherichia coli str. K-12 substr. MG1655            2382  \n",
       "3                  Methanosarcina barkeri str. Fusaro             690  \n",
       "..                                                ...             ...  \n",
       "73  Klebsiella pneumoniae subsp. pneumoniae MGH 78578            2262  \n",
       "74               Escherichia coli O157:H7 str. EDL933            2720  \n",
       "75                                       Homo sapiens            3741  \n",
       "76  Salmonella enterica subsp. enterica serovar Ty...            2545  \n",
       "\n",
       "[77 rows x 5 columns]"
      ]
     },
     "execution_count": 27,
     "metadata": {},
     "output_type": "execute_result"
    }
   ],
   "source": [
    "models.index_models_bigg()"
   ]
  },
  {
   "cell_type": "code",
   "execution_count": 28,
   "metadata": {
    "collapsed": false
   },
   "outputs": [
    {
     "data": {
      "text/html": [
       "<div>\n",
       "<table border=\"1\" class=\"dataframe\">\n",
       "  <thead>\n",
       "    <tr style=\"text-align: right;\">\n",
       "      <th></th>\n",
       "      <th>id</th>\n",
       "      <th>name</th>\n",
       "      <th>doi</th>\n",
       "      <th>author</th>\n",
       "      <th>year</th>\n",
       "      <th>formats</th>\n",
       "      <th>organism</th>\n",
       "      <th>taxonomy</th>\n",
       "    </tr>\n",
       "  </thead>\n",
       "  <tbody>\n",
       "    <tr>\n",
       "      <th>0</th>\n",
       "      <td>1</td>\n",
       "      <td>iJR904</td>\n",
       "      <td>10.1186/gb-2003-4-9-r54</td>\n",
       "      <td>Reed</td>\n",
       "      <td>2003</td>\n",
       "      <td>[sbml]</td>\n",
       "      <td>Escherichia coli str. K12 substr. MG1655</td>\n",
       "      <td>Bacteria; Proteobacteria; Gammaproteobacteria;...</td>\n",
       "    </tr>\n",
       "    <tr>\n",
       "      <th>1</th>\n",
       "      <td>2</td>\n",
       "      <td>iAF1260</td>\n",
       "      <td>10.1038/msb4100155</td>\n",
       "      <td>Feist</td>\n",
       "      <td>2007</td>\n",
       "      <td>[sbml]</td>\n",
       "      <td>Escherichia coli str. K12 substr. MG1655</td>\n",
       "      <td>Bacteria; Proteobacteria; Gammaproteobacteria;...</td>\n",
       "    </tr>\n",
       "    <tr>\n",
       "      <th>2</th>\n",
       "      <td>3</td>\n",
       "      <td>iMM904</td>\n",
       "      <td>10.1186/1752-0509-3-37</td>\n",
       "      <td>Mo</td>\n",
       "      <td>2007</td>\n",
       "      <td>[sbml]</td>\n",
       "      <td>Saccharomyces cerevisiae</td>\n",
       "      <td>Eukaryota; Opisthokonta; Fungi; Dikarya; Ascom...</td>\n",
       "    </tr>\n",
       "    <tr>\n",
       "      <th>3</th>\n",
       "      <td>4</td>\n",
       "      <td>iJP815</td>\n",
       "      <td>10.1371/journal.pcbi.1000210</td>\n",
       "      <td>Puchalka</td>\n",
       "      <td>2008</td>\n",
       "      <td>[sbml]</td>\n",
       "      <td>Pseudomonas putida str. KT2440</td>\n",
       "      <td>Bacteria; Proteobacteria; Gammaproteobacteria;...</td>\n",
       "    </tr>\n",
       "    <tr>\n",
       "      <th>...</th>\n",
       "      <td>...</td>\n",
       "      <td>...</td>\n",
       "      <td>...</td>\n",
       "      <td>...</td>\n",
       "      <td>...</td>\n",
       "      <td>...</td>\n",
       "      <td>...</td>\n",
       "      <td>...</td>\n",
       "    </tr>\n",
       "    <tr>\n",
       "      <th>137</th>\n",
       "      <td>142</td>\n",
       "      <td>iPC1209</td>\n",
       "      <td>10.1016/j.febslet.2014.12.010</td>\n",
       "      <td>Cheng Wang</td>\n",
       "      <td>2015</td>\n",
       "      <td>[]</td>\n",
       "      <td>Pectobacterium carotovorum subsp. carotovorum PC1</td>\n",
       "      <td>Bacteria; Proteobacteria; Gammaproteobacteria;...</td>\n",
       "    </tr>\n",
       "    <tr>\n",
       "      <th>138</th>\n",
       "      <td>143</td>\n",
       "      <td>iNV706</td>\n",
       "      <td>10.1128/AEM.03279-14</td>\n",
       "      <td>N. Veith</td>\n",
       "      <td>2014</td>\n",
       "      <td>[]</td>\n",
       "      <td>Enterococcus faecalis V583</td>\n",
       "      <td>Bacteria; Firmicutes; Bacilli; Lactobacillales...</td>\n",
       "    </tr>\n",
       "    <tr>\n",
       "      <th>139</th>\n",
       "      <td>144</td>\n",
       "      <td>KoxGSC1457</td>\n",
       "      <td>10.1186/1475-2859-12-20</td>\n",
       "      <td>J. Park</td>\n",
       "      <td>2013</td>\n",
       "      <td>[]</td>\n",
       "      <td>Klebsiella oxytoca</td>\n",
       "      <td>Bacteria; Proteobacteria; Gammaproteobacteria;...</td>\n",
       "    </tr>\n",
       "    <tr>\n",
       "      <th>140</th>\n",
       "      <td>145</td>\n",
       "      <td>iJL846</td>\n",
       "      <td>10.1016/j.gene.2014.10.034</td>\n",
       "      <td>Jie Liu</td>\n",
       "      <td>2015</td>\n",
       "      <td>[]</td>\n",
       "      <td>Lactobacillus casei LC2W</td>\n",
       "      <td>Bacteria; Firmicutes; Bacilli; Lactobacillales...</td>\n",
       "    </tr>\n",
       "  </tbody>\n",
       "</table>\n",
       "<p>141 rows × 8 columns</p>\n",
       "</div>"
      ],
      "text/plain": [
       "      id        name                            doi      author  year formats  \\\n",
       "0      1      iJR904        10.1186/gb-2003-4-9-r54        Reed  2003  [sbml]   \n",
       "1      2     iAF1260             10.1038/msb4100155       Feist  2007  [sbml]   \n",
       "2      3      iMM904         10.1186/1752-0509-3-37          Mo  2007  [sbml]   \n",
       "3      4      iJP815   10.1371/journal.pcbi.1000210    Puchalka  2008  [sbml]   \n",
       "..   ...         ...                            ...         ...   ...     ...   \n",
       "137  142     iPC1209  10.1016/j.febslet.2014.12.010  Cheng Wang  2015      []   \n",
       "138  143      iNV706           10.1128/AEM.03279-14    N. Veith  2014      []   \n",
       "139  144  KoxGSC1457        10.1186/1475-2859-12-20     J. Park  2013      []   \n",
       "140  145      iJL846     10.1016/j.gene.2014.10.034     Jie Liu  2015      []   \n",
       "\n",
       "                                              organism  \\\n",
       "0             Escherichia coli str. K12 substr. MG1655   \n",
       "1             Escherichia coli str. K12 substr. MG1655   \n",
       "2                             Saccharomyces cerevisiae   \n",
       "3                       Pseudomonas putida str. KT2440   \n",
       "..                                                 ...   \n",
       "137  Pectobacterium carotovorum subsp. carotovorum PC1   \n",
       "138                         Enterococcus faecalis V583   \n",
       "139                                 Klebsiella oxytoca   \n",
       "140                           Lactobacillus casei LC2W   \n",
       "\n",
       "                                              taxonomy  \n",
       "0    Bacteria; Proteobacteria; Gammaproteobacteria;...  \n",
       "1    Bacteria; Proteobacteria; Gammaproteobacteria;...  \n",
       "2    Eukaryota; Opisthokonta; Fungi; Dikarya; Ascom...  \n",
       "3    Bacteria; Proteobacteria; Gammaproteobacteria;...  \n",
       "..                                                 ...  \n",
       "137  Bacteria; Proteobacteria; Gammaproteobacteria;...  \n",
       "138  Bacteria; Firmicutes; Bacilli; Lactobacillales...  \n",
       "139  Bacteria; Proteobacteria; Gammaproteobacteria;...  \n",
       "140  Bacteria; Firmicutes; Bacilli; Lactobacillales...  \n",
       "\n",
       "[141 rows x 8 columns]"
      ]
     },
     "execution_count": 28,
     "metadata": {},
     "output_type": "execute_result"
    }
   ],
   "source": [
    "models.index_models_minho()"
   ]
  },
  {
   "cell_type": "markdown",
   "metadata": {
    "collapsed": true
   },
   "source": [
    "Models from [BiGG](http://bigg.ucsd.edu) and the [University of Minho](http://darwin.di.uminho.pt/models) can conveniently be accessd via `~cameo.models.bigg` and `~cameo.models.minho` respectively."
   ]
  },
  {
   "cell_type": "code",
   "execution_count": 29,
   "metadata": {
    "collapsed": false
   },
   "outputs": [
    {
     "data": {
      "text/html": [
       "<table>\n",
       "<tr>\n",
       "<td>Name</td>\n",
       "<td>e_coli_core</td>\n",
       "</tr>\n",
       "<tr>\n",
       "<td>Number of metabolites</td>\n",
       "<td>72</td>\n",
       "</tr>\n",
       "<tr>\n",
       "<td>Number of reactions</td>\n",
       "<td>95</td>\n",
       "</tr>\n",
       "<tr>\n",
       "<td>Reactions</td>\n",
       "<td><div style=\"width:100%; max-height:300px; overflow:auto\">acald_c + coa_c + nad_c <=> h_c + accoa_c + nadh_c<br>acald_e <=> acald_c<br>ac_c + atp_c <=> actp_c + adp_c<br>cit_c <=> acon_C_c + h2o_c<br>h2o_c + acon_C_c <=> icit_c<br>h_e + ac_e <=> h_c + ac_c<br>atp_c + amp_c <=> 2.0 adp_c<br>coa_c + nad_c + akg_c --> succoa_c + co2_c + nadh_c<br>h_e + akg_e <=> h_c + akg_c<br>etoh_c + nad_c <=> acald_c + nadh_c + h_c<br>atp_c + h2o_c --> pi_c + h_c + adp_c<br>adp_c + 4.0 h_e + pi_c <=> h2o_c + 3.0 h_c + atp_c<br>0.2557 gln__L_c + 4.9414 glu__L_c + 0.361 e4p_c + 1.496 3pg_c + 0.0709 f6p_c + 1.7867 oaa_c + 0.5191 pep_c + 3.547 nad_c + 59.81 h2o_c + 13.0279 nadph_c + 2.8328 pyr_c + 3.7478 accoa_c + 59.81 atp_c + 0.129 g3p_c + 0.205 g6p_c + 0.8977 r5p_c --> 13.0279 nadp_c + 3.7478 coa_c + 59.81 h_c + 59.81 pi_c + 59.81 adp_c + 4.1182 akg_c + 3.547 nadh_c<br>co2_e <=> co2_c<br>h2o_c + oaa_c + accoa_c --> coa_c + cit_c + h_c<br>0.5 o2_c + 2.0 h_c + q8h2_c --> h2o_c + 2.0 h_e + q8_c<br>h_e + lac__D_e <=> h_c + lac__D_c<br>2pg_c <=> pep_c + h2o_c<br>h_e + etoh_e <=> h_c + etoh_c<br>ac_e --> <br>acald_e --> <br>akg_e --> <br>co2_e <=> <br>etoh_e --> <br>for_e --> <br>fru_e --> <br>fum_e --> <br>glc__D_e <=> <br>gln__L_e --> <br>glu__L_e --> <br>h2o_e <=> <br>h_e <=> <br>lac__D_e --> <br>mal__L_e --> <br>nh4_e <=> <br>o2_e <=> <br>pi_e <=> <br>pyr_e --> <br>succ_e --> <br>fdp_c <=> g3p_c + dhap_c<br>h2o_c + fdp_c --> f6p_c + pi_c<br>for_e + h_e --> h_c + for_c<br>for_c --> for_e<br>fum_c + q8h2_c --> succ_c + q8_c<br>pep_c + fru_e --> f6p_c + pyr_c<br>fum_c + h2o_c <=> mal__L_c<br>fum_e + 2.0 h_e --> fum_c + 2.0 h_c<br>g6p_c + nadp_c <=> nadph_c + 6pgl_c + h_c<br>pi_c + g3p_c + nad_c <=> 13dpg_c + h_c + nadh_c<br>pep_c + glc__D_e --> g6p_c + pyr_c<br>glu__L_c + nh4_c + atp_c --> pi_c + h_c + gln__L_c + adp_c<br>gln__L_e + atp_c + h2o_c --> pi_c + h_c + gln__L_c + adp_c<br>h2o_c + glu__L_c + nadp_c <=> h_c + nadph_c + akg_c + nh4_c<br>gln__L_c + h2o_c --> nh4_c + glu__L_c<br>nadph_c + gln__L_c + h_c + akg_c --> nadp_c + 2.0 glu__L_c<br>h_e + glu__L_e <=> glu__L_c + h_c<br>6pgc_c + nadp_c --> ru5p__D_c + co2_c + nadph_c<br>h2o_e <=> h2o_c<br>icit_c + nadp_c <=> akg_c + co2_c + nadph_c<br>icit_c --> succ_c + glx_c<br>lac__D_c + nad_c <=> pyr_c + nadh_c + h_c<br>glx_c + accoa_c + h2o_c --> mal__L_c + coa_c + h_c<br>2.0 h_e + mal__L_e --> mal__L_c + 2.0 h_c<br>mal__L_c + nad_c <=> nadh_c + h_c + oaa_c<br>nad_c + mal__L_c --> pyr_c + nadh_c + co2_c<br>nadp_c + mal__L_c --> nadph_c + pyr_c + co2_c<br>q8_c + 4.0 h_c + nadh_c --> q8h2_c + 3.0 h_e + nad_c<br>nadph_c + nad_c --> nadh_c + nadp_c<br>nh4_e <=> nh4_c<br>o2_e <=> o2_c<br>coa_c + pyr_c + nad_c --> co2_c + accoa_c + nadh_c<br>atp_c + f6p_c --> fdp_c + h_c + adp_c<br>coa_c + pyr_c --> for_c + accoa_c<br>g6p_c <=> f6p_c<br>atp_c + 3pg_c <=> 13dpg_c + adp_c<br>h2o_c + 6pgl_c --> 6pgc_c + h_c<br>2pg_c <=> 3pg_c<br>h_e + pi_e <=> pi_c + h_c<br>h2o_c + co2_c + pep_c --> h_c + oaa_c + pi_c<br>atp_c + oaa_c --> co2_c + adp_c + pep_c<br>pyr_c + atp_c + h2o_c --> pi_c + 2.0 h_c + amp_c + pep_c<br>pi_c + accoa_c <=> coa_c + actp_c<br>h_c + adp_c + pep_c --> atp_c + pyr_c<br>h_e + pyr_e <=> pyr_c + h_c<br>ru5p__D_c <=> xu5p__D_c<br>r5p_c <=> ru5p__D_c<br>succ_e + 2.0 h_e --> succ_c + 2.0 h_c<br>succ_c + h_e --> succ_e + h_c<br>succ_c + q8_c --> fum_c + q8h2_c<br>coa_c + succ_c + atp_c <=> succoa_c + pi_c + adp_c<br>s7p_c + g3p_c <=> f6p_c + e4p_c<br>nadp_c + 2.0 h_e + nadh_c --> nadph_c + 2.0 h_c + nad_c<br>xu5p__D_c + r5p_c <=> g3p_c + s7p_c<br>xu5p__D_c + e4p_c <=> f6p_c + g3p_c<br>dhap_c <=> g3p_c</div></td>\n",
       "</tr>\n",
       "</table>"
      ],
      "text/plain": [
       "<Proxy at 0x1047355a8 wrapping <SolverBasedModel e_coli_core at 0x10fde5150> at 0x10fde5150 with factory <functools.partial object at 0x10f8e8fc8>>"
      ]
     },
     "execution_count": 29,
     "metadata": {},
     "output_type": "execute_result"
    }
   ],
   "source": [
    "models.bigg.e_coli_core"
   ]
  },
  {
   "cell_type": "code",
   "execution_count": 30,
   "metadata": {
    "collapsed": false
   },
   "outputs": [
    {
     "data": {
      "text/html": [
       "<table>\n",
       "<tr>\n",
       "<td>Name</td>\n",
       "<td>iMM904</td>\n",
       "</tr>\n",
       "<tr>\n",
       "<td>Number of metabolites</td>\n",
       "<td>1228</td>\n",
       "</tr>\n",
       "<tr>\n",
       "<td>Number of reactions</td>\n",
       "<td>1577</td>\n",
       "</tr>\n",
       "<tr>\n",
       "<td>Reactions</td>\n",
       "<td><div style=\"width:100%; max-height:300px; overflow:auto\">13BDglcn_c + h2o_c --> glc_D_c<br>13BDglcn_e + h2o_e --> glc_D_e<br>udpg_c --> udp_c + 13BDglcn_c + h_c<br>udpg_c --> udp_c + 16BDglcn_c + h_c<br>23camp_c + h_c + h2o_c --> amp2p_c<br>2dda7p_c <=> 2dda7p_m<br>2dhp_c <=> 2dhp_m<br>h2o_c + 2doxg6p_c --> 2dglc_c + pi_c<br>2hb_c + nad_c <=> 2obut_c + h_c + nadh_c<br>2hb_e + h_e <=> h_c + 2hb_c<br>amet_m + 2hpmhmbq_m --> q6_m + ahcys_m + h_m<br>o2_m + 2hp6mp_m --> 2hp6mbq_m + h2o_m<br>2hp6mbq_m + amet_m --> ahcys_m + h_m + 2hpmmbq_m<br>2hpmmbq_m + 0.5 o2_m --> 2hpmhmbq_m<br>2mbac_c --> 2mbac_e<br>2mbald_c <=> 2mbald_e<br>2mbald_c <=> 2mbald_m<br>2mbtoh_c <=> 2mbtoh_e<br>2mbtoh_c <=> 2mbtoh_m<br>2mppal_c <=> 2mppal_e<br>2mppal_c <=> 2mppal_m<br>2obut_c <=> 2obut_m<br>2oxoadp_m --> 2oxoadp_c<br>2phetoh_e <=> 2phetoh_c<br>2phetoh_m <=> 2phetoh_c<br>34hpp_m + h_m + nadh_m --> 34hpl_m + nad_m<br>34hpp_c + o2_c --> co2_c + hgentis_c<br>34hpp_c + h_c <=> h_m + 34hpp_m<br>34hpp_c + h_c <=> h_x + 34hpp_x<br>3c3hmp_c <=> 3c3hmp_e<br>3c3hmp_c <=> 3c3hmp_m<br>3c4mop_c <=> 3c4mop_m<br>amet_m + 3dh5hpb_m --> 3hph5mb_m + ahcys_m + h_m<br>3dh5hpb_c <=> 3dh5hpb_m<br>h_c + 3dsphgn_c + nadph_c --> sphgn_c + nadp_c<br>o2_c + 3hanthrn_c --> cmusa_c + h_c<br>3hph5mb_m --> 2hp6mp_m + co2_m<br>3c2hmp_c + amet_c --> 3ipmmest_c + ahcys_c<br>3mbald_c <=> 3mbald_e<br>3mbald_c <=> 3mbald_m<br>3mob_c + h_c --> co2_c + 2mppal_c<br>3mob_c <=> 3mob_m<br>h_c + 3mop_c --> co2_c + 2mbald_c<br>3mop_e <=> 3mop_c<br>3mop_c <=> 3mop_m<br>0.5 o2_c + 3ophb_5_c --> 3dh5hpb_c<br>3ophb_5_c <=> 3ophb_5_m<br>4abutn_c <=> 4abutn_m<br>4abut_c <=> 4abut_m<br>4abz_c <=> 4abz_e<br>4abz_c <=> 4abz_m<br>4h2oglt_c <=> 4h2oglt_m<br>4h2oglt_c <=> 4h2oglt_x<br>coucoa_m + nad_m + coa_m + h2o_m --> nadh_m + 4hbzcoa_m + accoa_m + h_m<br>h2o_m + 4hbzcoa_m --> 4hbz_m + h_m + coa_m<br>4hbz_c <=> 4hbz_m<br>4hglusa_m + nad_m + h2o_m <=> nadh_m + e4hglu_m + 2.0 h_m<br>4hpro_LT_c <=> 4hpro_LT_m<br>phthr_c + h2o_c --> pi_c + 4hthr_c<br>h_c + 4mop_c --> co2_c + 3mbald_c<br>5aop_e + h_e --> h_c + 5aop_c<br>5aop_c <=> 5aop_m<br>6pgl_c <=> 6pgl_r<br>8aonn_e + h_e <=> 8aonn_c + h_c<br>h2o_c + 4aabutn_c --> 4abut_c + ac_c<br>o2_c + h2o_c + aact_c --> nh4_c + h2o2_c + mthgxl_c<br>h_c + atp_c + L2aadp_c + nadph_c --> L2aadp6sa_c + amp_c + ppi_c + nadp_c<br>atp_c + L2aadp_c + nadh_c + h_c --> nad_c + L2aadp6sa_c + ppi_c + amp_c<br>2oxoadp_c + glu_L_c <=> L2aadp_c + akg_c<br>akg_c + 4abut_c --> sucsal_c + glu_L_c<br>abt_e <=> abt_c<br>nad_m + 4abutn_m + h2o_m --> nadh_m + 2.0 h_m + 4abut_m<br>h_e + 4abut_e <=> 4abut_c + h_c<br>2.0 accoa_c --> aacoa_c + coa_c<br>2.0 accoa_m --> aacoa_m + coa_m<br>3odcoa_x + coa_x --> accoa_x + occoa_x<br>3oddcoa_x + coa_x --> accoa_x + dcacoa_x<br>coa_x + 3otdcoa_x --> accoa_x + ddcacoa_x<br>coa_x + 3ohdcoa_x --> accoa_x + tdcoa_x<br>coa_x + 3ohodcoa_x --> pmtcoa_x + accoa_x<br>coa_x + 3ohxccoa_x --> accoa_x + ttccoa_x<br>2.0 acald_c --> actn_R_c<br>acald_e <=> acald_c<br>acald_m <=> acald_c<br>accoa_c + atp_c + hco3_c <=> adp_c + malcoa_c + h_c + pi_c<br>accoa_m + hco3_m + atp_m <=> adp_m + pi_m + malcoa_m + h_m<br>accoa_c <=> accoa_n<br>aces_c --> aces_e<br>gam6p_c + accoa_c <=> acgam6p_c + h_c + coa_c<br>acgam6p_c <=> acgam1p_c<br>atp_m + acglu_m --> adp_m + acg5p_m<br>accoa_m + glu_L_m --> acglu_m + h_m + coa_m<br>h_m + pyr_m + 2obut_m --> 2ahbut_m + co2_m<br>h2o_c + iamac_c --> ac_c + h_c + iamoh_c<br>h2o_c + ibutac_c --> ac_c + h_c + ibutoh_c<br>h2o_c + aces_c --> ac_c + etoh_c + h_c<br>2.0 pyr_m + h_m --> alac_S_m + co2_m<br>accoa_m + h2o_m --> ac_m + h_m + coa_m<br>o2_x + dcacoa_x --> dc2coa_x + h2o2_x<br>o2_x + ddcacoa_x --> dd2coa_x + h2o2_x<br>o2_x + tdcoa_x --> h2o2_x + td2coa_x<br>pmtcoa_x + o2_x --> h2o2_x + hdd2coa_x<br>o2_x + stcoa_x --> h2o2_x + od2coa_x<br>o2_x + hexccoa_x --> h2o2_x + hxc2coa_x<br>ACP_c + accoa_c <=> acACP_c + coa_c<br>ACP_m + accoa_m <=> acACP_m + coa_m<br>amet_c + acon_T_c --> acon5m_c + ahcys_c<br>cit_c <=> icit_c<br>2mcit_m <=> micit_m<br>cit_m <=> icit_m<br>acg5sa_m + glu_L_m --> acorn_m + akg_m<br>fmn_e + h2o_e --> ribflv_e + pi_e<br>coa_m + h2o_m --> 2.0 h_m + pap_m + pan4p_m<br>acrn_c --> acrn_m<br>acrn_x --> acrn_c<br>atp_c + ac_c + coa_c --> accoa_c + ppi_c + amp_c<br>ac_m + coa_m + atp_m --> amp_m + accoa_m + ppi_m<br>ac_x + atp_x + coa_x --> accoa_x + ppi_x + amp_x<br>ac_e + h_e <=> ac_c + h_c<br>ac_c <=> ac_m<br>ac_c <=> ac_x<br>ac_e <=> ac_c<br>h2o_c + h_c + adn_c --> nh4_c + ins_c<br>4adcho_c --> pyr_c + h_c + 4abz_c<br>chor_c + gln_L_c --> 4adcho_c + glu_L_c<br>h2o_c + h_c + ade_c --> nh4_c + hxan_c<br>ade_e + h_e --> h_c + ade_c<br>ade_c <=> ade_m<br>h_c + nadph_c + 0.01 1agly3p_SC_c --> 0.01 1ag3p_SC_c + nadp_c<br>atp_c + amp_c <=> 2.0 adp_c<br>atp_m + amp_m <=> 2.0 adp_m<br>amp_c + gtp_c <=> gdp_c + adp_c<br>gtp_m + amp_m <=> gdp_m + adp_m<br>itp_c + amp_c <=> idp_c + adp_c<br>itp_m + amp_m <=> adp_m + idp_m<br>h_c + amet_c --> co2_c + ametam_c<br>atp_c --> camp_c + ppi_c<br>atp_c + adn_c --> h_c + amp_c + adp_c<br>adn_c + h2o_c --> ade_c + rib_D_c<br>h_e + adn_e --> adn_c + h_c<br>ade_c + prpp_c --> amp_c + ppi_c<br>atp_c + aps_c --> adp_c + paps_c + h_c<br>dcamp_c <=> fum_c + amp_c<br>25aics_c <=> aicar_c + fum_c<br>asp_L_c + gtp_c + imp_c --> gdp_c + dcamp_c + 2.0 h_c + pi_c<br>0.01 1ag3p_SC_c + 0.05 stcoa_c + 0.17 hdcoa_c + 0.09 ocdycacoa_c + 0.1 tdcoa_c + 0.24 odecoa_c + 0.27 pmtcoa_c + 0.02 dcacoa_c + 0.06 ddcacoa_c --> 0.01 pa_SC_c + coa_c<br>h_m + acg5p_m + nadph_m --> nadp_m + pi_m + acg5sa_m<br>ala_L_c + glx_c --> gly_c + pyr_c<br>ahcys_c <=> ahcys_m<br>h2o_c + ahcys_c --> adn_c + hcys_L_c<br>air_c + 2.0 h_c --> 4ahmmp_c + pi_c + gcald_c<br>ch4s_c + achms_c --> h_c + met_L_c + ac_c<br>h2s_c + achms_c --> h_c + hcys_L_c + ac_c<br>10fthf_c + aicar_c <=> fprica_c + thf_c<br>co2_c + air_c <=> h_c + 5aizc_c<br>lpam_m + akg_m + h_m <=> sdhlam_m + co2_m<br>sdhlam_m + coa_m --> succoa_m + dhlam_m<br>akg_c + mal_L_e <=> mal_L_c + akg_e<br>h_c + akg_c <=> akg_n + h_n<br>akg_e + h_e <=> h_c + akg_c<br>akg_c <=> akg_x<br>3.0 h2o_c + ahdt_c --> 2.0 h_c + 3.0 pi_c + dhnpt_c<br>succoa_m + h_m + gly_m --> coa_m + co2_m + 5aop_m<br>akg_c + ala_L_c <=> pyr_c + glu_L_c<br>ala_L_m + akg_m <=> glu_L_m + pyr_m<br>atp_c + ala_L_c + trnaala_c --> alatrna_c + ppi_c + amp_c<br>ala_L_e + h_e <=> ala_L_c + h_c<br>ala_L_m --> ala_L_c<br>h_c + glyald_c + nadph_c --> nadp_c + glyc_c<br>h_c + 2mbald_c + nadh_c --> 2mbtoh_c + nad_c<br>h_m + 2mbald_m + nadh_m --> 2mbtoh_m + nad_m<br>h_c + 2mbald_c + nadph_c --> 2mbtoh_c + nadp_c<br>h_c + nadh_c + 2mppal_c --> nad_c + ibutoh_c<br>h_m + nadh_m + 2mppal_m --> nad_m + ibutoh_m<br>h_c + nadph_c + 2mppal_c --> nadp_c + ibutoh_c<br>h_c + nadh_c + 3mbald_c --> nad_c + iamoh_c<br>h_m + nadh_m + 3mbald_m --> iamoh_m + nad_m<br>h_c + nadph_c + 3mbald_c --> nadp_c + iamoh_c<br>pacald_c + h_c + nadh_c --> 2phetoh_c + nad_c<br>h_m + nadh_m + pacald_m --> nad_m + 2phetoh_m<br>pacald_c + h_c + nadph_c --> 2phetoh_c + nadp_c<br>h_c + nadh_c + id3acald_c --> ind3eth_c + nad_c<br>h_m + nadh_m + id3acald_m --> nad_m + ind3eth_m<br>nad_c + etoh_c --> acald_c + h_c + nadh_c<br>acald_c + h_c + nadh_c --> etoh_c + nad_c<br>acald_m + h_m + nadh_m --> etoh_m + nad_m<br>nad_c + etoh_c <=> acald_c + h_c + nadh_c<br>nad_c + h2o_c + pacald_c --> nadh_c + pac_c + 2.0 h_c<br>nad_m + id3acald_m + h2o_m --> nadh_m + ind3ac_m + 2.0 h_m<br>id3acald_c + nadp_c + h2o_c --> nadph_c + 2.0 h_c + ind3ac_c<br>nadp_m + id3acald_m + h2o_m --> ind3ac_m + 2.0 h_m + nadph_m<br>h2o_c + nad_c + aproa_c --> ala_B_c + nadh_c + 2.0 h_c<br>nad_m + h2o_m + acald_m --> nadh_m + 2.0 h_m + ac_m<br>acald_c + h2o_c + nadp_c --> nadph_c + ac_c + 2.0 h_c<br>nadp_m + h2o_m + acald_m --> 2.0 h_m + ac_m + nadph_m<br>h2o_c + alltt_c <=> urdglyc_c + urea_c<br>h2o_c + alltn_c <=> alltt_c + h_c<br>alltn_e --> alltn_c<br>alltt_e --> alltt_c<br>h2o_c + allphn_c + 3.0 h_c --> 2.0 nh4_c + 2.0 co2_c<br>amet_c + 8aonn_c <=> amob_c + dann_c<br>amet_e + h_e --> h_c + amet_c<br>amet_c <=> amet_m<br>4gudbd_c + h2o_c --> nh4_c + 4gudbutn_c<br>pad_c + h2o_c --> nh4_c + pac_c<br>iad_c + h2o_c --> nh4_c + ind3ac_c<br>h_c + h2o_c + amp_c --> nh4_c + imp_c<br>h2o_c + amp_c --> ade_c + r5p_c<br>amp_n <=> amp_c<br>prpp_c + anth_c --> ppi_c + pran_c<br>gln_L_c + chor_c --> glu_L_c + h_c + anth_c + pyr_c<br>2aobut_c + h_c --> co2_c + aact_c<br>h2o_c + ap4a_c <=> 2.0 adp_c + 2.0 h_c<br>aprut_c + h2o_c + o2_c --> nh4_c + h2o2_c + n4abutn_c<br>Dara14lac_c + o2_c <=> h2o2_c + ertascb_D_c<br>nadp_c + arab_D_c --> Dara14lac_c + h_c + nadph_c<br>h_c + arab_L_c + nadph_c --> nadp_c + abt_c<br>arab_D_e <=> arab_D_c<br>arab_L_e <=> arab_L_c<br>arg_L_c + h2o_c --> urea_c + orn_c<br>argsuc_c <=> arg_L_c + fum_c<br>asp_L_c + atp_c + citr_L_c <=> argsuc_c + amp_c + h_c + ppi_c<br>trnaarg_c + atp_c + arg_L_c --> argtrna_c + ppi_c + amp_c<br>arg_L_m + trnaarg_m + atp_m --> amp_m + argtrna_m + ppi_m<br>arg_L_c + h_c <=> h_m + arg_L_m<br>h_e + arg_L_e <=> arg_L_c + h_c<br>h_v + arg_L_c --> arg_L_v + h_c<br>his_L_c + amet_c --> NPmehis_c + ahcys_c + h_c<br>nadph_c + 4pasp_c + h_c --> aspsa_c + pi_c + nadp_c<br>asn_L_c + h2o_c --> nh4_c + asp_L_c<br>asn_L_e + h2o_e --> nh4_e + asp_L_e<br>asp_L_c + h2o_c + gln_L_c + atp_c --> asn_L_c + h_c + ppi_c + amp_c + glu_L_c<br>atp_c + asn_L_c + trnaasn_c --> asntrna_c + ppi_c + amp_c<br>atp_m + asn_L_m + trnaasn_m --> amp_m + asntrna_m + ppi_m<br>h_c + asn_L_c <=> asn_L_m + h_m<br>asn_L_e + h_e <=> asn_L_c + h_c<br>asn_L_c + h_v --> asn_L_v + h_c<br>h_v + asn_L_v --> asn_L_c + h_c<br>cbp_c + asp_L_c --> pi_c + h_c + cbasp_c<br>glu_L_c + asp_L_m --> asp_L_c + glu_L_m<br>asp_L_c + glu_L_x <=> glu_L_c + asp_L_x<br>atp_c + asp_L_c --> 4pasp_c + adp_c<br>asp_L_c + fad_m --> iasp_c + h_c + fadh2_m<br>akg_c + asp_L_c <=> oaa_c + glu_L_c<br>akg_m + asp_L_m <=> glu_L_m + oaa_m<br>asp_L_x + akg_x <=> glu_L_x + oaa_x<br>asp_L_c + atp_c + trnaasp_c --> asptrna_c + ppi_c + amp_c<br>asp_L_m + trnaasp_m + atp_m --> amp_m + asptrna_m + ppi_m<br>asp_L_c + h_c <=> asp_L_m + h_m<br>asp_L_c + h_c <=> h_n + asp_L_n<br>h_e + asp_L_e <=> h_c + asp_L_c<br>asp_L_n <=> asp_L_c<br>h_v + asp_L_v --> asp_L_c + h_c<br>athr_L_c + nadp_c <=> 2aobut_c + h_c + nadph_c<br>atp_c + amp_x + h_x --> atp_x + h_c + amp_c<br>adp_c + atp_c + h_c --> pi_c + ap4a_c<br>h_c + adp_c + gtp_c --> pi_c + ap4g_c<br>h_c + gdp_c + gtp_c --> pi_c + gp4g_c<br>atp_c + 2.0 h2o_c --> 2.0 pi_c + 2.0 h_c + amp_c<br>h2o_c + atp_c --> h_c + pi_c + adp_c<br>atp_c + prpp_c --> ppi_c + prbatp_c<br>atp_c + h2o_c --> pi_c + adp_c + h_e<br>pi_g + 3.0 h_c + adp_g --> 2.0 h_g + h2o_g + atp_g<br>adp_m + pi_m + 3.0 h_c --> 2.0 h_m + h2o_m + atp_m<br>pi_v + adp_v + 3.0 h_c --> 2.0 h_v + atp_v + h2o_v<br>adp_c + h_c + atp_m --> adp_m + atp_c + h_m<br>atp_c + h_x + adp_x --> adp_c + h_c + atp_x<br>atp_c + btn_c + h_c --> btamp_c + ppi_c<br>h2o_c + pap_c --> pi_c + amp_c<br>nad_c + btd_RR_c <=> actn_R_c + h_c + nadh_c<br>btd_RR_c <=> btd_RR_e<br>btn_e + h_e --> btn_c + h_c<br>dtbt_c + s_c <=> btn_c + 2.0 h_c<br>h_c + nadph_c + 44mctr_c --> nadp_c + 44mzym_c<br>nadph_c + o2_c + ergtrol_c + h_c --> ergtetrol_c + 2.0 h2o_c + nadp_c<br>h_c + ergtrol_c + nadh_c + o2_c --> ergtetrol_c + nad_c + 2.0 h2o_c<br>h_r + ergtetrol_r + nadph_r --> nadp_r + ergst_r<br>4mzym_int1_c + nad_c --> 4mzym_int2_c + co2_c + h_c + nadh_c<br>nad_c + zym_int1_c --> co2_c + nadh_c + h_c + zym_int2_c<br>h_c + 4mzym_int2_c + nadph_c --> nadp_c + 4mzym_c<br>h_c + zym_int2_c + nadph_c --> zymst_c + nadp_c<br>3.0 nadph_c + 3.0 o2_c + 44mzym_c + 3.0 h_c --> 4mzym_int1_c + 4.0 h2o_c + 3.0 nadp_c<br>3.0 nadph_c + 4mzym_c + 3.0 h_c + 3.0 o2_c --> 4.0 h2o_c + zym_int1_c + 3.0 nadp_c<br>epist_c + nadph_c + o2_c + h_c --> ergtrol_c + 2.0 h2o_c + nadp_c<br>fecost_c --> epist_c<br>2.0 h2o2_c --> 2.0 h2o_c + o2_c<br>2.0 h2o2_x --> o2_x + 2.0 h2o_x<br>cbasp_n <=> cbasp_c<br>gln_L_c + 2.0 atp_c + hco3_c + h2o_c --> cbp_c + 2.0 adp_c + pi_c + 2.0 h_c + glu_L_c<br>cbp_c <=> cbp_n<br>2.0 focytc_m + h2o2_m --> 2.0 ficytc_m + 2.0 h2o_m<br>glyc3p_m + 0.01 cdpdag_SC_m <=> cmp_m + 0.01 pgp_SC_m + h_m<br>cdp_c <=> cdp_n<br>cer1_24_c <=> cer1_24_r<br>cer1_26_c <=> cer1_26_r<br>cer2_24_c <=> cer2_24_r<br>cer2_26_c <=> cer2_26_r<br>cer1_24_r + coa_r + h_r --> ttccoa_r + sphgn_r<br>h_r + coa_r + cer1_26_r --> sphgn_r + hexccoa_r<br>h_r + cer2_24_r + coa_r --> psphings_r + ttccoa_r<br>h_r + coa_r + cer2_26_r --> psphings_r + hexccoa_r<br>nadph_c + o2_c + h_c + cer1_24_c --> cer2_24_c + nadp_c + h2o_c<br>nadph_c + cer1_26_c + o2_c + h_c --> cer2_26_c + h2o_c + nadp_c<br>ttccoa_c + sphgn_c --> coa_c + cer1_24_c + h_c<br>ttccoa_r + sphgn_r --> coa_r + cer1_24_r + h_r<br>hexccoa_c + sphgn_c --> cer1_26_c + h_c + coa_c<br>sphgn_r + hexccoa_r --> cer1_26_r + h_r + coa_r<br>ttccoa_c + psphings_c --> cer2_24_c + h_c + coa_c<br>ttccoa_r + psphings_r --> h_r + coa_r + cer2_24_r<br>hexccoa_c + psphings_c --> cer2_26_c + h_c + coa_c<br>psphings_r + hexccoa_r --> h_r + cer2_26_r + coa_r<br>cer1_24_c + h_c + o2_c + nadph_c --> cer2__24_c + nadp_c + h2o_c<br>nadph_c + cer1_26_c + o2_c + h_c --> cer2__26_c + h2o_c + nadp_c<br>cer2_24_c + nadph_c + h_c + o2_c --> cer3_24_c + nadp_c + h2o_c<br>nadph_c + o2_c + cer2_26_c + h_c --> cer3_26_c + h2o_c + nadp_c<br>h_c + cholp_c + ctp_c --> cdpchol_c + ppi_c<br>amet_c + zymst_c + o2_c --> ergtetrol_c + 2.0 h2o_c + h_c + ahcys_c<br>chol_e + h_e --> h_c + chol_c<br>chol_c + atp_c --> h_c + cholp_c + adp_c<br>chor_c --> pphn_c<br>3psme_c --> chor_c + pi_c<br>chor_c --> pyr_c + 4hbz_c<br>h2o_c + chitin_c --> ac_c + chitos_c + h_c<br>udpacgal_c --> udp_c + chitin_c + h_c<br>h_e + cit_e <=> cit_c + h_c<br>cit_c + mal_L_m <=> mal_L_c + cit_m<br>cit_x + mal_L_c <=> cit_c + mal_L_x<br>cit_c + pep_m <=> pep_c + cit_m<br>cit_c + icit_m <=> icit_c + cit_m<br>cit_c + icit_x <=> icit_c + cit_x<br>0.01 cdpdag_SC_m + 0.01 pg_SC_m --> cmp_m + 0.01 clpn_SC_m + h_m<br>cmp_c + h2o_c --> csn_c + r5p_c<br>co2_e <=> co2_c<br>co2_c <=> co2_g<br>co2_c <=> co2_m<br>co2_n <=> co2_c<br>co2_c <=> co2_x<br>co2_c <=> co2_v<br>h2o_x + coa_x --> pan4p_x + 2.0 h_x + pap_x<br>coa_c --> coa_m<br>coa_c <=> coa_n<br>T4hcinnm_m + coa_m + atp_m --> ppi_m + coucoa_m + amp_m<br>2.0 h_c + o2_c + cpppg3_c --> 2.0 co2_c + pppg9_c + 2.0 h2o_c<br>acrn_c + crn_m --> crn_c + acrn_m<br>acrn_x + crn_c --> crn_x + acrn_c<br>crn_e <=> crn_c<br>crn_m --> crn_c<br>crn_c --> crn_x<br>acrn_m + coa_m <=> accoa_m + crn_m<br>accoa_x + crn_x <=> coa_x + acrn_x<br>crn_c + accoa_c <=> acrn_c + coa_c<br>h2o_c + h_c + csn_c --> nh4_c + ura_c<br>h_e + csn_e --> csn_c + h_c<br>oaa_m + accoa_m + h2o_m --> coa_m + cit_m + h_m<br>accoa_x + oaa_x + h2o_x --> h_x + coa_x + cit_x<br>nh4_c + atp_c + utp_c --> ctp_c + adp_c + pi_c + 2.0 h_c<br>gln_L_c + atp_c + utp_c + h2o_c --> adp_c + pi_c + 2.0 h_c + ctp_c + glu_L_c<br>cmp_m + 2.0 h_c + ctp_c --> ctp_m + 2.0 h_m + cmp_c<br>6.0 h_m + o2_m + 4.0 focytc_m --> 2.0 h2o_m + 4.0 ficytc_m + 6.0 h_c<br>1.5 h_m + q6h2_m + 2.0 ficytc_m --> 2.0 focytc_m + q6_m + 1.5 h_c<br>acser_c + h2s_c --> ac_c + cys_L_c + h_c<br>h2o_c + cyst_L_c --> nh4_c + cys_L_c + 2obut_c<br>h2o_c + cyst_L_c --> nh4_c + hcys_L_c + pyr_c<br>cyst_L_x + h2o_x --> pyr_x + nh4_x + hcys_L_x<br>atp_c + cys_L_c + trnacys_c --> cystrna_c + ppi_c + amp_c<br>ser_L_c + hcys_L_c --> cyst_L_c + h2o_c<br>cyst_L_c <=> cyst_L_x<br>h_e + cys_L_e <=> cys_L_c + h_c<br>cytd_c + h2o_c + h_c --> nh4_c + uri_c<br>gtp_c + cytd_c --> gdp_c + h_c + cmp_c<br>h_e + cytd_e --> cytd_c + h_c<br>atp_c + cmp_c <=> adp_c + cdp_c<br>atp_c + dcmp_c <=> adp_c + dcdp_c<br>h2o_c + h_c + dad_2_c --> nh4_c + din_c<br>atp_c + damp_c <=> adp_c + dadp_c<br>h_e + dad_2_e --> dad_2_c + h_c<br>dadp_c <=> dadp_n<br>cdpchol_c + 0.01 12dgr_SC_c --> cmp_c + 0.01 pc_SC_c + h_c<br>0.01 pa_SC_c + h2o_c --> pi_c + 0.01 12dgr_SC_c<br>h_e + dann_e <=> dann_c + h_c<br>0.01 pa_SC_c + h_c + ctp_c <=> ppi_c + 0.01 cdpdag_SC_c<br>0.01 pa_SC_m + h_m + ctp_m <=> 0.01 cdpdag_SC_m + ppi_m<br>ru5p_D_c --> db4p_c + for_c + h_c<br>dann_c + co2_c + atp_c <=> adp_c + dtbt_c + pi_c + 3.0 h_c<br>dcdp_c <=> dcdp_n<br>h2o_c + dcmp_c + h_c <=> nh4_c + dump_c<br>h_c + h2o_c + dctp_c --> nh4_c + dutp_c<br>h2o_c + dcyt_c + h_c --> nh4_c + duri_c<br>h_e + dcyt_e --> dcyt_c + h_c<br>e4p_c + h2o_c + pep_c --> pi_c + 2dda7p_c<br>e4p_m + h2o_m + pep_m --> 2dda7p_m + pi_m<br>nadph_c + tdcoa_c + h_c + o2_c --> nadp_c + tdecoa_c + 2.0 h2o_c<br>h_c + nadph_c + o2_c + pmtcoa_c --> hdcoa_c + 2.0 h2o_c + nadp_c<br>stcoa_c + nadph_c + h_c + o2_c --> nadp_c + odecoa_c + 2.0 h2o_c<br>nadph_c + odecoa_c + h_c + o2_c --> ocdycacoa_c + nadp_c + 2.0 h2o_c<br>dgdp_c <=> dgdp_n<br>h2o_c + 6dg_c --> gal_c + glc_D_c<br>atp_c + dgmp_c <=> dgdp_c + adp_c<br>h_e + dgsn_e --> dgsn_c + h_c<br>23dhmb_m --> 3mob_m + h2o_m<br>23dhmp_m --> 3mop_m + h2o_m<br>dha_c + atp_c --> h_c + dhap_c + adp_c<br>dhap_m --> dhap_c<br>h_c + nadph_c + dhf_c --> thf_c + nadp_c<br>h_m + nadph_m + dhf_m --> thf_m + nadp_m<br>glu_L_c + atp_c + dhpt_c --> dhf_c + adp_c + h_c + pi_c<br>dhf_c <=> dhf_m<br>dhnpt_m --> h_m + 2ahhmp_m + gcald_m<br>dhnpt_c <=> dhnpt_m<br>dhor_S_c + q6_m --> orot_c + q6h2_m<br>fum_c + dhor_S_c --> orot_c + succ_c<br>o2_c + dhor_S_c --> orot_c + h2o2_c<br>h2o_c + dhor_S_c <=> cbasp_c + h_c<br>4abz_m + 2ahhmp_m --> h2o_m + dhpt_m<br>dhpt_c <=> dhpt_m<br>2dda7p_c --> 3dhq_c + pi_c<br>3dhq_c --> h2o_c + 3dhsk_c<br>sprm_c + accoa_c --> N1sprm_c + h_c + coa_c<br>h_e + din_e --> din_c + h_c<br>caphis_c + amet_c --> cmaphis_c + ahcys_c + h_c<br>3.0 h2o_c + dkmpp_c --> 2kmb_c + for_c + pi_c + 6.0 h_c<br>ipdp_c + dmpp_c --> grdp_c + ppi_c<br>h2o_c + dhpmp_c --> pi_c + dhnpt_c<br>ahdt_c + h2o_c --> dhpmp_c + h_c + ppi_c<br>dolichol_c + ctp_c --> cdp_c + h_c + dolp_c<br>dolmanp_r --> h_r + dolp_r + mannan_r<br>dolp_c + gdpmann_c --> gdp_c + dolmanp_r<br>h_c + dolp_c <=> h_r + dolp_r<br>atp_c + dpcoa_c --> adp_c + h_c + coa_c<br>dpcoa_m + atp_m --> coa_m + adp_m + h_m<br>13dpg_c <=> 23dpg_c + h_c<br>atp_c + 5dpmev_c --> ipdp_c + adp_c + co2_c + pi_c<br>h_c + nadph_c + 2dhp_c --> nadp_c + pant_R_c<br>2dhp_m + h_m + nadph_m --> pant_R_m + nadp_m<br>drib_c + atp_c --> h_c + 2dr5p_c + adp_c<br>h_c + 25dhpp_c + nadph_c --> nadp_c + 25dthpp_c<br>h2o_c + h_c + 25dthpp_c --> nh4_c + 5aprbu_c<br>atp_c + dtmp_c <=> adp_c + dtdp_c<br>dttp_e <=> dttp_c<br>dump_c <=> dump_n<br>duri_c + atp_c --> h_c + dump_c + adp_c<br>duri_c + pi_c <=> 2dr1p_c + ura_c<br>h_e + duri_e --> duri_c + h_c<br>h2o_c + dutp_c --> dump_c + h_c + ppi_c<br>spmd_c + q6_m + h2o_c --> 4abutn_c + 13dampp_c + q6h2_m<br>lac_D_c + 2.0 ficytc_m --> pyr_c + 2.0 focytc_m<br>lac_D_m + 2.0 ficytc_m --> 2.0 focytc_m + pyr_m<br>h_e + lac_D_e <=> h_c + lac_D_c<br>pyr_m + lac_D_c <=> lac_D_m + pyr_c<br>lac_D_c + h_c <=> lac_D_m + h_m<br>e4hglu_c <=> e4hglu_m<br>e4hglu_c <=> e4hglu_x<br>e4p_c <=> e4p_m<br>hxc2coa_x + h2o_x <=> 3hxccoa_x<br>3hdcoa_x <=> dc2coa_x + h2o_x<br>3hddcoa_x <=> dd2coa_x + h2o_x<br>3htdcoa_x <=> h2o_x + td2coa_x<br>3hhdcoa_x <=> hdd2coa_x + h2o_x<br>3hodcoa_x <=> od2coa_x + h2o_x<br>akg_c + e4hglu_c --> 4h2oglt_c + glu_L_c<br>e4hglu_m + akg_m --> 4h2oglt_m + glu_L_m<br>e4hglu_x + akg_x --> 4h2oglt_x + glu_L_x<br>2pg_c <=> pep_c + h2o_c<br>h2o_e + pectin_e --> galur_e<br>0.03 stcoa_c + 0.27 odecoa_c + 0.01 hexccoa_c + 0.015 tdcoa_c + 0.655 hdcoa_c + 0.01 epist_c + 0.02 pmtcoa_c --> 0.01 epistest_SC_c + coa_c<br>0.01 epistest_SC_c + h2o_c --> 0.03 ocdca_c + h_c + 0.02 hdca_c + 0.01 hexc_c + 0.01 epist_c + 0.655 hdcea_c + 0.015 ttdca_c + 0.27 ocdcea_c<br>0.01 epistest_SC_e + h2o_e --> h_e + 0.015 ttdca_e + 0.03 ocdca_e + 0.27 ocdcea_e + 0.01 epist_e + 0.655 hdcea_e + 0.01 hexc_e + 0.02 hdca_e<br>epist_e <=> epist_c<br>epm_c + h2o_c <=> gal_c + man_c<br>0.03 stcoa_c + 0.27 odecoa_c + 0.015 tdcoa_c + 0.655 hdcoa_c + 0.01 ergst_c + 0.02 pmtcoa_c + 0.01 hexccoa_c --> coa_c + 0.01 ergstest_SC_c<br>0.01 ergstest_SC_c + h2o_c --> 0.03 ocdca_c + h_c + 0.02 hdca_c + 0.01 hexc_c + 0.655 hdcea_c + 0.015 ttdca_c + 0.01 ergst_c + 0.27 ocdcea_c<br>h2o_e + 0.01 ergstest_SC_e --> h_e + 0.015 ttdca_e + 0.03 ocdca_e + 0.01 ergst_e + 0.01 hexc_e + 0.27 ocdcea_e + 0.655 hdcea_e + 0.02 hdca_e<br>udpg_c + ergst_c --> udp_c + ergst3glc_c + h_c<br>ergst_e <=> ergst_c<br>ergst_r <=> ergst_c<br>ergtetrol_c <=> ergtetrol_r<br>etha_c + atp_c --> ethamp_c + adp_c + h_c<br>cdpea_c + 0.01 12dgr_SC_c <=> cmp_c + 0.01 pe_SC_c + h_c<br>etha_e <=> etha_c<br>etoh_e <=> etoh_c<br>etoh_c <=> etoh_m<br>13BDglcn_e --> <br>2hb_e --> <br>2mbac_e --> <br>2mbald_e --> <br>2mbtoh_e --> <br>2mppal_e --> <br>2phetoh_e --> <br>3c3hmp_e --> <br>3mbald_e --> <br>3mop_e --> <br>4abut_e --> <br>4abz_e --> <br>5aop_e --> <br>8aonn_e --> <br>Nbfortyr_e --> <br>abt_e --> <br>ac_e --> <br>acald_e --> <br>aces_e --> <br>ade_e --> <br>adn_e --> <br>akg_e --> <br>ala_L_e --> <br>alltn_e --> <br>alltt_e --> <br>amet_e --> <br>arab_D_e --> <br>arab_L_e --> <br>arg_L_e --> <br>asn_L_e --> <br>asp_L_e --> <br>btd_RR_e --> <br>btn_e --> <br>chol_e --> <br>cit_e --> <br>co2_e --> <br>crn_e --> <br>csn_e --> <br>cys_L_e --> <br>cytd_e --> <br>dad_2_e --> <br>dann_e --> <br>dca_e --> <br>dcyt_e --> <br>ddca_e --> <br>dgsn_e --> <br>din_e --> <br>dttp_e --> <br>duri_e --> <br>epist_e --> <br>epistest_SC_e --> <br>ergst_e --> <br>ergstest_SC_e --> <br>etha_e --> <br>etoh_e --> <br>fe2_e <=> <br>fecost_e --> <br>fecostest_SC_e --> <br>fmn_e --> <br>for_e --> <br>fru_e --> <br>fum_e --> <br>g3pc_e --> <br>g3pi_e --> <br>gal_e --> <br>galur_e --> <br>gam6p_e --> <br>gcald_e --> <br>glc_D_e <=> <br>gln_L_e --> <br>glu_L_e --> <br>glx_e --> <br>gly_e --> <br>glyc_e --> <br>gsn_e --> <br>gthox_e --> <br>gthrd_e --> <br>gua_e --> <br>h2o_e <=> <br>h_e <=> <br>hdca_e --> <br>hdcea_e --> <br>hexc_e --> <br>his_L_e --> <br>hxan_e --> <br>iamac_e --> <br>iamoh_e --> <br>ibutac_e --> <br>ibutoh_e --> <br>id3acald_e --> <br>ile_L_e --> <br>ind3eth_e --> <br>inost_e --> <br>ins_e --> <br>k_e <=> <br>lac_D_e --> <br>lac_L_e --> <br>lanost_e --> <br>lanostest_SC_e --> <br>leu_L_e --> <br>lys_L_e --> <br>mal_L_e --> <br>malt_e --> <br>man_e --> <br>melib_e --> <br>met_L_e --> <br>mmet_e --> <br>na1_e <=> <br>nac_e --> <br>nadp_e --> <br>nh4_e <=> <br>nmn_e --> <br>o2_e <=> <br>oaa_e --> <br>ocdca_e --> <br>ocdcea_e --> <br>ocdcya_e --> <br>orn_e --> <br>pacald_e --> <br>pap_e --> <br>pc_SC_e --> <br>pectin_e --> <br>pepd_e --> <br>phe_L_e --> <br>pheac_e --> <br>pi_e <=> <br>pnto_R_e --> <br>pro_L_e --> <br>ptd1ino_SC_e --> <br>ptrc_e --> <br>pyr_e --> <br>rib_D_e --> <br>ribflv_e --> <br>sbt_D_e --> <br>sbt_L_e --> <br>ser_L_e --> <br>so3_e --> <br>so4_e <=> <br>spmd_e --> <br>sprm_e --> <br>srb_L_e --> <br>succ_e --> <br>sucr_e --> <br>taur_e --> <br>thm_e --> <br>thmmp_e --> <br>thmpp_e --> <br>thr_L_e --> <br>thym_e --> <br>thymd_e --> <br>tre_e --> <br>trp_L_e --> <br>ttdca_e --> <br>tyr_L_e --> <br>ura_e --> <br>urea_e --> <br>uri_e --> <br>val_L_e --> <br>xan_e --> <br>xtsn_e --> <br>xyl_D_e --> <br>xylt_e --> <br>zymst_e --> <br>zymstest_SC_e --> <br>dca_c --> dca_x<br>h2o_c + ddcaACP_c <=> ACP_c + ddca_c + h_c<br>ddcaACP_m --> ddcaACP_c<br>ddca_c --> ddca_x<br>myrsACP_c + h2o_c <=> h_c + ttdca_c + ACP_c<br>myrsACP_m --> myrsACP_c<br>atp_x + tdcoa_c + h2o_x --> pi_x + h_x + adp_x + tdcoa_x<br>ttdca_c --> ttdca_x<br>h2o_c + tdeACP_c <=> ACP_c + ttdcea_c + h_c<br>tdeACP_m --> tdeACP_c<br>tdecoa_c + h2o_x + atp_x --> pi_x + h_x + tdecoa_x + adp_x<br>ttdcea_c --> ttdcea_x<br>h2o_c + palmACP_c <=> ACP_c + h_c + hdca_c<br>palmACP_m --> palmACP_c<br>pmtcoa_c + h2o_x + atp_x --> pmtcoa_x + adp_x + pi_x + h_x<br>hdca_c --> hdca_x<br>hdeACP_c + h2o_c <=> h_c + hdcea_c + ACP_c<br>hdeACP_m --> hdeACP_c<br>hdcoa_c + h2o_x + atp_x --> pi_x + h_x + hdcoa_x + adp_x<br>hdcea_c --> hdcea_x<br>h2o_c + ocdcaACP_c <=> ACP_c + ocdca_c + h_c<br>ocdcaACP_m --> ocdcaACP_c<br>stcoa_c + h2o_x + atp_x --> stcoa_x + pi_x + h_x + adp_x<br>octeACP_c + h2o_c <=> h_c + ocdcea_c + ACP_c<br>octeACP_m --> octeACP_c<br>odecoa_c + h2o_x + atp_x --> pi_x + h_x + odecoa_x + adp_x<br>h2o_c + ocdcyaACP_c <=> ACP_c + ocdcya_c + h_c<br>ocdcyaACP_m --> ocdcyaACP_c<br>ocdycacoa_c + h2o_x + atp_x --> ocdycacoa_x + pi_x + h_x + adp_x<br>ttc_c --> ttc_x<br>hexc_c --> hexc_x<br>octa_c --> octa_x<br>atp_x + dca_x + coa_x <=> dcacoa_x + amp_x + ppi_x<br>ddca_x + coa_x + atp_x <=> ddcacoa_x + ppi_x + amp_x<br>atp_c + coa_c + ttdca_c <=> tdcoa_c + ppi_c + amp_c<br>atp_x + ttdca_x + coa_x <=> tdcoa_x + amp_x + ppi_x<br>atp_c + ttdcea_c + coa_c <=> tdecoa_c + ppi_c + amp_c<br>atp_x + ttdcea_x + coa_x <=> ppi_x + amp_x + tdecoa_x<br>atp_c + coa_c + hdca_c <=> pmtcoa_c + ppi_c + amp_c<br>atp_x + hdca_x + coa_x <=> pmtcoa_x + amp_x + ppi_x<br>atp_c + hdcea_c + coa_c <=> hdcoa_c + ppi_c + amp_c<br>hdcea_x + atp_x + coa_x <=> ppi_x + amp_x + hdcoa_x<br>ocdca_c + atp_c + coa_c <=> ppi_c + amp_c + stcoa_c<br>atp_c + ocdcea_c + coa_c <=> odecoa_c + ppi_c + amp_c<br>atp_c + ocdcya_c + coa_c <=> ocdycacoa_c + ppi_c + amp_c<br>atp_x + ttc_x + coa_x <=> amp_x + ttccoa_x + ppi_x<br>hexc_x + atp_x + coa_x <=> ppi_x + hexccoa_x + amp_x<br>octa_x + atp_x + coa_x <=> amp_x + occoa_x + ppi_x<br>fmn_m + fad_c --> fmn_c + fad_m<br>gthrd_c + fald_c + nad_c <=> nadh_c + Sfglutth_c + h_c<br>6.0 o2_x + 6.0 h2o_x + nadph_x + 6.0 nad_x + 6.0 coa_x + tdecoa_x --> 7.0 accoa_x + 6.0 h2o2_x + 6.0 nadh_x + nadp_x + 5.0 h_x<br>5.0 o2_x + 6.0 nad_x + 6.0 coa_x + tdecoa_x + 6.0 h2o_x --> 7.0 accoa_x + 5.0 h2o2_x + 6.0 nadh_x + 6.0 h_x<br>nadph_x + 7.0 h2o_x + 7.0 o2_x + 7.0 nad_x + 7.0 coa_x + hdcoa_x --> 8.0 accoa_x + 7.0 h2o2_x + 7.0 nadh_x + nadp_x + 6.0 h_x<br>6.0 o2_x + 7.0 nad_x + 7.0 coa_x + hdcoa_x + 7.0 h2o_x --> 8.0 accoa_x + 6.0 h2o2_x + 7.0 nadh_x + 7.0 h_x<br>8.0 o2_x + 8.0 h2o_x + nadph_x + 8.0 nad_x + 8.0 coa_x + odecoa_x --> 9.0 accoa_x + 8.0 h2o2_x + 8.0 nadh_x + nadp_x + 7.0 h_x<br>7.0 o2_x + 8.0 nad_x + 8.0 coa_x + odecoa_x + 8.0 h2o_x --> 9.0 accoa_x + 7.0 h2o2_x + 8.0 nadh_x + 8.0 h_x<br>8.0 o2_x + 8.0 h2o_x + 2.0 nadph_x + 8.0 nad_x + 8.0 coa_x + ocdycacoa_x --> 9.0 accoa_x + 8.0 h2o2_x + 8.0 nadh_x + 6.0 h_x + 2.0 nadp_x<br>7.0 o2_x + 8.0 h2o_x + nadph_x + 8.0 nad_x + 8.0 coa_x + ocdycacoa_x --> 9.0 accoa_x + 7.0 h2o2_x + 8.0 nadh_x + 7.0 h_x + nadp_x<br>6.0 o2_x + 8.0 nad_x + 8.0 coa_x + 8.0 h2o_x + ocdycacoa_x --> 9.0 accoa_x + 6.0 h2o2_x + 8.0 nadh_x + 8.0 h_x<br>3.0 o2_x + 3.0 nad_x + ttccoa_x + 3.0 coa_x + 3.0 h2o_x --> 3.0 accoa_x + 3.0 nadh_x + stcoa_x + 3.0 h2o2_x + 3.0 h_x<br>3.0 o2_x + 3.0 nad_x + occoa_x + 3.0 coa_x + 3.0 h2o_x --> 4.0 accoa_x + 3.0 nadh_x + 3.0 h2o2_x + 3.0 h_x<br>3.0 h_c + octa_c + malcoa_c + 2.0 nadph_c --> dca_c + coa_c + co2_c + h2o_c + 2.0 nadp_c<br>2.0 nadph_m + malACP_m + 3.0 h_m + ocACP_m --> ACP_m + co2_m + 2.0 nadp_m + h2o_m + dcaACP_m<br>occoa_c + 3.0 h_c + malcoa_c + 2.0 nadph_c --> coa_c + dcacoa_c + co2_c + h2o_c + 2.0 nadp_c<br>dca_c + 3.0 h_c + 2.0 nadph_c + malcoa_c --> co2_c + coa_c + h2o_c + 2.0 nadp_c + ddca_c<br>3.0 h_m + malACP_m + 2.0 nadph_m + dcaACP_m --> co2_m + 2.0 nadp_m + ACP_m + h2o_m + ddcaACP_m<br>3.0 h_c + malcoa_c + 2.0 nadph_c + dcacoa_c --> coa_c + 2.0 nadp_c + co2_c + h2o_c + ddcacoa_c<br>ddca_c + 3.0 h_c + malcoa_c + 2.0 nadph_c --> coa_c + co2_c + ttdca_c + h2o_c + 2.0 nadp_c<br>3.0 h_m + malACP_m + 2.0 nadph_m + ddcaACP_m --> myrsACP_m + co2_m + 2.0 nadp_m + ACP_m + h2o_m<br>3.0 h_c + ddcacoa_c + malcoa_c + 2.0 nadph_c --> coa_c + tdcoa_c + co2_c + h2o_c + 2.0 nadp_c<br>ddca_c + 4.0 h_c + 3.0 nadph_c + o2_c + malcoa_c --> co2_c + coa_c + 3.0 h2o_c + 3.0 nadp_c + ttdcea_c<br>4.0 h_m + 3.0 nadph_m + malACP_m + o2_m + ddcaACP_m --> co2_m + 3.0 nadp_m + ACP_m + 3.0 h2o_m + tdeACP_m<br>3.0 h_c + ttdca_c + malcoa_c + 2.0 nadph_c --> coa_c + co2_c + hdca_c + h2o_c + 2.0 nadp_c<br>myrsACP_m + 3.0 h_m + malACP_m + 2.0 nadph_m --> ACP_m + co2_m + 2.0 nadp_m + h2o_m + palmACP_m<br>3.0 h_c + 2.0 nadph_c + tdcoa_c + malcoa_c --> co2_c + coa_c + h2o_c + 2.0 nadp_c + pmtcoa_c<br>4.0 h_c + o2_c + ttdca_c + malcoa_c + 3.0 nadph_c --> coa_c + co2_c + 3.0 h2o_c + 3.0 nadp_c + hdcea_c<br>myrsACP_m + 3.0 nadph_m + malACP_m + o2_m + 4.0 h_m --> ACP_m + co2_m + 3.0 nadp_m + hdeACP_m + 3.0 h2o_m<br>3.0 h_c + malcoa_c + hdca_c + 2.0 nadph_c --> ocdca_c + coa_c + co2_c + h2o_c + 2.0 nadp_c<br>palmACP_m + 2.0 nadph_m + malACP_m + 3.0 h_m --> co2_m + 2.0 nadp_m + ACP_m + h2o_m + ocdcaACP_m<br>3.0 h_c + malcoa_c + pmtcoa_c + 2.0 nadph_c --> stcoa_c + coa_c + co2_c + h2o_c + 2.0 nadp_c<br>4.0 h_c + hdca_c + o2_c + malcoa_c + 3.0 nadph_c --> coa_c + 3.0 nadp_c + co2_c + 3.0 h2o_c + ocdcea_c<br>palmACP_m + o2_m + malACP_m + 3.0 nadph_m + 4.0 h_m --> ACP_m + co2_m + 3.0 nadp_m + 3.0 h2o_m + octeACP_m<br>palmACP_m + 2.0 o2_m + malACP_m + 4.0 nadph_m + 5.0 h_m --> ACP_m + co2_m + 4.0 nadp_m + ocdcyaACP_m + 5.0 h2o_m<br>ocdca_c + 9.0 h_c + 3.0 malcoa_c + 6.0 nadph_c --> 3.0 coa_c + ttc_c + 3.0 co2_c + 3.0 h2o_c + 6.0 nadp_c<br>3.0 h_c + ttc_c + malcoa_c + 2.0 nadph_c --> coa_c + hexc_c + co2_c + h2o_c + 2.0 nadp_c<br>9.0 h_m + acACP_m + 3.0 malACP_m + 6.0 nadph_m --> 3.0 ACP_m + 6.0 nadp_m + ocACP_m + 3.0 h2o_m + 3.0 co2_m<br>accoa_c + 9.0 h_c + 6.0 nadph_c + 3.0 malcoa_c --> 3.0 co2_c + 3.0 coa_c + 3.0 h2o_c + 6.0 nadp_c + occoa_c<br>accoa_c + 8.0 h_c + 3.0 malcoa_c + 6.0 nadph_c --> 4.0 coa_c + 6.0 nadp_c + 3.0 co2_c + 2.0 h2o_c + octa_c<br>fdp_c <=> dhap_c + g3p_c<br>f1p_c <=> dhap_c + glyald_c<br>s17bp_c <=> e4p_c + dhap_c<br>h2o_c + fdp_c --> f6p_c + pi_c<br>h2o_c + f26bp_c --> f6p_c + pi_c<br>ppp9_m + fe2_m --> 2.0 h_m + pheme_m<br>nad_c + for_c --> co2_c + nadh_c<br>q6_m + for_c + h_c --> q6h2_m + co2_c<br>fe2_e --> fe2_c<br>fe2_c --> fe2_m<br>0.03 stcoa_c + 0.655 hdcoa_c + 0.01 hexccoa_c + 0.015 tdcoa_c + 0.27 odecoa_c + 0.01 fecost_c + 0.02 pmtcoa_c --> 0.01 fecostest_SC_c + coa_c<br>h2o_c + 0.01 fecostest_SC_c --> 0.03 ocdca_c + 0.02 hdca_c + 0.01 hexc_c + 0.655 hdcea_c + 0.015 ttdca_c + h_c + 0.27 ocdcea_c + 0.01 fecost_c<br>h2o_e + 0.01 fecostest_SC_e --> h_e + 0.015 ttdca_e + 0.03 ocdca_e + 0.01 fecost_e + 0.27 ocdcea_e + 0.01 hexc_e + 0.655 hdcea_e + 0.02 hdca_e<br>fecost_e <=> fecost_c<br>fe2_m --> fe2_c<br>h2o_c + Lfmkynr_c --> h_c + Lkynr_c + for_c<br>mettrna_m + 10fthf_m --> thf_m + fmettrna_m + h_m<br>atp_c + fmn_c + h_c --> fad_c + ppi_c<br>fmn_m + h_m + atp_m --> fad_m + ppi_m<br>h_c + fmn_c + nadh_c --> nad_c + fmnh2_c<br>h_c + fmn_c + nadph_c --> nadp_c + fmnh2_c<br>4abz_m + 2ahhmd_m --> ppi_m + dhpt_m<br>for_e <=> for_c<br>for_m --> for_c<br>frdp_c <=> frdp_m<br>fum_c + fadh2_m --> fad_m + succ_c<br>fum_m + fadh2_m --> succ_m + fad_m<br>ipdp_c + frdp_c --> ggdp_c + ppi_c<br>atp_c + f1p_c --> adp_c + fdp_c + h_c<br>h_e + fru_e --> fru_c + h_c<br>atp_c + 5fthf_c --> methf_c + pi_c + adp_c<br>5fthf_m + atp_m --> adp_m + methf_m + pi_m<br>5fthf_c + atp_c + h2o_c --> adp_c + 10fthf_c + h_c + pi_c<br>for_c + atp_c + thf_c --> adp_c + pi_c + 10fthf_c<br>thf_m + for_m + atp_m --> adp_m + 10fthf_m + pi_m<br>fum_c + h2o_c <=> mal_L_c<br>h2o_c + 4fumacac_c --> acac_c + h_c + fum_c<br>h2o_m + fum_m <=> mal_L_m<br>h_e + fum_e <=> fum_c + h_c<br>m2macchitppdol_g + gdpmann_g --> m3macchitppdol_g + h_g + gdp_g<br>m3macchitppdol_g + gdpmann_g --> m4macchitppdol_g + h_g + gdp_g<br>macchitppdol_g + gdpmann_g --> h_g + gdp_g + m1macchitppdol_g<br>m1macchitppdol_g + gdpmann_g --> m2macchitppdol_g + h_g + gdp_g<br>g3pc_e <=> g3pc_c<br>h_c + nadh_c + dhap_c --> glyc3p_c + nad_c<br>dhap_m + h_m + nadh_m --> nad_m + glyc3p_m<br>glyc3p_m + fad_m --> dhap_m + fadh2_m<br>g3pi_e <=> g3pi_c<br>h2o_c + glyc3p_c --> glyc_c + pi_c<br>glu5sa_c <=> 1pyr5c_c + h_c + h2o_c<br>glu5sa_m <=> 1pyr5c_m + h_m + h2o_m<br>glu5p_c + nadph_c + h_c --> glu5sa_c + nadp_c + pi_c<br>glu5p_c + h_c + nadh_c --> nad_c + glu5sa_c + pi_c<br>h2o_c + gam6p_c --> nh4_c + f6p_c<br>g6p_c + nadp_c --> 6pgl_c + h_c + nadph_c<br>nadp_r + g6p_r --> h_r + 6pgl_r + nadph_r<br>g6p_c <=> g6p_B_c<br>g6p_B_c <=> f6p_c<br>g6p_c <=> g6p_r<br>h2o_c + 1Dgali_c <=> gal_c + inost_c<br>atp_c + gal_c --> adp_c + h_c + gal1p_c<br>h2o_c + melib_c --> glc_D_c + gal_c<br>utp_c + h_c + gal1p_c <=> udpgal_c + ppi_c<br>utp_c + g1p_c + h_c <=> udpg_c + ppi_c<br>h_e + gal_e --> gal_c + h_c<br>gam6p_e <=> gam6p_c<br>nad_c + pi_c + g3p_c <=> 13dpg_c + h_c + nadh_c<br>10fthf_c + gar_c --> thf_c + fgam_c + h_c<br>glyc3p_c + 0.17 hdcoa_c + 0.09 ocdycacoa_c + 0.1 tdcoa_c + 0.24 odecoa_c + 0.27 pmtcoa_c + 0.02 dcacoa_c + 0.06 ddcacoa_c + 0.05 stcoa_c --> 0.01 1ag3p_SC_c + coa_c<br>0.05 stcoa_c + 0.17 hdcoa_c + 0.09 ocdycacoa_c + 0.06 ddcacoa_c + 0.24 odecoa_c + dhap_c + 0.27 pmtcoa_c + 0.1 tdcoa_c + 0.02 dcacoa_c --> 0.01 1agly3p_SC_c + coa_c<br>14glun_c --> h2o_c + glycogen_c<br>gcald_e <=> gcald_c<br>gcald_c <=> gcald_m<br>h_m + gly_m + lpam_m <=> alpam_m + co2_m<br>alpam_m + thf_m --> nh4_m + mlthf_m + dhlam_m<br>dhlam_m + nad_m <=> h_m + lpam_m + nadh_m<br>h_m + lpro_m + gly_m <=> alpro_m + co2_m<br>thf_m + alpro_m --> nh4_m + dhlpro_m + mlthf_m<br>dhlpro_m + nad_m <=> h_m + lpro_m + nadh_m<br>gmp_g + gdpmann_c --> gmp_c + gdpmann_g<br>h_c + gdp_g <=> gdp_c + h_g<br>gdp_c <=> gdp_n<br>gln_L_c + f6p_c --> gam6p_c + glu_L_c<br>h2o_c + ggl_c <=> gal_c + glyc_c<br>ipdp_c + ggdp_c --> pendp_c + ppi_c<br>thf_c + ser_L_c <=> mlthf_c + h2o_c + gly_c<br>thf_m + ser_L_m <=> mlthf_m + h2o_m + gly_m<br>gmp_c + atp_c <=> gdp_c + adp_c<br>gmp_c + datp_c <=> gdp_c + dadp_c<br>h2o_c + glycogen_c --> glc_D_c<br>h2o_v + glycogen_v --> glc_D_v<br>glycogen_c --> glycogen_v<br>pi_c + glycogen_c --> g1p_c<br>udpg_c --> udp_c + glycogen_c + h_c<br>glc_D_e --> glc_D_c<br>glc_D_c <=> glc_D_v<br>nh4_c + atp_c + glu_L_c --> gln_L_c + adp_c + pi_c + h_c<br>trnagln_c + atp_c + gln_L_c --> glntrna_c + ppi_c + amp_c<br>h_c + gln_L_c <=> gln_L_n + h_n<br>h_e + gln_L_e <=> gln_L_c + h_c<br>h_v + gln_L_c --> h_c + gln_L_v<br>h_v + gln_L_v --> gln_L_c + h_c<br>tdcoa_c + glp_c --> tglp_c + coa_c<br>atp_c + glu_L_c --> adp_c + glu5p_c<br>glu_L_c + atp_c + cys_L_c --> adp_c + glucys_c + h_c + pi_c<br>glu_L_c + h_c --> co2_c + 4abut_c<br>glu_L_c + h2o_c + nad_c --> nh4_c + h_c + akg_c + nadh_c<br>nh4_c + h_c + nadph_c + akg_c --> glu_L_c + h2o_c + nadp_c<br>atp_c + glc_D_c --> adp_c + g6p_B_c + h_c<br>gln_L_c + h2o_c --> nh4_c + glu_L_c<br>h2o_c + prpp_c + gln_L_c --> glu_L_c + pram_c + ppi_c<br>gln_L_c + akg_c + h_c + nadh_c --> 2.0 glu_L_c + nad_c<br>glu_L_c + atp_c + trnaglu_c --> amp_c + ppi_c + glutrna_c<br>trnaglu_m + glu_L_m + atp_m --> amp_m + ppi_m + glutrna_m<br>h_c + glu_L_c <=> glu_L_n + h_n<br>h_e + glu_L_e <=> glu_L_c + h_c<br>oh1_m + glu_L_c --> oh1_c + glu_L_m<br>h_v + glu_L_v --> glu_L_c + h_c<br>glu_L_c --> glu_L_m<br>glx_c <=> glx_e<br>glx_c <=> glx_x<br>coa_c + 2aobut_c --> gly_c + accoa_c<br>glyc3p_c --> glyc3p_m<br>glyc_c + nadp_c --> dha_c + h_c + nadph_c<br>thf_m + nad_m + gly_m --> nadh_m + co2_m + mlthf_m + nh4_m<br>glyc_c <=> glyc_e<br>h_e + glyc_e --> glyc_c + h_c<br>udpg_c + h2o_c --> udp_c + 14glun_c + h_c<br>glyc_c + atp_c --> h_c + glyc3p_c + adp_c<br>h2o_c + lgt_S_c --> gthrd_c + h_c + lac_D_c<br>lgt_S_m + h2o_m --> gthrd_m + lac_D_m + h_m<br>gly_c + atp_c + trnagly_c --> glytrna_c + ppi_c + amp_c<br>h_c + gly_c <=> gly_m + h_m<br>h_e + gly_e <=> gly_c + h_c<br>h2o_c + atp_c + gln_L_c + xmp_c --> gmp_c + 2.0 h_c + ppi_c + amp_c + glu_L_c<br>nadp_c + 6pgc_c --> co2_c + ru5p_D_c + nadph_c<br>gsn_c + h2o_c --> gua_c + rib_D_c<br>h2o_c + g3pc_c --> chol_c + glyc3p_c + h_c<br>ipdp_c + grdp_c --> frdp_c + ppi_c<br>gsn_c + atp_c --> h_c + gmp_c + adp_c<br>h_e + gsn_e --> h_c + gsn_c<br>gsn_c + h_c <=> gsn_m + h_m<br>h_c + gthox_c + nadph_c --> nadp_c + 2.0 gthrd_c<br>gthox_e --> gthox_c<br>h_m + nadph_m + gthox_m --> 2.0 gthrd_m + nadp_m<br>h2o2_c + 2.0 gthrd_c <=> gthox_c + 2.0 h2o_c<br>h2o2_m + 2.0 gthrd_m <=> 2.0 h2o_m + gthox_m<br>gthrd_c + atp_v + h2o_v --> h_v + adp_v + gthrd_v + pi_v<br>gthrd_e --> gthrd_c<br>atp_c + gly_c + glucys_c --> gthrd_c + adp_c + h_c + pi_c<br>gthrd_c + ala_L_c --> gluala_c + cgly_c<br>gtp_c + h2o_c --> h_c + ahdt_c + for_c<br>3.0 h2o_c + gtp_c --> for_c + 2.0 h_c + 25dhpp_c + ppi_c<br>2.0 h2o_c + gtp_c --> gmp_c + 2.0 pi_c + 2.0 h_c<br>gtp_c + h_c + gdp_m --> gdp_c + gtp_m + h_m<br>h2o_c + gua_c + h_c --> nh4_c + xan_c<br>prpp_c + gua_c --> ppi_c + gmp_c<br>h_e + gua_e <=> gua_c + h_c<br>gua_c <=> gua_m<br>h2o2_c <=> h2o2_n<br>h2o_e <=> h2o_c<br>h2o_c <=> h2o_r<br>h2o_c <=> h2o_m<br>h2o_n <=> h2o_c<br>h2o_c <=> h2o_x<br>h2o_c <=> h2o_v<br>3hxccoa_x + nad_x <=> nadh_x + h_x + 3ohxccoa_x<br>3odcoa_x + nadh_x + h_x <=> nad_x + 3hdcoa_x<br>h_x + 3oddcoa_x + nadh_x <=> nad_x + 3hddcoa_x<br>h_x + nadh_x + 3otdcoa_x <=> 3htdcoa_x + nad_x<br>h_x + nadh_x + 3ohdcoa_x <=> nad_x + 3hhdcoa_x<br>h_x + nadh_x + 3ohodcoa_x <=> nad_x + 3hodcoa_x<br>h2o_m + b124tc_m <=> hicit_m<br>4hbz_m + hexdp_m --> 3ophb_5_m + ppi_m<br>accoa_m + akg_m + h2o_m --> h_m + coa_m + hcit_m<br>h2o_n + akg_n + accoa_n --> hcit_n + h_n + coa_n<br>co2_c + h2o_c <=> hco3_c + h_c<br>co2_m + h2o_m <=> hco3_m + h_m<br>co2_n + h2o_n <=> hco3_n + h_n<br>hco3_c <=> hco3_n<br>amet_c + hcys_L_c --> ahcys_c + met_L_c + h_c<br>h_c + hcys_L_c <=> h_x + hcys_L_x<br>hdca_e --> hdca_c<br>hdcea_e --> hdcea_c<br>hemeO_m + nadh_m + o2_m --> nad_m + h2o_m + hemeA_m<br>h2o_m + pheme_m + frdp_m --> ppi_m + hemeO_m<br>atp_c + 4mhetz_c --> h_c + 4mpetz_c + adp_c<br>atp_c + glc_D_c --> adp_c + h_c + g6p_c<br>man_c + atp_c --> h_c + man6p_c + adp_c<br>atp_c + fru_c --> adp_c + f6p_c + h_c<br>hexccoa_c <=> hexccoa_x<br>hexdp_c <=> hexdp_m<br>o2_c + hgentis_c --> 4mlacac_c + h_c<br>hicit_m + nad_m <=> h_m + oxag_m + nadh_m<br>histd_c + h2o_c + 2.0 nad_c --> his_L_c + 2.0 nadh_c + 3.0 h_c<br>h2o_c + hisp_c --> pi_c + histd_c<br>trnahis_c + his_L_c + atp_c --> histrna_c + ppi_c + amp_c<br>his_L_m + trnahis_m + atp_m --> amp_m + histrna_m + ppi_m<br>his_L_m + h_m <=> his_L_c + h_c<br>his_L_e + h_e <=> his_L_c + h_c<br>h_v + his_L_c --> his_L_v + h_c<br>h2o_c + hLkynr_c --> ala_L_c + 3hanthrn_c<br>4.0 ppbng_c + h2o_c --> 4.0 nh4_c + hmbil_c<br>mev_R_c + coa_c + 2.0 nadp_c <=> hmgcoa_c + 2.0 nadph_c + 2.0 h_c<br>hmgcoa_c + coa_c + h_c <=> accoa_c + aacoa_c + h2o_c<br>coa_m + h_m + hmgcoa_m <=> accoa_m + h2o_m + aacoa_m<br>hmgcoa_c <=> hmgcoa_m<br>4ahmmp_c + atp_c --> h_c + 4ampm_c + adp_c<br>atp_m + 2ahhmp_m --> h_m + amp_m + 2ahhmd_m<br>1p3h5c_c + 2.0 h_c + nadh_c --> 4hpro_LT_c + nad_c<br>2.0 h_c + 1p3h5c_c + nadph_c --> nadp_c + 4hpro_LT_c<br>4hpro_LT_m + nad_m --> 2.0 h_m + nadh_m + 1p3h5c_m<br>4hpro_LT_m + nadp_m --> 1p3h5c_m + nadph_m + 2.0 h_m<br>aspsa_c + h_c + nadh_c --> nad_c + hom_L_c<br>aspsa_c + h_c + nadph_c --> nadp_c + hom_L_c<br>hom_L_c + accoa_c <=> coa_c + achms_c<br>atp_c + hom_L_c --> adp_c + h_c + phom_c<br>imacp_c + glu_L_c --> akg_c + hisp_c<br>h_e + hxan_e <=> h_c + hxan_c<br>hxan_c + prpp_c --> imp_c + ppi_c<br>h2o_c + pyam5p_c --> pi_c + pydam_c<br>iamac_c --> iamac_e<br>iamoh_c <=> iamoh_e<br>iamoh_c <=> iamoh_m<br>ibutac_c --> ibutac_e<br>ibutoh_c <=> ibutoh_e<br>ibutoh_c <=> ibutoh_m<br>icit_m + nad_m --> nadh_m + akg_m + co2_m<br>nadp_c + icit_c --> co2_c + nadph_c + akg_c<br>icit_m + nadp_m --> akg_m + nadph_m + co2_m<br>nadp_x + icit_x --> nadph_x + co2_x + akg_x<br>icit_c --> glx_c + succ_c<br>id3acald_c <=> id3acald_e<br>id3acald_c <=> id3acald_m<br>prlp_c + gln_L_c --> glu_L_c + eig3p_c + h_c + aicar_c<br>eig3p_c --> imacp_c + h2o_c<br>2cpr5p_c + h_c --> 3ig3p_c + co2_c + h2o_c<br>akg_c + ile_L_c <=> 3mop_c + glu_L_c<br>ile_L_m + akg_m <=> 3mop_m + glu_L_m<br>atp_c + ile_L_c + trnaile_c --> iletrna_c + ppi_c + amp_c<br>ile_L_m + atp_m + trnaile_m --> ppi_m + amp_m + iletrna_m<br>h_e + ile_L_e <=> h_c + ile_L_c<br>h_v + ile_L_c --> h_c + ile_L_v<br>h_v + ile_L_v --> h_c + ile_L_c<br>ile_L_m --> ile_L_c<br>h2o_c + imp_c <=> fprica_c<br>nad_c + imp_c + h2o_c --> xmp_c + nadh_c + h_c<br>ind3ac_c <=> ind3ac_m<br>ind3eth_c <=> ind3eth_e<br>ind3eth_c <=> ind3eth_m<br>h_c + indpyr_c <=> co2_c + id3acald_c<br>ins_c + atp_c --> h_c + imp_c + adp_c<br>h_e + inost_e --> h_c + inost_c<br>h_e + ins_e --> h_c + ins_c<br>h2o_c + 0.01 ipc124_SC_c --> cer1_24_c + h_c + mi1p_D_c<br>h2o_c + 0.01 ipc126_SC_c --> cer1_26_c + h_c + mi1p_D_c<br>h2o_c + 0.01 ipc224_SC_c --> cer2_24_c + h_c + mi1p_D_c<br>h2o_c + 0.01 ipc226_SC_c --> cer2_26_c + h_c + mi1p_D_c<br>0.01 ipc324_SC_c + h2o_c --> cer3_24_c + h_c + mi1p_D_c<br>0.01 ipc326_SC_c + h2o_c --> cer3_26_c + h_c + mi1p_D_c<br>0.01 ptd1ino_SC_c + cer1_24_c --> 0.01 ipc124_SC_c + 0.01 12dgr_SC_c<br>0.01 ptd1ino_SC_c + cer1_26_c --> 0.01 ipc126_SC_c + 0.01 12dgr_SC_c<br>cer2_24_c + 0.01 ptd1ino_SC_c --> 0.01 12dgr_SC_c + 0.01 ipc224_SC_c<br>0.01 ptd1ino_SC_c + cer2_26_c --> 0.01 ipc226_SC_c + 0.01 12dgr_SC_c<br>0.01 ptd1ino_SC_c + cer3_24_c --> 0.01 ipc324_SC_c + 0.01 12dgr_SC_c<br>0.01 ptd1ino_SC_c + cer3_26_c --> 0.01 ipc326_SC_c + 0.01 12dgr_SC_c<br>ipdp_c <=> dmpp_c<br>ipdp_c <=> ipdp_m<br>3c2hmp_c + nad_c --> 3c4mop_c + h_c + nadh_c<br>3c2hmp_c <=> 2ippm_c + h2o_c<br>2ippm_c + h2o_c <=> 3c3hmp_c<br>3mob_c + h2o_c + accoa_c --> 3c3hmp_c + coa_c + h_c<br>3mob_m + accoa_m + h2o_m --> 3c3hmp_m + coa_m + h_m<br>itacon_m + coa_m + atp_m <=> itaccoa_m + adp_m + pi_m<br>alac_S_m + h_m + nadph_m --> nadp_m + 23dhmb_m<br>2ahbut_m + h_m + nadph_m --> nadp_m + 23dhmp_m<br>h2o_c + Lkynr_c --> ala_L_c + anth_c + h_c<br>nadph_c + o2_c + h_c + Lkynr_c --> hLkynr_c + nadp_c + h2o_c<br>h_e + k_e <=> h_c + k_c<br>mthgxl_c + h_c + nadph_c --> nadp_c + lald_L_c<br>0.03 stcoa_c + 0.27 odecoa_c + 0.01 lanost_c + 0.015 tdcoa_c + 0.655 hdcoa_c + 0.02 pmtcoa_c + 0.01 hexccoa_c --> 0.01 lanostest_SC_c + coa_c<br>0.01 lanostest_SC_c + h2o_c --> 0.03 ocdca_c + 0.01 lanost_c + 0.02 hdca_c + 0.01 hexc_c + 0.655 hdcea_c + h_c + 0.015 ttdca_c + 0.27 ocdcea_c<br>h2o_e + 0.01 lanostest_SC_e --> h_e + 0.015 ttdca_e + 0.03 ocdca_e + 0.27 ocdcea_e + 0.01 lanost_e + 0.01 hexc_e + 0.655 hdcea_e + 0.02 hdca_e<br>lanost_e <=> lanost_c<br>lald_L_c + nad_c + h2o_c --> 2.0 h_c + lac_L_c + nadh_c<br>h_v + Lcystin_v --> Lcystin_c + h_c<br>akg_c + leu_L_c <=> 4mop_c + glu_L_c<br>leu_L_m + akg_m <=> 4mop_m + glu_L_m<br>atp_c + leu_L_c + trnaleu_c --> leutrna_c + ppi_c + amp_c<br>leu_L_m + trnaleu_m + atp_m --> amp_m + leutrna_m + ppi_m<br>h_e + leu_L_e <=> leu_L_c + h_c<br>h_v + leu_L_c --> leu_L_v + h_c<br>h_v + leu_L_v --> leu_L_c + h_c<br>mthgxl_c + gthrd_c --> lgt_S_c<br>2.0 h_c + lanost_c + 3.0 o2_c + 3.0 nadph_c --> for_c + 44mctr_c + 4.0 h2o_c + 3.0 nadp_c<br>lanost_c + 3.0 nadh_c + 2.0 h_c + 3.0 o2_c --> for_c + 44mctr_c + 4.0 h2o_c + 3.0 nad_c<br>Ssq23epx_c --> lanost_c<br>0.05 stcoa_c + 0.24 odecoa_c + 0.02 dcacoa_c + 0.09 ocdycacoa_c + 0.01 1agpc_SC_c + 0.17 hdcoa_c + 0.27 pmtcoa_c + 0.1 tdcoa_c + 0.06 ddcacoa_c --> coa_c + 0.01 pc_SC_c<br>0.01 dagpy_SC_c + h2o_c --> pi_c + 0.01 pa_SC_c + h_c<br>ser_L_c + nadp_c <=> 2amsa_c + h_c + nadph_c<br>atp_c + trnalys_c + lys_L_c --> lystrna_c + ppi_c + amp_c<br>trnalys_m + lys_L_m + atp_m --> amp_m + lystrna_m + ppi_m<br>h_c + lys_L_c <=> h_m + lys_L_m<br>h_e + lys_L_e <=> lys_L_c + h_c<br>h_v + lys_L_c --> h_c + lys_L_v<br>lac_L_c + 2.0 ficytc_m --> pyr_c + 2.0 focytc_m<br>lac_L_e + h_e <=> lac_L_c + h_c<br>lac_L_c + h_c <=> lac_L_m + h_m<br>4mlacac_c --> 4fumacac_c<br>mal_L_x + oaa_c <=> mal_L_c + oaa_x<br>accoa_c + glx_c + h2o_c --> coa_c + mal_L_c + h_c<br>accoa_x + h2o_x + glx_x --> mal_L_x + h_x + coa_x<br>h2o_c + malt_c --> 2.0 glc_D_c<br>h_e + malt_e --> malt_c + h_c<br>h_e + mal_L_e <=> mal_L_c + h_c<br>mal_L_c + pi_m <=> pi_c + mal_L_m<br>h_c + man1p_c + gtp_c --> gdpmann_c + ppi_c<br>man6p_c <=> f6p_c<br>mannan_c <=> mannan_r<br>h_e + man_e --> h_c + man_c<br>hcit_m <=> h2o_m + b124tc_m<br>micit_m --> succ_m + pyr_m<br>oaa_m + ppcoa_m + h2o_m --> 2mcit_m + h_m + coa_m<br>ACP_c + malcoa_c <=> coa_c + malACP_c<br>ACP_m + malcoa_m <=> coa_m + malACP_m<br>mal_L_c + nad_c <=> h_c + oaa_c + nadh_c<br>nad_m + mal_L_m <=> h_m + oaa_m + nadh_m<br>nad_x + mal_L_x <=> nadh_x + h_x + oaa_x<br>5mdru1p_c --> dkmpp_c + h2o_c<br>nad_m + mal_L_m --> co2_m + nadh_m + pyr_m<br>nadp_m + mal_L_m --> co2_m + nadph_m + pyr_m<br>h_e + melib_e --> h_c + melib_c<br>h2o_c + melt_c <=> gal_c + sbt_D_c<br>atp_c + h2o_c + met_L_c --> amet_c + pi_c + ppi_c<br>cys_L_c + achms_c --> h_c + ac_c + cyst_L_c<br>hcys_L_c + 5mthf_c --> thf_c + met_L_c + h_c<br>atp_c + met_L_c + trnamet_c --> mettrna_c + ppi_c + amp_c<br>atp_m + trnamet_m + met_L_m --> amp_m + mettrna_m + ppi_m<br>h_m + met_L_m <=> h_c + met_L_c<br>h_e + met_L_e <=> met_L_c + h_c<br>mev_R_c + atp_c --> h_c + 5pmev_c + adp_c<br>mev_R_c + ctp_c --> cdp_c + 5pmev_c + h_c<br>mev_R_c + gtp_c --> gdp_c + 5pmev_c + h_c<br>utp_c + mev_R_c --> udp_c + 5pmev_c + h_c<br>amet_c + 0.01 ptdmeeta_SC_c --> 0.01 ptd2meeta_SC_c + h_c + ahcys_c<br>dhap_c --> mthgxl_c + pi_c<br>mhpglu_c + hcys_L_c --> hpglu_c + met_L_c<br>mi13456p_n + atp_n --> adp_n + minohp_n + h_n<br>mi1345p_n + atp_n --> mi13456p_n + adp_n + h_n<br>mi1456p_n + atp_n --> mi13456p_n + adp_n + h_n<br>mi145p_n + atp_n --> mi1456p_n + adp_n + h_n<br>mi145p_n + atp_n --> mi1345p_n + adp_n + h_n<br>mi145p_c <=> mi145p_n<br>h2o_c + mi1p_D_c --> pi_c + inost_c<br>g6p_c --> mi1p_D_c<br>minohp_c <=> minohp_n<br>h2o_c + 0.01 mip2c124_SC_c --> man2mi1p_D_c + h_c + cer1_24_c<br>h2o_c + 0.01 mip2c126_SC_c --> man2mi1p_D_c + h_c + cer1_26_c<br>h2o_c + 0.01 mip2c224_SC_c --> man2mi1p_D_c + h_c + cer2_24_c<br>h2o_c + 0.01 mip2c226_SC_c --> man2mi1p_D_c + h_c + cer2_26_c<br>h2o_c + 0.01 mip2c324_SC_c --> man2mi1p_D_c + h_c + cer3_24_c<br>h2o_c + 0.01 mip2c326_SC_c --> man2mi1p_D_c + h_c + cer3_26_c<br>0.01 mipc124_SC_c + 0.01 ptd1ino_SC_c --> 0.01 12dgr_SC_c + 0.01 mip2c124_SC_c<br>0.01 mipc126_SC_c + 0.01 ptd1ino_SC_c --> 0.01 12dgr_SC_c + 0.01 mip2c126_SC_c<br>0.01 mipc224_SC_c + 0.01 ptd1ino_SC_c --> 0.01 12dgr_SC_c + 0.01 mip2c224_SC_c<br>0.01 mipc226_SC_c + 0.01 ptd1ino_SC_c --> 0.01 12dgr_SC_c + 0.01 mip2c226_SC_c<br>0.01 mipc324_SC_c + 0.01 ptd1ino_SC_c --> 0.01 12dgr_SC_c + 0.01 mip2c324_SC_c<br>0.01 mipc326_SC_c + 0.01 ptd1ino_SC_c --> 0.01 12dgr_SC_c + 0.01 mip2c326_SC_c<br>0.01 mipc124_SC_c + h2o_c --> cer1_24_c + h_c + manmi1p_D_c<br>0.01 mipc126_SC_c + h2o_c --> cer1_26_c + h_c + manmi1p_D_c<br>0.01 mipc224_SC_c + h2o_c --> manmi1p_D_c + h_c + cer2_24_c<br>0.01 mipc226_SC_c + h2o_c --> cer2_26_c + h_c + manmi1p_D_c<br>0.01 mipc324_SC_c + h2o_c --> cer3_24_c + h_c + manmi1p_D_c<br>0.01 mipc326_SC_c + h2o_c --> cer3_26_c + h_c + manmi1p_D_c<br>gdpmann_c + 0.01 ipc124_SC_c --> gdp_c + 0.01 mipc124_SC_c + h_c<br>gdpmann_c + 0.01 ipc126_SC_c --> gdp_c + 0.01 mipc126_SC_c + h_c<br>gdpmann_c + 0.01 ipc224_SC_c --> gdp_c + 0.01 mipc224_SC_c + h_c<br>gdpmann_c + 0.01 ipc226_SC_c --> gdp_c + 0.01 mipc226_SC_c + h_c<br>gdpmann_c + 0.01 ipc324_SC_c --> gdp_c + 0.01 mipc324_SC_c + h_c<br>gdpmann_c + 0.01 ipc326_SC_c --> gdp_c + 0.01 mipc326_SC_c + h_c<br>mmet_e + h_e --> mmet_c + h_c<br>mlthf_c + 3mob_c + h2o_c --> thf_c + 2dhp_c<br>pi_c + 5mta_c --> 5mdr1p_c + ade_c<br>methf_c + h2o_c <=> 10fthf_c + h_c<br>h2o_m + methf_m <=> 10fthf_m + h_m<br>mlthf_c + nadp_c <=> methf_c + nadph_c<br>mlthf_c + nad_c --> methf_c + nadh_c<br>mlthf_m + nadp_m <=> methf_m + nadph_m<br>mlthf_c + 2.0 h_c + nadph_c --> nadp_c + 5mthf_c<br>5mdr1p_c <=> 5mdru1p_c<br>nad_c + n4abutn_c + h2o_c --> 2.0 h_c + nadh_c + 4aabutn_c<br>nac_e <=> nac_c<br>nad_x + h2o_x --> amp_x + 2.0 h_x + nmn_x<br>q6_m + nadh_c + h_c --> q6h2_m + nad_c<br>q6_m + nadh_m + h_m --> q6h2_m + nad_m<br>atp_c + nad_c --> adp_c + nadp_c + h_c<br>nad_m + atp_m --> adp_m + nadp_m + h_m<br>h2o_c + nad_c --> adprib_c + ncam_c + h_c<br>h2o_m + nad_m --> adprib_m + ncam_m + h_m<br>h2o_c + nadp_c --> nad_c + pi_c<br>h2o_m + nadp_m --> nad_m + pi_m<br>nadp_c <=> nadp_e<br>nh4_c + atp_c + dnad_c --> nad_c + h_c + ppi_c + amp_c<br>atp_n + dnad_n + nh4_n --> ppi_n + amp_n + nad_n + h_n<br>nad_n <=> nad_c<br>h_c + nac_c + prpp_c --> nicrnt_c + ppi_c<br>h_m + nac_m + prpp_m --> nicrnt_m + ppi_m<br>h_e + na1_c <=> na1_e + h_c<br>adp_c + h2o_c --> pi_c + h_c + amp_c<br>gdp_c + h2o_c --> pi_c + h_c + gmp_c<br>h2o_g + gdp_g --> gmp_g + pi_g + h_g<br>h2o_c + dgdp_c --> dgmp_c + pi_c + h_c<br>udp_c + h2o_c --> ump_c + h_c + pi_c<br>gdp_c + atp_c <=> gtp_c + adp_c<br>udp_c + atp_c <=> utp_c + adp_c<br>atp_c + cdp_c <=> ctp_c + adp_c<br>atp_c + dtdp_c <=> adp_c + dttp_c<br>atp_c + dgdp_c <=> dgtp_c + adp_c<br>atp_c + dudp_c <=> dutp_c + adp_c<br>atp_c + dcdp_c <=> dctp_c + adp_c<br>atp_c + dadp_c <=> datp_c + adp_c<br>atp_c + idp_c <=> adp_c + itp_c<br>Nbfortyr_c --> Nbfortyr_e<br>h_c + 2.0 Nfortyr_c + nadph_c --> nadp_c + Nbfortyr_c<br>nh4_e <=> nh4_c<br>nh4_c --> nh4_e<br>nh4_c <=> nh4_m<br>nh4_c <=> nh4_n<br>nh4_c <=> nh4_x<br>atp_c + nmn_c + h_c --> nad_c + ppi_c<br>h_m + nmn_m + atp_m --> ppi_m + nad_m<br>h_e + nmn_e --> nmn_c + h_c<br>h_c + nmn_c <=> h_m + nmn_m<br>h_c + nmn_c <=> h_x + nmn_x<br>ncam_c + h2o_c <=> nh4_c + nac_c<br>h2o_m + ncam_m <=> nac_m + nh4_m<br>atp_c + nicrnt_c + h_c --> dnad_c + ppi_c<br>h_m + nicrnt_m + atp_m --> dnad_m + ppi_m<br>quln_c + 2.0 h_c + prpp_c --> nicrnt_c + co2_c + ppi_c<br>prpp_m + 2.0 h_m + quln_m --> co2_m + nicrnt_m + ppi_m<br>amet_c + ncam_c --> 1mncam_c + ahcys_c<br>h2o_c + dump_c --> duri_c + pi_c<br>h2o_c + xmp_c --> pi_c + xtsn_c<br>h2o_c + imp_c --> ins_c + pi_c<br>h2o_c + ump_c --> pi_c + uri_c<br>h2o_c + dcmp_c --> dcyt_c + pi_c<br>cmp_c + h2o_c --> pi_c + cytd_c<br>h2o_c + dtmp_c --> pi_c + thymd_c<br>h2o_c + damp_c --> pi_c + dad_2_c<br>h2o_c + amp_c --> adn_c + pi_c<br>dgmp_c + h2o_c --> pi_c + dgsn_c<br>h2o_c + gmp_c --> pi_c + gsn_c<br>h2o_c + gtp_c --> gdp_c + pi_c + h_c<br>h2o_c + dgtp_c --> dgdp_c + pi_c + h_c<br>ind3acnl_c + 2.0 h2o_c --> nh4_c + ind3ac_c<br>2.0 h2o_c + aprop_c --> nh4_c + ala_L_c<br>acybut_c + 2.0 h2o_c --> nh4_c + glu_L_c<br>o2_e <=> o2_c<br>o2_c <=> o2_r<br>o2_c <=> o2_m<br>oaa_c <=> oaa_e<br>h_c + oaa_c <=> h_m + oaa_m<br>nad_m + coa_m + 2obut_m --> nadh_m + ppcoa_m + co2_m<br>cbp_c + orn_c --> pi_c + h_c + citr_L_c<br>ocdca_e --> ocdca_c<br>ocdcea_e --> ocdcea_c<br>ocdcya_e --> ocdcya_c<br>etoh_c + accoa_c --> coa_c + aces_c<br>iamoh_c + accoa_c --> coa_c + iamac_c<br>accoa_c + 2mbtoh_c --> coa_c + 2mbac_c<br>ibutoh_c + accoa_c --> coa_c + ibutac_c<br>accoa_c + 2phetoh_c --> coa_c + pheac_c<br>glu_L_c + ohpb_c <=> phthr_c + akg_c<br>3c4mop_c + h_c --> co2_c + 4mop_c<br>h_m + 3c4mop_m --> 4mop_m + co2_m<br>orot5p_c + h_c --> co2_c + ump_c<br>orn_c + h_c --> co2_c + ptrc_c<br>akg_c + orn_c --> glu_L_c + glu5sa_c<br>glu_L_m + acorn_m --> acglu_m + orn_m<br>h_e + orn_e <=> h_c + orn_c<br>h_c + orn_m <=> orn_c + h_m<br>orot5p_c + ppi_c <=> orot_c + prpp_c<br>h_m + oxag_m <=> 2oxoadp_m + co2_m<br>akg_m + oxag_c <=> akg_c + oxag_m<br>2.0 h2o_m + nad_m + 1pyr5c_m --> nadh_m + h_m + glu_L_m<br>2.0 h_c + 1pyr5c_c + nadph_c --> pro_L_c + nadp_c<br>pacald_c <=> pacald_e<br>pacald_c <=> pacald_m<br>0.01 pa_SC_c + atp_c --> 0.01 dagpy_SC_c + adp_c<br>pan4p_c <=> pan4p_m<br>ala_B_c + atp_c + pant_R_c --> pnto_R_c + h_c + ppi_c + amp_c<br>pant_R_c <=> pant_R_m<br>paps_c + trdrd_c --> trdox_c + so3_c + pap_c + 2.0 h_c<br>pap_e <=> pap_c<br>pap_c <=> pap_m<br>pa_SC_c <=> pa_SC_m<br>pyr_c + atp_c + hco3_c --> oaa_c + adp_c + pi_c + h_c<br>pc_SC_c + 12dgr_SC_c --> triglyc_SC_c + 1agpc_SC_c<br>h2o_c + camp_c --> amp_c + h_c<br>35cdamp_c + h2o_c --> damp_c + h_c<br>35cimp_c + h2o_c --> imp_c + h_c<br>35cgmp_c + h2o_c --> gmp_c + h_c<br>35ccmp_c + h2o_c --> h_c + cmp_c<br>dhlam_m + nad_m --> h_m + lpam_m + nadh_m<br>nad_m + coa_m + pyr_m --> nadh_m + co2_m + accoa_m<br>pdx5p_c + o2_c <=> pydx5p_c + h2o2_c<br>pendp_c <=> pendp_m<br>pepd_c + accoa_c --> apep_c + h_c + coa_c<br>h_e + pepd_e --> pepd_c + h_c<br>h_c + ethamp_c + ctp_c --> cdpea_c + ppi_c<br>amet_c + 0.01 pe_SC_c --> ahcys_c + h_c + 0.01 ptdmeeta_SC_c<br>pe_SC_c <=> pe_SC_g<br>pe_SC_c <=> pe_SC_m<br>pe_SC_c <=> pe_SC_v<br>atp_c + f6p_c --> adp_c + fdp_c + h_c<br>atp_c + f6p_c --> adp_c + f26bp_c + h_c<br>atp_c + tag6p_D_c --> adp_c + tagdp_D_c + h_c<br>atp_c + s7p_c --> adp_c + s17bp_c + h_c<br>gam1p_c <=> gam6p_c<br>3pg_c + nad_c --> h_c + 3php_c + nadh_c<br>g6p_c <=> f6p_c<br>atp_c + 3pg_c <=> 13dpg_c + adp_c<br>h2o_c + 6pgl_c --> 6pgc_c + h_c<br>2pg_c <=> 3pg_c<br>g1p_c <=> g6p_c<br>h2o_m + 0.01 pgp_SC_m --> 0.01 pg_SC_m + pi_m<br>1p3h5c_m + nad_m + 2.0 h2o_m --> nadh_m + h_m + e4hglu_m<br>1p3h5c_m + h_m + h2o_m <=> 4hglusa_m<br>pheac_c --> pheac_e<br>phe_L_c + akg_c <=> phpyr_c + glu_L_c<br>phe_L_c + atp_c + trnaphe_c --> ppi_c + amp_c + phetrna_c<br>trnaphe_m + phe_L_m + atp_m --> amp_m + phetrna_m + ppi_m<br>h_m + phe_L_m <=> phe_L_c + h_c<br>h_e + phe_L_e <=> phe_L_c + h_c<br>h2o_c + 0.01 ptd135bp_SC_c --> pi_c + 0.01 ptd3ino_SC_c<br>atp_c + 0.01 ptd3ino_SC_c --> adp_c + h_c + 0.01 ptd134bp_SC_c<br>atp_c + 0.01 ptd3ino_SC_c --> adp_c + 0.01 ptd135bp_SC_c + h_c<br>h2o_c + 0.01 ptd145bp_SC_c --> pi_c + 0.01 ptd4ino_SC_c<br>h2o_c + 0.01 ptd145bp_SC_c --> 0.01 12dgr_SC_c + h_c + mi145p_c<br>0.01 ptd4ino_SC_c + atp_c --> h_c + 0.01 ptd145bp_SC_c + adp_c<br>atp_c + 0.01 ptd1ino_SC_c --> adp_c + 0.01 ptd3ino_SC_c + h_c<br>atp_c + 0.01 ptd1ino_SC_c --> adp_c + h_c + 0.01 ptd4ino_SC_c<br>atp_n + 0.01 ptd1ino_SC_n --> h_n + adp_n + 0.01 ptd4ino_SC_n<br>0.01 cdpdag_SC_c + inost_c --> 0.01 ptd1ino_SC_c + h_c + cmp_c<br>h_c + pi_c <=> h_m + pi_m<br>h_c + pi_c <=> h_n + pi_n<br>h_c + pi_c <=> h_x + pi_x<br>h_e + pi_e <=> pi_c + h_c<br>h_c + pi_c <=> h_v + pi_v<br>oh1_m + pi_c <=> oh1_c + pi_m<br>0.005 ptd1ino_SC_e + h2o_e --> h_e + 0.1 ttdca_e + 0.06 ddca_e + 0.02 dca_e + 0.05 ocdca_e + 0.24 ocdcea_e + 0.27 hdca_e + 0.5 g3pi_e + 0.17 hdcea_e + 0.09 ocdcya_e<br>h2o_c + 0.005 pc_SC_c --> 0.5 g3pc_c + 0.05 ocdca_c + h_c + 0.02 dca_c + 0.09 ocdcya_c + 0.17 hdcea_c + 0.1 ttdca_c + 0.27 hdca_c + 0.24 ocdcea_c + 0.06 ddca_c<br>0.005 pc_SC_e + h2o_e --> h_e + 0.1 ttdca_e + 0.5 g3pc_e + 0.06 ddca_e + 0.02 dca_e + 0.05 ocdca_e + 0.24 ocdcea_e + 0.27 hdca_e + 0.17 hdcea_e + 0.09 ocdcya_e<br>0.01 pc_SC_c + h2o_c --> 0.01 pa_SC_c + chol_c + h_c<br>man1p_c <=> man6p_c<br>5aprbu_c + h2o_c --> pi_c + 4r5au_c<br>amet_c + 0.01 ptd2meeta_SC_c --> ahcys_c + 0.01 pc_SC_c + h_c<br>atp_c + 5pmev_c --> 5dpmev_c + adp_c<br>h2o_c + ppmi12346p_c --> pi_c + h_c + minohp_c<br>atp_c + minohp_c --> ppmi12346p_c + adp_c<br>h2o_c + ppmi1346p_c --> h_c + pi_c + mi13456p_c<br>atp_c + mi13456p_c --> ppmi1346p_c + adp_c<br>atp_c + 4ampm_c --> 2mahmp_c + adp_c<br>rnam_c + pi_c <=> h_c + ncam_c + r1p_c<br>pnto_R_c + atp_c --> 4ppan_c + adp_c + h_c<br>pnto_R_e + h_e <=> pnto_R_c + h_c<br>N1aspmd_c + h2o_c + o2_c --> aproa_c + h2o2_c + aprut_c<br>N1sprm_c + h2o_c + o2_c --> aproa_c + N1aspmd_c + h2o2_c<br>sprm_c + h2o_c + o2_c --> aproa_c + h2o2_c + spmd_c<br>h2o_c + ppi_c --> 2.0 pi_c + h_c<br>h2o_m + ppi_m --> h_m + 2.0 pi_m<br>2.0 5aop_c --> ppbng_c + h_c + 2.0 h2o_c<br>h_c + 4ppcys_c --> co2_c + pan4p_c<br>oaa_c + atp_c --> pep_c + co2_c + adp_c<br>r1p_c <=> r5p_c<br>cys_L_c + 4ppan_c + ctp_c --> 4ppcys_c + h_c + ppi_c + cmp_c<br>nad_c + pphn_c --> co2_c + 34hpp_c + nadh_c<br>nadp_c + pphn_c --> co2_c + 34hpp_c + nadph_c<br>pphn_c + h_c --> co2_c + h2o_c + phpyr_c<br>pppg9_c <=> pppg9_m<br>3.0 o2_m + 2.0 pppg9_m --> 6.0 h2o_m + 2.0 ppp9_m<br>ipdp_m + pendp_m --> hexdp_m + ppi_m<br>phpyr_c + h_c --> co2_c + pacald_c<br>gly_c + atp_c + pram_c <=> gar_c + adp_c + pi_c + h_c<br>atp_c + fpram_c --> air_c + adp_c + pi_c + 2.0 h_c<br>pran_c --> 2cpr5p_c<br>h2o_c + prbamp_c --> prfp_c<br>asp_L_c + atp_c + 5aizc_c <=> 25aics_c + adp_c + pi_c + h_c<br>h2o_c + prbatp_c --> prbamp_c + h_c + ppi_c<br>fgam_c + gln_L_c + atp_c + h2o_c --> adp_c + pi_c + h_c + fpram_c + glu_L_c<br>prfp_c --> prlp_c<br>nad_m + pro_L_m --> 1pyr5c_m + nadh_m + 2.0 h_m<br>atp_c + pro_L_c + trnapro_c --> protrna_c + ppi_c + amp_c<br>h_e + pro_L_e <=> pro_L_c + h_c<br>pro_L_c <=> pro_L_m<br>atp_c + r5p_c <=> prpp_c + h_c + amp_c<br>prpp_c <=> prpp_m<br>skm5p_c + pep_c --> pi_c + 3psme_c<br>h_g + 0.01 ps_SC_g --> co2_g + 0.01 pe_SC_g<br>h_m + 0.01 ps_SC_m --> co2_m + 0.01 pe_SC_m<br>h_v + 0.01 ps_SC_v --> co2_v + 0.01 pe_SC_v<br>ser_L_c + 0.01 cdpdag_SC_c <=> 0.01 ps_SC_c + h_c + cmp_c<br>ser_L_m + 0.01 cdpdag_SC_m <=> cmp_m + 0.01 ps_SC_m + h_m<br>glu_L_c + 3php_c --> akg_c + pser_L_c<br>psph1p_c --> psph1p_r<br>psph1p_c --> ethamp_c + 2hhxdal_c<br>nadph_c + sphgn_c + h_c + o2_c --> psphings_c + nadp_c + h2o_c<br>pser_L_c + h2o_c --> pi_c + ser_L_c<br>ps_SC_c <=> ps_SC_g<br>ps_SC_c <=> ps_SC_m<br>ps_SC_c <=> ps_SC_v<br>ptd1ino_SC_c <=> ptd1ino_SC_n<br>ptd4ino_SC_c <=> ptd4ino_SC_n<br>h2o_x + dcacoa_x --> coa_x + dca_x + h_x<br>h2o_x + ddcacoa_x --> coa_x + h_x + ddca_x<br>h2o_x + ttccoa_x --> coa_x + h_x + ttc_x<br>pmtcoa_x + h2o_x --> coa_x + h_x + hdca_x<br>tdcoa_x + h2o_x --> ttdca_x + h_x + coa_x<br>h2o_x + stcoa_x --> ocdca_x + h_x + coa_x<br>occoa_x + h2o_x --> h_x + octa_x + coa_x<br>atp_c + h_c + pan4p_c --> ppi_c + dpcoa_c<br>h_m + pan4p_m + atp_m --> ppi_m + dpcoa_m<br>h_c + ptrc_e --> ptrc_c + h_e<br>ptrc_c --> ptrc_e<br>adn_c + pi_c <=> ade_c + r1p_c<br>adn_m + pi_m <=> ade_m + r1p_m<br>dad_2_c + pi_c <=> 2dr1p_c + ade_c<br>gsn_c + pi_c <=> gua_c + r1p_c<br>pi_m + gsn_m <=> r1p_m + gua_m<br>pi_c + dgsn_c <=> 2dr1p_c + gua_c<br>ins_c + pi_c <=> hxan_c + r1p_c<br>pi_c + din_c <=> 2dr1p_c + hxan_c<br>xtsn_c + pi_c <=> r1p_c + xan_c<br>pyam5p_c + h2o_c + o2_c --> nh4_c + pydx5p_c + h2o2_c<br>pydam_c + atp_c --> h_c + pyam5p_c + adp_c<br>atp_c + pydx_c --> adp_c + h_c + pydx5p_c<br>atp_c + pydxn_c --> adp_c + pdx5p_c + h_c<br>pydxn_c + o2_c <=> h2o2_c + pydx_c<br>nh4_c + pydx_c + 2.0 h2o_c + 0.5 o2_c <=> pydam_c + 2.0 h2o2_c<br>pep_c + adp_c + h_c --> pyr_c + atp_c<br>pi_c + uri_c <=> r1p_c + ura_c<br>nadp_m + h2o_m + glu5sa_m --> 2.0 h_m + nadph_m + glu_L_m<br>pyr_c + h_c --> acald_c + co2_c<br>pyr_c + h_c + acald_c --> co2_c + actn_R_c<br>pyr_c --> pyr_e<br>h_e + pyr_e --> pyr_c + h_c<br>h_c + pyr_c <=> h_m + pyr_m<br>pyr_c + h_c <=> h_x + pyr_x<br>cmusa_c --> quln_c + h_c + h2o_c<br>iasp_c + dhap_c --> 2.0 h2o_c + pi_c + quln_c<br>quln_c <=> quln_m<br>h2o_c + raffin_c --> sucr_c + gal_c<br>atp_c + ribflv_c --> adp_c + h_c + fmn_c<br>atp_m + ribflv_m --> fmn_m + adp_m + h_m<br>4r5au_c + db4p_c --> dmlz_c + pi_c + 2.0 h2o_c<br>2.0 dmlz_c --> 4r5au_c + ribflv_c<br>rib_D_c + atp_c --> h_c + r5p_c + adp_c<br>h_e + ribflv_e --> ribflv_c + h_c<br>ribflv_c <=> ribflv_m<br>h_e + rib_D_e --> h_c + rib_D_c<br>adp_c + trdrd_c --> dadp_c + trdox_c + h2o_c<br>adp_n + trdrd_n --> h2o_n + dadp_n + trdox_n<br>gdp_c + trdrd_c --> dgdp_c + trdox_c + h2o_c<br>gdp_n + trdrd_n --> h2o_n + dgdp_n + trdox_n<br>cdp_c + trdrd_c --> trdox_c + dcdp_c + h2o_c<br>cdp_n + trdrd_n --> trdox_n + dcdp_n + h2o_n<br>udp_c + trdrd_c --> trdox_c + dudp_c + h2o_c<br>udp_n + trdrd_n --> trdox_n + dudp_n + h2o_n<br>rnam_c + atp_c --> h_c + nmn_c + adp_c<br>atp_c + trdrd_c --> datp_c + trdox_c + h2o_c<br>trdrd_c + gtp_c --> h2o_c + dgtp_c + trdox_c<br>trdrd_c + ctp_c --> h2o_c + dctp_c + trdox_c<br>utp_c + trdrd_c --> h2o_c + dutp_c + trdox_c<br>ru5p_D_c <=> xu5p_D_c<br>r5p_c <=> ru5p_D_c<br>glu_L_c + L2aadp6sa_c + nadph_c + h_c <=> nadp_c + h2o_c + saccrp_L_c<br>nad_c + h2o_c + saccrp_L_c <=> h_c + akg_c + lys_L_c + nadh_c<br>h_c + atp_c + so4_c --> aps_c + ppi_c<br>amet_c + zymst_c --> ahcys_c + fecost_c + h_c<br>h2o_r + sph1p_r --> sphgn_r + pi_r<br>psph1p_r + h2o_r --> psphings_r + pi_r<br>nad_c + sbt_D_c --> h_c + fru_c + nadh_c<br>sbt_L_c + nad_c --> h_c + srb_L_c + nadh_c<br>h_c + nadph_c + glc_D_c --> nadp_c + sbt_D_c<br>sbt_D_e <=> sbt_D_c<br>sbt_L_e <=> sbt_L_c<br>ser_L_c + accoa_c --> acser_c + coa_c<br>ser_L_c --> pyr_c + nh4_c<br>ser_L_c + h_c + pmtcoa_c --> co2_c + 3dsphgn_c + coa_c<br>ser_L_c + trnaser_c + atp_c --> sertrna_c + ppi_c + amp_c<br>ser_L_c + h_c <=> ser_L_m + h_m<br>ser_L_e + h_e <=> ser_L_c + h_c<br>Sfglutth_c + h2o_c <=> gthrd_c + h_c + for_c<br>nadp_c + dscl_c --> h_c + scl_c + nadph_c<br>scl_c + fe2_c --> 3.0 h_c + sheme_c<br>h_c + 3dhsk_c + nadph_c --> skm_c + nadp_c<br>atp_c + skm_c --> adp_c + h_c + skm5p_c<br>suchms_c + cys_L_c --> cyst_L_c + succ_c + h_c<br>suchms_c + h2o_c <=> nh4_c + 2obut_c + h_c + succ_c<br>atp_c + sphgn_c --> adp_c + sph1p_c + h_c<br>atp_c + psphings_c --> adp_c + psph1p_c + h_c<br>h_c + adp_c + so4_c <=> pi_c + aps_c<br>so3_c --> so3_e<br>so4_e --> so4_c<br>sph1p_c --> sph1p_r<br>sph1p_c --> ethamp_c + hxdcal_c<br>spmd_c + accoa_c --> N1aspmd_c + h_c + coa_c<br>h_c + spmd_e --> h_e + spmd_c<br>spmd_c --> spmd_e<br>ptrc_c + ametam_c --> 5mta_c + h_c + spmd_c<br>spmd_c + ametam_c --> 5mta_c + sprm_c + h_c<br>h_c + sprm_e --> sprm_c + h_e<br>Ssq23epx_r <=> Ssq23epx_c<br>h_r + nadph_r + o2_r + sql_r --> h2o_r + Ssq23epx_r + nadp_r<br>h_r + nadh_r + o2_r + sql_r --> nad_r + h2o_r + Ssq23epx_r<br>nadph_c + 2.0 frdp_c + h_c --> sql_c + 2.0 ppi_c + nadp_c<br>sql_c <=> sql_r<br>srb_L_e <=> srb_L_c<br>sucsal_c + h2o_c + nadp_c --> nadph_c + succ_c + 2.0 h_c<br>h_e + succ_e <=> h_c + succ_c<br>pi_m + succ_c --> pi_c + succ_m<br>succ_m + fad_m <=> fum_m + fadh2_m<br>succ_m + q6_m <=> q6h2_m + fum_m<br>fadh2_m + q6_m <=> q6h2_m + fad_m<br>fum_m + succ_c --> fum_c + succ_m<br>succ_m + coa_m + atp_m <=> pi_m + succoa_m + adp_m<br>h2o_e + sucr_e --> fru_e + glc_D_e<br>h_e + sucr_e --> sucr_c + h_c<br>3.0 h2o_c + 3.0 nadp_c + h2s_c <=> so3_c + 3.0 nadph_c + 5.0 h_c<br>34hpl_m --> T4hcinnm_m + h2o_m<br>h2o_c + 0.01 triglyc_SC_c --> 0.05 ocdca_c + h_c + 0.01 12dgr_SC_c + 0.24 ocdcea_c + 0.17 hdcea_c + 0.1 ttdca_c + 0.27 hdca_c + 0.06 ddca_c + 0.09 ocdcya_c + 0.02 dca_c<br>s7p_c + g3p_c <=> e4p_c + f6p_c<br>taur_c + akg_c + o2_c --> aacald_c + co2_c + succ_c + h_c + so3_c<br>taur_c <=> taur_e<br>atp_v + h2o_v + tchola_c --> pi_v + h_v + adp_v + tchola_v<br>h2o_m + methf_m --> 5fthf_m + h_m<br>glu_L_c + atp_c + thf_c <=> adp_c + pi_c + h_c + thfglu_c<br>trdrd_c + h2o2_c --> 2.0 h2o_c + trdox_c<br>trdrd_m + h2o2_m <=> 2.0 h2o_m + trdox_m<br>h2o2_n + trdrd_n --> 2.0 h2o_n + trdox_n<br>trdrd_x + h2o2_x <=> 2.0 h2o_x + trdox_x<br>2.0 h2o_e + thmpp_e --> 2.0 pi_e + thm_e + h_e<br>h_e + thymd_e --> thymd_c + h_c<br>h2o_c + thmmp_c --> pi_c + thm_c<br>thmpp_c --> thmpp_m<br>h2o_e + thmmp_e --> pi_e + thm_e<br>h_e + thm_e --> h_c + thm_c<br>athr_L_c --> gly_c + acald_c<br>thr_L_c --> gly_c + acald_c<br>thr_L_c --> nh4_c + 2obut_c<br>thr_L_m --> nh4_m + 2obut_m<br>phom_c + h2o_c --> thr_L_c + pi_c<br>atp_c + thr_L_c + trnathr_c --> thrtrna_c + ppi_c + amp_c<br>trnathr_m + thr_L_m + atp_m --> amp_m + thrtrna_m + ppi_m<br>thr_L_c + h_c <=> thr_L_m + h_m<br>thr_L_e + h_e <=> thr_L_c + h_c<br>h_e + thym_c <=> thym_e + h_c<br>gly_c + cys_L_c + h_c + achms_c + xu5p_D_c --> nh4_c + co2_c + 4mpetz_c + 4abut_c + pyr_c + ac_c + 3.0 h2o_c<br>r5p_c + gly_c + cys_L_c + h_c + achms_c --> nh4_c + 4abut_c + co2_c + 4mpetz_c + ac_c + 3.0 h2o_c + pyr_c<br>r5p_c + xu5p_D_c <=> g3p_c + s7p_c<br>e4p_c + xu5p_D_c <=> f6p_c + g3p_c<br>atp_c + thymd_c --> adp_c + dtmp_c + h_c<br>atp_c + thm_c --> amp_c + h_c + thmpp_c<br>thymd_c + pi_c <=> 2dr1p_c + thym_c<br>thmpp_c + atp_c --> thmtp_c + adp_c<br>mlthf_c + dump_c --> dtmp_c + dhf_c<br>thm_c + h2o_c --> h_c + 4ahmmp_c + 4mhetz_c<br>atp_c + thmmp_c <=> adp_c + thmpp_c<br>h_c + 4mpetz_c + 2mahmp_c --> thmmp_c + ppi_c<br>dhap_c <=> g3p_c<br>trdox_c <=> trdox_x<br>h_c + nadph_c + trdox_c --> nadp_c + trdrd_c<br>trdrd_c <=> trdrd_x<br>h_m + nadph_m + trdox_m --> nadp_m + trdrd_m<br>h2o_c + tre6p_c --> pi_c + tre_c<br>udpg_c + g6p_c --> udp_c + tre6p_c + h_c<br>h2o_c + tre_c --> 2.0 glc_D_c<br>h2o_v + tre_v --> 2.0 glc_D_v<br>h_e + tre_e --> h_c + tre_c<br>tre_c + h_c <=> h_v + tre_v<br>0.06 ddcacoa_c + 0.05 stcoa_c + 0.17 hdcoa_c + 0.09 ocdycacoa_c + 0.01 12dgr_SC_c + 0.24 odecoa_c + 0.27 pmtcoa_c + 0.1 tdcoa_c + 0.02 dcacoa_c --> coa_c + 0.01 triglyc_SC_c<br>trp_L_c + o2_c --> Lfmkynr_c<br>3ig3p_c + ser_L_c --> trp_L_c + g3p_c + h2o_c<br>trp_L_c + akg_c <=> indpyr_c + glu_L_c<br>atp_c + trnatrp_c + trp_L_c --> trptrna_c + ppi_c + amp_c<br>trp_L_m + trnatrp_m + atp_m --> trptrna_m + amp_m + ppi_m<br>trp_L_c + h_c <=> trp_L_m + h_m<br>trp_L_e + h_e <=> trp_L_c + h_c<br>ttccoa_c <=> ttccoa_x<br>ttdca_e <=> ttdca_c<br>tyr_L_c + 10fthf_c --> thf_c + h_c + Nfortyr_c<br>34hpp_c + glu_L_c --> akg_c + tyr_L_c<br>34hpp_m + glu_L_m --> akg_m + tyr_L_m<br>34hpp_x + glu_L_x --> akg_x + tyr_L_x<br>tyr_L_c + atp_c + trnatyr_c --> tyrtrna_c + ppi_c + amp_c<br>trnatyr_m + tyr_L_m + atp_m --> amp_m + tyrtrna_m + ppi_m<br>h_c + tyr_L_c <=> h_m + tyr_L_m<br>h_c + tyr_L_c <=> h_x + tyr_L_x<br>h_e + tyr_L_e <=> h_c + tyr_L_c<br>h_v + tyr_L_c --> h_c + tyr_L_v<br>h_v + tyr_L_v --> h_c + tyr_L_c<br>utp_c + acgam1p_c + h_c <=> udpacgal_c + ppi_c<br>udpg_c <=> udpgal_c<br>udpgal_c --> udpgal_g<br>udpg_c + gal1p_c <=> udpgal_c + g1p_c<br>urdglyc_c + 2.0 h_c + h2o_c <=> 2.0 nh4_c + glx_c + co2_c<br>ump_c + atp_c <=> udp_c + adp_c<br>ump_n + atp_n <=> udp_n + adp_n<br>ump_c <=> ump_n<br>2kmb_c + glu_L_c --> akg_c + met_L_c<br>2.0 amet_c + uppg3_c --> 2.0 ahcys_c + dscl_c + h_c<br>hmbil_c --> h2o_c + uppg3_c<br>4.0 h_c + uppg3_c --> 4.0 co2_c + cpppg3_c<br>ura_c + prpp_c --> ppi_c + ump_c<br>h_e + ura_e --> ura_c + h_c<br>2.0 h_e + urea_e <=> urea_c + 2.0 h_c<br>atp_c + hco3_c + urea_c <=> allphn_c + adp_c + pi_c + h_c<br>atp_c + dump_c <=> dudp_c + adp_c<br>dump_n + atp_n <=> adp_n + dudp_n<br>atp_c + uri_c --> adp_c + ump_c + h_c<br>uri_c + gtp_c --> gdp_c + ump_c + h_c<br>h_e + uri_e --> uri_c + h_c<br>2.0 h2o_c + utp_c --> 2.0 pi_c + 2.0 h_c + ump_c<br>ump_m + 2.0 h_c + utp_c --> ump_c + utp_m + 2.0 h_m<br>akg_c + val_L_c <=> 3mob_c + glu_L_c<br>val_L_m + akg_m --> 3mob_m + glu_L_m<br>atp_c + trnaval_c + val_L_c --> valtrna_c + ppi_c + amp_c<br>val_L_m + trnaval_m + atp_m --> amp_m + valtrna_m + ppi_m<br>h_c + val_L_c <=> h_m + val_L_m<br>h_e + val_L_e <=> h_c + val_L_c<br>xan_e <=> xan_c<br>xan_c + prpp_c --> ppi_c + xmp_c<br>h_e + xtsn_e --> h_c + xtsn_c<br>xylu_D_c + atp_c --> h_c + xu5p_D_c + adp_c<br>nadph_c + xyl_D_c + h_c --> xylt_c + nadp_c<br>nad_c + xylt_c --> xylu_D_c + nadh_c + h_c<br>xylt_e <=> xylt_c<br>xyl_D_e <=> xyl_D_c<br>r5p_c + ura_c <=> h2o_c + psd5p_c<br>0.03 stcoa_c + 0.655 hdcoa_c + 0.01 hexccoa_c + 0.01 zymst_c + 0.015 tdcoa_c + 0.27 odecoa_c + 0.02 pmtcoa_c --> 0.01 zymstest_SC_c + coa_c<br>0.01 zymstest_SC_c + h2o_c --> 0.03 ocdca_c + 0.02 hdca_c + 0.01 zymst_c + 0.01 hexc_c + 0.655 hdcea_c + h_c + 0.015 ttdca_c + 0.27 ocdcea_c<br>h2o_e + 0.01 zymstest_SC_e --> h_e + 0.015 ttdca_e + 0.03 ocdca_e + 0.27 ocdcea_e + 0.01 zymst_e + 0.01 hexc_e + 0.655 hdcea_e + 0.02 hdca_e<br>zymst_e <=> zymst_c<br>6e-06 pa_SC_c + 0.1914 thr_L_c + 0.5185 glycogen_c + 1.7e-05 ps_SC_c + 0.2646 val_L_c + 0.2862 lys_L_c + 0.0284 trp_L_c + 0.046 amp_c + 0.3018 glu_L_c + 0.0663 his_L_c + 0.0599 ump_c + 0.0015 zymst_c + 59.276 atp_c + 0.1054 gln_L_c + 0.1927 ile_L_c + 0.0507 met_L_c + 0.1607 arg_L_c + 0.0007 ergst_c + 0.1854 ser_L_c + 0.0036 dtmp_c + 0.2975 asp_L_c + 0.2964 leu_L_c + 0.2904 gly_c + 0.1339 phe_L_c + 0.0234 tre_c + 4.5e-05 pe_SC_c + 59.276 h2o_c + 0.00099 ribflv_c + 5.3e-05 ptd1ino_SC_c + 0.102 tyr_L_c + 0.046 gmp_c + 0.4588 ala_L_c + 0.0024 dgmp_c + 0.0024 dcmp_c + 1.1348 13BDglcn_c + 0.0036 damp_c + 0.0066 cys_L_c + 0.1647 pro_L_c + 6.6e-05 triglyc_SC_c + 0.8079 mannan_c + 6e-05 pc_SC_c + 0.0447 cmp_c + 0.1017 asn_L_c + 0.02 so4_c --> 59.276 adp_c + 59.305 pi_c + 58.70001 h_c</div></td>\n",
       "</tr>\n",
       "</table>"
      ],
      "text/plain": [
       "<Proxy at 0x10fbe0b48 wrapping <SolverBasedModel iMM904 at 0x11010d290> at 0x11010d290 with factory <functools.partial object at 0x10f8e8ec0>>"
      ]
     },
     "execution_count": 30,
     "metadata": {},
     "output_type": "execute_result"
    }
   ],
   "source": [
    "models.minho.iMM904"
   ]
  }
 ],
 "metadata": {
  "kernelspec": {
   "display_name": "Python 3",
   "language": "python",
   "name": "python3"
  },
  "language_info": {
   "codemirror_mode": {
    "name": "ipython",
    "version": 3
   },
   "file_extension": ".py",
   "mimetype": "text/x-python",
   "name": "python",
   "nbconvert_exporter": "python",
   "pygments_lexer": "ipython3",
   "version": "3.4.3"
  }
 },
 "nbformat": 4,
 "nbformat_minor": 0
}
