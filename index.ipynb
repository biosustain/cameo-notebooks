{
 "cells": [
  {
   "cell_type": "markdown",
   "metadata": {},
   "source": [
    "![Alt text](images/cameo_logo.png)"
   ]
  },
  {
   "cell_type": "markdown",
   "metadata": {},
   "source": [
    "## Computer aided metabolic engineering and optimization of cell factories"
   ]
  },
  {
   "cell_type": "markdown",
   "metadata": {},
   "source": [
    "..."
   ]
  },
  {
   "cell_type": "markdown",
   "metadata": {},
   "source": [
    "### Materials for metabolic engineers\n",
    "\n",
    "The following notebooks document the user interface of cameo.\n",
    "\n",
    "* [Quick start guide](01-quick-start.ipynb)\n",
    "* [High-level-API](08-high-level-API.ipynb)\n",
    "* [Case study: vanillin production](09-vanillin-production.ipynb)\n"
   ]
  },
  {
   "cell_type": "markdown",
   "metadata": {},
   "source": [
    "### Materials for modelers and method developers\n",
    "\n",
    "The following notebooks are targeting modelers that want low-level access and people that want use the cameo library to develop their _in silico_ strain design methods and pipelines.\n",
    "\n",
    "* [Import metabolic models](02-import-models.ipynb): load models from files or from the internet.\n",
    "* [Simulate metabolic models](03-simulate-models.ipynb): compute fluxes using d\n",
    "* [Analyze metabolic models](04-analyze-models.ipynb)\n",
    "* [Gene deletetion strategies](05-predict-gene-knockout-strategies.ipynb)\n",
    "* [Gene expression modulation](06-predict-gene-modulation-targets.ipynb)\n",
    "* [Heterlogous pathways](07-predict-heterologous-pathways.ipynb)\n",
    "* [Parallelize computations](other/11-multiprocess.ipynb)\n",
    "* [Custom heuristic optimization methods](other/12-advanced-usage-of-heuristic-optimization.ipynb)"
   ]
  },
  {
   "cell_type": "code",
   "execution_count": null,
   "metadata": {
    "collapsed": true
   },
   "outputs": [],
   "source": []
  }
 ],
 "metadata": {
  "kernelspec": {
   "display_name": "Python 3",
   "language": "python",
   "name": "python3"
  },
  "language_info": {
   "codemirror_mode": {
    "name": "ipython",
    "version": 3
   },
   "file_extension": ".py",
   "mimetype": "text/x-python",
   "name": "python",
   "nbconvert_exporter": "python",
   "pygments_lexer": "ipython3",
   "version": "3.5.0"
  }
 },
 "nbformat": 4,
 "nbformat_minor": 0
}
