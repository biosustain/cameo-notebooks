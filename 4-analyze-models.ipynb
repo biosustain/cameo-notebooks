{
 "cells": [
  {
   "cell_type": "markdown",
   "metadata": {},
   "source": [
    "# Analyzing models with\n",
    "\n",
    "<img src=\"https://raw.githubusercontent.com/biosustain/cameo/gh-pages/cameo_logo.png\" style=\"height:50px;text-align:left; margin-left: 0px;\"/>\n",
    "\n",
    "**c**omputer **a**ided **m**etabolic **e**ngineering and **o**ptimization\n",
    "\n",
    "**cameo** uses and extends the model data structures defined by [cobrapy](https://opencobra.github.io/cobrapy/), our favorite **CO**nstraints-**B**ased **R**econstruction and **A**nalysis tool for **Py**thon. **cameo** is thus 100% compatible with **cobrapy**. For efficiency reasons though **cameo** implements its own analysis methods that take advantage of a more advanced solver interface."
   ]
  },
  {
   "cell_type": "code",
   "execution_count": 1,
   "metadata": {
    "collapsed": false
   },
   "outputs": [
    {
     "name": "stderr",
     "output_type": "stream",
     "text": [
      "ERROR:cameo.io:Something went wrong while looking up available webmodels.\n"
     ]
    },
    {
     "ename": "AttributeError",
     "evalue": "'module' object has no attribute 'models'",
     "output_type": "error",
     "traceback": [
      "\u001b[0;31m---------------------------------------------------------------------------\u001b[0m",
      "\u001b[0;31mFileNotFoundError\u001b[0m                         Traceback (most recent call last)",
      "\u001b[0;32m/Users/niko/Dev/cameo/cameo/io.py\u001b[0m in \u001b[0;36mload_model\u001b[0;34m(path_or_handle, solver_interface, sanitize)\u001b[0m\n\u001b[1;32m     49\u001b[0m         \u001b[0;32mtry\u001b[0m\u001b[0;34m:\u001b[0m\u001b[0;34m\u001b[0m\u001b[0m\n\u001b[0;32m---> 50\u001b[0;31m             \u001b[0mhandle\u001b[0m \u001b[0;34m=\u001b[0m \u001b[0mopen\u001b[0m\u001b[0;34m(\u001b[0m\u001b[0mpath_or_handle\u001b[0m\u001b[0;34m,\u001b[0m \u001b[0;34m'rb'\u001b[0m\u001b[0;34m)\u001b[0m\u001b[0;34m\u001b[0m\u001b[0m\n\u001b[0m\u001b[1;32m     51\u001b[0m         \u001b[0;32mexcept\u001b[0m \u001b[0mIOError\u001b[0m\u001b[0;34m:\u001b[0m\u001b[0;34m\u001b[0m\u001b[0m\n",
      "\u001b[0;31mFileNotFoundError\u001b[0m: [Errno 2] No such file or directory: 'iJO1366'",
      "\nDuring handling of the above exception, another exception occurred:\n",
      "\u001b[0;31mAttributeError\u001b[0m                            Traceback (most recent call last)",
      "\u001b[0;32m/Users/niko/Dev/cameo/cameo/io.py\u001b[0m in \u001b[0;36mload_model\u001b[0;34m(path_or_handle, solver_interface, sanitize)\u001b[0m\n\u001b[1;32m     53\u001b[0m             \u001b[0;32mtry\u001b[0m\u001b[0;34m:\u001b[0m\u001b[0;34m\u001b[0m\u001b[0m\n\u001b[0;32m---> 54\u001b[0;31m                 \u001b[0;32mreturn\u001b[0m \u001b[0mcameo\u001b[0m\u001b[0;34m.\u001b[0m\u001b[0mmodels\u001b[0m\u001b[0;34m.\u001b[0m\u001b[0mwebmodels\u001b[0m\u001b[0;34m.\u001b[0m\u001b[0mget_model_from_bigg\u001b[0m\u001b[0;34m(\u001b[0m\u001b[0mpath\u001b[0m\u001b[0;34m)\u001b[0m\u001b[0;34m\u001b[0m\u001b[0m\n\u001b[0m\u001b[1;32m     55\u001b[0m             \u001b[0;32mexcept\u001b[0m\u001b[0;34m:\u001b[0m\u001b[0;34m\u001b[0m\u001b[0m\n",
      "\u001b[0;31mAttributeError\u001b[0m: 'module' object has no attribute 'models'",
      "\nDuring handling of the above exception, another exception occurred:\n",
      "\u001b[0;31mAttributeError\u001b[0m                            Traceback (most recent call last)",
      "\u001b[0;32m<ipython-input-1-d24c27e35e94>\u001b[0m in \u001b[0;36m<module>\u001b[0;34m()\u001b[0m\n\u001b[1;32m      1\u001b[0m \u001b[0;32mfrom\u001b[0m \u001b[0mcameo\u001b[0m \u001b[0;32mimport\u001b[0m \u001b[0mload_model\u001b[0m\u001b[0;34m\u001b[0m\u001b[0m\n\u001b[0;32m----> 2\u001b[0;31m \u001b[0mmodel\u001b[0m \u001b[0;34m=\u001b[0m \u001b[0mload_model\u001b[0m\u001b[0;34m(\u001b[0m\u001b[0;34m\"iJO1366\"\u001b[0m\u001b[0;34m)\u001b[0m\u001b[0;34m\u001b[0m\u001b[0m\n\u001b[0m",
      "\u001b[0;32m/Users/niko/Dev/cameo/cameo/io.py\u001b[0m in \u001b[0;36mload_model\u001b[0;34m(path_or_handle, solver_interface, sanitize)\u001b[0m\n\u001b[1;32m     62\u001b[0m                 \u001b[0;32mexcept\u001b[0m \u001b[0mException\u001b[0m \u001b[0;32mas\u001b[0m \u001b[0me\u001b[0m\u001b[0;34m:\u001b[0m\u001b[0;34m\u001b[0m\u001b[0m\n\u001b[1;32m     63\u001b[0m                     \u001b[0mlogger\u001b[0m\u001b[0;34m.\u001b[0m\u001b[0merror\u001b[0m\u001b[0;34m(\u001b[0m\u001b[0;34m\"Something went wrong while looking up available webmodels.\"\u001b[0m\u001b[0;34m)\u001b[0m\u001b[0;34m\u001b[0m\u001b[0m\n\u001b[0;32m---> 64\u001b[0;31m                     \u001b[0;32mraise\u001b[0m \u001b[0me\u001b[0m\u001b[0;34m\u001b[0m\u001b[0m\n\u001b[0m\u001b[1;32m     65\u001b[0m                 \u001b[0;32mtry\u001b[0m\u001b[0;34m:\u001b[0m\u001b[0;34m\u001b[0m\u001b[0m\n\u001b[1;32m     66\u001b[0m                     \u001b[0mindex\u001b[0m \u001b[0;34m=\u001b[0m \u001b[0mdf\u001b[0m\u001b[0;34m.\u001b[0m\u001b[0mquery\u001b[0m\u001b[0;34m(\u001b[0m\u001b[0;34m'name == \"%s\"'\u001b[0m \u001b[0;34m%\u001b[0m \u001b[0mpath_or_handle\u001b[0m\u001b[0;34m)\u001b[0m\u001b[0;34m.\u001b[0m\u001b[0mid\u001b[0m\u001b[0;34m.\u001b[0m\u001b[0mvalues\u001b[0m\u001b[0;34m[\u001b[0m\u001b[0;36m0\u001b[0m\u001b[0;34m]\u001b[0m\u001b[0;34m\u001b[0m\u001b[0m\n",
      "\u001b[0;32m/Users/niko/Dev/cameo/cameo/io.py\u001b[0m in \u001b[0;36mload_model\u001b[0;34m(path_or_handle, solver_interface, sanitize)\u001b[0m\n\u001b[1;32m     56\u001b[0m                 \u001b[0mlogger\u001b[0m\u001b[0;34m.\u001b[0m\u001b[0mdebug\u001b[0m\u001b[0;34m(\u001b[0m\u001b[0;34m'%s not a file path. Querying webmodels ... trying minho next'\u001b[0m \u001b[0;34m%\u001b[0m \u001b[0mpath\u001b[0m\u001b[0;34m)\u001b[0m\u001b[0;34m\u001b[0m\u001b[0m\n\u001b[1;32m     57\u001b[0m                 \u001b[0;32mtry\u001b[0m\u001b[0;34m:\u001b[0m\u001b[0;34m\u001b[0m\u001b[0m\n\u001b[0;32m---> 58\u001b[0;31m                     \u001b[0mdf\u001b[0m \u001b[0;34m=\u001b[0m \u001b[0mcameo\u001b[0m\u001b[0;34m.\u001b[0m\u001b[0mmodels\u001b[0m\u001b[0;34m.\u001b[0m\u001b[0mwebmodels\u001b[0m\u001b[0;34m.\u001b[0m\u001b[0mindex_models_minho\u001b[0m\u001b[0;34m(\u001b[0m\u001b[0;34m)\u001b[0m\u001b[0;34m\u001b[0m\u001b[0m\n\u001b[0m\u001b[1;32m     59\u001b[0m                 \u001b[0;32mexcept\u001b[0m \u001b[0mrequests\u001b[0m\u001b[0;34m.\u001b[0m\u001b[0mConnectionError\u001b[0m \u001b[0;32mas\u001b[0m \u001b[0me\u001b[0m\u001b[0;34m:\u001b[0m\u001b[0;34m\u001b[0m\u001b[0m\n\u001b[1;32m     60\u001b[0m                     \u001b[0mlogger\u001b[0m\u001b[0;34m.\u001b[0m\u001b[0merror\u001b[0m\u001b[0;34m(\u001b[0m\u001b[0;34m\"You need to be connected to the internet to load an online model.\"\u001b[0m\u001b[0;34m)\u001b[0m\u001b[0;34m\u001b[0m\u001b[0m\n",
      "\u001b[0;31mAttributeError\u001b[0m: 'module' object has no attribute 'models'"
     ]
    }
   ],
   "source": [
    "from cameo import models\n",
    "model = models.bigg."
   ]
  },
  {
   "cell_type": "code",
   "execution_count": 2,
   "metadata": {
    "collapsed": false
   },
   "outputs": [
    {
     "data": {
      "text/html": [
       "<table>\n",
       "<tr>\n",
       "<td>Name</td>\n",
       "<td>e_coli_core</td>\n",
       "</tr>\n",
       "<tr>\n",
       "<td>Number of metabolites</td>\n",
       "<td>72</td>\n",
       "</tr>\n",
       "<tr>\n",
       "<td>Number of reactions</td>\n",
       "<td>95</td>\n",
       "</tr>\n",
       "<tr>\n",
       "<td>Reactions</td>\n",
       "<td><div style=\"width:100%; max-height:300px; overflow:auto\">nad_c + coa_c + acald_c <=> accoa_c + nadh_c + h_c<br>acald_e <=> acald_c<br>ac_c + atp_c <=> adp_c + actp_c<br>cit_c <=> acon_C_c + h2o_c<br>acon_C_c + h2o_c <=> icit_c<br>h_e + ac_e <=> h_c + ac_c<br>atp_c + amp_c <=> 2.0 adp_c<br>akg_c + nad_c + coa_c --> co2_c + succoa_c + nadh_c<br>h_e + akg_e <=> akg_c + h_c<br>nad_c + etoh_c <=> acald_c + h_c + nadh_c<br>h2o_c + atp_c --> adp_c + h_c + pi_c<br>4.0 h_e + pi_c + adp_c <=> atp_c + 3.0 h_c + h2o_c<br>3.547 nad_c + 3.7478 accoa_c + 4.9414 glu__L_c + 1.496 3pg_c + 0.8977 r5p_c + 1.7867 oaa_c + 59.81 h2o_c + 0.361 e4p_c + 0.129 g3p_c + 0.205 g6p_c + 0.0709 f6p_c + 13.0279 nadph_c + 2.8328 pyr_c + 0.2557 gln__L_c + 0.5191 pep_c + 59.81 atp_c --> 3.7478 coa_c + 59.81 adp_c + 4.1182 akg_c + 59.81 pi_c + 3.547 nadh_c + 59.81 h_c + 13.0279 nadp_c<br>co2_e <=> co2_c<br>accoa_c + oaa_c + h2o_c --> coa_c + h_c + cit_c<br>q8h2_c + 0.5 o2_c + 2.0 h_c --> 2.0 h_e + q8_c + h2o_c<br>h_e + lac__D_e <=> lac__D_c + h_c<br>2pg_c <=> h2o_c + pep_c<br>h_e + etoh_e <=> h_c + etoh_c<br>ac_e --> <br>acald_e --> <br>akg_e --> <br>co2_e <=> <br>etoh_e --> <br>for_e --> <br>fru_e --> <br>fum_e --> <br>glc__D_e <=> <br>gln__L_e --> <br>glu__L_e --> <br>h_e <=> <br>h2o_e <=> <br>lac__D_e --> <br>mal__L_e --> <br>nh4_e <=> <br>o2_e <=> <br>pi_e <=> <br>pyr_e --> <br>succ_e --> <br>fdp_c <=> dhap_c + g3p_c<br>fdp_c + h2o_c --> f6p_c + pi_c<br>for_e + h_e --> for_c + h_c<br>for_c --> for_e<br>q8h2_c + fum_c --> q8_c + succ_c<br>fru_e + pep_c --> pyr_c + f6p_c<br>h2o_c + fum_c <=> mal__L_c<br>2.0 h_e + fum_e --> 2.0 h_c + fum_c<br>g6p_c + nadp_c <=> h_c + nadph_c + 6pgl_c<br>nad_c + g3p_c + pi_c <=> 13dpg_c + nadh_c + h_c<br>glc__D_e + pep_c --> pyr_c + g6p_c<br>atp_c + glu__L_c + nh4_c --> pi_c + adp_c + gln__L_c + h_c<br>gln__L_e + atp_c + h2o_c --> pi_c + adp_c + gln__L_c + h_c<br>glu__L_c + h2o_c + nadp_c <=> akg_c + nadph_c + h_c + nh4_c<br>gln__L_c + h2o_c --> glu__L_c + nh4_c<br>akg_c + nadph_c + gln__L_c + h_c --> 2.0 glu__L_c + nadp_c<br>h_e + glu__L_e <=> glu__L_c + h_c<br>nadp_c + 6pgc_c --> co2_c + nadph_c + ru5p__D_c<br>h2o_e <=> h2o_c<br>icit_c + nadp_c <=> akg_c + co2_c + nadph_c<br>icit_c --> succ_c + glx_c<br>nad_c + lac__D_c <=> pyr_c + h_c + nadh_c<br>accoa_c + glx_c + h2o_c --> coa_c + mal__L_c + h_c<br>mal__L_e + 2.0 h_e --> mal__L_c + 2.0 h_c<br>nad_c + mal__L_c <=> oaa_c + h_c + nadh_c<br>nad_c + mal__L_c --> co2_c + pyr_c + nadh_c<br>mal__L_c + nadp_c --> co2_c + pyr_c + nadph_c<br>nadh_c + 4.0 h_c + q8_c --> nad_c + 3.0 h_e + q8h2_c<br>nad_c + nadph_c --> nadp_c + nadh_c<br>nh4_e <=> nh4_c<br>o2_e <=> o2_c<br>nad_c + coa_c + pyr_c --> co2_c + nadh_c + accoa_c<br>f6p_c + atp_c --> adp_c + h_c + fdp_c<br>coa_c + pyr_c --> for_c + accoa_c<br>g6p_c <=> f6p_c<br>3pg_c + atp_c <=> 13dpg_c + adp_c<br>h2o_c + 6pgl_c --> h_c + 6pgc_c<br>2pg_c <=> 3pg_c<br>h_e + pi_e <=> h_c + pi_c<br>co2_c + h2o_c + pep_c --> pi_c + oaa_c + h_c<br>oaa_c + atp_c --> adp_c + co2_c + pep_c<br>pyr_c + atp_c + h2o_c --> pi_c + 2.0 h_c + amp_c + pep_c<br>accoa_c + pi_c <=> coa_c + actp_c<br>adp_c + h_c + pep_c --> pyr_c + atp_c<br>h_e + pyr_e <=> h_c + pyr_c<br>ru5p__D_c <=> xu5p__D_c<br>r5p_c <=> ru5p__D_c<br>2.0 h_e + succ_e --> 2.0 h_c + succ_c<br>h_e + succ_c --> h_c + succ_e<br>q8_c + succ_c --> q8h2_c + fum_c<br>coa_c + succ_c + atp_c <=> succoa_c + pi_c + adp_c<br>g3p_c + s7p_c <=> f6p_c + e4p_c<br>2.0 h_e + nadh_c + nadp_c --> nad_c + nadph_c + 2.0 h_c<br>r5p_c + xu5p__D_c <=> g3p_c + s7p_c<br>xu5p__D_c + e4p_c <=> f6p_c + g3p_c<br>dhap_c <=> g3p_c</div></td>\n",
       "</tr>\n",
       "</table>"
      ],
      "text/plain": [
       "<Proxy at 0x113d6a548 wrapping <SolverBasedModel e_coli_core at 0x11496c080> at 0x11496c080 with factory functools.partial(<function get_model_from_bigg at 0x113d42598>, 'e_coli_core')>"
      ]
     },
     "execution_count": 2,
     "metadata": {},
     "output_type": "execute_result"
    }
   ],
   "source": [
    "from cameo import models\n",
    "models.bigg.e_coli_core"
   ]
  },
  {
   "cell_type": "markdown",
   "metadata": {},
   "source": [
    "## Flux Variability Analysis\n",
    "\n",
    "Flux variability analysis (FVA) enables the computation of lower and upper bounds of reaction fluxes."
   ]
  },
  {
   "cell_type": "code",
   "execution_count": 3,
   "metadata": {
    "collapsed": true
   },
   "outputs": [],
   "source": [
    "from cameo import flux_variability_analysis"
   ]
  },
  {
   "cell_type": "code",
   "execution_count": 5,
   "metadata": {
    "collapsed": false
   },
   "outputs": [
    {
     "data": {
      "text/html": [
       "<div style=\"max-height:1000px;max-width:1500px;overflow:auto;\">\n",
       "<table border=\"1\" class=\"dataframe\">\n",
       "  <thead>\n",
       "    <tr style=\"text-align: right;\">\n",
       "      <th></th>\n",
       "      <th>lower_bound</th>\n",
       "      <th>upper_bound</th>\n",
       "    </tr>\n",
       "  </thead>\n",
       "  <tbody>\n",
       "    <tr>\n",
       "      <th>EX_glc_lp_e_rp_</th>\n",
       "      <td>-10.00</td>\n",
       "      <td>-0.134043</td>\n",
       "    </tr>\n",
       "    <tr>\n",
       "      <th>PGI</th>\n",
       "      <td>-254.35</td>\n",
       "      <td>241.850000</td>\n",
       "    </tr>\n",
       "  </tbody>\n",
       "</table>\n",
       "</div>"
      ],
      "text/plain": [
       "                 lower_bound  upper_bound\n",
       "EX_glc_lp_e_rp_       -10.00    -0.134043\n",
       "PGI                  -254.35   241.850000"
      ]
     },
     "execution_count": 5,
     "metadata": {},
     "output_type": "execute_result"
    }
   ],
   "source": [
    "flux_variability_analysis(model, reactions=[model.reactions.PGI, model.reactions.EX_glc_lp_e_rp_])"
   ]
  },
  {
   "cell_type": "markdown",
   "metadata": {},
   "source": [
    "One very useful application of FVA is determining if alternative optimal solution exist."
   ]
  },
  {
   "cell_type": "code",
   "execution_count": 7,
   "metadata": {
    "collapsed": false
   },
   "outputs": [
    {
     "data": {
      "text/html": [
       "<div style=\"max-height:1000px;max-width:1500px;overflow:auto;\">\n",
       "<table border=\"1\" class=\"dataframe\">\n",
       "  <thead>\n",
       "    <tr style=\"text-align: right;\">\n",
       "      <th></th>\n",
       "      <th>lower_bound</th>\n",
       "      <th>upper_bound</th>\n",
       "    </tr>\n",
       "  </thead>\n",
       "  <tbody>\n",
       "    <tr>\n",
       "      <th>EX_glc_lp_e_rp_</th>\n",
       "      <td>-10.000000</td>\n",
       "      <td>-10.000000</td>\n",
       "    </tr>\n",
       "    <tr>\n",
       "      <th>PGI</th>\n",
       "      <td>5.918065</td>\n",
       "      <td>5.918065</td>\n",
       "    </tr>\n",
       "  </tbody>\n",
       "</table>\n",
       "</div>"
      ],
      "text/plain": [
       "                 lower_bound  upper_bound\n",
       "EX_glc_lp_e_rp_   -10.000000   -10.000000\n",
       "PGI                 5.918065     5.918065"
      ]
     },
     "execution_count": 7,
     "metadata": {},
     "output_type": "execute_result"
    }
   ],
   "source": [
    "flux_variability_analysis(model, reactions=[model.reactions.PGI, model.reactions.EX_glc_lp_e_rp_],\n",
    "                          fraction_of_optimum=1.)"
   ]
  },
  {
   "cell_type": "markdown",
   "metadata": {},
   "source": [
    "Phenotpic Phase Plane\n",
    "--------------------"
   ]
  },
  {
   "cell_type": "code",
   "execution_count": null,
   "metadata": {
    "collapsed": true
   },
   "outputs": [],
   "source": [
    "model.reactions.EX_o2_lp_e_rp_.lower_bound = -10\n",
    "result = analysis.phenotypic_phase_plane(model, \n",
    "                                         variables=[model.reactions.BiomassEcoli],\n",
    "                                         objective=model.reactions.EX_succ_lp_e_rp_,\n",
    "                                         points=10)"
   ]
  },
  {
   "cell_type": "code",
   "execution_count": null,
   "metadata": {
    "collapsed": false
   },
   "outputs": [],
   "source": [
    "result.plot(height=400)"
   ]
  },
  {
   "cell_type": "code",
   "execution_count": null,
   "metadata": {
    "collapsed": false
   },
   "outputs": [],
   "source": [
    "result.data_frame"
   ]
  },
  {
   "cell_type": "code",
   "execution_count": null,
   "metadata": {
    "collapsed": true
   },
   "outputs": [],
   "source": []
  }
 ],
 "metadata": {
  "kernelspec": {
   "display_name": "Python 3",
   "language": "python",
   "name": "python3"
  },
  "language_info": {
   "codemirror_mode": {
    "name": "ipython",
    "version": 3
   },
   "file_extension": ".py",
   "mimetype": "text/x-python",
   "name": "python",
   "nbconvert_exporter": "python",
   "pygments_lexer": "ipython3",
   "version": "3.4.3"
  }
 },
 "nbformat": 4,
 "nbformat_minor": 0
}
