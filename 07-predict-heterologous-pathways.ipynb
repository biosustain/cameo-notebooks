{
 "cells": [
  {
   "cell_type": "code",
   "execution_count": 1,
   "metadata": {},
   "outputs": [],
   "source": [
    "from IPython.display import display\n",
    "import re"
   ]
  },
  {
   "cell_type": "markdown",
   "metadata": {},
   "source": [
    "# Predict heterologous pathways\n",
    "\n",
    "Predicting heterologous pathways is an important strategy to generate new viable strains. Because portfolio of available reactions is very large, computer assisted pathway design becomes essential. **Cameo** implements a  shortest pathways search algorithm using an universal biochemical reaction database."
   ]
  },
  {
   "cell_type": "markdown",
   "metadata": {},
   "source": [
    "<div class=\"alert alert-warning\">\n",
    "If you're running this notebook on [try.cameo.bio](http://try.cameo.bio), things might run very slow due to our inability to provide access to the proprietary [CPLEX](https://www-01.ibm.com/software/commerce/optimization/cplex-optimizer/) solver on a public webserver. Furthermore, Jupyter kernels might crash and restart due to memory limitations on the server.\n",
    "</div>"
   ]
  },
  {
   "cell_type": "code",
   "execution_count": 2,
   "metadata": {},
   "outputs": [],
   "source": [
    "from cameo import models\n",
    "from cameo.strain_design import pathway_prediction"
   ]
  },
  {
   "cell_type": "code",
   "execution_count": 3,
   "metadata": {},
   "outputs": [],
   "source": [
    "model = models.bigg.iMM904"
   ]
  },
  {
   "cell_type": "code",
   "execution_count": 4,
   "metadata": {
    "scrolled": true
   },
   "outputs": [],
   "source": [
    "predictor = pathway_prediction.PathwayPredictor(model)"
   ]
  },
  {
   "cell_type": "code",
   "execution_count": 5,
   "metadata": {},
   "outputs": [
    {
     "data": {
      "text/html": [
       "<span>Pathway 1</span>"
      ],
      "text/plain": [
       "<IPython.core.display.HTML object>"
      ]
     },
     "metadata": {},
     "output_type": "display_data"
    },
    {
     "data": {
      "text/html": [
       "<div>\n",
       "<style scoped>\n",
       "    .dataframe tbody tr th:only-of-type {\n",
       "        vertical-align: middle;\n",
       "    }\n",
       "\n",
       "    .dataframe tbody tr th {\n",
       "        vertical-align: top;\n",
       "    }\n",
       "\n",
       "    .dataframe thead th {\n",
       "        text-align: right;\n",
       "    }\n",
       "</style>\n",
       "<table border=\"1\" class=\"dataframe\">\n",
       "  <thead>\n",
       "    <tr style=\"text-align: right;\">\n",
       "      <th></th>\n",
       "      <th>equation</th>\n",
       "      <th>lower_bound</th>\n",
       "      <th>upper_bound</th>\n",
       "    </tr>\n",
       "  </thead>\n",
       "  <tbody>\n",
       "    <tr>\n",
       "      <th>MNXR5340</th>\n",
       "      <td>H(+) + NADH + O2 + vanillate &lt;=&gt; H2O + 3,4-dih...</td>\n",
       "      <td>-1000</td>\n",
       "      <td>1000</td>\n",
       "    </tr>\n",
       "    <tr>\n",
       "      <th>MNXR5336</th>\n",
       "      <td>2.0 H(+) + NADH + vanillate &lt;=&gt; H2O + vanillin...</td>\n",
       "      <td>-1000</td>\n",
       "      <td>1000</td>\n",
       "    </tr>\n",
       "    <tr>\n",
       "      <th>MNXR68718</th>\n",
       "      <td>H2O + 3,4-dihydroxybenzoate &lt;=&gt; 3-dehydroshiki...</td>\n",
       "      <td>-1000</td>\n",
       "      <td>1000</td>\n",
       "    </tr>\n",
       "  </tbody>\n",
       "</table>\n",
       "</div>"
      ],
      "text/plain": [
       "                                                    equation  lower_bound  \\\n",
       "MNXR5340   H(+) + NADH + O2 + vanillate <=> H2O + 3,4-dih...        -1000   \n",
       "MNXR5336   2.0 H(+) + NADH + vanillate <=> H2O + vanillin...        -1000   \n",
       "MNXR68718  H2O + 3,4-dihydroxybenzoate <=> 3-dehydroshiki...        -1000   \n",
       "\n",
       "           upper_bound  \n",
       "MNXR5340          1000  \n",
       "MNXR5336          1000  \n",
       "MNXR68718         1000  "
      ]
     },
     "metadata": {},
     "output_type": "display_data"
    },
    {
     "name": "stdout",
     "output_type": "stream",
     "text": [
      "Max flux: 3.36842\n"
     ]
    },
    {
     "data": {
      "text/html": [
       "<span>Pathway 2</span>"
      ],
      "text/plain": [
       "<IPython.core.display.HTML object>"
      ]
     },
     "metadata": {},
     "output_type": "display_data"
    },
    {
     "data": {
      "text/html": [
       "<div>\n",
       "<style scoped>\n",
       "    .dataframe tbody tr th:only-of-type {\n",
       "        vertical-align: middle;\n",
       "    }\n",
       "\n",
       "    .dataframe tbody tr th {\n",
       "        vertical-align: top;\n",
       "    }\n",
       "\n",
       "    .dataframe thead th {\n",
       "        text-align: right;\n",
       "    }\n",
       "</style>\n",
       "<table border=\"1\" class=\"dataframe\">\n",
       "  <thead>\n",
       "    <tr style=\"text-align: right;\">\n",
       "      <th></th>\n",
       "      <th>equation</th>\n",
       "      <th>lower_bound</th>\n",
       "      <th>upper_bound</th>\n",
       "    </tr>\n",
       "  </thead>\n",
       "  <tbody>\n",
       "    <tr>\n",
       "      <th>MNXR5340</th>\n",
       "      <td>H(+) + NADH + O2 + vanillate &lt;=&gt; H2O + 3,4-dih...</td>\n",
       "      <td>-1000</td>\n",
       "      <td>1000</td>\n",
       "    </tr>\n",
       "    <tr>\n",
       "      <th>MNXR5336</th>\n",
       "      <td>2.0 H(+) + NADH + vanillate &lt;=&gt; H2O + vanillin...</td>\n",
       "      <td>-1000</td>\n",
       "      <td>1000</td>\n",
       "    </tr>\n",
       "    <tr>\n",
       "      <th>MNXR230</th>\n",
       "      <td>H(+) + 4-hydroxybenzoate + O2 + NADPH &lt;=&gt; H2O ...</td>\n",
       "      <td>-1000</td>\n",
       "      <td>1000</td>\n",
       "    </tr>\n",
       "  </tbody>\n",
       "</table>\n",
       "</div>"
      ],
      "text/plain": [
       "                                                   equation  lower_bound  \\\n",
       "MNXR5340  H(+) + NADH + O2 + vanillate <=> H2O + 3,4-dih...        -1000   \n",
       "MNXR5336  2.0 H(+) + NADH + vanillate <=> H2O + vanillin...        -1000   \n",
       "MNXR230   H(+) + 4-hydroxybenzoate + O2 + NADPH <=> H2O ...        -1000   \n",
       "\n",
       "          upper_bound  \n",
       "MNXR5340         1000  \n",
       "MNXR5336         1000  \n",
       "MNXR230          1000  "
      ]
     },
     "metadata": {},
     "output_type": "display_data"
    },
    {
     "name": "stdout",
     "output_type": "stream",
     "text": [
      "Max flux: 1.90533\n"
     ]
    },
    {
     "data": {
      "text/html": [
       "<span>Pathway 3</span>"
      ],
      "text/plain": [
       "<IPython.core.display.HTML object>"
      ]
     },
     "metadata": {},
     "output_type": "display_data"
    },
    {
     "data": {
      "text/html": [
       "<div>\n",
       "<style scoped>\n",
       "    .dataframe tbody tr th:only-of-type {\n",
       "        vertical-align: middle;\n",
       "    }\n",
       "\n",
       "    .dataframe tbody tr th {\n",
       "        vertical-align: top;\n",
       "    }\n",
       "\n",
       "    .dataframe thead th {\n",
       "        text-align: right;\n",
       "    }\n",
       "</style>\n",
       "<table border=\"1\" class=\"dataframe\">\n",
       "  <thead>\n",
       "    <tr style=\"text-align: right;\">\n",
       "      <th></th>\n",
       "      <th>equation</th>\n",
       "      <th>lower_bound</th>\n",
       "      <th>upper_bound</th>\n",
       "    </tr>\n",
       "  </thead>\n",
       "  <tbody>\n",
       "    <tr>\n",
       "      <th>MNXR4008</th>\n",
       "      <td>H(+) + 3-oxoadipate &lt;=&gt; H2O + 5-oxo-4,5-dihydr...</td>\n",
       "      <td>-1000</td>\n",
       "      <td>1000</td>\n",
       "    </tr>\n",
       "    <tr>\n",
       "      <th>MNXR184</th>\n",
       "      <td>3-oxoadipyl-CoA + succinate &lt;=&gt; 3-oxoadipate +...</td>\n",
       "      <td>-1000</td>\n",
       "      <td>1000</td>\n",
       "    </tr>\n",
       "    <tr>\n",
       "      <th>MNXR5340</th>\n",
       "      <td>H(+) + NADH + O2 + vanillate &lt;=&gt; H2O + 3,4-dih...</td>\n",
       "      <td>-1000</td>\n",
       "      <td>1000</td>\n",
       "    </tr>\n",
       "    <tr>\n",
       "      <th>MNXR5336</th>\n",
       "      <td>2.0 H(+) + NADH + vanillate &lt;=&gt; H2O + vanillin...</td>\n",
       "      <td>-1000</td>\n",
       "      <td>1000</td>\n",
       "    </tr>\n",
       "    <tr>\n",
       "      <th>MNXR228</th>\n",
       "      <td>CO2 + 5-oxo-4,5-dihydro-2-furylacetate &lt;=&gt; H(+...</td>\n",
       "      <td>-1000</td>\n",
       "      <td>1000</td>\n",
       "    </tr>\n",
       "    <tr>\n",
       "      <th>MNXR4119</th>\n",
       "      <td>2.0 H(+) + 3-carboxy-cis,cis-muconate &lt;=&gt; 3,4-...</td>\n",
       "      <td>-1000</td>\n",
       "      <td>1000</td>\n",
       "    </tr>\n",
       "    <tr>\n",
       "      <th>MNXR209</th>\n",
       "      <td>CoA + 3-oxoadipyl-CoA &lt;=&gt; acetyl-CoA + succiny...</td>\n",
       "      <td>-1000</td>\n",
       "      <td>1000</td>\n",
       "    </tr>\n",
       "    <tr>\n",
       "      <th>MNXR3655</th>\n",
       "      <td>2-(carboxymethyl)-5-oxo-2,5-dihydro-2-furoate ...</td>\n",
       "      <td>-1000</td>\n",
       "      <td>1000</td>\n",
       "    </tr>\n",
       "  </tbody>\n",
       "</table>\n",
       "</div>"
      ],
      "text/plain": [
       "                                                   equation  lower_bound  \\\n",
       "MNXR4008  H(+) + 3-oxoadipate <=> H2O + 5-oxo-4,5-dihydr...        -1000   \n",
       "MNXR184   3-oxoadipyl-CoA + succinate <=> 3-oxoadipate +...        -1000   \n",
       "MNXR5340  H(+) + NADH + O2 + vanillate <=> H2O + 3,4-dih...        -1000   \n",
       "MNXR5336  2.0 H(+) + NADH + vanillate <=> H2O + vanillin...        -1000   \n",
       "MNXR228   CO2 + 5-oxo-4,5-dihydro-2-furylacetate <=> H(+...        -1000   \n",
       "MNXR4119  2.0 H(+) + 3-carboxy-cis,cis-muconate <=> 3,4-...        -1000   \n",
       "MNXR209   CoA + 3-oxoadipyl-CoA <=> acetyl-CoA + succiny...        -1000   \n",
       "MNXR3655  2-(carboxymethyl)-5-oxo-2,5-dihydro-2-furoate ...        -1000   \n",
       "\n",
       "          upper_bound  \n",
       "MNXR4008         1000  \n",
       "MNXR184          1000  \n",
       "MNXR5340         1000  \n",
       "MNXR5336         1000  \n",
       "MNXR228          1000  \n",
       "MNXR4119         1000  \n",
       "MNXR209          1000  \n",
       "MNXR3655         1000  "
      ]
     },
     "metadata": {},
     "output_type": "display_data"
    },
    {
     "name": "stdout",
     "output_type": "stream",
     "text": [
      "Max flux: 5.59223\n"
     ]
    },
    {
     "data": {
      "text/html": [
       "<span>Pathway 4</span>"
      ],
      "text/plain": [
       "<IPython.core.display.HTML object>"
      ]
     },
     "metadata": {},
     "output_type": "display_data"
    },
    {
     "data": {
      "text/html": [
       "<div>\n",
       "<style scoped>\n",
       "    .dataframe tbody tr th:only-of-type {\n",
       "        vertical-align: middle;\n",
       "    }\n",
       "\n",
       "    .dataframe tbody tr th {\n",
       "        vertical-align: top;\n",
       "    }\n",
       "\n",
       "    .dataframe thead th {\n",
       "        text-align: right;\n",
       "    }\n",
       "</style>\n",
       "<table border=\"1\" class=\"dataframe\">\n",
       "  <thead>\n",
       "    <tr style=\"text-align: right;\">\n",
       "      <th></th>\n",
       "      <th>equation</th>\n",
       "      <th>lower_bound</th>\n",
       "      <th>upper_bound</th>\n",
       "    </tr>\n",
       "  </thead>\n",
       "  <tbody>\n",
       "    <tr>\n",
       "      <th>MNXR5338</th>\n",
       "      <td>2.0 H(+) + NADH + 3,4-dihydroxybenzoate &lt;=&gt; H2...</td>\n",
       "      <td>-1000</td>\n",
       "      <td>1000</td>\n",
       "    </tr>\n",
       "    <tr>\n",
       "      <th>MNXR1041</th>\n",
       "      <td>diphosphate + AMP + caffeoyl-CoA &lt;=&gt; CoA + ATP...</td>\n",
       "      <td>-1000</td>\n",
       "      <td>1000</td>\n",
       "    </tr>\n",
       "    <tr>\n",
       "      <th>MNXR4974</th>\n",
       "      <td>O2 + 2.0 trans-4-coumarate &lt;=&gt; 2.0 trans-caffeate</td>\n",
       "      <td>-1000</td>\n",
       "      <td>1000</td>\n",
       "    </tr>\n",
       "    <tr>\n",
       "      <th>MNXR227</th>\n",
       "      <td>diphosphate + AMP + 4-coumaroyl-CoA &lt;=&gt; CoA + ...</td>\n",
       "      <td>-1000</td>\n",
       "      <td>1000</td>\n",
       "    </tr>\n",
       "    <tr>\n",
       "      <th>MNXR5340</th>\n",
       "      <td>H(+) + NADH + O2 + vanillate &lt;=&gt; H2O + 3,4-dih...</td>\n",
       "      <td>-1000</td>\n",
       "      <td>1000</td>\n",
       "    </tr>\n",
       "    <tr>\n",
       "      <th>MNXR5336</th>\n",
       "      <td>2.0 H(+) + NADH + vanillate &lt;=&gt; H2O + vanillin...</td>\n",
       "      <td>-1000</td>\n",
       "      <td>1000</td>\n",
       "    </tr>\n",
       "    <tr>\n",
       "      <th>MNXR18369</th>\n",
       "      <td>CoA + H2O + 4-coumaroyl-CoA + NAD(+) &lt;=&gt; H(+) ...</td>\n",
       "      <td>-1000</td>\n",
       "      <td>1000</td>\n",
       "    </tr>\n",
       "    <tr>\n",
       "      <th>MNXR232</th>\n",
       "      <td>H(+) + CoA + 4-hydroxybenzoate &lt;=&gt; H2O + 4-hyd...</td>\n",
       "      <td>-1000</td>\n",
       "      <td>1000</td>\n",
       "    </tr>\n",
       "    <tr>\n",
       "      <th>MNXR1039</th>\n",
       "      <td>acetyl-CoA + 3,4-dihydroxybenzaldehyde &lt;=&gt; H2O...</td>\n",
       "      <td>-1000</td>\n",
       "      <td>1000</td>\n",
       "    </tr>\n",
       "  </tbody>\n",
       "</table>\n",
       "</div>"
      ],
      "text/plain": [
       "                                                    equation  lower_bound  \\\n",
       "MNXR5338   2.0 H(+) + NADH + 3,4-dihydroxybenzoate <=> H2...        -1000   \n",
       "MNXR1041   diphosphate + AMP + caffeoyl-CoA <=> CoA + ATP...        -1000   \n",
       "MNXR4974   O2 + 2.0 trans-4-coumarate <=> 2.0 trans-caffeate        -1000   \n",
       "MNXR227    diphosphate + AMP + 4-coumaroyl-CoA <=> CoA + ...        -1000   \n",
       "MNXR5340   H(+) + NADH + O2 + vanillate <=> H2O + 3,4-dih...        -1000   \n",
       "MNXR5336   2.0 H(+) + NADH + vanillate <=> H2O + vanillin...        -1000   \n",
       "MNXR18369  CoA + H2O + 4-coumaroyl-CoA + NAD(+) <=> H(+) ...        -1000   \n",
       "MNXR232    H(+) + CoA + 4-hydroxybenzoate <=> H2O + 4-hyd...        -1000   \n",
       "MNXR1039   acetyl-CoA + 3,4-dihydroxybenzaldehyde <=> H2O...        -1000   \n",
       "\n",
       "           upper_bound  \n",
       "MNXR5338          1000  \n",
       "MNXR1041          1000  \n",
       "MNXR4974          1000  \n",
       "MNXR227           1000  \n",
       "MNXR5340          1000  \n",
       "MNXR5336          1000  \n",
       "MNXR18369         1000  \n",
       "MNXR232           1000  \n",
       "MNXR1039          1000  "
      ]
     },
     "metadata": {},
     "output_type": "display_data"
    },
    {
     "name": "stdout",
     "output_type": "stream",
     "text": [
      "Max flux: 2.24390\n"
     ]
    }
   ],
   "source": [
    "pathways = predictor.run(product=\"vanillin\", max_predictions=4)"
   ]
  }
 ],
 "metadata": {
  "anaconda-cloud": {},
  "kernelspec": {
   "display_name": "Python 3",
   "language": "python",
   "name": "python3"
  },
  "language_info": {
   "codemirror_mode": {
    "name": "ipython",
    "version": 3
   },
   "file_extension": ".py",
   "mimetype": "text/x-python",
   "name": "python",
   "nbconvert_exporter": "python",
   "pygments_lexer": "ipython3",
   "version": "3.9.2"
  }
 },
 "nbformat": 4,
 "nbformat_minor": 4
}
