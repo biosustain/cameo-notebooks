{
 "cells": [
  {
   "cell_type": "code",
   "execution_count": 1,
   "metadata": {
    "collapsed": true
   },
   "outputs": [],
   "source": [
    "from IPython.display import display\n",
    "import re"
   ]
  },
  {
   "cell_type": "markdown",
   "metadata": {},
   "source": [
    "# Predict heterologous pathways\n",
    "\n",
    "Predicting heterologous pathways is an important strategy to generate new viable strains. Because portfolio of available reactions is very large, computer assisted pathway design becomes essential. **Cameo** implements a pathway search algorithm using an universal biochemical reaction database that enumerates the shortest pathways."
   ]
  },
  {
   "cell_type": "code",
   "execution_count": 2,
   "metadata": {
    "collapsed": false
   },
   "outputs": [
    {
     "data": {
      "text/html": []
     },
     "metadata": {},
     "output_type": "display_data"
    },
    {
     "data": {
      "application/javascript": [
       "\n",
       "(function(global) {\n",
       "  function now() {\n",
       "    return new Date();\n",
       "  }\n",
       "\n",
       "  if (typeof (window._bokeh_onload_callbacks) === \"undefined\") {\n",
       "    window._bokeh_onload_callbacks = [];\n",
       "  }\n",
       "\n",
       "  function run_callbacks() {\n",
       "    window._bokeh_onload_callbacks.forEach(function(callback) { callback() });\n",
       "    delete window._bokeh_onload_callbacks\n",
       "    console.info(\"Bokeh: all callbacks have finished\");\n",
       "  }\n",
       "\n",
       "  function load_libs(js_urls, callback) {\n",
       "    window._bokeh_onload_callbacks.push(callback);\n",
       "    if (window._bokeh_is_loading > 0) {\n",
       "      console.log(\"Bokeh: BokehJS is being loaded, scheduling callback at\", now());\n",
       "      return null;\n",
       "    }\n",
       "    if (js_urls == null || js_urls.length === 0) {\n",
       "      run_callbacks();\n",
       "      return null;\n",
       "    }\n",
       "    console.log(\"Bokeh: BokehJS not loaded, scheduling load and callback at\", now());\n",
       "    window._bokeh_is_loading = js_urls.length;\n",
       "    for (var i = 0; i < js_urls.length; i++) {\n",
       "      var url = js_urls[i];\n",
       "      var s = document.createElement('script');\n",
       "      s.src = url;\n",
       "      s.async = false;\n",
       "      s.onreadystatechange = s.onload = function() {\n",
       "        window._bokeh_is_loading--;\n",
       "        if (window._bokeh_is_loading === 0) {\n",
       "          console.log(\"Bokeh: all BokehJS libraries loaded\");\n",
       "          run_callbacks()\n",
       "        }\n",
       "      };\n",
       "      s.onerror = function() {\n",
       "        console.warn(\"failed to load library \" + url);\n",
       "      };\n",
       "      console.log(\"Bokeh: injecting script tag for BokehJS library: \", url);\n",
       "      document.getElementsByTagName(\"head\")[0].appendChild(s);\n",
       "    }\n",
       "  };\n",
       "\n",
       "  var js_urls = ['https://cdn.pydata.org/bokeh/release/bokeh-0.11.1.min.js', 'https://cdn.pydata.org/bokeh/release/bokeh-widgets-0.11.1.min.js', 'https://cdn.pydata.org/bokeh/release/bokeh-compiler-0.11.1.min.js'];\n",
       "\n",
       "  var inline_js = [\n",
       "    function(Bokeh) {\n",
       "      Bokeh.set_log_level(\"info\");\n",
       "    },\n",
       "    \n",
       "    function(Bokeh) {\n",
       "      Bokeh.$(\"#1183934d-3573-4600-9544-3a942fd47ec4\").text(\"BokehJS successfully loaded\");\n",
       "    },\n",
       "    function(Bokeh) {\n",
       "      console.log(\"Bokeh: injecting CSS: https://cdn.pydata.org/bokeh/release/bokeh-0.11.1.min.css\");\n",
       "      Bokeh.embed.inject_css(\"https://cdn.pydata.org/bokeh/release/bokeh-0.11.1.min.css\");\n",
       "      console.log(\"Bokeh: injecting CSS: https://cdn.pydata.org/bokeh/release/bokeh-widgets-0.11.1.min.css\");\n",
       "      Bokeh.embed.inject_css(\"https://cdn.pydata.org/bokeh/release/bokeh-widgets-0.11.1.min.css\");\n",
       "    }\n",
       "  ];\n",
       "\n",
       "  function run_inline_js() {\n",
       "    for (var i = 0; i < inline_js.length; i++) {\n",
       "      inline_js[i](window.Bokeh);\n",
       "    }\n",
       "  }\n",
       "\n",
       "  if (window._bokeh_is_loading === 0) {\n",
       "    console.log(\"Bokeh: BokehJS loaded, going straight to plotting\");\n",
       "    run_inline_js();\n",
       "  } else {\n",
       "    load_libs(js_urls, function() {\n",
       "      console.log(\"Bokeh: BokehJS plotting callback run at\", now());\n",
       "      run_inline_js();\n",
       "    });\n",
       "  }\n",
       "}(this));"
      ]
     },
     "metadata": {},
     "output_type": "display_data"
    }
   ],
   "source": [
    "from cameo import models\n",
    "from cameo.strain_design import pathway_prediction"
   ]
  },
  {
   "cell_type": "code",
   "execution_count": 3,
   "metadata": {
    "collapsed": true
   },
   "outputs": [],
   "source": [
    "model = models.bigg.iMM904"
   ]
  },
  {
   "cell_type": "code",
   "execution_count": 4,
   "metadata": {
    "collapsed": false,
    "scrolled": true
   },
   "outputs": [],
   "source": [
    "predictor = pathway_prediction.PathwayPredictor(model=model, compartment_regexp=re.compile(\".*_c$\"))"
   ]
  },
  {
   "cell_type": "code",
   "execution_count": 5,
   "metadata": {
    "collapsed": false
   },
   "outputs": [
    {
     "data": {
      "text/html": [
       "<span>Pathway 1</span>"
      ],
      "text/plain": [
       "<IPython.core.display.HTML object>"
      ]
     },
     "metadata": {},
     "output_type": "display_data"
    },
    {
     "data": {
      "text/html": [
       "<div>\n",
       "<table border=\"1\" class=\"dataframe\">\n",
       "  <thead>\n",
       "    <tr style=\"text-align: right;\">\n",
       "      <th></th>\n",
       "      <th>equation</th>\n",
       "      <th>lower_bound</th>\n",
       "      <th>upper_bound</th>\n",
       "    </tr>\n",
       "  </thead>\n",
       "  <tbody>\n",
       "    <tr>\n",
       "      <th>MNXR5336</th>\n",
       "      <td>vanillin + H2O + NAD(+) &lt;=&gt; 2.0 H(+) + NADH(2-...</td>\n",
       "      <td>-1000</td>\n",
       "      <td>1000</td>\n",
       "    </tr>\n",
       "    <tr>\n",
       "      <th>MNXR5340</th>\n",
       "      <td>3,4-dihydroxybenzoate + NAD(+) + H2O + formald...</td>\n",
       "      <td>-1000</td>\n",
       "      <td>1000</td>\n",
       "    </tr>\n",
       "    <tr>\n",
       "      <th>MNXR68718</th>\n",
       "      <td>H2O + 3,4-dihydroxybenzoate &lt;=&gt; 3-dehydroshiki...</td>\n",
       "      <td>-1000</td>\n",
       "      <td>1000</td>\n",
       "    </tr>\n",
       "  </tbody>\n",
       "</table>\n",
       "</div>"
      ],
      "text/plain": [
       "                                                    equation  lower_bound  \\\n",
       "MNXR5336   vanillin + H2O + NAD(+) <=> 2.0 H(+) + NADH(2-...        -1000   \n",
       "MNXR5340   3,4-dihydroxybenzoate + NAD(+) + H2O + formald...        -1000   \n",
       "MNXR68718  H2O + 3,4-dihydroxybenzoate <=> 3-dehydroshiki...        -1000   \n",
       "\n",
       "           upper_bound  \n",
       "MNXR5336          1000  \n",
       "MNXR5340          1000  \n",
       "MNXR68718         1000  "
      ]
     },
     "metadata": {},
     "output_type": "display_data"
    },
    {
     "data": {
      "text/html": [
       "<span>Pathway 2</span>"
      ],
      "text/plain": [
       "<IPython.core.display.HTML object>"
      ]
     },
     "metadata": {},
     "output_type": "display_data"
    },
    {
     "data": {
      "text/html": [
       "<div>\n",
       "<table border=\"1\" class=\"dataframe\">\n",
       "  <thead>\n",
       "    <tr style=\"text-align: right;\">\n",
       "      <th></th>\n",
       "      <th>equation</th>\n",
       "      <th>lower_bound</th>\n",
       "      <th>upper_bound</th>\n",
       "    </tr>\n",
       "  </thead>\n",
       "  <tbody>\n",
       "    <tr>\n",
       "      <th>MNXR5336</th>\n",
       "      <td>vanillin + H2O + NAD(+) &lt;=&gt; 2.0 H(+) + NADH(2-...</td>\n",
       "      <td>-1000</td>\n",
       "      <td>1000</td>\n",
       "    </tr>\n",
       "    <tr>\n",
       "      <th>MNXR5340</th>\n",
       "      <td>3,4-dihydroxybenzoate + NAD(+) + H2O + formald...</td>\n",
       "      <td>-1000</td>\n",
       "      <td>1000</td>\n",
       "    </tr>\n",
       "    <tr>\n",
       "      <th>MNXR14769</th>\n",
       "      <td>H2O + 3,4-dihydroxybenzoate + NAD(+) &lt;=&gt; H(+) ...</td>\n",
       "      <td>-1000</td>\n",
       "      <td>1000</td>\n",
       "    </tr>\n",
       "  </tbody>\n",
       "</table>\n",
       "</div>"
      ],
      "text/plain": [
       "                                                    equation  lower_bound  \\\n",
       "MNXR5336   vanillin + H2O + NAD(+) <=> 2.0 H(+) + NADH(2-...        -1000   \n",
       "MNXR5340   3,4-dihydroxybenzoate + NAD(+) + H2O + formald...        -1000   \n",
       "MNXR14769  H2O + 3,4-dihydroxybenzoate + NAD(+) <=> H(+) ...        -1000   \n",
       "\n",
       "           upper_bound  \n",
       "MNXR5336          1000  \n",
       "MNXR5340          1000  \n",
       "MNXR14769         1000  "
      ]
     },
     "metadata": {},
     "output_type": "display_data"
    },
    {
     "data": {
      "text/html": [
       "<span>Pathway 3</span>"
      ],
      "text/plain": [
       "<IPython.core.display.HTML object>"
      ]
     },
     "metadata": {},
     "output_type": "display_data"
    },
    {
     "data": {
      "text/html": [
       "<div>\n",
       "<table border=\"1\" class=\"dataframe\">\n",
       "  <thead>\n",
       "    <tr style=\"text-align: right;\">\n",
       "      <th></th>\n",
       "      <th>equation</th>\n",
       "      <th>lower_bound</th>\n",
       "      <th>upper_bound</th>\n",
       "    </tr>\n",
       "  </thead>\n",
       "  <tbody>\n",
       "    <tr>\n",
       "      <th>MNXR230</th>\n",
       "      <td>3,4-dihydroxybenzoate + NADP(+) + H2O &lt;=&gt; O2 +...</td>\n",
       "      <td>-1000</td>\n",
       "      <td>1000</td>\n",
       "    </tr>\n",
       "    <tr>\n",
       "      <th>MNXR5336</th>\n",
       "      <td>vanillin + H2O + NAD(+) &lt;=&gt; 2.0 H(+) + NADH(2-...</td>\n",
       "      <td>-1000</td>\n",
       "      <td>1000</td>\n",
       "    </tr>\n",
       "    <tr>\n",
       "      <th>MNXR5340</th>\n",
       "      <td>3,4-dihydroxybenzoate + NAD(+) + H2O + formald...</td>\n",
       "      <td>-1000</td>\n",
       "      <td>1000</td>\n",
       "    </tr>\n",
       "  </tbody>\n",
       "</table>\n",
       "</div>"
      ],
      "text/plain": [
       "                                                   equation  lower_bound  \\\n",
       "MNXR230   3,4-dihydroxybenzoate + NADP(+) + H2O <=> O2 +...        -1000   \n",
       "MNXR5336  vanillin + H2O + NAD(+) <=> 2.0 H(+) + NADH(2-...        -1000   \n",
       "MNXR5340  3,4-dihydroxybenzoate + NAD(+) + H2O + formald...        -1000   \n",
       "\n",
       "          upper_bound  \n",
       "MNXR230          1000  \n",
       "MNXR5336         1000  \n",
       "MNXR5340         1000  "
      ]
     },
     "metadata": {},
     "output_type": "display_data"
    },
    {
     "data": {
      "text/html": [
       "<span>Pathway 4</span>"
      ],
      "text/plain": [
       "<IPython.core.display.HTML object>"
      ]
     },
     "metadata": {},
     "output_type": "display_data"
    },
    {
     "data": {
      "text/html": [
       "<div>\n",
       "<table border=\"1\" class=\"dataframe\">\n",
       "  <thead>\n",
       "    <tr style=\"text-align: right;\">\n",
       "      <th></th>\n",
       "      <th>equation</th>\n",
       "      <th>lower_bound</th>\n",
       "      <th>upper_bound</th>\n",
       "    </tr>\n",
       "  </thead>\n",
       "  <tbody>\n",
       "    <tr>\n",
       "      <th>MNXR5336</th>\n",
       "      <td>vanillin + H2O + NAD(+) &lt;=&gt; 2.0 H(+) + NADH(2-...</td>\n",
       "      <td>-1000</td>\n",
       "      <td>1000</td>\n",
       "    </tr>\n",
       "    <tr>\n",
       "      <th>MNXR5340</th>\n",
       "      <td>3,4-dihydroxybenzoate + NAD(+) + H2O + formald...</td>\n",
       "      <td>-1000</td>\n",
       "      <td>1000</td>\n",
       "    </tr>\n",
       "    <tr>\n",
       "      <th>MNXR6101</th>\n",
       "      <td>NADH(2-) + O2 + anthranilate + 3.0 H(+) &lt;=&gt; NA...</td>\n",
       "      <td>-1000</td>\n",
       "      <td>1000</td>\n",
       "    </tr>\n",
       "    <tr>\n",
       "      <th>MNXR7067</th>\n",
       "      <td>H(+) + 3,4-dihydroxybenzoate &lt;=&gt; catechol + CO(2)</td>\n",
       "      <td>-1000</td>\n",
       "      <td>1000</td>\n",
       "    </tr>\n",
       "  </tbody>\n",
       "</table>\n",
       "</div>"
      ],
      "text/plain": [
       "                                                   equation  lower_bound  \\\n",
       "MNXR5336  vanillin + H2O + NAD(+) <=> 2.0 H(+) + NADH(2-...        -1000   \n",
       "MNXR5340  3,4-dihydroxybenzoate + NAD(+) + H2O + formald...        -1000   \n",
       "MNXR6101  NADH(2-) + O2 + anthranilate + 3.0 H(+) <=> NA...        -1000   \n",
       "MNXR7067  H(+) + 3,4-dihydroxybenzoate <=> catechol + CO(2)        -1000   \n",
       "\n",
       "          upper_bound  \n",
       "MNXR5336         1000  \n",
       "MNXR5340         1000  \n",
       "MNXR6101         1000  \n",
       "MNXR7067         1000  "
      ]
     },
     "metadata": {},
     "output_type": "display_data"
    }
   ],
   "source": [
    "pathways = predictor.run(product=\"vanillin\", max_predictions=4)"
   ]
  },
  {
   "cell_type": "code",
   "execution_count": 6,
   "metadata": {
    "collapsed": false
   },
   "outputs": [
    {
     "data": {
      "text/html": [
       "\n",
       "        <table>\n",
       "            <tr>\n",
       "                <td><strong>Id</strong></td><td>MNXR5336</td>\n",
       "            </tr>\n",
       "            <tr>\n",
       "                <td><strong>Name</strong></td><td>rhea:13309</td>\n",
       "            </tr>\n",
       "            <tr>\n",
       "                <td><strong>Stoichiometry</strong></td><td>MNXM754 + MNXM2 + MNXM8 <=> 2.0 MNXM1 + MNXM10 + MNXM982</td>\n",
       "            </tr>\n",
       "            <tr>\n",
       "                <td><strong>Lower bound</strong></td><td>-1000.000000</td>\n",
       "            </tr>\n",
       "            <tr>\n",
       "                <td><strong>Upper bound</strong></td><td>1000.000000</td>\n",
       "            </tr>\n",
       "        </table>\n",
       "        "
      ],
      "text/plain": [
       "<Reaction MNXR5336 at 0x123600cc0>"
      ]
     },
     "execution_count": 6,
     "metadata": {},
     "output_type": "execute_result"
    }
   ],
   "source": [
    "pathways.pathways[0].reactions[0]"
   ]
  },
  {
   "cell_type": "code",
   "execution_count": 7,
   "metadata": {
    "collapsed": false,
    "scrolled": true
   },
   "outputs": [
    {
     "data": {
      "text/html": [
       "\n",
       "\n",
       "    <div class=\"plotdiv\" id=\"86f0020c-c9cc-42d1-9042-25b3802582dd\"></div>\n",
       "<script type=\"text/javascript\">\n",
       "  \n",
       "  (function(global) {\n",
       "    function now() {\n",
       "      return new Date();\n",
       "    }\n",
       "  \n",
       "    if (typeof (window._bokeh_onload_callbacks) === \"undefined\") {\n",
       "      window._bokeh_onload_callbacks = [];\n",
       "    }\n",
       "  \n",
       "    function run_callbacks() {\n",
       "      window._bokeh_onload_callbacks.forEach(function(callback) { callback() });\n",
       "      delete window._bokeh_onload_callbacks\n",
       "      console.info(\"Bokeh: all callbacks have finished\");\n",
       "    }\n",
       "  \n",
       "    function load_libs(js_urls, callback) {\n",
       "      window._bokeh_onload_callbacks.push(callback);\n",
       "      if (window._bokeh_is_loading > 0) {\n",
       "        console.log(\"Bokeh: BokehJS is being loaded, scheduling callback at\", now());\n",
       "        return null;\n",
       "      }\n",
       "      if (js_urls == null || js_urls.length === 0) {\n",
       "        run_callbacks();\n",
       "        return null;\n",
       "      }\n",
       "      console.log(\"Bokeh: BokehJS not loaded, scheduling load and callback at\", now());\n",
       "      window._bokeh_is_loading = js_urls.length;\n",
       "      for (var i = 0; i < js_urls.length; i++) {\n",
       "        var url = js_urls[i];\n",
       "        var s = document.createElement('script');\n",
       "        s.src = url;\n",
       "        s.async = false;\n",
       "        s.onreadystatechange = s.onload = function() {\n",
       "          window._bokeh_is_loading--;\n",
       "          if (window._bokeh_is_loading === 0) {\n",
       "            console.log(\"Bokeh: all BokehJS libraries loaded\");\n",
       "            run_callbacks()\n",
       "          }\n",
       "        };\n",
       "        s.onerror = function() {\n",
       "          console.warn(\"failed to load library \" + url);\n",
       "        };\n",
       "        console.log(\"Bokeh: injecting script tag for BokehJS library: \", url);\n",
       "        document.getElementsByTagName(\"head\")[0].appendChild(s);\n",
       "      }\n",
       "    };var element = document.getElementById(\"86f0020c-c9cc-42d1-9042-25b3802582dd\");\n",
       "    if (element == null) {\n",
       "      console.log(\"Bokeh: ERROR: autoload.js configured with elementid '86f0020c-c9cc-42d1-9042-25b3802582dd' but no matching script tag was found. \")\n",
       "      return false;\n",
       "    }\n",
       "  \n",
       "    var js_urls = [];\n",
       "  \n",
       "    var inline_js = [\n",
       "      function(Bokeh) {\n",
       "        Bokeh.$(function() {\n",
       "            var docs_json = {\"85e87984-4716-4ff6-9bcb-42a1bd18205d\":{\"roots\":{\"references\":[{\"attributes\":{\"data_source\":{\"id\":\"4419d717-8027-45c2-97e9-f888892cd517\",\"type\":\"ColumnDataSource\"},\"glyph\":{\"id\":\"4d9d98aa-00a0-4479-801f-a54d40f8e9b5\",\"type\":\"Line\"},\"hover_glyph\":null,\"nonselection_glyph\":{\"id\":\"b11e1e7f-08f8-4512-be51-93e54a31bead\",\"type\":\"Line\"},\"selection_glyph\":null},\"id\":\"8e5e15d6-2dcc-45eb-80bf-8ef719f2183c\",\"type\":\"GlyphRenderer\"},{\"attributes\":{},\"id\":\"8c40f1ad-2e7c-4811-8c04-2861b651eba4\",\"type\":\"BasicTicker\"},{\"attributes\":{\"line_alpha\":{\"value\":0.1},\"line_color\":{\"value\":\"#1f77b4\"},\"x\":{\"field\":\"x\"},\"y\":{\"field\":\"y\"}},\"id\":\"05d1cbd9-e5a4-49f6-86fc-7def2cdd8f3a\",\"type\":\"Line\"},{\"attributes\":{\"plot\":{\"id\":\"28444097-feaa-474f-b428-e6c287ba2b18\",\"subtype\":\"Figure\",\"type\":\"Plot\"},\"ticker\":{\"id\":\"8c40f1ad-2e7c-4811-8c04-2861b651eba4\",\"type\":\"BasicTicker\"}},\"id\":\"d132c260-c1bb-400e-a4fb-c1b47f59d999\",\"type\":\"Grid\"},{\"attributes\":{\"legends\":[[\"WT\",[{\"id\":\"7c41dcb8-cc04-463a-83b0-be7b437e3feb\",\"type\":\"GlyphRenderer\"}]]],\"plot\":{\"id\":\"53eec73c-7d2f-443b-8fbb-ef3b3347407f\",\"subtype\":\"Figure\",\"type\":\"Plot\"}},\"id\":\"a1c40f79-53cb-4c59-80ee-61948072f76f\",\"type\":\"Legend\"},{\"attributes\":{\"line_alpha\":{\"value\":0.1},\"line_color\":{\"value\":\"#1f77b4\"},\"x\":{\"field\":\"x\"},\"y\":{\"field\":\"y\"}},\"id\":\"e827eae5-fca1-491f-b23b-32f19a5b69a3\",\"type\":\"Line\"},{\"attributes\":{\"plot\":{\"id\":\"53eec73c-7d2f-443b-8fbb-ef3b3347407f\",\"subtype\":\"Figure\",\"type\":\"Plot\"},\"ticker\":{\"id\":\"130af486-6ed0-4a31-8a48-3b27cdf0a186\",\"type\":\"BasicTicker\"}},\"id\":\"562b33c2-ac8a-42a9-a409-e573b720ce97\",\"type\":\"Grid\"},{\"attributes\":{\"callback\":null},\"id\":\"9195a639-666c-40ed-8d19-7178552f89dd\",\"type\":\"DataRange1d\"},{\"attributes\":{\"fill_alpha\":{\"value\":0.3},\"fill_color\":{\"value\":\"#B3E2CD\"},\"line_color\":{\"value\":\"#1f77b4\"},\"x\":{\"field\":\"x\"},\"y\":{\"field\":\"y\"}},\"id\":\"06e3944c-0bca-4d9f-b753-a178d977bfe9\",\"type\":\"Patch\"},{\"attributes\":{\"line_alpha\":{\"value\":0.1},\"line_color\":{\"value\":\"#1f77b4\"},\"x\":{\"field\":\"x\"},\"y\":{\"field\":\"y\"}},\"id\":\"8ac49a09-eb53-44ab-965e-fa60303d9250\",\"type\":\"Line\"},{\"attributes\":{\"line_alpha\":{\"value\":0.1},\"line_color\":{\"value\":\"#1f77b4\"},\"x\":{\"field\":\"x\"},\"y\":{\"field\":\"y\"}},\"id\":\"b11e1e7f-08f8-4512-be51-93e54a31bead\",\"type\":\"Line\"},{\"attributes\":{\"line_color\":{\"value\":\"#B3E2CD\"},\"x\":{\"field\":\"x\"},\"y\":{\"field\":\"y\"}},\"id\":\"664317fc-0177-4640-b4e4-175fa6ea6601\",\"type\":\"Line\"},{\"attributes\":{\"plot\":{\"id\":\"53eec73c-7d2f-443b-8fbb-ef3b3347407f\",\"subtype\":\"Figure\",\"type\":\"Plot\"}},\"id\":\"deb5e0a3-64c9-419f-8d79-96f4f5c173ac\",\"type\":\"PreviewSaveTool\"},{\"attributes\":{\"callback\":null,\"column_names\":[\"x\",\"y\"],\"data\":{\"x\":[0.0,0.15976266344357767,0.31952532688715535,0.479287990330733,0.6390506537743107,0.7988133172178884,0.958575980661466,1.1183386441050438,1.2781013075486214,1.437863970992199,1.5976266344357768,1.7573892978793544,1.917151961322932,2.0769146247665096,2.2366772882100876,2.396439951653665,2.556202615097243,2.7159652785408204,2.875727941984398,3.0354906054279756],\"y\":[3.4183169087973675e-31,-9.229455653752893e-31,-5.6060397304276824e-30,-1.162227748991105e-30,-6.809287282324356e-29,-3.2815842324454725e-30,4.101980290556841e-31,3.7601485996771043e-31,1.302378742251797e-29,-3.197257095583912e-30,4.2630094607785495e-30,8.887623962873155e-31,-4.785643672316314e-31,-2.6662871888619465e-30,3.5439437056838456e-30,-1.0767698262711708e-30,-6.836633817594735e-31,0.0,-1.059678241727184e-30,2.512462927966065e-30]}},\"id\":\"ae8452ce-80ed-42b0-b5c1-36a321d14b6b\",\"type\":\"ColumnDataSource\"},{\"attributes\":{\"callback\":null},\"id\":\"093c7497-1d4a-456f-bacf-92cf83450683\",\"type\":\"DataRange1d\"},{\"attributes\":{\"line_color\":{\"value\":\"#B3E2CD\"},\"x\":{\"field\":\"x\"},\"y\":{\"field\":\"y\"}},\"id\":\"5a66e4c7-94eb-4d5e-99dd-1aa6219a1a45\",\"type\":\"Line\"},{\"attributes\":{\"line_color\":{\"value\":\"#B3E2CD\"},\"x\":{\"field\":\"x\"},\"y\":{\"field\":\"y\"}},\"id\":\"08e1c3fd-908b-42ab-ab83-e005a9f3835b\",\"type\":\"Line\"},{\"attributes\":{\"plot\":{\"id\":\"da529187-2ab7-4023-bfb8-807c87d64906\",\"subtype\":\"Figure\",\"type\":\"Plot\"}},\"id\":\"3fe6fdbe-f3a1-4dea-b0aa-3d4cf01eb477\",\"type\":\"PreviewSaveTool\"},{\"attributes\":{\"plot\":{\"id\":\"53eec73c-7d2f-443b-8fbb-ef3b3347407f\",\"subtype\":\"Figure\",\"type\":\"Plot\"}},\"id\":\"8b159a1c-346f-41db-b218-10897be41d6e\",\"type\":\"ResizeTool\"},{\"attributes\":{\"fill_alpha\":{\"value\":0.3},\"fill_color\":{\"value\":\"#B3E2CD\"},\"line_color\":{\"value\":\"#1f77b4\"},\"x\":{\"field\":\"x\"},\"y\":{\"field\":\"y\"}},\"id\":\"a8a91f0b-7cbf-43cb-b4f4-84073fb26414\",\"type\":\"Patch\"},{\"attributes\":{\"callback\":null,\"column_names\":[\"x\",\"y\"],\"data\":{\"x\":[0.0,0.15976266344357767,0.31952532688715535,0.479287990330733,0.6390506537743107,0.7988133172178884,0.958575980661466,1.1183386441050438,1.2781013075486214,1.437863970992199,1.5976266344357768,1.7573892978793544,1.917151961322932,2.0769146247665096,2.2366772882100876,2.396439951653665,2.556202615097243,2.7159652785408204,2.875727941984398,3.0354906054279756],\"y\":[0.2878689448871027,0.272759547198804,0.25760623902109336,0.24245293084338174,0.22729962266567014,0.21214631448795745,0.19699300631024805,0.18183969813253553,0.1666863899548242,0.15153308177711228,0.1363797735994017,0.12122646542169033,0.10607315724397848,0.09091984906626713,0.07576654088855662,0.06061323271084567,0.045459924533134126,0.03030661635542238,0.015153308177711619,-9.764469189182149e-17]}},\"id\":\"bbde6dec-2bff-4f9e-bdfb-a5d364924424\",\"type\":\"ColumnDataSource\"},{\"attributes\":{\"axis_label\":\"DM_MNXM754\",\"formatter\":{\"id\":\"691d7e62-db9a-4d15-858b-d05410971f88\",\"type\":\"BasicTickFormatter\"},\"plot\":{\"id\":\"da529187-2ab7-4023-bfb8-807c87d64906\",\"subtype\":\"Figure\",\"type\":\"Plot\"},\"ticker\":{\"id\":\"ea5fb197-4c4c-4429-81d7-a9f0496e8484\",\"type\":\"BasicTicker\"}},\"id\":\"575edd96-8a20-4365-98ee-17e754107ffc\",\"type\":\"LinearAxis\"},{\"attributes\":{\"line_color\":{\"value\":\"#B3E2CD\"},\"x\":{\"field\":\"x\"},\"y\":{\"field\":\"y\"}},\"id\":\"96c01369-3dc3-46ae-a581-aa8298267989\",\"type\":\"Line\"},{\"attributes\":{\"line_color\":{\"value\":\"#B3E2CD\"},\"x\":{\"field\":\"x\"},\"y\":{\"field\":\"y\"}},\"id\":\"2f0fd30e-5aea-400e-86c9-641bbd4aff4c\",\"type\":\"Line\"},{\"attributes\":{\"axis_label\":\"BIOMASS_SC5_notrace\",\"formatter\":{\"id\":\"2e0c939c-0ee2-49c0-a968-81aaa7fecbd6\",\"type\":\"BasicTickFormatter\"},\"plot\":{\"id\":\"da529187-2ab7-4023-bfb8-807c87d64906\",\"subtype\":\"Figure\",\"type\":\"Plot\"},\"ticker\":{\"id\":\"1bd80609-855a-4aeb-9469-03787df4d3c1\",\"type\":\"BasicTicker\"}},\"id\":\"9c81691e-be53-42bf-bee2-d794bd389bfd\",\"type\":\"LinearAxis\"},{\"attributes\":{\"bottom_units\":\"screen\",\"fill_alpha\":{\"value\":0.5},\"fill_color\":{\"value\":\"lightgrey\"},\"left_units\":\"screen\",\"level\":\"overlay\",\"line_alpha\":{\"value\":1.0},\"line_color\":{\"value\":\"black\"},\"line_dash\":[4,4],\"line_width\":{\"value\":2},\"plot\":null,\"render_mode\":\"css\",\"right_units\":\"screen\",\"top_units\":\"screen\"},\"id\":\"1cf49dd9-d624-44a5-9a7e-f77a3329a0fd\",\"type\":\"BoxAnnotation\"},{\"attributes\":{\"plot\":{\"id\":\"28444097-feaa-474f-b428-e6c287ba2b18\",\"subtype\":\"Figure\",\"type\":\"Plot\"}},\"id\":\"5a846035-fb8c-4329-9873-381afd0563e5\",\"type\":\"HelpTool\"},{\"attributes\":{\"data_source\":{\"id\":\"c12ae9c4-e358-4dee-82b1-15de75d20b50\",\"type\":\"ColumnDataSource\"},\"glyph\":{\"id\":\"7e70f382-5606-41a4-8347-553bcf3cd1de\",\"type\":\"Line\"},\"hover_glyph\":null,\"nonselection_glyph\":{\"id\":\"8ac49a09-eb53-44ab-965e-fa60303d9250\",\"type\":\"Line\"},\"selection_glyph\":null},\"id\":\"9b2ef913-98ee-4e4f-a2a9-f1b5fbdbf6bc\",\"type\":\"GlyphRenderer\"},{\"attributes\":{\"callback\":null},\"id\":\"0f3c286d-19fc-4ef4-9d27-e55e0bc08975\",\"type\":\"DataRange1d\"},{\"attributes\":{},\"id\":\"2496b28a-f965-4b47-b3a5-94e95204fb97\",\"type\":\"BasicTickFormatter\"},{\"attributes\":{\"line_alpha\":{\"value\":0.1},\"line_color\":{\"value\":\"#1f77b4\"},\"x\":{\"field\":\"x\"},\"y\":{\"field\":\"y\"}},\"id\":\"83a55ef0-29e3-4a92-b416-fd301e928280\",\"type\":\"Line\"},{\"attributes\":{\"legends\":[[\"WT\",[{\"id\":\"2354b2d1-09d9-4f5b-8449-db4fb8174daa\",\"type\":\"GlyphRenderer\"}]]],\"plot\":{\"id\":\"d970b34f-f137-46db-a9ff-b25a7f977409\",\"subtype\":\"Figure\",\"type\":\"Plot\"}},\"id\":\"b0c2aac7-3053-4c5a-9646-c18a50eeaa2d\",\"type\":\"Legend\"},{\"attributes\":{\"fill_alpha\":{\"value\":0.1},\"fill_color\":{\"value\":\"#1f77b4\"},\"line_alpha\":{\"value\":0.1},\"line_color\":{\"value\":\"#1f77b4\"},\"x\":{\"field\":\"x\"},\"y\":{\"field\":\"y\"}},\"id\":\"8b4c12a1-19fd-4bf9-a120-77703f31cf6c\",\"type\":\"Patch\"},{\"attributes\":{\"callback\":null,\"column_names\":[\"x\",\"y\"],\"data\":{\"x\":[0.0,0.10028028651510427,0.20056057303020855,0.3008408595453128,0.4011211460604171,0.5014014325755214,0.6016817190906256,0.70196200560573,0.8022422921208342,0.9025225786359384,1.0028028651510428,1.103083151666147,1.2033634381812512,1.3036437246963555,1.40392401121146,1.5042042977265642,1.6044845842416684,1.7047648707567726,1.8050451572718769,1.9053254437869813],\"y\":[-9.673836851896553e-29,1.2305940871670527e-29,-2.2560891598062634e-30,1.4356931016948947e-30,-1.5177327075060317e-29,5.084746401836086e-31,3.6210144472808326e-30,-1.2848853184958652e-32,-2.375730251614171e-30,2.7620000623082735e-29,1.7091584543986844e-29,1.353653495883758e-29,-3.281584232445474e-30,1.0118218050040211e-29,-2.734653527037895e-31,1.0254950726392106e-30,-5.640222899515658e-31,-6.836633817594737e-32,1.1109529953591447e-30,1.0596782417271842e-30]}},\"id\":\"58c399e2-59f4-4500-b50a-64f7f2d8eef4\",\"type\":\"ColumnDataSource\"},{\"attributes\":{\"line_alpha\":{\"value\":0.1},\"line_color\":{\"value\":\"#1f77b4\"},\"x\":{\"field\":\"x\"},\"y\":{\"field\":\"y\"}},\"id\":\"eaf020a6-d1a7-45d7-8021-2b5025dac4a4\",\"type\":\"Line\"},{\"attributes\":{\"callback\":null,\"column_names\":[\"x\",\"y\"],\"data\":{\"x\":[3.0354906054279756,3.0354906054279756],\"y\":[-9.764469189182149e-17,2.512462927966065e-30]}},\"id\":\"054b334c-e19c-4285-82c4-a643024fe666\",\"type\":\"ColumnDataSource\"},{\"attributes\":{\"callback\":null},\"id\":\"8ca4a2ac-411d-424f-bad2-383d8f78c1de\",\"type\":\"DataRange1d\"},{\"attributes\":{\"plot\":{\"id\":\"da529187-2ab7-4023-bfb8-807c87d64906\",\"subtype\":\"Figure\",\"type\":\"Plot\"}},\"id\":\"86facf79-8282-4b82-b5fd-998f8213bf44\",\"type\":\"ResizeTool\"},{\"attributes\":{\"plot\":{\"id\":\"da529187-2ab7-4023-bfb8-807c87d64906\",\"subtype\":\"Figure\",\"type\":\"Plot\"}},\"id\":\"83ec521f-bfd5-4673-bb3e-830cf7c6bb97\",\"type\":\"ResetTool\"},{\"attributes\":{\"plot\":{\"id\":\"28444097-feaa-474f-b428-e6c287ba2b18\",\"subtype\":\"Figure\",\"type\":\"Plot\"}},\"id\":\"03c333ce-053f-4152-95a6-884383256b05\",\"type\":\"ResizeTool\"},{\"attributes\":{\"overlay\":{\"id\":\"38bb1d71-2d87-453f-9907-49272da51716\",\"type\":\"BoxAnnotation\"},\"plot\":{\"id\":\"28444097-feaa-474f-b428-e6c287ba2b18\",\"subtype\":\"Figure\",\"type\":\"Plot\"}},\"id\":\"f41d5b6f-9e22-486f-a3c6-85945767dee5\",\"type\":\"BoxZoomTool\"},{\"attributes\":{\"below\":[{\"id\":\"6d305081-13b6-4886-b05a-08fbf6119019\",\"type\":\"LinearAxis\"}],\"left\":[{\"id\":\"ab593245-6ecb-4970-80af-115fb4f21fe0\",\"type\":\"LinearAxis\"}],\"plot_height\":278,\"plot_width\":450,\"renderers\":[{\"id\":\"6d305081-13b6-4886-b05a-08fbf6119019\",\"type\":\"LinearAxis\"},{\"id\":\"6033d77a-a7ac-4b50-951a-2088db55005c\",\"type\":\"Grid\"},{\"id\":\"ab593245-6ecb-4970-80af-115fb4f21fe0\",\"type\":\"LinearAxis\"},{\"id\":\"3aa3a6e2-6bff-4747-a092-30b65872091e\",\"type\":\"Grid\"},{\"id\":\"f647cb1a-6eb4-48e5-91f4-8c9dbe73c86d\",\"type\":\"BoxAnnotation\"},{\"id\":\"b0c2aac7-3053-4c5a-9646-c18a50eeaa2d\",\"type\":\"Legend\"},{\"id\":\"2354b2d1-09d9-4f5b-8449-db4fb8174daa\",\"type\":\"GlyphRenderer\"},{\"id\":\"ad973b57-29ed-4fac-956b-6e8e74162492\",\"type\":\"GlyphRenderer\"},{\"id\":\"a573f1ac-9412-4af5-92c4-bf207b010b04\",\"type\":\"GlyphRenderer\"},{\"id\":\"3529eb73-1230-4ae0-bf40-83157fc40e69\",\"type\":\"GlyphRenderer\"}],\"title\":\"Pathway 2\",\"tool_events\":{\"id\":\"037d5501-aee3-43ed-a7b7-c65db6050d0a\",\"type\":\"ToolEvents\"},\"tools\":[{\"id\":\"6d2d8812-2774-4396-9c48-5e7043de8a7e\",\"type\":\"PanTool\"},{\"id\":\"fff5e31c-7907-4d00-869a-2293424d021f\",\"type\":\"WheelZoomTool\"},{\"id\":\"6ca93478-2f68-4753-9217-d8925d55b882\",\"type\":\"BoxZoomTool\"},{\"id\":\"b5113802-d06a-44d0-8680-3d64af6bc714\",\"type\":\"PreviewSaveTool\"},{\"id\":\"6da7c8d1-b2a2-49e9-9f6f-5c07470da8b3\",\"type\":\"ResizeTool\"},{\"id\":\"0057d9bb-5362-4f12-9031-a967810d234f\",\"type\":\"ResetTool\"},{\"id\":\"39f89754-6eb0-40da-98e7-582ceadc7c0e\",\"type\":\"HelpTool\"}],\"x_range\":{\"id\":\"35707a42-86de-42c9-aaa5-95cd2c1a0c15\",\"type\":\"DataRange1d\"},\"y_range\":{\"id\":\"9195a639-666c-40ed-8d19-7178552f89dd\",\"type\":\"DataRange1d\"}},\"id\":\"d970b34f-f137-46db-a9ff-b25a7f977409\",\"subtype\":\"Figure\",\"type\":\"Plot\"},{\"attributes\":{\"plot\":{\"id\":\"da529187-2ab7-4023-bfb8-807c87d64906\",\"subtype\":\"Figure\",\"type\":\"Plot\"}},\"id\":\"6896c3e9-48ff-4c38-b3fa-84f0edae051c\",\"type\":\"HelpTool\"},{\"attributes\":{\"callback\":null,\"column_names\":[\"x\",\"y\"],\"data\":{\"x\":[2.6975881261595562,2.6975881261595562],\"y\":[-7.590615123098843e-17,-9.913119035512368e-31]}},\"id\":\"83fdd9d5-3d82-4a89-aa8d-5de928b1c3bb\",\"type\":\"ColumnDataSource\"},{\"attributes\":{\"line_color\":{\"value\":\"#B3E2CD\"},\"x\":{\"field\":\"x\"},\"y\":{\"field\":\"y\"}},\"id\":\"e3601059-a34e-44f9-953b-8b07e810ec6b\",\"type\":\"Line\"},{\"attributes\":{\"data_source\":{\"id\":\"58c399e2-59f4-4500-b50a-64f7f2d8eef4\",\"type\":\"ColumnDataSource\"},\"glyph\":{\"id\":\"96c01369-3dc3-46ae-a581-aa8298267989\",\"type\":\"Line\"},\"hover_glyph\":null,\"nonselection_glyph\":{\"id\":\"eaf020a6-d1a7-45d7-8021-2b5025dac4a4\",\"type\":\"Line\"},\"selection_glyph\":null},\"id\":\"a573f1ac-9412-4af5-92c4-bf207b010b04\",\"type\":\"GlyphRenderer\"},{\"attributes\":{\"plot\":{\"id\":\"53eec73c-7d2f-443b-8fbb-ef3b3347407f\",\"subtype\":\"Figure\",\"type\":\"Plot\"}},\"id\":\"44875063-a71f-4a73-bf55-d596532d3c7b\",\"type\":\"ResetTool\"},{\"attributes\":{\"line_alpha\":{\"value\":0.1},\"line_color\":{\"value\":\"#1f77b4\"},\"x\":{\"field\":\"x\"},\"y\":{\"field\":\"y\"}},\"id\":\"23e05a29-648a-451f-8866-887a1c4d7f86\",\"type\":\"Line\"},{\"attributes\":{\"below\":[{\"id\":\"dcee69fb-a4e9-4c74-9eba-524d45377a26\",\"type\":\"LinearAxis\"}],\"left\":[{\"id\":\"c82b0ece-1dad-4c45-b7d8-50403b301c3d\",\"type\":\"LinearAxis\"}],\"plot_height\":278,\"plot_width\":450,\"renderers\":[{\"id\":\"dcee69fb-a4e9-4c74-9eba-524d45377a26\",\"type\":\"LinearAxis\"},{\"id\":\"562b33c2-ac8a-42a9-a409-e573b720ce97\",\"type\":\"Grid\"},{\"id\":\"c82b0ece-1dad-4c45-b7d8-50403b301c3d\",\"type\":\"LinearAxis\"},{\"id\":\"6919d69d-64a7-4975-a578-4927eef66630\",\"type\":\"Grid\"},{\"id\":\"0c9f61dd-1d7a-40ad-bcb8-edc4e6853fe8\",\"type\":\"BoxAnnotation\"},{\"id\":\"a1c40f79-53cb-4c59-80ee-61948072f76f\",\"type\":\"Legend\"},{\"id\":\"7c41dcb8-cc04-463a-83b0-be7b437e3feb\",\"type\":\"GlyphRenderer\"},{\"id\":\"229ce251-e6aa-46e5-82ac-0a2d83f80cb0\",\"type\":\"GlyphRenderer\"},{\"id\":\"c128eca7-44fb-4f57-81ca-5c73e301c72c\",\"type\":\"GlyphRenderer\"},{\"id\":\"10280458-f521-4097-9c41-488524a939eb\",\"type\":\"GlyphRenderer\"}],\"title\":\"Pathway 3\",\"tool_events\":{\"id\":\"5849e09e-9487-4c25-a114-e3d9b7cc6963\",\"type\":\"ToolEvents\"},\"tools\":[{\"id\":\"c33ca12a-c735-4654-bba4-0522697d8eff\",\"type\":\"PanTool\"},{\"id\":\"4baff112-ed58-4ab6-af43-96aa187441b2\",\"type\":\"WheelZoomTool\"},{\"id\":\"eeae09d6-157e-4a63-8966-d77f1e1a8d53\",\"type\":\"BoxZoomTool\"},{\"id\":\"deb5e0a3-64c9-419f-8d79-96f4f5c173ac\",\"type\":\"PreviewSaveTool\"},{\"id\":\"8b159a1c-346f-41db-b218-10897be41d6e\",\"type\":\"ResizeTool\"},{\"id\":\"44875063-a71f-4a73-bf55-d596532d3c7b\",\"type\":\"ResetTool\"},{\"id\":\"4c415a81-2f7a-444c-925f-ff68d29354f3\",\"type\":\"HelpTool\"}],\"x_range\":{\"id\":\"3a3bc595-b559-40ea-afd2-0d1538956658\",\"type\":\"DataRange1d\"},\"y_range\":{\"id\":\"550208f1-9fe5-46a5-aedd-f771d1d5e563\",\"type\":\"DataRange1d\"}},\"id\":\"53eec73c-7d2f-443b-8fbb-ef3b3347407f\",\"subtype\":\"Figure\",\"type\":\"Plot\"},{\"attributes\":{},\"id\":\"19e89478-2ba1-4fd5-bc8c-f889408b59e8\",\"type\":\"BasicTicker\"},{\"attributes\":{\"dimension\":1,\"plot\":{\"id\":\"d970b34f-f137-46db-a9ff-b25a7f977409\",\"subtype\":\"Figure\",\"type\":\"Plot\"},\"ticker\":{\"id\":\"6b397c0a-6e5d-4954-b1a3-3467a85df8b8\",\"type\":\"BasicTicker\"}},\"id\":\"3aa3a6e2-6bff-4747-a092-30b65872091e\",\"type\":\"Grid\"},{\"attributes\":{\"line_alpha\":{\"value\":0.1},\"line_color\":{\"value\":\"#1f77b4\"},\"x\":{\"field\":\"x\"},\"y\":{\"field\":\"y\"}},\"id\":\"f4c3397f-aabc-4fdf-a0fb-e8db41b2c872\",\"type\":\"Line\"},{\"attributes\":{\"overlay\":{\"id\":\"f647cb1a-6eb4-48e5-91f4-8c9dbe73c86d\",\"type\":\"BoxAnnotation\"},\"plot\":{\"id\":\"d970b34f-f137-46db-a9ff-b25a7f977409\",\"subtype\":\"Figure\",\"type\":\"Plot\"}},\"id\":\"6ca93478-2f68-4753-9217-d8925d55b882\",\"type\":\"BoxZoomTool\"},{\"attributes\":{\"dimension\":1,\"plot\":{\"id\":\"53eec73c-7d2f-443b-8fbb-ef3b3347407f\",\"subtype\":\"Figure\",\"type\":\"Plot\"},\"ticker\":{\"id\":\"20a1f126-db2c-4d2b-b576-f518d37f6769\",\"type\":\"BasicTicker\"}},\"id\":\"6919d69d-64a7-4975-a578-4927eef66630\",\"type\":\"Grid\"},{\"attributes\":{\"children\":[[{\"id\":\"da529187-2ab7-4023-bfb8-807c87d64906\",\"subtype\":\"Figure\",\"type\":\"Plot\"},{\"id\":\"28444097-feaa-474f-b428-e6c287ba2b18\",\"subtype\":\"Figure\",\"type\":\"Plot\"}],[{\"id\":\"d970b34f-f137-46db-a9ff-b25a7f977409\",\"subtype\":\"Figure\",\"type\":\"Plot\"},{\"id\":\"53eec73c-7d2f-443b-8fbb-ef3b3347407f\",\"subtype\":\"Figure\",\"type\":\"Plot\"}]],\"name\":\"Production envelops for Demand vanillin\"},\"id\":\"45c45b76-4d73-4361-84de-1169071befdf\",\"type\":\"GridPlot\"},{\"attributes\":{\"data_source\":{\"id\":\"abfbcbed-45f8-4261-9def-ffd46b7c7f0e\",\"type\":\"ColumnDataSource\"},\"glyph\":{\"id\":\"ef46bbce-5abc-425f-a59a-5ec8abe24dee\",\"type\":\"Line\"},\"hover_glyph\":null,\"nonselection_glyph\":{\"id\":\"07da629e-2541-4645-a0e2-c92c3783eb17\",\"type\":\"Line\"},\"selection_glyph\":null},\"id\":\"229ce251-e6aa-46e5-82ac-0a2d83f80cb0\",\"type\":\"GlyphRenderer\"},{\"attributes\":{\"legends\":[[\"WT\",[{\"id\":\"024daffa-03ab-420e-a1e3-93233f0187fd\",\"type\":\"GlyphRenderer\"}]]],\"plot\":{\"id\":\"da529187-2ab7-4023-bfb8-807c87d64906\",\"subtype\":\"Figure\",\"type\":\"Plot\"}},\"id\":\"470b309c-5ad1-4267-9ffe-bbbf7cf8cbdf\",\"type\":\"Legend\"},{\"attributes\":{\"plot\":{\"id\":\"da529187-2ab7-4023-bfb8-807c87d64906\",\"subtype\":\"Figure\",\"type\":\"Plot\"},\"ticker\":{\"id\":\"ea5fb197-4c4c-4429-81d7-a9f0496e8484\",\"type\":\"BasicTicker\"}},\"id\":\"dd95853c-d736-4278-9a9b-046bd1979168\",\"type\":\"Grid\"},{\"attributes\":{},\"id\":\"2aad5f73-eadc-4304-86f8-28b074b27298\",\"type\":\"BasicTickFormatter\"},{\"attributes\":{\"plot\":{\"id\":\"da529187-2ab7-4023-bfb8-807c87d64906\",\"subtype\":\"Figure\",\"type\":\"Plot\"}},\"id\":\"e136daeb-7cdb-4e3c-86b0-fcb1d9c30807\",\"type\":\"PanTool\"},{\"attributes\":{},\"id\":\"eec52a23-2d54-4676-a21c-95393a4bb204\",\"type\":\"BasicTickFormatter\"},{\"attributes\":{\"legends\":[[\"WT\",[{\"id\":\"80508d9b-cec9-4055-a8b5-dbbf1b63d705\",\"type\":\"GlyphRenderer\"}]]],\"plot\":{\"id\":\"28444097-feaa-474f-b428-e6c287ba2b18\",\"subtype\":\"Figure\",\"type\":\"Plot\"}},\"id\":\"ac2273a6-c118-48ad-b9a0-9da2d3aebf18\",\"type\":\"Legend\"},{\"attributes\":{\"data_source\":{\"id\":\"dbc8e718-1efe-42e0-8972-87de113245ab\",\"type\":\"ColumnDataSource\"},\"glyph\":{\"id\":\"a8a91f0b-7cbf-43cb-b4f4-84073fb26414\",\"type\":\"Patch\"},\"hover_glyph\":null,\"nonselection_glyph\":{\"id\":\"f7c09b81-9d5d-453a-8e48-a1e3aa4b0b9f\",\"type\":\"Patch\"},\"selection_glyph\":null},\"id\":\"024daffa-03ab-420e-a1e3-93233f0187fd\",\"type\":\"GlyphRenderer\"},{\"attributes\":{\"data_source\":{\"id\":\"bbde6dec-2bff-4f9e-bdfb-a5d364924424\",\"type\":\"ColumnDataSource\"},\"glyph\":{\"id\":\"ab9d8114-ecb2-4986-a898-88896a9baab3\",\"type\":\"Line\"},\"hover_glyph\":null,\"nonselection_glyph\":{\"id\":\"f4c3397f-aabc-4fdf-a0fb-e8db41b2c872\",\"type\":\"Line\"},\"selection_glyph\":null},\"id\":\"df1fe55a-a607-4ee0-92b0-aead0333ddea\",\"type\":\"GlyphRenderer\"},{\"attributes\":{\"callback\":null,\"column_names\":[\"x\",\"y\"],\"data\":{\"x\":[0.0,0.14197832242945033,0.28395664485890065,0.425934967288351,0.5679132897178013,0.7098916121472516,0.851869934576702,0.9938482570061523,1.1358265794356026,1.277804901865053,1.4197832242945032,1.5617615467239536,1.703739869153404,1.8457181915828542,1.9876965140123046,2.129674836441755,2.2716531588712052,2.4136314813006554,2.555609803730106,2.6975881261595562,2.6975881261595562,2.555609803730106,2.4136314813006554,2.2716531588712052,2.129674836441755,1.9876965140123046,1.8457181915828542,1.703739869153404,1.5617615467239536,1.4197832242945032,1.277804901865053,1.1358265794356026,0.9938482570061523,0.851869934576702,0.7098916121472516,0.5679132897178013,0.425934967288351,0.28395664485890065,0.14197832242945033,0.0],\"y\":[-3.435408493341355e-30,7.246831846650421e-30,9.161089315576948e-30,1.093861410815158e-30,-1.3673267635189474e-31,-1.2305940871670526e-30,-4.101980290556842e-31,2.515881244874863e-29,-9.747544310242496e-33,4.785643672316316e-31,-8.549965022126231e-33,-2.42914145331413e-30,-2.136448067998355e-31,1.504059439870842e-30,-9.571287344632632e-31,-4.785643672316316e-31,1.9826238071024736e-30,-1.9142574689265264e-30,-3.760148599677105e-31,-9.913119035512368e-31,-7.590615123098843e-17,0.015153308177711376,0.03030661635542269,0.04545992453313415,0.06061323271084576,0.0757665408885565,0.09091984906626828,0.10607315724397907,0.1212264654216909,0.13637977359940107,0.15153308177711278,0.16668638995482457,0.18183969813253675,0.19699300631024744,0.21214631448795893,0.22729962266566986,0.2424529308433818,0.2576062390210925,0.2727595471988046,0.28786570370401665]}},\"id\":\"5da0f56b-f472-4a4a-a4a8-b106af70160f\",\"type\":\"ColumnDataSource\"},{\"attributes\":{\"plot\":{\"id\":\"28444097-feaa-474f-b428-e6c287ba2b18\",\"subtype\":\"Figure\",\"type\":\"Plot\"}},\"id\":\"6189b72e-58e7-4387-8c46-b74a4251a29c\",\"type\":\"ResetTool\"},{\"attributes\":{\"callback\":null,\"column_names\":[\"x\",\"y\"],\"data\":{\"x\":[0.0,0.17740154582259843,0.35480309164519686,0.5322046374677953,0.7096061832903937,0.8870077291129921,1.0644092749355907,1.241810820758189,1.4192123665807874,1.5966139124033858,1.7740154582259842,1.9514170040485828,2.1288185498711814,2.3062200956937797,2.483621641516378,2.6610231873389765,2.838424733161575,3.015826278984173,3.1932278248067716,3.37062937062937],\"y\":[0.2878701987492661,0.2728375375125564,0.2576937469897097,0.24254995646686453,0.2274061659440192,0.21226237542117418,0.19711858489832856,0.1819747943754826,0.16683100385263835,0.15168721332979243,0.13654342280694567,0.12139963228410126,0.10625584176125587,0.09111205123841025,0.07596826071556452,0.06082447019271955,0.04568067966987403,0.03053688914702945,0.01532984100154494,2.8495114587659576e-16]}},\"id\":\"a0f21909-fbc2-4474-ad97-6e130b9761d4\",\"type\":\"ColumnDataSource\"},{\"attributes\":{\"plot\":{\"id\":\"d970b34f-f137-46db-a9ff-b25a7f977409\",\"subtype\":\"Figure\",\"type\":\"Plot\"}},\"id\":\"6da7c8d1-b2a2-49e9-9f6f-5c07470da8b3\",\"type\":\"ResizeTool\"},{\"attributes\":{},\"id\":\"27005135-c4dd-4909-904d-ec8aebebc1e8\",\"type\":\"BasicTickFormatter\"},{\"attributes\":{\"below\":[{\"id\":\"575edd96-8a20-4365-98ee-17e754107ffc\",\"type\":\"LinearAxis\"}],\"left\":[{\"id\":\"9c81691e-be53-42bf-bee2-d794bd389bfd\",\"type\":\"LinearAxis\"}],\"plot_height\":278,\"plot_width\":450,\"renderers\":[{\"id\":\"575edd96-8a20-4365-98ee-17e754107ffc\",\"type\":\"LinearAxis\"},{\"id\":\"dd95853c-d736-4278-9a9b-046bd1979168\",\"type\":\"Grid\"},{\"id\":\"9c81691e-be53-42bf-bee2-d794bd389bfd\",\"type\":\"LinearAxis\"},{\"id\":\"ca95bdb7-1f63-49f9-9917-462c36e39b1c\",\"type\":\"Grid\"},{\"id\":\"1cf49dd9-d624-44a5-9a7e-f77a3329a0fd\",\"type\":\"BoxAnnotation\"},{\"id\":\"470b309c-5ad1-4267-9ffe-bbbf7cf8cbdf\",\"type\":\"Legend\"},{\"id\":\"024daffa-03ab-420e-a1e3-93233f0187fd\",\"type\":\"GlyphRenderer\"},{\"id\":\"bc7e4e08-aecb-4d10-9367-b0c3e1a7648f\",\"type\":\"GlyphRenderer\"},{\"id\":\"9b2ef913-98ee-4e4f-a2a9-f1b5fbdbf6bc\",\"type\":\"GlyphRenderer\"},{\"id\":\"8e5e15d6-2dcc-45eb-80bf-8ef719f2183c\",\"type\":\"GlyphRenderer\"}],\"title\":\"Pathway 0\",\"tool_events\":{\"id\":\"63fdf97f-499f-4f31-9d4c-27a144f68414\",\"type\":\"ToolEvents\"},\"tools\":[{\"id\":\"e136daeb-7cdb-4e3c-86b0-fcb1d9c30807\",\"type\":\"PanTool\"},{\"id\":\"a6aa4f5c-ea19-4f04-ae7d-318817cee639\",\"type\":\"WheelZoomTool\"},{\"id\":\"c487fae7-58fb-4efb-80c2-3102f3baa33e\",\"type\":\"BoxZoomTool\"},{\"id\":\"3fe6fdbe-f3a1-4dea-b0aa-3d4cf01eb477\",\"type\":\"PreviewSaveTool\"},{\"id\":\"86facf79-8282-4b82-b5fd-998f8213bf44\",\"type\":\"ResizeTool\"},{\"id\":\"83ec521f-bfd5-4673-bb3e-830cf7c6bb97\",\"type\":\"ResetTool\"},{\"id\":\"6896c3e9-48ff-4c38-b3fa-84f0edae051c\",\"type\":\"HelpTool\"}],\"x_range\":{\"id\":\"0f3c286d-19fc-4ef4-9d27-e55e0bc08975\",\"type\":\"DataRange1d\"},\"y_range\":{\"id\":\"8ca4a2ac-411d-424f-bad2-383d8f78c1de\",\"type\":\"DataRange1d\"}},\"id\":\"da529187-2ab7-4023-bfb8-807c87d64906\",\"subtype\":\"Figure\",\"type\":\"Plot\"},{\"attributes\":{\"plot\":{\"id\":\"d970b34f-f137-46db-a9ff-b25a7f977409\",\"subtype\":\"Figure\",\"type\":\"Plot\"}},\"id\":\"0057d9bb-5362-4f12-9031-a967810d234f\",\"type\":\"ResetTool\"},{\"attributes\":{\"data_source\":{\"id\":\"83fdd9d5-3d82-4a89-aa8d-5de928b1c3bb\",\"type\":\"ColumnDataSource\"},\"glyph\":{\"id\":\"664317fc-0177-4640-b4e4-175fa6ea6601\",\"type\":\"Line\"},\"hover_glyph\":null,\"nonselection_glyph\":{\"id\":\"34b68d0e-0f09-42a4-ae22-4175fe7308a6\",\"type\":\"Line\"},\"selection_glyph\":null},\"id\":\"10280458-f521-4097-9c41-488524a939eb\",\"type\":\"GlyphRenderer\"},{\"attributes\":{\"line_color\":{\"value\":\"#B3E2CD\"},\"x\":{\"field\":\"x\"},\"y\":{\"field\":\"y\"}},\"id\":\"ab9d8114-ecb2-4986-a898-88896a9baab3\",\"type\":\"Line\"},{\"attributes\":{\"callback\":null,\"column_names\":[\"x\",\"y\"],\"data\":{\"x\":[0.0,0.10028028651510427,0.20056057303020855,0.3008408595453128,0.4011211460604171,0.5014014325755214,0.6016817190906256,0.70196200560573,0.8022422921208342,0.9025225786359384,1.0028028651510428,1.103083151666147,1.2033634381812512,1.3036437246963555,1.40392401121146,1.5042042977265642,1.6044845842416684,1.7047648707567726,1.8050451572718769,1.9053254437869813],\"y\":[0.2878657037040153,0.2735208495081403,0.25906162581131176,0.24460240211448203,0.23011236010386396,0.21558126179391035,0.20105016348395416,0.18651906517400188,0.17168519344133562,0.15625613552515139,0.14063052197263512,0.12500490842012021,0.10937929486760586,0.09375368131508985,0.07812806776257641,0.0625024542100609,0.04687684065754578,0.03125122710503026,0.015625613552516723,2.9603427254424836e-16]}},\"id\":\"87fee97e-cea5-4871-aca2-443455278757\",\"type\":\"ColumnDataSource\"},{\"attributes\":{\"fill_alpha\":{\"value\":0.3},\"fill_color\":{\"value\":\"#B3E2CD\"},\"line_color\":{\"value\":\"#1f77b4\"},\"x\":{\"field\":\"x\"},\"y\":{\"field\":\"y\"}},\"id\":\"cc0659e6-bc3d-434b-9224-a468c9a24a7d\",\"type\":\"Patch\"},{\"attributes\":{\"bottom_units\":\"screen\",\"fill_alpha\":{\"value\":0.5},\"fill_color\":{\"value\":\"lightgrey\"},\"left_units\":\"screen\",\"level\":\"overlay\",\"line_alpha\":{\"value\":1.0},\"line_color\":{\"value\":\"black\"},\"line_dash\":[4,4],\"line_width\":{\"value\":2},\"plot\":null,\"render_mode\":\"css\",\"right_units\":\"screen\",\"top_units\":\"screen\"},\"id\":\"38bb1d71-2d87-453f-9907-49272da51716\",\"type\":\"BoxAnnotation\"},{\"attributes\":{\"plot\":{\"id\":\"28444097-feaa-474f-b428-e6c287ba2b18\",\"subtype\":\"Figure\",\"type\":\"Plot\"}},\"id\":\"137c2642-d5be-4bc1-b7aa-a3968fa916b7\",\"type\":\"WheelZoomTool\"},{\"attributes\":{\"callback\":null,\"column_names\":[\"x\",\"y\"],\"data\":{\"x\":[0.0,0.14197832242945033,0.28395664485890065,0.425934967288351,0.5679132897178013,0.7098916121472516,0.851869934576702,0.9938482570061523,1.1358265794356026,1.277804901865053,1.4197832242945032,1.5617615467239536,1.703739869153404,1.8457181915828542,1.9876965140123046,2.129674836441755,2.2716531588712052,2.4136314813006554,2.555609803730106,2.6975881261595562],\"y\":[0.28786570370401665,0.2727595471988046,0.2576062390210925,0.2424529308433818,0.22729962266566986,0.21214631448795893,0.19699300631024744,0.18183969813253675,0.16668638995482457,0.15153308177711278,0.13637977359940107,0.1212264654216909,0.10607315724397907,0.09091984906626828,0.0757665408885565,0.06061323271084576,0.04545992453313415,0.03030661635542269,0.015153308177711376,-7.590615123098843e-17]}},\"id\":\"abfbcbed-45f8-4261-9def-ffd46b7c7f0e\",\"type\":\"ColumnDataSource\"},{\"attributes\":{\"plot\":{\"id\":\"53eec73c-7d2f-443b-8fbb-ef3b3347407f\",\"subtype\":\"Figure\",\"type\":\"Plot\"}},\"id\":\"4c415a81-2f7a-444c-925f-ff68d29354f3\",\"type\":\"HelpTool\"},{\"attributes\":{\"data_source\":{\"id\":\"b001f95e-dcb4-416c-9b5b-a74875af8412\",\"type\":\"ColumnDataSource\"},\"glyph\":{\"id\":\"5a66e4c7-94eb-4d5e-99dd-1aa6219a1a45\",\"type\":\"Line\"},\"hover_glyph\":null,\"nonselection_glyph\":{\"id\":\"83a55ef0-29e3-4a92-b416-fd301e928280\",\"type\":\"Line\"},\"selection_glyph\":null},\"id\":\"c128eca7-44fb-4f57-81ca-5c73e301c72c\",\"type\":\"GlyphRenderer\"},{\"attributes\":{\"plot\":{\"id\":\"d970b34f-f137-46db-a9ff-b25a7f977409\",\"subtype\":\"Figure\",\"type\":\"Plot\"}},\"id\":\"b5113802-d06a-44d0-8680-3d64af6bc714\",\"type\":\"PreviewSaveTool\"},{\"attributes\":{\"line_alpha\":{\"value\":0.1},\"line_color\":{\"value\":\"#1f77b4\"},\"x\":{\"field\":\"x\"},\"y\":{\"field\":\"y\"}},\"id\":\"07da629e-2541-4645-a0e2-c92c3783eb17\",\"type\":\"Line\"},{\"attributes\":{\"callback\":null,\"column_names\":[\"x\",\"y\"],\"data\":{\"x\":[0.0,0.15976266344357767,0.31952532688715535,0.479287990330733,0.6390506537743107,0.7988133172178884,0.958575980661466,1.1183386441050438,1.2781013075486214,1.437863970992199,1.5976266344357768,1.7573892978793544,1.917151961322932,2.0769146247665096,2.2366772882100876,2.396439951653665,2.556202615097243,2.7159652785408204,2.875727941984398,3.0354906054279756,3.0354906054279756,2.875727941984398,2.7159652785408204,2.556202615097243,2.396439951653665,2.2366772882100876,2.0769146247665096,1.917151961322932,1.7573892978793544,1.5976266344357768,1.437863970992199,1.2781013075486214,1.1183386441050438,0.958575980661466,0.7988133172178884,0.6390506537743107,0.479287990330733,0.31952532688715535,0.15976266344357767,0.0],\"y\":[3.4183169087973675e-31,-9.229455653752893e-31,-5.6060397304276824e-30,-1.162227748991105e-30,-6.809287282324356e-29,-3.2815842324454725e-30,4.101980290556841e-31,3.7601485996771043e-31,1.302378742251797e-29,-3.197257095583912e-30,4.2630094607785495e-30,8.887623962873155e-31,-4.785643672316314e-31,-2.6662871888619465e-30,3.5439437056838456e-30,-1.0767698262711708e-30,-6.836633817594735e-31,0.0,-1.059678241727184e-30,2.512462927966065e-30,-9.764469189182149e-17,0.015153308177711619,0.03030661635542238,0.045459924533134126,0.06061323271084567,0.07576654088855662,0.09091984906626713,0.10607315724397848,0.12122646542169033,0.1363797735994017,0.15153308177711228,0.1666863899548242,0.18183969813253553,0.19699300631024805,0.21214631448795745,0.22729962266567014,0.24245293084338174,0.25760623902109336,0.272759547198804,0.2878689448871027]}},\"id\":\"920f615f-88c9-439d-a995-bdac58764f27\",\"type\":\"ColumnDataSource\"},{\"attributes\":{\"callback\":null},\"id\":\"3a3bc595-b559-40ea-afd2-0d1538956658\",\"type\":\"DataRange1d\"},{\"attributes\":{\"plot\":{\"id\":\"d970b34f-f137-46db-a9ff-b25a7f977409\",\"subtype\":\"Figure\",\"type\":\"Plot\"}},\"id\":\"fff5e31c-7907-4d00-869a-2293424d021f\",\"type\":\"WheelZoomTool\"},{\"attributes\":{\"fill_alpha\":{\"value\":0.1},\"fill_color\":{\"value\":\"#1f77b4\"},\"line_alpha\":{\"value\":0.1},\"line_color\":{\"value\":\"#1f77b4\"},\"x\":{\"field\":\"x\"},\"y\":{\"field\":\"y\"}},\"id\":\"01b49dea-959a-4688-9c15-4d749356f3ea\",\"type\":\"Patch\"},{\"attributes\":{\"axis_label\":\"BIOMASS_SC5_notrace\",\"formatter\":{\"id\":\"3224427e-9736-40d3-8cd9-3cec6c64ceef\",\"type\":\"BasicTickFormatter\"},\"plot\":{\"id\":\"53eec73c-7d2f-443b-8fbb-ef3b3347407f\",\"subtype\":\"Figure\",\"type\":\"Plot\"},\"ticker\":{\"id\":\"20a1f126-db2c-4d2b-b576-f518d37f6769\",\"type\":\"BasicTicker\"}},\"id\":\"c82b0ece-1dad-4c45-b7d8-50403b301c3d\",\"type\":\"LinearAxis\"},{\"attributes\":{},\"id\":\"3224427e-9736-40d3-8cd9-3cec6c64ceef\",\"type\":\"BasicTickFormatter\"},{\"attributes\":{\"plot\":{\"id\":\"d970b34f-f137-46db-a9ff-b25a7f977409\",\"subtype\":\"Figure\",\"type\":\"Plot\"}},\"id\":\"6d2d8812-2774-4396-9c48-5e7043de8a7e\",\"type\":\"PanTool\"},{\"attributes\":{\"fill_alpha\":{\"value\":0.3},\"fill_color\":{\"value\":\"#B3E2CD\"},\"line_color\":{\"value\":\"#1f77b4\"},\"x\":{\"field\":\"x\"},\"y\":{\"field\":\"y\"}},\"id\":\"5621ebbc-edf9-441b-afe3-c32df4ac6795\",\"type\":\"Patch\"},{\"attributes\":{\"overlay\":{\"id\":\"0c9f61dd-1d7a-40ad-bcb8-edc4e6853fe8\",\"type\":\"BoxAnnotation\"},\"plot\":{\"id\":\"53eec73c-7d2f-443b-8fbb-ef3b3347407f\",\"subtype\":\"Figure\",\"type\":\"Plot\"}},\"id\":\"eeae09d6-157e-4a63-8966-d77f1e1a8d53\",\"type\":\"BoxZoomTool\"},{\"attributes\":{},\"id\":\"691d7e62-db9a-4d15-858b-d05410971f88\",\"type\":\"BasicTickFormatter\"},{\"attributes\":{\"axis_label\":\"DM_MNXM754\",\"formatter\":{\"id\":\"2aad5f73-eadc-4304-86f8-28b074b27298\",\"type\":\"BasicTickFormatter\"},\"plot\":{\"id\":\"28444097-feaa-474f-b428-e6c287ba2b18\",\"subtype\":\"Figure\",\"type\":\"Plot\"},\"ticker\":{\"id\":\"8c40f1ad-2e7c-4811-8c04-2861b651eba4\",\"type\":\"BasicTicker\"}},\"id\":\"f690c992-0454-4daa-9661-34e1c2d2637c\",\"type\":\"LinearAxis\"},{\"attributes\":{},\"id\":\"78ab220a-f69f-4303-b3f9-abb60b3f92b2\",\"type\":\"BasicTicker\"},{\"attributes\":{\"line_color\":{\"value\":\"#B3E2CD\"},\"x\":{\"field\":\"x\"},\"y\":{\"field\":\"y\"}},\"id\":\"7e70f382-5606-41a4-8347-553bcf3cd1de\",\"type\":\"Line\"},{\"attributes\":{\"fill_alpha\":{\"value\":0.1},\"fill_color\":{\"value\":\"#1f77b4\"},\"line_alpha\":{\"value\":0.1},\"line_color\":{\"value\":\"#1f77b4\"},\"x\":{\"field\":\"x\"},\"y\":{\"field\":\"y\"}},\"id\":\"82ae872b-887d-4785-b010-725384784c5a\",\"type\":\"Patch\"},{\"attributes\":{},\"id\":\"6b4a8f54-064d-403b-802a-35a33e3349c5\",\"type\":\"ToolEvents\"},{\"attributes\":{\"line_color\":{\"value\":\"#B3E2CD\"},\"x\":{\"field\":\"x\"},\"y\":{\"field\":\"y\"}},\"id\":\"4d9d98aa-00a0-4479-801f-a54d40f8e9b5\",\"type\":\"Line\"},{\"attributes\":{\"plot\":{\"id\":\"28444097-feaa-474f-b428-e6c287ba2b18\",\"subtype\":\"Figure\",\"type\":\"Plot\"}},\"id\":\"f5b27180-52b6-4d48-97aa-92b7cfca5fc3\",\"type\":\"PreviewSaveTool\"},{\"attributes\":{},\"id\":\"1bd80609-855a-4aeb-9469-03787df4d3c1\",\"type\":\"BasicTicker\"},{\"attributes\":{\"callback\":null,\"column_names\":[\"x\",\"y\"],\"data\":{\"x\":[3.37062937062937,3.37062937062937],\"y\":[2.8495114587659576e-16,0.0]}},\"id\":\"4419d717-8027-45c2-97e9-f888892cd517\",\"type\":\"ColumnDataSource\"},{\"attributes\":{\"dimension\":1,\"plot\":{\"id\":\"da529187-2ab7-4023-bfb8-807c87d64906\",\"subtype\":\"Figure\",\"type\":\"Plot\"},\"ticker\":{\"id\":\"1bd80609-855a-4aeb-9469-03787df4d3c1\",\"type\":\"BasicTicker\"}},\"id\":\"ca95bdb7-1f63-49f9-9917-462c36e39b1c\",\"type\":\"Grid\"},{\"attributes\":{\"data_source\":{\"id\":\"b4b47d83-ad48-4431-8f8b-b872c595a4cf\",\"type\":\"ColumnDataSource\"},\"glyph\":{\"id\":\"cc0659e6-bc3d-434b-9224-a468c9a24a7d\",\"type\":\"Patch\"},\"hover_glyph\":null,\"nonselection_glyph\":{\"id\":\"8b4c12a1-19fd-4bf9-a120-77703f31cf6c\",\"type\":\"Patch\"},\"selection_glyph\":null},\"id\":\"2354b2d1-09d9-4f5b-8449-db4fb8174daa\",\"type\":\"GlyphRenderer\"},{\"attributes\":{\"callback\":null,\"column_names\":[\"x\",\"y\"],\"data\":{\"x\":[1.9053254437869813,1.9053254437869813],\"y\":[2.9603427254424836e-16,1.0596782417271842e-30]}},\"id\":\"c733f675-693a-4ea2-8fda-c2184e48c080\",\"type\":\"ColumnDataSource\"},{\"attributes\":{\"data_source\":{\"id\":\"054b334c-e19c-4285-82c4-a643024fe666\",\"type\":\"ColumnDataSource\"},\"glyph\":{\"id\":\"c36cd8fa-c8ff-418f-92e0-c6fa55c87c09\",\"type\":\"Line\"},\"hover_glyph\":null,\"nonselection_glyph\":{\"id\":\"e1fe9c6e-26a9-4fbe-b4d3-f875e2bfbd94\",\"type\":\"Line\"},\"selection_glyph\":null},\"id\":\"4ec83c67-eb9f-4119-bd30-59843b1407a1\",\"type\":\"GlyphRenderer\"},{\"attributes\":{\"data_source\":{\"id\":\"87fee97e-cea5-4871-aca2-443455278757\",\"type\":\"ColumnDataSource\"},\"glyph\":{\"id\":\"2f0fd30e-5aea-400e-86c9-641bbd4aff4c\",\"type\":\"Line\"},\"hover_glyph\":null,\"nonselection_glyph\":{\"id\":\"05d1cbd9-e5a4-49f6-86fc-7def2cdd8f3a\",\"type\":\"Line\"},\"selection_glyph\":null},\"id\":\"ad973b57-29ed-4fac-956b-6e8e74162492\",\"type\":\"GlyphRenderer\"},{\"attributes\":{},\"id\":\"6b397c0a-6e5d-4954-b1a3-3467a85df8b8\",\"type\":\"BasicTicker\"},{\"attributes\":{},\"id\":\"20a1f126-db2c-4d2b-b576-f518d37f6769\",\"type\":\"BasicTicker\"},{\"attributes\":{\"data_source\":{\"id\":\"c733f675-693a-4ea2-8fda-c2184e48c080\",\"type\":\"ColumnDataSource\"},\"glyph\":{\"id\":\"08e1c3fd-908b-42ab-ab83-e005a9f3835b\",\"type\":\"Line\"},\"hover_glyph\":null,\"nonselection_glyph\":{\"id\":\"e827eae5-fca1-491f-b23b-32f19a5b69a3\",\"type\":\"Line\"},\"selection_glyph\":null},\"id\":\"3529eb73-1230-4ae0-bf40-83157fc40e69\",\"type\":\"GlyphRenderer\"},{\"attributes\":{\"data_source\":{\"id\":\"5da0f56b-f472-4a4a-a4a8-b106af70160f\",\"type\":\"ColumnDataSource\"},\"glyph\":{\"id\":\"5621ebbc-edf9-441b-afe3-c32df4ac6795\",\"type\":\"Patch\"},\"hover_glyph\":null,\"nonselection_glyph\":{\"id\":\"82ae872b-887d-4785-b010-725384784c5a\",\"type\":\"Patch\"},\"selection_glyph\":null},\"id\":\"7c41dcb8-cc04-463a-83b0-be7b437e3feb\",\"type\":\"GlyphRenderer\"},{\"attributes\":{\"overlay\":{\"id\":\"1cf49dd9-d624-44a5-9a7e-f77a3329a0fd\",\"type\":\"BoxAnnotation\"},\"plot\":{\"id\":\"da529187-2ab7-4023-bfb8-807c87d64906\",\"subtype\":\"Figure\",\"type\":\"Plot\"}},\"id\":\"c487fae7-58fb-4efb-80c2-3102f3baa33e\",\"type\":\"BoxZoomTool\"},{\"attributes\":{\"bottom_units\":\"screen\",\"fill_alpha\":{\"value\":0.5},\"fill_color\":{\"value\":\"lightgrey\"},\"left_units\":\"screen\",\"level\":\"overlay\",\"line_alpha\":{\"value\":1.0},\"line_color\":{\"value\":\"black\"},\"line_dash\":[4,4],\"line_width\":{\"value\":2},\"plot\":null,\"render_mode\":\"css\",\"right_units\":\"screen\",\"top_units\":\"screen\"},\"id\":\"0c9f61dd-1d7a-40ad-bcb8-edc4e6853fe8\",\"type\":\"BoxAnnotation\"},{\"attributes\":{},\"id\":\"ff69499f-9c62-4182-bd7c-762e076e6c6c\",\"type\":\"BasicTickFormatter\"},{\"attributes\":{\"callback\":null,\"column_names\":[\"x\",\"y\"],\"data\":{\"x\":[0.0,0.10028028651510427,0.20056057303020855,0.3008408595453128,0.4011211460604171,0.5014014325755214,0.6016817190906256,0.70196200560573,0.8022422921208342,0.9025225786359384,1.0028028651510428,1.103083151666147,1.2033634381812512,1.3036437246963555,1.40392401121146,1.5042042977265642,1.6044845842416684,1.7047648707567726,1.8050451572718769,1.9053254437869813,1.9053254437869813,1.8050451572718769,1.7047648707567726,1.6044845842416684,1.5042042977265642,1.40392401121146,1.3036437246963555,1.2033634381812512,1.103083151666147,1.0028028651510428,0.9025225786359384,0.8022422921208342,0.70196200560573,0.6016817190906256,0.5014014325755214,0.4011211460604171,0.3008408595453128,0.20056057303020855,0.10028028651510427,0.0],\"y\":[-9.673836851896553e-29,1.2305940871670527e-29,-2.2560891598062634e-30,1.4356931016948947e-30,-1.5177327075060317e-29,5.084746401836086e-31,3.6210144472808326e-30,-1.2848853184958652e-32,-2.375730251614171e-30,2.7620000623082735e-29,1.7091584543986844e-29,1.353653495883758e-29,-3.281584232445474e-30,1.0118218050040211e-29,-2.734653527037895e-31,1.0254950726392106e-30,-5.640222899515658e-31,-6.836633817594737e-32,1.1109529953591447e-30,1.0596782417271842e-30,2.9603427254424836e-16,0.015625613552516723,0.03125122710503026,0.04687684065754578,0.0625024542100609,0.07812806776257641,0.09375368131508985,0.10937929486760586,0.12500490842012021,0.14063052197263512,0.15625613552515139,0.17168519344133562,0.18651906517400188,0.20105016348395416,0.21558126179391035,0.23011236010386396,0.24460240211448203,0.25906162581131176,0.2735208495081403,0.2878657037040153]}},\"id\":\"b4b47d83-ad48-4431-8f8b-b872c595a4cf\",\"type\":\"ColumnDataSource\"},{\"attributes\":{\"line_color\":{\"value\":\"#B3E2CD\"},\"x\":{\"field\":\"x\"},\"y\":{\"field\":\"y\"}},\"id\":\"c36cd8fa-c8ff-418f-92e0-c6fa55c87c09\",\"type\":\"Line\"},{\"attributes\":{},\"id\":\"63fdf97f-499f-4f31-9d4c-27a144f68414\",\"type\":\"ToolEvents\"},{\"attributes\":{\"line_alpha\":{\"value\":0.1},\"line_color\":{\"value\":\"#1f77b4\"},\"x\":{\"field\":\"x\"},\"y\":{\"field\":\"y\"}},\"id\":\"34b68d0e-0f09-42a4-ae22-4175fe7308a6\",\"type\":\"Line\"},{\"attributes\":{\"plot\":{\"id\":\"da529187-2ab7-4023-bfb8-807c87d64906\",\"subtype\":\"Figure\",\"type\":\"Plot\"}},\"id\":\"a6aa4f5c-ea19-4f04-ae7d-318817cee639\",\"type\":\"WheelZoomTool\"},{\"attributes\":{},\"id\":\"2e0c939c-0ee2-49c0-a968-81aaa7fecbd6\",\"type\":\"BasicTickFormatter\"},{\"attributes\":{\"dimension\":1,\"plot\":{\"id\":\"28444097-feaa-474f-b428-e6c287ba2b18\",\"subtype\":\"Figure\",\"type\":\"Plot\"},\"ticker\":{\"id\":\"19e89478-2ba1-4fd5-bc8c-f889408b59e8\",\"type\":\"BasicTicker\"}},\"id\":\"7168f70c-1ed5-499d-8850-458398a66d04\",\"type\":\"Grid\"},{\"attributes\":{\"plot\":{\"id\":\"53eec73c-7d2f-443b-8fbb-ef3b3347407f\",\"subtype\":\"Figure\",\"type\":\"Plot\"}},\"id\":\"c33ca12a-c735-4654-bba4-0522697d8eff\",\"type\":\"PanTool\"},{\"attributes\":{},\"id\":\"ea5fb197-4c4c-4429-81d7-a9f0496e8484\",\"type\":\"BasicTicker\"},{\"attributes\":{\"callback\":null,\"column_names\":[\"x\",\"y\"],\"data\":{\"x\":[0.0,0.17740154582259843,0.35480309164519686,0.5322046374677953,0.7096061832903937,0.8870077291129921,1.0644092749355907,1.241810820758189,1.4192123665807874,1.5966139124033858,1.7740154582259842,1.9514170040485828,2.1288185498711814,2.3062200956937797,2.483621641516378,2.6610231873389765,2.838424733161575,3.015826278984173,3.1932278248067716,3.37062937062937],\"y\":[0.0,0.0,0.0,0.0,0.0,0.0,0.0,0.0,0.0,0.0,0.0,0.0,0.0,0.0,0.0,0.0,0.0,0.0,0.0,0.0]}},\"id\":\"c12ae9c4-e358-4dee-82b1-15de75d20b50\",\"type\":\"ColumnDataSource\"},{\"attributes\":{\"plot\":{\"id\":\"d970b34f-f137-46db-a9ff-b25a7f977409\",\"subtype\":\"Figure\",\"type\":\"Plot\"}},\"id\":\"39f89754-6eb0-40da-98e7-582ceadc7c0e\",\"type\":\"HelpTool\"},{\"attributes\":{\"data_source\":{\"id\":\"ae8452ce-80ed-42b0-b5c1-36a321d14b6b\",\"type\":\"ColumnDataSource\"},\"glyph\":{\"id\":\"e3601059-a34e-44f9-953b-8b07e810ec6b\",\"type\":\"Line\"},\"hover_glyph\":null,\"nonselection_glyph\":{\"id\":\"23e05a29-648a-451f-8866-887a1c4d7f86\",\"type\":\"Line\"},\"selection_glyph\":null},\"id\":\"7a5296be-c69d-4e97-aede-a9af9b46fcf7\",\"type\":\"GlyphRenderer\"},{\"attributes\":{\"axis_label\":\"DM_MNXM754\",\"formatter\":{\"id\":\"ff69499f-9c62-4182-bd7c-762e076e6c6c\",\"type\":\"BasicTickFormatter\"},\"plot\":{\"id\":\"d970b34f-f137-46db-a9ff-b25a7f977409\",\"subtype\":\"Figure\",\"type\":\"Plot\"},\"ticker\":{\"id\":\"78ab220a-f69f-4303-b3f9-abb60b3f92b2\",\"type\":\"BasicTicker\"}},\"id\":\"6d305081-13b6-4886-b05a-08fbf6119019\",\"type\":\"LinearAxis\"},{\"attributes\":{\"plot\":{\"id\":\"53eec73c-7d2f-443b-8fbb-ef3b3347407f\",\"subtype\":\"Figure\",\"type\":\"Plot\"}},\"id\":\"4baff112-ed58-4ab6-af43-96aa187441b2\",\"type\":\"WheelZoomTool\"},{\"attributes\":{},\"id\":\"5849e09e-9487-4c25-a114-e3d9b7cc6963\",\"type\":\"ToolEvents\"},{\"attributes\":{\"plot\":{\"id\":\"28444097-feaa-474f-b428-e6c287ba2b18\",\"subtype\":\"Figure\",\"type\":\"Plot\"}},\"id\":\"49ed3e8a-5841-4cdc-a514-11de68017eb3\",\"type\":\"PanTool\"},{\"attributes\":{\"axis_label\":\"BIOMASS_SC5_notrace\",\"formatter\":{\"id\":\"eec52a23-2d54-4676-a21c-95393a4bb204\",\"type\":\"BasicTickFormatter\"},\"plot\":{\"id\":\"28444097-feaa-474f-b428-e6c287ba2b18\",\"subtype\":\"Figure\",\"type\":\"Plot\"},\"ticker\":{\"id\":\"19e89478-2ba1-4fd5-bc8c-f889408b59e8\",\"type\":\"BasicTicker\"}},\"id\":\"5cae38a7-9588-4ee5-995f-543b9380ad01\",\"type\":\"LinearAxis\"},{\"attributes\":{\"axis_label\":\"BIOMASS_SC5_notrace\",\"formatter\":{\"id\":\"27005135-c4dd-4909-904d-ec8aebebc1e8\",\"type\":\"BasicTickFormatter\"},\"plot\":{\"id\":\"d970b34f-f137-46db-a9ff-b25a7f977409\",\"subtype\":\"Figure\",\"type\":\"Plot\"},\"ticker\":{\"id\":\"6b397c0a-6e5d-4954-b1a3-3467a85df8b8\",\"type\":\"BasicTicker\"}},\"id\":\"ab593245-6ecb-4970-80af-115fb4f21fe0\",\"type\":\"LinearAxis\"},{\"attributes\":{\"data_source\":{\"id\":\"920f615f-88c9-439d-a995-bdac58764f27\",\"type\":\"ColumnDataSource\"},\"glyph\":{\"id\":\"06e3944c-0bca-4d9f-b753-a178d977bfe9\",\"type\":\"Patch\"},\"hover_glyph\":null,\"nonselection_glyph\":{\"id\":\"01b49dea-959a-4688-9c15-4d749356f3ea\",\"type\":\"Patch\"},\"selection_glyph\":null},\"id\":\"80508d9b-cec9-4055-a8b5-dbbf1b63d705\",\"type\":\"GlyphRenderer\"},{\"attributes\":{\"plot\":{\"id\":\"d970b34f-f137-46db-a9ff-b25a7f977409\",\"subtype\":\"Figure\",\"type\":\"Plot\"},\"ticker\":{\"id\":\"78ab220a-f69f-4303-b3f9-abb60b3f92b2\",\"type\":\"BasicTicker\"}},\"id\":\"6033d77a-a7ac-4b50-951a-2088db55005c\",\"type\":\"Grid\"},{\"attributes\":{\"below\":[{\"id\":\"f690c992-0454-4daa-9661-34e1c2d2637c\",\"type\":\"LinearAxis\"}],\"left\":[{\"id\":\"5cae38a7-9588-4ee5-995f-543b9380ad01\",\"type\":\"LinearAxis\"}],\"plot_height\":278,\"plot_width\":450,\"renderers\":[{\"id\":\"f690c992-0454-4daa-9661-34e1c2d2637c\",\"type\":\"LinearAxis\"},{\"id\":\"d132c260-c1bb-400e-a4fb-c1b47f59d999\",\"type\":\"Grid\"},{\"id\":\"5cae38a7-9588-4ee5-995f-543b9380ad01\",\"type\":\"LinearAxis\"},{\"id\":\"7168f70c-1ed5-499d-8850-458398a66d04\",\"type\":\"Grid\"},{\"id\":\"38bb1d71-2d87-453f-9907-49272da51716\",\"type\":\"BoxAnnotation\"},{\"id\":\"ac2273a6-c118-48ad-b9a0-9da2d3aebf18\",\"type\":\"Legend\"},{\"id\":\"80508d9b-cec9-4055-a8b5-dbbf1b63d705\",\"type\":\"GlyphRenderer\"},{\"id\":\"df1fe55a-a607-4ee0-92b0-aead0333ddea\",\"type\":\"GlyphRenderer\"},{\"id\":\"7a5296be-c69d-4e97-aede-a9af9b46fcf7\",\"type\":\"GlyphRenderer\"},{\"id\":\"4ec83c67-eb9f-4119-bd30-59843b1407a1\",\"type\":\"GlyphRenderer\"}],\"title\":\"Pathway 1\",\"tool_events\":{\"id\":\"6b4a8f54-064d-403b-802a-35a33e3349c5\",\"type\":\"ToolEvents\"},\"tools\":[{\"id\":\"49ed3e8a-5841-4cdc-a514-11de68017eb3\",\"type\":\"PanTool\"},{\"id\":\"137c2642-d5be-4bc1-b7aa-a3968fa916b7\",\"type\":\"WheelZoomTool\"},{\"id\":\"f41d5b6f-9e22-486f-a3c6-85945767dee5\",\"type\":\"BoxZoomTool\"},{\"id\":\"f5b27180-52b6-4d48-97aa-92b7cfca5fc3\",\"type\":\"PreviewSaveTool\"},{\"id\":\"03c333ce-053f-4152-95a6-884383256b05\",\"type\":\"ResizeTool\"},{\"id\":\"6189b72e-58e7-4387-8c46-b74a4251a29c\",\"type\":\"ResetTool\"},{\"id\":\"5a846035-fb8c-4329-9873-381afd0563e5\",\"type\":\"HelpTool\"}],\"x_range\":{\"id\":\"093c7497-1d4a-456f-bacf-92cf83450683\",\"type\":\"DataRange1d\"},\"y_range\":{\"id\":\"ffe971b8-dc7d-49e0-98b3-af2b4a7f05e1\",\"type\":\"DataRange1d\"}},\"id\":\"28444097-feaa-474f-b428-e6c287ba2b18\",\"subtype\":\"Figure\",\"type\":\"Plot\"},{\"attributes\":{\"callback\":null,\"column_names\":[\"x\",\"y\"],\"data\":{\"x\":[0.0,0.14197832242945033,0.28395664485890065,0.425934967288351,0.5679132897178013,0.7098916121472516,0.851869934576702,0.9938482570061523,1.1358265794356026,1.277804901865053,1.4197832242945032,1.5617615467239536,1.703739869153404,1.8457181915828542,1.9876965140123046,2.129674836441755,2.2716531588712052,2.4136314813006554,2.555609803730106,2.6975881261595562],\"y\":[-3.435408493341355e-30,7.246831846650421e-30,9.161089315576948e-30,1.093861410815158e-30,-1.3673267635189474e-31,-1.2305940871670526e-30,-4.101980290556842e-31,2.515881244874863e-29,-9.747544310242496e-33,4.785643672316316e-31,-8.549965022126231e-33,-2.42914145331413e-30,-2.136448067998355e-31,1.504059439870842e-30,-9.571287344632632e-31,-4.785643672316316e-31,1.9826238071024736e-30,-1.9142574689265264e-30,-3.760148599677105e-31,-9.913119035512368e-31]}},\"id\":\"b001f95e-dcb4-416c-9b5b-a74875af8412\",\"type\":\"ColumnDataSource\"},{\"attributes\":{},\"id\":\"130af486-6ed0-4a31-8a48-3b27cdf0a186\",\"type\":\"BasicTicker\"},{\"attributes\":{\"data_source\":{\"id\":\"a0f21909-fbc2-4474-ad97-6e130b9761d4\",\"type\":\"ColumnDataSource\"},\"glyph\":{\"id\":\"62b66abf-4545-428a-a0df-36746ffe47eb\",\"type\":\"Line\"},\"hover_glyph\":null,\"nonselection_glyph\":{\"id\":\"d9433cfb-1dca-41b7-8233-29e260b10d87\",\"type\":\"Line\"},\"selection_glyph\":null},\"id\":\"bc7e4e08-aecb-4d10-9367-b0c3e1a7648f\",\"type\":\"GlyphRenderer\"},{\"attributes\":{\"line_alpha\":{\"value\":0.1},\"line_color\":{\"value\":\"#1f77b4\"},\"x\":{\"field\":\"x\"},\"y\":{\"field\":\"y\"}},\"id\":\"d9433cfb-1dca-41b7-8233-29e260b10d87\",\"type\":\"Line\"},{\"attributes\":{\"callback\":null},\"id\":\"35707a42-86de-42c9-aaa5-95cd2c1a0c15\",\"type\":\"DataRange1d\"},{\"attributes\":{\"fill_alpha\":{\"value\":0.1},\"fill_color\":{\"value\":\"#1f77b4\"},\"line_alpha\":{\"value\":0.1},\"line_color\":{\"value\":\"#1f77b4\"},\"x\":{\"field\":\"x\"},\"y\":{\"field\":\"y\"}},\"id\":\"f7c09b81-9d5d-453a-8e48-a1e3aa4b0b9f\",\"type\":\"Patch\"},{\"attributes\":{},\"id\":\"037d5501-aee3-43ed-a7b7-c65db6050d0a\",\"type\":\"ToolEvents\"},{\"attributes\":{\"line_color\":{\"value\":\"#B3E2CD\"},\"x\":{\"field\":\"x\"},\"y\":{\"field\":\"y\"}},\"id\":\"62b66abf-4545-428a-a0df-36746ffe47eb\",\"type\":\"Line\"},{\"attributes\":{\"line_alpha\":{\"value\":0.1},\"line_color\":{\"value\":\"#1f77b4\"},\"x\":{\"field\":\"x\"},\"y\":{\"field\":\"y\"}},\"id\":\"e1fe9c6e-26a9-4fbe-b4d3-f875e2bfbd94\",\"type\":\"Line\"},{\"attributes\":{\"callback\":null},\"id\":\"550208f1-9fe5-46a5-aedd-f771d1d5e563\",\"type\":\"DataRange1d\"},{\"attributes\":{\"axis_label\":\"DM_MNXM754\",\"formatter\":{\"id\":\"2496b28a-f965-4b47-b3a5-94e95204fb97\",\"type\":\"BasicTickFormatter\"},\"plot\":{\"id\":\"53eec73c-7d2f-443b-8fbb-ef3b3347407f\",\"subtype\":\"Figure\",\"type\":\"Plot\"},\"ticker\":{\"id\":\"130af486-6ed0-4a31-8a48-3b27cdf0a186\",\"type\":\"BasicTicker\"}},\"id\":\"dcee69fb-a4e9-4c74-9eba-524d45377a26\",\"type\":\"LinearAxis\"},{\"attributes\":{\"line_color\":{\"value\":\"#B3E2CD\"},\"x\":{\"field\":\"x\"},\"y\":{\"field\":\"y\"}},\"id\":\"ef46bbce-5abc-425f-a59a-5ec8abe24dee\",\"type\":\"Line\"},{\"attributes\":{\"bottom_units\":\"screen\",\"fill_alpha\":{\"value\":0.5},\"fill_color\":{\"value\":\"lightgrey\"},\"left_units\":\"screen\",\"level\":\"overlay\",\"line_alpha\":{\"value\":1.0},\"line_color\":{\"value\":\"black\"},\"line_dash\":[4,4],\"line_width\":{\"value\":2},\"plot\":null,\"render_mode\":\"css\",\"right_units\":\"screen\",\"top_units\":\"screen\"},\"id\":\"f647cb1a-6eb4-48e5-91f4-8c9dbe73c86d\",\"type\":\"BoxAnnotation\"},{\"attributes\":{\"callback\":null},\"id\":\"ffe971b8-dc7d-49e0-98b3-af2b4a7f05e1\",\"type\":\"DataRange1d\"},{\"attributes\":{\"callback\":null,\"column_names\":[\"x\",\"y\"],\"data\":{\"x\":[0.0,0.17740154582259843,0.35480309164519686,0.5322046374677953,0.7096061832903937,0.8870077291129921,1.0644092749355907,1.241810820758189,1.4192123665807874,1.5966139124033858,1.7740154582259842,1.9514170040485828,2.1288185498711814,2.3062200956937797,2.483621641516378,2.6610231873389765,2.838424733161575,3.015826278984173,3.1932278248067716,3.37062937062937,3.37062937062937,3.1932278248067716,3.015826278984173,2.838424733161575,2.6610231873389765,2.483621641516378,2.3062200956937797,2.1288185498711814,1.9514170040485828,1.7740154582259842,1.5966139124033858,1.4192123665807874,1.241810820758189,1.0644092749355907,0.8870077291129921,0.7096061832903937,0.5322046374677953,0.35480309164519686,0.17740154582259843,0.0],\"y\":[0.0,0.0,0.0,0.0,0.0,0.0,0.0,0.0,0.0,0.0,0.0,0.0,0.0,0.0,0.0,0.0,0.0,0.0,0.0,0.0,2.8495114587659576e-16,0.01532984100154494,0.03053688914702945,0.04568067966987403,0.06082447019271955,0.07596826071556452,0.09111205123841025,0.10625584176125587,0.12139963228410126,0.13654342280694567,0.15168721332979243,0.16683100385263835,0.1819747943754826,0.19711858489832856,0.21226237542117418,0.2274061659440192,0.24254995646686453,0.2576937469897097,0.2728375375125564,0.2878701987492661]}},\"id\":\"dbc8e718-1efe-42e0-8972-87de113245ab\",\"type\":\"ColumnDataSource\"}],\"root_ids\":[\"da529187-2ab7-4023-bfb8-807c87d64906\",\"28444097-feaa-474f-b428-e6c287ba2b18\",\"d970b34f-f137-46db-a9ff-b25a7f977409\",\"53eec73c-7d2f-443b-8fbb-ef3b3347407f\",\"45c45b76-4d73-4361-84de-1169071befdf\"]},\"title\":\"Bokeh Application\",\"version\":\"0.11.1\"}};\n",
       "            var render_items = [{\"docid\":\"85e87984-4716-4ff6-9bcb-42a1bd18205d\",\"elementid\":\"86f0020c-c9cc-42d1-9042-25b3802582dd\",\"modelid\":\"45c45b76-4d73-4361-84de-1169071befdf\",\"notebook_comms_target\":\"52322fe9-d61e-41b7-b7fa-1475e771453d\"}];\n",
       "            \n",
       "            Bokeh.embed.embed_items(docs_json, render_items);\n",
       "        });\n",
       "      },\n",
       "      function(Bokeh) {\n",
       "      }\n",
       "    ];\n",
       "  \n",
       "    function run_inline_js() {\n",
       "      for (var i = 0; i < inline_js.length; i++) {\n",
       "        inline_js[i](window.Bokeh);\n",
       "      }\n",
       "    }\n",
       "  \n",
       "    if (window._bokeh_is_loading === 0) {\n",
       "      console.log(\"Bokeh: BokehJS loaded, going straight to plotting\");\n",
       "      run_inline_js();\n",
       "    } else {\n",
       "      load_libs(js_urls, function() {\n",
       "        console.log(\"Bokeh: BokehJS plotting callback run at\", now());\n",
       "        run_inline_js();\n",
       "      });\n",
       "    }\n",
       "  }(this));\n",
       "</script>"
      ]
     },
     "metadata": {},
     "output_type": "display_data"
    }
   ],
   "source": [
    "pathways.plot_production_envelopes(model, objective=model.reactions.BIOMASS_SC5_notrace)"
   ]
  },
  {
   "cell_type": "code",
   "execution_count": null,
   "metadata": {
    "collapsed": true
   },
   "outputs": [],
   "source": []
  }
 ],
 "metadata": {
  "kernelspec": {
   "display_name": "IPython (Python 3)",
   "language": "python",
   "name": "python3"
  },
  "language_info": {
   "codemirror_mode": {
    "name": "ipython",
    "version": 3
   },
   "file_extension": ".py",
   "mimetype": "text/x-python",
   "name": "python",
   "nbconvert_exporter": "python",
   "pygments_lexer": "ipython3",
   "version": "3.4.2"
  }
 },
 "nbformat": 4,
 "nbformat_minor": 0
}
