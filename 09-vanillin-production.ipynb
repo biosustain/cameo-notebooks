{
 "cells": [
  {
   "cell_type": "markdown",
   "metadata": {
    "deletable": true,
    "editable": true
   },
   "source": [
    "Vanillin production\n",
    "------------------\n",
    "\n",
    "In 2010, Brochado *et al* used heuristic optimization together with flux simulations to design a vanillin producing yeast strain.\n",
    "\n",
    "Brochado, A. R., Andrejev, S., Maranas, C. D., & Patil, K. R. (2012). Impact of stoichiometry representation on simulation of genotype-phenotype relationships in metabolic networks. PLoS Computational Biology, 8(11), e1002758. doi:10.1371/journal.pcbi.1002758"
   ]
  },
  {
   "cell_type": "markdown",
   "metadata": {
    "deletable": true,
    "editable": true
   },
   "source": [
    "Genome-scale metabolic model\n",
    "--------------------------\n",
    "\n",
    "In their work, the authors used *iFF708* model, but recent insights in Yeast yielded newer and more complete versions. \n",
    "Becuase this algorithms should be agnostic to the model, we implement the same strategy with a newer model."
   ]
  },
  {
   "cell_type": "code",
   "execution_count": 10,
   "metadata": {
    "collapsed": false,
    "deletable": true,
    "editable": true
   },
   "outputs": [],
   "source": [
    "from cameo import models"
   ]
  },
  {
   "cell_type": "code",
   "execution_count": 11,
   "metadata": {
    "collapsed": false,
    "deletable": true,
    "editable": true
   },
   "outputs": [],
   "source": [
    "model = models.bigg.iMM904.copy()"
   ]
  },
  {
   "cell_type": "markdown",
   "metadata": {
    "deletable": true,
    "editable": true
   },
   "source": [
    "Constraints can be set in the model according to data found in the literature. The defined conditions allow the simulation of phenotypes very close to the experimental results.\n",
    "\n",
    "<img src=http://www.biomedcentral.com/content/figures/1752-0509-7-36-2.jpg/>\n",
    "**Model validation by comparing in silico prediction of the specific growth rate with experimental data**. Growth phenotypes were collected from literature and compared to simulated values for chemostat cultivations at four different conditions, nitrogen limited aerobic (green) and anaerobic (red), carbon limited aerobic (blue) and anaerobic (white).\n",
    "\n",
    "\n",
    "Österlund, T., Nookaew, I., Bordel, S., & Nielsen, J. (2013). Mapping condition-dependent regulation of metabolism in yeast through genome-scale modeling. BMC Systems Biology, 7, 36. doi:10.1186/1752-0509-7-36"
   ]
  },
  {
   "cell_type": "code",
   "execution_count": 12,
   "metadata": {
    "collapsed": false,
    "deletable": true,
    "editable": true
   },
   "outputs": [],
   "source": [
    "model.reactions.EX_glc__D_e.lower_bound = -13 #glucose exchange\n",
    "model.reactions.EX_o2_e.lower_bound = -3  #oxygen exchange"
   ]
  },
  {
   "cell_type": "code",
   "execution_count": 13,
   "metadata": {
    "collapsed": false,
    "deletable": true,
    "editable": true
   },
   "outputs": [
    {
     "data": {
      "text/html": [
       "<div>\n",
       "<table border=\"1\" class=\"dataframe\">\n",
       "  <thead>\n",
       "    <tr style=\"text-align: right;\">\n",
       "      <th></th>\n",
       "      <th>reaction_id</th>\n",
       "      <th>reaction_name</th>\n",
       "      <th>lower_bound</th>\n",
       "      <th>upper_bound</th>\n",
       "    </tr>\n",
       "  </thead>\n",
       "  <tbody>\n",
       "    <tr>\n",
       "      <th>0</th>\n",
       "      <td>EX_fe2_e</td>\n",
       "      <td>Fe2+ exchange</td>\n",
       "      <td>-999999.0</td>\n",
       "      <td>999999.0</td>\n",
       "    </tr>\n",
       "    <tr>\n",
       "      <th>1</th>\n",
       "      <td>EX_glc__D_e</td>\n",
       "      <td>D-Glucose exchange</td>\n",
       "      <td>-13.0</td>\n",
       "      <td>999999.0</td>\n",
       "    </tr>\n",
       "    <tr>\n",
       "      <th>2</th>\n",
       "      <td>EX_h2o_e</td>\n",
       "      <td>H2O exchange</td>\n",
       "      <td>-999999.0</td>\n",
       "      <td>999999.0</td>\n",
       "    </tr>\n",
       "    <tr>\n",
       "      <th>3</th>\n",
       "      <td>EX_h_e</td>\n",
       "      <td>H+ exchange</td>\n",
       "      <td>-999999.0</td>\n",
       "      <td>999999.0</td>\n",
       "    </tr>\n",
       "    <tr>\n",
       "      <th>...</th>\n",
       "      <td>...</td>\n",
       "      <td>...</td>\n",
       "      <td>...</td>\n",
       "      <td>...</td>\n",
       "    </tr>\n",
       "    <tr>\n",
       "      <th>6</th>\n",
       "      <td>EX_nh4_e</td>\n",
       "      <td>Ammonia exchange</td>\n",
       "      <td>-999999.0</td>\n",
       "      <td>999999.0</td>\n",
       "    </tr>\n",
       "    <tr>\n",
       "      <th>7</th>\n",
       "      <td>EX_o2_e</td>\n",
       "      <td>O2 exchange</td>\n",
       "      <td>-3.0</td>\n",
       "      <td>999999.0</td>\n",
       "    </tr>\n",
       "    <tr>\n",
       "      <th>8</th>\n",
       "      <td>EX_pi_e</td>\n",
       "      <td>Phosphate exchange</td>\n",
       "      <td>-999999.0</td>\n",
       "      <td>999999.0</td>\n",
       "    </tr>\n",
       "    <tr>\n",
       "      <th>9</th>\n",
       "      <td>EX_so4_e</td>\n",
       "      <td>Sulfate exchange</td>\n",
       "      <td>-999999.0</td>\n",
       "      <td>999999.0</td>\n",
       "    </tr>\n",
       "  </tbody>\n",
       "</table>\n",
       "<p>10 rows × 4 columns</p>\n",
       "</div>"
      ],
      "text/plain": [
       "    reaction_id       reaction_name  lower_bound  upper_bound\n",
       "0      EX_fe2_e       Fe2+ exchange    -999999.0     999999.0\n",
       "1   EX_glc__D_e  D-Glucose exchange        -13.0     999999.0\n",
       "2      EX_h2o_e        H2O exchange    -999999.0     999999.0\n",
       "3        EX_h_e         H+ exchange    -999999.0     999999.0\n",
       "..          ...                 ...          ...          ...\n",
       "6      EX_nh4_e    Ammonia exchange    -999999.0     999999.0\n",
       "7       EX_o2_e         O2 exchange         -3.0     999999.0\n",
       "8       EX_pi_e  Phosphate exchange    -999999.0     999999.0\n",
       "9      EX_so4_e    Sulfate exchange    -999999.0     999999.0\n",
       "\n",
       "[10 rows x 4 columns]"
      ]
     },
     "execution_count": 13,
     "metadata": {},
     "output_type": "execute_result"
    }
   ],
   "source": [
    "model.medium"
   ]
  },
  {
   "cell_type": "code",
   "execution_count": 14,
   "metadata": {
    "collapsed": false,
    "deletable": true,
    "editable": true
   },
   "outputs": [
    {
     "data": {
      "text/plain": [
       "0.3902223535079752"
      ]
     },
     "execution_count": 14,
     "metadata": {},
     "output_type": "execute_result"
    }
   ],
   "source": [
    "model.objective = model.reactions.BIOMASS_SC5_notrace #growth\n",
    "model.optimize().f"
   ]
  },
  {
   "cell_type": "markdown",
   "metadata": {
    "deletable": true,
    "editable": true
   },
   "source": [
    "Heterologous pathway\n",
    "-------------------\n",
    "\n",
    "Vanillin is not produced by *S. cervisiae*. In their work an heterolgous pathway is inserted to allow generate a vanillin production strain. The pathway is described as:\n",
    "\n",
    "<img src=http://static-content.springer.com/image/art%3A10.1186%2F1475-2859-9-84/MediaObjects/12934_2010_Article_474_Fig1_HTML.jpg>\n",
    "**Schematic representation of the de novo VG biosynthetic pathway in S. Cerevisisae** (as designed by Hansen et al [5]). Metabolites are shown in black, enzymes are shown in black and in italic, cofactors and additional precursors are shown in red. Reactions catalyzed by heterologously introduced enzymes are shown in red. Reactions converting glucose to aromatic amino acids are represented by dashed black arrows. Metabolite secretion is represented by solid black arrows where relative thickness corresponds to relative extracellular accumulation. 3-DSH stands for 3-dedhydroshikimate, PAC stands for protocathechuic acid, PAL stands for protocatechuic aldehyde, SAM stands for S-adenosylmethionine. 3DSD stands for 3-dedhydroshikimate dehydratase, ACAR stands for aryl carboxylic acid reductase, PPTase stands for phosphopantetheine transferase, hsOMT stands for O-methyltransferase, and UGT stands for UDP-glycosyltransferase. Adapted from Hansen et al. [5].\n",
    "Brochado et al. Microbial Cell Factories 2010 9:84   doi:10.1186/1475-2859-9-84\n",
    "\n",
    "Using **cameo**, is very easy to generate a pathway and add it to a model."
   ]
  },
  {
   "cell_type": "code",
   "execution_count": 15,
   "metadata": {
    "collapsed": false,
    "deletable": true,
    "editable": true
   },
   "outputs": [],
   "source": [
    "from cameo.core.pathway import Pathway"
   ]
  },
  {
   "cell_type": "code",
   "execution_count": 16,
   "metadata": {
    "collapsed": false,
    "deletable": true,
    "editable": true
   },
   "outputs": [
    {
     "data": {
      "text/html": [
       "<div>\n",
       "<table border=\"1\" class=\"dataframe\">\n",
       "  <thead>\n",
       "    <tr style=\"text-align: right;\">\n",
       "      <th></th>\n",
       "      <th>equation</th>\n",
       "      <th>lower_bound</th>\n",
       "      <th>upper_bound</th>\n",
       "    </tr>\n",
       "  </thead>\n",
       "  <tbody>\n",
       "    <tr>\n",
       "      <th>3DSD</th>\n",
       "      <td>3-dehydroshikimate --&gt; H2O + protocathechuic acid</td>\n",
       "      <td>0.0</td>\n",
       "      <td>1000.0</td>\n",
       "    </tr>\n",
       "    <tr>\n",
       "      <th>ACAR_PPTase</th>\n",
       "      <td>ATP + NADPH + protocathechuic acid --&gt; ADP + N...</td>\n",
       "      <td>0.0</td>\n",
       "      <td>1000.0</td>\n",
       "    </tr>\n",
       "    <tr>\n",
       "      <th>hsOMT</th>\n",
       "      <td>S-adenosyl-L-methionine + protocatechuic aldeh...</td>\n",
       "      <td>0.0</td>\n",
       "      <td>1000.0</td>\n",
       "    </tr>\n",
       "    <tr>\n",
       "      <th>UGT</th>\n",
       "      <td>UDP-glucose + Vanillin --&gt; vanillin-B-glucoside</td>\n",
       "      <td>0.0</td>\n",
       "      <td>1000.0</td>\n",
       "    </tr>\n",
       "  </tbody>\n",
       "</table>\n",
       "</div>"
      ],
      "text/plain": [
       "                                                      equation  lower_bound  \\\n",
       "3DSD         3-dehydroshikimate --> H2O + protocathechuic acid          0.0   \n",
       "ACAR_PPTase  ATP + NADPH + protocathechuic acid --> ADP + N...          0.0   \n",
       "hsOMT        S-adenosyl-L-methionine + protocatechuic aldeh...          0.0   \n",
       "UGT            UDP-glucose + Vanillin --> vanillin-B-glucoside          0.0   \n",
       "\n",
       "             upper_bound  \n",
       "3DSD              1000.0  \n",
       "ACAR_PPTase       1000.0  \n",
       "hsOMT             1000.0  \n",
       "UGT               1000.0  "
      ]
     },
     "execution_count": 16,
     "metadata": {},
     "output_type": "execute_result"
    }
   ],
   "source": [
    "vanillin_pathway = Pathway.from_file(\"data/vanillin_pathway.tsv\")\n",
    "vanillin_pathway.data_frame"
   ]
  },
  {
   "cell_type": "markdown",
   "metadata": {
    "deletable": true,
    "editable": true
   },
   "source": [
    "And now we can plug the pathway to the model."
   ]
  },
  {
   "cell_type": "code",
   "execution_count": 17,
   "metadata": {
    "collapsed": false,
    "deletable": true,
    "editable": true
   },
   "outputs": [],
   "source": [
    "vanillin_pathway.plug_model(model)"
   ]
  },
  {
   "cell_type": "code",
   "execution_count": 18,
   "metadata": {
    "collapsed": true,
    "deletable": true,
    "editable": true
   },
   "outputs": [],
   "source": [
    "from cameo import phenotypic_phase_plane"
   ]
  },
  {
   "cell_type": "markdown",
   "metadata": {
    "deletable": true,
    "editable": true
   },
   "source": [
    "The Phenotypic phase plane can be used to analyse the theoretical yields at different growth rates."
   ]
  },
  {
   "cell_type": "code",
   "execution_count": 19,
   "metadata": {
    "collapsed": false,
    "deletable": true,
    "editable": true
   },
   "outputs": [
    {
     "data": {
      "text/html": [
       "\n",
       "\n",
       "    <div class=\"bk-root\">\n",
       "        <div class=\"plotdiv\" id=\"b305bdaf-6327-4a68-85cf-e92c50ff4d53\"></div>\n",
       "    </div>\n",
       "<script type=\"text/javascript\">\n",
       "  \n",
       "  (function(global) {\n",
       "    function now() {\n",
       "      return new Date();\n",
       "    }\n",
       "  \n",
       "    var force = \"\";\n",
       "  \n",
       "    if (typeof (window._bokeh_onload_callbacks) === \"undefined\" || force !== \"\") {\n",
       "      window._bokeh_onload_callbacks = [];\n",
       "      window._bokeh_is_loading = undefined;\n",
       "    }\n",
       "  \n",
       "  \n",
       "    \n",
       "    if (typeof (window._bokeh_timeout) === \"undefined\" || force !== \"\") {\n",
       "      window._bokeh_timeout = Date.now() + 0;\n",
       "      window._bokeh_failed_load = false;\n",
       "    }\n",
       "  \n",
       "    var NB_LOAD_WARNING = {'data': {'text/html':\n",
       "       \"<div style='background-color: #fdd'>\\n\"+\n",
       "       \"<p>\\n\"+\n",
       "       \"BokehJS does not appear to have successfully loaded. If loading BokehJS from CDN, this \\n\"+\n",
       "       \"may be due to a slow or bad network connection. Possible fixes:\\n\"+\n",
       "       \"</p>\\n\"+\n",
       "       \"<ul>\\n\"+\n",
       "       \"<li>re-rerun `output_notebook()` to attempt to load from CDN again, or</li>\\n\"+\n",
       "       \"<li>use INLINE resources instead, as so:</li>\\n\"+\n",
       "       \"</ul>\\n\"+\n",
       "       \"<code>\\n\"+\n",
       "       \"from bokeh.resources import INLINE\\n\"+\n",
       "       \"output_notebook(resources=INLINE)\\n\"+\n",
       "       \"</code>\\n\"+\n",
       "       \"</div>\"}};\n",
       "  \n",
       "    function display_loaded() {\n",
       "      if (window.Bokeh !== undefined) {\n",
       "        Bokeh.$(\"#b305bdaf-6327-4a68-85cf-e92c50ff4d53\").text(\"BokehJS successfully loaded.\");\n",
       "      } else if (Date.now() < window._bokeh_timeout) {\n",
       "        setTimeout(display_loaded, 100)\n",
       "      }\n",
       "    }\n",
       "  \n",
       "    function run_callbacks() {\n",
       "      window._bokeh_onload_callbacks.forEach(function(callback) { callback() });\n",
       "      delete window._bokeh_onload_callbacks\n",
       "      console.info(\"Bokeh: all callbacks have finished\");\n",
       "    }\n",
       "  \n",
       "    function load_libs(js_urls, callback) {\n",
       "      window._bokeh_onload_callbacks.push(callback);\n",
       "      if (window._bokeh_is_loading > 0) {\n",
       "        console.log(\"Bokeh: BokehJS is being loaded, scheduling callback at\", now());\n",
       "        return null;\n",
       "      }\n",
       "      if (js_urls == null || js_urls.length === 0) {\n",
       "        run_callbacks();\n",
       "        return null;\n",
       "      }\n",
       "      console.log(\"Bokeh: BokehJS not loaded, scheduling load and callback at\", now());\n",
       "      window._bokeh_is_loading = js_urls.length;\n",
       "      for (var i = 0; i < js_urls.length; i++) {\n",
       "        var url = js_urls[i];\n",
       "        var s = document.createElement('script');\n",
       "        s.src = url;\n",
       "        s.async = false;\n",
       "        s.onreadystatechange = s.onload = function() {\n",
       "          window._bokeh_is_loading--;\n",
       "          if (window._bokeh_is_loading === 0) {\n",
       "            console.log(\"Bokeh: all BokehJS libraries loaded\");\n",
       "            run_callbacks()\n",
       "          }\n",
       "        };\n",
       "        s.onerror = function() {\n",
       "          console.warn(\"failed to load library \" + url);\n",
       "        };\n",
       "        console.log(\"Bokeh: injecting script tag for BokehJS library: \", url);\n",
       "        document.getElementsByTagName(\"head\")[0].appendChild(s);\n",
       "      }\n",
       "    };var element = document.getElementById(\"b305bdaf-6327-4a68-85cf-e92c50ff4d53\");\n",
       "    if (element == null) {\n",
       "      console.log(\"Bokeh: ERROR: autoload.js configured with elementid 'b305bdaf-6327-4a68-85cf-e92c50ff4d53' but no matching script tag was found. \")\n",
       "      return false;\n",
       "    }\n",
       "  \n",
       "    var js_urls = [];\n",
       "  \n",
       "    var inline_js = [\n",
       "      function(Bokeh) {\n",
       "        Bokeh.$(function() {\n",
       "            var docs_json = {\"d0fa7a7f-5264-48c9-b33e-9bed0d5b3d15\":{\"roots\":{\"references\":[{\"attributes\":{\"data_source\":{\"id\":\"427f8aec-e39a-4e23-8291-5fc9c39d822c\",\"type\":\"ColumnDataSource\"},\"glyph\":{\"id\":\"5ab0fa8b-04d0-4ab1-b027-6c44eb9a6c08\",\"type\":\"Line\"},\"hover_glyph\":null,\"nonselection_glyph\":{\"id\":\"19f7813b-fd1c-4a73-b057-0ff374d1d862\",\"type\":\"Line\"},\"selection_glyph\":null},\"id\":\"55b404dc-763b-4178-80ca-540e146bd710\",\"type\":\"GlyphRenderer\"},{\"attributes\":{\"axis_label\":\"EX_vnl_b_glu_c: vnl_b_glu_c -->  [mmol gDW^-1 h^-1]\",\"formatter\":{\"id\":\"eb449c4e-b257-41a6-b5de-5b8e47f42411\",\"type\":\"BasicTickFormatter\"},\"plot\":{\"id\":\"8f6baf0c-aab0-4028-a7c2-88978c40948a\",\"subtype\":\"Figure\",\"type\":\"Plot\"},\"ticker\":{\"id\":\"a77760fb-a6c8-41f6-9f00-c33f215bfda1\",\"type\":\"BasicTicker\"}},\"id\":\"713c0ca6-280a-417c-9e07-38b659afa16a\",\"type\":\"LinearAxis\"},{\"attributes\":{\"axis_label\":\"BIOMASS_SC5_notrace [h^-1]\",\"formatter\":{\"id\":\"2b7cfbf6-874f-4a02-ab1a-0033047aeebb\",\"type\":\"BasicTickFormatter\"},\"plot\":{\"id\":\"8f6baf0c-aab0-4028-a7c2-88978c40948a\",\"subtype\":\"Figure\",\"type\":\"Plot\"},\"ticker\":{\"id\":\"5462e7ef-0a3e-49c0-af5d-c785e379778f\",\"type\":\"BasicTicker\"}},\"id\":\"8bb40bd6-6b86-4e67-aefd-2ce9ea6a81d8\",\"type\":\"LinearAxis\"},{\"attributes\":{\"data_source\":{\"id\":\"427b38ed-f284-4719-ae31-270401d11600\",\"type\":\"ColumnDataSource\"},\"glyph\":{\"id\":\"8580c6ed-831b-426a-b922-5a96994abc91\",\"type\":\"Patch\"},\"hover_glyph\":null,\"nonselection_glyph\":{\"id\":\"10393879-bc9c-4be7-84a6-7b6af28ea2e8\",\"type\":\"Patch\"},\"selection_glyph\":null},\"id\":\"c245d3c9-2860-42b9-89e5-d87dc5a0adfd\",\"type\":\"GlyphRenderer\"},{\"attributes\":{\"fill_alpha\":{\"value\":0.1},\"fill_color\":{\"value\":\"#1f77b4\"},\"line_alpha\":{\"value\":0.1},\"line_color\":{\"value\":\"#1f77b4\"},\"x\":{\"field\":\"x\"},\"y\":{\"field\":\"y\"}},\"id\":\"10393879-bc9c-4be7-84a6-7b6af28ea2e8\",\"type\":\"Patch\"},{\"attributes\":{\"callback\":null,\"column_names\":[\"x\",\"y\"],\"data\":{\"x\":[0.0,0.020538018605683928,0.041076037211367857,0.06161405581705179,0.08215207442273571,0.10269009302841964,0.12322811163410358,0.1437661302397875,0.16430414884547143,0.18484216745115536,0.20538018605683928,0.22591820466252321,0.24645622326820715,0.2669942418738911,0.287532260479575,0.3080702790852589,0.32860829769094285,0.3491463162966268,0.36968433490231073,0.3902223535079946,0.3902223535079946,0.36968433490231073,0.3491463162966268,0.32860829769094285,0.3080702790852589,0.287532260479575,0.2669942418738911,0.24645622326820715,0.22591820466252321,0.20538018605683928,0.18484216745115536,0.16430414884547143,0.1437661302397875,0.12322811163410358,0.10269009302841964,0.08215207442273571,0.06161405581705179,0.041076037211367857,0.020538018605683928,0.0],\"y\":[0.0,0.0,0.0,0.0,0.0,0.0,0.0,0.0,0.0,0.0,0.0,0.0,0.0,0.0,0.0,0.0,0.0,0.0,0.0,0.0,0.0,0.07587186122222711,0.1513220906692947,0.22677232011638893,0.3022225495634504,0.37767277901051705,0.4531230084576005,0.5285732379046664,0.6040234673517446,0.6794736967988246,0.754923926245894,0.8303741556929722,0.9058243851400415,0.9812746145871049,1.0567047423527263,1.1319632175132925,1.206937569233639,1.2789295516762902,1.3507550984187997,1.4225806451612895]}},\"id\":\"427b38ed-f284-4719-ae31-270401d11600\",\"type\":\"ColumnDataSource\"},{\"attributes\":{},\"id\":\"cae0d9a2-c97c-47d9-ae18-480a5aa459f3\",\"type\":\"ToolEvents\"},{\"attributes\":{\"callback\":null},\"id\":\"043bccfc-86c9-48a8-af4b-9fb4dea58de0\",\"type\":\"DataRange1d\"},{\"attributes\":{\"callback\":null,\"column_names\":[\"x\",\"y\"],\"data\":{\"x\":[0.0,0.020538018605683928,0.041076037211367857,0.06161405581705179,0.08215207442273571,0.10269009302841964,0.12322811163410358,0.1437661302397875,0.16430414884547143,0.18484216745115536,0.20538018605683928,0.22591820466252321,0.24645622326820715,0.2669942418738911,0.287532260479575,0.3080702790852589,0.32860829769094285,0.3491463162966268,0.36968433490231073,0.3902223535079946],\"y\":[1.4225806451612895,1.3507550984187997,1.2789295516762902,1.206937569233639,1.1319632175132925,1.0567047423527263,0.9812746145871049,0.9058243851400415,0.8303741556929722,0.754923926245894,0.6794736967988246,0.6040234673517446,0.5285732379046664,0.4531230084576005,0.37767277901051705,0.3022225495634504,0.22677232011638893,0.1513220906692947,0.07587186122222711,0.0]}},\"id\":\"427f8aec-e39a-4e23-8291-5fc9c39d822c\",\"type\":\"ColumnDataSource\"},{\"attributes\":{\"line_alpha\":{\"value\":0.1},\"line_color\":{\"value\":\"#1f77b4\"},\"x\":{\"field\":\"x\"},\"y\":{\"field\":\"y\"}},\"id\":\"19f7813b-fd1c-4a73-b057-0ff374d1d862\",\"type\":\"Line\"},{\"attributes\":{},\"id\":\"2b7cfbf6-874f-4a02-ab1a-0033047aeebb\",\"type\":\"BasicTickFormatter\"},{\"attributes\":{\"below\":[{\"id\":\"8bb40bd6-6b86-4e67-aefd-2ce9ea6a81d8\",\"type\":\"LinearAxis\"}],\"left\":[{\"id\":\"713c0ca6-280a-417c-9e07-38b659afa16a\",\"type\":\"LinearAxis\"}],\"plot_height\":432,\"plot_width\":700,\"renderers\":[{\"id\":\"8bb40bd6-6b86-4e67-aefd-2ce9ea6a81d8\",\"type\":\"LinearAxis\"},{\"id\":\"be3bc655-0f2f-4510-bc41-fd8a0d04afbb\",\"type\":\"Grid\"},{\"id\":\"713c0ca6-280a-417c-9e07-38b659afa16a\",\"type\":\"LinearAxis\"},{\"id\":\"10c93acd-96ee-46f1-8391-b618e54755ce\",\"type\":\"Grid\"},{\"id\":\"eea190a1-0ab7-4f89-9e0c-d9e356fa47ca\",\"type\":\"BoxAnnotation\"},{\"id\":\"c411118d-93d8-446b-8dc2-e8703a214635\",\"type\":\"Legend\"},{\"id\":\"c245d3c9-2860-42b9-89e5-d87dc5a0adfd\",\"type\":\"GlyphRenderer\"},{\"id\":\"55b404dc-763b-4178-80ca-540e146bd710\",\"type\":\"GlyphRenderer\"},{\"id\":\"a36cdf60-cda8-4239-adbe-ed72f5c2d55d\",\"type\":\"GlyphRenderer\"}],\"title\":{\"id\":\"c70b62b5-f5e8-48db-9a3a-90a3e201cd31\",\"type\":\"Title\"},\"tool_events\":{\"id\":\"cae0d9a2-c97c-47d9-ae18-480a5aa459f3\",\"type\":\"ToolEvents\"},\"toolbar\":{\"id\":\"164f0628-111c-4be3-bc14-651a2c141722\",\"type\":\"Toolbar\"},\"x_range\":{\"id\":\"043bccfc-86c9-48a8-af4b-9fb4dea58de0\",\"type\":\"DataRange1d\"},\"y_range\":{\"id\":\"4dd11430-c221-488d-8f25-0a0158f765c7\",\"type\":\"DataRange1d\"}},\"id\":\"8f6baf0c-aab0-4028-a7c2-88978c40948a\",\"subtype\":\"Figure\",\"type\":\"Plot\"},{\"attributes\":{\"plot\":{\"id\":\"8f6baf0c-aab0-4028-a7c2-88978c40948a\",\"subtype\":\"Figure\",\"type\":\"Plot\"}},\"id\":\"b5bfc739-722a-4c40-a0d7-55cd7948612f\",\"type\":\"HelpTool\"},{\"attributes\":{\"line_color\":{\"value\":\"#B3E2CD\"},\"x\":{\"field\":\"x\"},\"y\":{\"field\":\"y\"}},\"id\":\"1cbe49c1-4ac2-4d36-b6d6-eebfb306fefc\",\"type\":\"Line\"},{\"attributes\":{},\"id\":\"a77760fb-a6c8-41f6-9f00-c33f215bfda1\",\"type\":\"BasicTicker\"},{\"attributes\":{\"overlay\":{\"id\":\"eea190a1-0ab7-4f89-9e0c-d9e356fa47ca\",\"type\":\"BoxAnnotation\"},\"plot\":{\"id\":\"8f6baf0c-aab0-4028-a7c2-88978c40948a\",\"subtype\":\"Figure\",\"type\":\"Plot\"}},\"id\":\"cf3fe98a-fbd1-4d44-bab4-e3efe3e9e7f5\",\"type\":\"BoxZoomTool\"},{\"attributes\":{\"data_source\":{\"id\":\"06ff2878-b3e4-443d-b1c9-96d00429cfdf\",\"type\":\"ColumnDataSource\"},\"glyph\":{\"id\":\"1cbe49c1-4ac2-4d36-b6d6-eebfb306fefc\",\"type\":\"Line\"},\"hover_glyph\":null,\"nonselection_glyph\":{\"id\":\"45a93eee-3094-4164-8020-d7b1e5960cc8\",\"type\":\"Line\"},\"selection_glyph\":null},\"id\":\"a36cdf60-cda8-4239-adbe-ed72f5c2d55d\",\"type\":\"GlyphRenderer\"},{\"attributes\":{},\"id\":\"eb449c4e-b257-41a6-b5de-5b8e47f42411\",\"type\":\"BasicTickFormatter\"},{\"attributes\":{\"plot\":{\"id\":\"8f6baf0c-aab0-4028-a7c2-88978c40948a\",\"subtype\":\"Figure\",\"type\":\"Plot\"}},\"id\":\"eb603928-4c67-4d8c-bd8f-67d13b22067d\",\"type\":\"PanTool\"},{\"attributes\":{\"legends\":[[\"WT\",[{\"id\":\"c245d3c9-2860-42b9-89e5-d87dc5a0adfd\",\"type\":\"GlyphRenderer\"}]]],\"plot\":{\"id\":\"8f6baf0c-aab0-4028-a7c2-88978c40948a\",\"subtype\":\"Figure\",\"type\":\"Plot\"}},\"id\":\"c411118d-93d8-446b-8dc2-e8703a214635\",\"type\":\"Legend\"},{\"attributes\":{\"bottom_units\":\"screen\",\"fill_alpha\":{\"value\":0.5},\"fill_color\":{\"value\":\"lightgrey\"},\"left_units\":\"screen\",\"level\":\"overlay\",\"line_alpha\":{\"value\":1.0},\"line_color\":{\"value\":\"black\"},\"line_dash\":[4,4],\"line_width\":{\"value\":2},\"plot\":null,\"render_mode\":\"css\",\"right_units\":\"screen\",\"top_units\":\"screen\"},\"id\":\"eea190a1-0ab7-4f89-9e0c-d9e356fa47ca\",\"type\":\"BoxAnnotation\"},{\"attributes\":{\"line_color\":{\"value\":\"#B3E2CD\"},\"x\":{\"field\":\"x\"},\"y\":{\"field\":\"y\"}},\"id\":\"5ab0fa8b-04d0-4ab1-b027-6c44eb9a6c08\",\"type\":\"Line\"},{\"attributes\":{\"dimension\":1,\"plot\":{\"id\":\"8f6baf0c-aab0-4028-a7c2-88978c40948a\",\"subtype\":\"Figure\",\"type\":\"Plot\"},\"ticker\":{\"id\":\"a77760fb-a6c8-41f6-9f00-c33f215bfda1\",\"type\":\"BasicTicker\"}},\"id\":\"10c93acd-96ee-46f1-8391-b618e54755ce\",\"type\":\"Grid\"},{\"attributes\":{},\"id\":\"5462e7ef-0a3e-49c0-af5d-c785e379778f\",\"type\":\"BasicTicker\"},{\"attributes\":{\"active_drag\":\"auto\",\"active_scroll\":\"auto\",\"active_tap\":\"auto\",\"tools\":[{\"id\":\"eb603928-4c67-4d8c-bd8f-67d13b22067d\",\"type\":\"PanTool\"},{\"id\":\"904fa836-2b68-4c8a-b8eb-b272d2f35a70\",\"type\":\"WheelZoomTool\"},{\"id\":\"cf3fe98a-fbd1-4d44-bab4-e3efe3e9e7f5\",\"type\":\"BoxZoomTool\"},{\"id\":\"16ac0cd9-eefd-4d5b-be21-32fde15cdb99\",\"type\":\"SaveTool\"},{\"id\":\"b300763a-5b2b-463d-8a8f-7c32e944a70a\",\"type\":\"ResetTool\"},{\"id\":\"b5bfc739-722a-4c40-a0d7-55cd7948612f\",\"type\":\"HelpTool\"}]},\"id\":\"164f0628-111c-4be3-bc14-651a2c141722\",\"type\":\"Toolbar\"},{\"attributes\":{\"plot\":{\"id\":\"8f6baf0c-aab0-4028-a7c2-88978c40948a\",\"subtype\":\"Figure\",\"type\":\"Plot\"}},\"id\":\"904fa836-2b68-4c8a-b8eb-b272d2f35a70\",\"type\":\"WheelZoomTool\"},{\"attributes\":{\"callback\":null,\"column_names\":[\"x\",\"y\"],\"data\":{\"x\":[0.0,0.020538018605683928,0.041076037211367857,0.06161405581705179,0.08215207442273571,0.10269009302841964,0.12322811163410358,0.1437661302397875,0.16430414884547143,0.18484216745115536,0.20538018605683928,0.22591820466252321,0.24645622326820715,0.2669942418738911,0.287532260479575,0.3080702790852589,0.32860829769094285,0.3491463162966268,0.36968433490231073,0.3902223535079946],\"y\":[0.0,0.0,0.0,0.0,0.0,0.0,0.0,0.0,0.0,0.0,0.0,0.0,0.0,0.0,0.0,0.0,0.0,0.0,0.0,0.0]}},\"id\":\"06ff2878-b3e4-443d-b1c9-96d00429cfdf\",\"type\":\"ColumnDataSource\"},{\"attributes\":{\"plot\":{\"id\":\"8f6baf0c-aab0-4028-a7c2-88978c40948a\",\"subtype\":\"Figure\",\"type\":\"Plot\"}},\"id\":\"b300763a-5b2b-463d-8a8f-7c32e944a70a\",\"type\":\"ResetTool\"},{\"attributes\":{\"plot\":{\"id\":\"8f6baf0c-aab0-4028-a7c2-88978c40948a\",\"subtype\":\"Figure\",\"type\":\"Plot\"}},\"id\":\"16ac0cd9-eefd-4d5b-be21-32fde15cdb99\",\"type\":\"SaveTool\"},{\"attributes\":{\"fill_alpha\":{\"value\":0.3},\"fill_color\":{\"value\":\"#B3E2CD\"},\"line_color\":{\"value\":\"#1f77b4\"},\"x\":{\"field\":\"x\"},\"y\":{\"field\":\"y\"}},\"id\":\"8580c6ed-831b-426a-b922-5a96994abc91\",\"type\":\"Patch\"},{\"attributes\":{\"line_alpha\":{\"value\":0.1},\"line_color\":{\"value\":\"#1f77b4\"},\"x\":{\"field\":\"x\"},\"y\":{\"field\":\"y\"}},\"id\":\"45a93eee-3094-4164-8020-d7b1e5960cc8\",\"type\":\"Line\"},{\"attributes\":{\"callback\":null},\"id\":\"4dd11430-c221-488d-8f25-0a0158f765c7\",\"type\":\"DataRange1d\"},{\"attributes\":{\"plot\":{\"id\":\"8f6baf0c-aab0-4028-a7c2-88978c40948a\",\"subtype\":\"Figure\",\"type\":\"Plot\"},\"ticker\":{\"id\":\"5462e7ef-0a3e-49c0-af5d-c785e379778f\",\"type\":\"BasicTicker\"}},\"id\":\"be3bc655-0f2f-4510-bc41-fd8a0d04afbb\",\"type\":\"Grid\"},{\"attributes\":{\"plot\":null,\"text\":\"Phenotypic Phase Plane (flux)\"},\"id\":\"c70b62b5-f5e8-48db-9a3a-90a3e201cd31\",\"type\":\"Title\"}],\"root_ids\":[\"8f6baf0c-aab0-4028-a7c2-88978c40948a\"]},\"title\":\"Bokeh Application\",\"version\":\"0.12.2\"}};\n",
       "            var render_items = [{\"docid\":\"d0fa7a7f-5264-48c9-b33e-9bed0d5b3d15\",\"elementid\":\"b305bdaf-6327-4a68-85cf-e92c50ff4d53\",\"modelid\":\"8f6baf0c-aab0-4028-a7c2-88978c40948a\"}];\n",
       "            \n",
       "            Bokeh.embed.embed_items(docs_json, render_items);\n",
       "        });\n",
       "      },\n",
       "      function(Bokeh) {\n",
       "      }\n",
       "    ];\n",
       "  \n",
       "    function run_inline_js() {\n",
       "      \n",
       "      if ((window.Bokeh !== undefined) || (force === \"1\")) {\n",
       "        for (var i = 0; i < inline_js.length; i++) {\n",
       "          inline_js[i](window.Bokeh);\n",
       "        }if (force === \"1\") {\n",
       "          display_loaded();\n",
       "        }} else if (Date.now() < window._bokeh_timeout) {\n",
       "        setTimeout(run_inline_js, 100);\n",
       "      } else if (!window._bokeh_failed_load) {\n",
       "        console.log(\"Bokeh: BokehJS failed to load within specified timeout.\");\n",
       "        window._bokeh_failed_load = true;\n",
       "      } else if (!force) {\n",
       "        var cell = $(\"#b305bdaf-6327-4a68-85cf-e92c50ff4d53\").parents('.cell').data().cell;\n",
       "        cell.output_area.append_execute_result(NB_LOAD_WARNING)\n",
       "      }\n",
       "  \n",
       "    }\n",
       "  \n",
       "    if (window._bokeh_is_loading === 0) {\n",
       "      console.log(\"Bokeh: BokehJS loaded, going straight to plotting\");\n",
       "      run_inline_js();\n",
       "    } else {\n",
       "      load_libs(js_urls, function() {\n",
       "        console.log(\"Bokeh: BokehJS plotting callback run at\", now());\n",
       "        run_inline_js();\n",
       "      });\n",
       "    }\n",
       "  }(this));\n",
       "</script>"
      ]
     },
     "metadata": {},
     "output_type": "display_data"
    }
   ],
   "source": [
    "production_envelope = phenotypic_phase_plane(model, variables=[model.reactions.BIOMASS_SC5_notrace], \n",
    "                                             objective=model.reactions.EX_vnl_b_glu_c)\n",
    "production_envelope.plot()"
   ]
  },
  {
   "cell_type": "markdown",
   "metadata": {
    "deletable": true,
    "editable": true
   },
   "source": [
    "To find gene knockout targets, we use `cameo.strain_design.heuristic` package which implements the OptGene strategy.\n",
    "\n",
    "The authors used the biomass-product coupled yield (bpcy) for optimization which is the equivalent of running OptGene in non-robust mode. All simulations were computed using MOMA but because **cameo** does not implement MOMA we use it's equivalent linear version (it minimizes the absolute distance instead of the quadratic distance). The linear MOMA version is faster than the original MOMA formulation.\n",
    "\n",
    "By default, our OptGene implementation will run 20'000 evaluations."
   ]
  },
  {
   "cell_type": "code",
   "execution_count": 20,
   "metadata": {
    "collapsed": true,
    "deletable": true,
    "editable": true
   },
   "outputs": [],
   "source": [
    "from cameo.strain_design.heuristic.evolutionary_based import OptGene\n",
    "from cameo.flux_analysis.simulation import lmoma"
   ]
  },
  {
   "cell_type": "code",
   "execution_count": 21,
   "metadata": {
    "collapsed": false,
    "deletable": true,
    "editable": true,
    "scrolled": true
   },
   "outputs": [],
   "source": [
    "optgene = OptGene(model)"
   ]
  },
  {
   "cell_type": "code",
   "execution_count": 22,
   "metadata": {
    "collapsed": false
   },
   "outputs": [],
   "source": [
    "from cameo.flux_analysis import lmoma"
   ]
  },
  {
   "cell_type": "code",
   "execution_count": 23,
   "metadata": {
    "collapsed": false,
    "deletable": true,
    "editable": true,
    "scrolled": false
   },
   "outputs": [
    {
     "name": "stderr",
     "output_type": "stream",
     "text": [
      "No WT reference found, generating using pfba.\n",
      "Reference successfully computed.\n"
     ]
    },
    {
     "name": "stdout",
     "output_type": "stream",
     "text": [
      "Starting optimization at Wed, 29 Mar 2017 21:41:54\n"
     ]
    },
    {
     "data": {
      "text/html": [
       "\n",
       "\n",
       "    <div class=\"bk-root\">\n",
       "        <div class=\"plotdiv\" id=\"030dff25-f08d-43bb-83a0-85e65cecabc2\"></div>\n",
       "    </div>\n",
       "<script type=\"text/javascript\">\n",
       "  \n",
       "  (function(global) {\n",
       "    function now() {\n",
       "      return new Date();\n",
       "    }\n",
       "  \n",
       "    var force = \"\";\n",
       "  \n",
       "    if (typeof (window._bokeh_onload_callbacks) === \"undefined\" || force !== \"\") {\n",
       "      window._bokeh_onload_callbacks = [];\n",
       "      window._bokeh_is_loading = undefined;\n",
       "    }\n",
       "  \n",
       "  \n",
       "    \n",
       "    if (typeof (window._bokeh_timeout) === \"undefined\" || force !== \"\") {\n",
       "      window._bokeh_timeout = Date.now() + 0;\n",
       "      window._bokeh_failed_load = false;\n",
       "    }\n",
       "  \n",
       "    var NB_LOAD_WARNING = {'data': {'text/html':\n",
       "       \"<div style='background-color: #fdd'>\\n\"+\n",
       "       \"<p>\\n\"+\n",
       "       \"BokehJS does not appear to have successfully loaded. If loading BokehJS from CDN, this \\n\"+\n",
       "       \"may be due to a slow or bad network connection. Possible fixes:\\n\"+\n",
       "       \"</p>\\n\"+\n",
       "       \"<ul>\\n\"+\n",
       "       \"<li>re-rerun `output_notebook()` to attempt to load from CDN again, or</li>\\n\"+\n",
       "       \"<li>use INLINE resources instead, as so:</li>\\n\"+\n",
       "       \"</ul>\\n\"+\n",
       "       \"<code>\\n\"+\n",
       "       \"from bokeh.resources import INLINE\\n\"+\n",
       "       \"output_notebook(resources=INLINE)\\n\"+\n",
       "       \"</code>\\n\"+\n",
       "       \"</div>\"}};\n",
       "  \n",
       "    function display_loaded() {\n",
       "      if (window.Bokeh !== undefined) {\n",
       "        Bokeh.$(\"#030dff25-f08d-43bb-83a0-85e65cecabc2\").text(\"BokehJS successfully loaded.\");\n",
       "      } else if (Date.now() < window._bokeh_timeout) {\n",
       "        setTimeout(display_loaded, 100)\n",
       "      }\n",
       "    }if ((window.Jupyter !== undefined) && Jupyter.notebook.kernel) {\n",
       "      comm_manager = Jupyter.notebook.kernel.comm_manager\n",
       "      comm_manager.register_target(\"3b82301b-27d0-4a0b-8238-db91968a7f31\", function () {});\n",
       "    }\n",
       "  \n",
       "    function run_callbacks() {\n",
       "      window._bokeh_onload_callbacks.forEach(function(callback) { callback() });\n",
       "      delete window._bokeh_onload_callbacks\n",
       "      console.info(\"Bokeh: all callbacks have finished\");\n",
       "    }\n",
       "  \n",
       "    function load_libs(js_urls, callback) {\n",
       "      window._bokeh_onload_callbacks.push(callback);\n",
       "      if (window._bokeh_is_loading > 0) {\n",
       "        console.log(\"Bokeh: BokehJS is being loaded, scheduling callback at\", now());\n",
       "        return null;\n",
       "      }\n",
       "      if (js_urls == null || js_urls.length === 0) {\n",
       "        run_callbacks();\n",
       "        return null;\n",
       "      }\n",
       "      console.log(\"Bokeh: BokehJS not loaded, scheduling load and callback at\", now());\n",
       "      window._bokeh_is_loading = js_urls.length;\n",
       "      for (var i = 0; i < js_urls.length; i++) {\n",
       "        var url = js_urls[i];\n",
       "        var s = document.createElement('script');\n",
       "        s.src = url;\n",
       "        s.async = false;\n",
       "        s.onreadystatechange = s.onload = function() {\n",
       "          window._bokeh_is_loading--;\n",
       "          if (window._bokeh_is_loading === 0) {\n",
       "            console.log(\"Bokeh: all BokehJS libraries loaded\");\n",
       "            run_callbacks()\n",
       "          }\n",
       "        };\n",
       "        s.onerror = function() {\n",
       "          console.warn(\"failed to load library \" + url);\n",
       "        };\n",
       "        console.log(\"Bokeh: injecting script tag for BokehJS library: \", url);\n",
       "        document.getElementsByTagName(\"head\")[0].appendChild(s);\n",
       "      }\n",
       "    };var element = document.getElementById(\"030dff25-f08d-43bb-83a0-85e65cecabc2\");\n",
       "    if (element == null) {\n",
       "      console.log(\"Bokeh: ERROR: autoload.js configured with elementid '030dff25-f08d-43bb-83a0-85e65cecabc2' but no matching script tag was found. \")\n",
       "      return false;\n",
       "    }\n",
       "  \n",
       "    var js_urls = [];\n",
       "  \n",
       "    var inline_js = [\n",
       "      function(Bokeh) {\n",
       "        Bokeh.$(function() {\n",
       "            var docs_json = {\"bd4caca0-e13b-4b71-b5aa-bdc89b3fbfe0\":{\"roots\":{\"references\":[{\"attributes\":{\"plot\":null,\"text\":\"Fitness plot\"},\"id\":\"f2b314c2-37af-4d66-b19d-86c4fa1d9a67\",\"type\":\"Title\"},{\"attributes\":{},\"id\":\"5ee65a0e-bda3-45d1-8d1b-c1ca938549f1\",\"type\":\"BasicTicker\"},{\"attributes\":{\"axis_label\":\"Iteration\",\"formatter\":{\"id\":\"3286c44c-f295-4061-b088-3fbdc8901621\",\"type\":\"BasicTickFormatter\"},\"plot\":{\"id\":\"7f6b734f-0cfc-4afb-af0c-d6a4069e88aa\",\"subtype\":\"Figure\",\"type\":\"Plot\"},\"ticker\":{\"id\":\"5ee65a0e-bda3-45d1-8d1b-c1ca938549f1\",\"type\":\"BasicTicker\"}},\"id\":\"57f0ac0e-c86e-451f-a9b6-8676fc47cb68\",\"type\":\"LinearAxis\"},{\"attributes\":{\"dimension\":1,\"plot\":{\"id\":\"7f6b734f-0cfc-4afb-af0c-d6a4069e88aa\",\"subtype\":\"Figure\",\"type\":\"Plot\"},\"ticker\":{\"id\":\"a7913a4d-9f18-487c-b2e5-0deabf6cea2c\",\"type\":\"BasicTicker\"}},\"id\":\"8c5a87ce-81c2-4878-b23e-a7147109d98d\",\"type\":\"Grid\"},{\"attributes\":{\"plot\":{\"id\":\"7f6b734f-0cfc-4afb-af0c-d6a4069e88aa\",\"subtype\":\"Figure\",\"type\":\"Plot\"},\"ticker\":{\"id\":\"5ee65a0e-bda3-45d1-8d1b-c1ca938549f1\",\"type\":\"BasicTicker\"}},\"id\":\"ea794e1a-93ab-45aa-9ad1-d4f001b7e7af\",\"type\":\"Grid\"},{\"attributes\":{},\"id\":\"3286c44c-f295-4061-b088-3fbdc8901621\",\"type\":\"BasicTickFormatter\"},{\"attributes\":{},\"id\":\"3d09b8b0-93a8-424d-9bd6-bd1822b486e4\",\"type\":\"BasicTickFormatter\"},{\"attributes\":{\"axis_label\":\"Fitness\",\"formatter\":{\"id\":\"3d09b8b0-93a8-424d-9bd6-bd1822b486e4\",\"type\":\"BasicTickFormatter\"},\"plot\":{\"id\":\"7f6b734f-0cfc-4afb-af0c-d6a4069e88aa\",\"subtype\":\"Figure\",\"type\":\"Plot\"},\"ticker\":{\"id\":\"a7913a4d-9f18-487c-b2e5-0deabf6cea2c\",\"type\":\"BasicTicker\"}},\"id\":\"598376cf-755e-4a85-a36e-35bb451af274\",\"type\":\"LinearAxis\"},{\"attributes\":{\"fill_alpha\":{\"value\":0.1},\"fill_color\":{\"value\":\"#1f77b4\"},\"line_alpha\":{\"value\":0.1},\"line_color\":{\"value\":\"#1f77b4\"},\"x\":{\"field\":\"x\"},\"y\":{\"field\":\"y\"}},\"id\":\"b214ee33-8586-4d26-8c02-c70ac58b943e\",\"type\":\"Circle\"},{\"attributes\":{\"active_drag\":\"auto\",\"active_scroll\":\"auto\",\"active_tap\":\"auto\"},\"id\":\"d2d51182-7db5-4d05-9de4-b12afb762998\",\"type\":\"Toolbar\"},{\"attributes\":{},\"id\":\"a7913a4d-9f18-487c-b2e5-0deabf6cea2c\",\"type\":\"BasicTicker\"},{\"attributes\":{},\"id\":\"8838e630-51d8-43aa-8cc6-3de2cdd19e3d\",\"type\":\"ToolEvents\"},{\"attributes\":{\"callback\":null},\"id\":\"333293eb-4563-4562-a389-57242a47d540\",\"type\":\"DataRange1d\"},{\"attributes\":{\"callback\":null},\"id\":\"44fdce81-feb0-4828-aa0e-d36346a7bb4d\",\"type\":\"DataRange1d\"},{\"attributes\":{\"below\":[{\"id\":\"57f0ac0e-c86e-451f-a9b6-8676fc47cb68\",\"type\":\"LinearAxis\"}],\"left\":[{\"id\":\"598376cf-755e-4a85-a36e-35bb451af274\",\"type\":\"LinearAxis\"}],\"plot_height\":400,\"plot_width\":650,\"renderers\":[{\"id\":\"57f0ac0e-c86e-451f-a9b6-8676fc47cb68\",\"type\":\"LinearAxis\"},{\"id\":\"ea794e1a-93ab-45aa-9ad1-d4f001b7e7af\",\"type\":\"Grid\"},{\"id\":\"598376cf-755e-4a85-a36e-35bb451af274\",\"type\":\"LinearAxis\"},{\"id\":\"8c5a87ce-81c2-4878-b23e-a7147109d98d\",\"type\":\"Grid\"},{\"id\":\"c98354a1-c565-41ec-9354-6871641a8bf6\",\"type\":\"GlyphRenderer\"}],\"title\":{\"id\":\"f2b314c2-37af-4d66-b19d-86c4fa1d9a67\",\"type\":\"Title\"},\"tool_events\":{\"id\":\"8838e630-51d8-43aa-8cc6-3de2cdd19e3d\",\"type\":\"ToolEvents\"},\"toolbar\":{\"id\":\"d2d51182-7db5-4d05-9de4-b12afb762998\",\"type\":\"Toolbar\"},\"x_range\":{\"id\":\"44fdce81-feb0-4828-aa0e-d36346a7bb4d\",\"type\":\"DataRange1d\"},\"y_range\":{\"id\":\"333293eb-4563-4562-a389-57242a47d540\",\"type\":\"DataRange1d\"}},\"id\":\"7f6b734f-0cfc-4afb-af0c-d6a4069e88aa\",\"subtype\":\"Figure\",\"type\":\"Plot\"},{\"attributes\":{\"callback\":null,\"column_names\":[\"x\",\"y\"],\"data\":{\"x\":[],\"y\":[]}},\"id\":\"c241164d-f361-4451-ac65-98447f2e3b55\",\"type\":\"ColumnDataSource\"},{\"attributes\":{\"data_source\":{\"id\":\"c241164d-f361-4451-ac65-98447f2e3b55\",\"type\":\"ColumnDataSource\"},\"glyph\":{\"id\":\"73288457-c3bc-45b6-9412-995ec5530955\",\"type\":\"Circle\"},\"hover_glyph\":null,\"nonselection_glyph\":{\"id\":\"b214ee33-8586-4d26-8c02-c70ac58b943e\",\"type\":\"Circle\"},\"selection_glyph\":null},\"id\":\"c98354a1-c565-41ec-9354-6871641a8bf6\",\"type\":\"GlyphRenderer\"},{\"attributes\":{\"fill_color\":{\"value\":\"#1f77b4\"},\"line_color\":{\"value\":\"#1f77b4\"},\"x\":{\"field\":\"x\"},\"y\":{\"field\":\"y\"}},\"id\":\"73288457-c3bc-45b6-9412-995ec5530955\",\"type\":\"Circle\"}],\"root_ids\":[\"7f6b734f-0cfc-4afb-af0c-d6a4069e88aa\"]},\"title\":\"Bokeh Application\",\"version\":\"0.12.2\"}};\n",
       "            var render_items = [{\"docid\":\"bd4caca0-e13b-4b71-b5aa-bdc89b3fbfe0\",\"elementid\":\"030dff25-f08d-43bb-83a0-85e65cecabc2\",\"modelid\":\"7f6b734f-0cfc-4afb-af0c-d6a4069e88aa\",\"notebook_comms_target\":\"3b82301b-27d0-4a0b-8238-db91968a7f31\"}];\n",
       "            \n",
       "            Bokeh.embed.embed_items(docs_json, render_items);\n",
       "        });\n",
       "      },\n",
       "      function(Bokeh) {\n",
       "      }\n",
       "    ];\n",
       "  \n",
       "    function run_inline_js() {\n",
       "      \n",
       "      if ((window.Bokeh !== undefined) || (force === \"1\")) {\n",
       "        for (var i = 0; i < inline_js.length; i++) {\n",
       "          inline_js[i](window.Bokeh);\n",
       "        }if (force === \"1\") {\n",
       "          display_loaded();\n",
       "        }} else if (Date.now() < window._bokeh_timeout) {\n",
       "        setTimeout(run_inline_js, 100);\n",
       "      } else if (!window._bokeh_failed_load) {\n",
       "        console.log(\"Bokeh: BokehJS failed to load within specified timeout.\");\n",
       "        window._bokeh_failed_load = true;\n",
       "      } else if (!force) {\n",
       "        var cell = $(\"#030dff25-f08d-43bb-83a0-85e65cecabc2\").parents('.cell').data().cell;\n",
       "        cell.output_area.append_execute_result(NB_LOAD_WARNING)\n",
       "      }\n",
       "  \n",
       "    }\n",
       "  \n",
       "    if (window._bokeh_is_loading === 0) {\n",
       "      console.log(\"Bokeh: BokehJS loaded, going straight to plotting\");\n",
       "      run_inline_js();\n",
       "    } else {\n",
       "      load_libs(js_urls, function() {\n",
       "        console.log(\"Bokeh: BokehJS plotting callback run at\", now());\n",
       "        run_inline_js();\n",
       "      });\n",
       "    }\n",
       "  }(this));\n",
       "</script>"
      ]
     },
     "metadata": {},
     "output_type": "display_data"
    },
    {
     "data": {
      "application/vnd.jupyter.widget-view+json": {
       "model_id": "f46f1124fc794839a9b12e02931844ad"
      }
     },
     "metadata": {},
     "output_type": "display_data"
    },
    {
     "name": "stdout",
     "output_type": "stream",
     "text": [
      "Finished after 00:31:41\n"
     ]
    }
   ],
   "source": [
    "results = optgene.run(target=\"EX_vnl_b_glu_c\", \n",
    "                      biomass=\"BIOMASS_SC5_notrace\",\n",
    "                      substrate=\"EX_glc__D_e\",\n",
    "                      simulation_method=lmoma)"
   ]
  },
  {
   "cell_type": "code",
   "execution_count": 24,
   "metadata": {
    "collapsed": false,
    "deletable": true,
    "editable": true,
    "scrolled": false
   },
   "outputs": [
    {
     "data": {
      "text/html": [
       "\n",
       "        <h3>OptGene Result</h3>\n",
       "        <ul>\n",
       "            <li>Simulation: lmoma<br/></li>\n",
       "            <li>Objective Function: $$bpcy = \\frac{(BIOMASS\\_SC5\\_notrace * EX\\_vnl\\_b\\_glu\\_c)}{EX\\_glc\\_\\_D\\_e}$$<br/></li>\n",
       "        </ul>\n",
       "        <div>\n",
       "<table border=\"1\" class=\"dataframe\">\n",
       "  <thead>\n",
       "    <tr style=\"text-align: right;\">\n",
       "      <th></th>\n",
       "      <th>reactions</th>\n",
       "      <th>genes</th>\n",
       "      <th>size</th>\n",
       "      <th>fva_min</th>\n",
       "      <th>fva_max</th>\n",
       "      <th>target_flux</th>\n",
       "      <th>biomass_flux</th>\n",
       "      <th>yield</th>\n",
       "      <th>fitness</th>\n",
       "    </tr>\n",
       "  </thead>\n",
       "  <tbody>\n",
       "  </tbody>\n",
       "</table>\n",
       "</div>\n",
       "        "
      ],
      "text/plain": [
       "<cameo.strain_design.heuristic.evolutionary_based.OptGeneResult at 0x103a32978>"
      ]
     },
     "execution_count": 24,
     "metadata": {},
     "output_type": "execute_result"
    }
   ],
   "source": [
    "results"
   ]
  },
  {
   "cell_type": "code",
   "execution_count": null,
   "metadata": {
    "collapsed": true
   },
   "outputs": [],
   "source": []
  }
 ],
 "metadata": {
  "anaconda-cloud": {},
  "kernelspec": {
   "display_name": "Python 3",
   "language": "python",
   "name": "python3"
  },
  "language_info": {
   "codemirror_mode": {
    "name": "ipython",
    "version": 3
   },
   "file_extension": ".py",
   "mimetype": "text/x-python",
   "name": "python",
   "nbconvert_exporter": "python",
   "pygments_lexer": "ipython3",
   "version": "3.5.0"
  }
 },
 "nbformat": 4,
 "nbformat_minor": 0
}
