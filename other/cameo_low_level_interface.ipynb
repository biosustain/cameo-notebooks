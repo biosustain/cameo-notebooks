{
 "cells": [
  {
   "cell_type": "markdown",
   "metadata": {},
   "source": [
    "# Low-level interface for developers"
   ]
  },
  {
   "cell_type": "code",
   "execution_count": 1,
   "metadata": {
    "collapsed": false
   },
   "outputs": [],
   "source": [
    "import pandas\n",
    "pandas.options.display.max_rows = 8\n",
    "from cameo import load_model\n",
    "model = load_model('iJO1366')"
   ]
  },
  {
   "cell_type": "markdown",
   "metadata": {},
   "source": [
    "## cameo vs. cobrapy"
   ]
  },
  {
   "cell_type": "markdown",
   "metadata": {},
   "source": [
    "### Importing a model"
   ]
  },
  {
   "cell_type": "markdown",
   "metadata": {},
   "source": [
    "cobrapy (load a model in SBML format):"
   ]
  },
  {
   "cell_type": "code",
   "execution_count": 2,
   "metadata": {
    "collapsed": false
   },
   "outputs": [],
   "source": [
    "from cobra.io import read_sbml_model\n",
    "cobrapy_model = read_sbml_model('../tests/data/EcoliCore.xml')"
   ]
  },
  {
   "cell_type": "markdown",
   "metadata": {},
   "source": [
    "cameo (load models from different formats):"
   ]
  },
  {
   "cell_type": "code",
   "execution_count": 3,
   "metadata": {
    "collapsed": false
   },
   "outputs": [],
   "source": [
    "from cameo import load_model\n",
    "# read SBML model\n",
    "model = load_model('../tests/data/EcoliCore.xml')\n",
    "# ... or read a pickled model\n",
    "model = load_model('../tests/data/iJO1366.pickle')\n",
    "# ... or just import a model by ID from http://darwin.di.uminho.pt/models\n",
    "iAF1260 = load_model('iAF1260')"
   ]
  },
  {
   "cell_type": "markdown",
   "metadata": {},
   "source": [
    "### Solving models"
   ]
  },
  {
   "cell_type": "markdown",
   "metadata": {},
   "source": [
    "When optimizing models with cobrapy, the status of a returned solution needs to be checked to figure out if the solver found and optimal solution."
   ]
  },
  {
   "cell_type": "code",
   "execution_count": 26,
   "metadata": {
    "collapsed": false
   },
   "outputs": [],
   "source": [
    "cobrapy_solution = cobrapy_model.optimize()\n",
    "if cobrapy_solution.status == 'optimal':\n",
    "    pass  # do something"
   ]
  },
  {
   "cell_type": "markdown",
   "metadata": {},
   "source": [
    "cameo will raise an exception if non-optimal solution was found. Therefore, `try-except-else-finally` statements should be used in code that utilizes `cameo.solver_based_model.SolverBasedModel.solve`."
   ]
  },
  {
   "cell_type": "code",
   "execution_count": 17,
   "metadata": {
    "collapsed": false
   },
   "outputs": [
    {
     "name": "stdout",
     "output_type": "stream",
     "text": [
      "A non-optimal solution was returned by the solver\n",
      "Solving model iJO1366 did not return an optimal solution. The returned solution status is \"infeasible\"\n"
     ]
    }
   ],
   "source": [
    "model.solve()  # no exception\n",
    "cp_model = model.copy()\n",
    "# demand a very high biomass production rendering the model infeasible\n",
    "cp_model.reactions.Ec_biomass_iJO1366_core_53p95M.lower_bound = 1000\n",
    "\n",
    "from cameo.exceptions import SolveError\n",
    "try:\n",
    "    solution = cp_model.solve()\n",
    "except SolveError as e:\n",
    "    print \"A non-optimal solution was returned by the solver\"\n",
    "    print e\n",
    "else:\n",
    "    pass  # do something about it ..."
   ]
  },
  {
   "cell_type": "markdown",
   "metadata": {},
   "source": [
    "It is important to note that cameo models still provide `optimize` to maintain\n",
    "compatibility with cobrapy but we discourage its use and hide it from the user."
   ]
  },
  {
   "cell_type": "code",
   "execution_count": 22,
   "metadata": {
    "collapsed": false
   },
   "outputs": [
    {
     "name": "stdout",
     "output_type": "stream",
     "text": [
      "<bound method SolverBasedModel.optimize of <SolverBasedModel iJO1366 at 0x10f2dd6d0>>\n"
     ]
    },
    {
     "data": {
      "text/plain": [
       "False"
      ]
     },
     "execution_count": 22,
     "metadata": {},
     "output_type": "execute_result"
    }
   ],
   "source": [
    "print model.optimize\n",
    "'optimize' in dir(model)"
   ]
  },
  {
   "cell_type": "markdown",
   "metadata": {},
   "source": [
    "### Solutions"
   ]
  },
  {
   "cell_type": "markdown",
   "metadata": {},
   "source": [
    "`cameo.solve` normally returns a lazy version of a cobrapy solution that is much more effiecient in retrieving solution status and objective value."
   ]
  },
  {
   "cell_type": "code",
   "execution_count": 34,
   "metadata": {
    "collapsed": false
   },
   "outputs": [
    {
     "name": "stdout",
     "output_type": "stream",
     "text": [
      "CPU times: user 1.41 ms, sys: 28 µs, total: 1.44 ms\n",
      "Wall time: 1.45 ms\n",
      "CPU times: user 1.57 ms, sys: 77 µs, total: 1.64 ms\n",
      "Wall time: 1.72 ms\n"
     ]
    },
    {
     "data": {
      "text/plain": [
       "<cameo.solver_based_model.LazySolution at 0x1141c3650>"
      ]
     },
     "execution_count": 34,
     "metadata": {},
     "output_type": "execute_result"
    }
   ],
   "source": [
    "%time cobrapy_model.optimize()\n",
    "%time model.solve()"
   ]
  },
  {
   "cell_type": "code",
   "execution_count": 29,
   "metadata": {
    "collapsed": false
   },
   "outputs": [
    {
     "name": "stdout",
     "output_type": "stream",
     "text": [
      "<class 'cobra.core.Solution.Solution'>\n",
      "<class 'cameo.solver_based_model.LazySolution'>\n"
     ]
    }
   ],
   "source": [
    "print type(cobrapy_solution)\n",
    "print type(solution)"
   ]
  },
  {
   "cell_type": "markdown",
   "metadata": {},
   "source": [
    "## Formulating and solving optimization problems"
   ]
  },
  {
   "cell_type": "markdown",
   "metadata": {},
   "source": [
    "http://optlang.readthedocs.org/en/latest/"
   ]
  },
  {
   "cell_type": "markdown",
   "metadata": {},
   "source": [
    "## IO"
   ]
  },
  {
   "cell_type": "markdown",
   "metadata": {},
   "source": [
    "### Importing models"
   ]
  },
  {
   "cell_type": "markdown",
   "metadata": {},
   "source": [
    "cameo has a single function (`load_model`) that can import models stored in different formats."
   ]
  },
  {
   "cell_type": "markdown",
   "metadata": {},
   "source": [
    "#### SBML"
   ]
  },
  {
   "cell_type": "markdown",
   "metadata": {},
   "source": [
    "#### Models available on the web"
   ]
  },
  {
   "cell_type": "markdown",
   "metadata": {},
   "source": [
    "cameo provides an interface to models hosted online by the [University of Minho](http://darwin.di.uminho.pt/models)."
   ]
  },
  {
   "cell_type": "code",
   "execution_count": 19,
   "metadata": {
    "collapsed": false
   },
   "outputs": [
    {
     "data": {
      "text/html": [
       "<div style=\"max-height:1000px;max-width:1500px;overflow:auto;\">\n",
       "<table border=\"1\" class=\"dataframe\">\n",
       "  <thead>\n",
       "    <tr style=\"text-align: right;\">\n",
       "      <th></th>\n",
       "      <th>id</th>\n",
       "      <th>name</th>\n",
       "      <th>doi</th>\n",
       "      <th>author</th>\n",
       "      <th>year</th>\n",
       "      <th>formats</th>\n",
       "      <th>organism</th>\n",
       "      <th>taxonomy</th>\n",
       "    </tr>\n",
       "  </thead>\n",
       "  <tbody>\n",
       "    <tr>\n",
       "      <th>0  </th>\n",
       "      <td>   1</td>\n",
       "      <td>                 iJR904</td>\n",
       "      <td>      10.1186/gb-2003-4-9-r54</td>\n",
       "      <td>       Reed</td>\n",
       "      <td> 2003</td>\n",
       "      <td>        [sbml]</td>\n",
       "      <td> Escherichia coli str. K12 substr. MG1655</td>\n",
       "      <td> Bacteria; Proteobacteria; Gammaproteobacteria;...</td>\n",
       "    </tr>\n",
       "    <tr>\n",
       "      <th>1  </th>\n",
       "      <td>   2</td>\n",
       "      <td>                iAF1260</td>\n",
       "      <td>           10.1038/msb4100155</td>\n",
       "      <td>      Feist</td>\n",
       "      <td> 2007</td>\n",
       "      <td>        [sbml]</td>\n",
       "      <td> Escherichia coli str. K12 substr. MG1655</td>\n",
       "      <td> Bacteria; Proteobacteria; Gammaproteobacteria;...</td>\n",
       "    </tr>\n",
       "    <tr>\n",
       "      <th>2  </th>\n",
       "      <td>   3</td>\n",
       "      <td>                 iMM904</td>\n",
       "      <td>       10.1186/1752-0509-3-37</td>\n",
       "      <td>         Mo</td>\n",
       "      <td> 2007</td>\n",
       "      <td>        [sbml]</td>\n",
       "      <td>                 Saccharomyces cerevisiae</td>\n",
       "      <td> Eukaryota; Opisthokonta; Fungi; Dikarya; Ascom...</td>\n",
       "    </tr>\n",
       "    <tr>\n",
       "      <th>3  </th>\n",
       "      <td>   4</td>\n",
       "      <td>                 iJP815</td>\n",
       "      <td> 10.1371/journal.pcbi.1000210</td>\n",
       "      <td>   Puchalka</td>\n",
       "      <td> 2008</td>\n",
       "      <td>        [sbml]</td>\n",
       "      <td>           Pseudomonas putida str. KT2440</td>\n",
       "      <td> Bacteria; Proteobacteria; Gammaproteobacteria;...</td>\n",
       "    </tr>\n",
       "    <tr>\n",
       "      <th>...</th>\n",
       "      <td>...</td>\n",
       "      <td>...</td>\n",
       "      <td>...</td>\n",
       "      <td>...</td>\n",
       "      <td>...</td>\n",
       "      <td>...</td>\n",
       "      <td>...</td>\n",
       "      <td>...</td>\n",
       "    </tr>\n",
       "    <tr>\n",
       "      <th>132</th>\n",
       "      <td> 133</td>\n",
       "      <td>                 iTT548</td>\n",
       "      <td>      10.1186/1475-2859-13-61</td>\n",
       "      <td> Na-Rae Lee</td>\n",
       "      <td> 2014</td>\n",
       "      <td> [sbml, excel]</td>\n",
       "      <td>                     Thermus thermophilus</td>\n",
       "      <td> Bacteria; Deinococcus-Thermus; Deinococci; The...</td>\n",
       "    </tr>\n",
       "    <tr>\n",
       "      <th>133</th>\n",
       "      <td> 134</td>\n",
       "      <td>            EctoGEM-1.0</td>\n",
       "      <td>            10.1111/tpj.12627</td>\n",
       "      <td>    Prigent</td>\n",
       "      <td> 2014</td>\n",
       "      <td>        [sbml]</td>\n",
       "      <td>                   Ectocarpus siliculosus</td>\n",
       "      <td> Eukaryota; Stramenopiles; PX clade; Phaeophyce...</td>\n",
       "    </tr>\n",
       "    <tr>\n",
       "      <th>134</th>\n",
       "      <td> 135</td>\n",
       "      <td>                 iMF721</td>\n",
       "      <td>      10.1111/1462-2920.12513</td>\n",
       "      <td>      Fondi</td>\n",
       "      <td> 2014</td>\n",
       "      <td>        [sbml]</td>\n",
       "      <td>    Pseudoalteromonas haloplanktis TAC125</td>\n",
       "      <td> Bacteria; Proteobacteria; Gammaproteobacteria;...</td>\n",
       "    </tr>\n",
       "    <tr>\n",
       "      <th>135</th>\n",
       "      <td> 136</td>\n",
       "      <td> Arabidopsis core model</td>\n",
       "      <td>        10.1104/pp.114.235358</td>\n",
       "      <td>     Arnold</td>\n",
       "      <td> 2014</td>\n",
       "      <td>        [sbml]</td>\n",
       "      <td>                     Arabidopsis thaliana</td>\n",
       "      <td> Eukaryota; Viridiplantae; Streptophyta; Strept...</td>\n",
       "    </tr>\n",
       "  </tbody>\n",
       "</table>\n",
       "<p>136 rows × 8 columns</p>\n",
       "</div>"
      ],
      "text/plain": [
       "      id                    name                           doi      author  \\\n",
       "0      1                  iJR904       10.1186/gb-2003-4-9-r54        Reed   \n",
       "1      2                 iAF1260            10.1038/msb4100155       Feist   \n",
       "2      3                  iMM904        10.1186/1752-0509-3-37          Mo   \n",
       "3      4                  iJP815  10.1371/journal.pcbi.1000210    Puchalka   \n",
       "..   ...                     ...                           ...         ...   \n",
       "132  133                  iTT548       10.1186/1475-2859-13-61  Na-Rae Lee   \n",
       "133  134             EctoGEM-1.0             10.1111/tpj.12627     Prigent   \n",
       "134  135                  iMF721       10.1111/1462-2920.12513       Fondi   \n",
       "135  136  Arabidopsis core model         10.1104/pp.114.235358      Arnold   \n",
       "\n",
       "     year        formats                                  organism  \\\n",
       "0    2003         [sbml]  Escherichia coli str. K12 substr. MG1655   \n",
       "1    2007         [sbml]  Escherichia coli str. K12 substr. MG1655   \n",
       "2    2007         [sbml]                  Saccharomyces cerevisiae   \n",
       "3    2008         [sbml]            Pseudomonas putida str. KT2440   \n",
       "..    ...            ...                                       ...   \n",
       "132  2014  [sbml, excel]                      Thermus thermophilus   \n",
       "133  2014         [sbml]                    Ectocarpus siliculosus   \n",
       "134  2014         [sbml]     Pseudoalteromonas haloplanktis TAC125   \n",
       "135  2014         [sbml]                      Arabidopsis thaliana   \n",
       "\n",
       "                                              taxonomy  \n",
       "0    Bacteria; Proteobacteria; Gammaproteobacteria;...  \n",
       "1    Bacteria; Proteobacteria; Gammaproteobacteria;...  \n",
       "2    Eukaryota; Opisthokonta; Fungi; Dikarya; Ascom...  \n",
       "3    Bacteria; Proteobacteria; Gammaproteobacteria;...  \n",
       "..                                                 ...  \n",
       "132  Bacteria; Deinococcus-Thermus; Deinococci; The...  \n",
       "133  Eukaryota; Stramenopiles; PX clade; Phaeophyce...  \n",
       "134  Bacteria; Proteobacteria; Gammaproteobacteria;...  \n",
       "135  Eukaryota; Viridiplantae; Streptophyta; Strept...  \n",
       "\n",
       "[136 rows x 8 columns]"
      ]
     },
     "execution_count": 19,
     "metadata": {},
     "output_type": "execute_result"
    }
   ],
   "source": [
    "from cameo.webmodels import index_models\n",
    "index_models()"
   ]
  },
  {
   "cell_type": "markdown",
   "metadata": {},
   "source": [
    "If `load_model` is provided with a valid model name, it will automatically download the model in SBML format and import it."
   ]
  },
  {
   "cell_type": "code",
   "execution_count": 21,
   "metadata": {
    "collapsed": false
   },
   "outputs": [
    {
     "data": {
      "text/html": [
       "<table>\n",
       "<tr>\n",
       "<td>Name</td>\n",
       "<td>iMM904</td>\n",
       "</tr>\n",
       "<tr>\n",
       "<td>Number of metabolites</td>\n",
       "<td>1228</td>\n",
       "</tr>\n",
       "<tr>\n",
       "<td>Number of reactions</td>\n",
       "<td>1577</td>\n",
       "</tr>\n",
       "<tr>\n",
       "<td>Reactions</td>\n",
       "<td><div style=\"width:100%; max-height:300px; overflow:auto\">h2o_c + 13BDglcn_c --> glc_D_c<br>13BDglcn_e + h2o_e --> glc_D_e<br>udpg_c --> h_c + udp_c + 13BDglcn_c<br>udpg_c --> 16BDglcn_c + udp_c + h_c<br>h2o_c + h_c + 23camp_c --> amp2p_c<br>2dda7p_c <=> 2dda7p_m<br>2dhp_c <=> 2dhp_m<br>h2o_c + 2doxg6p_c --> 2dglc_c + pi_c<br>2hb_c + nad_c <=> 2obut_c + h_c + nadh_c<br>2hb_e + h_e <=> 2hb_c + h_c<br>2hpmhmbq_m + amet_m --> ahcys_m + h_m + q6_m<br>2hp6mp_m + o2_m --> h2o_m + 2hp6mbq_m<br>2hp6mbq_m + amet_m --> h_m + 2hpmmbq_m + ahcys_m<br>0.5 o2_m + 2hpmmbq_m --> 2hpmhmbq_m<br>2mbac_c --> 2mbac_e<br>2mbald_c <=> 2mbald_e<br>2mbald_c <=> 2mbald_m<br>2mbtoh_c <=> 2mbtoh_e<br>2mbtoh_c <=> 2mbtoh_m<br>2mppal_c <=> 2mppal_e<br>2mppal_c <=> 2mppal_m<br>2obut_c <=> 2obut_m<br>2oxoadp_m --> 2oxoadp_c<br>2phetoh_e <=> 2phetoh_c<br>2phetoh_m <=> 2phetoh_c<br>nadh_m + h_m + 34hpp_m --> 34hpl_m + nad_m<br>34hpp_c + o2_c --> co2_c + hgentis_c<br>34hpp_c + h_c <=> h_m + 34hpp_m<br>34hpp_c + h_c <=> 34hpp_x + h_x<br>3c3hmp_c <=> 3c3hmp_e<br>3c3hmp_c <=> 3c3hmp_m<br>3c4mop_c <=> 3c4mop_m<br>amet_m + 3dh5hpb_m --> 3hph5mb_m + h_m + ahcys_m<br>3dh5hpb_c <=> 3dh5hpb_m<br>3dsphgn_c + nadph_c + h_c --> sphgn_c + nadp_c<br>o2_c + 3hanthrn_c --> cmusa_c + h_c<br>3hph5mb_m --> 2hp6mp_m + co2_m<br>amet_c + 3c2hmp_c --> 3ipmmest_c + ahcys_c<br>3mbald_c <=> 3mbald_e<br>3mbald_c <=> 3mbald_m<br>h_c + 3mob_c --> 2mppal_c + co2_c<br>3mob_c <=> 3mob_m<br>h_c + 3mop_c --> 2mbald_c + co2_c<br>3mop_e <=> 3mop_c<br>3mop_c <=> 3mop_m<br>0.5 o2_c + 3ophb_5_c --> 3dh5hpb_c<br>3ophb_5_c <=> 3ophb_5_m<br>4abutn_c <=> 4abutn_m<br>4abut_c <=> 4abut_m<br>4abz_c <=> 4abz_e<br>4abz_c <=> 4abz_m<br>4h2oglt_c <=> 4h2oglt_m<br>4h2oglt_c <=> 4h2oglt_x<br>coucoa_m + coa_m + nad_m + h2o_m --> accoa_m + 4hbzcoa_m + h_m + nadh_m<br>h2o_m + 4hbzcoa_m --> 4hbz_m + h_m + coa_m<br>4hbz_c <=> 4hbz_m<br>nad_m + 4hglusa_m + h2o_m <=> e4hglu_m + 2.0 h_m + nadh_m<br>4hpro_LT_c <=> 4hpro_LT_m<br>h2o_c + phthr_c --> pi_c + 4hthr_c<br>h_c + 4mop_c --> 3mbald_c + co2_c<br>5aop_e + h_e --> 5aop_c + h_c<br>5aop_c <=> 5aop_m<br>6pgl_c <=> 6pgl_r<br>8aonn_e + h_e <=> 8aonn_c + h_c<br>h2o_c + 4aabutn_c --> ac_c + 4abut_c<br>h2o_c + o2_c + aact_c --> h2o2_c + nh4_c + mthgxl_c<br>atp_c + h_c + nadph_c + L2aadp_c --> L2aadp6sa_c + ppi_c + amp_c + nadp_c<br>atp_c + nadh_c + h_c + L2aadp_c --> L2aadp6sa_c + ppi_c + amp_c + nad_c<br>glu_L_c + 2oxoadp_c <=> L2aadp_c + akg_c<br>akg_c + 4abut_c --> glu_L_c + sucsal_c<br>abt_e <=> abt_c<br>nad_m + 4abutn_m + h2o_m --> 4abut_m + nadh_m + 2.0 h_m<br>4abut_e + h_e <=> 4abut_c + h_c<br>2.0 accoa_c --> aacoa_c + coa_c<br>2.0 accoa_m --> aacoa_m + coa_m<br>3odcoa_x + coa_x --> accoa_x + occoa_x<br>coa_x + 3oddcoa_x --> accoa_x + dcacoa_x<br>coa_x + 3otdcoa_x --> accoa_x + ddcacoa_x<br>3ohdcoa_x + coa_x --> tdcoa_x + accoa_x<br>3ohodcoa_x + coa_x --> accoa_x + pmtcoa_x<br>3ohxccoa_x + coa_x --> ttccoa_x + accoa_x<br>2.0 acald_c --> actn_R_c<br>acald_e <=> acald_c<br>acald_m <=> acald_c<br>hco3_c + accoa_c + atp_c <=> malcoa_c + adp_c + h_c + pi_c<br>atp_m + hco3_m + accoa_m <=> malcoa_m + pi_m + adp_m + h_m<br>accoa_c <=> accoa_n<br>aces_c --> aces_e<br>accoa_c + gam6p_c <=> acgam6p_c + coa_c + h_c<br>acgam6p_c <=> acgam1p_c<br>atp_m + acglu_m --> adp_m + acg5p_m<br>accoa_m + glu_L_m --> h_m + acglu_m + coa_m<br>2obut_m + pyr_m + h_m --> co2_m + 2ahbut_m<br>iamac_c + h2o_c --> ac_c + h_c + iamoh_c<br>ibutac_c + h2o_c --> ac_c + h_c + ibutoh_c<br>aces_c + h2o_c --> ac_c + etoh_c + h_c<br>2.0 pyr_m + h_m --> co2_m + alac_S_m<br>accoa_m + h2o_m --> ac_m + h_m + coa_m<br>o2_x + dcacoa_x --> dc2coa_x + h2o2_x<br>ddcacoa_x + o2_x --> dd2coa_x + h2o2_x<br>o2_x + tdcoa_x --> h2o2_x + td2coa_x<br>o2_x + pmtcoa_x --> hdd2coa_x + h2o2_x<br>o2_x + stcoa_x --> h2o2_x + od2coa_x<br>hexccoa_x + o2_x --> hxc2coa_x + h2o2_x<br>accoa_c + ACP_c <=> coa_c + acACP_c<br>accoa_m + ACP_m <=> acACP_m + coa_m<br>amet_c + acon_T_c --> acon5m_c + ahcys_c<br>cit_c <=> icit_c<br>2mcit_m <=> micit_m<br>cit_m <=> icit_m<br>acg5sa_m + glu_L_m --> acorn_m + akg_m<br>h2o_e + fmn_e --> pi_e + ribflv_e<br>coa_m + h2o_m --> 2.0 h_m + pan4p_m + pap_m<br>acrn_c --> acrn_m<br>acrn_x --> acrn_c<br>atp_c + ac_c + coa_c --> ppi_c + amp_c + accoa_c<br>coa_m + ac_m + atp_m --> accoa_m + amp_m + ppi_m<br>ac_x + atp_x + coa_x --> accoa_x + ppi_x + amp_x<br>ac_e + h_e <=> ac_c + h_c<br>ac_c <=> ac_m<br>ac_c <=> ac_x<br>ac_e <=> ac_c<br>h2o_c + h_c + adn_c --> nh4_c + ins_c<br>4adcho_c --> 4abz_c + pyr_c + h_c<br>gln_L_c + chor_c --> glu_L_c + 4adcho_c<br>h2o_c + ade_c + h_c --> hxan_c + nh4_c<br>ade_e + h_e --> ade_c + h_c<br>ade_c <=> ade_m<br>0.01 1agly3p_SC_c + h_c + nadph_c --> 0.01 1ag3p_SC_c + nadp_c<br>atp_c + amp_c <=> 2.0 adp_c<br>amp_m + atp_m <=> 2.0 adp_m<br>gtp_c + amp_c <=> adp_c + gdp_c<br>amp_m + gtp_m <=> adp_m + gdp_m<br>itp_c + amp_c <=> idp_c + adp_c<br>amp_m + itp_m <=> idp_m + adp_m<br>amet_c + h_c --> ametam_c + co2_c<br>atp_c --> camp_c + ppi_c<br>atp_c + adn_c --> h_c + adp_c + amp_c<br>adn_c + h2o_c --> ade_c + rib_D_c<br>h_e + adn_e --> h_c + adn_c<br>prpp_c + ade_c --> amp_c + ppi_c<br>aps_c + atp_c --> adp_c + h_c + paps_c<br>dcamp_c <=> amp_c + fum_c<br>25aics_c <=> aicar_c + fum_c<br>asp_L_c + imp_c + gtp_c --> gdp_c + 2.0 h_c + dcamp_c + pi_c<br>0.02 dcacoa_c + 0.1 tdcoa_c + 0.06 ddcacoa_c + 0.24 odecoa_c + 0.27 pmtcoa_c + 0.05 stcoa_c + 0.01 1ag3p_SC_c + 0.09 ocdycacoa_c + 0.17 hdcoa_c --> coa_c + 0.01 pa_SC_c<br>nadph_m + acg5p_m + h_m --> pi_m + nadp_m + acg5sa_m<br>glx_c + ala_L_c --> gly_c + pyr_c<br>ahcys_c <=> ahcys_m<br>h2o_c + ahcys_c --> hcys_L_c + adn_c<br>air_c + 2.0 h_c --> 4ahmmp_c + pi_c + gcald_c<br>ch4s_c + achms_c --> ac_c + h_c + met_L_c<br>h2s_c + achms_c --> ac_c + h_c + hcys_L_c<br>10fthf_c + aicar_c <=> fprica_c + thf_c<br>air_c + co2_c <=> 5aizc_c + h_c<br>akg_m + h_m + lpam_m <=> sdhlam_m + co2_m<br>coa_m + sdhlam_m --> succoa_m + dhlam_m<br>akg_c + mal_L_e <=> mal_L_c + akg_e<br>akg_c + h_c <=> h_n + akg_n<br>akg_e + h_e <=> akg_c + h_c<br>akg_c <=> akg_x<br>3.0 h2o_c + ahdt_c --> dhnpt_c + 3.0 pi_c + 2.0 h_c<br>h_m + gly_m + succoa_m --> co2_m + coa_m + 5aop_m<br>akg_c + ala_L_c <=> glu_L_c + pyr_c<br>ala_L_m + akg_m <=> pyr_m + glu_L_m<br>trnaala_c + atp_c + ala_L_c --> ppi_c + alatrna_c + amp_c<br>h_e + ala_L_e <=> h_c + ala_L_c<br>ala_L_m --> ala_L_c<br>h_c + nadph_c + glyald_c --> glyc_c + nadp_c<br>2mbald_c + h_c + nadh_c --> 2mbtoh_c + nad_c<br>nadh_m + h_m + 2mbald_m --> 2mbtoh_m + nad_m<br>2mbald_c + nadph_c + h_c --> 2mbtoh_c + nadp_c<br>h_c + nadh_c + 2mppal_c --> ibutoh_c + nad_c<br>nadh_m + 2mppal_m + h_m --> ibutoh_m + nad_m<br>h_c + 2mppal_c + nadph_c --> ibutoh_c + nadp_c<br>h_c + nadh_c + 3mbald_c --> iamoh_c + nad_c<br>nadh_m + h_m + 3mbald_m --> iamoh_m + nad_m<br>h_c + nadph_c + 3mbald_c --> iamoh_c + nadp_c<br>h_c + nadh_c + pacald_c --> nad_c + 2phetoh_c<br>nadh_m + pacald_m + h_m --> nad_m + 2phetoh_m<br>h_c + nadph_c + pacald_c --> 2phetoh_c + nadp_c<br>h_c + id3acald_c + nadh_c --> ind3eth_c + nad_c<br>id3acald_m + h_m + nadh_m --> ind3eth_m + nad_m<br>etoh_c + nad_c --> h_c + acald_c + nadh_c<br>h_c + nadh_c + acald_c --> etoh_c + nad_c<br>acald_m + h_m + nadh_m --> etoh_m + nad_m<br>etoh_c + nad_c <=> h_c + acald_c + nadh_c<br>h2o_c + pacald_c + nad_c --> pac_c + nadh_c + 2.0 h_c<br>id3acald_m + nad_m + h2o_m --> ind3ac_m + 2.0 h_m + nadh_m<br>h2o_c + nadp_c + id3acald_c --> ind3ac_c + 2.0 h_c + nadph_c<br>id3acald_m + nadp_m + h2o_m --> ind3ac_m + nadph_m + 2.0 h_m<br>h2o_c + aproa_c + nad_c --> nadh_c + 2.0 h_c + ala_B_c<br>acald_m + nad_m + h2o_m --> 2.0 h_m + nadh_m + ac_m<br>h2o_c + nadp_c + acald_c --> 2.0 h_c + nadph_c + ac_c<br>acald_m + h2o_m + nadp_m --> nadph_m + ac_m + 2.0 h_m<br>h2o_c + alltt_c <=> urdglyc_c + urea_c<br>h2o_c + alltn_c <=> alltt_c + h_c<br>alltn_e --> alltn_c<br>alltt_e --> alltt_c<br>h2o_c + 3.0 h_c + allphn_c --> 2.0 co2_c + 2.0 nh4_c<br>amet_c + 8aonn_c <=> amob_c + dann_c<br>amet_e + h_e --> amet_c + h_c<br>amet_c <=> amet_m<br>h2o_c + 4gudbd_c --> 4gudbutn_c + nh4_c<br>h2o_c + pad_c --> nh4_c + pac_c<br>h2o_c + iad_c --> ind3ac_c + nh4_c<br>h2o_c + h_c + amp_c --> nh4_c + imp_c<br>h2o_c + amp_c --> ade_c + r5p_c<br>amp_n <=> amp_c<br>anth_c + prpp_c --> ppi_c + pran_c<br>gln_L_c + chor_c --> anth_c + glu_L_c + pyr_c + h_c<br>h_c + 2aobut_c --> aact_c + co2_c<br>h2o_c + ap4a_c <=> 2.0 adp_c + 2.0 h_c<br>aprut_c + h2o_c + o2_c --> h2o2_c + nh4_c + n4abutn_c<br>o2_c + Dara14lac_c <=> h2o2_c + ertascb_D_c<br>nadp_c + arab_D_c --> Dara14lac_c + h_c + nadph_c<br>arab_L_c + nadph_c + h_c --> nadp_c + abt_c<br>arab_D_e <=> arab_D_c<br>arab_L_e <=> arab_L_c<br>h2o_c + arg_L_c --> orn_c + urea_c<br>argsuc_c <=> arg_L_c + fum_c<br>atp_c + asp_L_c + citr_L_c <=> ppi_c + argsuc_c + amp_c + h_c<br>atp_c + arg_L_c + trnaarg_c --> ppi_c + amp_c + argtrna_c<br>atp_m + trnaarg_m + arg_L_m --> amp_m + argtrna_m + ppi_m<br>h_c + arg_L_c <=> arg_L_m + h_m<br>arg_L_e + h_e <=> arg_L_c + h_c<br>h_v + arg_L_c --> h_c + arg_L_v<br>his_L_c + amet_c --> NPmehis_c + h_c + ahcys_c<br>4pasp_c + h_c + nadph_c --> nadp_c + aspsa_c + pi_c<br>h2o_c + asn_L_c --> asp_L_c + nh4_c<br>h2o_e + asn_L_e --> nh4_e + asp_L_e<br>h2o_c + atp_c + asp_L_c + gln_L_c --> asn_L_c + ppi_c + amp_c + glu_L_c + h_c<br>atp_c + asn_L_c + trnaasn_c --> ppi_c + asntrna_c + amp_c<br>trnaasn_m + asn_L_m + atp_m --> asntrna_m + amp_m + ppi_m<br>h_c + asn_L_c <=> asn_L_m + h_m<br>asn_L_e + h_e <=> asn_L_c + h_c<br>h_v + asn_L_c --> h_c + asn_L_v<br>h_v + asn_L_v --> asn_L_c + h_c<br>asp_L_c + cbp_c --> cbasp_c + pi_c + h_c<br>asp_L_m + glu_L_c --> asp_L_c + glu_L_m<br>glu_L_x + asp_L_c <=> glu_L_c + asp_L_x<br>asp_L_c + atp_c --> adp_c + 4pasp_c<br>asp_L_c + fad_m --> h_c + iasp_c + fadh2_m<br>asp_L_c + akg_c <=> glu_L_c + oaa_c<br>asp_L_m + akg_m <=> glu_L_m + oaa_m<br>akg_x + asp_L_x <=> oaa_x + glu_L_x<br>atp_c + asp_L_c + trnaasp_c --> ppi_c + asptrna_c + amp_c<br>trnaasp_m + asp_L_m + atp_m --> amp_m + asptrna_m + ppi_m<br>asp_L_c + h_c <=> h_m + asp_L_m<br>asp_L_c + h_c <=> asp_L_n + h_n<br>asp_L_e + h_e <=> asp_L_c + h_c<br>asp_L_n <=> asp_L_c<br>h_v + asp_L_v --> asp_L_c + h_c<br>athr_L_c + nadp_c <=> h_c + 2aobut_c + nadph_c<br>atp_c + h_x + amp_x --> amp_c + h_c + atp_x<br>h_c + atp_c + adp_c --> pi_c + ap4a_c<br>gtp_c + h_c + adp_c --> pi_c + ap4g_c<br>gtp_c + h_c + gdp_c --> pi_c + gp4g_c<br>2.0 h2o_c + atp_c --> amp_c + 2.0 pi_c + 2.0 h_c<br>h2o_c + atp_c --> adp_c + pi_c + h_c<br>prpp_c + atp_c --> ppi_c + prbatp_c<br>h2o_c + atp_c --> adp_c + h_e + pi_c<br>pi_g + adp_g + 3.0 h_c --> 2.0 h_g + atp_g + h2o_g<br>pi_m + 3.0 h_c + adp_m --> 2.0 h_m + h2o_m + atp_m<br>adp_v + pi_v + 3.0 h_c --> atp_v + 2.0 h_v + h2o_v<br>atp_m + adp_c + h_c --> atp_c + adp_m + h_m<br>atp_c + adp_x + h_x --> adp_c + h_c + atp_x<br>h_c + btn_c + atp_c --> ppi_c + btamp_c<br>h2o_c + pap_c --> amp_c + pi_c<br>btd_RR_c + nad_c <=> actn_R_c + h_c + nadh_c<br>btd_RR_c <=> btd_RR_e<br>btn_e + h_e --> btn_c + h_c<br>dtbt_c + s_c <=> btn_c + 2.0 h_c<br>h_c + 44mctr_c + nadph_c --> nadp_c + 44mzym_c<br>ergtrol_c + o2_c + h_c + nadph_c --> 2.0 h2o_c + nadp_c + ergtetrol_c<br>ergtrol_c + o2_c + nadh_c + h_c --> 2.0 h2o_c + nad_c + ergtetrol_c<br>ergtetrol_r + nadph_r + h_r --> ergst_r + nadp_r<br>nad_c + 4mzym_int1_c --> 4mzym_int2_c + h_c + nadh_c + co2_c<br>zym_int1_c + nad_c --> nadh_c + h_c + co2_c + zym_int2_c<br>4mzym_int2_c + nadph_c + h_c --> 4mzym_c + nadp_c<br>h_c + zym_int2_c + nadph_c --> nadp_c + zymst_c<br>44mzym_c + 3.0 o2_c + 3.0 h_c + 3.0 nadph_c --> 4.0 h2o_c + 3.0 nadp_c + 4mzym_int1_c<br>3.0 o2_c + 3.0 nadph_c + 3.0 h_c + 4mzym_c --> 4.0 h2o_c + zym_int1_c + 3.0 nadp_c<br>o2_c + nadph_c + h_c + epist_c --> 2.0 h2o_c + ergtrol_c + nadp_c<br>fecost_c --> epist_c<br>2.0 h2o2_c --> 2.0 h2o_c + o2_c<br>2.0 h2o2_x --> 2.0 h2o_x + o2_x<br>cbasp_n <=> cbasp_c<br>h2o_c + gln_L_c + 2.0 atp_c + hco3_c --> glu_L_c + 2.0 adp_c + cbp_c + 2.0 h_c + pi_c<br>cbp_c <=> cbp_n<br>2.0 focytc_m + h2o2_m --> 2.0 ficytc_m + 2.0 h2o_m<br>glyc3p_m + 0.01 cdpdag_SC_m <=> cmp_m + h_m + 0.01 pgp_SC_m<br>cdp_c <=> cdp_n<br>cer1_24_c <=> cer1_24_r<br>cer1_26_c <=> cer1_26_r<br>cer2_24_c <=> cer2_24_r<br>cer2_26_c <=> cer2_26_r<br>cer1_24_r + coa_r + h_r --> ttccoa_r + sphgn_r<br>cer1_26_r + h_r + coa_r --> sphgn_r + hexccoa_r<br>cer2_24_r + coa_r + h_r --> psphings_r + ttccoa_r<br>cer2_26_r + h_r + coa_r --> hexccoa_r + psphings_r<br>o2_c + h_c + cer1_24_c + nadph_c --> h2o_c + cer2_24_c + nadp_c<br>cer1_26_c + o2_c + h_c + nadph_c --> h2o_c + cer2_26_c + nadp_c<br>sphgn_c + ttccoa_c --> cer1_24_c + coa_c + h_c<br>sphgn_r + ttccoa_r --> cer1_24_r + h_r + coa_r<br>sphgn_c + hexccoa_c --> cer1_26_c + coa_c + h_c<br>sphgn_r + hexccoa_r --> cer1_26_r + h_r + coa_r<br>psphings_c + ttccoa_c --> h_c + cer2_24_c + coa_c<br>psphings_r + ttccoa_r --> cer2_24_r + h_r + coa_r<br>hexccoa_c + psphings_c --> cer2_26_c + coa_c + h_c<br>hexccoa_r + psphings_r --> cer2_26_r + h_r + coa_r<br>o2_c + h_c + cer1_24_c + nadph_c --> h2o_c + cer2__24_c + nadp_c<br>cer1_26_c + o2_c + h_c + nadph_c --> h2o_c + cer2__26_c + nadp_c<br>o2_c + cer2_24_c + h_c + nadph_c --> h2o_c + cer3_24_c + nadp_c<br>o2_c + cer2_26_c + nadph_c + h_c --> h2o_c + cer3_26_c + nadp_c<br>h_c + ctp_c + cholp_c --> ppi_c + cdpchol_c<br>amet_c + o2_c + zymst_c --> ahcys_c + 2.0 h2o_c + ergtetrol_c + h_c<br>chol_e + h_e --> chol_c + h_c<br>chol_c + atp_c --> h_c + adp_c + cholp_c<br>chor_c --> pphn_c<br>3psme_c --> chor_c + pi_c<br>chor_c --> 4hbz_c + pyr_c<br>h2o_c + chitin_c --> ac_c + chitos_c + h_c<br>udpacgal_c --> h_c + udp_c + chitin_c<br>h_e + cit_e <=> cit_c + h_c<br>cit_c + mal_L_m <=> mal_L_c + cit_m<br>cit_x + mal_L_c <=> cit_c + mal_L_x<br>pep_m + cit_c <=> pep_c + cit_m<br>cit_c + icit_m <=> cit_m + icit_c<br>cit_c + icit_x <=> cit_x + icit_c<br>0.01 pg_SC_m + 0.01 cdpdag_SC_m --> 0.01 clpn_SC_m + h_m + cmp_m<br>h2o_c + cmp_c --> r5p_c + csn_c<br>co2_e <=> co2_c<br>co2_c <=> co2_g<br>co2_c <=> co2_m<br>co2_n <=> co2_c<br>co2_c <=> co2_x<br>co2_c <=> co2_v<br>coa_x + h2o_x --> pan4p_x + 2.0 h_x + pap_x<br>coa_c --> coa_m<br>coa_c <=> coa_n<br>T4hcinnm_m + coa_m + atp_m --> coucoa_m + amp_m + ppi_m<br>o2_c + cpppg3_c + 2.0 h_c --> 2.0 h2o_c + 2.0 co2_c + pppg9_c<br>crn_m + acrn_c --> crn_c + acrn_m<br>acrn_x + crn_c --> acrn_c + crn_x<br>crn_e <=> crn_c<br>crn_m --> crn_c<br>crn_c --> crn_x<br>coa_m + acrn_m <=> accoa_m + crn_m<br>crn_x + accoa_x <=> acrn_x + coa_x<br>accoa_c + crn_c <=> acrn_c + coa_c<br>h2o_c + h_c + csn_c --> ura_c + nh4_c<br>h_e + csn_e --> h_c + csn_c<br>accoa_m + oaa_m + h2o_m --> coa_m + cit_m + h_m<br>oaa_x + h2o_x + accoa_x --> h_x + cit_x + coa_x<br>atp_c + utp_c + nh4_c --> ctp_c + adp_c + 2.0 h_c + pi_c<br>h2o_c + atp_c + utp_c + gln_L_c --> glu_L_c + ctp_c + adp_c + 2.0 h_c + pi_c<br>cmp_m + ctp_c + 2.0 h_c --> ctp_m + cmp_c + 2.0 h_m<br>6.0 h_m + o2_m + 4.0 focytc_m --> 4.0 ficytc_m + 6.0 h_c + 2.0 h2o_m<br>q6h2_m + 1.5 h_m + 2.0 ficytc_m --> q6_m + 2.0 focytc_m + 1.5 h_c<br>h2s_c + acser_c --> ac_c + h_c + cys_L_c<br>h2o_c + cyst_L_c --> 2obut_c + cys_L_c + nh4_c<br>h2o_c + cyst_L_c --> hcys_L_c + pyr_c + nh4_c<br>cyst_L_x + h2o_x --> hcys_L_x + nh4_x + pyr_x<br>atp_c + cys_L_c + trnacys_c --> ppi_c + cystrna_c + amp_c<br>hcys_L_c + ser_L_c --> h2o_c + cyst_L_c<br>cyst_L_c <=> cyst_L_x<br>cys_L_e + h_e <=> cys_L_c + h_c<br>h2o_c + h_c + cytd_c --> nh4_c + uri_c<br>cytd_c + gtp_c --> h_c + gdp_c + cmp_c<br>h_e + cytd_e --> cytd_c + h_c<br>cmp_c + atp_c <=> adp_c + cdp_c<br>dcmp_c + atp_c <=> adp_c + dcdp_c<br>h2o_c + h_c + dad_2_c --> din_c + nh4_c<br>damp_c + atp_c <=> adp_c + dadp_c<br>h_e + dad_2_e --> h_c + dad_2_c<br>dadp_c <=> dadp_n<br>0.01 12dgr_SC_c + cdpchol_c --> cmp_c + h_c + 0.01 pc_SC_c<br>h2o_c + 0.01 pa_SC_c --> 0.01 12dgr_SC_c + pi_c<br>dann_e + h_e <=> dann_c + h_c<br>h_c + ctp_c + 0.01 pa_SC_c <=> 0.01 cdpdag_SC_c + ppi_c<br>ctp_m + h_m + 0.01 pa_SC_m <=> 0.01 cdpdag_SC_m + ppi_m<br>ru5p_D_c --> db4p_c + h_c + for_c<br>atp_c + dann_c + co2_c <=> dtbt_c + adp_c + 3.0 h_c + pi_c<br>dcdp_c <=> dcdp_n<br>dcmp_c + h_c + h2o_c <=> dump_c + nh4_c<br>h2o_c + h_c + dctp_c --> nh4_c + dutp_c<br>h2o_c + h_c + dcyt_c --> duri_c + nh4_c<br>h_e + dcyt_e --> h_c + dcyt_c<br>pep_c + h2o_c + e4p_c --> pi_c + 2dda7p_c<br>h2o_m + pep_m + e4p_m --> pi_m + 2dda7p_m<br>o2_c + tdcoa_c + h_c + nadph_c --> 2.0 h2o_c + tdecoa_c + nadp_c<br>pmtcoa_c + o2_c + nadph_c + h_c --> 2.0 h2o_c + hdcoa_c + nadp_c<br>o2_c + h_c + stcoa_c + nadph_c --> 2.0 h2o_c + odecoa_c + nadp_c<br>o2_c + odecoa_c + nadph_c + h_c --> 2.0 h2o_c + ocdycacoa_c + nadp_c<br>dgdp_c <=> dgdp_n<br>h2o_c + 6dg_c --> gal_c + glc_D_c<br>dgmp_c + atp_c <=> adp_c + dgdp_c<br>h_e + dgsn_e --> h_c + dgsn_c<br>23dhmb_m --> h2o_m + 3mob_m<br>23dhmp_m --> 3mop_m + h2o_m<br>atp_c + dha_c --> h_c + dhap_c + adp_c<br>dhap_m --> dhap_c<br>nadph_c + h_c + dhf_c --> thf_c + nadp_c<br>dhf_m + nadph_m + h_m --> thf_m + nadp_m<br>dhpt_c + atp_c + glu_L_c --> adp_c + dhf_c + h_c + pi_c<br>dhf_c <=> dhf_m<br>dhnpt_m --> 2ahhmp_m + h_m + gcald_m<br>dhnpt_c <=> dhnpt_m<br>q6_m + dhor_S_c --> orot_c + q6h2_m<br>fum_c + dhor_S_c --> orot_c + succ_c<br>o2_c + dhor_S_c --> h2o2_c + orot_c<br>h2o_c + dhor_S_c <=> cbasp_c + h_c<br>2ahhmp_m + 4abz_m --> h2o_m + dhpt_m<br>dhpt_c <=> dhpt_m<br>2dda7p_c --> pi_c + 3dhq_c<br>3dhq_c --> h2o_c + 3dhsk_c<br>accoa_c + sprm_c --> N1sprm_c + coa_c + h_c<br>din_e + h_e --> din_c + h_c<br>amet_c + caphis_c --> h_c + ahcys_c + cmaphis_c<br>3.0 h2o_c + dkmpp_c --> 2kmb_c + for_c + 6.0 h_c + pi_c<br>dmpp_c + ipdp_c --> grdp_c + ppi_c<br>h2o_c + dhpmp_c --> pi_c + dhnpt_c<br>h2o_c + ahdt_c --> ppi_c + dhpmp_c + h_c<br>dolichol_c + ctp_c --> cdp_c + h_c + dolp_c<br>dolmanp_r --> mannan_r + dolp_r + h_r<br>dolp_c + gdpmann_c --> dolmanp_r + gdp_c<br>dolp_c + h_c <=> h_r + dolp_r<br>dpcoa_c + atp_c --> adp_c + coa_c + h_c<br>dpcoa_m + atp_m --> adp_m + h_m + coa_m<br>13dpg_c <=> 23dpg_c + h_c<br>5dpmev_c + atp_c --> adp_c + ipdp_c + co2_c + pi_c<br>2dhp_c + nadph_c + h_c --> pant_R_c + nadp_c<br>h_m + nadph_m + 2dhp_m --> nadp_m + pant_R_m<br>atp_c + drib_c --> 2dr5p_c + adp_c + h_c<br>25dhpp_c + nadph_c + h_c --> 25dthpp_c + nadp_c<br>h2o_c + h_c + 25dthpp_c --> 5aprbu_c + nh4_c<br>atp_c + dtmp_c <=> dtdp_c + adp_c<br>dttp_e <=> dttp_c<br>dump_c <=> dump_n<br>atp_c + duri_c --> h_c + adp_c + dump_c<br>pi_c + duri_c <=> 2dr1p_c + ura_c<br>duri_e + h_e --> duri_c + h_c<br>h2o_c + dutp_c --> ppi_c + dump_c + h_c<br>h2o_c + spmd_c + q6_m --> 13dampp_c + 4abutn_c + q6h2_m<br>lac_D_c + 2.0 ficytc_m --> pyr_c + 2.0 focytc_m<br>lac_D_m + 2.0 ficytc_m --> pyr_m + 2.0 focytc_m<br>h_e + lac_D_e <=> h_c + lac_D_c<br>lac_D_c + pyr_m <=> pyr_c + lac_D_m<br>h_c + lac_D_c <=> h_m + lac_D_m<br>e4hglu_c <=> e4hglu_m<br>e4hglu_c <=> e4hglu_x<br>e4p_c <=> e4p_m<br>h2o_x + hxc2coa_x <=> 3hxccoa_x<br>3hdcoa_x <=> dc2coa_x + h2o_x<br>3hddcoa_x <=> h2o_x + dd2coa_x<br>3htdcoa_x <=> h2o_x + td2coa_x<br>3hhdcoa_x <=> hdd2coa_x + h2o_x<br>3hodcoa_x <=> h2o_x + od2coa_x<br>e4hglu_c + akg_c --> glu_L_c + 4h2oglt_c<br>e4hglu_m + akg_m --> 4h2oglt_m + glu_L_m<br>akg_x + e4hglu_x --> 4h2oglt_x + glu_L_x<br>2pg_c <=> h2o_c + pep_c<br>h2o_e + pectin_e --> galur_e<br>0.015 tdcoa_c + 0.27 odecoa_c + 0.02 pmtcoa_c + 0.03 stcoa_c + 0.01 hexccoa_c + 0.01 epist_c + 0.655 hdcoa_c --> 0.01 epistest_SC_c + coa_c<br>h2o_c + 0.01 epistest_SC_c --> 0.02 hdca_c + 0.27 ocdcea_c + 0.01 hexc_c + h_c + 0.655 hdcea_c + 0.015 ttdca_c + 0.01 epist_c + 0.03 ocdca_c<br>h2o_e + 0.01 epistest_SC_e --> 0.03 ocdca_e + 0.02 hdca_e + 0.27 ocdcea_e + 0.015 ttdca_e + 0.01 epist_e + h_e + 0.01 hexc_e + 0.655 hdcea_e<br>epist_e <=> epist_c<br>h2o_c + epm_c <=> man_c + gal_c<br>0.01 ergst_c + 0.015 tdcoa_c + 0.27 odecoa_c + 0.655 hdcoa_c + 0.03 stcoa_c + 0.01 hexccoa_c + 0.02 pmtcoa_c --> 0.01 ergstest_SC_c + coa_c<br>h2o_c + 0.01 ergstest_SC_c --> 0.27 ocdcea_c + 0.01 ergst_c + 0.02 hdca_c + 0.01 hexc_c + h_c + 0.655 hdcea_c + 0.015 ttdca_c + 0.03 ocdca_c<br>h2o_e + 0.01 ergstest_SC_e --> 0.03 ocdca_e + 0.02 hdca_e + 0.01 ergst_e + 0.015 ttdca_e + h_e + 0.27 ocdcea_e + 0.01 hexc_e + 0.655 hdcea_e<br>ergst_c + udpg_c --> h_c + udp_c + ergst3glc_c<br>ergst_e <=> ergst_c<br>ergst_r <=> ergst_c<br>ergtetrol_c <=> ergtetrol_r<br>atp_c + etha_c --> ethamp_c + adp_c + h_c<br>0.01 12dgr_SC_c + cdpea_c <=> cmp_c + 0.01 pe_SC_c + h_c<br>etha_e <=> etha_c<br>etoh_e <=> etoh_c<br>etoh_c <=> etoh_m<br>13BDglcn_e --> <br>2hb_e --> <br>2mbac_e --> <br>2mbald_e --> <br>2mbtoh_e --> <br>2mppal_e --> <br>2phetoh_e --> <br>3c3hmp_e --> <br>3mbald_e --> <br>3mop_e --> <br>4abut_e --> <br>4abz_e --> <br>5aop_e --> <br>8aonn_e --> <br>Nbfortyr_e --> <br>abt_e --> <br>ac_e --> <br>acald_e --> <br>aces_e --> <br>ade_e --> <br>adn_e --> <br>akg_e --> <br>ala_L_e --> <br>alltn_e --> <br>alltt_e --> <br>amet_e --> <br>arab_D_e --> <br>arab_L_e --> <br>arg_L_e --> <br>asn_L_e --> <br>asp_L_e --> <br>btd_RR_e --> <br>btn_e --> <br>chol_e --> <br>cit_e --> <br>co2_e --> <br>crn_e --> <br>csn_e --> <br>cys_L_e --> <br>cytd_e --> <br>dad_2_e --> <br>dann_e --> <br>dca_e --> <br>dcyt_e --> <br>ddca_e --> <br>dgsn_e --> <br>din_e --> <br>dttp_e --> <br>duri_e --> <br>epist_e --> <br>epistest_SC_e --> <br>ergst_e --> <br>ergstest_SC_e --> <br>etha_e --> <br>etoh_e --> <br>fe2_e <=> <br>fecost_e --> <br>fecostest_SC_e --> <br>fmn_e --> <br>for_e --> <br>fru_e --> <br>fum_e --> <br>g3pc_e --> <br>g3pi_e --> <br>gal_e --> <br>galur_e --> <br>gam6p_e --> <br>gcald_e --> <br>glc_D_e <=> <br>gln_L_e --> <br>glu_L_e --> <br>glx_e --> <br>gly_e --> <br>glyc_e --> <br>gsn_e --> <br>gthox_e --> <br>gthrd_e --> <br>gua_e --> <br>h2o_e <=> <br>h_e <=> <br>hdca_e --> <br>hdcea_e --> <br>hexc_e --> <br>his_L_e --> <br>hxan_e --> <br>iamac_e --> <br>iamoh_e --> <br>ibutac_e --> <br>ibutoh_e --> <br>id3acald_e --> <br>ile_L_e --> <br>ind3eth_e --> <br>inost_e --> <br>ins_e --> <br>k_e <=> <br>lac_D_e --> <br>lac_L_e --> <br>lanost_e --> <br>lanostest_SC_e --> <br>leu_L_e --> <br>lys_L_e --> <br>mal_L_e --> <br>malt_e --> <br>man_e --> <br>melib_e --> <br>met_L_e --> <br>mmet_e --> <br>na1_e <=> <br>nac_e --> <br>nadp_e --> <br>nh4_e <=> <br>nmn_e --> <br>o2_e <=> <br>oaa_e --> <br>ocdca_e --> <br>ocdcea_e --> <br>ocdcya_e --> <br>orn_e --> <br>pacald_e --> <br>pap_e --> <br>pc_SC_e --> <br>pectin_e --> <br>pepd_e --> <br>phe_L_e --> <br>pheac_e --> <br>pi_e <=> <br>pnto_R_e --> <br>pro_L_e --> <br>ptd1ino_SC_e --> <br>ptrc_e --> <br>pyr_e --> <br>rib_D_e --> <br>ribflv_e --> <br>sbt_D_e --> <br>sbt_L_e --> <br>ser_L_e --> <br>so3_e --> <br>so4_e <=> <br>spmd_e --> <br>sprm_e --> <br>srb_L_e --> <br>succ_e --> <br>sucr_e --> <br>taur_e --> <br>thm_e --> <br>thmmp_e --> <br>thmpp_e --> <br>thr_L_e --> <br>thym_e --> <br>thymd_e --> <br>tre_e --> <br>trp_L_e --> <br>ttdca_e --> <br>tyr_L_e --> <br>ura_e --> <br>urea_e --> <br>uri_e --> <br>val_L_e --> <br>xan_e --> <br>xtsn_e --> <br>xyl_D_e --> <br>xylt_e --> <br>zymst_e --> <br>zymstest_SC_e --> <br>dca_c --> dca_x<br>h2o_c + ddcaACP_c <=> ACP_c + h_c + ddca_c<br>ddcaACP_m --> ddcaACP_c<br>ddca_c --> ddca_x<br>myrsACP_c + h2o_c <=> ttdca_c + ACP_c + h_c<br>myrsACP_m --> myrsACP_c<br>atp_x + tdcoa_c + h2o_x --> pi_x + adp_x + h_x + tdcoa_x<br>ttdca_c --> ttdca_x<br>h2o_c + tdeACP_c <=> ACP_c + h_c + ttdcea_c<br>tdeACP_m --> tdeACP_c<br>atp_x + tdecoa_c + h2o_x --> tdecoa_x + h_x + adp_x + pi_x<br>ttdcea_c --> ttdcea_x<br>h2o_c + palmACP_c <=> ACP_c + hdca_c + h_c<br>palmACP_m --> palmACP_c<br>atp_x + pmtcoa_c + h2o_x --> pmtcoa_x + h_x + adp_x + pi_x<br>hdca_c --> hdca_x<br>hdeACP_c + h2o_c <=> ACP_c + hdcea_c + h_c<br>hdeACP_m --> hdeACP_c<br>atp_x + hdcoa_c + h2o_x --> h_x + adp_x + pi_x + hdcoa_x<br>hdcea_c --> hdcea_x<br>h2o_c + ocdcaACP_c <=> ACP_c + ocdca_c + h_c<br>ocdcaACP_m --> ocdcaACP_c<br>atp_x + h2o_x + stcoa_c --> h_x + pi_x + stcoa_x + adp_x<br>octeACP_c + h2o_c <=> ocdcea_c + h_c + ACP_c<br>octeACP_m --> octeACP_c<br>atp_x + odecoa_c + h2o_x --> pi_x + h_x + odecoa_x + adp_x<br>ocdcyaACP_c + h2o_c <=> ocdcya_c + ACP_c + h_c<br>ocdcyaACP_m --> ocdcyaACP_c<br>atp_x + ocdycacoa_c + h2o_x --> h_x + adp_x + ocdycacoa_x + pi_x<br>ttc_c --> ttc_x<br>hexc_c --> hexc_x<br>octa_c --> octa_x<br>atp_x + dca_x + coa_x <=> dcacoa_x + ppi_x + amp_x<br>coa_x + ddca_x + atp_x <=> amp_x + ddcacoa_x + ppi_x<br>atp_c + ttdca_c + coa_c <=> ppi_c + tdcoa_c + amp_c<br>atp_x + coa_x + ttdca_x <=> tdcoa_x + ppi_x + amp_x<br>atp_c + ttdcea_c + coa_c <=> ppi_c + amp_c + tdecoa_c<br>atp_x + ttdcea_x + coa_x <=> tdecoa_x + ppi_x + amp_x<br>atp_c + hdca_c + coa_c <=> ppi_c + pmtcoa_c + amp_c<br>hdca_x + coa_x + atp_x <=> pmtcoa_x + ppi_x + amp_x<br>atp_c + hdcea_c + coa_c <=> ppi_c + hdcoa_c + amp_c<br>atp_x + hdcea_x + coa_x <=> hdcoa_x + ppi_x + amp_x<br>atp_c + ocdca_c + coa_c <=> ppi_c + stcoa_c + amp_c<br>ocdcea_c + atp_c + coa_c <=> ppi_c + odecoa_c + amp_c<br>atp_c + ocdcya_c + coa_c <=> ppi_c + amp_c + ocdycacoa_c<br>coa_x + ttc_x + atp_x <=> amp_x + ttccoa_x + ppi_x<br>atp_x + hexc_x + coa_x <=> hexccoa_x + ppi_x + amp_x<br>atp_x + coa_x + octa_x <=> occoa_x + ppi_x + amp_x<br>fad_c + fmn_m --> fad_m + fmn_c<br>gthrd_c + nad_c + fald_c <=> nadh_c + Sfglutth_c + h_c<br>6.0 nad_x + nadph_x + tdecoa_x + 6.0 o2_x + 6.0 coa_x + 6.0 h2o_x --> 7.0 accoa_x + 6.0 nadh_x + 6.0 h2o2_x + nadp_x + 5.0 h_x<br>6.0 nad_x + 6.0 coa_x + 5.0 o2_x + tdecoa_x + 6.0 h2o_x --> 6.0 nadh_x + 5.0 h2o2_x + 7.0 accoa_x + 6.0 h_x<br>7.0 nad_x + nadph_x + 7.0 o2_x + hdcoa_x + 7.0 coa_x + 7.0 h2o_x --> 6.0 h_x + nadp_x + 7.0 nadh_x + 7.0 h2o2_x + 8.0 accoa_x<br>7.0 nad_x + 6.0 o2_x + 7.0 coa_x + 7.0 h2o_x + hdcoa_x --> 7.0 nadh_x + 8.0 accoa_x + 6.0 h2o2_x + 7.0 h_x<br>8.0 nad_x + nadph_x + 8.0 o2_x + 8.0 coa_x + odecoa_x + 8.0 h2o_x --> 7.0 h_x + 9.0 accoa_x + 8.0 nadh_x + 8.0 h2o2_x + nadp_x<br>8.0 nad_x + 8.0 coa_x + 7.0 o2_x + odecoa_x + 8.0 h2o_x --> 8.0 nadh_x + 7.0 h2o2_x + 9.0 accoa_x + 8.0 h_x<br>8.0 nad_x + 2.0 nadph_x + 8.0 o2_x + 8.0 coa_x + ocdycacoa_x + 8.0 h2o_x --> 6.0 h_x + 9.0 accoa_x + 8.0 nadh_x + 8.0 h2o2_x + 2.0 nadp_x<br>8.0 nad_x + nadph_x + 7.0 o2_x + 8.0 coa_x + ocdycacoa_x + 8.0 h2o_x --> 7.0 h_x + 9.0 accoa_x + 8.0 nadh_x + 7.0 h2o2_x + nadp_x<br>8.0 nad_x + 6.0 o2_x + ocdycacoa_x + 8.0 coa_x + 8.0 h2o_x --> 8.0 nadh_x + 6.0 h2o2_x + 9.0 accoa_x + 8.0 h_x<br>3.0 nad_x + ttccoa_x + 3.0 coa_x + 3.0 o2_x + 3.0 h2o_x --> stcoa_x + 3.0 nadh_x + 3.0 h2o2_x + 3.0 accoa_x + 3.0 h_x<br>3.0 nad_x + 3.0 coa_x + 3.0 o2_x + occoa_x + 3.0 h2o_x --> 3.0 nadh_x + 3.0 h2o2_x + 4.0 accoa_x + 3.0 h_x<br>octa_c + malcoa_c + 3.0 h_c + 2.0 nadph_c --> h2o_c + 2.0 nadp_c + co2_c + dca_c + coa_c<br>ocACP_m + 3.0 h_m + 2.0 nadph_m + malACP_m --> ACP_m + co2_m + dcaACP_m + 2.0 nadp_m + h2o_m<br>malcoa_c + 3.0 h_c + occoa_c + 2.0 nadph_c --> h2o_c + dcacoa_c + co2_c + coa_c + 2.0 nadp_c<br>dca_c + malcoa_c + 3.0 h_c + 2.0 nadph_c --> h2o_c + 2.0 nadp_c + co2_c + coa_c + ddca_c<br>dcaACP_m + 3.0 h_m + 2.0 nadph_m + malACP_m --> co2_m + ACP_m + 2.0 nadp_m + ddcaACP_m + h2o_m<br>dcacoa_c + malcoa_c + 3.0 h_c + 2.0 nadph_c --> h2o_c + ddcacoa_c + co2_c + coa_c + 2.0 nadp_c<br>2.0 nadph_c + ddca_c + 3.0 h_c + malcoa_c --> h2o_c + 2.0 nadp_c + co2_c + ttdca_c + coa_c<br>2.0 nadph_m + 3.0 h_m + ddcaACP_m + malACP_m --> ACP_m + myrsACP_m + co2_m + 2.0 nadp_m + h2o_m<br>ddcacoa_c + malcoa_c + 3.0 h_c + 2.0 nadph_c --> h2o_c + 2.0 nadp_c + tdcoa_c + co2_c + coa_c<br>3.0 nadph_c + o2_c + 4.0 h_c + ddca_c + malcoa_c --> 3.0 h2o_c + 3.0 nadp_c + co2_c + ttdcea_c + coa_c<br>o2_m + 3.0 nadph_m + 4.0 h_m + ddcaACP_m + malACP_m --> tdeACP_m + ACP_m + 3.0 nadp_m + 3.0 h2o_m + co2_m<br>malcoa_c + 3.0 h_c + ttdca_c + 2.0 nadph_c --> h2o_c + hdca_c + 2.0 nadp_c + co2_c + coa_c<br>myrsACP_m + 2.0 nadph_m + 3.0 h_m + malACP_m --> ACP_m + co2_m + 2.0 nadp_m + palmACP_m + h2o_m<br>2.0 nadph_c + tdcoa_c + 3.0 h_c + malcoa_c --> h2o_c + 2.0 nadp_c + pmtcoa_c + co2_c + coa_c<br>3.0 nadph_c + o2_c + 4.0 h_c + malcoa_c + ttdca_c --> 3.0 h2o_c + hdcea_c + co2_c + coa_c + 3.0 nadp_c<br>myrsACP_m + 3.0 nadph_m + 4.0 h_m + malACP_m + o2_m --> hdeACP_m + ACP_m + 3.0 nadp_m + 3.0 h2o_m + co2_m<br>2.0 nadph_c + hdca_c + 3.0 h_c + malcoa_c --> h2o_c + 2.0 nadp_c + ocdca_c + co2_c + coa_c<br>3.0 h_m + 2.0 nadph_m + palmACP_m + malACP_m --> co2_m + ACP_m + 2.0 nadp_m + h2o_m + ocdcaACP_m<br>3.0 h_c + pmtcoa_c + 2.0 nadph_c + malcoa_c --> h2o_c + 2.0 nadp_c + coa_c + co2_c + stcoa_c<br>hdca_c + o2_c + 4.0 h_c + malcoa_c + 3.0 nadph_c --> ocdcea_c + 3.0 h2o_c + 3.0 nadp_c + co2_c + coa_c<br>o2_m + 3.0 nadph_m + 4.0 h_m + palmACP_m + malACP_m --> ACP_m + co2_m + 3.0 nadp_m + octeACP_m + 3.0 h2o_m<br>4.0 nadph_m + 2.0 o2_m + 5.0 h_m + palmACP_m + malACP_m --> ocdcyaACP_m + 4.0 nadp_m + ACP_m + 5.0 h2o_m + co2_m<br>9.0 h_c + ocdca_c + 6.0 nadph_c + 3.0 malcoa_c --> 3.0 h2o_c + 6.0 nadp_c + ttc_c + 3.0 co2_c + 3.0 coa_c<br>2.0 nadph_c + ttc_c + malcoa_c + 3.0 h_c --> h2o_c + 2.0 nadp_c + co2_c + coa_c + hexc_c<br>6.0 nadph_m + 9.0 h_m + acACP_m + 3.0 malACP_m --> 3.0 ACP_m + 6.0 nadp_m + 3.0 co2_m + ocACP_m + 3.0 h2o_m<br>6.0 nadph_c + accoa_c + 3.0 malcoa_c + 9.0 h_c --> 3.0 h2o_c + 6.0 nadp_c + 3.0 co2_c + 3.0 coa_c + occoa_c<br>accoa_c + 3.0 malcoa_c + 8.0 h_c + 6.0 nadph_c --> 2.0 h2o_c + octa_c + 6.0 nadp_c + 3.0 co2_c + 4.0 coa_c<br>fdp_c <=> dhap_c + g3p_c<br>f1p_c <=> dhap_c + glyald_c<br>s17bp_c <=> dhap_c + e4p_c<br>h2o_c + fdp_c --> pi_c + f6p_c<br>h2o_c + f26bp_c --> pi_c + f6p_c<br>ppp9_m + fe2_m --> pheme_m + 2.0 h_m<br>for_c + nad_c --> co2_c + nadh_c<br>h_c + q6_m + for_c --> q6h2_m + co2_c<br>fe2_e --> fe2_c<br>fe2_c --> fe2_m<br>0.01 fecost_c + 0.27 odecoa_c + 0.02 pmtcoa_c + 0.03 stcoa_c + 0.01 hexccoa_c + 0.015 tdcoa_c + 0.655 hdcoa_c --> 0.01 fecostest_SC_c + coa_c<br>h2o_c + 0.01 fecostest_SC_c --> 0.02 hdca_c + 0.27 ocdcea_c + 0.01 hexc_c + h_c + 0.655 hdcea_c + 0.015 ttdca_c + 0.01 fecost_c + 0.03 ocdca_c<br>h2o_e + 0.01 fecostest_SC_e --> 0.03 ocdca_e + 0.02 hdca_e + 0.27 ocdcea_e + 0.015 ttdca_e + 0.01 fecost_e + h_e + 0.01 hexc_e + 0.655 hdcea_e<br>fecost_e <=> fecost_c<br>fe2_m --> fe2_c<br>h2o_c + Lfmkynr_c --> Lkynr_c + for_c + h_c<br>mettrna_m + 10fthf_m --> thf_m + h_m + fmettrna_m<br>fmn_c + atp_c + h_c --> ppi_c + fad_c<br>fmn_m + h_m + atp_m --> ppi_m + fad_m<br>fmn_c + h_c + nadh_c --> fmnh2_c + nad_c<br>fmn_c + nadph_c + h_c --> fmnh2_c + nadp_c<br>2ahhmd_m + 4abz_m --> dhpt_m + ppi_m<br>for_e <=> for_c<br>for_m --> for_c<br>frdp_c <=> frdp_m<br>fadh2_m + fum_c --> succ_c + fad_m<br>fadh2_m + fum_m --> fad_m + succ_m<br>ipdp_c + frdp_c --> ggdp_c + ppi_c<br>f1p_c + atp_c --> adp_c + fdp_c + h_c<br>h_e + fru_e --> fru_c + h_c<br>5fthf_c + atp_c --> adp_c + methf_c + pi_c<br>atp_m + 5fthf_m --> pi_m + adp_m + methf_m<br>h2o_c + atp_c + 5fthf_c --> 10fthf_c + adp_c + h_c + pi_c<br>atp_c + thf_c + for_c --> 10fthf_c + adp_c + pi_c<br>for_m + thf_m + atp_m --> pi_m + 10fthf_m + adp_m<br>h2o_c + fum_c <=> mal_L_c<br>h2o_c + 4fumacac_c --> acac_c + h_c + fum_c<br>fum_m + h2o_m <=> mal_L_m<br>h_e + fum_e <=> h_c + fum_c<br>m2macchitppdol_g + gdpmann_g --> m3macchitppdol_g + gdp_g + h_g<br>m3macchitppdol_g + gdpmann_g --> h_g + gdp_g + m4macchitppdol_g<br>macchitppdol_g + gdpmann_g --> m1macchitppdol_g + gdp_g + h_g<br>gdpmann_g + m1macchitppdol_g --> m2macchitppdol_g + gdp_g + h_g<br>g3pc_e <=> g3pc_c<br>h_c + nadh_c + dhap_c --> nad_c + glyc3p_c<br>nadh_m + h_m + dhap_m --> glyc3p_m + nad_m<br>fad_m + glyc3p_m --> dhap_m + fadh2_m<br>g3pi_e <=> g3pi_c<br>h2o_c + glyc3p_c --> glyc_c + pi_c<br>glu5sa_c <=> h2o_c + h_c + 1pyr5c_c<br>glu5sa_m <=> 1pyr5c_m + h2o_m + h_m<br>glu5p_c + h_c + nadph_c --> glu5sa_c + pi_c + nadp_c<br>glu5p_c + nadh_c + h_c --> glu5sa_c + pi_c + nad_c<br>h2o_c + gam6p_c --> f6p_c + nh4_c<br>g6p_c + nadp_c --> h_c + 6pgl_c + nadph_c<br>g6p_r + nadp_r --> h_r + nadph_r + 6pgl_r<br>g6p_c <=> g6p_B_c<br>g6p_B_c <=> f6p_c<br>g6p_c <=> g6p_r<br>h2o_c + 1Dgali_c <=> inost_c + gal_c<br>gal_c + atp_c --> h_c + adp_c + gal1p_c<br>h2o_c + melib_c --> gal_c + glc_D_c<br>utp_c + gal1p_c + h_c <=> udpgal_c + ppi_c<br>h_c + utp_c + g1p_c <=> ppi_c + udpg_c<br>h_e + gal_e --> h_c + gal_c<br>gam6p_e <=> gam6p_c<br>g3p_c + pi_c + nad_c <=> 13dpg_c + nadh_c + h_c<br>gar_c + 10fthf_c --> thf_c + h_c + fgam_c<br>0.27 pmtcoa_c + 0.02 dcacoa_c + glyc3p_c + 0.06 ddcacoa_c + 0.24 odecoa_c + 0.17 hdcoa_c + 0.05 stcoa_c + 0.09 ocdycacoa_c + 0.1 tdcoa_c --> coa_c + 0.01 1ag3p_SC_c<br>0.02 dcacoa_c + dhap_c + 0.06 ddcacoa_c + 0.24 odecoa_c + 0.17 hdcoa_c + 0.05 stcoa_c + 0.09 ocdycacoa_c + 0.1 tdcoa_c + 0.27 pmtcoa_c --> 0.01 1agly3p_SC_c + coa_c<br>14glun_c --> h2o_c + glycogen_c<br>gcald_e <=> gcald_c<br>gcald_c <=> gcald_m<br>h_m + gly_m + lpam_m <=> alpam_m + co2_m<br>alpam_m + thf_m --> mlthf_m + nh4_m + dhlam_m<br>dhlam_m + nad_m <=> h_m + lpam_m + nadh_m<br>h_m + gly_m + lpro_m <=> co2_m + alpro_m<br>thf_m + alpro_m --> dhlpro_m + mlthf_m + nh4_m<br>dhlpro_m + nad_m <=> h_m + lpro_m + nadh_m<br>gdpmann_c + gmp_g --> gdpmann_g + gmp_c<br>h_c + gdp_g <=> gdp_c + h_g<br>gdp_c <=> gdp_n<br>gln_L_c + f6p_c --> glu_L_c + gam6p_c<br>h2o_c + ggl_c <=> glyc_c + gal_c<br>ggdp_c + ipdp_c --> ppi_c + pendp_c<br>thf_c + ser_L_c <=> h2o_c + gly_c + mlthf_c<br>thf_m + ser_L_m <=> gly_m + mlthf_m + h2o_m<br>gmp_c + atp_c <=> adp_c + gdp_c<br>datp_c + gmp_c <=> gdp_c + dadp_c<br>glycogen_c + h2o_c --> glc_D_c<br>h2o_v + glycogen_v --> glc_D_v<br>glycogen_c --> glycogen_v<br>glycogen_c + pi_c --> g1p_c<br>udpg_c --> glycogen_c + udp_c + h_c<br>glc_D_e --> glc_D_c<br>glc_D_c <=> glc_D_v<br>glu_L_c + nh4_c + atp_c --> pi_c + adp_c + h_c + gln_L_c<br>atp_c + trnagln_c + gln_L_c --> ppi_c + glntrna_c + amp_c<br>h_c + gln_L_c <=> gln_L_n + h_n<br>gln_L_e + h_e <=> gln_L_c + h_c<br>h_v + gln_L_c --> h_c + gln_L_v<br>h_v + gln_L_v --> gln_L_c + h_c<br>glp_c + tdcoa_c --> coa_c + tglp_c<br>glu_L_c + atp_c --> adp_c + glu5p_c<br>glu_L_c + cys_L_c + atp_c --> pi_c + glucys_c + adp_c + h_c<br>glu_L_c + h_c --> co2_c + 4abut_c<br>h2o_c + glu_L_c + nad_c --> akg_c + nadh_c + h_c + nh4_c<br>h_c + nh4_c + akg_c + nadph_c --> h2o_c + glu_L_c + nadp_c<br>glc_D_c + atp_c --> h_c + adp_c + g6p_B_c<br>h2o_c + gln_L_c --> glu_L_c + nh4_c<br>h2o_c + gln_L_c + prpp_c --> glu_L_c + ppi_c + pram_c<br>gln_L_c + nadh_c + h_c + akg_c --> 2.0 glu_L_c + nad_c<br>atp_c + trnaglu_c + glu_L_c --> glutrna_c + ppi_c + amp_c<br>trnaglu_m + atp_m + glu_L_m --> glutrna_m + amp_m + ppi_m<br>glu_L_c + h_c <=> h_n + glu_L_n<br>h_e + glu_L_e <=> glu_L_c + h_c<br>glu_L_c + oh1_m --> oh1_c + glu_L_m<br>h_v + glu_L_v --> glu_L_c + h_c<br>glu_L_c --> glu_L_m<br>glx_c <=> glx_e<br>glx_c <=> glx_x<br>coa_c + 2aobut_c --> accoa_c + gly_c<br>glyc3p_c --> glyc3p_m<br>nadp_c + glyc_c --> h_c + dha_c + nadph_c<br>nad_m + gly_m + thf_m --> mlthf_m + nadh_m + nh4_m + co2_m<br>glyc_c <=> glyc_e<br>glyc_e + h_e --> glyc_c + h_c<br>h2o_c + udpg_c --> udp_c + 14glun_c + h_c<br>glyc_c + atp_c --> h_c + adp_c + glyc3p_c<br>h2o_c + lgt_S_c --> h_c + gthrd_c + lac_D_c<br>h2o_m + lgt_S_m --> h_m + gthrd_m + lac_D_m<br>atp_c + gly_c + trnagly_c --> glytrna_c + ppi_c + amp_c<br>gly_c + h_c <=> h_m + gly_m<br>h_e + gly_e <=> gly_c + h_c<br>h2o_c + gln_L_c + xmp_c + atp_c --> glu_L_c + gmp_c + ppi_c + amp_c + 2.0 h_c<br>nadp_c + 6pgc_c --> co2_c + ru5p_D_c + nadph_c<br>h2o_c + gsn_c --> rib_D_c + gua_c<br>h2o_c + g3pc_c --> chol_c + glyc3p_c + h_c<br>grdp_c + ipdp_c --> frdp_c + ppi_c<br>gsn_c + atp_c --> adp_c + gmp_c + h_c<br>gsn_e + h_e --> gsn_c + h_c<br>gsn_c + h_c <=> h_m + gsn_m<br>gthox_c + nadph_c + h_c --> 2.0 gthrd_c + nadp_c<br>gthox_e --> gthox_c<br>h_m + nadph_m + gthox_m --> nadp_m + 2.0 gthrd_m<br>h2o2_c + 2.0 gthrd_c <=> 2.0 h2o_c + gthox_c<br>h2o2_m + 2.0 gthrd_m <=> gthox_m + 2.0 h2o_m<br>atp_v + gthrd_c + h2o_v --> adp_v + h_v + gthrd_v + pi_v<br>gthrd_e --> gthrd_c<br>glucys_c + gly_c + atp_c --> pi_c + gthrd_c + adp_c + h_c<br>gthrd_c + ala_L_c --> cgly_c + gluala_c<br>h2o_c + gtp_c --> ahdt_c + for_c + h_c<br>3.0 h2o_c + gtp_c --> 2.0 h_c + ppi_c + for_c + 25dhpp_c<br>2.0 h2o_c + gtp_c --> gmp_c + 2.0 pi_c + 2.0 h_c<br>gdp_m + h_c + gtp_c --> gdp_c + gtp_m + h_m<br>h2o_c + h_c + gua_c --> xan_c + nh4_c<br>prpp_c + gua_c --> gmp_c + ppi_c<br>h_e + gua_e <=> h_c + gua_c<br>gua_c <=> gua_m<br>h2o2_c <=> h2o2_n<br>h2o_e <=> h2o_c<br>h2o_c <=> h2o_r<br>h2o_c <=> h2o_m<br>h2o_n <=> h2o_c<br>h2o_c <=> h2o_x<br>h2o_c <=> h2o_v<br>nad_x + 3hxccoa_x <=> 3ohxccoa_x + h_x + nadh_x<br>h_x + nadh_x + 3odcoa_x <=> nad_x + 3hdcoa_x<br>nadh_x + 3oddcoa_x + h_x <=> nad_x + 3hddcoa_x<br>3otdcoa_x + nadh_x + h_x <=> nad_x + 3htdcoa_x<br>h_x + nadh_x + 3ohdcoa_x <=> nad_x + 3hhdcoa_x<br>h_x + nadh_x + 3ohodcoa_x <=> nad_x + 3hodcoa_x<br>b124tc_m + h2o_m <=> hicit_m<br>4hbz_m + hexdp_m --> ppi_m + 3ophb_5_m<br>accoa_m + akg_m + h2o_m --> coa_m + hcit_m + h_m<br>akg_n + h2o_n + accoa_n --> hcit_n + coa_n + h_n<br>h2o_c + co2_c <=> hco3_c + h_c<br>h2o_m + co2_m <=> hco3_m + h_m<br>co2_n + h2o_n <=> h_n + hco3_n<br>hco3_c <=> hco3_n<br>amet_c + hcys_L_c --> ahcys_c + met_L_c + h_c<br>h_c + hcys_L_c <=> hcys_L_x + h_x<br>hdca_e --> hdca_c<br>hdcea_e --> hdcea_c<br>nadh_m + o2_m + hemeO_m --> hemeA_m + nad_m + h2o_m<br>frdp_m + h2o_m + pheme_m --> hemeO_m + ppi_m<br>4mhetz_c + atp_c --> 4mpetz_c + adp_c + h_c<br>atp_c + glc_D_c --> g6p_c + adp_c + h_c<br>man_c + atp_c --> h_c + adp_c + man6p_c<br>fru_c + atp_c --> adp_c + f6p_c + h_c<br>hexccoa_c <=> hexccoa_x<br>hexdp_c <=> hexdp_m<br>hgentis_c + o2_c --> 4mlacac_c + h_c<br>hicit_m + nad_m <=> h_m + oxag_m + nadh_m<br>h2o_c + histd_c + 2.0 nad_c --> his_L_c + 2.0 nadh_c + 3.0 h_c<br>hisp_c + h2o_c --> histd_c + pi_c<br>atp_c + his_L_c + trnahis_c --> ppi_c + amp_c + histrna_c<br>trnahis_m + his_L_m + atp_m --> amp_m + ppi_m + histrna_m<br>his_L_m + h_m <=> h_c + his_L_c<br>his_L_e + h_e <=> h_c + his_L_c<br>h_v + his_L_c --> his_L_v + h_c<br>h2o_c + hLkynr_c --> ala_L_c + 3hanthrn_c<br>4.0 ppbng_c + h2o_c --> hmbil_c + 4.0 nh4_c<br>mev_R_c + 2.0 nadp_c + coa_c <=> hmgcoa_c + 2.0 nadph_c + 2.0 h_c<br>hmgcoa_c + h_c + coa_c <=> h2o_c + aacoa_c + accoa_c<br>hmgcoa_m + h_m + coa_m <=> aacoa_m + accoa_m + h2o_m<br>hmgcoa_c <=> hmgcoa_m<br>atp_c + 4ahmmp_c --> h_c + adp_c + 4ampm_c<br>2ahhmp_m + atp_m --> 2ahhmd_m + h_m + amp_m<br>1p3h5c_c + 2.0 h_c + nadh_c --> 4hpro_LT_c + nad_c<br>1p3h5c_c + nadph_c + 2.0 h_c --> 4hpro_LT_c + nadp_c<br>nad_m + 4hpro_LT_m --> 1p3h5c_m + nadh_m + 2.0 h_m<br>4hpro_LT_m + nadp_m --> 1p3h5c_m + 2.0 h_m + nadph_m<br>aspsa_c + h_c + nadh_c --> hom_L_c + nad_c<br>aspsa_c + nadph_c + h_c --> hom_L_c + nadp_c<br>accoa_c + hom_L_c <=> coa_c + achms_c<br>hom_L_c + atp_c --> adp_c + phom_c + h_c<br>glu_L_c + imacp_c --> akg_c + hisp_c<br>h_e + hxan_e <=> hxan_c + h_c<br>hxan_c + prpp_c --> ppi_c + imp_c<br>pyam5p_c + h2o_c --> pydam_c + pi_c<br>iamac_c --> iamac_e<br>iamoh_c <=> iamoh_e<br>iamoh_c <=> iamoh_m<br>ibutac_c --> ibutac_e<br>ibutoh_c <=> ibutoh_e<br>ibutoh_c <=> ibutoh_m<br>icit_m + nad_m --> nadh_m + co2_m + akg_m<br>icit_c + nadp_c --> co2_c + nadph_c + akg_c<br>icit_m + nadp_m --> akg_m + co2_m + nadph_m<br>icit_x + nadp_x --> akg_x + nadph_x + co2_x<br>icit_c --> glx_c + succ_c<br>id3acald_c <=> id3acald_e<br>id3acald_c <=> id3acald_m<br>gln_L_c + prlp_c --> glu_L_c + h_c + eig3p_c + aicar_c<br>eig3p_c --> h2o_c + imacp_c<br>h_c + 2cpr5p_c --> h2o_c + co2_c + 3ig3p_c<br>ile_L_c + akg_c <=> glu_L_c + 3mop_c<br>ile_L_m + akg_m <=> 3mop_m + glu_L_m<br>atp_c + trnaile_c + ile_L_c --> ppi_c + iletrna_c + amp_c<br>ile_L_m + trnaile_m + atp_m --> iletrna_m + amp_m + ppi_m<br>ile_L_e + h_e <=> h_c + ile_L_c<br>ile_L_c + h_v --> ile_L_v + h_c<br>h_v + ile_L_v --> h_c + ile_L_c<br>ile_L_m --> ile_L_c<br>h2o_c + imp_c <=> fprica_c<br>h2o_c + imp_c + nad_c --> nadh_c + h_c + xmp_c<br>ind3ac_c <=> ind3ac_m<br>ind3eth_c <=> ind3eth_e<br>ind3eth_c <=> ind3eth_m<br>h_c + indpyr_c <=> id3acald_c + co2_c<br>ins_c + atp_c --> h_c + adp_c + imp_c<br>inost_e + h_e --> inost_c + h_c<br>ins_e + h_e --> h_c + ins_c<br>h2o_c + 0.01 ipc124_SC_c --> h_c + mi1p_D_c + cer1_24_c<br>h2o_c + 0.01 ipc126_SC_c --> cer1_26_c + mi1p_D_c + h_c<br>h2o_c + 0.01 ipc224_SC_c --> cer2_24_c + mi1p_D_c + h_c<br>h2o_c + 0.01 ipc226_SC_c --> cer2_26_c + mi1p_D_c + h_c<br>h2o_c + 0.01 ipc324_SC_c --> cer3_24_c + mi1p_D_c + h_c<br>h2o_c + 0.01 ipc326_SC_c --> mi1p_D_c + cer3_26_c + h_c<br>0.01 ptd1ino_SC_c + cer1_24_c --> 0.01 ipc124_SC_c + 0.01 12dgr_SC_c<br>0.01 ptd1ino_SC_c + cer1_26_c --> 0.01 12dgr_SC_c + 0.01 ipc126_SC_c<br>0.01 ptd1ino_SC_c + cer2_24_c --> 0.01 12dgr_SC_c + 0.01 ipc224_SC_c<br>cer2_26_c + 0.01 ptd1ino_SC_c --> 0.01 ipc226_SC_c + 0.01 12dgr_SC_c<br>0.01 ptd1ino_SC_c + cer3_24_c --> 0.01 12dgr_SC_c + 0.01 ipc324_SC_c<br>0.01 ptd1ino_SC_c + cer3_26_c --> 0.01 12dgr_SC_c + 0.01 ipc326_SC_c<br>ipdp_c <=> dmpp_c<br>ipdp_c <=> ipdp_m<br>3c2hmp_c + nad_c --> h_c + 3c4mop_c + nadh_c<br>3c2hmp_c <=> h2o_c + 2ippm_c<br>h2o_c + 2ippm_c <=> 3c3hmp_c<br>h2o_c + 3mob_c + accoa_c --> 3c3hmp_c + h_c + coa_c<br>3mob_m + h2o_m + accoa_m --> h_m + coa_m + 3c3hmp_m<br>itacon_m + coa_m + atp_m <=> itaccoa_m + pi_m + adp_m<br>alac_S_m + h_m + nadph_m --> nadp_m + 23dhmb_m<br>2ahbut_m + nadph_m + h_m --> nadp_m + 23dhmp_m<br>h2o_c + Lkynr_c --> ala_L_c + anth_c + h_c<br>Lkynr_c + o2_c + nadph_c + h_c --> h2o_c + hLkynr_c + nadp_c<br>k_e + h_e <=> h_c + k_c<br>h_c + mthgxl_c + nadph_c --> lald_L_c + nadp_c<br>0.01 lanost_c + 0.015 tdcoa_c + 0.03 stcoa_c + 0.27 odecoa_c + 0.655 hdcoa_c + 0.01 hexccoa_c + 0.02 pmtcoa_c --> 0.01 lanostest_SC_c + coa_c<br>h2o_c + 0.01 lanostest_SC_c --> 0.02 hdca_c + 0.27 ocdcea_c + 0.01 lanost_c + 0.03 ocdca_c + 0.655 hdcea_c + h_c + 0.015 ttdca_c + 0.01 hexc_c<br>0.01 lanostest_SC_e + h2o_e --> 0.03 ocdca_e + 0.02 hdca_e + 0.27 ocdcea_e + 0.015 ttdca_e + h_e + 0.01 hexc_e + 0.655 hdcea_e + 0.01 lanost_e<br>lanost_e <=> lanost_c<br>h2o_c + lald_L_c + nad_c --> lac_L_c + nadh_c + 2.0 h_c<br>Lcystin_v + h_v --> h_c + Lcystin_c<br>leu_L_c + akg_c <=> glu_L_c + 4mop_c<br>leu_L_m + akg_m <=> 4mop_m + glu_L_m<br>atp_c + leu_L_c + trnaleu_c --> ppi_c + leutrna_c + amp_c<br>trnaleu_m + leu_L_m + atp_m --> leutrna_m + amp_m + ppi_m<br>leu_L_e + h_e <=> h_c + leu_L_c<br>h_v + leu_L_c --> h_c + leu_L_v<br>h_v + leu_L_v --> h_c + leu_L_c<br>gthrd_c + mthgxl_c --> lgt_S_c<br>lanost_c + 3.0 o2_c + 2.0 h_c + 3.0 nadph_c --> 4.0 h2o_c + for_c + 44mctr_c + 3.0 nadp_c<br>lanost_c + 3.0 nadh_c + 3.0 o2_c + 2.0 h_c --> 4.0 h2o_c + for_c + 44mctr_c + 3.0 nad_c<br>Ssq23epx_c --> lanost_c<br>0.01 1agpc_SC_c + 0.02 dcacoa_c + 0.1 tdcoa_c + 0.06 ddcacoa_c + 0.24 odecoa_c + 0.17 hdcoa_c + 0.05 stcoa_c + 0.09 ocdycacoa_c + 0.27 pmtcoa_c --> 0.01 pc_SC_c + coa_c<br>h2o_c + 0.01 dagpy_SC_c --> pi_c + 0.01 pa_SC_c + h_c<br>nadp_c + ser_L_c <=> h_c + 2amsa_c + nadph_c<br>lys_L_c + atp_c + trnalys_c --> lystrna_c + ppi_c + amp_c<br>lys_L_m + atp_m + trnalys_m --> amp_m + ppi_m + lystrna_m<br>lys_L_c + h_c <=> lys_L_m + h_m<br>lys_L_e + h_e <=> lys_L_c + h_c<br>h_v + lys_L_c --> lys_L_v + h_c<br>lac_L_c + 2.0 ficytc_m --> 2.0 focytc_m + pyr_c<br>lac_L_e + h_e <=> h_c + lac_L_c<br>lac_L_c + h_c <=> lac_L_m + h_m<br>4mlacac_c --> 4fumacac_c<br>mal_L_x + oaa_c <=> mal_L_c + oaa_x<br>h2o_c + glx_c + accoa_c --> mal_L_c + h_c + coa_c<br>glx_x + h2o_x + accoa_x --> mal_L_x + coa_x + h_x<br>h2o_c + malt_c --> 2.0 glc_D_c<br>malt_e + h_e --> h_c + malt_c<br>mal_L_e + h_e <=> h_c + mal_L_c<br>pi_m + mal_L_c <=> pi_c + mal_L_m<br>gtp_c + h_c + man1p_c --> ppi_c + gdpmann_c<br>man6p_c <=> f6p_c<br>mannan_c <=> mannan_r<br>man_e + h_e --> h_c + man_c<br>hcit_m <=> b124tc_m + h2o_m<br>micit_m --> succ_m + pyr_m<br>oaa_m + ppcoa_m + h2o_m --> h_m + 2mcit_m + coa_m<br>malcoa_c + ACP_c <=> malACP_c + coa_c<br>malcoa_m + ACP_m <=> coa_m + malACP_m<br>nad_c + mal_L_c <=> h_c + oaa_c + nadh_c<br>mal_L_m + nad_m <=> h_m + oaa_m + nadh_m<br>nad_x + mal_L_x <=> h_x + oaa_x + nadh_x<br>5mdru1p_c --> dkmpp_c + h2o_c<br>mal_L_m + nad_m --> co2_m + pyr_m + nadh_m<br>mal_L_m + nadp_m --> nadph_m + pyr_m + co2_m<br>melib_e + h_e --> h_c + melib_c<br>melt_c + h2o_c <=> sbt_D_c + gal_c<br>h2o_c + atp_c + met_L_c --> amet_c + ppi_c + pi_c<br>achms_c + cys_L_c --> ac_c + cyst_L_c + h_c<br>5mthf_c + hcys_L_c --> thf_c + met_L_c + h_c<br>atp_c + met_L_c + trnamet_c --> ppi_c + mettrna_c + amp_c<br>atp_m + trnamet_m + met_L_m --> mettrna_m + amp_m + ppi_m<br>met_L_m + h_m <=> h_c + met_L_c<br>met_L_e + h_e <=> h_c + met_L_c<br>mev_R_c + atp_c --> adp_c + 5pmev_c + h_c<br>mev_R_c + ctp_c --> 5pmev_c + cdp_c + h_c<br>gtp_c + mev_R_c --> 5pmev_c + gdp_c + h_c<br>mev_R_c + utp_c --> udp_c + 5pmev_c + h_c<br>amet_c + 0.01 ptdmeeta_SC_c --> h_c + ahcys_c + 0.01 ptd2meeta_SC_c<br>dhap_c --> mthgxl_c + pi_c<br>hcys_L_c + mhpglu_c --> hpglu_c + met_L_c<br>mi13456p_n + atp_n --> adp_n + h_n + minohp_n<br>atp_n + mi1345p_n --> adp_n + mi13456p_n + h_n<br>mi1456p_n + atp_n --> h_n + adp_n + mi13456p_n<br>mi145p_n + atp_n --> h_n + adp_n + mi1456p_n<br>mi145p_n + atp_n --> h_n + adp_n + mi1345p_n<br>mi145p_c <=> mi145p_n<br>h2o_c + mi1p_D_c --> inost_c + pi_c<br>g6p_c --> mi1p_D_c<br>minohp_c <=> minohp_n<br>h2o_c + 0.01 mip2c124_SC_c --> h_c + man2mi1p_D_c + cer1_24_c<br>h2o_c + 0.01 mip2c126_SC_c --> cer1_26_c + man2mi1p_D_c + h_c<br>h2o_c + 0.01 mip2c224_SC_c --> cer2_24_c + man2mi1p_D_c + h_c<br>h2o_c + 0.01 mip2c226_SC_c --> cer2_26_c + man2mi1p_D_c + h_c<br>h2o_c + 0.01 mip2c324_SC_c --> cer3_24_c + man2mi1p_D_c + h_c<br>0.01 mip2c326_SC_c + h2o_c --> cer3_26_c + man2mi1p_D_c + h_c<br>0.01 mipc124_SC_c + 0.01 ptd1ino_SC_c --> 0.01 mip2c124_SC_c + 0.01 12dgr_SC_c<br>0.01 ptd1ino_SC_c + 0.01 mipc126_SC_c --> 0.01 12dgr_SC_c + 0.01 mip2c126_SC_c<br>0.01 mipc224_SC_c + 0.01 ptd1ino_SC_c --> 0.01 mip2c224_SC_c + 0.01 12dgr_SC_c<br>0.01 mipc226_SC_c + 0.01 ptd1ino_SC_c --> 0.01 mip2c226_SC_c + 0.01 12dgr_SC_c<br>0.01 ptd1ino_SC_c + 0.01 mipc324_SC_c --> 0.01 mip2c324_SC_c + 0.01 12dgr_SC_c<br>0.01 mipc326_SC_c + 0.01 ptd1ino_SC_c --> 0.01 mip2c326_SC_c + 0.01 12dgr_SC_c<br>0.01 mipc124_SC_c + h2o_c --> manmi1p_D_c + cer1_24_c + h_c<br>0.01 mipc126_SC_c + h2o_c --> cer1_26_c + manmi1p_D_c + h_c<br>0.01 mipc224_SC_c + h2o_c --> manmi1p_D_c + h_c + cer2_24_c<br>0.01 mipc226_SC_c + h2o_c --> manmi1p_D_c + cer2_26_c + h_c<br>0.01 mipc324_SC_c + h2o_c --> manmi1p_D_c + h_c + cer3_24_c<br>0.01 mipc326_SC_c + h2o_c --> manmi1p_D_c + cer3_26_c + h_c<br>gdpmann_c + 0.01 ipc124_SC_c --> h_c + gdp_c + 0.01 mipc124_SC_c<br>gdpmann_c + 0.01 ipc126_SC_c --> gdp_c + 0.01 mipc126_SC_c + h_c<br>0.01 ipc224_SC_c + gdpmann_c --> 0.01 mipc224_SC_c + h_c + gdp_c<br>gdpmann_c + 0.01 ipc226_SC_c --> gdp_c + h_c + 0.01 mipc226_SC_c<br>gdpmann_c + 0.01 ipc324_SC_c --> h_c + gdp_c + 0.01 mipc324_SC_c<br>gdpmann_c + 0.01 ipc326_SC_c --> gdp_c + 0.01 mipc326_SC_c + h_c<br>mmet_e + h_e --> h_c + mmet_c<br>mlthf_c + h2o_c + 3mob_c --> 2dhp_c + thf_c<br>5mta_c + pi_c --> ade_c + 5mdr1p_c<br>h2o_c + methf_c <=> 10fthf_c + h_c<br>methf_m + h2o_m <=> h_m + 10fthf_m<br>mlthf_c + nadp_c <=> methf_c + nadph_c<br>mlthf_c + nad_c --> methf_c + nadh_c<br>nadp_m + mlthf_m <=> nadph_m + methf_m<br>mlthf_c + 2.0 h_c + nadph_c --> 5mthf_c + nadp_c<br>5mdr1p_c <=> 5mdru1p_c<br>h2o_c + nad_c + n4abutn_c --> nadh_c + 4aabutn_c + 2.0 h_c<br>nac_e <=> nac_c<br>nad_x + h2o_x --> nmn_x + 2.0 h_x + amp_x<br>h_c + nadh_c + q6_m --> q6h2_m + nad_c<br>nadh_m + h_m + q6_m --> q6h2_m + nad_m<br>atp_c + nad_c --> h_c + adp_c + nadp_c<br>nad_m + atp_m --> adp_m + h_m + nadp_m<br>h2o_c + nad_c --> adprib_c + h_c + ncam_c<br>nad_m + h2o_m --> adprib_m + h_m + ncam_m<br>h2o_c + nadp_c --> pi_c + nad_c<br>h2o_m + nadp_m --> pi_m + nad_m<br>nadp_c <=> nadp_e<br>atp_c + dnad_c + nh4_c --> ppi_c + h_c + amp_c + nad_c<br>nh4_n + atp_n + dnad_n --> ppi_n + h_n + amp_n + nad_n<br>nad_n <=> nad_c<br>h_c + nac_c + prpp_c --> ppi_c + nicrnt_c<br>prpp_m + nac_m + h_m --> nicrnt_m + ppi_m<br>h_e + na1_c <=> h_c + na1_e<br>h2o_c + adp_c --> amp_c + pi_c + h_c<br>h2o_c + gdp_c --> gmp_c + pi_c + h_c<br>h2o_g + gdp_g --> gmp_g + pi_g + h_g<br>h2o_c + dgdp_c --> dgmp_c + pi_c + h_c<br>h2o_c + udp_c --> h_c + pi_c + ump_c<br>gdp_c + atp_c <=> gtp_c + adp_c<br>atp_c + udp_c <=> adp_c + utp_c<br>cdp_c + atp_c <=> adp_c + ctp_c<br>dtdp_c + atp_c <=> adp_c + dttp_c<br>dgdp_c + atp_c <=> dgtp_c + adp_c<br>dudp_c + atp_c <=> adp_c + dutp_c<br>dcdp_c + atp_c <=> dctp_c + adp_c<br>atp_c + dadp_c <=> datp_c + adp_c<br>idp_c + atp_c <=> adp_c + itp_c<br>Nbfortyr_c --> Nbfortyr_e<br>2.0 Nfortyr_c + nadph_c + h_c --> Nbfortyr_c + nadp_c<br>nh4_e <=> nh4_c<br>nh4_c --> nh4_e<br>nh4_c <=> nh4_m<br>nh4_c <=> nh4_n<br>nh4_c <=> nh4_x<br>h_c + nmn_c + atp_c --> ppi_c + nad_c<br>h_m + nmn_m + atp_m --> nad_m + ppi_m<br>h_e + nmn_e --> h_c + nmn_c<br>h_c + nmn_c <=> nmn_m + h_m<br>h_c + nmn_c <=> nmn_x + h_x<br>h2o_c + ncam_c <=> nh4_c + nac_c<br>ncam_m + h2o_m <=> nac_m + nh4_m<br>h_c + nicrnt_c + atp_c --> ppi_c + dnad_c<br>h_m + nicrnt_m + atp_m --> ppi_m + dnad_m<br>quln_c + 2.0 h_c + prpp_c --> nicrnt_c + ppi_c + co2_c<br>quln_m + 2.0 h_m + prpp_m --> nicrnt_m + co2_m + ppi_m<br>amet_c + ncam_c --> 1mncam_c + ahcys_c<br>h2o_c + dump_c --> pi_c + duri_c<br>h2o_c + xmp_c --> pi_c + xtsn_c<br>h2o_c + imp_c --> ins_c + pi_c<br>h2o_c + ump_c --> pi_c + uri_c<br>h2o_c + dcmp_c --> dcyt_c + pi_c<br>h2o_c + cmp_c --> pi_c + cytd_c<br>h2o_c + dtmp_c --> thymd_c + pi_c<br>h2o_c + damp_c --> dad_2_c + pi_c<br>h2o_c + amp_c --> pi_c + adn_c<br>h2o_c + dgmp_c --> pi_c + dgsn_c<br>h2o_c + gmp_c --> gsn_c + pi_c<br>h2o_c + gtp_c --> gdp_c + pi_c + h_c<br>h2o_c + dgtp_c --> pi_c + dgdp_c + h_c<br>2.0 h2o_c + ind3acnl_c --> ind3ac_c + nh4_c<br>2.0 h2o_c + aprop_c --> ala_L_c + nh4_c<br>2.0 h2o_c + acybut_c --> glu_L_c + nh4_c<br>o2_e <=> o2_c<br>o2_c <=> o2_r<br>o2_c <=> o2_m<br>oaa_c <=> oaa_e<br>h_c + oaa_c <=> h_m + oaa_m<br>coa_m + nad_m + 2obut_m --> nadh_m + ppcoa_m + co2_m<br>cbp_c + orn_c --> h_c + pi_c + citr_L_c<br>ocdca_e --> ocdca_c<br>ocdcea_e --> ocdcea_c<br>ocdcya_e --> ocdcya_c<br>accoa_c + etoh_c --> aces_c + coa_c<br>accoa_c + iamoh_c --> coa_c + iamac_c<br>accoa_c + 2mbtoh_c --> 2mbac_c + coa_c<br>accoa_c + ibutoh_c --> coa_c + ibutac_c<br>accoa_c + 2phetoh_c --> coa_c + pheac_c<br>glu_L_c + ohpb_c <=> phthr_c + akg_c<br>h_c + 3c4mop_c --> 4mop_c + co2_c<br>h_m + 3c4mop_m --> 4mop_m + co2_m<br>h_c + orot5p_c --> co2_c + ump_c<br>h_c + orn_c --> ptrc_c + co2_c<br>orn_c + akg_c --> glu5sa_c + glu_L_c<br>acorn_m + glu_L_m --> orn_m + acglu_m<br>orn_e + h_e <=> h_c + orn_c<br>h_c + orn_m <=> orn_c + h_m<br>ppi_c + orot5p_c <=> orot_c + prpp_c<br>h_m + oxag_m <=> 2oxoadp_m + co2_m<br>oxag_c + akg_m <=> akg_c + oxag_m<br>nad_m + 1pyr5c_m + 2.0 h2o_m --> nadh_m + h_m + glu_L_m<br>2.0 h_c + nadph_c + 1pyr5c_c --> nadp_c + pro_L_c<br>pacald_c <=> pacald_e<br>pacald_c <=> pacald_m<br>0.01 pa_SC_c + atp_c --> 0.01 dagpy_SC_c + adp_c<br>pan4p_c <=> pan4p_m<br>pant_R_c + ala_B_c + atp_c --> ppi_c + amp_c + h_c + pnto_R_c<br>pant_R_c <=> pant_R_m<br>trdrd_c + paps_c --> so3_c + 2.0 h_c + trdox_c + pap_c<br>pap_e <=> pap_c<br>pap_c <=> pap_m<br>pa_SC_c <=> pa_SC_m<br>hco3_c + pyr_c + atp_c --> adp_c + h_c + oaa_c + pi_c<br>12dgr_SC_c + pc_SC_c --> 1agpc_SC_c + triglyc_SC_c<br>h2o_c + camp_c --> amp_c + h_c<br>h2o_c + 35cdamp_c --> damp_c + h_c<br>h2o_c + 35cimp_c --> h_c + imp_c<br>h2o_c + 35cgmp_c --> gmp_c + h_c<br>h2o_c + 35ccmp_c --> cmp_c + h_c<br>dhlam_m + nad_m --> h_m + lpam_m + nadh_m<br>nad_m + pyr_m + coa_m --> nadh_m + accoa_m + co2_m<br>o2_c + pdx5p_c <=> h2o2_c + pydx5p_c<br>pendp_c <=> pendp_m<br>pepd_c + accoa_c --> apep_c + h_c + coa_c<br>pepd_e + h_e --> h_c + pepd_c<br>ethamp_c + h_c + ctp_c --> ppi_c + cdpea_c<br>amet_c + 0.01 pe_SC_c --> ahcys_c + 0.01 ptdmeeta_SC_c + h_c<br>pe_SC_c <=> pe_SC_g<br>pe_SC_c <=> pe_SC_m<br>pe_SC_c <=> pe_SC_v<br>f6p_c + atp_c --> fdp_c + adp_c + h_c<br>f6p_c + atp_c --> f26bp_c + adp_c + h_c<br>atp_c + tag6p_D_c --> tagdp_D_c + adp_c + h_c<br>atp_c + s7p_c --> h_c + adp_c + s17bp_c<br>gam1p_c <=> gam6p_c<br>3pg_c + nad_c --> 3php_c + h_c + nadh_c<br>g6p_c <=> f6p_c<br>atp_c + 3pg_c <=> 13dpg_c + adp_c<br>h2o_c + 6pgl_c --> 6pgc_c + h_c<br>2pg_c <=> 3pg_c<br>g1p_c <=> g6p_c<br>0.01 pgp_SC_m + h2o_m --> pi_m + 0.01 pg_SC_m<br>1p3h5c_m + nad_m + 2.0 h2o_m --> nadh_m + h_m + e4hglu_m<br>1p3h5c_m + h2o_m + h_m <=> 4hglusa_m<br>pheac_c --> pheac_e<br>akg_c + phe_L_c <=> glu_L_c + phpyr_c<br>atp_c + phe_L_c + trnaphe_c --> ppi_c + amp_c + phetrna_c<br>phe_L_m + trnaphe_m + atp_m --> amp_m + phetrna_m + ppi_m<br>phe_L_m + h_m <=> h_c + phe_L_c<br>phe_L_e + h_e <=> h_c + phe_L_c<br>h2o_c + 0.01 ptd135bp_SC_c --> 0.01 ptd3ino_SC_c + pi_c<br>0.01 ptd3ino_SC_c + atp_c --> h_c + adp_c + 0.01 ptd134bp_SC_c<br>0.01 ptd3ino_SC_c + atp_c --> h_c + adp_c + 0.01 ptd135bp_SC_c<br>h2o_c + 0.01 ptd145bp_SC_c --> pi_c + 0.01 ptd4ino_SC_c<br>0.01 ptd145bp_SC_c + h2o_c --> mi145p_c + 0.01 12dgr_SC_c + h_c<br>atp_c + 0.01 ptd4ino_SC_c --> h_c + adp_c + 0.01 ptd145bp_SC_c<br>0.01 ptd1ino_SC_c + atp_c --> adp_c + 0.01 ptd3ino_SC_c + h_c<br>0.01 ptd1ino_SC_c + atp_c --> adp_c + 0.01 ptd4ino_SC_c + h_c<br>0.01 ptd1ino_SC_n + atp_n --> h_n + adp_n + 0.01 ptd4ino_SC_n<br>inost_c + 0.01 cdpdag_SC_c --> cmp_c + h_c + 0.01 ptd1ino_SC_c<br>pi_c + h_c <=> pi_m + h_m<br>h_c + pi_c <=> h_n + pi_n<br>h_c + pi_c <=> h_x + pi_x<br>pi_e + h_e <=> h_c + pi_c<br>h_c + pi_c <=> h_v + pi_v<br>oh1_m + pi_c <=> pi_m + oh1_c<br>h2o_e + 0.005 ptd1ino_SC_e --> 0.05 ocdca_e + 0.27 hdca_e + 0.02 dca_e + 0.06 ddca_e + 0.09 ocdcya_e + 0.1 ttdca_e + h_e + 0.24 ocdcea_e + 0.5 g3pi_e + 0.17 hdcea_e<br>h2o_c + 0.005 pc_SC_c --> 0.24 ocdcea_c + 0.27 hdca_c + 0.5 g3pc_c + 0.06 ddca_c + h_c + 0.17 hdcea_c + 0.02 dca_c + 0.1 ttdca_c + 0.09 ocdcya_c + 0.05 ocdca_c<br>h2o_e + 0.005 pc_SC_e --> 0.05 ocdca_e + 0.27 hdca_e + 0.02 dca_e + 0.06 ddca_e + 0.09 ocdcya_e + 0.5 g3pc_e + 0.1 ttdca_e + h_e + 0.24 ocdcea_e + 0.17 hdcea_e<br>h2o_c + 0.01 pc_SC_c --> chol_c + 0.01 pa_SC_c + h_c<br>man1p_c <=> man6p_c<br>h2o_c + 5aprbu_c --> 4r5au_c + pi_c<br>amet_c + 0.01 ptd2meeta_SC_c --> h_c + ahcys_c + 0.01 pc_SC_c<br>atp_c + 5pmev_c --> adp_c + 5dpmev_c<br>h2o_c + ppmi12346p_c --> h_c + pi_c + minohp_c<br>minohp_c + atp_c --> adp_c + ppmi12346p_c<br>h2o_c + ppmi1346p_c --> pi_c + mi13456p_c + h_c<br>mi13456p_c + atp_c --> ppmi1346p_c + adp_c<br>atp_c + 4ampm_c --> 2mahmp_c + adp_c<br>pi_c + rnam_c <=> r1p_c + ncam_c + h_c<br>pnto_R_c + atp_c --> 4ppan_c + adp_c + h_c<br>pnto_R_e + h_e <=> h_c + pnto_R_c<br>h2o_c + o2_c + N1aspmd_c --> aprut_c + h2o2_c + aproa_c<br>h2o_c + o2_c + N1sprm_c --> h2o2_c + N1aspmd_c + aproa_c<br>h2o_c + o2_c + sprm_c --> h2o2_c + spmd_c + aproa_c<br>h2o_c + ppi_c --> h_c + 2.0 pi_c<br>h2o_m + ppi_m --> 2.0 pi_m + h_m<br>2.0 5aop_c --> 2.0 h2o_c + ppbng_c + h_c<br>h_c + 4ppcys_c --> co2_c + pan4p_c<br>atp_c + oaa_c --> pep_c + adp_c + co2_c<br>r1p_c <=> r5p_c<br>ctp_c + cys_L_c + 4ppan_c --> ppi_c + h_c + cmp_c + 4ppcys_c<br>nad_c + pphn_c --> nadh_c + co2_c + 34hpp_c<br>nadp_c + pphn_c --> 34hpp_c + nadph_c + co2_c<br>pphn_c + h_c --> h2o_c + co2_c + phpyr_c<br>pppg9_c <=> pppg9_m<br>3.0 o2_m + 2.0 pppg9_m --> 2.0 ppp9_m + 6.0 h2o_m<br>ipdp_m + pendp_m --> hexdp_m + ppi_m<br>h_c + phpyr_c --> pacald_c + co2_c<br>pram_c + gly_c + atp_c <=> pi_c + gar_c + adp_c + h_c<br>atp_c + fpram_c --> air_c + adp_c + 2.0 h_c + pi_c<br>pran_c --> 2cpr5p_c<br>h2o_c + prbamp_c --> prfp_c<br>atp_c + asp_L_c + 5aizc_c <=> adp_c + 25aics_c + h_c + pi_c<br>h2o_c + prbatp_c --> prbamp_c + ppi_c + h_c<br>h2o_c + gln_L_c + fgam_c + atp_c --> glu_L_c + fpram_c + adp_c + h_c + pi_c<br>prfp_c --> prlp_c<br>pro_L_m + nad_m --> nadh_m + 2.0 h_m + 1pyr5c_m<br>atp_c + trnapro_c + pro_L_c --> ppi_c + protrna_c + amp_c<br>pro_L_e + h_e <=> h_c + pro_L_c<br>pro_L_c <=> pro_L_m<br>r5p_c + atp_c <=> h_c + amp_c + prpp_c<br>prpp_c <=> prpp_m<br>pep_c + skm5p_c --> 3psme_c + pi_c<br>h_g + 0.01 ps_SC_g --> co2_g + 0.01 pe_SC_g<br>0.01 ps_SC_m + h_m --> 0.01 pe_SC_m + co2_m<br>h_v + 0.01 ps_SC_v --> co2_v + 0.01 pe_SC_v<br>ser_L_c + 0.01 cdpdag_SC_c <=> cmp_c + 0.01 ps_SC_c + h_c<br>0.01 cdpdag_SC_m + ser_L_m <=> cmp_m + 0.01 ps_SC_m + h_m<br>glu_L_c + 3php_c --> pser_L_c + akg_c<br>psph1p_c --> psph1p_r<br>psph1p_c --> 2hhxdal_c + ethamp_c<br>o2_c + nadph_c + h_c + sphgn_c --> h2o_c + psphings_c + nadp_c<br>pser_L_c + h2o_c --> pi_c + ser_L_c<br>ps_SC_c <=> ps_SC_g<br>ps_SC_c <=> ps_SC_m<br>ps_SC_c <=> ps_SC_v<br>ptd1ino_SC_c <=> ptd1ino_SC_n<br>ptd4ino_SC_c <=> ptd4ino_SC_n<br>dcacoa_x + h2o_x --> h_x + coa_x + dca_x<br>h2o_x + ddcacoa_x --> h_x + coa_x + ddca_x<br>ttccoa_x + h2o_x --> ttc_x + h_x + coa_x<br>h2o_x + pmtcoa_x --> hdca_x + h_x + coa_x<br>h2o_x + tdcoa_x --> coa_x + ttdca_x + h_x<br>stcoa_x + h2o_x --> coa_x + h_x + ocdca_x<br>h2o_x + occoa_x --> coa_x + h_x + octa_x<br>h_c + pan4p_c + atp_c --> ppi_c + dpcoa_c<br>atp_m + h_m + pan4p_m --> dpcoa_m + ppi_m<br>h_c + ptrc_e --> ptrc_c + h_e<br>ptrc_c --> ptrc_e<br>pi_c + adn_c <=> r1p_c + ade_c<br>pi_m + adn_m <=> ade_m + r1p_m<br>pi_c + dad_2_c <=> 2dr1p_c + ade_c<br>gsn_c + pi_c <=> gua_c + r1p_c<br>pi_m + gsn_m <=> gua_m + r1p_m<br>pi_c + dgsn_c <=> 2dr1p_c + gua_c<br>pi_c + ins_c <=> hxan_c + r1p_c<br>pi_c + din_c <=> hxan_c + 2dr1p_c<br>xtsn_c + pi_c <=> r1p_c + xan_c<br>h2o_c + o2_c + pyam5p_c --> h2o2_c + pydx5p_c + nh4_c<br>pydam_c + atp_c --> adp_c + pyam5p_c + h_c<br>pydx_c + atp_c --> h_c + adp_c + pydx5p_c<br>pydxn_c + atp_c --> h_c + adp_c + pdx5p_c<br>o2_c + pydxn_c <=> h2o2_c + pydx_c<br>2.0 h2o_c + 0.5 o2_c + pydx_c + nh4_c <=> 2.0 h2o2_c + pydam_c<br>pep_c + h_c + adp_c --> atp_c + pyr_c<br>pi_c + uri_c <=> r1p_c + ura_c<br>glu5sa_m + h2o_m + nadp_m --> 2.0 h_m + nadph_m + glu_L_m<br>h_c + pyr_c --> acald_c + co2_c<br>h_c + pyr_c + acald_c --> co2_c + actn_R_c<br>pyr_c --> pyr_e<br>pyr_e + h_e --> h_c + pyr_c<br>h_c + pyr_c <=> h_m + pyr_m<br>h_c + pyr_c <=> pyr_x + h_x<br>cmusa_c --> h2o_c + h_c + quln_c<br>dhap_c + iasp_c --> 2.0 h2o_c + quln_c + pi_c<br>quln_c <=> quln_m<br>raffin_c + h2o_c --> sucr_c + gal_c<br>atp_c + ribflv_c --> fmn_c + adp_c + h_c<br>ribflv_m + atp_m --> adp_m + h_m + fmn_m<br>db4p_c + 4r5au_c --> 2.0 h2o_c + dmlz_c + pi_c<br>2.0 dmlz_c --> 4r5au_c + ribflv_c<br>rib_D_c + atp_c --> adp_c + r5p_c + h_c<br>h_e + ribflv_e --> h_c + ribflv_c<br>ribflv_c <=> ribflv_m<br>h_e + rib_D_e --> rib_D_c + h_c<br>adp_c + trdrd_c --> trdox_c + h2o_c + dadp_c<br>adp_n + trdrd_n --> trdox_n + dadp_n + h2o_n<br>gdp_c + trdrd_c --> trdox_c + h2o_c + dgdp_c<br>trdrd_n + gdp_n --> trdox_n + h2o_n + dgdp_n<br>trdrd_c + cdp_c --> trdox_c + h2o_c + dcdp_c<br>trdrd_n + cdp_n --> trdox_n + dcdp_n + h2o_n<br>udp_c + trdrd_c --> trdox_c + h2o_c + dudp_c<br>trdrd_n + udp_n --> trdox_n + dudp_n + h2o_n<br>rnam_c + atp_c --> adp_c + h_c + nmn_c<br>atp_c + trdrd_c --> trdox_c + h2o_c + datp_c<br>trdrd_c + gtp_c --> trdox_c + h2o_c + dgtp_c<br>ctp_c + trdrd_c --> trdox_c + h2o_c + dctp_c<br>utp_c + trdrd_c --> trdox_c + h2o_c + dutp_c<br>ru5p_D_c <=> xu5p_D_c<br>r5p_c <=> ru5p_D_c<br>glu_L_c + L2aadp6sa_c + h_c + nadph_c <=> h2o_c + saccrp_L_c + nadp_c<br>h2o_c + saccrp_L_c + nad_c <=> lys_L_c + nadh_c + akg_c + h_c<br>atp_c + so4_c + h_c --> aps_c + ppi_c<br>amet_c + zymst_c --> ahcys_c + fecost_c + h_c<br>sph1p_r + h2o_r --> pi_r + sphgn_r<br>psph1p_r + h2o_r --> pi_r + psphings_r<br>sbt_D_c + nad_c --> fru_c + h_c + nadh_c<br>sbt_L_c + nad_c --> h_c + srb_L_c + nadh_c<br>h_c + nadph_c + glc_D_c --> sbt_D_c + nadp_c<br>sbt_D_e <=> sbt_D_c<br>sbt_L_e <=> sbt_L_c<br>accoa_c + ser_L_c --> coa_c + acser_c<br>ser_L_c --> pyr_c + nh4_c<br>pmtcoa_c + h_c + ser_L_c --> 3dsphgn_c + co2_c + coa_c<br>atp_c + ser_L_c + trnaser_c --> ppi_c + amp_c + sertrna_c<br>h_c + ser_L_c <=> h_m + ser_L_m<br>h_e + ser_L_e <=> h_c + ser_L_c<br>h2o_c + Sfglutth_c <=> h_c + gthrd_c + for_c<br>dscl_c + nadp_c --> nadph_c + scl_c + h_c<br>fe2_c + scl_c --> 3.0 h_c + sheme_c<br>3dhsk_c + nadph_c + h_c --> skm_c + nadp_c<br>atp_c + skm_c --> h_c + skm5p_c + adp_c<br>suchms_c + cys_L_c --> cyst_L_c + h_c + succ_c<br>h2o_c + suchms_c <=> succ_c + h_c + nh4_c + 2obut_c<br>sphgn_c + atp_c --> h_c + adp_c + sph1p_c<br>psphings_c + atp_c --> h_c + adp_c + psph1p_c<br>adp_c + so4_c + h_c <=> aps_c + pi_c<br>so3_c --> so3_e<br>so4_e --> so4_c<br>sph1p_c --> sph1p_r<br>sph1p_c --> ethamp_c + hxdcal_c<br>spmd_c + accoa_c --> N1aspmd_c + h_c + coa_c<br>h_c + spmd_e --> h_e + spmd_c<br>spmd_c --> spmd_e<br>ptrc_c + ametam_c --> 5mta_c + h_c + spmd_c<br>spmd_c + ametam_c --> 5mta_c + sprm_c + h_c<br>h_c + sprm_e --> sprm_c + h_e<br>Ssq23epx_r <=> Ssq23epx_c<br>h_r + nadph_r + sql_r + o2_r --> Ssq23epx_r + nadp_r + h2o_r<br>h_r + nadh_r + sql_r + o2_r --> Ssq23epx_r + h2o_r + nad_r<br>2.0 frdp_c + h_c + nadph_c --> nadp_c + 2.0 ppi_c + sql_c<br>sql_c <=> sql_r<br>srb_L_e <=> srb_L_c<br>h2o_c + nadp_c + sucsal_c --> nadph_c + 2.0 h_c + succ_c<br>succ_e + h_e <=> h_c + succ_c<br>pi_m + succ_c --> succ_m + pi_c<br>fad_m + succ_m <=> fadh2_m + fum_m<br>q6_m + succ_m <=> fum_m + q6h2_m<br>fadh2_m + q6_m <=> q6h2_m + fad_m<br>succ_c + fum_m --> fum_c + succ_m<br>succ_m + coa_m + atp_m <=> pi_m + succoa_m + adp_m<br>h2o_e + sucr_e --> glc_D_e + fru_e<br>h_e + sucr_e --> sucr_c + h_c<br>3.0 h2o_c + 3.0 nadp_c + h2s_c <=> 5.0 h_c + so3_c + 3.0 nadph_c<br>34hpl_m --> h2o_m + T4hcinnm_m<br>h2o_c + 0.01 triglyc_SC_c --> 0.24 ocdcea_c + 0.27 hdca_c + h_c + 0.01 12dgr_SC_c + 0.06 ddca_c + 0.17 hdcea_c + 0.02 dca_c + 0.1 ttdca_c + 0.09 ocdcya_c + 0.05 ocdca_c<br>g3p_c + s7p_c <=> e4p_c + f6p_c<br>o2_c + akg_c + taur_c --> h_c + so3_c + aacald_c + co2_c + succ_c<br>taur_c <=> taur_e<br>atp_v + tchola_c + h2o_v --> h_v + adp_v + pi_v + tchola_v<br>methf_m + h2o_m --> 5fthf_m + h_m<br>glu_L_c + thf_c + atp_c <=> pi_c + thfglu_c + adp_c + h_c<br>h2o2_c + trdrd_c --> 2.0 h2o_c + trdox_c<br>trdrd_m + h2o2_m <=> 2.0 h2o_m + trdox_m<br>trdrd_n + h2o2_n --> trdox_n + 2.0 h2o_n<br>h2o2_x + trdrd_x <=> trdox_x + 2.0 h2o_x<br>thmpp_e + 2.0 h2o_e --> thm_e + h_e + 2.0 pi_e<br>thymd_e + h_e --> h_c + thymd_c<br>h2o_c + thmmp_c --> pi_c + thm_c<br>thmpp_c --> thmpp_m<br>thmmp_e + h2o_e --> thm_e + pi_e<br>thm_e + h_e --> h_c + thm_c<br>athr_L_c --> acald_c + gly_c<br>thr_L_c --> gly_c + acald_c<br>thr_L_c --> 2obut_c + nh4_c<br>thr_L_m --> 2obut_m + nh4_m<br>h2o_c + phom_c --> pi_c + thr_L_c<br>atp_c + thr_L_c + trnathr_c --> ppi_c + amp_c + thrtrna_c<br>thr_L_m + trnathr_m + atp_m --> amp_m + thrtrna_m + ppi_m<br>thr_L_c + h_c <=> thr_L_m + h_m<br>thr_L_e + h_e <=> h_c + thr_L_c<br>thym_c + h_e <=> h_c + thym_e<br>achms_c + h_c + cys_L_c + gly_c + xu5p_D_c --> 4mpetz_c + 4abut_c + 3.0 h2o_c + pyr_c + nh4_c + ac_c + co2_c<br>achms_c + h_c + cys_L_c + gly_c + r5p_c --> 3.0 h2o_c + 4abut_c + 4mpetz_c + ac_c + nh4_c + co2_c + pyr_c<br>xu5p_D_c + r5p_c <=> g3p_c + s7p_c<br>e4p_c + xu5p_D_c <=> f6p_c + g3p_c<br>thymd_c + atp_c --> dtmp_c + adp_c + h_c<br>atp_c + thm_c --> thmpp_c + amp_c + h_c<br>thymd_c + pi_c <=> 2dr1p_c + thym_c<br>thmpp_c + atp_c --> adp_c + thmtp_c<br>mlthf_c + dump_c --> dhf_c + dtmp_c<br>thm_c + h2o_c --> 4mhetz_c + h_c + 4ahmmp_c<br>thmmp_c + atp_c <=> adp_c + thmpp_c<br>4mpetz_c + 2mahmp_c + h_c --> ppi_c + thmmp_c<br>dhap_c <=> g3p_c<br>trdox_c <=> trdox_x<br>trdox_c + nadph_c + h_c --> trdrd_c + nadp_c<br>trdrd_c <=> trdrd_x<br>h_m + nadph_m + trdox_m --> nadp_m + trdrd_m<br>h2o_c + tre6p_c --> pi_c + tre_c<br>g6p_c + udpg_c --> tre6p_c + udp_c + h_c<br>h2o_c + tre_c --> 2.0 glc_D_c<br>h2o_v + tre_v --> 2.0 glc_D_v<br>tre_e + h_e --> h_c + tre_c<br>h_c + tre_c <=> tre_v + h_v<br>0.01 12dgr_SC_c + 0.02 dcacoa_c + 0.1 tdcoa_c + 0.06 ddcacoa_c + 0.24 odecoa_c + 0.17 hdcoa_c + 0.05 stcoa_c + 0.09 ocdycacoa_c + 0.27 pmtcoa_c --> 0.01 triglyc_SC_c + coa_c<br>o2_c + trp_L_c --> Lfmkynr_c<br>ser_L_c + 3ig3p_c --> h2o_c + g3p_c + trp_L_c<br>trp_L_c + akg_c <=> glu_L_c + indpyr_c<br>atp_c + trnatrp_c + trp_L_c --> trptrna_c + ppi_c + amp_c<br>trp_L_m + trnatrp_m + atp_m --> amp_m + trptrna_m + ppi_m<br>h_c + trp_L_c <=> trp_L_m + h_m<br>trp_L_e + h_e <=> h_c + trp_L_c<br>ttccoa_c <=> ttccoa_x<br>ttdca_e <=> ttdca_c<br>tyr_L_c + 10fthf_c --> thf_c + Nfortyr_c + h_c<br>glu_L_c + 34hpp_c --> tyr_L_c + akg_c<br>glu_L_m + 34hpp_m --> tyr_L_m + akg_m<br>glu_L_x + 34hpp_x --> akg_x + tyr_L_x<br>atp_c + trnatyr_c + tyr_L_c --> ppi_c + tyrtrna_c + amp_c<br>tyr_L_m + trnatyr_m + atp_m --> amp_m + ppi_m + tyrtrna_m<br>h_c + tyr_L_c <=> h_m + tyr_L_m<br>h_c + tyr_L_c <=> tyr_L_x + h_x<br>tyr_L_e + h_e <=> h_c + tyr_L_c<br>tyr_L_c + h_v --> tyr_L_v + h_c<br>h_v + tyr_L_v --> h_c + tyr_L_c<br>acgam1p_c + h_c + utp_c <=> ppi_c + udpacgal_c<br>udpg_c <=> udpgal_c<br>udpgal_c --> udpgal_g<br>gal1p_c + udpg_c <=> udpgal_c + g1p_c<br>h2o_c + urdglyc_c + 2.0 h_c <=> glx_c + co2_c + 2.0 nh4_c<br>atp_c + ump_c <=> adp_c + udp_c<br>ump_n + atp_n <=> udp_n + adp_n<br>ump_c <=> ump_n<br>glu_L_c + 2kmb_c --> akg_c + met_L_c<br>2.0 amet_c + uppg3_c --> 2.0 ahcys_c + dscl_c + h_c<br>hmbil_c --> h2o_c + uppg3_c<br>4.0 h_c + uppg3_c --> 4.0 co2_c + cpppg3_c<br>prpp_c + ura_c --> ppi_c + ump_c<br>ura_e + h_e --> h_c + ura_c<br>urea_e + 2.0 h_e <=> 2.0 h_c + urea_c<br>urea_c + hco3_c + atp_c <=> pi_c + allphn_c + adp_c + h_c<br>dump_c + atp_c <=> dudp_c + adp_c<br>dump_n + atp_n <=> dudp_n + adp_n<br>uri_c + atp_c --> h_c + adp_c + ump_c<br>gtp_c + uri_c --> gdp_c + ump_c + h_c<br>uri_e + h_e --> h_c + uri_c<br>2.0 h2o_c + utp_c --> 2.0 h_c + 2.0 pi_c + ump_c<br>ump_m + utp_c + 2.0 h_c --> ump_c + utp_m + 2.0 h_m<br>val_L_c + akg_c <=> 3mob_c + glu_L_c<br>val_L_m + akg_m --> 3mob_m + glu_L_m<br>trnaval_c + atp_c + val_L_c --> ppi_c + amp_c + valtrna_c<br>val_L_m + trnaval_m + atp_m --> valtrna_m + amp_m + ppi_m<br>h_c + val_L_c <=> h_m + val_L_m<br>val_L_e + h_e <=> h_c + val_L_c<br>xan_e <=> xan_c<br>prpp_c + xan_c --> ppi_c + xmp_c<br>xtsn_e + h_e --> h_c + xtsn_c<br>atp_c + xylu_D_c --> h_c + adp_c + xu5p_D_c<br>h_c + nadph_c + xyl_D_c --> nadp_c + xylt_c<br>nad_c + xylt_c --> h_c + xylu_D_c + nadh_c<br>xylt_e <=> xylt_c<br>xyl_D_e <=> xyl_D_c<br>ura_c + r5p_c <=> h2o_c + psd5p_c<br>0.01 zymst_c + 0.015 tdcoa_c + 0.03 stcoa_c + 0.27 odecoa_c + 0.02 pmtcoa_c + 0.01 hexccoa_c + 0.655 hdcoa_c --> 0.01 zymstest_SC_c + coa_c<br>h2o_c + 0.01 zymstest_SC_c --> 0.27 ocdcea_c + 0.02 hdca_c + 0.01 zymst_c + h_c + 0.01 hexc_c + 0.655 hdcea_c + 0.015 ttdca_c + 0.03 ocdca_c<br>h2o_e + 0.01 zymstest_SC_e --> 0.03 ocdca_e + 0.02 hdca_e + 0.01 zymst_e + 0.27 ocdcea_e + 0.015 ttdca_e + h_e + 0.01 hexc_e + 0.655 hdcea_e<br>zymst_e <=> zymst_c<br>59.276 h2o_c + 0.2862 lys_L_c + 0.3018 glu_L_c + 0.0024 dcmp_c + 0.0066 cys_L_c + 0.2904 gly_c + 0.046 amp_c + 0.0447 cmp_c + 6e-06 pa_SC_c + 6e-05 pc_SC_c + 0.0507 met_L_c + 0.5185 glycogen_c + 0.0015 zymst_c + 1.1348 13BDglcn_c + 0.0036 damp_c + 6.6e-05 triglyc_SC_c + 0.4588 ala_L_c + 0.02 so4_c + 0.1927 ile_L_c + 0.2646 val_L_c + 0.8079 mannan_c + 0.0007 ergst_c + 0.0599 ump_c + 0.1607 arg_L_c + 0.046 gmp_c + 0.102 tyr_L_c + 0.1339 phe_L_c + 0.0036 dtmp_c + 0.2975 asp_L_c + 0.1854 ser_L_c + 0.00099 ribflv_c + 0.1054 gln_L_c + 0.0234 tre_c + 0.1647 pro_L_c + 59.276 atp_c + 0.0284 trp_L_c + 1.7e-05 ps_SC_c + 0.1017 asn_L_c + 0.2964 leu_L_c + 0.0024 dgmp_c + 0.1914 thr_L_c + 0.0663 his_L_c + 5.3e-05 ptd1ino_SC_c + 4.5e-05 pe_SC_c --> 59.305 pi_c + 58.70001 h_c + 59.276 adp_c</div></td>\n",
       "</tr>\n",
       "</table>"
      ],
      "text/plain": [
       "<SolverBasedModel iMM904 at 0x11962bd90>"
      ]
     },
     "execution_count": 21,
     "metadata": {},
     "output_type": "execute_result"
    }
   ],
   "source": [
    "load_model('iMM904')"
   ]
  },
  {
   "cell_type": "markdown",
   "metadata": {},
   "source": [
    "## Strain-design"
   ]
  },
  {
   "cell_type": "markdown",
   "metadata": {},
   "source": [
    "All strain-design methods have been coded as python classes whose instances are either callable or provide `run` methods."
   ]
  },
  {
   "cell_type": "markdown",
   "metadata": {},
   "source": [
    "### Predicting heterologous pathways"
   ]
  },
  {
   "cell_type": "code",
   "execution_count": 2,
   "metadata": {
    "collapsed": false
   },
   "outputs": [],
   "source": [
    "import logging\n",
    "logger = logging.getLogger()\n",
    "logger.setLevel(logging.DEBUG)"
   ]
  },
  {
   "cell_type": "code",
   "execution_count": 3,
   "metadata": {
    "collapsed": false
   },
   "outputs": [],
   "source": [
    "from cameo.strain_design.pathway_prediction import PathwayPredictor"
   ]
  },
  {
   "cell_type": "code",
   "execution_count": 4,
   "metadata": {
    "collapsed": false
   },
   "outputs": [
    {
     "name": "stderr",
     "output_type": "stream",
     "text": [
      "DEBUG:cameo.strain_design.pathway_prediction:Loading default universal model.\n",
      "DEBUG:cameo.strain_design.pathway_prediction:Adding reactions from universal model to host model.\n",
      "DEBUG:cameo.strain_design.pathway_prediction:Adding adapter reactions to connect model with universal model.\n",
      "DEBUG:cameo.strain_design.pathway_prediction:Adding switches.\n",
      "DEBUG:cameo.strain_design.pathway_prediction:Setting minimization of switch variables as objective.\n"
     ]
    }
   ],
   "source": [
    "pathway_predictor = PathwayPredictor(model)"
   ]
  },
  {
   "cell_type": "code",
   "execution_count": 5,
   "metadata": {
    "collapsed": false
   },
   "outputs": [
    {
     "name": "stderr",
     "output_type": "stream",
     "text": [
      "DEBUG:cameo.strain_design.pathway_prediction:Predicting pathway No. 1\n",
      "DEBUG:cameo.strain_design.pathway_prediction:Pathway predicted: 1 H(+) + 1 3-hydroxypropanal + 1 NADPH = 1 propane-1,3-diol + 1 NADP(+)\t1 glycerol = 1 3-hydroxypropanal + 1 H2O\n",
      "DEBUG:cameo.strain_design.pathway_prediction:Adding integer cut.\n",
      "DEBUG:cameo.strain_design.pathway_prediction:Predicting pathway No. 2\n",
      "DEBUG:cameo.strain_design.pathway_prediction:Pathway predicted: 1 H(+) + 1 NADH(2-) + 1 3-hydroxypropanal = 1 propane-1,3-diol + 1 NAD(+)\t1 glycerol = 1 3-hydroxypropanal + 1 H2O\n",
      "DEBUG:cameo.strain_design.pathway_prediction:Adding integer cut.\n",
      "DEBUG:cameo.strain_design.pathway_prediction:Predicting pathway No. 3\n",
      "DEBUG:cameo.core.solver_based_model:No optimal solution found. Turning on presolve.\n",
      "DEBUG:cameo.core.solver_based_model:hey, infeasible, infeasible\n",
      "DEBUG:cameo.strain_design.pathway_prediction:No pathway could be predicted. Terminating pathway predictions.\n"
     ]
    }
   ],
   "source": [
    "predictions = pathway_predictor.run(product='propane-1,3-diol', timeout=60)"
   ]
  },
  {
   "cell_type": "code",
   "execution_count": 14,
   "metadata": {
    "collapsed": false
   },
   "outputs": [
    {
     "data": {
      "text/plain": [
       "{'Description': '1 H(+) + 1 3-hydroxypropanal + 1 NADPH = 1 propane-1,3-diol + 1 NADP(+)',\n",
       " 'EC': '1.1.1'}"
      ]
     },
     "execution_count": 14,
     "metadata": {},
     "output_type": "execute_result"
    }
   ],
   "source": [
    "pathway[0].annotation"
   ]
  },
  {
   "cell_type": "code",
   "execution_count": 17,
   "metadata": {
    "collapsed": false
   },
   "outputs": [
    {
     "name": "stdout",
     "output_type": "stream",
     "text": [
      "################################################################################\n",
      "1 H(+) + 1 3-hydroxypropanal + 1 NADPH = 1 propane-1,3-diol + 1 NADP(+)\n",
      "1 glycerol = 1 3-hydroxypropanal + 1 H2O\n",
      "################################################################################\n",
      "1 H(+) + 1 NADH(2-) + 1 3-hydroxypropanal = 1 propane-1,3-diol + 1 NAD(+)\n",
      "1 glycerol = 1 3-hydroxypropanal + 1 H2O\n"
     ]
    }
   ],
   "source": [
    "for pathway in predictions:\n",
    "    print(80*\"#\")\n",
    "    for reaction in pathway:\n",
    "        try:\n",
    "            print(reaction.annotation['Description'])\n",
    "        except KeyError:\n",
    "            pass"
   ]
  },
  {
   "cell_type": "markdown",
   "metadata": {},
   "source": [
    "### Deterministic methods"
   ]
  },
  {
   "cell_type": "markdown",
   "metadata": {},
   "source": [
    "### Heuristic methods"
   ]
  },
  {
   "cell_type": "markdown",
   "metadata": {},
   "source": [
    "## Best practices"
   ]
  },
  {
   "cell_type": "markdown",
   "metadata": {},
   "source": [
    "### Avoid copies at all costs"
   ]
  },
  {
   "cell_type": "markdown",
   "metadata": {},
   "source": [
    "Copying models is expensive!"
   ]
  },
  {
   "cell_type": "code",
   "execution_count": 16,
   "metadata": {
    "collapsed": false
   },
   "outputs": [
    {
     "name": "stdout",
     "output_type": "stream",
     "text": [
      "CPU times: user 3.17 s, sys: 84.7 ms, total: 3.26 s\n",
      "Wall time: 3.25 s\n"
     ]
    }
   ],
   "source": [
    "%time model_copy = model.copy()"
   ]
  },
  {
   "cell_type": "markdown",
   "metadata": {},
   "source": [
    "To avoid excessive copying of models, we suggest the following utility included in cameo. For example, temporary reaction deletion, solve the model and magically returns to it original state."
   ]
  },
  {
   "cell_type": "code",
   "execution_count": 2,
   "metadata": {
    "collapsed": false
   },
   "outputs": [],
   "source": [
    "from functools import partial\n",
    "from cameo.util import TimeMachine\n",
    "with TimeMachine() as tm:\n",
    "    tm"
   ]
  },
  {
   "cell_type": "markdown",
   "metadata": {},
   "source": [
    "TimeMachine performs `do` steps immediately and stores all corresponding `undo` actions in order. Running all `undo` steps can be achieved with `TimeMachine.reset()` (wich is run)\n",
    "We recommend using `TimeMachine` in conjunction with `with`, as in case of an unforseen exception all `undo` steps will be run and manipulated models will return to their original states. This is more elegant than using explicit `try-except-else-finally` statements."
   ]
  },
  {
   "cell_type": "markdown",
   "metadata": {},
   "source": [
    "### IPython notebook"
   ]
  },
  {
   "cell_type": "markdown",
   "metadata": {},
   "source": [
    "Click [here](http://nbviewer.ipython.org/github/biosustain/cameo/blob/devel/docs/cameo_low_level_interface.ipynb) to download this page as an IPython notebook."
   ]
  }
 ],
 "metadata": {
  "kernelspec": {
   "display_name": "Python 2",
   "language": "python",
   "name": "python2"
  },
  "language_info": {
   "codemirror_mode": {
    "name": "ipython",
    "version": 2
   },
   "file_extension": ".py",
   "mimetype": "text/x-python",
   "name": "python",
   "nbconvert_exporter": "python",
   "pygments_lexer": "ipython2",
   "version": "2.7.9"
  }
 },
 "nbformat": 4,
 "nbformat_minor": 0
}
