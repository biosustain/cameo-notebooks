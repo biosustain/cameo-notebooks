{
 "cells": [
  {
   "cell_type": "code",
   "execution_count": null,
   "metadata": {
    "collapsed": true
   },
   "outputs": [],
   "source": [
    "In order to take advantage of multicore processors and high performance computing clusters, many functions and methods in cameo where implemented in a parallel mode.\n",
    "Methods that can run in parallel mode have a \\emph{view} keyword argument that enables the user to select different parallelization strategies based on a simple API (see documentation ...).\n",
    "This way computations can easily be scaled depending on the available infrastructures.\n",
    "\n",
    "\\begin{minted}{python}\n",
    "\tfrom cameo.parallel import MultiprocessingView\n",
    "    # ...\n",
    "\\end{minted}\n"
   ]
  }
 ],
 "metadata": {
  "anaconda-cloud": {},
  "kernelspec": {
   "display_name": "Python [default]",
   "language": "python",
   "name": "python3"
  },
  "language_info": {
   "codemirror_mode": {
    "name": "ipython",
    "version": 3
   },
   "file_extension": ".py",
   "mimetype": "text/x-python",
   "name": "python",
   "nbconvert_exporter": "python",
   "pygments_lexer": "ipython3",
   "version": "3.5.2"
  }
 },
 "nbformat": 4,
 "nbformat_minor": 0
}
